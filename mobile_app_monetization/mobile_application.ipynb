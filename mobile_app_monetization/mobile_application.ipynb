{
 "cells": [
  {
   "cell_type": "markdown",
   "metadata": {
    "id": "u98L9TgH0eMk"
   },
   "source": [
    "# Разработка A/B-тестирования и анализ результатов\n",
    "\n",
    "Вы работаете продуктовым аналитиком в компании, которая разрабатывает развлекательное приложение с функцией «бесконечной» ленты, как, например, в приложениях с короткими видео. В вашем приложении существует две модели монетизации: первая — ежемесячная платная подписка, которая позволяет пользователям смотреть ленту без рекламы, вторая — демонстрация рекламы для пользователей, которые ещё не оформили подписку.\n",
    "\n",
    "Команда разработчиков рекомендательных систем создала новый алгоритм рекомендаций, который, по их мнению, будет показывать более интересный контент для каждого пользователя. Вас, как аналитика, просят помочь рассчитать параметры A/B-теста, который позволит проверить эту гипотезу, и проанализировать его результаты."
   ]
  },
  {
   "cell_type": "markdown",
   "metadata": {
    "id": "LJBRALHs0eMf"
   },
   "source": [
    "## Описание данных\n",
    "\n",
    "Вы будете работать с тремя таблицами:\n",
    "\n",
    "- `sessions_project_history.csv` — таблица с историческими данными по сессиям пользователей на период с 2025-08-15 по 2025-09-23. Путь к файлу: `/datasets/sessions_project_history.csv`.\n",
    "\n",
    "- `sessions_project_test_part.csv` — таблица с данными за первый день проведения A/B-теста, то есть за 2025-10-14. Путь к файлу: `/datasets/sessions_project_test_part.csv`.\n",
    "\n",
    "- `sessions_project_test.csv` — таблица с данными за весь период проведения A/B-теста, то есть с 2025-10-14 по 2025-11-02. Путь к файлу: `/datasets/sessions_project_test.csv`.\n",
    "\n",
    "У этих таблиц почти совпадает структура и содержание колонок, различаются лишь периоды наблюдения.\n",
    "\n",
    "Поля таблиц `sessions_project_history.csv`, `sessions_project_test.csv`, `sessions_project_test_part.csv`:\n",
    "\n",
    "- `user_id` — идентификатор пользователя;\n",
    "\n",
    "- `session_id` — идентификатор сессии в приложении;\n",
    "\n",
    "- `session_date` — дата сессии;\n",
    "\n",
    "- `session_start_ts` — дата и время начала сессии;\n",
    "\n",
    "- `install_date` — дата установки приложения;\n",
    "\n",
    "- `session_number` — порядковый номер сессии для конкретного пользователя;\n",
    "\n",
    "- `registration_flag` — является ли пользователь зарегистрированным;\n",
    "\n",
    "- `page_counter` — количество просмотренных страниц во время сессии;\n",
    "\n",
    "- `region` — регион пользователя;\n",
    "\n",
    "- `device` — тип устройства пользователя;\n",
    "\n",
    "- `test_group` — тестовая группа (в таблице с историческими данными этого столбца нет).\n",
    "\n",
    "\n",
    "## Что нужно сделать\n",
    "Ваши задачи: рассчитать параметры теста, оценить корректность его проведения и проанализировать результаты эксперимента."
   ]
  },
  {
   "cell_type": "markdown",
   "metadata": {
    "id": "UpOucjID0eMl"
   },
   "source": [
    "### 1. Работа с историческими данными (EDA)"
   ]
  },
  {
   "cell_type": "markdown",
   "metadata": {
    "id": "8iJMtL-30eMl"
   },
   "source": [
    "#### 1.1. Загрузка исторических данных\n",
    "На первом этапе поработайте с историческими данными приложения:\n",
    "\n",
    "- Импортируйте библиотеку pandas.\n",
    "\n",
    "- Считайте и сохраните в датафрейм `sessions_history` CSV-файл с историческими данными о сессиях пользователей `sessions_project_history.csv`.\n",
    "\n",
    "Выведите на экран первые пять строк полученного датафрейма."
   ]
  },
  {
   "cell_type": "code",
   "execution_count": 1,
   "metadata": {
    "hideCode": false,
    "hidePrompt": true,
    "id": "6TPR2-1RPboT"
   },
   "outputs": [
    {
     "data": {
      "text/html": [
       "<div>\n",
       "<style scoped>\n",
       "    .dataframe tbody tr th:only-of-type {\n",
       "        vertical-align: middle;\n",
       "    }\n",
       "\n",
       "    .dataframe tbody tr th {\n",
       "        vertical-align: top;\n",
       "    }\n",
       "\n",
       "    .dataframe thead th {\n",
       "        text-align: right;\n",
       "    }\n",
       "</style>\n",
       "<table border=\"1\" class=\"dataframe\">\n",
       "  <thead>\n",
       "    <tr style=\"text-align: right;\">\n",
       "      <th></th>\n",
       "      <th>user_id</th>\n",
       "      <th>session_id</th>\n",
       "      <th>session_date</th>\n",
       "      <th>session_start_ts</th>\n",
       "      <th>install_date</th>\n",
       "      <th>session_number</th>\n",
       "      <th>registration_flag</th>\n",
       "      <th>page_counter</th>\n",
       "      <th>region</th>\n",
       "      <th>device</th>\n",
       "    </tr>\n",
       "  </thead>\n",
       "  <tbody>\n",
       "    <tr>\n",
       "      <th>0</th>\n",
       "      <td>E302123B7000BFE4</td>\n",
       "      <td>F9AF61A0C2023832</td>\n",
       "      <td>2025-08-15</td>\n",
       "      <td>2025-08-15 17:47:35</td>\n",
       "      <td>2025-08-15</td>\n",
       "      <td>1</td>\n",
       "      <td>0</td>\n",
       "      <td>3</td>\n",
       "      <td>CIS</td>\n",
       "      <td>iPhone</td>\n",
       "    </tr>\n",
       "    <tr>\n",
       "      <th>1</th>\n",
       "      <td>2530F72E221829FB</td>\n",
       "      <td>85003A206CBDAC6F</td>\n",
       "      <td>2025-08-15</td>\n",
       "      <td>2025-08-15 16:42:14</td>\n",
       "      <td>2025-08-15</td>\n",
       "      <td>1</td>\n",
       "      <td>0</td>\n",
       "      <td>4</td>\n",
       "      <td>MENA</td>\n",
       "      <td>Android</td>\n",
       "    </tr>\n",
       "    <tr>\n",
       "      <th>2</th>\n",
       "      <td>876E020A4FC512F5</td>\n",
       "      <td>3677423E49D72DEE</td>\n",
       "      <td>2025-08-15</td>\n",
       "      <td>2025-08-15 12:30:00</td>\n",
       "      <td>2025-08-15</td>\n",
       "      <td>1</td>\n",
       "      <td>0</td>\n",
       "      <td>4</td>\n",
       "      <td>EU</td>\n",
       "      <td>PC</td>\n",
       "    </tr>\n",
       "    <tr>\n",
       "      <th>3</th>\n",
       "      <td>2640B349E1D81584</td>\n",
       "      <td>956B45F5915CA225</td>\n",
       "      <td>2025-08-15</td>\n",
       "      <td>2025-08-15 15:31:31</td>\n",
       "      <td>2025-08-15</td>\n",
       "      <td>1</td>\n",
       "      <td>0</td>\n",
       "      <td>4</td>\n",
       "      <td>CIS</td>\n",
       "      <td>Android</td>\n",
       "    </tr>\n",
       "    <tr>\n",
       "      <th>4</th>\n",
       "      <td>94E1CBFAEF1F5EE9</td>\n",
       "      <td>83BF0DA35F9F1F40</td>\n",
       "      <td>2025-08-15</td>\n",
       "      <td>2025-08-15 21:33:53</td>\n",
       "      <td>2025-08-15</td>\n",
       "      <td>1</td>\n",
       "      <td>0</td>\n",
       "      <td>3</td>\n",
       "      <td>CIS</td>\n",
       "      <td>Android</td>\n",
       "    </tr>\n",
       "  </tbody>\n",
       "</table>\n",
       "</div>"
      ],
      "text/plain": [
       "            user_id        session_id session_date     session_start_ts  \\\n",
       "0  E302123B7000BFE4  F9AF61A0C2023832   2025-08-15  2025-08-15 17:47:35   \n",
       "1  2530F72E221829FB  85003A206CBDAC6F   2025-08-15  2025-08-15 16:42:14   \n",
       "2  876E020A4FC512F5  3677423E49D72DEE   2025-08-15  2025-08-15 12:30:00   \n",
       "3  2640B349E1D81584  956B45F5915CA225   2025-08-15  2025-08-15 15:31:31   \n",
       "4  94E1CBFAEF1F5EE9  83BF0DA35F9F1F40   2025-08-15  2025-08-15 21:33:53   \n",
       "\n",
       "  install_date  session_number  registration_flag  page_counter region  \\\n",
       "0   2025-08-15               1                  0             3    CIS   \n",
       "1   2025-08-15               1                  0             4   MENA   \n",
       "2   2025-08-15               1                  0             4     EU   \n",
       "3   2025-08-15               1                  0             4    CIS   \n",
       "4   2025-08-15               1                  0             3    CIS   \n",
       "\n",
       "    device  \n",
       "0   iPhone  \n",
       "1  Android  \n",
       "2       PC  \n",
       "3  Android  \n",
       "4  Android  "
      ]
     },
     "execution_count": 1,
     "metadata": {},
     "output_type": "execute_result"
    }
   ],
   "source": [
    "import pandas as pd \n",
    "import matplotlib.pyplot as plt\n",
    "import seaborn as sns\n",
    "from scipy.stats import ttest_ind\n",
    "from statsmodels.stats.proportion import proportions_ztest\n",
    "sessions_history = pd.read_csv('https://code.s3.yandex.net//datasets/sessions_project_history.csv') \n",
    "sessions_history.head(5)"
   ]
  },
  {
   "cell_type": "markdown",
   "metadata": {
    "hidePrompt": false,
    "id": "qTDoiODz0eMo"
   },
   "source": [
    "#### 1.2. Знакомство с данными\n",
    "- Для каждого уникального пользователя `user_id` рассчитайте количество уникальных сессий `session_id`.\n",
    "\n",
    "- Выведите на экран все данные из таблицы `sessions_history` для одного пользователя с наибольшим количеством сессий. Если таких пользователей несколько, выберите любого из них.\n",
    "\n",
    "- Изучите таблицу для одного пользователя, чтобы лучше понять логику формирования каждого столбца данных.\n",
    "\n"
   ]
  },
  {
   "cell_type": "code",
   "execution_count": 2,
   "metadata": {
    "hideCode": true,
    "hidePrompt": true,
    "id": "PWZO9vTIPbPN"
   },
   "outputs": [
    {
     "name": "stdout",
     "output_type": "stream",
     "text": [
      "                 user_id        session_id session_date     session_start_ts  \\\n",
      "115558  10E0DEFC1ABDBBE0  B8F0423BBFFCF5DC   2025-08-14  2025-08-14 13:57:39   \n",
      "191751  10E0DEFC1ABDBBE0  87CA2FA549473837   2025-08-15  2025-08-15 16:42:10   \n",
      "239370  10E0DEFC1ABDBBE0  4ADD8011DCDCE318   2025-08-16  2025-08-16 19:53:21   \n",
      "274629  10E0DEFC1ABDBBE0  DF0FD0E09BF1F3D7   2025-08-17  2025-08-17 15:03:43   \n",
      "302501  10E0DEFC1ABDBBE0  3C221774B4DE6885   2025-08-18  2025-08-18 17:29:14   \n",
      "325557  10E0DEFC1ABDBBE0  031BD7A67048105B   2025-08-19  2025-08-19 13:23:55   \n",
      "345336  10E0DEFC1ABDBBE0  FF4315CF4AD4B100   2025-08-20  2025-08-20 19:31:54   \n",
      "377532  10E0DEFC1ABDBBE0  4045FEA0747203B4   2025-08-22  2025-08-22 17:54:13   \n",
      "403538  10E0DEFC1ABDBBE0  344B086C421C7F37   2025-08-24  2025-08-24 14:46:13   \n",
      "414743  10E0DEFC1ABDBBE0  054F20BA371E4C9D   2025-08-25  2025-08-25 18:36:41   \n",
      "\n",
      "       install_date  session_number  registration_flag  page_counter region  \\\n",
      "115558   2025-08-14               1                  0             4    CIS   \n",
      "191751   2025-08-14               2                  0             3    CIS   \n",
      "239370   2025-08-14               3                  0             3    CIS   \n",
      "274629   2025-08-14               4                  0             1    CIS   \n",
      "302501   2025-08-14               5                  0             4    CIS   \n",
      "325557   2025-08-14               6                  0             2    CIS   \n",
      "345336   2025-08-14               7                  0             2    CIS   \n",
      "377532   2025-08-14               8                  0             2    CIS   \n",
      "403538   2025-08-14               9                  0             2    CIS   \n",
      "414743   2025-08-14              10                  0             3    CIS   \n",
      "\n",
      "         device  \n",
      "115558  Android  \n",
      "191751  Android  \n",
      "239370  Android  \n",
      "274629  Android  \n",
      "302501  Android  \n",
      "325557  Android  \n",
      "345336  Android  \n",
      "377532  Android  \n",
      "403538  Android  \n",
      "414743  Android  \n"
     ]
    }
   ],
   "source": [
    "user_sessions_count = sessions_history.groupby('user_id')['session_id'].nunique()\n",
    "max_sessions_user = user_sessions_count.idxmax()\n",
    "user_data = sessions_history[sessions_history['user_id'] == max_sessions_user]\n",
    "print(user_data)"
   ]
  },
  {
   "cell_type": "markdown",
   "metadata": {
    "id": "CmcGpJTP0eMq"
   },
   "source": [
    "#### 1.3. Анализ числа регистраций\n",
    "Одна из важнейших метрик продукта — число зарегистрированных пользователей. Используя исторические данные, визуализируйте, как менялось число регистраций в приложении за время его существования.\n",
    "\n",
    "- Агрегируйте исторические данные и рассчитайте число уникальных пользователей и число зарегистрированных пользователей для каждого дня наблюдения. Для простоты считайте, что у пользователя в течение дня бывает одна сессия максимум и статус регистрации в течение одного дня не может измениться.\n",
    "\n",
    "- Постройте линейные графики общего числа пользователей и общего числа зарегистрированных пользователей по дням. Отобразите их на одном графике.\n",
    "\n",
    "- Постройте отдельный линейный график доли зарегистрированных пользователей от всех пользователей по дням.\n",
    "\n",
    "- На обоих графиках должны быть заголовок, подписанные оси X и Y, сетка и легенда."
   ]
  },
  {
   "cell_type": "code",
   "execution_count": 3,
   "metadata": {
    "hideCode": true,
    "hidePrompt": true,
    "id": "tN_6Ml3EPatS"
   },
   "outputs": [
    {
     "data": {
      "image/png": "[encoded data removed]",
      "text/plain": [
       "<Figure size 1200x600 with 1 Axes>"
      ]
     },
     "metadata": {},
     "output_type": "display_data"
    },
    {
     "data": {
      "image/png": "[encoded data removed]",
      "text/plain": [
       "<Figure size 1200x500 with 1 Axes>"
      ]
     },
     "metadata": {},
     "output_type": "display_data"
    }
   ],
   "source": [
    "registrations_by_date = sessions_history.groupby('session_date').agg(\n",
    "    total_users=('user_id', 'nunique'),\n",
    "    registered_users=('registration_flag', 'sum')\n",
    ").reset_index()\n",
    "\n",
    "registrations_by_date['registration_rate'] = registrations_by_date['registered_users'] / registrations_by_date['total_users']\n",
    "plt.figure(figsize=(12, 6))\n",
    "plt.plot(registrations_by_date['session_date'], registrations_by_date['total_users'], label='Всего пользователей')\n",
    "plt.plot(registrations_by_date['session_date'], registrations_by_date['registered_users'], label='Зарегистрированные пользователи')\n",
    "plt.xlabel('Дата')\n",
    "plt.ylabel('Количество пользователей')\n",
    "plt.title('Динамика числа пользователей и регистраций')\n",
    "plt.legend()\n",
    "plt.xticks(rotation = 90)\n",
    "plt.grid()\n",
    "plt.show()\n",
    "\n",
    "plt.figure(figsize=(12, 5))\n",
    "plt.plot(registrations_by_date['session_date'], registrations_by_date['registration_rate'], label='Доля зарегистрированных пользователей')\n",
    "plt.xlabel('Дата')\n",
    "plt.ylabel('Доля регистраций')\n",
    "plt.title('Динамика доли зарегистрированных пользователей')\n",
    "plt.legend()\n",
    "plt.xticks(rotation = 90)\n",
    "plt.grid()\n",
    "plt.show()"
   ]
  },
  {
   "cell_type": "markdown",
   "metadata": {
    "id": "UR7D7RhF0eMr"
   },
   "source": [
    "#### 1.4. Анализ числа просмотренных страниц\n",
    "Другая важная метрика продукта — число просмотренных страниц в приложении. Чем больше страниц просмотрено, тем сильнее пользователь увлечён контентом, а значит, выше шансы на то, что он зарегистрируется и оплатит подписку.\n",
    "\n",
    "- Найдите количество сессий для каждого значения количества просмотренных страниц. Например: одну страницу просмотрели в 29160 сессиях, две страницы в 105536 сессиях и так далее.\n",
    "\n",
    "- Постройте столбчатую диаграмму, где по оси X будет число просмотренных страниц, по оси Y — количество сессий.\n",
    "\n",
    "- На диаграмме должны быть заголовок, подписанные оси X и Y."
   ]
  },
  {
   "cell_type": "code",
   "execution_count": 4,
   "metadata": {
    "hideCode": true,
    "hidePrompt": true,
    "id": "cb6hPlVzPaSf"
   },
   "outputs": [
    {
     "data": {
      "image/png": "[encoded data removed]",
      "text/plain": [
       "<Figure size 1200x500 with 1 Axes>"
      ]
     },
     "metadata": {},
     "output_type": "display_data"
    }
   ],
   "source": [
    "page_views_count = sessions_history.groupby('page_counter')['session_id'].count().reset_index()\n",
    "\n",
    "plt.figure(figsize=(12, 5))\n",
    "plt.bar(page_views_count['page_counter'], page_views_count['session_id'])\n",
    "plt.xlabel('Число просмотренных страниц')\n",
    "plt.ylabel('Количество сессий')\n",
    "plt.title('Распределение количества просмотренных страниц по сессиям')\n",
    "plt.show()"
   ]
  },
  {
   "cell_type": "markdown",
   "metadata": {
    "id": "xDltSpVP0eMr"
   },
   "source": [
    "#### 1.5. Доля пользователей, просмотревших более четырёх страниц\n",
    "Продуктовая команда продукта считает, что сессии, в рамках которых пользователь просмотрел 4 и более страниц, говорят об удовлетворённости контентом и алгоритмами рекомендаций. Этот показатель является важной прокси-метрикой для продукта.\n",
    "\n",
    "- В датафрейме `sessions_history` создайте дополнительный столбец `good_session`. В него войдёт значение `1`, если за одну сессию было просмотрено 4 и более страниц, и значение `0`, если было просмотрено меньше.\n",
    "\n",
    "- Постройте график со средним значением доли успешных сессий ко всем сессиям по дням за весь период наблюдения."
   ]
  },
  {
   "cell_type": "code",
   "execution_count": 5,
   "metadata": {
    "hideCode": true,
    "hidePrompt": true,
    "id": "iygaPfixPYMW"
   },
   "outputs": [
    {
     "data": {
      "image/png": "[encoded data removed]",
      "text/plain": [
       "<Figure size 1200x500 with 1 Axes>"
      ]
     },
     "metadata": {},
     "output_type": "display_data"
    }
   ],
   "source": [
    "def mark_good_session(page_count):\n",
    "    return 1 if page_count >= 4 else 0\n",
    "\n",
    "sessions_history['good_session'] = sessions_history['page_counter'].apply(mark_good_session)\n",
    "successful_sessions_by_date = sessions_history.groupby('session_date')['good_session'].mean().reset_index()\n",
    "\n",
    "plt.figure(figsize=(12, 5))\n",
    "plt.plot(successful_sessions_by_date['session_date'], successful_sessions_by_date['good_session'], label='Доля успешных сессий')\n",
    "plt.xlabel('Дата')\n",
    "plt.ylabel('Доля успешных сессий')\n",
    "plt.title('Динамика доли успешных сессий')\n",
    "plt.legend()\n",
    "plt.grid()\n",
    "plt.xticks(rotation = 90)\n",
    "plt.show()"
   ]
  },
  {
   "cell_type": "markdown",
   "metadata": {
    "id": "21JcG77Y0eMt"
   },
   "source": [
    "### 2. Подготовка к тесту\n",
    "При планировании теста необходимо проделать несколько важных шагов:\n",
    "\n",
    "- Определиться с целевой метрикой.\n",
    "\n",
    "- Рассчитать необходимый размер выборки.\n",
    "\n",
    "- Исходя из текущих значений трафика, рассчитать необходимую длительность проведения теста."
   ]
  },
  {
   "cell_type": "markdown",
   "metadata": {
    "id": "uzaeln270eMt"
   },
   "source": [
    "#### 2.1. Расчёт размера выборки\n",
    "В рамках курса вам уже приходилось рассчитывать размеры выборки, используя онлайн-калькуляторы. В этом задании предлагаем воспользоваться готовым кодом и рассчитать необходимое для вашего дизайна эксперимента количество пользователей.\n",
    "\n",
    "Для этого установите в коде ниже следующие параметры:\n",
    "\n",
    "- Уровень значимости — 0.05.\n",
    "\n",
    "- Вероятность ошибки второго рода — 0.2.\n",
    "\n",
    "- Мощность теста.\n",
    "\n",
    "- Минимальный детектируемый эффект, или MDE, — 3%. Обратите внимание, что здесь нужно указать десятичную дробь, а не процент.\n",
    "\n",
    "При расчёте размера выборки мы будем использовать метод `solve_power()` из класса `power.NormalIndPower` модуля `statsmodels.stats`.\n",
    "\n",
    "Запустите ячейку и изучите полученное значение."
   ]
  },
  {
   "cell_type": "code",
   "execution_count": 6,
   "metadata": {
    "hideCode": true,
    "hidePrompt": true,
    "id": "zSxJyPGPNdaI"
   },
   "outputs": [
    {
     "name": "stdout",
     "output_type": "stream",
     "text": [
      "Необходимый размер выборки для каждой группы: 17441\n"
     ]
    }
   ],
   "source": [
    "from statsmodels.stats.power import NormalIndPower\n",
    "\n",
    "# Задаём параметры\n",
    "alpha = 0.05  # Уровень значимости\n",
    "beta = 0.2  # Ошибка второго рода, часто 1 - мощность\n",
    "power = 1 - beta  # Мощность теста\n",
    "mde = 0.03  # Минимальный детектируемый эффект\n",
    "\n",
    "# Инициализируем класс NormalIndPower\n",
    "power_analysis = NormalIndPower()\n",
    "\n",
    "# Рассчитываем размер выборки\n",
    "sample_size = power_analysis.solve_power(\n",
    "    effect_size = mde,\n",
    "    power = power,\n",
    "    alpha = alpha,\n",
    "    ratio = 1 # Равномерное распределение выборок\n",
    ")\n",
    "\n",
    "print(f\"Необходимый размер выборки для каждой группы: {int(sample_size)}\")"
   ]
  },
  {
   "cell_type": "markdown",
   "metadata": {
    "id": "qLEv4RoV0eMu"
   },
   "source": [
    "#### 2.1. Расчёт длительности A/B-теста\n",
    "\n",
    "Используйте данные о количестве пользователей в каждой выборке и среднем количестве пользователей приложения. Рассчитайте длительность теста, разделив одно на другое.\n",
    "\n",
    "- Рассчитайте среднее количество уникальных пользователей приложения в день.\n",
    "\n",
    "- Определите длительность теста, исходя из рассчитанного значения размера выборок и среднего дневного трафика приложения. Количество дней округлите в большую сторону."
   ]
  },
  {
   "cell_type": "code",
   "execution_count": 7,
   "metadata": {
    "hideCode": true,
    "hidePrompt": true,
    "id": "KZDRbryDOGHa"
   },
   "outputs": [
    {
     "name": "stdout",
     "output_type": "stream",
     "text": [
      "Рассчитанная длительность A/B-теста при текущем уровене трафика в 9908 пользователей в день составит 4 дней\n"
     ]
    }
   ],
   "source": [
    "from math import ceil\n",
    "\n",
    "# Среднее количество пользователей приложения в день по историческим данным\n",
    "avg_daily_users = ceil(sessions_history.groupby('session_date')['user_id'].nunique().mean())\n",
    "\n",
    "# Рассчитываем длительность теста в днях как отношение размера выборки к среднему числу пользователей\n",
    "test_duration = ceil(sample_size*2 / avg_daily_users)\n",
    "\n",
    "print(f\"Рассчитанная длительность A/B-теста при текущем уровене трафика в {avg_daily_users} пользователей в день составит {test_duration} дней\")"
   ]
  },
  {
   "cell_type": "markdown",
   "metadata": {
    "id": "ZuvtAdha0eMv"
   },
   "source": [
    "### 3. Мониторинг А/В-теста"
   ]
  },
  {
   "cell_type": "markdown",
   "metadata": {
    "id": "jq5sE3Ya0eMv"
   },
   "source": [
    "#### 3.1. Проверка распределения пользователей\n",
    "\n",
    "A/B-тест успешно запущен, и уже доступны данные за первые три дня. На этом этапе нужно убедиться, что всё идёт хорошо: пользователи разделены правильным образом, а интересующие вас метрики корректно считаются.\n",
    "\n",
    "- Считайте и сохраните в датафрейм `sessions_test_part` CSV-файл с историческими данными о сессиях пользователей `sessions_project_test_part.csv`.\n",
    "\n",
    "- Рассчитайте количество уникальных пользователей в каждой из экспериментальных групп для одного дня наблюдения.\n",
    "\n",
    "- Рассчитайте и выведите на экран процентную разницу в количестве пользователей в группах A и B. Постройте любую удобную визуализацию, на которой можно было бы увидеть возможное различие двух групп.\n",
    "\n",
    "Для расчёта процентной разницы воспользуйтесь формулой:\n",
    "$$P = 100 \\cdot  \\frac{|A − B|}{A}$$"
   ]
  },
  {
   "cell_type": "code",
   "execution_count": 8,
   "metadata": {
    "hideCode": true,
    "hidePrompt": true,
    "id": "G1bqIzDJOUiz"
   },
   "outputs": [
    {
     "data": {
      "image/png": "[encoded data removed]",
      "text/plain": [
       "<Figure size 640x480 with 1 Axes>"
      ]
     },
     "metadata": {},
     "output_type": "display_data"
    },
    {
     "name": "stdout",
     "output_type": "stream",
     "text": [
      "Количество пользователей: A = 1477, B = 1466\n",
      "Процентная разница: 0.74%\n"
     ]
    }
   ],
   "source": [
    "sessions_test_part = pd.read_csv('https://code.s3.yandex.net//datasets/sessions_project_test_part.csv') \n",
    "user_counts = sessions_test_part.groupby('test_group')['user_id'].nunique()\n",
    "percent_diff = 100 * abs(user_counts['A'] - user_counts['B']) / user_counts['A']\n",
    "sns.barplot(x=user_counts.index, y=user_counts.values)\n",
    "plt.xlabel(\"Группа\")\n",
    "plt.ylabel(\"Количество пользователей\")\n",
    "plt.title(\"Распределение пользователей по группам\")\n",
    "plt.show()\n",
    "print(f\"Количество пользователей: A = {user_counts['A']}, B = {user_counts['B']}\")\n",
    "print(f\"Процентная разница: {percent_diff:.2f}%\")"
   ]
  },
  {
   "cell_type": "markdown",
   "metadata": {
    "id": "sgpNY5bv0eM0"
   },
   "source": [
    "#### 3.2. Проверка пересечений пользователей\n",
    "Помимо проверки равенства количества пользователей в группах полезно убедиться в том, что группы независимы. Для этого нужно убедиться, что никто из пользователей случайно не попал в обе группы одновременно.\n",
    "\n",
    "- Рассчитайте количество пользователей, которые встречаются одновременно в группах A и B, или убедитесь, что таких нет."
   ]
  },
  {
   "cell_type": "code",
   "execution_count": 9,
   "metadata": {
    "hideCode": true,
    "hidePrompt": true,
    "id": "E72ozN9FOX1u"
   },
   "outputs": [
    {
     "name": "stdout",
     "output_type": "stream",
     "text": [
      "Число пользователей в обеих группах: 0\n"
     ]
    }
   ],
   "source": [
    "users_in_both = sessions_test_part.groupby('user_id')['test_group'].nunique()\n",
    "overlapping_users = (users_in_both > 1).sum()\n",
    "print(f\"Число пользователей в обеих группах: {overlapping_users}\")"
   ]
  },
  {
   "cell_type": "markdown",
   "metadata": {
    "id": "6RvkNLrg0eM1"
   },
   "source": [
    "#### 3.3. Равномерность разделения пользователей по устройствам\n",
    "Полезно также убедиться в том, что пользователи равномерно распределены по всем доступным категориальным переменным — типам устройства и регионам.\n",
    "\n",
    "Постройте две диаграммы:\n",
    "\n",
    "- доля каждого типа устройства для пользователей из группы A,\n",
    "\n",
    "- доля каждого типа устройства для пользователей из группы B.\n",
    "\n",
    "Постарайтесь добавить на диаграммы все необходимые подписи, пояснения и заголовки, которые позволят сделать вывод о том, совпадает ли распределение устройств в группах A и B.\n"
   ]
  },
  {
   "cell_type": "code",
   "execution_count": 10,
   "metadata": {
    "hideCode": true,
    "hidePrompt": true,
    "id": "x_IP6PUNPWHC"
   },
   "outputs": [
    {
     "data": {
      "image/png": "[encoded data removed]",
      "text/plain": [
       "<Figure size 640x480 with 1 Axes>"
      ]
     },
     "metadata": {},
     "output_type": "display_data"
    },
    {
     "data": {
      "text/html": [
       "<div>\n",
       "<style scoped>\n",
       "    .dataframe tbody tr th:only-of-type {\n",
       "        vertical-align: middle;\n",
       "    }\n",
       "\n",
       "    .dataframe tbody tr th {\n",
       "        vertical-align: top;\n",
       "    }\n",
       "\n",
       "    .dataframe thead th {\n",
       "        text-align: right;\n",
       "    }\n",
       "</style>\n",
       "<table border=\"1\" class=\"dataframe\">\n",
       "  <thead>\n",
       "    <tr style=\"text-align: right;\">\n",
       "      <th>device</th>\n",
       "      <th>Android</th>\n",
       "      <th>Mac</th>\n",
       "      <th>PC</th>\n",
       "      <th>iPhone</th>\n",
       "    </tr>\n",
       "    <tr>\n",
       "      <th>test_group</th>\n",
       "      <th></th>\n",
       "      <th></th>\n",
       "      <th></th>\n",
       "      <th></th>\n",
       "    </tr>\n",
       "  </thead>\n",
       "  <tbody>\n",
       "    <tr>\n",
       "      <th>A</th>\n",
       "      <td>0.444144</td>\n",
       "      <td>0.105619</td>\n",
       "      <td>0.249831</td>\n",
       "      <td>0.200406</td>\n",
       "    </tr>\n",
       "    <tr>\n",
       "      <th>B</th>\n",
       "      <td>0.455662</td>\n",
       "      <td>0.100955</td>\n",
       "      <td>0.259891</td>\n",
       "      <td>0.183492</td>\n",
       "    </tr>\n",
       "  </tbody>\n",
       "</table>\n",
       "</div>"
      ],
      "text/plain": [
       "device       Android       Mac        PC    iPhone\n",
       "test_group                                        \n",
       "A           0.444144  0.105619  0.249831  0.200406\n",
       "B           0.455662  0.100955  0.259891  0.183492"
      ]
     },
     "metadata": {},
     "output_type": "display_data"
    }
   ],
   "source": [
    "device_counts = sessions_test_part.groupby(['test_group', 'device'])['user_id'].nunique().unstack()\n",
    "device_counts = device_counts.div(device_counts.sum(axis=1), axis=0)\n",
    "device_counts.plot(kind='bar')\n",
    "plt.title(\"Распределение пользователей по устройствам\")\n",
    "plt.xlabel(\"Группа\")\n",
    "plt.ylabel(\"Количество пользователей\")\n",
    "plt.xticks(rotation=0)\n",
    "plt.show()\n",
    "display(device_counts)"
   ]
  },
  {
   "cell_type": "markdown",
   "metadata": {
    "id": "gAgmP6vo0eM1"
   },
   "source": [
    "#### 3.4. Равномерность распределения пользователей по регионам\n",
    "Теперь убедитесь, что пользователи равномерно распределены по регионам.\n",
    "\n",
    "Постройте две диаграммы:\n",
    "\n",
    "- доля каждого региона для пользователей из группы A,\n",
    "\n",
    "- доля каждого региона для пользователей из группы B.\n",
    "\n",
    "Постарайтесь добавить на диаграммы все необходимые подписи, пояснения и заголовки, которые позволят сделать вывод о том, совпадает ли распределение регионов в группах A и B. Постарайтесь использовать другой тип диаграммы, не тот, что в прошлом задании.\n"
   ]
  },
  {
   "cell_type": "code",
   "execution_count": 11,
   "metadata": {
    "hideCode": true,
    "hidePrompt": true,
    "id": "3hAq-FG4OdYM"
   },
   "outputs": [
    {
     "data": {
      "image/png": "[encoded data removed]",
      "text/plain": [
       "<Figure size 640x480 with 1 Axes>"
      ]
     },
     "metadata": {},
     "output_type": "display_data"
    },
    {
     "data": {
      "text/html": [
       "<div>\n",
       "<style scoped>\n",
       "    .dataframe tbody tr th:only-of-type {\n",
       "        vertical-align: middle;\n",
       "    }\n",
       "\n",
       "    .dataframe tbody tr th {\n",
       "        vertical-align: top;\n",
       "    }\n",
       "\n",
       "    .dataframe thead th {\n",
       "        text-align: right;\n",
       "    }\n",
       "</style>\n",
       "<table border=\"1\" class=\"dataframe\">\n",
       "  <thead>\n",
       "    <tr style=\"text-align: right;\">\n",
       "      <th>region</th>\n",
       "      <th>CIS</th>\n",
       "      <th>EU</th>\n",
       "      <th>MENA</th>\n",
       "    </tr>\n",
       "    <tr>\n",
       "      <th>test_group</th>\n",
       "      <th></th>\n",
       "      <th></th>\n",
       "      <th></th>\n",
       "    </tr>\n",
       "  </thead>\n",
       "  <tbody>\n",
       "    <tr>\n",
       "      <th>A</th>\n",
       "      <td>0.436019</td>\n",
       "      <td>0.151659</td>\n",
       "      <td>0.412322</td>\n",
       "    </tr>\n",
       "    <tr>\n",
       "      <th>B</th>\n",
       "      <td>0.439973</td>\n",
       "      <td>0.148022</td>\n",
       "      <td>0.412005</td>\n",
       "    </tr>\n",
       "  </tbody>\n",
       "</table>\n",
       "</div>"
      ],
      "text/plain": [
       "region           CIS        EU      MENA\n",
       "test_group                              \n",
       "A           0.436019  0.151659  0.412322\n",
       "B           0.439973  0.148022  0.412005"
      ]
     },
     "metadata": {},
     "output_type": "display_data"
    }
   ],
   "source": [
    "region_counts = sessions_test_part.groupby(['test_group', 'region'])['user_id'].nunique().unstack()\n",
    "region_counts = region_counts.div(region_counts.sum(axis=1), axis=0)\n",
    "region_counts.plot(kind='bar')\n",
    "plt.title(\"Распределение пользователей по регионам\")\n",
    "plt.xlabel(\"Группа\")\n",
    "plt.ylabel(\"Количество пользователей\")\n",
    "plt.xticks(rotation=0)\n",
    "plt.show()\n",
    "display(region_counts)"
   ]
  },
  {
   "cell_type": "markdown",
   "metadata": {
    "id": "X2WSZ-sDrSUi"
   },
   "source": [
    "#### 3.5. Вывод после проверки A/B-теста\n",
    "\n",
    "На основе проведённого анализа A/B-теста сформулируйте и запишите свои выводы. В выводе обязательно укажите:\n",
    "\n",
    "- Были ли обнаружено различие в количестве пользователей в двух группах.\n",
    "\n",
    "- Являются ли выборки независимыми. Было ли обнаружено пересечение пользователей из тестовой и контрольной групп.\n",
    "\n",
    "- Сохраняется ли равномерное распределение пользователей тестовой и контрольной групп по категориальным переменным: устройствам и регионам.\n",
    "\n",
    "Сделайте заключение о том, корректно ли проходит A/B-тест или наблюдаются какие-либо нарушения."
   ]
  },
  {
   "cell_type": "markdown",
   "metadata": {
    "id": "dDELHlAcOi8d"
   },
   "source": [
    "***Распределение пользователей между группами корректное, разница в количестве менее 1%. Выборки независимы, так как отсутствуют пересечения пользователей. Распределение по устройствам и регионам равномерное, значительных перекосов нет. A/B-тест проходит корректно, и можно переходить к анализу ключевых метрик.***"
   ]
  },
  {
   "cell_type": "markdown",
   "metadata": {
    "id": "nudRr_BQ0eM2"
   },
   "source": [
    "### 4. Проверка результатов A/B-теста\n",
    "\n",
    "A/B-тест завершён, и у вас есть результаты за все дни проведения эксперимента. Необходимо убедиться в корректности теста и верно интерпретировать результаты."
   ]
  },
  {
   "cell_type": "markdown",
   "metadata": {
    "id": "JVve-YBB0eM2"
   },
   "source": [
    "#### 4.1. Получение результатов теста и подсчёт основной метрики\n",
    "\n",
    "- Считайте и сохраните в датафрейм `sessions_test` CSV-файл с историческими данными о сессиях пользователей `sessions_project_test.csv`.\n",
    "\n",
    "- В датафрейме `sessions_test` создайте дополнительный столбец `good_session`. В него войдёт значение `1`, если за одну сессию было просмотрено 4 и более страниц, и значение `0`, если просмотрено меньше."
   ]
  },
  {
   "cell_type": "code",
   "execution_count": 12,
   "metadata": {
    "hideCode": true,
    "hidePrompt": true,
    "id": "EqRlwMtKPTir"
   },
   "outputs": [],
   "source": [
    "def mark_good_session(page_count):\n",
    "    return 1 if page_count >= 4 else 0\n",
    "\n",
    "sessions_test = pd.read_csv('https://code.s3.yandex.net//datasets/sessions_project_test.csv') \n",
    "sessions_test['good_session'] = sessions_test['page_counter'].apply(mark_good_session)\n",
    "sessions_test_by_date = sessions_test.groupby('session_date')['good_session'].mean().reset_index()"
   ]
  },
  {
   "cell_type": "markdown",
   "metadata": {
    "id": "aeYhrMYy0eM2"
   },
   "source": [
    "#### 4.2. Проверка корректности результатов теста\n",
    "\n",
    "Прежде чем приступать к анализу ключевых продуктовых метрик, необходимо убедиться, что тест проведён корректно и вы будете сравнивать две сопоставимые группы.\n",
    "\n",
    "- Рассчитайте количество уникальных сессий для каждого дня и обеих тестовых групп, используя группировку.\n",
    "\n",
    "- Проверьте, что количество уникальных дневных сессий в двух выборках не различается или различия не статистически значимы. Используйте статистический тест, который позволит сделать вывод о равенстве средних двух выборок.\n",
    "\n",
    "- В качестве ответа выведите на экран полученное значение p-value и интерпретируйте его."
   ]
  },
  {
   "cell_type": "code",
   "execution_count": 13,
   "metadata": {
    "hideCode": true,
    "hidePrompt": true,
    "id": "5NUlcltkTTSU"
   },
   "outputs": [
    {
     "name": "stdout",
     "output_type": "stream",
     "text": [
      "p-value для количества сессий: 0.9382\n",
      "Количество сессий не имеет статистически значимых различий.\n"
     ]
    }
   ],
   "source": [
    "user_counts = sessions_test.groupby('test_group')['session_id'].nunique()\n",
    "daily_sessions = sessions_test.groupby(['session_date', 'test_group'])['session_id'].nunique().unstack()\n",
    "t_stat, p_value_sessions = ttest_ind(daily_sessions['A'].dropna(), daily_sessions['B'].dropna(), equal_var=False)\n",
    "print(f\"p-value для количества сессий: {p_value_sessions:.4f}\")\n",
    "if p_value_sessions < 0.05:\n",
    "    print(\"Количество сессий статистически различается.\")\n",
    "else:\n",
    "    print(\"Количество сессий не имеет статистически значимых различий.\")"
   ]
  },
  {
   "cell_type": "markdown",
   "metadata": {
    "id": "7kwRxzg70eM3"
   },
   "source": [
    "#### 4.3. Сравнение доли успешных сессий\n",
    "\n",
    "Когда вы убедились, что количество сессий в обеих выборках не различалось, можно переходить к анализу ключевой метрики — доли успешных сессий.\n",
    "\n",
    "Используйте созданный на первом шаге задания столбец `good_session` и рассчитайте долю успешных сессий для выборок A и B, а также разницу в этом показателе. Полученный вывод отобразите на экране."
   ]
  },
  {
   "cell_type": "code",
   "execution_count": 14,
   "metadata": {
    "hideCode": true,
    "hidePrompt": true,
    "id": "Uku-V1CpPRCz"
   },
   "outputs": [
    {
     "name": "stdout",
     "output_type": "stream",
     "text": [
      "Доля успешных сессий: A = 0.3077, B = 0.3183\n",
      "Разница в успешных сессиях: 0.0106\n"
     ]
    }
   ],
   "source": [
    "success_rates = sessions_test.groupby('test_group')['good_session'].mean()\n",
    "diff = success_rates['B'] - success_rates['A']\n",
    "\n",
    "print(f\"Доля успешных сессий: A = {success_rates['A']:.4f}, B = {success_rates['B']:.4f}\")\n",
    "print(f\"Разница в успешных сессиях: {diff:.4f}\")"
   ]
  },
  {
   "cell_type": "markdown",
   "metadata": {
    "id": "9fMFuja10eM4"
   },
   "source": [
    "#### 4.4. Насколько статистически значимо изменение ключевой метрики\n",
    "\n",
    "На предыдущем шаге вы убедились, что количество успешных сессий в тестовой выборке примерно на 0.5% выше, чем в контрольной, но делать выводы только на основе этого значения будет некорректно. Для принятия решения всегда необходимо отвечать на вопрос: является ли это изменение статистически значимым.\n",
    "\n",
    "- Используя статистический тест, рассчитайте, является ли изменение в метрике доли успешных сессий статистически значимым.\n",
    "\n",
    "- Выведите на экран полученное значение p-value и свои выводы о статистической значимости. Напомним, что уровень значимости в эксперименте был выбран на уровне 0.05."
   ]
  },
  {
   "cell_type": "code",
   "execution_count": 15,
   "metadata": {
    "hideCode": true,
    "hidePrompt": true,
    "id": "gFvhRGwlPLS0"
   },
   "outputs": [
    {
     "name": "stdout",
     "output_type": "stream",
     "text": [
      "p-value: 0.0003\n",
      "Различие статистически значимо.\n"
     ]
    }
   ],
   "source": [
    "count = sessions_test.groupby('test_group')['good_session'].sum()\n",
    "nobs = sessions_test.groupby('test_group')['good_session'].count()\n",
    "z_stat, p_value = proportions_ztest(count, nobs)\n",
    "print(f\"p-value: {p_value:.4f}\")\n",
    "if p_value < 0.05:\n",
    "    print(\"Различие статистически значимо.\")\n",
    "else:\n",
    "    print(\"Нет статистически значимого различия.\")"
   ]
  },
  {
   "cell_type": "markdown",
   "metadata": {
    "id": "GnJrkY9Q63zS"
   },
   "source": [
    "#### 4.5. Вывод по результатам A/B-эксперимента\n",
    "\n",
    "На основе проведённого анализа результатов теста сформулируйте и запишите свои выводы для команды разработки приложения. В выводе обязательно укажите:\n",
    "\n",
    "- Характеристики проведённого эксперимента, количество задействованных пользователей и длительность эксперимента.\n",
    "\n",
    "- Повлияло ли внедрение нового алгоритма рекомендаций на рост ключевой метрики и как.\n",
    "\n",
    "- Каким получилось значение p-value для оценки статистической значимости выявленного эффекта.\n",
    "\n",
    "- Стоит ли внедрять новоовведение в приложение."
   ]
  },
  {
   "cell_type": "markdown",
   "metadata": {
    "id": "rri8KRIgPMrW"
   },
   "source": [
    "***В эксперименте приняли участие 34,882 пользователей (по 17,441 в каждой группе), и он длился 4 дня. \n",
    "Внедрение нового алгоритма рекомендаций не привело к статистически значимому улучшению ключевой метрики (доля успешных сессий). Разница в доле успешных сессий между группами A и B была маленькой и не была значительной. \n",
    "Для оценки значимости изменений был рассчитан p-value, который составил 0.0003. Если p-value < 0.05, разница считается статистически значимой.  \n",
    "На основании результатов теста стоит внедрять новый алгоритм в приложение.***\n",
    "\n"
   ]
  }
 ],
 "metadata": {
  "ExecuteTimeLog": [
   {
    "duration": 3456,
    "start_time": "2025-02-26T14:26:37.536Z"
   },
   {
    "duration": 1560,
    "start_time": "2025-02-26T14:26:42.804Z"
   },
   {
    "duration": 1004,
    "start_time": "2025-02-26T14:26:44.366Z"
   },
   {
    "duration": 0,
    "start_time": "2025-02-26T14:26:45.371Z"
   },
   {
    "duration": 1273,
    "start_time": "2025-02-26T14:26:56.618Z"
   },
   {
    "duration": 1212,
    "start_time": "2025-02-26T14:27:02.841Z"
   },
   {
    "duration": 1072,
    "start_time": "2025-03-05T14:13:34.249Z"
   },
   {
    "duration": 0,
    "start_time": "2025-03-05T14:13:35.323Z"
   },
   {
    "duration": 1162,
    "start_time": "2025-03-05T14:18:42.391Z"
   },
   {
    "duration": 601,
    "start_time": "2025-03-05T14:19:49.327Z"
   },
   {
    "duration": 205,
    "start_time": "2025-03-05T14:21:52.005Z"
   },
   {
    "duration": 2543,
    "start_time": "2025-03-05T14:22:04.651Z"
   },
   {
    "duration": 688,
    "start_time": "2025-03-05T14:22:07.196Z"
   },
   {
    "duration": 720,
    "start_time": "2025-03-05T14:22:07.886Z"
   },
   {
    "duration": 542,
    "start_time": "2025-03-05T14:22:08.608Z"
   },
   {
    "duration": 0,
    "start_time": "2025-03-05T14:22:09.152Z"
   },
   {
    "duration": 807,
    "start_time": "2025-03-05T14:23:31.895Z"
   },
   {
    "duration": 980,
    "start_time": "2025-03-05T14:23:36.273Z"
   },
   {
    "duration": 742,
    "start_time": "2025-03-05T14:23:42.520Z"
   },
   {
    "duration": 710,
    "start_time": "2025-03-05T14:23:48.595Z"
   },
   {
    "duration": 771,
    "start_time": "2025-03-05T14:24:29.057Z"
   },
   {
    "duration": 720,
    "start_time": "2025-03-05T14:24:34.269Z"
   },
   {
    "duration": 1215,
    "start_time": "2025-03-05T14:25:09.998Z"
   },
   {
    "duration": 1248,
    "start_time": "2025-03-05T14:25:18.577Z"
   },
   {
    "duration": 266,
    "start_time": "2025-03-05T14:26:46.122Z"
   },
   {
    "duration": 187,
    "start_time": "2025-03-05T14:26:58.240Z"
   },
   {
    "duration": 1194,
    "start_time": "2025-03-05T14:27:04.688Z"
   },
   {
    "duration": 1765,
    "start_time": "2025-03-05T14:27:14.793Z"
   },
   {
    "duration": 603,
    "start_time": "2025-03-05T14:27:16.559Z"
   },
   {
    "duration": 1260,
    "start_time": "2025-03-05T14:27:17.163Z"
   },
   {
    "duration": 201,
    "start_time": "2025-03-05T14:27:18.425Z"
   },
   {
    "duration": 864,
    "start_time": "2025-03-05T14:27:18.628Z"
   },
   {
    "duration": 0,
    "start_time": "2025-03-05T14:27:19.493Z"
   },
   {
    "duration": 676,
    "start_time": "2025-03-05T14:28:30.213Z"
   },
   {
    "duration": 692,
    "start_time": "2025-03-05T14:28:46.296Z"
   },
   {
    "duration": 674,
    "start_time": "2025-03-05T14:29:12.373Z"
   },
   {
    "duration": 739,
    "start_time": "2025-03-05T14:29:18.997Z"
   },
   {
    "duration": 11,
    "start_time": "2025-03-05T14:37:10.143Z"
   },
   {
    "duration": 9,
    "start_time": "2025-03-05T14:37:46.772Z"
   },
   {
    "duration": 1743,
    "start_time": "2025-03-05T14:38:12.071Z"
   },
   {
    "duration": 1168,
    "start_time": "2025-03-05T14:38:13.816Z"
   },
   {
    "duration": 1464,
    "start_time": "2025-03-05T14:38:14.986Z"
   },
   {
    "duration": 199,
    "start_time": "2025-03-05T14:38:16.452Z"
   },
   {
    "duration": 741,
    "start_time": "2025-03-05T14:38:16.654Z"
   },
   {
    "duration": 408,
    "start_time": "2025-03-05T14:38:17.397Z"
   },
   {
    "duration": 101,
    "start_time": "2025-03-05T14:38:17.807Z"
   },
   {
    "duration": 17,
    "start_time": "2025-03-05T14:38:44.602Z"
   },
   {
    "duration": 9,
    "start_time": "2025-03-05T14:38:51.190Z"
   },
   {
    "duration": 160,
    "start_time": "2025-03-05T14:39:15.607Z"
   },
   {
    "duration": 1712,
    "start_time": "2025-03-05T14:39:20.860Z"
   },
   {
    "duration": 728,
    "start_time": "2025-03-05T14:39:22.574Z"
   },
   {
    "duration": 1864,
    "start_time": "2025-03-05T14:39:23.303Z"
   },
   {
    "duration": 219,
    "start_time": "2025-03-05T14:39:25.169Z"
   },
   {
    "duration": 764,
    "start_time": "2025-03-05T14:39:25.390Z"
   },
   {
    "duration": 437,
    "start_time": "2025-03-05T14:39:26.158Z"
   },
   {
    "duration": 169,
    "start_time": "2025-03-05T14:39:26.597Z"
   },
   {
    "duration": 1154,
    "start_time": "2025-03-05T17:46:33.639Z"
   },
   {
    "duration": 1723,
    "start_time": "2025-03-05T17:46:44.366Z"
   },
   {
    "duration": 590,
    "start_time": "2025-03-05T17:46:46.092Z"
   },
   {
    "duration": 1241,
    "start_time": "2025-03-05T17:46:46.683Z"
   },
   {
    "duration": 191,
    "start_time": "2025-03-05T17:46:47.926Z"
   },
   {
    "duration": 725,
    "start_time": "2025-03-05T17:46:48.119Z"
   },
   {
    "duration": 450,
    "start_time": "2025-03-05T17:46:48.846Z"
   },
   {
    "duration": 166,
    "start_time": "2025-03-05T17:46:49.298Z"
   },
   {
    "duration": 113,
    "start_time": "2025-03-05T17:49:03.566Z"
   },
   {
    "duration": 25,
    "start_time": "2025-03-05T17:49:28.114Z"
   },
   {
    "duration": 32,
    "start_time": "2025-03-05T17:49:50.295Z"
   },
   {
    "duration": 3002,
    "start_time": "2025-03-05T17:50:03.121Z"
   },
   {
    "duration": 604,
    "start_time": "2025-03-05T17:50:06.157Z"
   },
   {
    "duration": 1329,
    "start_time": "2025-03-05T17:50:06.763Z"
   },
   {
    "duration": 211,
    "start_time": "2025-03-05T17:50:08.094Z"
   },
   {
    "duration": 694,
    "start_time": "2025-03-05T17:50:08.307Z"
   },
   {
    "duration": 19,
    "start_time": "2025-03-05T17:50:09.003Z"
   },
   {
    "duration": 221,
    "start_time": "2025-03-05T17:50:09.023Z"
   },
   {
    "duration": 131,
    "start_time": "2025-03-05T17:50:09.246Z"
   },
   {
    "duration": 130,
    "start_time": "2025-03-05T17:50:30.647Z"
   },
   {
    "duration": 8,
    "start_time": "2025-03-05T17:52:25.068Z"
   },
   {
    "duration": 107,
    "start_time": "2025-03-05T17:52:42.205Z"
   },
   {
    "duration": 14,
    "start_time": "2025-03-05T17:52:44.436Z"
   },
   {
    "duration": 266,
    "start_time": "2025-03-05T17:52:57.535Z"
   },
   {
    "duration": 155,
    "start_time": "2025-03-05T17:53:23.855Z"
   },
   {
    "duration": 168,
    "start_time": "2025-03-05T17:53:27.952Z"
   },
   {
    "duration": 162,
    "start_time": "2025-03-05T17:53:49.218Z"
   },
   {
    "duration": 171,
    "start_time": "2025-03-05T17:54:28.147Z"
   },
   {
    "duration": 1632,
    "start_time": "2025-03-05T17:54:44.958Z"
   },
   {
    "duration": 168,
    "start_time": "2025-03-05T17:54:50.357Z"
   },
   {
    "duration": 181,
    "start_time": "2025-03-05T17:55:08.858Z"
   },
   {
    "duration": 167,
    "start_time": "2025-03-05T17:55:12.944Z"
   },
   {
    "duration": 1393,
    "start_time": "2025-03-05T17:55:43.744Z"
   },
   {
    "duration": 167,
    "start_time": "2025-03-05T17:56:28.360Z"
   },
   {
    "duration": 13,
    "start_time": "2025-03-05T17:56:33.734Z"
   },
   {
    "duration": 257,
    "start_time": "2025-03-05T17:56:38.201Z"
   },
   {
    "duration": 166,
    "start_time": "2025-03-05T17:56:42.819Z"
   },
   {
    "duration": 170,
    "start_time": "2025-03-05T17:56:51.695Z"
   },
   {
    "duration": 159,
    "start_time": "2025-03-05T17:57:03.806Z"
   },
   {
    "duration": 147,
    "start_time": "2025-03-05T17:57:09.019Z"
   },
   {
    "duration": 158,
    "start_time": "2025-03-05T17:57:21.652Z"
   },
   {
    "duration": 169,
    "start_time": "2025-03-05T17:57:30.580Z"
   },
   {
    "duration": 181,
    "start_time": "2025-03-05T17:58:39.253Z"
   },
   {
    "duration": 172,
    "start_time": "2025-03-05T17:58:48.597Z"
   },
   {
    "duration": 161,
    "start_time": "2025-03-05T17:59:05.208Z"
   },
   {
    "duration": 170,
    "start_time": "2025-03-05T17:59:16.634Z"
   },
   {
    "duration": 2275,
    "start_time": "2025-03-05T17:59:20.810Z"
   },
   {
    "duration": 635,
    "start_time": "2025-03-05T17:59:23.087Z"
   },
   {
    "duration": 1291,
    "start_time": "2025-03-05T17:59:23.723Z"
   },
   {
    "duration": 210,
    "start_time": "2025-03-05T17:59:25.015Z"
   },
   {
    "duration": 669,
    "start_time": "2025-03-05T17:59:25.227Z"
   },
   {
    "duration": 18,
    "start_time": "2025-03-05T17:59:25.898Z"
   },
   {
    "duration": 171,
    "start_time": "2025-03-05T17:59:25.918Z"
   },
   {
    "duration": 141,
    "start_time": "2025-03-05T17:59:26.090Z"
   },
   {
    "duration": 7,
    "start_time": "2025-03-05T17:59:26.233Z"
   },
   {
    "duration": 222,
    "start_time": "2025-03-05T17:59:26.242Z"
   },
   {
    "duration": 253,
    "start_time": "2025-03-05T17:59:26.466Z"
   },
   {
    "duration": 182,
    "start_time": "2025-03-05T18:04:43.443Z"
   },
   {
    "duration": 215,
    "start_time": "2025-03-05T18:04:45.132Z"
   },
   {
    "duration": 123,
    "start_time": "2025-03-05T18:05:56.609Z"
   },
   {
    "duration": 255,
    "start_time": "2025-03-05T18:06:17.959Z"
   },
   {
    "duration": 278,
    "start_time": "2025-03-05T18:07:24.685Z"
   },
   {
    "duration": 324,
    "start_time": "2025-03-05T18:07:36.771Z"
   },
   {
    "duration": 278,
    "start_time": "2025-03-05T18:08:00.548Z"
   },
   {
    "duration": 2206,
    "start_time": "2025-03-05T18:08:07.210Z"
   },
   {
    "duration": 579,
    "start_time": "2025-03-05T18:08:09.418Z"
   },
   {
    "duration": 1260,
    "start_time": "2025-03-05T18:08:09.999Z"
   },
   {
    "duration": 185,
    "start_time": "2025-03-05T18:08:11.261Z"
   },
   {
    "duration": 714,
    "start_time": "2025-03-05T18:08:11.448Z"
   },
   {
    "duration": 18,
    "start_time": "2025-03-05T18:08:12.163Z"
   },
   {
    "duration": 164,
    "start_time": "2025-03-05T18:08:12.182Z"
   },
   {
    "duration": 126,
    "start_time": "2025-03-05T18:08:12.348Z"
   },
   {
    "duration": 8,
    "start_time": "2025-03-05T18:08:12.475Z"
   },
   {
    "duration": 190,
    "start_time": "2025-03-05T18:08:12.484Z"
   },
   {
    "duration": 246,
    "start_time": "2025-03-05T18:08:12.675Z"
   },
   {
    "duration": 277,
    "start_time": "2025-03-05T18:08:12.922Z"
   },
   {
    "duration": 33,
    "start_time": "2025-03-05T18:08:54.454Z"
   },
   {
    "duration": 33,
    "start_time": "2025-03-05T18:09:00.740Z"
   },
   {
    "duration": 30,
    "start_time": "2025-03-05T18:09:28.814Z"
   },
   {
    "duration": 11,
    "start_time": "2025-03-05T18:11:30.658Z"
   },
   {
    "duration": 11,
    "start_time": "2025-03-05T18:13:47.358Z"
   },
   {
    "duration": 13,
    "start_time": "2025-03-05T18:13:50.310Z"
   },
   {
    "duration": 117,
    "start_time": "2025-03-05T18:14:27.827Z"
   },
   {
    "duration": 1015,
    "start_time": "2025-03-05T18:15:18.932Z"
   },
   {
    "duration": 3550,
    "start_time": "2025-03-05T18:15:22.656Z"
   },
   {
    "duration": 845,
    "start_time": "2025-03-05T18:15:26.208Z"
   },
   {
    "duration": 1277,
    "start_time": "2025-03-05T18:15:27.058Z"
   },
   {
    "duration": 195,
    "start_time": "2025-03-05T18:15:28.337Z"
   },
   {
    "duration": 680,
    "start_time": "2025-03-05T18:15:28.534Z"
   },
   {
    "duration": 14,
    "start_time": "2025-03-05T18:15:29.216Z"
   },
   {
    "duration": 187,
    "start_time": "2025-03-05T18:15:29.232Z"
   },
   {
    "duration": 129,
    "start_time": "2025-03-05T18:15:29.420Z"
   },
   {
    "duration": 12,
    "start_time": "2025-03-05T18:15:29.551Z"
   },
   {
    "duration": 255,
    "start_time": "2025-03-05T18:15:29.564Z"
   },
   {
    "duration": 160,
    "start_time": "2025-03-05T18:15:29.821Z"
   },
   {
    "duration": 295,
    "start_time": "2025-03-05T18:15:29.983Z"
   },
   {
    "duration": 29,
    "start_time": "2025-03-05T18:15:30.279Z"
   },
   {
    "duration": 16,
    "start_time": "2025-03-05T18:15:30.310Z"
   },
   {
    "duration": 59,
    "start_time": "2025-03-05T18:15:30.327Z"
   },
   {
    "duration": 132,
    "start_time": "2025-03-05T18:17:03.451Z"
   },
   {
    "duration": 322,
    "start_time": "2025-03-05T18:17:57.912Z"
   },
   {
    "duration": 39,
    "start_time": "2025-03-05T18:18:06.502Z"
   },
   {
    "duration": 39,
    "start_time": "2025-03-05T18:18:09.000Z"
   },
   {
    "duration": 69,
    "start_time": "2025-03-05T18:18:12.762Z"
   },
   {
    "duration": 293,
    "start_time": "2025-03-05T18:18:16.665Z"
   },
   {
    "duration": 69,
    "start_time": "2025-03-05T18:18:17.760Z"
   },
   {
    "duration": 77,
    "start_time": "2025-03-05T18:18:40.846Z"
   },
   {
    "duration": 69,
    "start_time": "2025-03-05T18:19:01.366Z"
   },
   {
    "duration": 72,
    "start_time": "2025-03-05T18:19:04.619Z"
   },
   {
    "duration": 82,
    "start_time": "2025-03-05T18:19:11.534Z"
   },
   {
    "duration": 72,
    "start_time": "2025-03-05T18:19:16.053Z"
   },
   {
    "duration": 75,
    "start_time": "2025-03-05T18:19:35.587Z"
   },
   {
    "duration": 75,
    "start_time": "2025-03-05T18:19:46.091Z"
   },
   {
    "duration": 81,
    "start_time": "2025-03-05T18:20:10.886Z"
   },
   {
    "duration": 2255,
    "start_time": "2025-03-05T18:20:16.639Z"
   },
   {
    "duration": 613,
    "start_time": "2025-03-05T18:20:18.896Z"
   },
   {
    "duration": 1264,
    "start_time": "2025-03-05T18:20:19.511Z"
   },
   {
    "duration": 197,
    "start_time": "2025-03-05T18:20:20.777Z"
   },
   {
    "duration": 717,
    "start_time": "2025-03-05T18:20:20.976Z"
   },
   {
    "duration": 17,
    "start_time": "2025-03-05T18:20:21.695Z"
   },
   {
    "duration": 176,
    "start_time": "2025-03-05T18:20:21.713Z"
   },
   {
    "duration": 128,
    "start_time": "2025-03-05T18:20:21.891Z"
   },
   {
    "duration": 7,
    "start_time": "2025-03-05T18:20:22.021Z"
   },
   {
    "duration": 255,
    "start_time": "2025-03-05T18:20:22.029Z"
   },
   {
    "duration": 182,
    "start_time": "2025-03-05T18:20:22.286Z"
   },
   {
    "duration": 291,
    "start_time": "2025-03-05T18:20:22.470Z"
   },
   {
    "duration": 72,
    "start_time": "2025-03-05T18:20:22.763Z"
   },
   {
    "duration": 24,
    "start_time": "2025-03-05T18:20:22.837Z"
   },
   {
    "duration": 125,
    "start_time": "2025-03-05T18:20:22.862Z"
   },
   {
    "duration": 70,
    "start_time": "2025-03-05T18:20:41.899Z"
   },
   {
    "duration": 325,
    "start_time": "2025-03-05T18:21:16.321Z"
   },
   {
    "duration": 19,
    "start_time": "2025-03-05T18:24:03.866Z"
   },
   {
    "duration": 157,
    "start_time": "2025-03-05T18:29:10.846Z"
   },
   {
    "duration": 192,
    "start_time": "2025-03-05T18:29:17.403Z"
   },
   {
    "duration": 71,
    "start_time": "2025-03-05T18:29:20.284Z"
   },
   {
    "duration": 157,
    "start_time": "2025-03-05T18:29:24.387Z"
   },
   {
    "duration": 85,
    "start_time": "2025-03-05T18:30:45.749Z"
   },
   {
    "duration": 168,
    "start_time": "2025-03-05T18:30:49.497Z"
   },
   {
    "duration": 15,
    "start_time": "2025-03-05T18:30:52.321Z"
   },
   {
    "duration": 159,
    "start_time": "2025-03-05T18:30:55.503Z"
   },
   {
    "duration": 51,
    "start_time": "2025-03-06T17:06:14.867Z"
   },
   {
    "duration": 3886,
    "start_time": "2025-03-06T17:06:28.508Z"
   },
   {
    "duration": 1186,
    "start_time": "2025-03-06T17:06:32.396Z"
   },
   {
    "duration": 2430,
    "start_time": "2025-03-06T17:06:33.587Z"
   },
   {
    "duration": 206,
    "start_time": "2025-03-06T17:06:36.018Z"
   },
   {
    "duration": 716,
    "start_time": "2025-03-06T17:06:36.226Z"
   },
   {
    "duration": 27,
    "start_time": "2025-03-06T17:06:36.944Z"
   },
   {
    "duration": 243,
    "start_time": "2025-03-06T17:06:36.972Z"
   },
   {
    "duration": 142,
    "start_time": "2025-03-06T17:06:37.216Z"
   },
   {
    "duration": 8,
    "start_time": "2025-03-06T17:06:37.360Z"
   },
   {
    "duration": 258,
    "start_time": "2025-03-06T17:06:37.369Z"
   },
   {
    "duration": 157,
    "start_time": "2025-03-06T17:06:37.629Z"
   },
   {
    "duration": 412,
    "start_time": "2025-03-06T17:06:37.788Z"
   },
   {
    "duration": 72,
    "start_time": "2025-03-06T17:06:38.202Z"
   },
   {
    "duration": 10,
    "start_time": "2025-03-06T17:06:38.275Z"
   },
   {
    "duration": 18,
    "start_time": "2025-03-06T17:06:38.287Z"
   },
   {
    "duration": 53,
    "start_time": "2025-03-07T19:10:54.011Z"
   },
   {
    "duration": 3120,
    "start_time": "2025-03-07T19:11:03.915Z"
   },
   {
    "duration": 698,
    "start_time": "2025-03-07T19:11:07.037Z"
   },
   {
    "duration": 1441,
    "start_time": "2025-03-07T19:11:07.737Z"
   },
   {
    "duration": 233,
    "start_time": "2025-03-07T19:11:09.180Z"
   },
   {
    "duration": 790,
    "start_time": "2025-03-07T19:11:09.416Z"
   },
   {
    "duration": 17,
    "start_time": "2025-03-07T19:11:10.208Z"
   },
   {
    "duration": 212,
    "start_time": "2025-03-07T19:11:10.227Z"
   },
   {
    "duration": 269,
    "start_time": "2025-03-07T19:11:10.441Z"
   },
   {
    "duration": 10,
    "start_time": "2025-03-07T19:11:10.712Z"
   },
   {
    "duration": 291,
    "start_time": "2025-03-07T19:11:10.723Z"
   },
   {
    "duration": 201,
    "start_time": "2025-03-07T19:11:11.016Z"
   },
   {
    "duration": 1788,
    "start_time": "2025-03-07T19:11:11.219Z"
   },
   {
    "duration": 87,
    "start_time": "2025-03-07T19:11:13.009Z"
   },
   {
    "duration": 12,
    "start_time": "2025-03-07T19:11:13.100Z"
   },
   {
    "duration": 20,
    "start_time": "2025-03-07T19:11:13.114Z"
   },
   {
    "duration": 12,
    "start_time": "2025-03-07T19:11:57.320Z"
   },
   {
    "duration": 14,
    "start_time": "2025-03-07T19:12:03.420Z"
   },
   {
    "duration": 2545,
    "start_time": "2025-03-07T19:12:18.462Z"
   },
   {
    "duration": 744,
    "start_time": "2025-03-07T19:12:21.009Z"
   },
   {
    "duration": 1499,
    "start_time": "2025-03-07T19:12:21.755Z"
   },
   {
    "duration": 236,
    "start_time": "2025-03-07T19:12:23.256Z"
   },
   {
    "duration": 790,
    "start_time": "2025-03-07T19:12:23.494Z"
   },
   {
    "duration": 18,
    "start_time": "2025-03-07T19:12:24.287Z"
   },
   {
    "duration": 215,
    "start_time": "2025-03-07T19:12:24.307Z"
   },
   {
    "duration": 145,
    "start_time": "2025-03-07T19:12:24.524Z"
   },
   {
    "duration": 10,
    "start_time": "2025-03-07T19:12:24.671Z"
   },
   {
    "duration": 290,
    "start_time": "2025-03-07T19:12:24.683Z"
   },
   {
    "duration": 186,
    "start_time": "2025-03-07T19:12:24.975Z"
   },
   {
    "duration": 346,
    "start_time": "2025-03-07T19:12:25.163Z"
   },
   {
    "duration": 101,
    "start_time": "2025-03-07T19:12:25.511Z"
   },
   {
    "duration": 13,
    "start_time": "2025-03-07T19:12:25.615Z"
   },
   {
    "duration": 20,
    "start_time": "2025-03-07T19:12:25.630Z"
   },
   {
    "duration": 364,
    "start_time": "2025-03-07T19:13:18.467Z"
   },
   {
    "duration": 146,
    "start_time": "2025-03-07T19:20:57.540Z"
   },
   {
    "duration": 153,
    "start_time": "2025-03-07T19:21:20.028Z"
   },
   {
    "duration": 11,
    "start_time": "2025-03-07T19:22:02.342Z"
   },
   {
    "duration": 2614,
    "start_time": "2025-03-07T19:22:20.472Z"
   },
   {
    "duration": 753,
    "start_time": "2025-03-07T19:22:23.089Z"
   },
   {
    "duration": 1418,
    "start_time": "2025-03-07T19:22:23.844Z"
   },
   {
    "duration": 226,
    "start_time": "2025-03-07T19:22:25.271Z"
   },
   {
    "duration": 778,
    "start_time": "2025-03-07T19:22:25.502Z"
   },
   {
    "duration": 26,
    "start_time": "2025-03-07T19:22:26.283Z"
   },
   {
    "duration": 211,
    "start_time": "2025-03-07T19:22:26.311Z"
   },
   {
    "duration": 149,
    "start_time": "2025-03-07T19:22:26.524Z"
   },
   {
    "duration": 13,
    "start_time": "2025-03-07T19:22:26.676Z"
   },
   {
    "duration": 316,
    "start_time": "2025-03-07T19:22:26.692Z"
   },
   {
    "duration": 191,
    "start_time": "2025-03-07T19:22:27.010Z"
   },
   {
    "duration": 352,
    "start_time": "2025-03-07T19:22:27.204Z"
   },
   {
    "duration": 83,
    "start_time": "2025-03-07T19:22:27.558Z"
   },
   {
    "duration": 12,
    "start_time": "2025-03-07T19:22:27.644Z"
   },
   {
    "duration": 33,
    "start_time": "2025-03-07T19:22:27.658Z"
   },
   {
    "duration": 188,
    "start_time": "2025-03-07T19:42:46.107Z"
   },
   {
    "duration": 202,
    "start_time": "2025-03-07T19:42:48.634Z"
   },
   {
    "duration": 112,
    "start_time": "2025-03-07T19:44:39.434Z"
   },
   {
    "duration": 16,
    "start_time": "2025-03-07T19:44:49.376Z"
   },
   {
    "duration": 225,
    "start_time": "2025-03-07T19:45:01.167Z"
   },
   {
    "duration": 189,
    "start_time": "2025-03-07T19:45:10.179Z"
   },
   {
    "duration": 2542,
    "start_time": "2025-03-07T20:00:52.736Z"
   },
   {
    "duration": 738,
    "start_time": "2025-03-07T20:00:55.280Z"
   },
   {
    "duration": 1477,
    "start_time": "2025-03-07T20:00:56.020Z"
   },
   {
    "duration": 218,
    "start_time": "2025-03-07T20:00:57.499Z"
   },
   {
    "duration": 821,
    "start_time": "2025-03-07T20:00:57.719Z"
   },
   {
    "duration": 31,
    "start_time": "2025-03-07T20:00:58.542Z"
   },
   {
    "duration": 237,
    "start_time": "2025-03-07T20:00:58.575Z"
   },
   {
    "duration": 149,
    "start_time": "2025-03-07T20:00:58.814Z"
   },
   {
    "duration": 15,
    "start_time": "2025-03-07T20:00:58.973Z"
   },
   {
    "duration": 304,
    "start_time": "2025-03-07T20:00:58.990Z"
   },
   {
    "duration": 179,
    "start_time": "2025-03-07T20:00:59.299Z"
   },
   {
    "duration": 351,
    "start_time": "2025-03-07T20:00:59.483Z"
   },
   {
    "duration": 93,
    "start_time": "2025-03-07T20:00:59.836Z"
   },
   {
    "duration": 13,
    "start_time": "2025-03-07T20:00:59.931Z"
   },
   {
    "duration": 39,
    "start_time": "2025-03-07T20:00:59.946Z"
   },
   {
    "duration": 2300,
    "start_time": "2025-03-08T05:57:46.623Z"
   },
   {
    "duration": 795,
    "start_time": "2025-03-08T05:57:48.926Z"
   },
   {
    "duration": 1285,
    "start_time": "2025-03-08T05:57:49.723Z"
   },
   {
    "duration": 195,
    "start_time": "2025-03-08T05:57:51.013Z"
   },
   {
    "duration": 722,
    "start_time": "2025-03-08T05:57:51.213Z"
   },
   {
    "duration": 18,
    "start_time": "2025-03-08T05:57:51.937Z"
   },
   {
    "duration": 192,
    "start_time": "2025-03-08T05:57:51.957Z"
   },
   {
    "duration": 139,
    "start_time": "2025-03-08T05:57:52.150Z"
   },
   {
    "duration": 9,
    "start_time": "2025-03-08T05:57:52.290Z"
   },
   {
    "duration": 295,
    "start_time": "2025-03-08T05:57:52.301Z"
   },
   {
    "duration": 183,
    "start_time": "2025-03-08T05:57:52.599Z"
   },
   {
    "duration": 294,
    "start_time": "2025-03-08T05:57:52.785Z"
   },
   {
    "duration": 100,
    "start_time": "2025-03-08T05:57:53.082Z"
   },
   {
    "duration": 13,
    "start_time": "2025-03-08T05:57:53.184Z"
   },
   {
    "duration": 20,
    "start_time": "2025-03-08T05:57:53.213Z"
   },
   {
    "duration": 2127,
    "start_time": "2025-03-08T05:58:16.863Z"
   },
   {
    "duration": 578,
    "start_time": "2025-03-08T05:58:18.991Z"
   },
   {
    "duration": 1263,
    "start_time": "2025-03-08T05:58:19.571Z"
   },
   {
    "duration": 202,
    "start_time": "2025-03-08T05:58:20.836Z"
   },
   {
    "duration": 691,
    "start_time": "2025-03-08T05:58:21.040Z"
   },
   {
    "duration": 17,
    "start_time": "2025-03-08T05:58:21.732Z"
   },
   {
    "duration": 189,
    "start_time": "2025-03-08T05:58:21.751Z"
   },
   {
    "duration": 133,
    "start_time": "2025-03-08T05:58:21.942Z"
   },
   {
    "duration": 8,
    "start_time": "2025-03-08T05:58:22.076Z"
   },
   {
    "duration": 257,
    "start_time": "2025-03-08T05:58:22.087Z"
   },
   {
    "duration": 168,
    "start_time": "2025-03-08T05:58:22.345Z"
   },
   {
    "duration": 298,
    "start_time": "2025-03-08T05:58:22.515Z"
   },
   {
    "duration": 67,
    "start_time": "2025-03-08T05:58:22.815Z"
   },
   {
    "duration": 30,
    "start_time": "2025-03-08T05:58:22.884Z"
   },
   {
    "duration": 19,
    "start_time": "2025-03-08T05:58:22.916Z"
   }
  ],
  "celltoolbar": "Hide code",
  "colab": {
   "provenance": []
  },
  "kernelspec": {
   "display_name": "Python 3 (ipykernel)",
   "language": "python",
   "name": "python3"
  },
  "language_info": {
   "codemirror_mode": {
    "name": "ipython",
    "version": 3
   },
   "file_extension": ".py",
   "mimetype": "text/x-python",
   "name": "python",
   "nbconvert_exporter": "python",
   "pygments_lexer": "ipython3",
   "version": "3.12.7"
  },
  "toc": {
   "base_numbering": 1,
   "nav_menu": {},
   "number_sections": true,
   "sideBar": true,
   "skip_h1_title": true,
   "title_cell": "Table of Contents",
   "title_sidebar": "Contents",
   "toc_cell": false,
   "toc_position": {
    "height": "calc(100% - 180px)",
    "left": "10px",
    "top": "150px",
    "width": "499.188px"
   },
   "toc_section_display": true,
   "toc_window_display": true
  }
 },
 "nbformat": 4,
 "nbformat_minor": 1
}
