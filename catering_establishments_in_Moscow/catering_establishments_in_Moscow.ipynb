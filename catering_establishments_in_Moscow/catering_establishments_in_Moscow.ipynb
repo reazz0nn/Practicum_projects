{
 "cells": [
  {
   "cell_type": "markdown",
   "id": "e06910dd",
   "metadata": {
    "hideCode": true,
    "hidePrompt": true,
    "id": "e06910dd"
   },
   "source": [
    "# Анализ рынка общепита Москвы\n",
    "\n",
    "- Автор: Максимов А.В\n",
    "- Дата: 02.01.2025"
   ]
  },
  {
   "cell_type": "markdown",
   "id": "4149134c",
   "metadata": {
    "hideCode": true,
    "hidePrompt": true,
    "id": "4149134c"
   },
   "source": [
    "### Цели и задачи проекта\n",
    "\n",
    "**Цель проекта:**\n",
    "- Провести исследовательский анализ рынка Москвы\n",
    "\n",
    "**Задачи:**\n",
    "- Познакомиться с данными;\n",
    "- Проверить их корректность;\n",
    "- Провести предобработку,получив необходимый срез данных;\n",
    "- Подвести итог и выдать рекомендации на основе выполнения вышеопоставленных задач."
   ]
  },
  {
   "cell_type": "markdown",
   "id": "728986ea",
   "metadata": {
    "hideCode": true,
    "hidePrompt": true,
    "id": "728986ea"
   },
   "source": [
    "### Описание данных\n",
    "\n",
    "***Для /datasets/rest_info.csv***\n",
    "\n",
    "**`id`** - Идентификатор ресторана\n",
    "\n",
    "**`address`** -  Адрес заведения\n",
    "\n",
    "\n",
    "**`district`** - Административный район, в котором находится заведение\n",
    "\n",
    "\n",
    "**`category`** - Категория заведения\n",
    "\n",
    "\n",
    "**`hours`** - информация о днях и часах работы\n",
    "\n",
    "\n",
    "**`rating`** - рейтинг заведения по оценкам пользователей в Яндекс Картах\n",
    "\n",
    "\n",
    "**`chain`** - число, выраженное 0 или 1, которое показывает, является ли заведение сетевым\n",
    "\n",
    "\n",
    "**`seats`** - количество посадочных мест\n",
    "\n",
    "\n",
    "***Для /datasets/rest_price.csv***\n",
    "\n",
    "**`price`** - категория цен в заведении\n",
    "\n",
    "\n",
    "**`avg_bill`** - строка, которая хранит среднюю стоимость заказа в виде диапазона\n",
    "\n",
    "\n",
    "**`middle_avg_bill`** - число с оценкой среднего чека, которое указано только для значений из столбца avg_bill, начинающихся с подстроки «Средний счёт»\n",
    "\n",
    "\n",
    "**`middle_coffee_cup`** - число с оценкой одной чашки капучино, которое указано только для значений из столбца avg_bill, начинающихся с подстроки «Цена одной чашки капучино»\n",
    "\n"
   ]
  },
  {
   "cell_type": "markdown",
   "id": "4fecaf95",
   "metadata": {
    "hideCode": true,
    "hidePrompt": true,
    "id": "4fecaf95"
   },
   "source": [
    "### Содержимое проекта\n",
    "\n",
    "**1.Загрузка и знакомство с данными**\n",
    "- Импорт библиотек\n",
    "- Загрузка данных\n",
    "- Объединение датафреймов\n",
    "- Вывод первых строк данных\n",
    "- Получение информации о датасете\n",
    "\n",
    "\n",
    "**2.Предобработка данных**\n",
    "- Проверка и обработка типов данных\n",
    "- Подсчет пропусков\n",
    "- Анализ данных с пропусками\n",
    "- Обработка пропусков\n",
    "- Поиск и удаление дубликатов\n",
    "- Создание нового столбца \n",
    "\n",
    "\n",
    "**3.Исследовательский анализ данных**\n",
    "- Задача 1\n",
    "- Задача 2\n",
    "- Задача 3\n",
    "- Задача 4\n",
    "- Задача 5\n",
    "- Задача 6\n",
    "- Задача 7\n",
    "- Задача 8\n",
    "- Задача 9\n",
    "\n",
    "**5.Итоговый вывод и рекомендации**\n",
    "- Общий обзор проделанной работы.\n",
    "- Ответы на исследовательские вопросы, или главные выводы.\n",
    "- Рекомендации на основе анализа данных.\n",
    "\n",
    "---"
   ]
  },
  {
   "cell_type": "code",
   "execution_count": 1,
   "id": "d8204710",
   "metadata": {
    "hideCode": true,
    "hideOutput": true,
    "hidePrompt": true
   },
   "outputs": [
    {
     "name": "stdout",
     "output_type": "stream",
     "text": [
      "Requirement already satisfied: phik in c:\\users\\alexm\\appdata\\local\\programs\\python\\python313\\lib\\site-packages (0.11.0)\n",
      "Requirement already satisfied: numpy>=1.15.4 in c:\\users\\alexm\\appdata\\local\\programs\\python\\python313\\lib\\site-packages (from phik) (2.2.4)\n",
      "Requirement already satisfied: scipy>=1.1.0 in c:\\users\\alexm\\appdata\\local\\programs\\python\\python313\\lib\\site-packages (from phik) (1.15.2)\n",
      "Requirement already satisfied: pandas>=0.23.4 in c:\\users\\alexm\\appdata\\local\\programs\\python\\python313\\lib\\site-packages (from phik) (2.2.3)\n",
      "Requirement already satisfied: matplotlib>=2.2.3 in c:\\users\\alexm\\appdata\\local\\programs\\python\\python313\\lib\\site-packages (from phik) (3.10.1)\n",
      "Requirement already satisfied: numba>=0.38.1 in c:\\users\\alexm\\appdata\\local\\programs\\python\\python313\\lib\\site-packages (from phik) (0.61.2)\n",
      "Requirement already satisfied: joblib>=0.14.1 in c:\\users\\alexm\\appdata\\local\\programs\\python\\python313\\lib\\site-packages (from phik) (1.4.2)\n",
      "Requirement already satisfied: contourpy>=1.0.1 in c:\\users\\alexm\\appdata\\local\\programs\\python\\python313\\lib\\site-packages (from matplotlib>=2.2.3->phik) (1.3.1)\n",
      "Requirement already satisfied: cycler>=0.10 in c:\\users\\alexm\\appdata\\local\\programs\\python\\python313\\lib\\site-packages (from matplotlib>=2.2.3->phik) (0.12.1)\n",
      "Requirement already satisfied: fonttools>=4.22.0 in c:\\users\\alexm\\appdata\\local\\programs\\python\\python313\\lib\\site-packages (from matplotlib>=2.2.3->phik) (4.57.0)\n",
      "Requirement already satisfied: kiwisolver>=1.3.1 in c:\\users\\alexm\\appdata\\local\\programs\\python\\python313\\lib\\site-packages (from matplotlib>=2.2.3->phik) (1.4.8)\n",
      "Requirement already satisfied: packaging>=20.0 in c:\\users\\alexm\\appdata\\local\\programs\\python\\python313\\lib\\site-packages (from matplotlib>=2.2.3->phik) (24.2)\n",
      "Requirement already satisfied: pillow>=8 in c:\\users\\alexm\\appdata\\local\\programs\\python\\python313\\lib\\site-packages (from matplotlib>=2.2.3->phik) (11.2.1)\n",
      "Requirement already satisfied: pyparsing>=2.3.1 in c:\\users\\alexm\\appdata\\local\\programs\\python\\python313\\lib\\site-packages (from matplotlib>=2.2.3->phik) (3.2.3)\n",
      "Requirement already satisfied: python-dateutil>=2.7 in c:\\users\\alexm\\appdata\\local\\programs\\python\\python313\\lib\\site-packages (from matplotlib>=2.2.3->phik) (2.9.0.post0)\n",
      "Requirement already satisfied: llvmlite<0.45,>=0.44.0dev0 in c:\\users\\alexm\\appdata\\local\\programs\\python\\python313\\lib\\site-packages (from numba>=0.38.1->phik) (0.44.0)\n",
      "Requirement already satisfied: pytz>=2020.1 in c:\\users\\alexm\\appdata\\local\\programs\\python\\python313\\lib\\site-packages (from pandas>=0.23.4->phik) (2025.2)\n",
      "Requirement already satisfied: tzdata>=2022.7 in c:\\users\\alexm\\appdata\\local\\programs\\python\\python313\\lib\\site-packages (from pandas>=0.23.4->phik) (2025.2)\n",
      "Requirement already satisfied: six>=1.5 in c:\\users\\alexm\\appdata\\local\\programs\\python\\python313\\lib\\site-packages (from python-dateutil>=2.7->matplotlib>=2.2.3->phik) (1.17.0)\n"
     ]
    }
   ],
   "source": [
    "!pip install phik"
   ]
  },
  {
   "cell_type": "markdown",
   "id": "6f7d21d6",
   "metadata": {
    "hideCode": true,
    "hidePrompt": true,
    "id": "6f7d21d6"
   },
   "source": [
    "## 1. Загрузка данных и знакомство с ними\n",
    "\n",
    "- Загрузите данные о заведениях общественного питания Москвы. Путь к файлам: `/datasets/rest_info.csv` и `/datasets/rest_price.csv`."
   ]
  },
  {
   "cell_type": "code",
   "execution_count": 2,
   "id": "05faf34b",
   "metadata": {
    "hideCode": true,
    "hidePrompt": true,
    "id": "05faf34b"
   },
   "outputs": [],
   "source": [
    "import pandas as pd\n",
    "import numpy as np\n",
    "import seaborn as sns\n",
    "import matplotlib.pyplot as plt\n",
    "import phik\n",
    "from phik import phik_matrix\n"
   ]
  },
  {
   "cell_type": "markdown",
   "id": "18b5dfff",
   "metadata": {
    "hideCode": true,
    "hidePrompt": true,
    "id": "18b5dfff"
   },
   "source": [
    "- Познакомьтесь с данными и изучите общую информацию о них."
   ]
  },
  {
   "cell_type": "code",
   "execution_count": 3,
   "id": "9b77910b-fb48-446a-b5a2-fd1d11a6747f",
   "metadata": {
    "hideCode": true,
    "hidePrompt": true
   },
   "outputs": [
    {
     "name": "stdout",
     "output_type": "stream",
     "text": [
      "<class 'pandas.core.frame.DataFrame'>\n",
      "RangeIndex: 8406 entries, 0 to 8405\n",
      "Data columns (total 9 columns):\n",
      " #   Column    Non-Null Count  Dtype  \n",
      "---  ------    --------------  -----  \n",
      " 0   id        8406 non-null   object \n",
      " 1   name      8406 non-null   object \n",
      " 2   category  8406 non-null   object \n",
      " 3   address   8406 non-null   object \n",
      " 4   district  8406 non-null   object \n",
      " 5   hours     7870 non-null   object \n",
      " 6   rating    8406 non-null   float64\n",
      " 7   chain     8406 non-null   int64  \n",
      " 8   seats     4795 non-null   float64\n",
      "dtypes: float64(2), int64(1), object(6)\n",
      "memory usage: 591.2+ KB\n",
      "<class 'pandas.core.frame.DataFrame'>\n",
      "RangeIndex: 4058 entries, 0 to 4057\n",
      "Data columns (total 5 columns):\n",
      " #   Column             Non-Null Count  Dtype  \n",
      "---  ------             --------------  -----  \n",
      " 0   id                 4058 non-null   object \n",
      " 1   price              3315 non-null   object \n",
      " 2   avg_bill           3816 non-null   object \n",
      " 3   middle_avg_bill    3149 non-null   float64\n",
      " 4   middle_coffee_cup  535 non-null    float64\n",
      "dtypes: float64(2), object(3)\n",
      "memory usage: 158.6+ KB\n"
     ]
    },
    {
     "data": {
      "text/html": [
       "<div>\n",
       "<style scoped>\n",
       "    .dataframe tbody tr th:only-of-type {\n",
       "        vertical-align: middle;\n",
       "    }\n",
       "\n",
       "    .dataframe tbody tr th {\n",
       "        vertical-align: top;\n",
       "    }\n",
       "\n",
       "    .dataframe thead th {\n",
       "        text-align: right;\n",
       "    }\n",
       "</style>\n",
       "<table border=\"1\" class=\"dataframe\">\n",
       "  <thead>\n",
       "    <tr style=\"text-align: right;\">\n",
       "      <th></th>\n",
       "      <th>id</th>\n",
       "      <th>name</th>\n",
       "      <th>category</th>\n",
       "      <th>address</th>\n",
       "      <th>district</th>\n",
       "      <th>hours</th>\n",
       "      <th>rating</th>\n",
       "      <th>chain</th>\n",
       "      <th>seats</th>\n",
       "    </tr>\n",
       "  </thead>\n",
       "  <tbody>\n",
       "    <tr>\n",
       "      <th>0</th>\n",
       "      <td>0c3e3439a8c64ea5bf6ecd6ca6ae19f0</td>\n",
       "      <td>WoWфли</td>\n",
       "      <td>кафе</td>\n",
       "      <td>Москва, улица Дыбенко, 7/1</td>\n",
       "      <td>Северный административный округ</td>\n",
       "      <td>ежедневно, 10:00–22:00</td>\n",
       "      <td>5.0</td>\n",
       "      <td>0</td>\n",
       "      <td>NaN</td>\n",
       "    </tr>\n",
       "    <tr>\n",
       "      <th>1</th>\n",
       "      <td>045780ada3474c57a2112e505d74b633</td>\n",
       "      <td>Четыре комнаты</td>\n",
       "      <td>ресторан</td>\n",
       "      <td>Москва, улица Дыбенко, 36, корп. 1</td>\n",
       "      <td>Северный административный округ</td>\n",
       "      <td>ежедневно, 10:00–22:00</td>\n",
       "      <td>4.5</td>\n",
       "      <td>0</td>\n",
       "      <td>4.0</td>\n",
       "    </tr>\n",
       "    <tr>\n",
       "      <th>2</th>\n",
       "      <td>1070b6b59144425896c65889347fcff6</td>\n",
       "      <td>Хазри</td>\n",
       "      <td>кафе</td>\n",
       "      <td>Москва, Клязьминская улица, 15</td>\n",
       "      <td>Северный административный округ</td>\n",
       "      <td>пн-чт 11:00–02:00; пт,сб 11:00–05:00; вс 11:00...</td>\n",
       "      <td>4.6</td>\n",
       "      <td>0</td>\n",
       "      <td>45.0</td>\n",
       "    </tr>\n",
       "    <tr>\n",
       "      <th>3</th>\n",
       "      <td>03ac7cd772104f65b58b349dc59f03ee</td>\n",
       "      <td>Dormouse Coffee Shop</td>\n",
       "      <td>кофейня</td>\n",
       "      <td>Москва, улица Маршала Федоренко, 12</td>\n",
       "      <td>Северный административный округ</td>\n",
       "      <td>ежедневно, 09:00–22:00</td>\n",
       "      <td>5.0</td>\n",
       "      <td>0</td>\n",
       "      <td>NaN</td>\n",
       "    </tr>\n",
       "    <tr>\n",
       "      <th>4</th>\n",
       "      <td>a163aada139c4c7f87b0b1c0b466a50f</td>\n",
       "      <td>Иль Марко</td>\n",
       "      <td>пиццерия</td>\n",
       "      <td>Москва, Правобережная улица, 1Б</td>\n",
       "      <td>Северный административный округ</td>\n",
       "      <td>ежедневно, 10:00–22:00</td>\n",
       "      <td>5.0</td>\n",
       "      <td>1</td>\n",
       "      <td>148.0</td>\n",
       "    </tr>\n",
       "  </tbody>\n",
       "</table>\n",
       "</div>"
      ],
      "text/plain": [
       "                                 id                  name  category  \\\n",
       "0  0c3e3439a8c64ea5bf6ecd6ca6ae19f0                WoWфли      кафе   \n",
       "1  045780ada3474c57a2112e505d74b633        Четыре комнаты  ресторан   \n",
       "2  1070b6b59144425896c65889347fcff6                 Хазри      кафе   \n",
       "3  03ac7cd772104f65b58b349dc59f03ee  Dormouse Coffee Shop   кофейня   \n",
       "4  a163aada139c4c7f87b0b1c0b466a50f             Иль Марко  пиццерия   \n",
       "\n",
       "                               address                         district  \\\n",
       "0           Москва, улица Дыбенко, 7/1  Северный административный округ   \n",
       "1   Москва, улица Дыбенко, 36, корп. 1  Северный административный округ   \n",
       "2       Москва, Клязьминская улица, 15  Северный административный округ   \n",
       "3  Москва, улица Маршала Федоренко, 12  Северный административный округ   \n",
       "4      Москва, Правобережная улица, 1Б  Северный административный округ   \n",
       "\n",
       "                                               hours  rating  chain  seats  \n",
       "0                             ежедневно, 10:00–22:00     5.0      0    NaN  \n",
       "1                             ежедневно, 10:00–22:00     4.5      0    4.0  \n",
       "2  пн-чт 11:00–02:00; пт,сб 11:00–05:00; вс 11:00...     4.6      0   45.0  \n",
       "3                             ежедневно, 09:00–22:00     5.0      0    NaN  \n",
       "4                             ежедневно, 10:00–22:00     5.0      1  148.0  "
      ]
     },
     "metadata": {},
     "output_type": "display_data"
    },
    {
     "data": {
      "text/html": [
       "<div>\n",
       "<style scoped>\n",
       "    .dataframe tbody tr th:only-of-type {\n",
       "        vertical-align: middle;\n",
       "    }\n",
       "\n",
       "    .dataframe tbody tr th {\n",
       "        vertical-align: top;\n",
       "    }\n",
       "\n",
       "    .dataframe thead th {\n",
       "        text-align: right;\n",
       "    }\n",
       "</style>\n",
       "<table border=\"1\" class=\"dataframe\">\n",
       "  <thead>\n",
       "    <tr style=\"text-align: right;\">\n",
       "      <th></th>\n",
       "      <th>id</th>\n",
       "      <th>price</th>\n",
       "      <th>avg_bill</th>\n",
       "      <th>middle_avg_bill</th>\n",
       "      <th>middle_coffee_cup</th>\n",
       "    </tr>\n",
       "  </thead>\n",
       "  <tbody>\n",
       "    <tr>\n",
       "      <th>0</th>\n",
       "      <td>045780ada3474c57a2112e505d74b633</td>\n",
       "      <td>выше среднего</td>\n",
       "      <td>Средний счёт:1500–1600 ₽</td>\n",
       "      <td>1550.0</td>\n",
       "      <td>NaN</td>\n",
       "    </tr>\n",
       "    <tr>\n",
       "      <th>1</th>\n",
       "      <td>1070b6b59144425896c65889347fcff6</td>\n",
       "      <td>средние</td>\n",
       "      <td>Средний счёт:от 1000 ₽</td>\n",
       "      <td>1000.0</td>\n",
       "      <td>NaN</td>\n",
       "    </tr>\n",
       "    <tr>\n",
       "      <th>2</th>\n",
       "      <td>03ac7cd772104f65b58b349dc59f03ee</td>\n",
       "      <td>NaN</td>\n",
       "      <td>Цена чашки капучино:155–185 ₽</td>\n",
       "      <td>NaN</td>\n",
       "      <td>170.0</td>\n",
       "    </tr>\n",
       "    <tr>\n",
       "      <th>3</th>\n",
       "      <td>a163aada139c4c7f87b0b1c0b466a50f</td>\n",
       "      <td>средние</td>\n",
       "      <td>Средний счёт:400–600 ₽</td>\n",
       "      <td>500.0</td>\n",
       "      <td>NaN</td>\n",
       "    </tr>\n",
       "    <tr>\n",
       "      <th>4</th>\n",
       "      <td>8a343546b24e4a499ad96eb7d0797a8a</td>\n",
       "      <td>средние</td>\n",
       "      <td>NaN</td>\n",
       "      <td>NaN</td>\n",
       "      <td>NaN</td>\n",
       "    </tr>\n",
       "  </tbody>\n",
       "</table>\n",
       "</div>"
      ],
      "text/plain": [
       "                                 id          price  \\\n",
       "0  045780ada3474c57a2112e505d74b633  выше среднего   \n",
       "1  1070b6b59144425896c65889347fcff6        средние   \n",
       "2  03ac7cd772104f65b58b349dc59f03ee            NaN   \n",
       "3  a163aada139c4c7f87b0b1c0b466a50f        средние   \n",
       "4  8a343546b24e4a499ad96eb7d0797a8a        средние   \n",
       "\n",
       "                        avg_bill  middle_avg_bill  middle_coffee_cup  \n",
       "0       Средний счёт:1500–1600 ₽           1550.0                NaN  \n",
       "1         Средний счёт:от 1000 ₽           1000.0                NaN  \n",
       "2  Цена чашки капучино:155–185 ₽              NaN              170.0  \n",
       "3         Средний счёт:400–600 ₽            500.0                NaN  \n",
       "4                            NaN              NaN                NaN  "
      ]
     },
     "metadata": {},
     "output_type": "display_data"
    }
   ],
   "source": [
    "df1=pd.read_csv('https://code.s3.yandex.net//datasets/rest_info.csv')\n",
    "df2=pd.read_csv('https://code.s3.yandex.net//datasets/rest_price.csv')\n",
    "\n",
    "df1.info()\n",
    "df2.info()\n",
    "display(df1.head())\n",
    "display(df2.head())"
   ]
  },
  {
   "cell_type": "markdown",
   "id": "2c614a62",
   "metadata": {
    "hideCode": true,
    "hidePrompt": true,
    "id": "2c614a62"
   },
   "source": [
    "---\n",
    "\n",
    "### Промежуточный вывод\n",
    "\n",
    "Сделайте промежуточный вывод о полученных данных: данные какого объёма вам предоставили, соответствуют ли данные описанию, встречаются ли в них пропуски, используются ли верные типы данных. Отметьте другие особенности данных, которые вы обнаружите на этой стадии и на которые стоит обратить внимание при предобработке."
   ]
  },
  {
   "cell_type": "markdown",
   "id": "9e435802",
   "metadata": {
    "hideCode": true,
    "hidePrompt": true,
    "id": "3593b7d5"
   },
   "source": [
    "***Объем данных 1-ого датафрейма почти в 4 раза больше 2-ого. В первом мы можем выдеть информацию о самих заведениях, их расположение, количество мест и тд. Во втором мы видим информацию, больше связанную с заказами посетителей.***\n",
    "\n",
    "***В 1-ом датафрейме используются правильные типы данных для каждого из столбцов, единственное что можно сделать, так это уменьшить занимаемое место данного датафрема путем замены числовых типов данных на те, которые подойдут по размеру. Видно, что в 1 датафрейме имеются пропуски в 2 стобцах, hours  и seats. Причина появлений этих пропусков может быть такая: в столбце hours, где хранится информацию об открытии и закрытии заведения, может быть там нету четкого графика работы или данных вовсе не существует. В столбце seats, который отвечает за количество людей, которые могут сесть в заведении, может быть там вовсе нету посадочных мест, и все заказы отдают на вынос или работают только по доставке.***\n",
    "\n",
    "***В 2-ом датафрейме используются правильные типы данных для каждого из столбцов, единственное что можно сделать, так это уменьшить занимаемое место данного датафрема путем замены числовых типов данных на те, которые подойдут по размеру. Во 2-ом датафрейме пропусков больше, чем в 1-ом. Их основное отсутсвие зависит от стобца avg_bill,в нем используется определенные текстовы значения, которые влияют на результат столбцов middle_avg_bill и middle_coffee_cup.***"
   ]
  },
  {
   "cell_type": "markdown",
   "id": "8a8d1491",
   "metadata": {
    "hideCode": true,
    "hidePrompt": true,
    "id": "8a8d1491"
   },
   "source": [
    "### Подготовка единого датафрейма\n",
    "\n",
    "- Объедините данные двух датасетов в один, с которым вы и продолжите работу."
   ]
  },
  {
   "cell_type": "code",
   "execution_count": 4,
   "id": "3408e303",
   "metadata": {
    "hideCode": true,
    "hidePrompt": true,
    "id": "3408e303"
   },
   "outputs": [
    {
     "name": "stdout",
     "output_type": "stream",
     "text": [
      "<class 'pandas.core.frame.DataFrame'>\n",
      "RangeIndex: 8406 entries, 0 to 8405\n",
      "Data columns (total 13 columns):\n",
      " #   Column             Non-Null Count  Dtype  \n",
      "---  ------             --------------  -----  \n",
      " 0   id                 8406 non-null   object \n",
      " 1   name               8406 non-null   object \n",
      " 2   category           8406 non-null   object \n",
      " 3   address            8406 non-null   object \n",
      " 4   district           8406 non-null   object \n",
      " 5   hours              7870 non-null   object \n",
      " 6   rating             8406 non-null   float64\n",
      " 7   chain              8406 non-null   int64  \n",
      " 8   seats              4795 non-null   float64\n",
      " 9   price              3315 non-null   object \n",
      " 10  avg_bill           3816 non-null   object \n",
      " 11  middle_avg_bill    3149 non-null   float64\n",
      " 12  middle_coffee_cup  535 non-null    float64\n",
      "dtypes: float64(4), int64(1), object(8)\n",
      "memory usage: 853.9+ KB\n"
     ]
    },
    {
     "data": {
      "text/html": [
       "<div>\n",
       "<style scoped>\n",
       "    .dataframe tbody tr th:only-of-type {\n",
       "        vertical-align: middle;\n",
       "    }\n",
       "\n",
       "    .dataframe tbody tr th {\n",
       "        vertical-align: top;\n",
       "    }\n",
       "\n",
       "    .dataframe thead th {\n",
       "        text-align: right;\n",
       "    }\n",
       "</style>\n",
       "<table border=\"1\" class=\"dataframe\">\n",
       "  <thead>\n",
       "    <tr style=\"text-align: right;\">\n",
       "      <th></th>\n",
       "      <th>id</th>\n",
       "      <th>name</th>\n",
       "      <th>category</th>\n",
       "      <th>address</th>\n",
       "      <th>district</th>\n",
       "      <th>hours</th>\n",
       "      <th>rating</th>\n",
       "      <th>chain</th>\n",
       "      <th>seats</th>\n",
       "      <th>price</th>\n",
       "      <th>avg_bill</th>\n",
       "      <th>middle_avg_bill</th>\n",
       "      <th>middle_coffee_cup</th>\n",
       "    </tr>\n",
       "  </thead>\n",
       "  <tbody>\n",
       "    <tr>\n",
       "      <th>0</th>\n",
       "      <td>0c3e3439a8c64ea5bf6ecd6ca6ae19f0</td>\n",
       "      <td>WoWфли</td>\n",
       "      <td>кафе</td>\n",
       "      <td>Москва, улица Дыбенко, 7/1</td>\n",
       "      <td>Северный административный округ</td>\n",
       "      <td>ежедневно, 10:00–22:00</td>\n",
       "      <td>5.0</td>\n",
       "      <td>0</td>\n",
       "      <td>NaN</td>\n",
       "      <td>NaN</td>\n",
       "      <td>NaN</td>\n",
       "      <td>NaN</td>\n",
       "      <td>NaN</td>\n",
       "    </tr>\n",
       "    <tr>\n",
       "      <th>1</th>\n",
       "      <td>045780ada3474c57a2112e505d74b633</td>\n",
       "      <td>Четыре комнаты</td>\n",
       "      <td>ресторан</td>\n",
       "      <td>Москва, улица Дыбенко, 36, корп. 1</td>\n",
       "      <td>Северный административный округ</td>\n",
       "      <td>ежедневно, 10:00–22:00</td>\n",
       "      <td>4.5</td>\n",
       "      <td>0</td>\n",
       "      <td>4.0</td>\n",
       "      <td>выше среднего</td>\n",
       "      <td>Средний счёт:1500–1600 ₽</td>\n",
       "      <td>1550.0</td>\n",
       "      <td>NaN</td>\n",
       "    </tr>\n",
       "    <tr>\n",
       "      <th>2</th>\n",
       "      <td>1070b6b59144425896c65889347fcff6</td>\n",
       "      <td>Хазри</td>\n",
       "      <td>кафе</td>\n",
       "      <td>Москва, Клязьминская улица, 15</td>\n",
       "      <td>Северный административный округ</td>\n",
       "      <td>пн-чт 11:00–02:00; пт,сб 11:00–05:00; вс 11:00...</td>\n",
       "      <td>4.6</td>\n",
       "      <td>0</td>\n",
       "      <td>45.0</td>\n",
       "      <td>средние</td>\n",
       "      <td>Средний счёт:от 1000 ₽</td>\n",
       "      <td>1000.0</td>\n",
       "      <td>NaN</td>\n",
       "    </tr>\n",
       "    <tr>\n",
       "      <th>3</th>\n",
       "      <td>03ac7cd772104f65b58b349dc59f03ee</td>\n",
       "      <td>Dormouse Coffee Shop</td>\n",
       "      <td>кофейня</td>\n",
       "      <td>Москва, улица Маршала Федоренко, 12</td>\n",
       "      <td>Северный административный округ</td>\n",
       "      <td>ежедневно, 09:00–22:00</td>\n",
       "      <td>5.0</td>\n",
       "      <td>0</td>\n",
       "      <td>NaN</td>\n",
       "      <td>NaN</td>\n",
       "      <td>Цена чашки капучино:155–185 ₽</td>\n",
       "      <td>NaN</td>\n",
       "      <td>170.0</td>\n",
       "    </tr>\n",
       "    <tr>\n",
       "      <th>4</th>\n",
       "      <td>a163aada139c4c7f87b0b1c0b466a50f</td>\n",
       "      <td>Иль Марко</td>\n",
       "      <td>пиццерия</td>\n",
       "      <td>Москва, Правобережная улица, 1Б</td>\n",
       "      <td>Северный административный округ</td>\n",
       "      <td>ежедневно, 10:00–22:00</td>\n",
       "      <td>5.0</td>\n",
       "      <td>1</td>\n",
       "      <td>148.0</td>\n",
       "      <td>средние</td>\n",
       "      <td>Средний счёт:400–600 ₽</td>\n",
       "      <td>500.0</td>\n",
       "      <td>NaN</td>\n",
       "    </tr>\n",
       "  </tbody>\n",
       "</table>\n",
       "</div>"
      ],
      "text/plain": [
       "                                 id                  name  category  \\\n",
       "0  0c3e3439a8c64ea5bf6ecd6ca6ae19f0                WoWфли      кафе   \n",
       "1  045780ada3474c57a2112e505d74b633        Четыре комнаты  ресторан   \n",
       "2  1070b6b59144425896c65889347fcff6                 Хазри      кафе   \n",
       "3  03ac7cd772104f65b58b349dc59f03ee  Dormouse Coffee Shop   кофейня   \n",
       "4  a163aada139c4c7f87b0b1c0b466a50f             Иль Марко  пиццерия   \n",
       "\n",
       "                               address                         district  \\\n",
       "0           Москва, улица Дыбенко, 7/1  Северный административный округ   \n",
       "1   Москва, улица Дыбенко, 36, корп. 1  Северный административный округ   \n",
       "2       Москва, Клязьминская улица, 15  Северный административный округ   \n",
       "3  Москва, улица Маршала Федоренко, 12  Северный административный округ   \n",
       "4      Москва, Правобережная улица, 1Б  Северный административный округ   \n",
       "\n",
       "                                               hours  rating  chain  seats  \\\n",
       "0                             ежедневно, 10:00–22:00     5.0      0    NaN   \n",
       "1                             ежедневно, 10:00–22:00     4.5      0    4.0   \n",
       "2  пн-чт 11:00–02:00; пт,сб 11:00–05:00; вс 11:00...     4.6      0   45.0   \n",
       "3                             ежедневно, 09:00–22:00     5.0      0    NaN   \n",
       "4                             ежедневно, 10:00–22:00     5.0      1  148.0   \n",
       "\n",
       "           price                       avg_bill  middle_avg_bill  \\\n",
       "0            NaN                            NaN              NaN   \n",
       "1  выше среднего       Средний счёт:1500–1600 ₽           1550.0   \n",
       "2        средние         Средний счёт:от 1000 ₽           1000.0   \n",
       "3            NaN  Цена чашки капучино:155–185 ₽              NaN   \n",
       "4        средние         Средний счёт:400–600 ₽            500.0   \n",
       "\n",
       "   middle_coffee_cup  \n",
       "0                NaN  \n",
       "1                NaN  \n",
       "2                NaN  \n",
       "3              170.0  \n",
       "4                NaN  "
      ]
     },
     "metadata": {},
     "output_type": "display_data"
    }
   ],
   "source": [
    "df = df1.merge(df2,how = 'left', on = 'id')\n",
    "df.info()\n",
    "display(df.head())"
   ]
  },
  {
   "cell_type": "markdown",
   "id": "956e82e2",
   "metadata": {
    "hideCode": true,
    "hidePrompt": true,
    "id": "956e82e2"
   },
   "source": [
    "## 2. Предобработка данных\n",
    "\n",
    "Подготовьте данные к исследовательскому анализу:\n",
    "\n",
    "- Изучите корректность типов данных и при необходимости проведите их преобразование."
   ]
  },
  {
   "cell_type": "code",
   "execution_count": 5,
   "id": "67956690",
   "metadata": {
    "hideCode": true,
    "hidePrompt": true,
    "id": "67956690"
   },
   "outputs": [
    {
     "name": "stdout",
     "output_type": "stream",
     "text": [
      "Размер использования памяти: до  0.83 Mb - после  0.65 Mb (22.1%)\n",
      "<class 'pandas.core.frame.DataFrame'>\n",
      "RangeIndex: 8406 entries, 0 to 8405\n",
      "Data columns (total 13 columns):\n",
      " #   Column             Non-Null Count  Dtype  \n",
      "---  ------             --------------  -----  \n",
      " 0   id                 8406 non-null   object \n",
      " 1   name               8406 non-null   object \n",
      " 2   category           8406 non-null   object \n",
      " 3   address            8406 non-null   object \n",
      " 4   district           8406 non-null   object \n",
      " 5   hours              7870 non-null   object \n",
      " 6   rating             8406 non-null   float32\n",
      " 7   chain              8406 non-null   int8   \n",
      " 8   seats              4795 non-null   float32\n",
      " 9   price              3315 non-null   object \n",
      " 10  avg_bill           3816 non-null   object \n",
      " 11  middle_avg_bill    3149 non-null   float32\n",
      " 12  middle_coffee_cup  535 non-null    float32\n",
      "dtypes: float32(4), int8(1), object(8)\n",
      "memory usage: 665.1+ KB\n"
     ]
    }
   ],
   "source": [
    "def optimize_memory_usage(df: pd.DataFrame, print_size: bool=True) -> pd.DataFrame:\n",
    "    numerics = ['int16', 'int32', 'int64', 'float16', 'float32', 'float64'] \n",
    "    # Размер занимаемой памяти до оптимизации (в Мб)\n",
    "    before_size = df.memory_usage().sum() / 1024**2    \n",
    "    for column in df.columns:\n",
    "        column_type = df[column].dtypes\n",
    "        if column_type in numerics:\n",
    "            column_min = df[column].min()\n",
    "            column_max = df[column].max()\n",
    "            if str(column_type).startswith('int'):\n",
    "                if column_min > np.iinfo(np.int8).min and column_max < np.iinfo(np.int8).max:\n",
    "                    df[column] = df[column].astype(np.int8)\n",
    "                elif column_min > np.iinfo(np.int16).min and column_max < np.iinfo(np.int16).max:\n",
    "                    df[column] = df[column].astype(np.int16)\n",
    "                elif column_min > np.iinfo(np.int32).min and column_max < np.iinfo(np.int32).max:\n",
    "                    df[column] = df[column].astype(np.int32)\n",
    "                elif column_min > np.iinfo(np.int64).min and column_max < np.iinfo(np.int64).max:\n",
    "                    df[column] = df[column].astype(np.int64)  \n",
    "            else:\n",
    "                if column_min > np.finfo(np.float32).min and column_max < np.finfo(np.float32).max:\n",
    "                    df[column] = df[column].astype(np.float32)\n",
    "                else:\n",
    "                    df[column] = df[column].astype(np.float64)    \n",
    "    # Размер занимаемой памяти после оптимизации (в Мб)\n",
    "    after_size = df.memory_usage().sum() / 1024**2\n",
    "    if print_size: print('Размер использования памяти: до {:5.2f} Mb - после {:5.2f} Mb ({:.1f}%)'\n",
    "                         .format(before_size, after_size, 100 * (before_size - after_size) / before_size))\n",
    "    return df\n",
    "df= optimize_memory_usage(df)\n",
    "df.info()"
   ]
  },
  {
   "cell_type": "markdown",
   "id": "5511f299",
   "metadata": {
    "hideCode": true,
    "hidePrompt": true
   },
   "source": [
    "***В прошлом проекте ревьюер подсказал, как можно автоматизировать систему замены типов данных, решил воспользоваться. Тут мы видим, что числовые типы данных уменшили свой размер. Например столбец chain был размера int64, а теперь стал int8***"
   ]
  },
  {
   "cell_type": "markdown",
   "id": "4b7ee469",
   "metadata": {
    "hideCode": true,
    "hidePrompt": true,
    "id": "4b7ee469"
   },
   "source": [
    "- Изучите пропущенные значения в данных: посчитайте их количество в каждом столбце датафрейме, изучите данные с пропущенными значениями и предположите гипотезы их появления. Проведите обработку пропущенных значений: вы можете заменить пропуски на определённое значение, удалить строки с пропусками или оставить их как есть."
   ]
  },
  {
   "cell_type": "code",
   "execution_count": 6,
   "id": "6dc9af3e",
   "metadata": {
    "hideCode": true,
    "hidePrompt": true,
    "scrolled": true
   },
   "outputs": [
    {
     "name": "stdout",
     "output_type": "stream",
     "text": [
      "Уникальные значения в столбце id: ['0c3e3439a8c64ea5bf6ecd6ca6ae19f0' '045780ada3474c57a2112e505d74b633'\n",
      " '1070b6b59144425896c65889347fcff6' ... '62e8c64d4c89467aba608e39ef87616b'\n",
      " '06a0db5ecd4842d48cd6350aa923e297' '9d56f8f7a7f74df1a925bc0fd2de8aae']\n",
      "Уникальные значения в столбце name: ['WoWфли' 'Четыре комнаты' 'Хазри' ... 'Миславнес' 'Самовар' 'Kebab Time']\n",
      "Уникальные значения в столбце category: ['кафе' 'ресторан' 'кофейня' 'пиццерия' 'бар,паб' 'быстрое питание'\n",
      " 'булочная' 'столовая']\n",
      "Уникальные значения в столбце address: ['Москва, улица Дыбенко, 7/1' 'Москва, улица Дыбенко, 36, корп. 1'\n",
      " 'Москва, Клязьминская улица, 15' ...\n",
      " 'Москва, улица Лобачевского, 52, корп. 1'\n",
      " 'Москва, Болотниковская улица, 52, корп. 2'\n",
      " 'Москва, Чонгарский бульвар, 26А, корп. 1']\n",
      "Уникальные значения в столбце district: ['Северный административный округ'\n",
      " 'Северо-Восточный административный округ'\n",
      " 'Северо-Западный административный округ'\n",
      " 'Западный административный округ' 'Центральный административный округ'\n",
      " 'Восточный административный округ' 'Юго-Восточный административный округ'\n",
      " 'Южный административный округ' 'Юго-Западный административный округ']\n",
      "Уникальные значения в столбце hours: ['ежедневно, 10:00–22:00'\n",
      " 'пн-чт 11:00–02:00; пт,сб 11:00–05:00; вс 11:00–02:00'\n",
      " 'ежедневно, 09:00–22:00' ... 'пн-пт 08:30–21:30; сб,вс 09:00–21:30'\n",
      " 'пн-чт 13:00–22:00; пт,сб 13:00–22:30; вс 13:00–22:00'\n",
      " 'пн-сб 10:30–21:30']\n",
      "Уникальные значения в столбце rating: [5.  4.5 4.6 4.4 4.7 4.8 4.3 4.9 4.2 4.1 4.  3.8 3.9 3.7 3.6 2.8 2.7 3.1\n",
      " 1.5 2.  1.4 3.3 3.5 3.2 2.9 3.  3.4 2.3 2.2 2.5 2.6 1.7 1.  1.1 2.4 1.3\n",
      " 1.2 2.1 1.8 1.9 1.6]\n",
      "Уникальные значения в столбце chain: [0 1]\n",
      "Уникальные значения в столбце seats: [      nan 4.000e+00 4.500e+01 1.480e+02 7.900e+01 6.500e+01 1.020e+02\n",
      " 1.800e+02 9.600e+01 2.500e+01 4.600e+01 4.000e+01 2.470e+02 2.100e+01\n",
      " 8.000e+00 3.500e+01 2.400e+02 8.500e+01 1.200e+01 6.000e+01 1.200e+02\n",
      " 1.600e+01 8.000e+01 5.000e+01 4.400e+01 4.300e+01 9.000e+01 0.000e+00\n",
      " 1.980e+02 9.500e+01 3.500e+02 1.240e+02 1.000e+01 7.000e+01 4.800e+01\n",
      " 6.000e+00 9.800e+01 3.000e+01 5.200e+01 2.000e+01 2.000e+00 1.800e+01\n",
      " 2.200e+01 1.500e+01 2.800e+01 3.000e+02 7.500e+01 3.200e+01 1.000e+02\n",
      " 1.100e+02 2.300e+02 2.500e+02 1.300e+02 8.400e+01 3.980e+02 2.700e+01\n",
      " 2.860e+02 1.450e+02 3.600e+01 9.700e+01 2.260e+02 1.400e+02 1.660e+02\n",
      " 2.020e+02 9.400e+01 1.890e+02 5.300e+01 1.040e+02 7.200e+01 1.310e+02\n",
      " 1.050e+02 5.500e+01 1.700e+01 1.000e+00 1.150e+02 3.100e+02 7.700e+01\n",
      " 1.600e+02 3.200e+02 3.400e+01 1.500e+02 2.000e+02 1.070e+02 2.600e+01\n",
      " 2.400e+01 4.900e+01 2.200e+02 1.250e+02 7.000e+00 5.000e+02 2.100e+02\n",
      " 2.250e+02 2.730e+02 1.060e+02 1.120e+02 1.760e+02 6.900e+01 2.290e+02\n",
      " 6.200e+01 9.000e+00 2.390e+02 2.460e+02 4.200e+01 1.880e+02 1.740e+02\n",
      " 1.400e+01 7.600e+01 2.320e+02 6.800e+01 6.250e+02 8.300e+01 9.200e+01\n",
      " 1.280e+02 2.450e+02 5.800e+01 6.700e+01 8.200e+01 3.000e+00 6.300e+01\n",
      " 3.800e+01 5.600e+01 1.900e+02 4.700e+01 6.100e+01 3.070e+02 1.380e+02\n",
      " 2.170e+02 6.400e+01 7.800e+01 5.000e+00 3.430e+02 1.470e+02 8.800e+01\n",
      " 8.600e+01 7.400e+01 4.200e+02 1.700e+02 1.320e+02 9.300e+01 3.260e+02\n",
      " 1.260e+02 1.430e+02 2.900e+01 2.520e+02 4.810e+02 5.400e+01 2.120e+02\n",
      " 1.670e+02 3.560e+02 1.900e+01 8.700e+01 3.700e+01 1.040e+03 6.600e+02\n",
      " 8.100e+01 1.780e+02 1.640e+02 2.760e+02 1.840e+02 1.920e+02 2.800e+02\n",
      " 4.100e+01 1.870e+02 1.750e+02 1.130e+02 2.700e+02 1.850e+02 4.000e+02\n",
      " 4.800e+02 1.440e+02 2.870e+02 1.540e+02 3.080e+02 1.270e+02 4.780e+02\n",
      " 3.900e+01 2.360e+02 1.180e+02 9.200e+02 1.200e+03 1.510e+02 2.150e+02\n",
      " 1.550e+02 1.580e+02 3.800e+02 1.350e+02 1.650e+02 5.100e+01 6.600e+01\n",
      " 2.140e+02 3.060e+02 1.080e+02 2.660e+02 1.610e+02 1.460e+02 2.950e+02\n",
      " 4.300e+02 1.330e+02 1.950e+02 5.850e+02 1.160e+02 7.600e+02 6.500e+02\n",
      " 9.900e+01 1.220e+02 4.910e+02 2.900e+02 3.300e+02 6.000e+02 4.550e+02\n",
      " 4.500e+02 1.680e+02 1.288e+03 1.410e+02 6.440e+02 4.950e+02 2.750e+02\n",
      " 2.280e+02 1.590e+02 1.570e+02 4.280e+02 1.300e+01 2.680e+02 2.080e+02\n",
      " 1.140e+02 3.300e+01 6.750e+02 2.060e+02 1.730e+02 3.050e+02]\n",
      "Уникальные значения в столбце price: [nan 'выше среднего' 'средние' 'высокие' 'низкие']\n",
      "Уникальные значения в столбце avg_bill: [nan 'Средний счёт:1500–1600 ₽' 'Средний счёт:от 1000 ₽'\n",
      " 'Цена чашки капучино:155–185 ₽' 'Средний счёт:400–600 ₽'\n",
      " 'Средний счёт:199 ₽' 'Средний счёт:200–300 ₽' 'Средний счёт:от 500 ₽'\n",
      " 'Средний счёт:1000–1200 ₽' 'Цена бокала пива:250–350 ₽'\n",
      " 'Средний счёт:330 ₽' 'Средний счёт:1500 ₽' 'Средний счёт:300–500 ₽'\n",
      " 'Средний счёт:140–350 ₽' 'Средний счёт:350–500 ₽'\n",
      " 'Средний счёт:300–1500 ₽' 'Средний счёт:от 240 ₽'\n",
      " 'Средний счёт:200–250 ₽' 'Средний счёт:328 ₽' 'Средний счёт:300 ₽'\n",
      " 'Средний счёт:от 345 ₽' 'Средний счёт:60–400 ₽' 'Средний счёт:900 ₽'\n",
      " 'Средний счёт:500–800 ₽' 'Средний счёт:500–1000 ₽'\n",
      " 'Средний счёт:600–700 ₽' 'Цена бокала пива:120–350 ₽'\n",
      " 'Средний счёт:1000–1500 ₽' 'Средний счёт:1500–2000 ₽'\n",
      " 'Цена чашки капучино:150–190 ₽' 'Средний счёт:2000–2500 ₽'\n",
      " 'Средний счёт:600 ₽' 'Средний счёт:450 ₽' 'Цена чашки капучино:120–170 ₽'\n",
      " 'Средний счёт:100–500 ₽' 'Средний счёт:от 850 ₽'\n",
      " 'Цена чашки капучино:100–200 ₽' 'Средний счёт:250–600 ₽'\n",
      " 'Средний счёт:2100 ₽' 'Средний счёт:349 ₽' 'Цена бокала пива:90–230 ₽'\n",
      " 'Цена чашки капучино:150–210 ₽' 'Средний счёт:150–250 ₽'\n",
      " 'Средний счёт:от 120 ₽' 'Цена чашки капучино:80–160 ₽'\n",
      " 'Средний счёт:269 ₽' 'Средний счёт:600–2000 ₽' 'Средний счёт:700–800 ₽'\n",
      " 'Средний счёт:500–700 ₽' 'Средний счёт:300–2000 ₽' 'Средний счёт:355 ₽'\n",
      " 'Средний счёт:от 200 ₽' 'Средний счёт:800–1200 ₽'\n",
      " 'Средний счёт:150–300 ₽' 'Средний счёт:300–700 ₽'\n",
      " 'Средний счёт:250–300 ₽' 'Средний счёт:1200 ₽'\n",
      " 'Цена чашки капучино:100 ₽' 'Цена чашки капучино:239–274 ₽'\n",
      " 'Средний счёт:390–460 ₽' 'Средний счёт:700–1500 ₽'\n",
      " 'Средний счёт:800–1000 ₽' 'Средний счёт:700–1000 ₽' 'Средний счёт:240 ₽'\n",
      " 'Средний счёт:1000 ₽' 'Средний счёт:350–800 ₽' 'Средний счёт:1200–1800 ₽'\n",
      " 'Средний счёт:350 ₽' 'Средний счёт:от 700 ₽' 'Средний счёт:69–499 ₽'\n",
      " 'Цена чашки капучино:130–190 ₽' 'Цена бокала пива:160–499 ₽'\n",
      " 'Средний счёт:200–350 ₽' 'Средний счёт:100–200 ₽' 'Средний счёт:362 ₽'\n",
      " 'Средний счёт:150–500 ₽' 'Средний счёт:2000 ₽' 'Средний счёт:291 ₽'\n",
      " 'Средний счёт:260–300 ₽' 'Средний счёт:250–400 ₽'\n",
      " 'Средний счёт:1500–3000 ₽' 'Средний счёт:2500–3000 ₽'\n",
      " 'Средний счёт:от 1500 ₽' 'Средний счёт:400–500 ₽'\n",
      " 'Средний счёт:350–550 ₽' 'Средний счёт:1000–2000 ₽'\n",
      " 'Средний счёт:1200–1600 ₽' 'Средний счёт:2000–3000 ₽'\n",
      " 'Цена чашки капучино:200–300 ₽' 'Средний счёт:500 ₽'\n",
      " 'Средний счёт:1800–2500 ₽' 'Средний счёт:900–1100 ₽'\n",
      " 'Средний счёт:4500–5500 ₽' 'Средний счёт:700–1300 ₽'\n",
      " 'Цена чашки капучино:150–180 ₽' 'Средний счёт:650–1000 ₽'\n",
      " 'Средний счёт:от 350 ₽' 'Средний счёт:250–1000 ₽' 'Средний счёт:2500 ₽'\n",
      " 'Цена чашки капучино:119–179 ₽' 'Средний счёт:300–350 ₽'\n",
      " 'Средний счёт:300–600 ₽' 'Средний счёт:1500–5000 ₽'\n",
      " 'Средний счёт:1500–2500 ₽' 'Средний счёт:1000–1300 ₽'\n",
      " 'Цена чашки капучино:100–170 ₽' 'Средний счёт:600–750 ₽'\n",
      " 'Средний счёт:150–350 ₽' 'Средний счёт:200–400 ₽'\n",
      " 'Цена чашки капучино:200–240 ₽' 'Средний счёт:350–1000 ₽'\n",
      " 'Средний счёт:450–500 ₽' 'Средний счёт:1500–1880 ₽'\n",
      " 'Средний счёт:350–1500 ₽' 'Средний счёт:700 ₽' 'Средний счёт:800–1300 ₽'\n",
      " 'Средний счёт:250–430 ₽' 'Цена чашки капучино:150–200 ₽'\n",
      " 'Средний счёт:до 1000 ₽' 'Средний счёт:600–1300 ₽'\n",
      " 'Цена бокала пива:199–300 ₽' 'Цена бокала пива:от 140 ₽'\n",
      " 'Цена бокала пива:от 149 ₽' 'Цена бокала пива:150–450 ₽'\n",
      " 'Средний счёт:900–1150 ₽' 'Средний счёт:321 ₽' 'Средний счёт:300–800 ₽'\n",
      " 'Средний счёт:500–1500 ₽' 'Средний счёт:200–450 ₽'\n",
      " 'Цена чашки капучино:150–240 ₽' 'Средний счёт:360–540 ₽'\n",
      " 'Средний счёт:280–420 ₽' 'Средний счёт:360 ₽' 'Средний счёт:350–400 ₽'\n",
      " 'Средний счёт:250–500 ₽' 'Средний счёт:317 ₽' 'Средний счёт:250–350 ₽'\n",
      " 'Средний счёт:до 650 ₽' 'Средний счёт:324 ₽'\n",
      " 'Цена чашки капучино:от 60 ₽' 'Средний счёт:300–400 ₽'\n",
      " 'Средний счёт:343 ₽' 'Средний счёт:120–160 ₽'\n",
      " 'Цена чашки капучино:120–180 ₽' 'Средний счёт:120 ₽'\n",
      " 'Цена чашки капучино:179–249 ₽' 'Средний счёт:200–360 ₽'\n",
      " 'Средний счёт:300–450 ₽' 'Цена чашки капучино:75 ₽'\n",
      " 'Цена чашки капучино:от 89 ₽' 'Средний счёт:280–320 ₽'\n",
      " 'Цена чашки капучино:90–100 ₽' 'Средний счёт:240–360 ₽'\n",
      " 'Цена чашки капучино:149–259 ₽' 'Средний счёт:от 300 ₽'\n",
      " 'Средний счёт:30–300 ₽' 'Средний счёт:195–235 ₽' 'Средний счёт:от 549 ₽'\n",
      " 'Цена чашки капучино:120 ₽' 'Средний счёт:160–240 ₽'\n",
      " 'Средний счёт:320–480 ₽' 'Средний счёт:50–300 ₽' 'Средний счёт:313 ₽'\n",
      " 'Цена чашки капучино:от 90 ₽' 'Цена чашки капучино:110–170 ₽'\n",
      " 'Цена чашки капучино:105–145 ₽' 'Средний счёт:300–1000 ₽'\n",
      " 'Цена чашки капучино:155–170 ₽' 'Цена чашки капучино:130–180 ₽'\n",
      " 'Средний счёт:250–450 ₽' 'Цена чашки капучино:129–179 ₽'\n",
      " 'Цена чашки капучино:110–200 ₽' 'Средний счёт:260–400 ₽'\n",
      " 'Средний счёт:400–1000 ₽' 'Средний счёт:350–2400 ₽'\n",
      " 'Цена чашки капучино:285–310 ₽' 'Цена чашки капучино:110–190 ₽'\n",
      " 'Средний счёт:60–140 ₽' 'Цена чашки капучино:190–220 ₽'\n",
      " 'Средний счёт:140–160 ₽' 'Средний счёт:750–1200 ₽'\n",
      " 'Цена чашки капучино:100–180 ₽' 'Средний счёт:5000–17000 ₽'\n",
      " 'Цена чашки капучино:98–150 ₽' 'Средний счёт:250 ₽'\n",
      " 'Средний счёт:от 800 ₽' 'Средний счёт:120–470 ₽'\n",
      " 'Средний счёт:850–1100 ₽' 'Средний счёт:3500–4000 ₽'\n",
      " 'Средний счёт:1200–1500 ₽' 'Средний счёт:до 300 ₽'\n",
      " 'Цена чашки капучино:150–250 ₽' 'Средний счёт:от 2000 ₽'\n",
      " 'Средний счёт:1400–1600 ₽' 'Средний счёт:360–500 ₽'\n",
      " 'Средний счёт:100–160 ₽' 'Средний счёт:450–600 ₽' 'Средний счёт:800 ₽'\n",
      " 'Цена чашки капучино:140–200 ₽' 'Цена чашки капучино:160–220 ₽'\n",
      " 'Средний счёт:344 ₽' 'Средний счёт:400–800 ₽'\n",
      " 'Цена бокала пива:130–150 ₽' 'Цена чашки капучино:60–180 ₽'\n",
      " 'Средний счёт:150–220 ₽' 'Средний счёт:100–700 ₽'\n",
      " 'Средний счёт:700–1100 ₽' 'Цена чашки капучино:99–169 ₽'\n",
      " 'Цена чашки капучино:99–180 ₽' 'Средний счёт:900–1000 ₽'\n",
      " 'Средний счёт:120–370 ₽' 'Средний счёт:от 1800 ₽'\n",
      " 'Средний счёт:750–1000 ₽' 'Средний счёт:199–450 ₽'\n",
      " 'Цена чашки капучино:285–289 ₽' 'Цена чашки капучино:90–160 ₽'\n",
      " 'Средний счёт:480 ₽' 'Средний счёт:390–1000 ₽' 'Средний счёт:150–200 ₽'\n",
      " 'Цена чашки капучино:200–250 ₽' 'Средний счёт:1800 ₽'\n",
      " 'Цена чашки капучино:210–250 ₽' 'Цена чашки капучино:от 200 ₽'\n",
      " 'Средний счёт:100–180 ₽' 'Цена чашки капучино:200–275 ₽'\n",
      " 'Средний счёт:200 ₽' 'Цена чашки капучино:230–350 ₽'\n",
      " 'Средний счёт:100–423 ₽' 'Средний счёт:400–2500 ₽'\n",
      " 'Средний счёт:350–450 ₽' 'Цена чашки капучино:239–269 ₽'\n",
      " 'Цена чашки капучино:100–179 ₽' 'Средний счёт:400 ₽'\n",
      " 'Средний счёт:800–1500 ₽' 'Цена чашки капучино:140–220 ₽'\n",
      " 'Средний счёт:750–900 ₽' 'Цена чашки капучино:249–309 ₽'\n",
      " 'Цена бокала пива:220–350 ₽' 'Средний счёт:3000 ₽'\n",
      " 'Средний счёт:800–2000 ₽' 'Средний счёт:160–200 ₽'\n",
      " 'Средний счёт:500–600 ₽' 'Средний счёт:600–900 ₽' 'Средний счёт:404 ₽'\n",
      " 'Средний счёт:200–500 ₽' 'Средний счёт:170–300 ₽' 'Средний счёт:366 ₽'\n",
      " 'Средний счёт:304 ₽' 'Средний счёт:4000–5000 ₽' 'Средний счёт:275 ₽'\n",
      " 'Средний счёт:520–600 ₽' 'Средний счёт:200–600 ₽' 'Средний счёт:до 470 ₽'\n",
      " 'Средний счёт:275–500 ₽' 'Цена чашки капучино:130–170 ₽'\n",
      " 'Средний счёт:550–1500 ₽' 'Цена чашки капучино:150–290 ₽'\n",
      " 'Цена бокала пива:180–330 ₽' 'Средний счёт:700–3000 ₽'\n",
      " 'Средний счёт:800–3000 ₽' 'Средний счёт:от 340 ₽'\n",
      " 'Средний счёт:250–380 ₽' 'Средний счёт:500–1200 ₽' 'Средний счёт:363 ₽'\n",
      " 'Средний счёт:100–350 ₽' 'Средний счёт:250–270 ₽' 'Средний счёт:2900 ₽'\n",
      " 'Цена чашки капучино:109–169 ₽' 'Средний счёт:80–340 ₽'\n",
      " 'Цена чашки капучино:149–199 ₽' 'Цена чашки капучино:170–220 ₽'\n",
      " 'Средний счёт:80–300 ₽' 'Средний счёт:900–1200 ₽'\n",
      " 'Средний счёт:650–850 ₽' 'Средний счёт:750–850 ₽'\n",
      " 'Средний счёт:850–1200 ₽' 'Средний счёт:2200 ₽'\n",
      " 'Цена бокала пива:220–550 ₽' 'Цена чашки капучино:от 139 ₽'\n",
      " 'Цена бокала пива:150–290 ₽' 'Средний счёт:99–500 ₽'\n",
      " 'Средний счёт:от 250 ₽' 'Цена чашки капучино:120–150 ₽'\n",
      " 'Средний счёт:1500–1800 ₽' 'Средний счёт:600–1000 ₽'\n",
      " 'Средний счёт:1400 ₽' 'Цена чашки капучино:159–200 ₽'\n",
      " 'Средний счёт:150–180 ₽' 'Цена чашки капучино:250–340 ₽'\n",
      " 'Средний счёт:426 ₽' 'Средний счёт:400–650 ₽' 'Средний счёт:100–300 ₽'\n",
      " 'Средний счёт:850–1500 ₽' 'Средний счёт:3500–5000 ₽'\n",
      " 'Цена чашки капучино:220–270 ₽' 'Цена чашки капучино:60–150 ₽'\n",
      " 'Средний счёт:250–480 ₽' 'Средний счёт:800–1100 ₽'\n",
      " 'Цена чашки капучино:235–335 ₽' 'Цена чашки капучино:99–179 ₽'\n",
      " 'Средний счёт:260–1000 ₽' 'Средний счёт:1300–2500 ₽'\n",
      " 'Цена бокала пива:320–440 ₽' 'Цена чашки капучино:220–320 ₽'\n",
      " 'Средний счёт:320 ₽' 'Средний счёт:1300–1500 ₽'\n",
      " 'Цена чашки капучино:69–99 ₽' 'Средний счёт:до 1500 ₽'\n",
      " 'Цена чашки капучино:от 205 ₽' 'Цена чашки капучино:80–175 ₽'\n",
      " 'Цена чашки капучино:95 ₽' 'Цена чашки капучино:60–120 ₽'\n",
      " 'Средний счёт:205–500 ₽' 'Цена чашки капучино:60–100 ₽'\n",
      " 'Средний счёт:260–280 ₽' 'Цена чашки капучино:140–190 ₽'\n",
      " 'Цена чашки капучино:75–150 ₽' 'Средний счёт:2000–3500 ₽'\n",
      " 'Цена чашки капучино:150–220 ₽' 'Средний счёт:550 ₽'\n",
      " 'Цена бокала пива:370–410 ₽' 'Цена чашки капучино:130–250 ₽'\n",
      " 'Цена бокала пива:320–460 ₽' 'Цена чашки капучино:120–190 ₽'\n",
      " 'Средний счёт:500–650 ₽' 'Средний счёт:250–700 ₽'\n",
      " 'Средний счёт:500–550 ₽' 'Средний счёт:600–800 ₽'\n",
      " 'Средний счёт:600–1200 ₽' 'Средний счёт:700–1200 ₽'\n",
      " 'Цена чашки капучино:170–190 ₽' 'Цена бокала пива:180–420 ₽'\n",
      " 'Средний счёт:1300–1700 ₽' 'Средний счёт:300–650 ₽'\n",
      " 'Средний счёт:от 1200 ₽' 'Средний счёт:от 390 ₽' 'Средний счёт:от 2500 ₽'\n",
      " 'Средний счёт:230–250 ₽' 'Средний счёт:260–290 ₽'\n",
      " 'Средний счёт:1400–1700 ₽' 'Цена бокала пива:280 ₽'\n",
      " 'Средний счёт:100–2000 ₽' 'Цена чашки капучино:190–230 ₽'\n",
      " 'Средний счёт:от 180 ₽' 'Средний счёт:500–750 ₽'\n",
      " 'Цена бокала пива:150–350 ₽' 'Средний счёт:1100–1500 ₽'\n",
      " 'Средний счёт:400–1500 ₽' 'Средний счёт:700–850 ₽'\n",
      " 'Цена чашки капучино:180–200 ₽' 'Цена чашки капучино:до 179 ₽'\n",
      " 'Цена чашки капучино:300–350 ₽' 'Цена чашки капучино:89–229 ₽'\n",
      " 'Средний счёт:1200–2000 ₽' 'Цена бокала пива:270–390 ₽'\n",
      " 'Средний счёт:3000–4000 ₽' 'Средний счёт:500–2000 ₽' 'Средний счёт:443 ₽'\n",
      " 'Средний счёт:340–550 ₽' 'Цена чашки капучино:159 ₽' 'Средний счёт:229 ₽'\n",
      " 'Цена чашки капучино:180–250 ₽' 'Цена чашки капучино:195–295 ₽'\n",
      " 'Цена бокала пива:200–440 ₽' 'Средний счёт:700–900 ₽'\n",
      " 'Средний счёт:150–600 ₽' 'Средний счёт:2500–3500 ₽'\n",
      " 'Средний счёт:до 350 ₽' 'Средний счёт:3000–3500 ₽'\n",
      " 'Цена бокала пива:380–400 ₽' 'Средний счёт:1200–3000 ₽'\n",
      " 'Средний счёт:700–1400 ₽' 'Цена бокала пива:260–380 ₽'\n",
      " 'Средний счёт:280–290 ₽' 'Цена чашки капучино:70–150 ₽'\n",
      " 'Средний счёт:2500–4000 ₽' 'Средний счёт:400–1200 ₽'\n",
      " 'Цена чашки капучино:90–240 ₽' 'Средний счёт:375 ₽'\n",
      " 'Цена бокала пива:200–300 ₽' 'Цена чашки капучино:249–284 ₽'\n",
      " 'Цена бокала пива:от 350 ₽' 'Цена чашки капучино:от 150 ₽'\n",
      " 'Средний счёт:от 50 ₽' 'Цена чашки капучино:199–285 ₽'\n",
      " 'Цена чашки капучино:110–165 ₽' 'Средний счёт:500–1300 ₽'\n",
      " 'Цена чашки капучино:230–280 ₽' 'Цена чашки капучино:180–300 ₽'\n",
      " 'Цена чашки капучино:120–160 ₽' 'Средний счёт:35–300 ₽'\n",
      " 'Средний счёт:150–650 ₽' 'Средний счёт:290–500 ₽'\n",
      " 'Цена бокала пива:от 200 ₽' 'Средний счёт:650–800 ₽'\n",
      " 'Цена бокала пива:100–250 ₽' 'Средний счёт:330–400 ₽'\n",
      " 'Средний счёт:320–350 ₽' 'Цена чашки капучино:85–350 ₽'\n",
      " 'Средний счёт:650 ₽' 'Цена чашки капучино:280–350 ₽'\n",
      " 'Цена чашки капучино:от 170 ₽' 'Средний счёт:1000–2500 ₽'\n",
      " 'Средний счёт:950–1200 ₽' 'Средний счёт:500–2500 ₽'\n",
      " 'Средний счёт:795–1325 ₽' 'Средний счёт:1200–1300 ₽'\n",
      " 'Цена чашки капучино:от 230 ₽' 'Цена чашки капучино:100–160 ₽'\n",
      " 'Средний счёт:170–350 ₽' 'Цена чашки капучино:120–200 ₽'\n",
      " 'Средний счёт:750–1500 ₽' 'Цена чашки капучино:120–215 ₽'\n",
      " 'Средний счёт:232–387 ₽' 'Цена бокала пива:от 195 ₽'\n",
      " 'Цена чашки капучино:220–280 ₽' 'Средний счёт:330–990 ₽'\n",
      " 'Цена бокала пива:240–380 ₽' 'Средний счёт:150 ₽'\n",
      " 'Средний счёт:400–900 ₽' 'Средний счёт:220–350 ₽'\n",
      " 'Цена бокала пива:160–350 ₽' 'Средний счёт:70–150 ₽'\n",
      " 'Цена чашки капучино:от 169 ₽' 'Средний счёт:495 ₽'\n",
      " 'Цена чашки капучино:185–285 ₽' 'Цена чашки капучино:170–250 ₽'\n",
      " 'Средний счёт:35–100 ₽' 'Средний счёт:500–900 ₽'\n",
      " 'Цена чашки капучино:130–230 ₽' 'Средний счёт:450–550 ₽'\n",
      " 'Средний счёт:230–280 ₽' 'Цена бокала пива:300 ₽'\n",
      " 'Цена чашки капучино:100–140 ₽' 'Средний счёт:от 270 ₽'\n",
      " 'Цена бокала пива:200–390 ₽' 'Средний счёт:350–700 ₽'\n",
      " 'Средний счёт:400–700 ₽' 'Средний счёт:280 ₽' 'Средний счёт:60–180 ₽'\n",
      " 'Средний счёт:383 ₽' 'Цена чашки капучино:90–180 ₽'\n",
      " 'Цена чашки капучино:от 110 ₽' 'Средний счёт:391 ₽'\n",
      " 'Средний счёт:от 320 ₽' 'Цена чашки капучино:119–149 ₽'\n",
      " 'Цена чашки капучино:130 ₽' 'Цена чашки капучино:200 ₽'\n",
      " 'Средний счёт:700–3500 ₽' 'Цена чашки капучино:100–120 ₽'\n",
      " 'Средний счёт:500–3000 ₽' 'Цена чашки капучино:250 ₽'\n",
      " 'Цена бокала пива:180–260 ₽' 'Средний счёт:407 ₽'\n",
      " 'Средний счёт:170–490 ₽' 'Цена бокала пива:90–250 ₽'\n",
      " 'Средний счёт:49–369 ₽' 'Средний счёт:50–200 ₽' 'Средний счёт:270–350 ₽'\n",
      " 'Средний счёт:422 ₽' 'Цена чашки капучино:130–160 ₽'\n",
      " 'Цена чашки капучино:110–150 ₽' 'Цена чашки капучино:100–150 ₽'\n",
      " 'Цена чашки капучино:от 130 ₽' 'Цена чашки капучино:60–300 ₽'\n",
      " 'Средний счёт:415 ₽' 'Средний счёт:150–450 ₽' 'Средний счёт:500–1100 ₽'\n",
      " 'Средний счёт:250–550 ₽' 'Цена бокала пива:300–400 ₽'\n",
      " 'Средний счёт:190–280 ₽' 'Средний счёт:1000–10000 ₽'\n",
      " 'Цена бокала пива:от 100 ₽' 'Средний счёт:450–900 ₽' 'Средний счёт:432 ₽'\n",
      " 'Цена чашки капучино:90–150 ₽' 'Цена бокала пива:200–350 ₽'\n",
      " 'Средний счёт:350–600 ₽' 'Средний счёт:465 ₽'\n",
      " 'Цена чашки капучино:230–2907 ₽' 'Средний счёт:90–450 ₽'\n",
      " 'Средний счёт:299–450 ₽' 'Средний счёт:149–249 ₽'\n",
      " 'Цена чашки капучино:145–225 ₽' 'Средний счёт:412 ₽'\n",
      " 'Средний счёт:270–400 ₽' 'Цена чашки капучино:59–99 ₽'\n",
      " 'Средний счёт:5000–5500 ₽' 'Цена чашки капучино:250–270 ₽'\n",
      " 'Цена чашки капучино:120–140 ₽' 'Средний счёт:280–350 ₽'\n",
      " 'Средний счёт:550–750 ₽' 'Средний счёт:от 150 ₽' 'Средний счёт:400–450 ₽'\n",
      " 'Средний счёт:385 ₽' 'Средний счёт:1900–2500 ₽' 'Средний счёт:170–280 ₽'\n",
      " 'Средний счёт:400–550 ₽' 'Цена чашки капучино:250–350 ₽'\n",
      " 'Средний счёт:130–200 ₽' 'Цена чашки капучино:195 ₽'\n",
      " 'Цена чашки капучино:250–290 ₽' 'Средний счёт:300–420 ₽'\n",
      " 'Средний счёт:950–1500 ₽' 'Средний счёт:170–700 ₽'\n",
      " 'Цена чашки капучино:от 270 ₽' 'Средний счёт:180–350 ₽'\n",
      " 'Средний счёт:1300–1800 ₽' 'Цена бокала пива:220–450 ₽'\n",
      " 'Цена чашки капучино:284–299 ₽' 'Цена бокала пива:330–490 ₽'\n",
      " 'Цена чашки капучино:от 250 ₽' 'Средний счёт:550–1300 ₽'\n",
      " 'Цена бокала пива:420–640 ₽' 'Средний счёт:382 ₽' 'Средний счёт:от 399 ₽'\n",
      " 'Цена чашки капучино:90–158 ₽' 'Цена чашки капучино:140–180 ₽'\n",
      " 'Средний счёт:620 ₽' 'Цена чашки капучино:от 120 ₽'\n",
      " 'Цена чашки капучино:230–290 ₽' 'Цена чашки капучино:200–350 ₽'\n",
      " 'Средний счёт:411 ₽' 'Средний счёт:50–250 ₽' 'Средний счёт:150–400 ₽'\n",
      " 'Средний счёт:340 ₽' 'Средний счёт:от 175 ₽' 'Средний счёт:7000 ₽'\n",
      " 'Цена бокала пива:270–1100 ₽' 'Цена бокала пива:370–420 ₽'\n",
      " 'Средний счёт:2500–4500 ₽' 'Средний счёт:3000–5000 ₽'\n",
      " 'Средний счёт:от 5000 ₽' 'Цена бокала пива:300–475 ₽'\n",
      " 'Цена бокала пива:260–360 ₽' 'Средний счёт:6000–8000 ₽'\n",
      " 'Цена бокала пива:200–240 ₽' 'Цена чашки капучино:до 150 ₽'\n",
      " 'Средний счёт:1500–1900 ₽' 'Средний счёт:5000–8000 ₽'\n",
      " 'Цена бокала пива:199–459 ₽' 'Цена бокала пива:220–390 ₽'\n",
      " 'Средний счёт:280–450 ₽' 'Цена бокала пива:350–400 ₽'\n",
      " 'Цена бокала пива:390–590 ₽' 'Цена чашки капучино:250–300 ₽'\n",
      " 'Цена бокала пива:390 ₽' 'Средний счёт:350–650 ₽'\n",
      " 'Цена чашки капучино:220–250 ₽' 'Цена чашки капучино:180–210 ₽'\n",
      " 'Средний счёт:1300–2000 ₽' 'Средний счёт:5500 ₽' 'Средний счёт:2300 ₽'\n",
      " 'Цена чашки капучино:270 ₽' 'Цена бокала пива:220–440 ₽'\n",
      " 'Средний счёт:1000–1700 ₽' 'Цена чашки капучино:160–180 ₽'\n",
      " 'Средний счёт:320–1500 ₽' 'Средний счёт:от 420 ₽'\n",
      " 'Средний счёт:1000–3000 ₽' 'Средний счёт:от 0 ₽'\n",
      " 'Цена чашки капучино:200–220 ₽' 'Средний счёт:800–1800 ₽'\n",
      " 'Средний счёт:3500 ₽' 'Цена чашки капучино:80–150 ₽'\n",
      " 'Цена бокала пива:290–440 ₽' 'Средний счёт:2500–5000 ₽'\n",
      " 'Цена чашки капучино:279–378 ₽' 'Средний счёт:1300 ₽'\n",
      " 'Средний счёт:2400 ₽' 'Средний счёт:180–280 ₽'\n",
      " 'Цена бокала пива:300–600 ₽' 'Средний счёт:300–550 ₽'\n",
      " 'Цена бокала пива:150–250 ₽' 'Средний счёт:1400–1800 ₽'\n",
      " 'Цена чашки капучино:195–245 ₽' 'Средний счёт:900–1400 ₽'\n",
      " 'Средний счёт:190–290 ₽' 'Цена бокала пива:190–500 ₽'\n",
      " 'Цена чашки капучино:230–320 ₽' 'Средний счёт:1500–3500 ₽'\n",
      " 'Средний счёт:7000–7500 ₽' 'Средний счёт:1300–1600 ₽'\n",
      " 'Средний счёт:1700–2500 ₽' 'Средний счёт:6000 ₽' 'Средний счёт:5000 ₽'\n",
      " 'Средний счёт:80–350 ₽' 'Средний счёт:от 600 ₽'\n",
      " 'Средний счёт:1800–2000 ₽' 'Средний счёт:1000–1100 ₽'\n",
      " 'Средний счёт:2000–5000 ₽' 'Средний счёт:1200–2500 ₽'\n",
      " 'Средний счёт:130–700 ₽' 'Цена чашки капучино:115–140 ₽'\n",
      " 'Цена бокала пива:250–490 ₽' 'Средний счёт:900–1500 ₽'\n",
      " 'Цена бокала пива:240–350 ₽' 'Средний счёт:1200–1900 ₽'\n",
      " 'Средний счёт:1700 ₽' 'Средний счёт:250–280 ₽'\n",
      " 'Цена бокала пива:200–1100 ₽' 'Средний счёт:4000 ₽' 'Средний счёт:2600 ₽'\n",
      " 'Средний счёт:1330 ₽' 'Средний счёт:1900 ₽' 'Цена чашки капучино:90–99 ₽'\n",
      " 'Цена чашки капучино:160–350 ₽' 'Цена бокала пива:300–500 ₽'\n",
      " 'Средний счёт:590–1490 ₽' 'Средний счёт:280–400 ₽'\n",
      " 'Цена чашки капучино:50–150 ₽' 'Средний счёт:1–2000 ₽'\n",
      " 'Цена чашки капучино:250–280 ₽' 'Средний счёт:1500–1700 ₽'\n",
      " 'Средний счёт:220 ₽' 'Средний счёт:от 475 ₽'\n",
      " 'Цена чашки капучино:205–245 ₽' 'Средний счёт:от 470 ₽'\n",
      " 'Цена бокала пива:88–460 ₽' 'Средний счёт:400–6000 ₽'\n",
      " 'Цена чашки капучино:270–280 ₽' 'Средний счёт:от 1400 ₽'\n",
      " 'Цена чашки капучино:150–219 ₽' 'Средний счёт:230–500 ₽'\n",
      " 'Средний счёт:650–2000 ₽' 'Средний счёт:от 3500 ₽'\n",
      " 'Цена бокала пива:170–380 ₽' 'Средний счёт:260 ₽'\n",
      " 'Цена бокала пива:250–400 ₽' 'Средний счёт:от 4000 ₽'\n",
      " 'Средний счёт:600–950 ₽' 'Средний счёт:270–300 ₽'\n",
      " 'Цена бокала пива:260–400 ₽' 'Цена чашки капучино:от 180 ₽'\n",
      " 'Цена бокала пива:250–450 ₽' 'Средний счёт:240–350 ₽'\n",
      " 'Цена чашки капучино:170–230 ₽' 'Цена бокала пива:200–380 ₽'\n",
      " 'Цена бокала пива:350 ₽' 'Средний счёт:150–260 ₽' 'Средний счёт:от 330 ₽'\n",
      " 'Цена бокала пива:320–380 ₽' 'Цена чашки капучино:от 100 ₽'\n",
      " 'Цена бокала пива:340–420 ₽' 'Средний счёт:230–650 ₽'\n",
      " 'Средний счёт:380–400 ₽' 'Цена бокала пива:129–319 ₽'\n",
      " 'Цена чашки капучино:160–210 ₽' 'Цена чашки капучино:300 ₽'\n",
      " 'Цена чашки капучино:90–130 ₽' 'Средний счёт:1200–1700 ₽'\n",
      " 'Средний счёт:от 3000 ₽' 'Цена чашки капучино:170–210 ₽'\n",
      " 'Цена чашки капучино:220 ₽' 'Цена бокала пива:320–470 ₽'\n",
      " 'Цена чашки капучино:250–330 ₽' 'Средний счёт:160–500 ₽'\n",
      " 'Средний счёт:150–700 ₽' 'Цена бокала пива:до 350 ₽'\n",
      " 'Цена чашки капучино:от 300 ₽' 'Средний счёт:700–1800 ₽'\n",
      " 'Цена бокала пива:290–390 ₽' 'Цена бокала пива:350–500 ₽'\n",
      " 'Цена бокала пива:270–490 ₽' 'Средний счёт:1400–1500 ₽'\n",
      " 'Цена чашки капучино:190–240 ₽' 'Цена чашки капучино:189–269 ₽'\n",
      " 'Цена бокала пива:230–350 ₽' 'Средний счёт:250–800 ₽'\n",
      " 'Цена чашки капучино:120–250 ₽' 'Средний счёт:250–320 ₽'\n",
      " 'Средний счёт:от 400 ₽' 'Средний счёт:1000–1600 ₽'\n",
      " 'Цена чашки капучино:99–200 ₽' 'Цена бокала пива:180–380 ₽'\n",
      " 'Цена чашки капучино:130–210 ₽' 'Средний счёт:290–490 ₽'\n",
      " 'Цена бокала пива:340 ₽' 'Цена бокала пива:300–420 ₽'\n",
      " 'Средний счёт:100–400 ₽' 'Средний счёт:190–350 ₽'\n",
      " 'Средний счёт:600–1500 ₽' 'Средний счёт:350–2000 ₽'\n",
      " 'Цена чашки капучино:170–200 ₽' 'Цена чашки капучино:139–189 ₽'\n",
      " 'Цена бокала пива:150–180 ₽' 'Средний счёт:390–500 ₽'\n",
      " 'Средний счёт:450–700 ₽' 'Цена чашки капучино:149–219 ₽'\n",
      " 'Средний счёт:301 ₽' 'Цена чашки капучино:180–230 ₽'\n",
      " 'Цена бокала пива:190–350 ₽' 'Средний счёт:180–220 ₽'\n",
      " 'Цена чашки капучино:220–240 ₽' 'Цена чашки капучино:145–200 ₽'\n",
      " 'Цена бокала пива:320–375 ₽' 'Средний счёт:380–500 ₽'\n",
      " 'Цена чашки капучино:239–279 ₽' 'Средний счёт:270–450 ₽'\n",
      " 'Средний счёт:240–500 ₽' 'Средний счёт:1600 ₽' 'Средний счёт:850–1000 ₽'\n",
      " 'Цена бокала пива:155–465 ₽' 'Цена чашки капучино:190–250 ₽'\n",
      " 'Цена бокала пива:280–400 ₽' 'Средний счёт:до 500 ₽' 'Средний счёт:433 ₽'\n",
      " 'Цена чашки капучино:220–350 ₽' 'Средний счёт:1300–2100 ₽'\n",
      " 'Цена чашки капучино:179–314 ₽' 'Средний счёт:90–190 ₽'\n",
      " 'Средний счёт:150–1000 ₽' 'Цена чашки капучино:275 ₽'\n",
      " 'Средний счёт:4500–5000 ₽' 'Цена чашки капучино:179–219 ₽'\n",
      " 'Цена бокала пива:360 ₽' 'Цена чашки капучино:140–170 ₽'\n",
      " 'Средний счёт:1000–1350 ₽' 'Цена бокала пива:250–395 ₽'\n",
      " 'Цена чашки капучино:160–200 ₽' 'Цена чашки капучино:90–110 ₽'\n",
      " 'Цена бокала пива:170–320 ₽' 'Средний счёт:2000–4000 ₽'\n",
      " 'Цена чашки капучино:90–98 ₽' 'Цена чашки капучино:128–148 ₽'\n",
      " 'Цена чашки капучино:90–170 ₽' 'Средний счёт:339 ₽'\n",
      " 'Средний счёт:5000–15000 ₽' 'Средний счёт:470 ₽'\n",
      " 'Цена чашки капучино:250–500 ₽' 'Средний счёт:200–220 ₽'\n",
      " 'Средний счёт:410 ₽' 'Средний счёт:370 ₽' 'Средний счёт:285 ₽'\n",
      " 'Средний счёт:220–270 ₽' 'Средний счёт:200–1000 ₽'\n",
      " 'Цена бокала пива:150 ₽' 'Средний счёт:190–260 ₽'\n",
      " 'Цена бокала пива:200–320 ₽' 'Средний счёт:508 ₽' 'Средний счёт:438 ₽'\n",
      " 'Цена чашки капучино:89–209 ₽' 'Цена чашки капучино:120–210 ₽'\n",
      " 'Цена чашки капучино:184–194 ₽' 'Средний счёт:472 ₽'\n",
      " 'Средний счёт:350–420 ₽' 'Средний счёт:310–370 ₽'\n",
      " 'Цена чашки капучино:230–250 ₽' 'Цена бокала пива:250–390 ₽'\n",
      " 'Средний счёт:550–1550 ₽' 'Средний счёт:1000–1400 ₽'\n",
      " 'Цена чашки капучино:199–229 ₽' 'Цена чашки капучино:250–390 ₽'\n",
      " 'Средний счёт:670 ₽' 'Цена бокала пива:190–450 ₽'\n",
      " 'Средний счёт:280–330 ₽' 'Средний счёт:230–350 ₽'\n",
      " 'Цена чашки капучино:220–330 ₽' 'Цена бокала пива:150–230 ₽'\n",
      " 'Цена бокала пива:180–480 ₽' 'Средний счёт:от 450 ₽' 'Средний счёт:290 ₽'\n",
      " 'Цена бокала пива:190–430 ₽' 'Цена чашки капучино:90–250 ₽'\n",
      " 'Цена чашки капучино:240 ₽' 'Цена бокала пива:250–550 ₽'\n",
      " 'Средний счёт:170–230 ₽' 'Средний счёт:450–800 ₽'\n",
      " 'Средний счёт:1500–4000 ₽' 'Цена чашки капучино:150–245 ₽'\n",
      " 'Средний счёт:420–680 ₽' 'Средний счёт:441 ₽'\n",
      " 'Цена чашки капучино:160–270 ₽' 'Средний счёт:230–300 ₽'\n",
      " 'Средний счёт:80–220 ₽' 'Средний счёт:390–700 ₽'\n",
      " 'Цена чашки капучино:190–245 ₽' 'Средний счёт:от 100 ₽'\n",
      " 'Средний счёт:450–650 ₽' 'Цена бокала пива:180–400 ₽'\n",
      " 'Цена чашки капучино:90–140 ₽' 'Средний счёт:550–700 ₽'\n",
      " 'Средний счёт:300–430 ₽' 'Цена бокала пива:220–500 ₽'\n",
      " 'Средний счёт:1700–1900 ₽' 'Средний счёт:520–1200 ₽' 'Средний счёт:434 ₽'\n",
      " 'Средний счёт:150–599 ₽' 'Средний счёт:90 ₽' 'Средний счёт:от 499 ₽'\n",
      " 'Цена бокала пива:140–190 ₽' 'Средний счёт:390–660 ₽'\n",
      " 'Средний счёт:503 ₽' 'Средний счёт:от 1090 ₽' 'Цена бокала пива:230 ₽'\n",
      " 'Средний счёт:850 ₽' 'Средний счёт:100–599 ₽' 'Средний счёт:130–350 ₽'\n",
      " 'Средний счёт:499–700 ₽' 'Средний счёт:100 ₽' 'Средний счёт:373 ₽'\n",
      " 'Средний счёт:385–580 ₽' 'Цена чашки капучино:145–185 ₽'\n",
      " 'Средний счёт:380–600 ₽' 'Цена чашки капучино:210–290 ₽'\n",
      " 'Средний счёт:220–500 ₽' 'Средний счёт:90–230 ₽' 'Средний счёт:120–150 ₽'\n",
      " 'Цена чашки капучино:179–275 ₽' 'Цена чашки капучино:95–159 ₽'\n",
      " 'Цена чашки капучино:200–260 ₽' 'Средний счёт:392 ₽'\n",
      " 'Цена чашки капучино:65–140 ₽' 'Средний счёт:430 ₽'\n",
      " 'Цена чашки капучино:от 160 ₽' 'Цена чашки капучино:150 ₽'\n",
      " 'Средний счёт:110–200 ₽' 'Цена чашки капучино:110–160 ₽'\n",
      " 'Средний счёт:130–140 ₽' 'Средний счёт:190 ₽'\n",
      " 'Цена бокала пива:140–420 ₽' 'Средний счёт:299 ₽' 'Средний счёт:402 ₽'\n",
      " 'Цена чашки капучино:129–169 ₽' 'Цена чашки капучино:160–250 ₽'\n",
      " 'Средний счёт:20000–50000 ₽' 'Цена чашки капучино:130–150 ₽'\n",
      " 'Цена чашки капучино:89–149 ₽' 'Средний счёт:435 ₽' 'Средний счёт:270 ₽'\n",
      " 'Цена бокала пива:280–360 ₽' 'Цена бокала пива:350–370 ₽'\n",
      " 'Средний счёт:от 199 ₽' 'Средний счёт:50 ₽' 'Средний счёт:453 ₽'\n",
      " 'Цена бокала пива:170–240 ₽' 'Цена чашки капучино:60–90 ₽'\n",
      " 'Средний счёт:750 ₽' 'Средний счёт:1000–5000 ₽' 'Средний счёт:500–5000 ₽'\n",
      " 'Средний счёт:160–250 ₽' 'Средний счёт:439 ₽' 'Средний счёт:от 30 ₽'\n",
      " 'Средний счёт:170–220 ₽' 'Средний счёт:298 ₽'\n",
      " 'Цена бокала пива:170–200 ₽' 'Средний счёт:500–520 ₽'\n",
      " 'Цена бокала пива:39–190 ₽' 'Средний счёт:100–270 ₽'\n",
      " 'Средний счёт:299–400 ₽' 'Цена чашки капучино:119–169 ₽'\n",
      " 'Средний счёт:416 ₽' 'Цена чашки капучино:205–280 ₽'\n",
      " 'Цена чашки капучино:140–160 ₽' 'Цена чашки капучино:110 ₽'\n",
      " 'Средний счёт:266 ₽' 'Цена бокала пива:200 ₽'\n",
      " 'Цена чашки капучино:от 129 ₽' 'Средний счёт:140–250 ₽'\n",
      " 'Цена бокала пива:140–330 ₽' 'Средний счёт:170 ₽'\n",
      " 'Средний счёт:140–142 ₽' 'Средний счёт:372 ₽' 'Средний счёт:200–700 ₽'\n",
      " 'Средний счёт:475 ₽' 'Средний счёт:100–1000 ₽' 'Средний счёт:413 ₽'\n",
      " 'Средний счёт:450–750 ₽' 'Средний счёт:от 140 ₽' 'Средний счёт:100–330 ₽'\n",
      " 'Цена бокала пива:390–530 ₽' 'Средний счёт:от 650 ₽'\n",
      " 'Цена чашки капучино:150–320 ₽' 'Средний счёт:200–280 ₽'\n",
      " 'Средний счёт:200–270 ₽' 'Цена бокала пива:280–410 ₽'\n",
      " 'Цена бокала пива:190–390 ₽' 'Цена бокала пива:220–250 ₽'\n",
      " 'Цена чашки капучино:170–239 ₽' 'Средний счёт:35–180 ₽'\n",
      " 'Средний счёт:220–300 ₽' 'Средний счёт:от 165 ₽'\n",
      " 'Цена чашки капучино:100–210 ₽' 'Средний счёт:от 230 ₽'\n",
      " 'Средний счёт:380–1010 ₽' 'Средний счёт:280–360 ₽'\n",
      " 'Средний счёт:500–1050 ₽' 'Средний счёт:180 ₽'\n",
      " 'Цена чашки капучино:80–240 ₽' 'Средний счёт:300–1600 ₽'\n",
      " 'Средний счёт:70–200 ₽' 'Цена чашки капучино:160–230 ₽'\n",
      " 'Средний счёт:180–1170 ₽' 'Цена бокала пива:160–390 ₽'\n",
      " 'Средний счёт:120–130 ₽' 'Цена чашки капучино:120–220 ₽'\n",
      " 'Цена чашки капучино:100–220 ₽' 'Цена чашки капучино:80–120 ₽']\n",
      "Уникальные значения в столбце middle_avg_bill: [      nan 1.550e+03 1.000e+03 5.000e+02 1.990e+02 2.500e+02 1.100e+03\n",
      " 3.300e+02 1.500e+03 4.000e+02 2.450e+02 4.250e+02 9.000e+02 2.400e+02\n",
      " 2.250e+02 3.280e+02 3.000e+02 3.450e+02 2.300e+02 6.500e+02 7.500e+02\n",
      " 1.250e+03 1.750e+03 2.250e+03 6.000e+02 4.500e+02 8.500e+02 2.100e+03\n",
      " 3.490e+02 2.000e+02 1.200e+02 2.690e+02 1.300e+03 1.150e+03 3.550e+02\n",
      " 2.750e+02 1.200e+03 5.750e+02 3.500e+02 7.000e+02 2.840e+02 1.500e+02\n",
      " 3.620e+02 3.250e+02 2.000e+03 2.910e+02 2.800e+02 2.750e+03 1.400e+03\n",
      " 2.500e+03 2.150e+03 5.000e+03 8.250e+02 6.250e+02 3.250e+03 6.750e+02\n",
      " 4.750e+02 1.690e+03 9.250e+02 1.050e+03 3.400e+02 9.500e+02 1.025e+03\n",
      " 3.210e+02 5.500e+02 3.600e+02 3.750e+02 3.170e+02 3.240e+02 3.430e+02\n",
      " 1.400e+02 1.650e+02 2.150e+02 5.490e+02 1.750e+02 3.130e+02 1.375e+03\n",
      " 1.000e+02 9.750e+02 1.100e+04 8.000e+02 2.950e+02 3.750e+03 1.350e+03\n",
      " 4.300e+02 1.300e+02 5.250e+02 3.440e+02 1.850e+02 1.800e+03 8.750e+02\n",
      " 4.800e+02 6.950e+02 2.610e+02 1.450e+03 3.000e+03 1.800e+02 4.040e+02\n",
      " 2.350e+02 3.660e+02 3.040e+02 4.500e+03 5.600e+02 4.700e+02 3.870e+02\n",
      " 1.850e+03 1.900e+03 3.150e+02 3.630e+02 2.600e+02 2.900e+03 2.100e+02\n",
      " 1.900e+02 2.200e+03 2.990e+02 1.650e+03 4.260e+02 1.175e+03 4.250e+03\n",
      " 3.650e+02 6.300e+02 3.200e+02 3.520e+02 2.700e+02 3.900e+02 7.750e+02\n",
      " 1.600e+03 3.500e+03 4.430e+02 4.450e+02 2.290e+02 2.850e+02 5.000e+01\n",
      " 1.670e+02 3.950e+02 7.250e+02 3.350e+02 1.075e+03 1.060e+03 1.125e+03\n",
      " 3.090e+02 6.600e+02 1.100e+02 4.950e+02 6.700e+01 2.550e+02 3.830e+02\n",
      " 3.910e+02 4.070e+02 2.090e+02 1.250e+02 3.100e+02 4.220e+02 4.150e+02\n",
      " 5.500e+03 4.320e+02 4.650e+02 3.740e+02 4.120e+02 5.250e+03 3.850e+02\n",
      " 1.225e+03 4.350e+02 2.650e+02 3.820e+02 3.990e+02 6.200e+02 4.110e+02\n",
      " 7.000e+03 4.000e+03 1.700e+03 6.500e+03 2.300e+03 9.100e+02 4.200e+02\n",
      " 0.000e+00 2.400e+03 7.250e+03 6.000e+03 2.600e+03 1.330e+03 1.040e+03\n",
      " 2.200e+02 3.200e+03 1.325e+03 2.050e+02 4.400e+02 3.010e+02 3.700e+02\n",
      " 4.330e+02 4.750e+03 3.390e+02 1.000e+04 4.100e+02 5.080e+02 4.380e+02\n",
      " 4.720e+02 6.700e+02 3.050e+02 2.900e+02 4.410e+02 5.450e+02 8.600e+02\n",
      " 4.340e+02 9.000e+01 4.990e+02 5.030e+02 1.090e+03 5.990e+02 3.730e+02\n",
      " 4.820e+02 4.900e+02 1.600e+02 1.350e+02 3.920e+02 1.550e+02 4.020e+02\n",
      " 3.500e+04 4.530e+02 4.390e+02 3.000e+01 1.950e+02 2.980e+02 5.100e+02\n",
      " 4.160e+02 2.660e+02 1.700e+02 1.410e+02 3.720e+02 4.130e+02 1.070e+02]\n",
      "Уникальные значения в столбце middle_coffee_cup: [  nan  170.  145.  150.  180.  120.  100.  256.  160.  250.  165.  149.\n",
      "  135.  220.  175.  195.   60.  214.   75.   89.   95.  204.   90.  140.\n",
      "  125.  162.  155.  154.  297.  205.  124.  200.  190.  134.  139.  287.\n",
      "  225.  230.  237.  290.  254.  279.  174.  179.  295.  245.  105.  285.\n",
      "  270.   84.  127.   80.  112.  185.  210.  325.  159.  215.  110.  266.\n",
      "  242.  137.  255.  240.  217.  315.  130.  167.  169.  235. 1568.   79.\n",
      "  260.  300.  291.  275.  115.  328.   94.  265.  184.  229.  164.  172.\n",
      "  259.  246.  199.  138.  375.  189.  320.  197.  227.  102.  119.  144.\n",
      "  129.]\n"
     ]
    }
   ],
   "source": [
    "for column in df.columns:\n",
    "    unique_values = df[column].unique()\n",
    "    print(f\"Уникальные значения в столбце {column}: {unique_values}\")"
   ]
  },
  {
   "cell_type": "code",
   "execution_count": 7,
   "id": "3d8840ca",
   "metadata": {
    "hideCode": true,
    "hidePrompt": true,
    "id": "3d8840ca"
   },
   "outputs": [
    {
     "data": {
      "text/html": [
       "<style type=\"text/css\">\n",
       "#T_15ca9_row0_col0, #T_15ca9_row0_col1 {\n",
       "  background-color: #2c3172;\n",
       "  color: #f1f1f1;\n",
       "}\n",
       "#T_15ca9_row1_col0, #T_15ca9_row1_col1 {\n",
       "  background-color: #1d6c8a;\n",
       "  color: #f1f1f1;\n",
       "}\n",
       "#T_15ca9_row2_col0, #T_15ca9_row2_col1 {\n",
       "  background-color: #1e6f8a;\n",
       "  color: #f1f1f1;\n",
       "}\n",
       "#T_15ca9_row3_col0, #T_15ca9_row3_col1 {\n",
       "  background-color: #26788c;\n",
       "  color: #f1f1f1;\n",
       "}\n",
       "#T_15ca9_row4_col0, #T_15ca9_row4_col1 {\n",
       "  background-color: #3a8b8e;\n",
       "  color: #f1f1f1;\n",
       "}\n",
       "#T_15ca9_row5_col0, #T_15ca9_row5_col1 {\n",
       "  background-color: #92c491;\n",
       "  color: #000000;\n",
       "}\n",
       "#T_15ca9_row6_col0, #T_15ca9_row6_col1, #T_15ca9_row7_col0, #T_15ca9_row7_col1, #T_15ca9_row8_col0, #T_15ca9_row8_col1, #T_15ca9_row9_col0, #T_15ca9_row9_col1, #T_15ca9_row10_col0, #T_15ca9_row10_col1, #T_15ca9_row11_col0, #T_15ca9_row11_col1, #T_15ca9_row12_col0, #T_15ca9_row12_col1 {\n",
       "  background-color: #a5cd90;\n",
       "  color: #000000;\n",
       "}\n",
       "</style>\n",
       "<table id=\"T_15ca9\">\n",
       "  <thead>\n",
       "    <tr>\n",
       "      <th class=\"blank level0\" >&nbsp;</th>\n",
       "      <th id=\"T_15ca9_level0_col0\" class=\"col_heading level0 col0\" >Количество пропусков</th>\n",
       "      <th id=\"T_15ca9_level0_col1\" class=\"col_heading level0 col1\" >Процент пропусков</th>\n",
       "    </tr>\n",
       "  </thead>\n",
       "  <tbody>\n",
       "    <tr>\n",
       "      <th id=\"T_15ca9_level0_row0\" class=\"row_heading level0 row0\" >middle_coffee_cup</th>\n",
       "      <td id=\"T_15ca9_row0_col0\" class=\"data row0 col0\" >7871</td>\n",
       "      <td id=\"T_15ca9_row0_col1\" class=\"data row0 col1\" >93.635498</td>\n",
       "    </tr>\n",
       "    <tr>\n",
       "      <th id=\"T_15ca9_level0_row1\" class=\"row_heading level0 row1\" >middle_avg_bill</th>\n",
       "      <td id=\"T_15ca9_row1_col0\" class=\"data row1 col0\" >5257</td>\n",
       "      <td id=\"T_15ca9_row1_col1\" class=\"data row1 col1\" >62.538663</td>\n",
       "    </tr>\n",
       "    <tr>\n",
       "      <th id=\"T_15ca9_level0_row2\" class=\"row_heading level0 row2\" >price</th>\n",
       "      <td id=\"T_15ca9_row2_col0\" class=\"data row2 col0\" >5091</td>\n",
       "      <td id=\"T_15ca9_row2_col1\" class=\"data row2 col1\" >60.563883</td>\n",
       "    </tr>\n",
       "    <tr>\n",
       "      <th id=\"T_15ca9_level0_row3\" class=\"row_heading level0 row3\" >avg_bill</th>\n",
       "      <td id=\"T_15ca9_row3_col0\" class=\"data row3 col0\" >4590</td>\n",
       "      <td id=\"T_15ca9_row3_col1\" class=\"data row3 col1\" >54.603854</td>\n",
       "    </tr>\n",
       "    <tr>\n",
       "      <th id=\"T_15ca9_level0_row4\" class=\"row_heading level0 row4\" >seats</th>\n",
       "      <td id=\"T_15ca9_row4_col0\" class=\"data row4 col0\" >3611</td>\n",
       "      <td id=\"T_15ca9_row4_col1\" class=\"data row4 col1\" >42.957411</td>\n",
       "    </tr>\n",
       "    <tr>\n",
       "      <th id=\"T_15ca9_level0_row5\" class=\"row_heading level0 row5\" >hours</th>\n",
       "      <td id=\"T_15ca9_row5_col0\" class=\"data row5 col0\" >536</td>\n",
       "      <td id=\"T_15ca9_row5_col1\" class=\"data row5 col1\" >6.376398</td>\n",
       "    </tr>\n",
       "    <tr>\n",
       "      <th id=\"T_15ca9_level0_row6\" class=\"row_heading level0 row6\" >district</th>\n",
       "      <td id=\"T_15ca9_row6_col0\" class=\"data row6 col0\" >0</td>\n",
       "      <td id=\"T_15ca9_row6_col1\" class=\"data row6 col1\" >0.000000</td>\n",
       "    </tr>\n",
       "    <tr>\n",
       "      <th id=\"T_15ca9_level0_row7\" class=\"row_heading level0 row7\" >category</th>\n",
       "      <td id=\"T_15ca9_row7_col0\" class=\"data row7 col0\" >0</td>\n",
       "      <td id=\"T_15ca9_row7_col1\" class=\"data row7 col1\" >0.000000</td>\n",
       "    </tr>\n",
       "    <tr>\n",
       "      <th id=\"T_15ca9_level0_row8\" class=\"row_heading level0 row8\" >name</th>\n",
       "      <td id=\"T_15ca9_row8_col0\" class=\"data row8 col0\" >0</td>\n",
       "      <td id=\"T_15ca9_row8_col1\" class=\"data row8 col1\" >0.000000</td>\n",
       "    </tr>\n",
       "    <tr>\n",
       "      <th id=\"T_15ca9_level0_row9\" class=\"row_heading level0 row9\" >id</th>\n",
       "      <td id=\"T_15ca9_row9_col0\" class=\"data row9 col0\" >0</td>\n",
       "      <td id=\"T_15ca9_row9_col1\" class=\"data row9 col1\" >0.000000</td>\n",
       "    </tr>\n",
       "    <tr>\n",
       "      <th id=\"T_15ca9_level0_row10\" class=\"row_heading level0 row10\" >address</th>\n",
       "      <td id=\"T_15ca9_row10_col0\" class=\"data row10 col0\" >0</td>\n",
       "      <td id=\"T_15ca9_row10_col1\" class=\"data row10 col1\" >0.000000</td>\n",
       "    </tr>\n",
       "    <tr>\n",
       "      <th id=\"T_15ca9_level0_row11\" class=\"row_heading level0 row11\" >chain</th>\n",
       "      <td id=\"T_15ca9_row11_col0\" class=\"data row11 col0\" >0</td>\n",
       "      <td id=\"T_15ca9_row11_col1\" class=\"data row11 col1\" >0.000000</td>\n",
       "    </tr>\n",
       "    <tr>\n",
       "      <th id=\"T_15ca9_level0_row12\" class=\"row_heading level0 row12\" >rating</th>\n",
       "      <td id=\"T_15ca9_row12_col0\" class=\"data row12 col0\" >0</td>\n",
       "      <td id=\"T_15ca9_row12_col1\" class=\"data row12 col1\" >0.000000</td>\n",
       "    </tr>\n",
       "  </tbody>\n",
       "</table>\n"
      ],
      "text/plain": [
       "<pandas.io.formats.style.Styler at 0x225ade80d70>"
      ]
     },
     "execution_count": 7,
     "metadata": {},
     "output_type": "execute_result"
    }
   ],
   "source": [
    "missing_abs = df.isna().sum()\n",
    "missing_sorted = missing_abs.sort_values(ascending=False)\n",
    "missin_perc = (missing_sorted / len(df))*100\n",
    "styled_df = pd.DataFrame({\n",
    "    'Количество пропусков': missing_sorted, \n",
    "    'Процент пропусков': missin_perc\n",
    "}).style.background_gradient(cmap='crest', axis=0)\n",
    "styled_df"
   ]
  },
  {
   "cell_type": "markdown",
   "id": "4e915337",
   "metadata": {
    "hideCode": true,
    "hidePrompt": true,
    "id": "d9e7c358",
    "scrolled": true
   },
   "source": [
    "\n",
    "***Здесь для столбцов, я решил ничего не менять, так как пустыми вариантыми проще работать, про них главное не забыть***"
   ]
  },
  {
   "cell_type": "markdown",
   "id": "c4d5f04d",
   "metadata": {
    "hideCode": true,
    "hidePrompt": true,
    "id": "c4d5f04d"
   },
   "source": [
    "- Проверьте данные на явные и неявные дубликаты, например поля с названием и адресом заведения. Для оптимизации проверки нормализуйте данные в текстовых столбцах, например с названием заведения."
   ]
  },
  {
   "cell_type": "code",
   "execution_count": 8,
   "id": "95b15cd0",
   "metadata": {
    "hideCode": true,
    "hidePrompt": true,
    "id": "95b15cd0"
   },
   "outputs": [],
   "source": [
    "df[['name', 'address']] = df[['name', 'address']].apply(lambda x: x.str.lower())"
   ]
  },
  {
   "cell_type": "code",
   "execution_count": 9,
   "id": "b52bae9a",
   "metadata": {
    "hideCode": true,
    "hidePrompt": true,
    "id": "b52bae9a"
   },
   "outputs": [
    {
     "name": "stdout",
     "output_type": "stream",
     "text": [
      "Кол-во строк до удаления дубликатов: 8406\n",
      "Кол-во дубликатов в столбцах name и address: 4\n",
      "Кол-во явных дубликатов: 0\n",
      "Кол-во строк после удаления дубликатов: 8402\n",
      "Доля удаленных строк:0.05\n"
     ]
    }
   ],
   "source": [
    "first_df = len(df)\n",
    "obvious_duplicates = df.duplicated()\n",
    "print(f'Кол-во строк до удаления дубликатов: {first_df}')\n",
    "duplicates = df.duplicated(subset = ['name','address'])\n",
    "print(f'Кол-во дубликатов в столбцах name и address: {duplicates.sum()}')\n",
    "print(f'Кол-во явных дубликатов: {obvious_duplicates.sum()}')\n",
    "df = df.drop_duplicates(subset = ['name','address'],keep ='first')\n",
    "share = round(duplicates.sum()/first_df,4)*100\n",
    "print(f'Кол-во строк после удаления дубликатов: {len(df)}')\n",
    "print(f'Доля удаленных строк:{share}')\n",
    "dups = df.duplicated().sum()"
   ]
  },
  {
   "cell_type": "markdown",
   "id": "4c0563f2",
   "metadata": {
    "hideCode": true,
    "hidePrompt": true,
    "id": "4c0563f2"
   },
   "source": [
    "- Для дальнейшей работы создайте столбец `is_24_7` с обозначением того, что заведение работает ежедневно и круглосуточно, то есть 24/7:\n",
    "  - логическое значение `True` — если заведение работает ежедневно и круглосуточно;\n",
    "  - логическое значение `False` — в противоположном случае."
   ]
  },
  {
   "cell_type": "code",
   "execution_count": 10,
   "id": "d8a8a963",
   "metadata": {
    "hideCode": true,
    "hidePrompt": true,
    "id": "d8a8a963"
   },
   "outputs": [
    {
     "name": "stdout",
     "output_type": "stream",
     "text": [
      "<class 'pandas.core.frame.DataFrame'>\n",
      "Index: 8402 entries, 0 to 8405\n",
      "Data columns (total 14 columns):\n",
      " #   Column             Non-Null Count  Dtype  \n",
      "---  ------             --------------  -----  \n",
      " 0   id                 8402 non-null   object \n",
      " 1   name               8402 non-null   object \n",
      " 2   category           8402 non-null   object \n",
      " 3   address            8402 non-null   object \n",
      " 4   district           8402 non-null   object \n",
      " 5   hours              7867 non-null   object \n",
      " 6   rating             8402 non-null   float32\n",
      " 7   chain              8402 non-null   int8   \n",
      " 8   seats              4792 non-null   float32\n",
      " 9   price              3315 non-null   object \n",
      " 10  avg_bill           3816 non-null   object \n",
      " 11  middle_avg_bill    3149 non-null   float32\n",
      " 12  middle_coffee_cup  535 non-null    float32\n",
      " 13  is_24_7            8402 non-null   bool   \n",
      "dtypes: bool(1), float32(4), int8(1), object(8)\n",
      "memory usage: 738.5+ KB\n"
     ]
    },
    {
     "data": {
      "text/html": [
       "<div>\n",
       "<style scoped>\n",
       "    .dataframe tbody tr th:only-of-type {\n",
       "        vertical-align: middle;\n",
       "    }\n",
       "\n",
       "    .dataframe tbody tr th {\n",
       "        vertical-align: top;\n",
       "    }\n",
       "\n",
       "    .dataframe thead th {\n",
       "        text-align: right;\n",
       "    }\n",
       "</style>\n",
       "<table border=\"1\" class=\"dataframe\">\n",
       "  <thead>\n",
       "    <tr style=\"text-align: right;\">\n",
       "      <th></th>\n",
       "      <th>id</th>\n",
       "      <th>name</th>\n",
       "      <th>category</th>\n",
       "      <th>address</th>\n",
       "      <th>district</th>\n",
       "      <th>hours</th>\n",
       "      <th>rating</th>\n",
       "      <th>chain</th>\n",
       "      <th>seats</th>\n",
       "      <th>price</th>\n",
       "      <th>avg_bill</th>\n",
       "      <th>middle_avg_bill</th>\n",
       "      <th>middle_coffee_cup</th>\n",
       "      <th>is_24_7</th>\n",
       "    </tr>\n",
       "  </thead>\n",
       "  <tbody>\n",
       "    <tr>\n",
       "      <th>0</th>\n",
       "      <td>0c3e3439a8c64ea5bf6ecd6ca6ae19f0</td>\n",
       "      <td>wowфли</td>\n",
       "      <td>кафе</td>\n",
       "      <td>москва, улица дыбенко, 7/1</td>\n",
       "      <td>Северный административный округ</td>\n",
       "      <td>ежедневно, 10:00–22:00</td>\n",
       "      <td>5.0</td>\n",
       "      <td>0</td>\n",
       "      <td>NaN</td>\n",
       "      <td>NaN</td>\n",
       "      <td>NaN</td>\n",
       "      <td>NaN</td>\n",
       "      <td>NaN</td>\n",
       "      <td>False</td>\n",
       "    </tr>\n",
       "    <tr>\n",
       "      <th>1</th>\n",
       "      <td>045780ada3474c57a2112e505d74b633</td>\n",
       "      <td>четыре комнаты</td>\n",
       "      <td>ресторан</td>\n",
       "      <td>москва, улица дыбенко, 36, корп. 1</td>\n",
       "      <td>Северный административный округ</td>\n",
       "      <td>ежедневно, 10:00–22:00</td>\n",
       "      <td>4.5</td>\n",
       "      <td>0</td>\n",
       "      <td>4.0</td>\n",
       "      <td>выше среднего</td>\n",
       "      <td>Средний счёт:1500–1600 ₽</td>\n",
       "      <td>1550.0</td>\n",
       "      <td>NaN</td>\n",
       "      <td>False</td>\n",
       "    </tr>\n",
       "    <tr>\n",
       "      <th>2</th>\n",
       "      <td>1070b6b59144425896c65889347fcff6</td>\n",
       "      <td>хазри</td>\n",
       "      <td>кафе</td>\n",
       "      <td>москва, клязьминская улица, 15</td>\n",
       "      <td>Северный административный округ</td>\n",
       "      <td>пн-чт 11:00–02:00; пт,сб 11:00–05:00; вс 11:00...</td>\n",
       "      <td>4.6</td>\n",
       "      <td>0</td>\n",
       "      <td>45.0</td>\n",
       "      <td>средние</td>\n",
       "      <td>Средний счёт:от 1000 ₽</td>\n",
       "      <td>1000.0</td>\n",
       "      <td>NaN</td>\n",
       "      <td>False</td>\n",
       "    </tr>\n",
       "    <tr>\n",
       "      <th>3</th>\n",
       "      <td>03ac7cd772104f65b58b349dc59f03ee</td>\n",
       "      <td>dormouse coffee shop</td>\n",
       "      <td>кофейня</td>\n",
       "      <td>москва, улица маршала федоренко, 12</td>\n",
       "      <td>Северный административный округ</td>\n",
       "      <td>ежедневно, 09:00–22:00</td>\n",
       "      <td>5.0</td>\n",
       "      <td>0</td>\n",
       "      <td>NaN</td>\n",
       "      <td>NaN</td>\n",
       "      <td>Цена чашки капучино:155–185 ₽</td>\n",
       "      <td>NaN</td>\n",
       "      <td>170.0</td>\n",
       "      <td>False</td>\n",
       "    </tr>\n",
       "    <tr>\n",
       "      <th>4</th>\n",
       "      <td>a163aada139c4c7f87b0b1c0b466a50f</td>\n",
       "      <td>иль марко</td>\n",
       "      <td>пиццерия</td>\n",
       "      <td>москва, правобережная улица, 1б</td>\n",
       "      <td>Северный административный округ</td>\n",
       "      <td>ежедневно, 10:00–22:00</td>\n",
       "      <td>5.0</td>\n",
       "      <td>1</td>\n",
       "      <td>148.0</td>\n",
       "      <td>средние</td>\n",
       "      <td>Средний счёт:400–600 ₽</td>\n",
       "      <td>500.0</td>\n",
       "      <td>NaN</td>\n",
       "      <td>False</td>\n",
       "    </tr>\n",
       "    <tr>\n",
       "      <th>...</th>\n",
       "      <td>...</td>\n",
       "      <td>...</td>\n",
       "      <td>...</td>\n",
       "      <td>...</td>\n",
       "      <td>...</td>\n",
       "      <td>...</td>\n",
       "      <td>...</td>\n",
       "      <td>...</td>\n",
       "      <td>...</td>\n",
       "      <td>...</td>\n",
       "      <td>...</td>\n",
       "      <td>...</td>\n",
       "      <td>...</td>\n",
       "      <td>...</td>\n",
       "    </tr>\n",
       "    <tr>\n",
       "      <th>8401</th>\n",
       "      <td>0342ad1a45ed41ba89dcba246a8267e5</td>\n",
       "      <td>суши мания</td>\n",
       "      <td>кафе</td>\n",
       "      <td>москва, профсоюзная улица, 56</td>\n",
       "      <td>Юго-Западный административный округ</td>\n",
       "      <td>ежедневно, 09:00–02:00</td>\n",
       "      <td>4.4</td>\n",
       "      <td>0</td>\n",
       "      <td>86.0</td>\n",
       "      <td>NaN</td>\n",
       "      <td>NaN</td>\n",
       "      <td>NaN</td>\n",
       "      <td>NaN</td>\n",
       "      <td>False</td>\n",
       "    </tr>\n",
       "    <tr>\n",
       "      <th>8402</th>\n",
       "      <td>ee6bb7c3650e47bd8186fca08eda1091</td>\n",
       "      <td>миславнес</td>\n",
       "      <td>кафе</td>\n",
       "      <td>москва, пролетарский проспект, 19, корп. 1</td>\n",
       "      <td>Южный административный округ</td>\n",
       "      <td>ежедневно, 08:00–22:00</td>\n",
       "      <td>4.8</td>\n",
       "      <td>0</td>\n",
       "      <td>150.0</td>\n",
       "      <td>NaN</td>\n",
       "      <td>NaN</td>\n",
       "      <td>NaN</td>\n",
       "      <td>NaN</td>\n",
       "      <td>False</td>\n",
       "    </tr>\n",
       "    <tr>\n",
       "      <th>8403</th>\n",
       "      <td>62e8c64d4c89467aba608e39ef87616b</td>\n",
       "      <td>самовар</td>\n",
       "      <td>кафе</td>\n",
       "      <td>москва, люблинская улица, 112а, стр. 1</td>\n",
       "      <td>Юго-Восточный административный округ</td>\n",
       "      <td>ежедневно, круглосуточно</td>\n",
       "      <td>3.9</td>\n",
       "      <td>0</td>\n",
       "      <td>150.0</td>\n",
       "      <td>NaN</td>\n",
       "      <td>Средний счёт:от 150 ₽</td>\n",
       "      <td>150.0</td>\n",
       "      <td>NaN</td>\n",
       "      <td>True</td>\n",
       "    </tr>\n",
       "    <tr>\n",
       "      <th>8404</th>\n",
       "      <td>06a0db5ecd4842d48cd6350aa923e297</td>\n",
       "      <td>чайхана sabr</td>\n",
       "      <td>кафе</td>\n",
       "      <td>москва, люблинская улица, 112а, стр. 1</td>\n",
       "      <td>Юго-Восточный административный округ</td>\n",
       "      <td>ежедневно, круглосуточно</td>\n",
       "      <td>4.2</td>\n",
       "      <td>1</td>\n",
       "      <td>150.0</td>\n",
       "      <td>NaN</td>\n",
       "      <td>NaN</td>\n",
       "      <td>NaN</td>\n",
       "      <td>NaN</td>\n",
       "      <td>True</td>\n",
       "    </tr>\n",
       "    <tr>\n",
       "      <th>8405</th>\n",
       "      <td>9d56f8f7a7f74df1a925bc0fd2de8aae</td>\n",
       "      <td>kebab time</td>\n",
       "      <td>кафе</td>\n",
       "      <td>москва, россошанский проезд, 6</td>\n",
       "      <td>Южный административный округ</td>\n",
       "      <td>ежедневно, круглосуточно</td>\n",
       "      <td>3.9</td>\n",
       "      <td>0</td>\n",
       "      <td>12.0</td>\n",
       "      <td>NaN</td>\n",
       "      <td>NaN</td>\n",
       "      <td>NaN</td>\n",
       "      <td>NaN</td>\n",
       "      <td>True</td>\n",
       "    </tr>\n",
       "  </tbody>\n",
       "</table>\n",
       "<p>8402 rows × 14 columns</p>\n",
       "</div>"
      ],
      "text/plain": [
       "                                    id                  name  category  \\\n",
       "0     0c3e3439a8c64ea5bf6ecd6ca6ae19f0                wowфли      кафе   \n",
       "1     045780ada3474c57a2112e505d74b633        четыре комнаты  ресторан   \n",
       "2     1070b6b59144425896c65889347fcff6                 хазри      кафе   \n",
       "3     03ac7cd772104f65b58b349dc59f03ee  dormouse coffee shop   кофейня   \n",
       "4     a163aada139c4c7f87b0b1c0b466a50f             иль марко  пиццерия   \n",
       "...                                ...                   ...       ...   \n",
       "8401  0342ad1a45ed41ba89dcba246a8267e5            суши мания      кафе   \n",
       "8402  ee6bb7c3650e47bd8186fca08eda1091             миславнес      кафе   \n",
       "8403  62e8c64d4c89467aba608e39ef87616b               самовар      кафе   \n",
       "8404  06a0db5ecd4842d48cd6350aa923e297          чайхана sabr      кафе   \n",
       "8405  9d56f8f7a7f74df1a925bc0fd2de8aae            kebab time      кафе   \n",
       "\n",
       "                                         address  \\\n",
       "0                     москва, улица дыбенко, 7/1   \n",
       "1             москва, улица дыбенко, 36, корп. 1   \n",
       "2                 москва, клязьминская улица, 15   \n",
       "3            москва, улица маршала федоренко, 12   \n",
       "4                москва, правобережная улица, 1б   \n",
       "...                                          ...   \n",
       "8401               москва, профсоюзная улица, 56   \n",
       "8402  москва, пролетарский проспект, 19, корп. 1   \n",
       "8403      москва, люблинская улица, 112а, стр. 1   \n",
       "8404      москва, люблинская улица, 112а, стр. 1   \n",
       "8405              москва, россошанский проезд, 6   \n",
       "\n",
       "                                  district  \\\n",
       "0          Северный административный округ   \n",
       "1          Северный административный округ   \n",
       "2          Северный административный округ   \n",
       "3          Северный административный округ   \n",
       "4          Северный административный округ   \n",
       "...                                    ...   \n",
       "8401   Юго-Западный административный округ   \n",
       "8402          Южный административный округ   \n",
       "8403  Юго-Восточный административный округ   \n",
       "8404  Юго-Восточный административный округ   \n",
       "8405          Южный административный округ   \n",
       "\n",
       "                                                  hours  rating  chain  seats  \\\n",
       "0                                ежедневно, 10:00–22:00     5.0      0    NaN   \n",
       "1                                ежедневно, 10:00–22:00     4.5      0    4.0   \n",
       "2     пн-чт 11:00–02:00; пт,сб 11:00–05:00; вс 11:00...     4.6      0   45.0   \n",
       "3                                ежедневно, 09:00–22:00     5.0      0    NaN   \n",
       "4                                ежедневно, 10:00–22:00     5.0      1  148.0   \n",
       "...                                                 ...     ...    ...    ...   \n",
       "8401                             ежедневно, 09:00–02:00     4.4      0   86.0   \n",
       "8402                             ежедневно, 08:00–22:00     4.8      0  150.0   \n",
       "8403                           ежедневно, круглосуточно     3.9      0  150.0   \n",
       "8404                           ежедневно, круглосуточно     4.2      1  150.0   \n",
       "8405                           ежедневно, круглосуточно     3.9      0   12.0   \n",
       "\n",
       "              price                       avg_bill  middle_avg_bill  \\\n",
       "0               NaN                            NaN              NaN   \n",
       "1     выше среднего       Средний счёт:1500–1600 ₽           1550.0   \n",
       "2           средние         Средний счёт:от 1000 ₽           1000.0   \n",
       "3               NaN  Цена чашки капучино:155–185 ₽              NaN   \n",
       "4           средние         Средний счёт:400–600 ₽            500.0   \n",
       "...             ...                            ...              ...   \n",
       "8401            NaN                            NaN              NaN   \n",
       "8402            NaN                            NaN              NaN   \n",
       "8403            NaN          Средний счёт:от 150 ₽            150.0   \n",
       "8404            NaN                            NaN              NaN   \n",
       "8405            NaN                            NaN              NaN   \n",
       "\n",
       "      middle_coffee_cup  is_24_7  \n",
       "0                   NaN    False  \n",
       "1                   NaN    False  \n",
       "2                   NaN    False  \n",
       "3                 170.0    False  \n",
       "4                   NaN    False  \n",
       "...                 ...      ...  \n",
       "8401                NaN    False  \n",
       "8402                NaN    False  \n",
       "8403                NaN     True  \n",
       "8404                NaN     True  \n",
       "8405                NaN     True  \n",
       "\n",
       "[8402 rows x 14 columns]"
      ]
     },
     "execution_count": 10,
     "metadata": {},
     "output_type": "execute_result"
    }
   ],
   "source": [
    "def is_24_7(hours):\n",
    "    if isinstance(hours, str) and 'круглосуточно' in hours and 'ежедневно' in hours:\n",
    "        return True\n",
    "    else:\n",
    "        return False\n",
    "\n",
    "# Применим функцию к столбцу 'hours' для создания нового столбца\n",
    "df['is_24_7'] = df['hours'].apply(is_24_7)\n",
    "\n",
    "# Проверим новый столбец\n",
    "df.info()\n",
    "df"
   ]
  },
  {
   "cell_type": "markdown",
   "id": "562f30ab",
   "metadata": {
    "hideCode": true,
    "hidePrompt": true,
    "id": "562f30ab"
   },
   "source": [
    "---\n",
    "\n",
    "### Промежуточный вывод\n",
    "\n",
    "После предобработки данных напишите промежуточный вывод о проведённой работе. Отразите количество или долю отфильтрованных данных, если вы что-то удаляли."
   ]
  },
  {
   "cell_type": "markdown",
   "id": "84171005",
   "metadata": {
    "hideCode": true,
    "hidePrompt": true,
    "id": "4e587ce1"
   },
   "source": [
    "***Дубликатов было немного. Гораздо больше было пропусков в столбцах, нежеели дубликатов. Пропуски, которые заменили на заглушку в виде цифры -1, составляли 62.54% и 93.64% от всех значений в датафрейме. Доля удаленных дубликатов составляет 0.05.Явных дубликатов обнаружено не было***"
   ]
  },
  {
   "cell_type": "markdown",
   "id": "6953e84c",
   "metadata": {
    "hideCode": true,
    "hidePrompt": true,
    "id": "6953e84c"
   },
   "source": [
    "## 3. Исследовательский анализ данных\n",
    "Проведите исследовательский анализ исходных данных.\n",
    "\n",
    "При исследовании данных используйте визуализации. Проверьте, что для каждого случая подобран оптимальный тип визуализации с корректным оформлением. У графика должен быть заголовок, понятные подписи по осям, при необходимости легенда, а его размер является оптимальным для изучения.\n",
    "\n",
    "После исследования каждого пункта оставляйте небольшой комментарий с выводом или обсуждением результата. В конце шага обобщите результаты, выделив, по вашему мнению, самые важные."
   ]
  },
  {
   "cell_type": "markdown",
   "id": "8555d840",
   "metadata": {
    "hideCode": true,
    "hidePrompt": true,
    "id": "8555d840"
   },
   "source": [
    "---\n",
    "\n",
    "### Задача 1\n",
    "\n",
    "Какие категории заведений представлены в данных? Исследуйте количество объектов общественного питания по каждой категории. Результат сопроводите подходящей визуализацией."
   ]
  },
  {
   "cell_type": "code",
   "execution_count": 11,
   "id": "ef2bffe9",
   "metadata": {
    "hideCode": true,
    "hidePrompt": true,
    "id": "ef2bffe9"
   },
   "outputs": [
    {
     "data": {
      "image/png": "[encoded data removed]",
      "text/plain": [
       "<Figure size 640x480 with 1 Axes>"
      ]
     },
     "metadata": {},
     "output_type": "display_data"
    },
    {
     "name": "stdout",
     "output_type": "stream",
     "text": [
      "\n",
      "Количество объектов общественного питания по категориям\n"
     ]
    },
    {
     "data": {
      "text/html": [
       "<div>\n",
       "<style scoped>\n",
       "    .dataframe tbody tr th:only-of-type {\n",
       "        vertical-align: middle;\n",
       "    }\n",
       "\n",
       "    .dataframe tbody tr th {\n",
       "        vertical-align: top;\n",
       "    }\n",
       "\n",
       "    .dataframe thead th {\n",
       "        text-align: right;\n",
       "    }\n",
       "</style>\n",
       "<table border=\"1\" class=\"dataframe\">\n",
       "  <thead>\n",
       "    <tr style=\"text-align: right;\">\n",
       "      <th></th>\n",
       "      <th>Абсолютное число заведений</th>\n",
       "      <th>Процент</th>\n",
       "    </tr>\n",
       "    <tr>\n",
       "      <th>category</th>\n",
       "      <th></th>\n",
       "      <th></th>\n",
       "    </tr>\n",
       "  </thead>\n",
       "  <tbody>\n",
       "    <tr>\n",
       "      <th>кафе</th>\n",
       "      <td>2376</td>\n",
       "      <td>28.0</td>\n",
       "    </tr>\n",
       "    <tr>\n",
       "      <th>ресторан</th>\n",
       "      <td>2042</td>\n",
       "      <td>24.0</td>\n",
       "    </tr>\n",
       "    <tr>\n",
       "      <th>кофейня</th>\n",
       "      <td>1413</td>\n",
       "      <td>17.0</td>\n",
       "    </tr>\n",
       "    <tr>\n",
       "      <th>бар,паб</th>\n",
       "      <td>764</td>\n",
       "      <td>9.0</td>\n",
       "    </tr>\n",
       "    <tr>\n",
       "      <th>пиццерия</th>\n",
       "      <td>633</td>\n",
       "      <td>8.0</td>\n",
       "    </tr>\n",
       "    <tr>\n",
       "      <th>быстрое питание</th>\n",
       "      <td>603</td>\n",
       "      <td>7.0</td>\n",
       "    </tr>\n",
       "    <tr>\n",
       "      <th>столовая</th>\n",
       "      <td>315</td>\n",
       "      <td>4.0</td>\n",
       "    </tr>\n",
       "    <tr>\n",
       "      <th>булочная</th>\n",
       "      <td>256</td>\n",
       "      <td>3.0</td>\n",
       "    </tr>\n",
       "  </tbody>\n",
       "</table>\n",
       "</div>"
      ],
      "text/plain": [
       "                 Абсолютное число заведений  Процент\n",
       "category                                            \n",
       "кафе                                   2376     28.0\n",
       "ресторан                               2042     24.0\n",
       "кофейня                                1413     17.0\n",
       "бар,паб                                 764      9.0\n",
       "пиццерия                                633      8.0\n",
       "быстрое питание                         603      7.0\n",
       "столовая                                315      4.0\n",
       "булочная                                256      3.0"
      ]
     },
     "metadata": {},
     "output_type": "display_data"
    }
   ],
   "source": [
    "amount_rest = df['category'].value_counts()\n",
    "amount_rest_percent = (amount_rest / amount_rest.sum()) * 100\n",
    "amount_rest_summary = pd.DataFrame({'Абсолютное число заведений': amount_rest,\n",
    "                                 'Процент': amount_rest_percent\n",
    "                                })\n",
    "amount_rest = df['category'].value_counts()\n",
    "amount_rest.plot(kind='bar',\n",
    "   title='Количество объектов общественного питания по категориям',\n",
    "   xlabel='Категории',\n",
    "   ylabel='Количество',\n",
    "   rot=45\n",
    ")                                     \n",
    "plt.show()\n",
    "print(\"\\nКоличество объектов общественного питания по категориям\")\n",
    "display(round(amount_rest_summary))"
   ]
  },
  {
   "cell_type": "markdown",
   "id": "45dfea45",
   "metadata": {
    "hideCode": true,
    "hidePrompt": true,
    "id": "71ab5e91"
   },
   "source": [
    "***По этим данным можно заметить, что спросом больше всего пользуются заведения типа \"кафе\", \"ресторан\" и \"кофейня\"***"
   ]
  },
  {
   "cell_type": "markdown",
   "id": "6821e1d0",
   "metadata": {
    "hideCode": true,
    "hidePrompt": true,
    "id": "6821e1d0"
   },
   "source": [
    "---\n",
    "\n",
    "### Задача 2\n",
    "\n",
    "Какие административные районы Москвы присутствуют в данных? Исследуйте распределение количества заведений по административным районам Москвы, а также отдельно распределение заведений каждой категории в Центральном административном округе Москвы. Результат сопроводите подходящими визуализациями."
   ]
  },
  {
   "cell_type": "code",
   "execution_count": 12,
   "id": "e62f31be",
   "metadata": {
    "hideCode": true,
    "hidePrompt": true,
    "id": "e62f31be",
    "scrolled": true
   },
   "outputs": [
    {
     "data": {
      "image/png": "[encoded data removed]",
      "text/plain": [
       "<Figure size 1400x600 with 1 Axes>"
      ]
     },
     "metadata": {},
     "output_type": "display_data"
    },
    {
     "name": "stdout",
     "output_type": "stream",
     "text": [
      "\n",
      "Распределение количества заведений по административным районам Москвы:\n"
     ]
    },
    {
     "data": {
      "text/html": [
       "<div>\n",
       "<style scoped>\n",
       "    .dataframe tbody tr th:only-of-type {\n",
       "        vertical-align: middle;\n",
       "    }\n",
       "\n",
       "    .dataframe tbody tr th {\n",
       "        vertical-align: top;\n",
       "    }\n",
       "\n",
       "    .dataframe thead th {\n",
       "        text-align: right;\n",
       "    }\n",
       "</style>\n",
       "<table border=\"1\" class=\"dataframe\">\n",
       "  <thead>\n",
       "    <tr style=\"text-align: right;\">\n",
       "      <th></th>\n",
       "      <th>Абсолютное число заведений</th>\n",
       "      <th>Процент</th>\n",
       "    </tr>\n",
       "    <tr>\n",
       "      <th>district</th>\n",
       "      <th></th>\n",
       "      <th></th>\n",
       "    </tr>\n",
       "  </thead>\n",
       "  <tbody>\n",
       "    <tr>\n",
       "      <th>Центральный административный округ</th>\n",
       "      <td>2242</td>\n",
       "      <td>27.0</td>\n",
       "    </tr>\n",
       "    <tr>\n",
       "      <th>Северный административный округ</th>\n",
       "      <td>898</td>\n",
       "      <td>11.0</td>\n",
       "    </tr>\n",
       "    <tr>\n",
       "      <th>Южный административный округ</th>\n",
       "      <td>892</td>\n",
       "      <td>11.0</td>\n",
       "    </tr>\n",
       "    <tr>\n",
       "      <th>Северо-Восточный административный округ</th>\n",
       "      <td>890</td>\n",
       "      <td>11.0</td>\n",
       "    </tr>\n",
       "    <tr>\n",
       "      <th>Западный административный округ</th>\n",
       "      <td>850</td>\n",
       "      <td>10.0</td>\n",
       "    </tr>\n",
       "    <tr>\n",
       "      <th>Восточный административный округ</th>\n",
       "      <td>798</td>\n",
       "      <td>9.0</td>\n",
       "    </tr>\n",
       "    <tr>\n",
       "      <th>Юго-Восточный административный округ</th>\n",
       "      <td>714</td>\n",
       "      <td>8.0</td>\n",
       "    </tr>\n",
       "    <tr>\n",
       "      <th>Юго-Западный административный округ</th>\n",
       "      <td>709</td>\n",
       "      <td>8.0</td>\n",
       "    </tr>\n",
       "    <tr>\n",
       "      <th>Северо-Западный административный округ</th>\n",
       "      <td>409</td>\n",
       "      <td>5.0</td>\n",
       "    </tr>\n",
       "  </tbody>\n",
       "</table>\n",
       "</div>"
      ],
      "text/plain": [
       "                                         Абсолютное число заведений  Процент\n",
       "district                                                                    \n",
       "Центральный административный округ                             2242     27.0\n",
       "Северный административный округ                                 898     11.0\n",
       "Южный административный округ                                    892     11.0\n",
       "Северо-Восточный административный округ                         890     11.0\n",
       "Западный административный округ                                 850     10.0\n",
       "Восточный административный округ                                798      9.0\n",
       "Юго-Восточный административный округ                            714      8.0\n",
       "Юго-Западный административный округ                             709      8.0\n",
       "Северо-Западный административный округ                          409      5.0"
      ]
     },
     "metadata": {},
     "output_type": "display_data"
    }
   ],
   "source": [
    "amount_rest_district = df['district'].value_counts()\n",
    "amount_rest_district_percent = (amount_rest_district / amount_rest_district.sum()) * 100\n",
    "district_summary = pd.DataFrame({'Абсолютное число заведений': amount_rest_district,\n",
    "                                 'Процент': amount_rest_district_percent\n",
    "                                })\n",
    "\n",
    "amount_rest_district.plot(kind='bar',\n",
    "   title='Распределение количества заведений по административным районам Москвы',\n",
    "   xlabel='Административные районы',\n",
    "   ylabel='Количество заведений',\n",
    "   rot=90,\n",
    "   figsize=(14, 6),\n",
    "   color = 'darkgreen'                       \n",
    ")                                     \n",
    "plt.show()\n",
    "print(\"\\nРаспределение количества заведений по административным районам Москвы:\")\n",
    "display(round(district_summary))"
   ]
  },
  {
   "cell_type": "code",
   "execution_count": 13,
   "id": "0a290cd1",
   "metadata": {
    "hideCode": true,
    "hidePrompt": true,
    "id": "0a290cd1"
   },
   "outputs": [
    {
     "data": {
      "image/png": "[encoded data removed]",
      "text/plain": [
       "<Figure size 1000x600 with 1 Axes>"
      ]
     },
     "metadata": {},
     "output_type": "display_data"
    },
    {
     "name": "stdout",
     "output_type": "stream",
     "text": [
      "\n",
      "Количество заведений по категориям в Центральном административном округе\n"
     ]
    },
    {
     "data": {
      "text/html": [
       "<div>\n",
       "<style scoped>\n",
       "    .dataframe tbody tr th:only-of-type {\n",
       "        vertical-align: middle;\n",
       "    }\n",
       "\n",
       "    .dataframe tbody tr th {\n",
       "        vertical-align: top;\n",
       "    }\n",
       "\n",
       "    .dataframe thead th {\n",
       "        text-align: right;\n",
       "    }\n",
       "</style>\n",
       "<table border=\"1\" class=\"dataframe\">\n",
       "  <thead>\n",
       "    <tr style=\"text-align: right;\">\n",
       "      <th></th>\n",
       "      <th>Абсолютное число заведений</th>\n",
       "      <th>Процент</th>\n",
       "    </tr>\n",
       "    <tr>\n",
       "      <th>category</th>\n",
       "      <th></th>\n",
       "      <th></th>\n",
       "    </tr>\n",
       "  </thead>\n",
       "  <tbody>\n",
       "    <tr>\n",
       "      <th>ресторан</th>\n",
       "      <td>670</td>\n",
       "      <td>30.0</td>\n",
       "    </tr>\n",
       "    <tr>\n",
       "      <th>кафе</th>\n",
       "      <td>464</td>\n",
       "      <td>21.0</td>\n",
       "    </tr>\n",
       "    <tr>\n",
       "      <th>кофейня</th>\n",
       "      <td>428</td>\n",
       "      <td>19.0</td>\n",
       "    </tr>\n",
       "    <tr>\n",
       "      <th>бар,паб</th>\n",
       "      <td>364</td>\n",
       "      <td>16.0</td>\n",
       "    </tr>\n",
       "    <tr>\n",
       "      <th>пиццерия</th>\n",
       "      <td>113</td>\n",
       "      <td>5.0</td>\n",
       "    </tr>\n",
       "    <tr>\n",
       "      <th>быстрое питание</th>\n",
       "      <td>87</td>\n",
       "      <td>4.0</td>\n",
       "    </tr>\n",
       "    <tr>\n",
       "      <th>столовая</th>\n",
       "      <td>66</td>\n",
       "      <td>3.0</td>\n",
       "    </tr>\n",
       "    <tr>\n",
       "      <th>булочная</th>\n",
       "      <td>50</td>\n",
       "      <td>2.0</td>\n",
       "    </tr>\n",
       "  </tbody>\n",
       "</table>\n",
       "</div>"
      ],
      "text/plain": [
       "                 Абсолютное число заведений  Процент\n",
       "category                                            \n",
       "ресторан                                670     30.0\n",
       "кафе                                    464     21.0\n",
       "кофейня                                 428     19.0\n",
       "бар,паб                                 364     16.0\n",
       "пиццерия                                113      5.0\n",
       "быстрое питание                          87      4.0\n",
       "столовая                                 66      3.0\n",
       "булочная                                 50      2.0"
      ]
     },
     "metadata": {},
     "output_type": "display_data"
    }
   ],
   "source": [
    "central_districts = df[df['district'] == 'Центральный административный округ']\n",
    "amount_rest_categor_central = central_districts['category'].value_counts()\n",
    "amount_rest_categor_central_percent = (amount_rest_categor_central / amount_rest_categor_central.sum()) * 100\n",
    "categor_central_summary = pd.DataFrame({'Абсолютное число заведений': amount_rest_categor_central,\n",
    "                                        'Процент': amount_rest_categor_central_percent\n",
    "                                       })\n",
    "\n",
    "amount_rest_categor_central.plot(kind='bar',\n",
    "   title='Распределение заведений по категориям в Центральном административном округе',\n",
    "   xlabel='Категории',\n",
    "   ylabel='Количество',\n",
    "   rot=90,\n",
    "   figsize=(10, 6),\n",
    "   color = 'darkgrey'                               \n",
    ")                                     \n",
    "plt.show()\n",
    "print(\"\\nКоличество заведений по категориям в Центральном административном округе\")\n",
    "display(round(categor_central_summary))"
   ]
  },
  {
   "cell_type": "markdown",
   "id": "30a1468a",
   "metadata": {
    "hideCode": true,
    "hidePrompt": true,
    "id": "41f1654a"
   },
   "source": [
    "***Тут можно заметить, в Центральном административном округе находится больше всего заведений, если сранивать с ближайшим по количеству регионом, то у Центрального административного округа значение практически в 3 раза больше, чем в Северном административном округе***\n",
    "***Так же, можно заметить, что в Центральном административном округе находится больше всего ресторанов, по сравнению с остальными категориями***"
   ]
  },
  {
   "cell_type": "markdown",
   "id": "7c824f58",
   "metadata": {
    "hideCode": true,
    "hidePrompt": true,
    "id": "7c824f58"
   },
   "source": [
    "---\n",
    "\n",
    "### Задача 3\n",
    "\n",
    "Изучите соотношение сетевых и несетевых заведений в целом по всем данным и в разрезе категорий заведения. Каких заведений больше — сетевых или несетевых? Какие категории заведений чаще являются сетевыми? Исследуйте данные, ответьте на вопросы и постройте необходимые визуализации."
   ]
  },
  {
   "cell_type": "code",
   "execution_count": 14,
   "id": "467df39f",
   "metadata": {
    "hideCode": true,
    "hidePrompt": true
   },
   "outputs": [
    {
     "data": {
      "image/png": "[encoded data removed]",
      "text/plain": [
       "<Figure size 640x480 with 1 Axes>"
      ]
     },
     "metadata": {},
     "output_type": "display_data"
    },
    {
     "name": "stdout",
     "output_type": "stream",
     "text": [
      "\n",
      "Распределение сетевых и несетевых заведений в Москве:\n"
     ]
    },
    {
     "data": {
      "text/html": [
       "<div>\n",
       "<style scoped>\n",
       "    .dataframe tbody tr th:only-of-type {\n",
       "        vertical-align: middle;\n",
       "    }\n",
       "\n",
       "    .dataframe tbody tr th {\n",
       "        vertical-align: top;\n",
       "    }\n",
       "\n",
       "    .dataframe thead th {\n",
       "        text-align: right;\n",
       "    }\n",
       "</style>\n",
       "<table border=\"1\" class=\"dataframe\">\n",
       "  <thead>\n",
       "    <tr style=\"text-align: right;\">\n",
       "      <th></th>\n",
       "      <th>Абсолютное число заведений</th>\n",
       "      <th>Процент</th>\n",
       "    </tr>\n",
       "  </thead>\n",
       "  <tbody>\n",
       "    <tr>\n",
       "      <th>Несетевые</th>\n",
       "      <td>5199</td>\n",
       "      <td>62.0</td>\n",
       "    </tr>\n",
       "    <tr>\n",
       "      <th>Сетевые</th>\n",
       "      <td>3203</td>\n",
       "      <td>38.0</td>\n",
       "    </tr>\n",
       "  </tbody>\n",
       "</table>\n",
       "</div>"
      ],
      "text/plain": [
       "           Абсолютное число заведений  Процент\n",
       "Несетевые                        5199     62.0\n",
       "Сетевые                          3203     38.0"
      ]
     },
     "metadata": {},
     "output_type": "display_data"
    }
   ],
   "source": [
    "chain_counts = df['chain'].value_counts()\n",
    "chain_percent = (chain_counts / chain_counts.sum()) * 100\n",
    "\n",
    "chain_summary = pd.DataFrame({\n",
    "    'Абсолютное число заведений': chain_counts,\n",
    "    'Процент': chain_percent\n",
    "                            })\n",
    "\n",
    "chain_summary.index = ['Несетевые', 'Сетевые']\n",
    "\n",
    "sns.barplot(x=chain_summary.index, y=chain_summary['Абсолютное число заведений'],hue=chain_summary.index, palette='viridis')\n",
    "plt.title(\"Соотношение сетевых и несетевых заведений в Москве\")\n",
    "plt.xlabel(\"Тип заведения\")\n",
    "plt.ylabel(\"Количество заведений\")\n",
    "plt.show()\n",
    "\n",
    "\n",
    "print(\"\\nРаспределение сетевых и несетевых заведений в Москве:\")\n",
    "display(round(chain_summary))"
   ]
  },
  {
   "cell_type": "code",
   "execution_count": 15,
   "id": "ef442d1a",
   "metadata": {
    "hideCode": true,
    "hidePrompt": true,
    "id": "ef442d1a",
    "scrolled": true
   },
   "outputs": [],
   "source": [
    "#Группируем данные по категории заведения и типу сети (сетевое/несетевое)\n",
    "category_chain_ratio = df.groupby(['category', 'chain']).size().unstack(fill_value=0)\n",
    "\n",
    "# Добавляем столбец с общим количеством заведений по категории\n",
    "category_chain_ratio['total'] = category_chain_ratio[0] + category_chain_ratio[1]\n",
    "\n",
    "# Рассчитываем процент сетевых заведений в каждой категории\n",
    "category_chain_ratio['percent_networked'] = (category_chain_ratio[1] / category_chain_ratio['total']) * 100\n",
    "\n",
    "category_chain_ratio = category_chain_ratio.sort_values(by='percent_networked', ascending=False)"
   ]
  },
  {
   "cell_type": "code",
   "execution_count": 16,
   "id": "a4a51598",
   "metadata": {
    "hideCode": true,
    "hidePrompt": true
   },
   "outputs": [
    {
     "data": {
      "image/png": "[encoded data removed]",
      "text/plain": [
       "<Figure size 1200x800 with 1 Axes>"
      ]
     },
     "metadata": {},
     "output_type": "display_data"
    },
    {
     "name": "stdout",
     "output_type": "stream",
     "text": [
      "\n",
      "Таблица с результатами по категориям заведений:\n"
     ]
    },
    {
     "data": {
      "text/html": [
       "<div>\n",
       "<style scoped>\n",
       "    .dataframe tbody tr th:only-of-type {\n",
       "        vertical-align: middle;\n",
       "    }\n",
       "\n",
       "    .dataframe tbody tr th {\n",
       "        vertical-align: top;\n",
       "    }\n",
       "\n",
       "    .dataframe thead th {\n",
       "        text-align: right;\n",
       "    }\n",
       "</style>\n",
       "<table border=\"1\" class=\"dataframe\">\n",
       "  <thead>\n",
       "    <tr style=\"text-align: right;\">\n",
       "      <th></th>\n",
       "      <th>Заведений</th>\n",
       "      <th>Несетевых</th>\n",
       "      <th>Сетевых</th>\n",
       "      <th>Процент сетевых</th>\n",
       "    </tr>\n",
       "    <tr>\n",
       "      <th>category</th>\n",
       "      <th></th>\n",
       "      <th></th>\n",
       "      <th></th>\n",
       "      <th></th>\n",
       "    </tr>\n",
       "  </thead>\n",
       "  <tbody>\n",
       "    <tr>\n",
       "      <th>булочная</th>\n",
       "      <td>256</td>\n",
       "      <td>99</td>\n",
       "      <td>157</td>\n",
       "      <td>61.0</td>\n",
       "    </tr>\n",
       "    <tr>\n",
       "      <th>пиццерия</th>\n",
       "      <td>633</td>\n",
       "      <td>303</td>\n",
       "      <td>330</td>\n",
       "      <td>52.0</td>\n",
       "    </tr>\n",
       "    <tr>\n",
       "      <th>кофейня</th>\n",
       "      <td>1413</td>\n",
       "      <td>693</td>\n",
       "      <td>720</td>\n",
       "      <td>51.0</td>\n",
       "    </tr>\n",
       "    <tr>\n",
       "      <th>быстрое питание</th>\n",
       "      <td>603</td>\n",
       "      <td>371</td>\n",
       "      <td>232</td>\n",
       "      <td>38.0</td>\n",
       "    </tr>\n",
       "    <tr>\n",
       "      <th>ресторан</th>\n",
       "      <td>2042</td>\n",
       "      <td>1313</td>\n",
       "      <td>729</td>\n",
       "      <td>36.0</td>\n",
       "    </tr>\n",
       "    <tr>\n",
       "      <th>кафе</th>\n",
       "      <td>2376</td>\n",
       "      <td>1597</td>\n",
       "      <td>779</td>\n",
       "      <td>33.0</td>\n",
       "    </tr>\n",
       "    <tr>\n",
       "      <th>столовая</th>\n",
       "      <td>315</td>\n",
       "      <td>227</td>\n",
       "      <td>88</td>\n",
       "      <td>28.0</td>\n",
       "    </tr>\n",
       "    <tr>\n",
       "      <th>бар,паб</th>\n",
       "      <td>764</td>\n",
       "      <td>596</td>\n",
       "      <td>168</td>\n",
       "      <td>22.0</td>\n",
       "    </tr>\n",
       "  </tbody>\n",
       "</table>\n",
       "</div>"
      ],
      "text/plain": [
       "                 Заведений  Несетевых  Сетевых  Процент сетевых\n",
       "category                                                       \n",
       "булочная               256         99      157             61.0\n",
       "пиццерия               633        303      330             52.0\n",
       "кофейня               1413        693      720             51.0\n",
       "быстрое питание        603        371      232             38.0\n",
       "ресторан              2042       1313      729             36.0\n",
       "кафе                  2376       1597      779             33.0\n",
       "столовая               315        227       88             28.0\n",
       "бар,паб                764        596      168             22.0"
      ]
     },
     "metadata": {},
     "output_type": "display_data"
    }
   ],
   "source": [
    "category_chain_ratio = category_chain_ratio[['total', 0, 1, 'percent_networked']]\n",
    "category_chain_ratio.columns = ['Заведений', 'Несетевых', 'Сетевых', 'Процент сетевых']\n",
    "\n",
    "plt.figure(figsize=(12, 8))\n",
    "sns.barplot(x=category_chain_ratio.index, y=category_chain_ratio['Процент сетевых'],hue=category_chain_ratio.index, palette='viridis',legend = False)\n",
    "plt.title('Процент сетевых заведений по категориям')\n",
    "plt.xlabel('Категория заведения')\n",
    "plt.ylabel('Процент сетевых заведений')\n",
    "plt.xticks(rotation=90)\n",
    "plt.show()\n",
    "\n",
    "print(\"\\nТаблица с результатами по категориям заведений:\")\n",
    "display(round(category_chain_ratio))"
   ]
  },
  {
   "cell_type": "markdown",
   "id": "a7bb74f5",
   "metadata": {
    "hideCode": true,
    "hidePrompt": true,
    "id": "a139bd72"
   },
   "source": [
    "***В этой визуацлизации видно, что булочная составляет 61% сетевых заведений, это больше чем у васех остальных. Ближайшая категория - это пиццерия, ее процент сетевых заведений составляет 52%\"***"
   ]
  },
  {
   "cell_type": "markdown",
   "id": "5913c3e3",
   "metadata": {
    "hideCode": true,
    "hidePrompt": true,
    "id": "5913c3e3"
   },
   "source": [
    "---\n",
    "\n",
    "### Задача 4\n",
    "\n",
    "Исследуйте количество посадочных мест в заведениях. Встречаются ли в данных аномальные значения или выбросы? Если да, то с чем они могут быть связаны? Приведите для каждой категории заведений наиболее типичное для него количество посадочных мест. Результат сопроводите подходящими визуализациями.\n"
   ]
  },
  {
   "cell_type": "code",
   "execution_count": 17,
   "id": "6cb238d2",
   "metadata": {
    "hideCode": true,
    "hidePrompt": true,
    "id": "6cb238d2"
   },
   "outputs": [
    {
     "data": {
      "image/png": "[encoded data removed]",
      "text/plain": [
       "<Figure size 1200x600 with 1 Axes>"
      ]
     },
     "metadata": {},
     "output_type": "display_data"
    },
    {
     "name": "stdout",
     "output_type": "stream",
     "text": [
      "Основные статистики по количеству посадочных мест:\n"
     ]
    },
    {
     "data": {
      "text/plain": [
       "count    4792.0\n",
       "mean      108.0\n",
       "std       123.0\n",
       "min         0.0\n",
       "25%        40.0\n",
       "50%        75.0\n",
       "75%       140.0\n",
       "max      1288.0\n",
       "Name: seats, dtype: float64"
      ]
     },
     "metadata": {},
     "output_type": "display_data"
    }
   ],
   "source": [
    "seats_statistics = df['seats'].describe()\n",
    "\n",
    "plt.figure(figsize=(12, 6))\n",
    "sns.boxplot(x=df['seats'], color='lightblue')\n",
    "plt.title('Распределение количества посадочных мест')\n",
    "plt.xlabel('Количество посадочных мест')\n",
    "plt.show()\n",
    "\n",
    "print(\"Основные статистики по количеству посадочных мест:\")\n",
    "display(round(seats_statistics))"
   ]
  },
  {
   "cell_type": "code",
   "execution_count": 18,
   "id": "062b55d8",
   "metadata": {
    "hideCode": true,
    "hidePrompt": true,
    "id": "062b55d8"
   },
   "outputs": [
    {
     "name": "stdout",
     "output_type": "stream",
     "text": [
      "\n",
      "Заведения с количеством посадочных мест более 500:\n"
     ]
    },
    {
     "data": {
      "text/html": [
       "<div>\n",
       "<style scoped>\n",
       "    .dataframe tbody tr th:only-of-type {\n",
       "        vertical-align: middle;\n",
       "    }\n",
       "\n",
       "    .dataframe tbody tr th {\n",
       "        vertical-align: top;\n",
       "    }\n",
       "\n",
       "    .dataframe thead th {\n",
       "        text-align: right;\n",
       "    }\n",
       "</style>\n",
       "<table border=\"1\" class=\"dataframe\">\n",
       "  <thead>\n",
       "    <tr style=\"text-align: right;\">\n",
       "      <th></th>\n",
       "      <th>name</th>\n",
       "      <th>category</th>\n",
       "      <th>seats</th>\n",
       "    </tr>\n",
       "  </thead>\n",
       "  <tbody>\n",
       "    <tr>\n",
       "      <th>1326</th>\n",
       "      <td>нам</td>\n",
       "      <td>бар,паб</td>\n",
       "      <td>625.0</td>\n",
       "    </tr>\n",
       "    <tr>\n",
       "      <th>1351</th>\n",
       "      <td>максима пицца</td>\n",
       "      <td>пиццерия</td>\n",
       "      <td>625.0</td>\n",
       "    </tr>\n",
       "    <tr>\n",
       "      <th>1355</th>\n",
       "      <td>страдивари</td>\n",
       "      <td>ресторан</td>\n",
       "      <td>625.0</td>\n",
       "    </tr>\n",
       "    <tr>\n",
       "      <th>1367</th>\n",
       "      <td>академия</td>\n",
       "      <td>пиццерия</td>\n",
       "      <td>625.0</td>\n",
       "    </tr>\n",
       "    <tr>\n",
       "      <th>1380</th>\n",
       "      <td>север-метрополь</td>\n",
       "      <td>кофейня</td>\n",
       "      <td>625.0</td>\n",
       "    </tr>\n",
       "    <tr>\n",
       "      <th>1385</th>\n",
       "      <td>чайхона на соколе</td>\n",
       "      <td>кафе</td>\n",
       "      <td>625.0</td>\n",
       "    </tr>\n",
       "    <tr>\n",
       "      <th>1393</th>\n",
       "      <td>кулинарная лавка братьев караваевых</td>\n",
       "      <td>кафе</td>\n",
       "      <td>625.0</td>\n",
       "    </tr>\n",
       "    <tr>\n",
       "      <th>1442</th>\n",
       "      <td>abc coffee roasters</td>\n",
       "      <td>кофейня</td>\n",
       "      <td>625.0</td>\n",
       "    </tr>\n",
       "    <tr>\n",
       "      <th>1446</th>\n",
       "      <td>9 bar coffee</td>\n",
       "      <td>кофейня</td>\n",
       "      <td>625.0</td>\n",
       "    </tr>\n",
       "    <tr>\n",
       "      <th>1464</th>\n",
       "      <td>находка</td>\n",
       "      <td>ресторан</td>\n",
       "      <td>625.0</td>\n",
       "    </tr>\n",
       "    <tr>\n",
       "      <th>1475</th>\n",
       "      <td>falko pizza</td>\n",
       "      <td>пиццерия</td>\n",
       "      <td>625.0</td>\n",
       "    </tr>\n",
       "    <tr>\n",
       "      <th>1498</th>\n",
       "      <td>brooklyn coffee</td>\n",
       "      <td>кофейня</td>\n",
       "      <td>625.0</td>\n",
       "    </tr>\n",
       "    <tr>\n",
       "      <th>1548</th>\n",
       "      <td>french bakery</td>\n",
       "      <td>кафе</td>\n",
       "      <td>625.0</td>\n",
       "    </tr>\n",
       "    <tr>\n",
       "      <th>1672</th>\n",
       "      <td>ача-чача</td>\n",
       "      <td>ресторан</td>\n",
       "      <td>625.0</td>\n",
       "    </tr>\n",
       "    <tr>\n",
       "      <th>1766</th>\n",
       "      <td>золотая бухара</td>\n",
       "      <td>ресторан</td>\n",
       "      <td>625.0</td>\n",
       "    </tr>\n",
       "  </tbody>\n",
       "</table>\n",
       "</div>"
      ],
      "text/plain": [
       "                                     name  category  seats\n",
       "1326                                  нам   бар,паб  625.0\n",
       "1351                        максима пицца  пиццерия  625.0\n",
       "1355                           страдивари  ресторан  625.0\n",
       "1367                             академия  пиццерия  625.0\n",
       "1380                      север-метрополь   кофейня  625.0\n",
       "1385                    чайхона на соколе      кафе  625.0\n",
       "1393  кулинарная лавка братьев караваевых      кафе  625.0\n",
       "1442                  abc coffee roasters   кофейня  625.0\n",
       "1446                         9 bar coffee   кофейня  625.0\n",
       "1464                              находка  ресторан  625.0\n",
       "1475                          falko pizza  пиццерия  625.0\n",
       "1498                      brooklyn coffee   кофейня  625.0\n",
       "1548                        french bakery      кафе  625.0\n",
       "1672                             ача-чача  ресторан  625.0\n",
       "1766                       золотая бухара  ресторан  625.0"
      ]
     },
     "metadata": {},
     "output_type": "display_data"
    }
   ],
   "source": [
    "outliers = df[(df['seats'] > 500)]\n",
    "\n",
    "print(\"\\nЗаведения с количеством посадочных мест более 500:\")\n",
    "display(outliers[['name', 'category', 'seats']].head(15))"
   ]
  },
  {
   "cell_type": "code",
   "execution_count": 19,
   "id": "ceadf25b",
   "metadata": {
    "hideCode": true,
    "hidePrompt": true,
    "id": "ceadf25b"
   },
   "outputs": [
    {
     "data": {
      "image/png": "[encoded data removed]",
      "text/plain": [
       "<Figure size 1200x600 with 1 Axes>"
      ]
     },
     "metadata": {},
     "output_type": "display_data"
    },
    {
     "name": "stdout",
     "output_type": "stream",
     "text": [
      "\n",
      "Медианное количество посадочных мест по категориям:\n",
      "category\n",
      "ресторан           86.0\n",
      "бар,паб            82.0\n",
      "кофейня            80.0\n",
      "столовая           75.5\n",
      "быстрое питание    65.0\n",
      "кафе               60.0\n",
      "пиццерия           55.0\n",
      "булочная           50.0\n",
      "Name: seats, dtype: float32\n"
     ]
    }
   ],
   "source": [
    "category_seats = df.groupby('category')['seats'].median().sort_values(ascending = False)\n",
    "\n",
    "plt.figure(figsize=(12, 6))\n",
    "sns.barplot(x=category_seats.index, y=category_seats.values, color = 'lightpink')\n",
    "plt.title('Типичное количество посадочных мест по категориям заведений')\n",
    "plt.xlabel('Категория заведения')\n",
    "plt.ylabel('Медиана количества посадочных мест')\n",
    "plt.xticks(rotation=90)\n",
    "plt.show()\n",
    "\n",
    "print(\"\\nМедианное количество посадочных мест по категориям:\")\n",
    "print(category_seats)"
   ]
  },
  {
   "cell_type": "markdown",
   "id": "8a716002",
   "metadata": {
    "hideCode": true,
    "hidePrompt": true
   },
   "source": [
    "***Здесь мы видим, что есть аномальные значение в стобцах seats, которые уходят за значение 500. Почему могут быть такие выборосы? Я считаю, что либо ошибка заполнения, либо заведения расположенны в тороговых центрах, где места между некоторым заведениями могут быть общими. Также заметно, что в ресторанах и пабах больше всего посадочных мест, чем в остальных, хотя значения с кофейней весьма близки к значению посадочных мест в баре***"
   ]
  },
  {
   "cell_type": "markdown",
   "id": "8ed065ea",
   "metadata": {
    "hideCode": true,
    "hidePrompt": true,
    "id": "8ed065ea"
   },
   "source": [
    "---\n",
    "\n",
    "### Задача 5\n",
    "\n",
    "Исследуйте рейтинг заведений. Визуализируйте распределение средних рейтингов по категориям заведений. Сильно ли различаются усреднённые рейтинги для разных типов общепита?"
   ]
  },
  {
   "cell_type": "code",
   "execution_count": 20,
   "id": "cc5206f8",
   "metadata": {
    "hideCode": true,
    "hidePrompt": true,
    "id": "cc5206f8"
   },
   "outputs": [
    {
     "data": {
      "image/png": "[encoded data removed]",
      "text/plain": [
       "<Figure size 1400x600 with 1 Axes>"
      ]
     },
     "metadata": {},
     "output_type": "display_data"
    },
    {
     "name": "stdout",
     "output_type": "stream",
     "text": [
      "\n",
      "Основные статистики по рейтингу заведений:\n"
     ]
    },
    {
     "data": {
      "text/plain": [
       "count    8402.000000\n",
       "mean        4.230016\n",
       "std         0.470320\n",
       "min         1.000000\n",
       "25%         4.100000\n",
       "50%         4.300000\n",
       "75%         4.400000\n",
       "max         5.000000\n",
       "Name: rating, dtype: float64"
      ]
     },
     "metadata": {},
     "output_type": "display_data"
    },
    {
     "name": "stdout",
     "output_type": "stream",
     "text": [
      "\n",
      "Рейтинг по категориям заведений Москвы\n"
     ]
    },
    {
     "data": {
      "text/plain": [
       "category\n",
       "бар,паб            4.39\n",
       "пиццерия           4.30\n",
       "ресторан           4.29\n",
       "кофейня            4.28\n",
       "булочная           4.27\n",
       "столовая           4.21\n",
       "кафе               4.12\n",
       "быстрое питание    4.05\n",
       "Name: rating, dtype: float32"
      ]
     },
     "metadata": {},
     "output_type": "display_data"
    }
   ],
   "source": [
    "seats_statistics = df['rating'].describe()\n",
    "category_mean_rating = df.groupby('category')['rating'].mean().sort_values(ascending=False)\n",
    "category_mean_rating.plot(kind='bar',\n",
    "   title='Распределение рейтинга заведений по категориям',\n",
    "   xlabel='Категория',\n",
    "   ylabel='Рейтинг',\n",
    "   rot=45,\n",
    "   figsize=(14, 6),\n",
    "   color = 'orange'\n",
    ")                                     \n",
    "plt.show()\n",
    "print(\"\\nОсновные статистики по рейтингу заведений:\")\n",
    "display(seats_statistics)\n",
    "print(\"\\nРейтинг по категориям заведений Москвы\")\n",
    "display(round(category_mean_rating,2))"
   ]
  },
  {
   "cell_type": "markdown",
   "id": "41f7b05b",
   "metadata": {
    "hideCode": true,
    "hidePrompt": true,
    "id": "3e0ec5d7"
   },
   "source": [
    "***По визуализации мы видим, что самый высокий средний рейтинг на основе оценок пользователей в приложении Яндекс Карты принадлежит категории заведений \"барю,паб. Но разница в среднем рейтинге по сравнению с остальными категориями заведений маленькая***"
   ]
  },
  {
   "cell_type": "markdown",
   "id": "dd9702d9",
   "metadata": {
    "hideCode": true,
    "hidePrompt": true,
    "id": "dd9702d9"
   },
   "source": [
    "---\n",
    "\n",
    "### Задача 6\n",
    "\n",
    "Изучите, с какими данными показывают самую сильную корреляцию рейтинги заведений? Постройте и визуализируйте матрицу корреляции рейтинга заведения с разными данными: его категория, положение (административный район Москвы), статус сетевого заведения, количество мест, ценовая категория и признак, является ли заведения круглосуточным. Выберите самую сильную связь и проверьте её."
   ]
  },
  {
   "cell_type": "code",
   "execution_count": null,
   "id": "8f0379af",
   "metadata": {
    "hideCode": true,
    "hidePrompt": true,
    "id": "8f0379af"
   },
   "outputs": [],
   "source": [
    "variables_for_phik = ['rating', 'category', 'district', 'chain', 'seats', 'price', 'is_24_7']\n",
    "\n",
    "interval_cols = ['rating', 'chain', 'seats']\n",
    "\n",
    "phik_matrix = df[variables_for_phik].phik_matrix(interval_cols=interval_cols)\n",
    "\n",
    "plt.figure(figsize=(10, 6))\n",
    "sns.heatmap(phik_matrix, annot=True, cmap=\"coolwarm\", fmt=\".2f\", linewidths=0.5)\n",
    "plt.title(\"Матрица phi_k-корреляции рейтинга заведений с другими параметрами\")\n",
    "plt.show()"
   ]
  },
  {
   "cell_type": "code",
   "execution_count": null,
   "id": "1a65a84d",
   "metadata": {
    "hideCode": true,
    "hidePrompt": true,
    "id": "1a65a84d"
   },
   "outputs": [],
   "source": [
    "plt.figure(figsize=(10, 6))\n",
    "sns.scatterplot(x=df['category'], y=df['rating'], alpha=0.6)\n",
    "plt.title('Зависимость рейтинга от категории цен в заведении')\n",
    "plt.xlabel('Категории заведений')\n",
    "plt.ylabel('Рейтинг')\n",
    "plt.show()"
   ]
  },
  {
   "cell_type": "markdown",
   "id": "5cfba57a",
   "metadata": {
    "hideCode": true,
    "hidePrompt": true
   },
   "source": [
    "***Здесь мы видим сильную зависимость по категории заведений и по ценовой категории, так же можно подметить, что столбец district и seats имеют не малеькую корреляцию. Возможно округ зависит на количество посетителей, следовательно и кол-во мест***"
   ]
  },
  {
   "cell_type": "markdown",
   "id": "370de703",
   "metadata": {
    "hideCode": true,
    "hidePrompt": true,
    "id": "370de703"
   },
   "source": [
    "---\n",
    "\n",
    "### Задача 7\n",
    "\n",
    "Сгруппируйте данные по названиям заведений и найдите топ-15 популярных сетей в Москве. Для них посчитайте значения среднего рейтинга. Под популярностью понимается количество заведений этой сети в регионе. К какой категории заведений они относятся? Результат сопроводите подходящими визуализациями."
   ]
  },
  {
   "cell_type": "code",
   "execution_count": null,
   "id": "5d828a9a",
   "metadata": {
    "hideCode": true,
    "hidePrompt": true,
    "id": "5d828a9a"
   },
   "outputs": [],
   "source": [
    "top_15_networks = (df[df['chain'] == 1]\n",
    "                .groupby('name')\n",
    "                .agg(num_restaurants=('name', 'count'),\n",
    "                    avg_rating=('rating', 'mean'),\n",
    "                    category=('category', 'first'))\n",
    "                    .sort_values(by='num_restaurants',ascending=False)\n",
    "                    .head(15)\n",
    "               )"
   ]
  },
  {
   "cell_type": "code",
   "execution_count": null,
   "id": "d013c598",
   "metadata": {
    "hideCode": true,
    "hidePrompt": true,
    "id": "d013c598"
   },
   "outputs": [],
   "source": [
    "fig, ax1 = plt.subplots(figsize=(12, 6))\n",
    "\n",
    "sns.barplot(y=top_15_networks.index, x=top_15_networks['num_restaurants'],hue = top_15_networks.index, palette='viridis', ax=ax1)\n",
    "ax1.set_xlabel('Количество заведений')\n",
    "ax1.set_ylabel('Название сети')\n",
    "ax1.set_title('Топ-15 популярных сетевых заведений в Москве')\n",
    "plt.show()\n"
   ]
  },
  {
   "cell_type": "code",
   "execution_count": null,
   "id": "774348d5",
   "metadata": {
    "hideCode": true,
    "hidePrompt": true,
    "id": "774348d5"
   },
   "outputs": [],
   "source": [
    "fig, ax2 = plt.subplots(figsize=(12, 6))\n",
    "sns.barplot(y=top_15_networks.index, x=top_15_networks['avg_rating'],hue = top_15_networks.index,palette='coolwarm', ax=ax2)\n",
    "ax2.set_xlabel('Средний рейтинг')\n",
    "ax2.set_ylabel('Название сети')\n",
    "ax2.set_title('Средний рейтинг топ-15 популярных сетевых заведений')\n",
    "\n",
    "plt.xlim(0, 5)\n",
    "plt.show()\n",
    "display(round(top_15_networks,2))"
   ]
  },
  {
   "cell_type": "markdown",
   "id": "833e0993",
   "metadata": {
    "hideCode": true,
    "hidePrompt": true
   },
   "source": [
    "***Тут мы видим топ 15 самых популярных сетей заведений в Москве.Самым большим сетевым заведением является \"шоколадница\". У него 120 заведений по всей Москве, но ее средний рейтинг не является самим больших среди данного топа. Самый большой средний рейтинг у заведения буханка. Средний рейтинг равен 4.40 из 5***"
   ]
  },
  {
   "cell_type": "markdown",
   "id": "85a90a94",
   "metadata": {
    "hideCode": true,
    "hidePrompt": true,
    "id": "85a90a94"
   },
   "source": [
    "---\n",
    "\n",
    "### Задача 8\n",
    "\n",
    "Изучите вариацию среднего чека заведения (столбец `middle_avg_bill`) в зависимости от района Москвы. Проанализируйте цены в Центральном административном округе и других. Как удалённость от центра влияет на цены в заведениях? Результат сопроводите подходящими визуализациями.\n"
   ]
  },
  {
   "cell_type": "code",
   "execution_count": null,
   "id": "5fb4ffc6",
   "metadata": {
    "hideCode": true,
    "hidePrompt": true,
    "id": "5fb4ffc6"
   },
   "outputs": [],
   "source": [
    "district_avg_price = df.groupby('district')['middle_avg_bill'].mean().sort_values(ascending=False)\n",
    "\n",
    "plt.figure(figsize=(16, 8))\n",
    "sns.barplot(x=district_avg_price.index, y=district_avg_price.values,hue = district_avg_price.index, palette='Blues_d')\n",
    "plt.title('Средний чек по районам Москвы')\n",
    "plt.xlabel('Район')\n",
    "plt.ylabel('Средний чек (руб.)')\n",
    "plt.xticks(rotation=90)\n",
    "plt.show()\n",
    "display(round(district_avg_price))"
   ]
  },
  {
   "cell_type": "code",
   "execution_count": null,
   "id": "b98066c1",
   "metadata": {
    "hideCode": true,
    "hidePrompt": true,
    "id": "b98066c1"
   },
   "outputs": [],
   "source": [
    "# Добавим новый столбец с классификацией на центральные и нецентральные районы\n",
    "df['is_central'] = df['district'].apply(lambda x: 1 if x == 'Центральный административный округ' else 0)\n",
    "df['is_central'] = df['is_central'].astype(np.int8)\n",
    "# Рассчитаем средний чек для центральных и нецентральных районов\n",
    "central_avg_price = df.groupby('is_central')['middle_avg_bill'].mean()\n",
    "\n",
    "# Визуализируем разницу в среднем чеке между центральными и нецентральными районами\n",
    "plt.figure(figsize=(8, 6))\n",
    "sns.barplot(x=central_avg_price.index, y=central_avg_price.values,hue = central_avg_price.index,  palette='viridis',legend = False)\n",
    "plt.title('Средний чек в центральных и нецентральных районах Москвы')\n",
    "plt.xlabel('Тип района (Центральный/Не центральный)')\n",
    "plt.ylabel('Средний чек (руб.)')\n",
    "plt.xticks([0, 1], ['Не центральный', 'Центральный'])\n",
    "plt.show()\n",
    "\n",
    "# Выведем результат\n",
    "print(\"Средний чек в центральных и нецентральных районах:\")\n",
    "display(round(central_avg_price))"
   ]
  },
  {
   "cell_type": "markdown",
   "id": "9633eb23",
   "metadata": {
    "hideCode": true,
    "hidePrompt": true,
    "id": "9b5e00a5"
   },
   "source": [
    "***Перед нами 2 визуализации, в которых показывается, что средний чек в Центральном административном округе больше чем в остальных округах.***"
   ]
  },
  {
   "cell_type": "markdown",
   "id": "c150bd4f",
   "metadata": {
    "hideCode": true,
    "hidePrompt": true,
    "id": "c150bd4f"
   },
   "source": [
    "---\n",
    "\n",
    "### Задача 9\n",
    "\n",
    " При необходимости проведите исследования других данных и их взаимосвязи. Например, часы работы заведений или стоимость чашки кофе в зависимости от расположения или типа заведения.\n"
   ]
  },
  {
   "cell_type": "code",
   "execution_count": null,
   "id": "5ee8b279",
   "metadata": {
    "hideCode": true,
    "hidePrompt": true,
    "id": "5ee8b279"
   },
   "outputs": [],
   "source": [
    "working_hours_by_category = df.groupby(['category', 'is_24_7']).size().sort_values(ascending = False)\n",
    "working_hours_by_category_df = working_hours_by_category.reset_index()\n",
    "working_hours_by_category_df.columns = ['Категория заведения', 'is_24_7', 'Количество заведений']\n",
    "\n",
    "plt.figure(figsize=(12, 8))\n",
    "sns.countplot(x='category', hue='is_24_7', data=df, palette='Set2')\n",
    "plt.title('Часы работы заведений по категориям')\n",
    "plt.xlabel('Категория заведения')\n",
    "plt.ylabel('Количество заведений')\n",
    "plt.show()\n",
    "\n",
    "working_hours_by_category_df"
   ]
  },
  {
   "cell_type": "markdown",
   "id": "7b09af22",
   "metadata": {
    "hideCode": true,
    "hidePrompt": true,
    "id": "c6a666d9"
   },
   "source": [
    "***На данной визуацлизации видно, что большая часть заведений не работает 24/7. Максимальное значение у заведения, которое работает круглые сутки является 267. Всего 267 заведений категории кафе работают круглосуточно, сравнивая ту же категорию, но когда оно работает не круглосуточно, таких заведений 2109***"
   ]
  },
  {
   "cell_type": "markdown",
   "id": "f2c54e9a",
   "metadata": {
    "hideCode": true,
    "hidePrompt": true,
    "id": "f2c54e9a"
   },
   "source": [
    "---\n",
    "\n",
    "### Промежуточный вывод\n",
    "\n",
    "Обобщите полученные результаты, выделив, по вашему мнению, самые важные."
   ]
  },
  {
   "cell_type": "markdown",
   "id": "fef97e96",
   "metadata": {
    "hideCode": true,
    "hidePrompt": true,
    "id": "8bc2e63d"
   },
   "source": [
    "***Я бы отметил несколько выполненных задач, которые я считаю важными для начала своего бизнеса. Задачи №1,№2,№7 и №8. Первые 2 задачи дают нам понять, каких категорий заведений больше всего в Москве, и в каких округах их находится больше, чем в других. Так мы можем понять, насколько много будет конкурентов в определенном округе и к каким категориям они себя относят.Задачи № 7 и №8 показывают нам самые популярные сети заведений, что опять же говорит нам о конкурентах на рынке. А задача №8 дает нам возможность опредилить среднюю прибыль с 1 чека в каждом округе.***"
   ]
  },
  {
   "cell_type": "markdown",
   "id": "480f3422",
   "metadata": {
    "hideCode": true,
    "hidePrompt": true,
    "id": "480f3422"
   },
   "source": [
    "## 4. Итоговый вывод и рекомендации\n",
    "\n",
    "По результатам проведённого исследовательского анализа данных сформулируйте итоговый вывод и рекомендации для заказчика. Старайтесь акцентировать внимание на ключевых моментах исследования.\n",
    "\n",
    "При составлении вывода придерживайтесь такой структуры:\n",
    "\n",
    "1. Общий обзор проделанной работы.\n",
    "2. Ответы на исследовательские вопросы, или главные выводы.\n",
    "3. Рекомендации на основе анализа данных."
   ]
  },
  {
   "cell_type": "markdown",
   "id": "500a496b",
   "metadata": {
    "hideCode": true,
    "hidePrompt": true
   },
   "source": [
    "***В результате выполнения всех задач, у нас были добавлены несколько столбцов с числовыми данными, которые нам позволили подсчитать корреляцию и был добавлен отдельно стобец is_central, который обозначет, что это центральный район, так же было добавлено булевый столбец is_24_7, в котором обозначется, работает ли заведение круглосуточно и ежедневно.***\n",
    "\n",
    "***Судя по результатам, можно сказать, что прибыль в Центральном административном округе самая большая, по сравнению с остальными регионами. Средний чек ЦАО составляет - 1191, тем временем когда у последующего региона ЗАО средний чек составляет 1053.Третье место занимает САО, с среднии чеком 928. В ЦАО 30% заведений составляют рестораны, это 670 заведений, ближайшее значение к нему - это кафе, кол-во заведений в ЦАО составляет 464 заведения.Так же в ЦАО открыто больше всего заведений, процент от всех заведений в Москве составляет 27%.Точное количество равно 2242. Ближайший преследователь по кол-ву заведений в районе это Северный административный округ, в котором количество заведений составляет 898. В процентном соотношении это 11% от всех заведений в Москве.Рейтинг заведений наибольшим образом коррелирует с ценовой категорией и категорией заведения, целых 0.57 из 1. Заведению с высокой ценовой категорией, как правило, приписывается более высокий рейтинг, что может быть связано с качеством сервиса или предлагаемых услуг***\n",
    "\n",
    "***Судя по вышепересиленным данным, для успешного открытия нового заведения в Москве лучшим выбором будет ресторан или кафе в ЦАО, ориентированный на премиальный сервис. В качестве альтернативы можно рассмотреть Северный административный округ с более низкой конкуренцией, но всё ещё высоким спросом.***"
   ]
  }
 ],
 "metadata": {
  "ExecuteTimeLog": [
   {
    "duration": 787,
    "start_time": "2025-01-02T15:55:55.719Z"
   },
   {
    "duration": 493,
    "start_time": "2025-01-02T15:57:28.404Z"
   },
   {
    "duration": 781,
    "start_time": "2025-01-02T15:57:34.008Z"
   },
   {
    "duration": 90,
    "start_time": "2025-01-02T15:57:35.381Z"
   },
   {
    "duration": 50,
    "start_time": "2025-01-02T15:58:04.484Z"
   },
   {
    "duration": 1222,
    "start_time": "2025-01-02T15:58:07.455Z"
   },
   {
    "duration": 110,
    "start_time": "2025-01-02T15:58:08.931Z"
   },
   {
    "duration": 125,
    "start_time": "2025-01-02T15:58:37.925Z"
   },
   {
    "duration": 121,
    "start_time": "2025-01-02T15:58:58.214Z"
   },
   {
    "duration": 121,
    "start_time": "2025-01-02T15:59:03.766Z"
   },
   {
    "duration": 118,
    "start_time": "2025-01-02T15:59:10.231Z"
   },
   {
    "duration": 88,
    "start_time": "2025-01-02T16:01:42.670Z"
   },
   {
    "duration": 11,
    "start_time": "2025-01-02T16:01:49.732Z"
   },
   {
    "duration": 1191,
    "start_time": "2025-01-02T16:01:57.895Z"
   },
   {
    "duration": 125,
    "start_time": "2025-01-02T16:01:59.088Z"
   },
   {
    "duration": 3,
    "start_time": "2025-01-02T16:01:59.214Z"
   },
   {
    "duration": 13,
    "start_time": "2025-01-02T16:01:59.218Z"
   },
   {
    "duration": 1142,
    "start_time": "2025-01-02T16:02:29.780Z"
   },
   {
    "duration": 127,
    "start_time": "2025-01-02T16:02:30.924Z"
   },
   {
    "duration": 3,
    "start_time": "2025-01-02T16:02:31.053Z"
   },
   {
    "duration": 41,
    "start_time": "2025-01-02T16:02:31.057Z"
   },
   {
    "duration": 33,
    "start_time": "2025-01-02T16:05:23.684Z"
   },
   {
    "duration": 31,
    "start_time": "2025-01-02T16:20:38.099Z"
   },
   {
    "duration": 31,
    "start_time": "2025-01-02T16:20:46.267Z"
   },
   {
    "duration": 86,
    "start_time": "2025-01-02T16:22:09.546Z"
   },
   {
    "duration": 26,
    "start_time": "2025-01-02T16:23:14.858Z"
   },
   {
    "duration": 24,
    "start_time": "2025-01-02T16:24:41.464Z"
   },
   {
    "duration": 1353,
    "start_time": "2025-01-02T16:26:32.826Z"
   },
   {
    "duration": 0,
    "start_time": "2025-01-02T16:26:34.181Z"
   },
   {
    "duration": 0,
    "start_time": "2025-01-02T16:26:34.182Z"
   },
   {
    "duration": 0,
    "start_time": "2025-01-02T16:26:34.184Z"
   },
   {
    "duration": 0,
    "start_time": "2025-01-02T16:26:34.186Z"
   },
   {
    "duration": 1223,
    "start_time": "2025-01-02T16:26:46.907Z"
   },
   {
    "duration": 128,
    "start_time": "2025-01-02T16:26:48.132Z"
   },
   {
    "duration": 2,
    "start_time": "2025-01-02T16:26:48.262Z"
   },
   {
    "duration": 52,
    "start_time": "2025-01-02T16:26:48.266Z"
   },
   {
    "duration": 29,
    "start_time": "2025-01-02T16:26:48.320Z"
   },
   {
    "duration": 1141,
    "start_time": "2025-01-02T16:27:36.452Z"
   },
   {
    "duration": 127,
    "start_time": "2025-01-02T16:27:37.595Z"
   },
   {
    "duration": 3,
    "start_time": "2025-01-02T16:27:37.724Z"
   },
   {
    "duration": 77,
    "start_time": "2025-01-02T16:27:37.729Z"
   },
   {
    "duration": 26,
    "start_time": "2025-01-02T16:27:37.809Z"
   },
   {
    "duration": 8,
    "start_time": "2025-01-02T16:32:52.801Z"
   },
   {
    "duration": 12,
    "start_time": "2025-01-02T16:35:10.452Z"
   },
   {
    "duration": 10,
    "start_time": "2025-01-02T16:35:51.174Z"
   },
   {
    "duration": 11,
    "start_time": "2025-01-02T17:07:39.993Z"
   },
   {
    "duration": 12,
    "start_time": "2025-01-02T17:07:47.282Z"
   },
   {
    "duration": 10,
    "start_time": "2025-01-02T17:07:53.774Z"
   },
   {
    "duration": 12,
    "start_time": "2025-01-02T17:08:06.370Z"
   },
   {
    "duration": 11,
    "start_time": "2025-01-02T17:08:42.285Z"
   },
   {
    "duration": 82,
    "start_time": "2025-01-02T17:08:52.123Z"
   },
   {
    "duration": 84,
    "start_time": "2025-01-02T17:08:58.407Z"
   },
   {
    "duration": 12,
    "start_time": "2025-01-02T17:09:02.179Z"
   },
   {
    "duration": 82,
    "start_time": "2025-01-02T17:20:36.610Z"
   },
   {
    "duration": 108,
    "start_time": "2025-01-02T17:20:42.552Z"
   },
   {
    "duration": 11,
    "start_time": "2025-01-02T17:20:52.528Z"
   },
   {
    "duration": 98,
    "start_time": "2025-01-02T17:22:45.023Z"
   },
   {
    "duration": 27,
    "start_time": "2025-01-02T17:22:50.887Z"
   },
   {
    "duration": 24,
    "start_time": "2025-01-02T17:23:07.263Z"
   },
   {
    "duration": 26,
    "start_time": "2025-01-02T17:23:10.559Z"
   },
   {
    "duration": 22,
    "start_time": "2025-01-02T17:23:13.988Z"
   },
   {
    "duration": 25,
    "start_time": "2025-01-02T17:23:15.934Z"
   },
   {
    "duration": 20,
    "start_time": "2025-01-02T17:23:18.440Z"
   },
   {
    "duration": 33,
    "start_time": "2025-01-02T17:23:31.800Z"
   },
   {
    "duration": 23,
    "start_time": "2025-01-02T17:24:56.908Z"
   },
   {
    "duration": 18,
    "start_time": "2025-01-02T17:25:02.393Z"
   },
   {
    "duration": 19,
    "start_time": "2025-01-02T17:25:11.837Z"
   },
   {
    "duration": 19,
    "start_time": "2025-01-02T17:25:19.044Z"
   },
   {
    "duration": 20,
    "start_time": "2025-01-02T17:25:23.157Z"
   },
   {
    "duration": 20,
    "start_time": "2025-01-02T17:26:00.914Z"
   },
   {
    "duration": 26,
    "start_time": "2025-01-02T17:29:48.751Z"
   },
   {
    "duration": 20,
    "start_time": "2025-01-02T17:29:55.791Z"
   },
   {
    "duration": 9,
    "start_time": "2025-01-02T17:34:27.449Z"
   },
   {
    "duration": 7,
    "start_time": "2025-01-02T17:34:52.906Z"
   },
   {
    "duration": 1195,
    "start_time": "2025-01-02T20:30:59.773Z"
   },
   {
    "duration": 0,
    "start_time": "2025-01-02T20:31:00.970Z"
   },
   {
    "duration": 0,
    "start_time": "2025-01-02T20:31:00.973Z"
   },
   {
    "duration": 0,
    "start_time": "2025-01-02T20:31:00.974Z"
   },
   {
    "duration": 0,
    "start_time": "2025-01-02T20:31:00.975Z"
   },
   {
    "duration": 0,
    "start_time": "2025-01-02T20:31:00.976Z"
   },
   {
    "duration": 0,
    "start_time": "2025-01-02T20:31:00.977Z"
   },
   {
    "duration": 2232,
    "start_time": "2025-01-02T20:31:16.757Z"
   },
   {
    "duration": 134,
    "start_time": "2025-01-02T20:31:18.992Z"
   },
   {
    "duration": 3,
    "start_time": "2025-01-02T20:31:19.128Z"
   },
   {
    "duration": 35,
    "start_time": "2025-01-02T20:31:19.133Z"
   },
   {
    "duration": 24,
    "start_time": "2025-01-02T20:31:19.170Z"
   },
   {
    "duration": 84,
    "start_time": "2025-01-02T20:31:19.195Z"
   },
   {
    "duration": 8,
    "start_time": "2025-01-02T20:31:19.281Z"
   },
   {
    "duration": 4499,
    "start_time": "2025-01-02T20:31:27.503Z"
   },
   {
    "duration": 140,
    "start_time": "2025-01-02T20:31:32.005Z"
   },
   {
    "duration": 3,
    "start_time": "2025-01-02T20:31:32.146Z"
   },
   {
    "duration": 38,
    "start_time": "2025-01-02T20:31:32.150Z"
   },
   {
    "duration": 40,
    "start_time": "2025-01-02T20:31:32.190Z"
   },
   {
    "duration": 61,
    "start_time": "2025-01-02T20:31:32.231Z"
   },
   {
    "duration": 8,
    "start_time": "2025-01-02T20:31:32.294Z"
   },
   {
    "duration": 1141,
    "start_time": "2025-01-02T20:31:43.577Z"
   },
   {
    "duration": 127,
    "start_time": "2025-01-02T20:31:44.720Z"
   },
   {
    "duration": 3,
    "start_time": "2025-01-02T20:31:44.848Z"
   },
   {
    "duration": 57,
    "start_time": "2025-01-02T20:31:44.853Z"
   },
   {
    "duration": 25,
    "start_time": "2025-01-02T20:31:44.912Z"
   },
   {
    "duration": 63,
    "start_time": "2025-01-02T20:31:44.938Z"
   },
   {
    "duration": 29,
    "start_time": "2025-01-02T20:31:45.004Z"
   },
   {
    "duration": 15,
    "start_time": "2025-01-02T20:35:01.542Z"
   },
   {
    "duration": 13,
    "start_time": "2025-01-02T20:35:22.350Z"
   },
   {
    "duration": 104,
    "start_time": "2025-01-02T20:35:57.206Z"
   },
   {
    "duration": 21,
    "start_time": "2025-01-02T20:36:09.744Z"
   },
   {
    "duration": 14,
    "start_time": "2025-01-02T20:36:33.586Z"
   },
   {
    "duration": 1225,
    "start_time": "2025-01-02T20:36:51.026Z"
   },
   {
    "duration": 128,
    "start_time": "2025-01-02T20:36:52.253Z"
   },
   {
    "duration": 3,
    "start_time": "2025-01-02T20:36:52.384Z"
   },
   {
    "duration": 45,
    "start_time": "2025-01-02T20:36:52.389Z"
   },
   {
    "duration": 24,
    "start_time": "2025-01-02T20:36:52.436Z"
   },
   {
    "duration": 72,
    "start_time": "2025-01-02T20:36:52.462Z"
   },
   {
    "duration": 8,
    "start_time": "2025-01-02T20:36:52.536Z"
   },
   {
    "duration": 29,
    "start_time": "2025-01-02T20:36:52.545Z"
   },
   {
    "duration": 17,
    "start_time": "2025-01-02T20:37:52.199Z"
   },
   {
    "duration": 19,
    "start_time": "2025-01-02T20:38:06.832Z"
   },
   {
    "duration": 18,
    "start_time": "2025-01-02T20:38:10.562Z"
   },
   {
    "duration": 18,
    "start_time": "2025-01-02T20:38:27.062Z"
   },
   {
    "duration": 8,
    "start_time": "2025-01-02T20:44:56.970Z"
   },
   {
    "duration": 8,
    "start_time": "2025-01-02T20:45:14.063Z"
   },
   {
    "duration": 9,
    "start_time": "2025-01-02T20:55:24.168Z"
   },
   {
    "duration": 7,
    "start_time": "2025-01-02T20:55:42.624Z"
   },
   {
    "duration": 8,
    "start_time": "2025-01-02T20:56:37.985Z"
   },
   {
    "duration": 7,
    "start_time": "2025-01-02T20:56:43.334Z"
   },
   {
    "duration": 8,
    "start_time": "2025-01-02T20:57:18.733Z"
   },
   {
    "duration": 6,
    "start_time": "2025-01-02T21:00:14.500Z"
   },
   {
    "duration": 9,
    "start_time": "2025-01-02T21:00:21.648Z"
   },
   {
    "duration": 111,
    "start_time": "2025-01-02T21:01:39.875Z"
   },
   {
    "duration": 20,
    "start_time": "2025-01-02T21:02:09.395Z"
   },
   {
    "duration": 21,
    "start_time": "2025-01-02T21:04:08.327Z"
   },
   {
    "duration": 21,
    "start_time": "2025-01-02T21:04:18.411Z"
   },
   {
    "duration": 9,
    "start_time": "2025-01-02T21:04:27.726Z"
   },
   {
    "duration": 1184,
    "start_time": "2025-01-02T21:08:56.051Z"
   },
   {
    "duration": 131,
    "start_time": "2025-01-02T21:08:57.237Z"
   },
   {
    "duration": 3,
    "start_time": "2025-01-02T21:08:57.369Z"
   },
   {
    "duration": 58,
    "start_time": "2025-01-02T21:08:57.373Z"
   },
   {
    "duration": 26,
    "start_time": "2025-01-02T21:08:57.434Z"
   },
   {
    "duration": 81,
    "start_time": "2025-01-02T21:08:57.462Z"
   },
   {
    "duration": 9,
    "start_time": "2025-01-02T21:08:57.545Z"
   },
   {
    "duration": 8,
    "start_time": "2025-01-02T21:08:57.556Z"
   },
   {
    "duration": 1194,
    "start_time": "2025-01-02T21:15:57.441Z"
   },
   {
    "duration": 130,
    "start_time": "2025-01-02T21:15:58.637Z"
   },
   {
    "duration": 3,
    "start_time": "2025-01-02T21:15:58.769Z"
   },
   {
    "duration": 35,
    "start_time": "2025-01-02T21:15:58.774Z"
   },
   {
    "duration": 26,
    "start_time": "2025-01-02T21:15:58.832Z"
   },
   {
    "duration": 89,
    "start_time": "2025-01-02T21:15:58.860Z"
   },
   {
    "duration": 10,
    "start_time": "2025-01-02T21:15:58.950Z"
   },
   {
    "duration": 94,
    "start_time": "2025-01-02T21:15:58.962Z"
   },
   {
    "duration": 16,
    "start_time": "2025-01-02T21:20:48.855Z"
   },
   {
    "duration": 103,
    "start_time": "2025-01-02T21:28:29.637Z"
   },
   {
    "duration": 1231,
    "start_time": "2025-01-02T21:29:26.893Z"
   },
   {
    "duration": 126,
    "start_time": "2025-01-02T21:29:28.127Z"
   },
   {
    "duration": 2,
    "start_time": "2025-01-02T21:29:28.255Z"
   },
   {
    "duration": 52,
    "start_time": "2025-01-02T21:29:28.258Z"
   },
   {
    "duration": 35,
    "start_time": "2025-01-02T21:29:28.312Z"
   },
   {
    "duration": 61,
    "start_time": "2025-01-02T21:29:28.348Z"
   },
   {
    "duration": 8,
    "start_time": "2025-01-02T21:29:28.430Z"
   },
   {
    "duration": 12,
    "start_time": "2025-01-02T21:29:28.440Z"
   },
   {
    "duration": 10,
    "start_time": "2025-01-02T21:30:11.956Z"
   },
   {
    "duration": 11,
    "start_time": "2025-01-02T21:30:16.218Z"
   },
   {
    "duration": 11,
    "start_time": "2025-01-02T21:30:51.945Z"
   },
   {
    "duration": 8,
    "start_time": "2025-01-02T21:31:42.562Z"
   },
   {
    "duration": 10,
    "start_time": "2025-01-02T21:36:16.134Z"
   },
   {
    "duration": 9,
    "start_time": "2025-01-02T21:36:20.372Z"
   },
   {
    "duration": 11,
    "start_time": "2025-01-02T21:36:49.591Z"
   },
   {
    "duration": 1189,
    "start_time": "2025-01-02T21:36:55.068Z"
   },
   {
    "duration": 124,
    "start_time": "2025-01-02T21:36:56.259Z"
   },
   {
    "duration": 3,
    "start_time": "2025-01-02T21:36:56.386Z"
   },
   {
    "duration": 44,
    "start_time": "2025-01-02T21:36:56.391Z"
   },
   {
    "duration": 9,
    "start_time": "2025-01-02T21:36:56.436Z"
   },
   {
    "duration": 27,
    "start_time": "2025-01-02T21:36:56.447Z"
   },
   {
    "duration": 82,
    "start_time": "2025-01-02T21:36:56.475Z"
   },
   {
    "duration": 11,
    "start_time": "2025-01-02T21:36:56.559Z"
   },
   {
    "duration": 11,
    "start_time": "2025-01-02T21:36:56.572Z"
   },
   {
    "duration": 1159,
    "start_time": "2025-01-02T21:40:27.387Z"
   },
   {
    "duration": 131,
    "start_time": "2025-01-02T21:40:28.548Z"
   },
   {
    "duration": 3,
    "start_time": "2025-01-02T21:40:28.681Z"
   },
   {
    "duration": 51,
    "start_time": "2025-01-02T21:40:28.686Z"
   },
   {
    "duration": 11,
    "start_time": "2025-01-02T21:40:28.739Z"
   },
   {
    "duration": 26,
    "start_time": "2025-01-02T21:40:28.752Z"
   },
   {
    "duration": 92,
    "start_time": "2025-01-02T21:40:28.780Z"
   },
   {
    "duration": 11,
    "start_time": "2025-01-02T21:40:28.874Z"
   },
   {
    "duration": 11,
    "start_time": "2025-01-02T21:40:28.887Z"
   },
   {
    "duration": 1177,
    "start_time": "2025-01-02T21:40:52.752Z"
   },
   {
    "duration": 125,
    "start_time": "2025-01-02T21:40:53.931Z"
   },
   {
    "duration": 2,
    "start_time": "2025-01-02T21:40:54.060Z"
   },
   {
    "duration": 36,
    "start_time": "2025-01-02T21:40:54.064Z"
   },
   {
    "duration": 36,
    "start_time": "2025-01-02T21:40:54.101Z"
   },
   {
    "duration": 26,
    "start_time": "2025-01-02T21:40:54.138Z"
   },
   {
    "duration": 83,
    "start_time": "2025-01-02T21:40:54.165Z"
   },
   {
    "duration": 11,
    "start_time": "2025-01-02T21:40:54.249Z"
   },
   {
    "duration": 12,
    "start_time": "2025-01-02T21:40:54.261Z"
   },
   {
    "duration": 107,
    "start_time": "2025-01-02T21:42:44.210Z"
   },
   {
    "duration": 1308,
    "start_time": "2025-01-02T21:43:31.069Z"
   },
   {
    "duration": 12,
    "start_time": "2025-01-02T21:43:56.335Z"
   },
   {
    "duration": 1197,
    "start_time": "2025-01-02T21:58:15.833Z"
   },
   {
    "duration": 124,
    "start_time": "2025-01-02T21:58:17.032Z"
   },
   {
    "duration": 3,
    "start_time": "2025-01-02T21:58:17.157Z"
   },
   {
    "duration": 86,
    "start_time": "2025-01-02T21:58:17.161Z"
   },
   {
    "duration": 72,
    "start_time": "2025-01-02T21:58:17.250Z"
   },
   {
    "duration": 24,
    "start_time": "2025-01-02T21:58:17.324Z"
   },
   {
    "duration": 60,
    "start_time": "2025-01-02T21:58:17.350Z"
   },
   {
    "duration": 29,
    "start_time": "2025-01-02T21:58:17.411Z"
   },
   {
    "duration": 19,
    "start_time": "2025-01-02T21:58:17.442Z"
   },
   {
    "duration": 1286,
    "start_time": "2025-01-02T22:05:36.860Z"
   },
   {
    "duration": 124,
    "start_time": "2025-01-02T22:05:38.148Z"
   },
   {
    "duration": 2,
    "start_time": "2025-01-02T22:05:38.274Z"
   },
   {
    "duration": 52,
    "start_time": "2025-01-02T22:05:38.278Z"
   },
   {
    "duration": 11,
    "start_time": "2025-01-02T22:05:38.332Z"
   },
   {
    "duration": 27,
    "start_time": "2025-01-02T22:05:38.344Z"
   },
   {
    "duration": 86,
    "start_time": "2025-01-02T22:05:38.373Z"
   },
   {
    "duration": 13,
    "start_time": "2025-01-02T22:05:38.461Z"
   },
   {
    "duration": 13,
    "start_time": "2025-01-02T22:05:38.476Z"
   },
   {
    "duration": 1199,
    "start_time": "2025-01-02T22:07:03.440Z"
   },
   {
    "duration": 123,
    "start_time": "2025-01-02T22:07:04.641Z"
   },
   {
    "duration": 2,
    "start_time": "2025-01-02T22:07:04.766Z"
   },
   {
    "duration": 45,
    "start_time": "2025-01-02T22:07:04.770Z"
   },
   {
    "duration": 18,
    "start_time": "2025-01-02T22:07:04.817Z"
   },
   {
    "duration": 29,
    "start_time": "2025-01-02T22:07:04.836Z"
   },
   {
    "duration": 89,
    "start_time": "2025-01-02T22:07:04.867Z"
   },
   {
    "duration": 9,
    "start_time": "2025-01-02T22:07:04.957Z"
   },
   {
    "duration": 15,
    "start_time": "2025-01-02T22:07:04.968Z"
   },
   {
    "duration": 37,
    "start_time": "2025-01-02T22:07:29.882Z"
   },
   {
    "duration": 30,
    "start_time": "2025-01-02T22:07:54.172Z"
   },
   {
    "duration": 456,
    "start_time": "2025-01-02T22:09:33.264Z"
   },
   {
    "duration": 352,
    "start_time": "2025-01-02T22:10:41.983Z"
   },
   {
    "duration": 570,
    "start_time": "2025-01-02T22:11:06.523Z"
   },
   {
    "duration": 333,
    "start_time": "2025-01-02T22:11:13.794Z"
   },
   {
    "duration": 19,
    "start_time": "2025-01-02T22:11:43.717Z"
   },
   {
    "duration": 34,
    "start_time": "2025-01-02T22:11:52.451Z"
   },
   {
    "duration": 35,
    "start_time": "2025-01-02T22:13:20.302Z"
   },
   {
    "duration": 23,
    "start_time": "2025-01-02T22:13:47.311Z"
   },
   {
    "duration": 1253,
    "start_time": "2025-01-02T22:13:53.017Z"
   },
   {
    "duration": 127,
    "start_time": "2025-01-02T22:13:54.271Z"
   },
   {
    "duration": 3,
    "start_time": "2025-01-02T22:13:54.400Z"
   },
   {
    "duration": 43,
    "start_time": "2025-01-02T22:13:54.404Z"
   },
   {
    "duration": 25,
    "start_time": "2025-01-02T22:13:54.450Z"
   },
   {
    "duration": 30,
    "start_time": "2025-01-02T22:13:54.478Z"
   },
   {
    "duration": 62,
    "start_time": "2025-01-02T22:13:54.530Z"
   },
   {
    "duration": 8,
    "start_time": "2025-01-02T22:13:54.594Z"
   },
   {
    "duration": 35,
    "start_time": "2025-01-02T22:13:54.604Z"
   },
   {
    "duration": 24,
    "start_time": "2025-01-02T22:13:54.641Z"
   },
   {
    "duration": 18,
    "start_time": "2025-01-02T22:14:34.586Z"
   },
   {
    "duration": 45,
    "start_time": "2025-01-02T22:14:40.686Z"
   },
   {
    "duration": 1319,
    "start_time": "2025-01-02T22:15:02.410Z"
   },
   {
    "duration": 129,
    "start_time": "2025-01-02T22:15:03.731Z"
   },
   {
    "duration": 2,
    "start_time": "2025-01-02T22:15:03.862Z"
   },
   {
    "duration": 58,
    "start_time": "2025-01-02T22:15:03.867Z"
   },
   {
    "duration": 7,
    "start_time": "2025-01-02T22:15:03.929Z"
   },
   {
    "duration": 138,
    "start_time": "2025-01-02T22:15:03.938Z"
   },
   {
    "duration": 130,
    "start_time": "2025-01-02T22:15:04.078Z"
   },
   {
    "duration": 9,
    "start_time": "2025-01-02T22:15:04.210Z"
   },
   {
    "duration": 26,
    "start_time": "2025-01-02T22:15:04.221Z"
   },
   {
    "duration": 57,
    "start_time": "2025-01-02T22:15:04.249Z"
   },
   {
    "duration": 45,
    "start_time": "2025-01-02T22:19:43.932Z"
   },
   {
    "duration": 1251,
    "start_time": "2025-01-02T22:20:12.392Z"
   },
   {
    "duration": 124,
    "start_time": "2025-01-02T22:20:13.645Z"
   },
   {
    "duration": 3,
    "start_time": "2025-01-02T22:20:13.771Z"
   },
   {
    "duration": 58,
    "start_time": "2025-01-02T22:20:13.775Z"
   },
   {
    "duration": 8,
    "start_time": "2025-01-02T22:20:13.835Z"
   },
   {
    "duration": 31,
    "start_time": "2025-01-02T22:20:13.845Z"
   },
   {
    "duration": 90,
    "start_time": "2025-01-02T22:20:13.878Z"
   },
   {
    "duration": 10,
    "start_time": "2025-01-02T22:20:13.970Z"
   },
   {
    "duration": 36,
    "start_time": "2025-01-02T22:20:13.982Z"
   },
   {
    "duration": 39,
    "start_time": "2025-01-02T22:20:14.019Z"
   },
   {
    "duration": 20,
    "start_time": "2025-01-02T22:20:56.293Z"
   },
   {
    "duration": 21,
    "start_time": "2025-01-02T22:20:59.465Z"
   },
   {
    "duration": 21,
    "start_time": "2025-01-02T22:21:03.055Z"
   },
   {
    "duration": 21,
    "start_time": "2025-01-02T22:21:04.759Z"
   },
   {
    "duration": 19,
    "start_time": "2025-01-02T22:21:08.997Z"
   },
   {
    "duration": 21,
    "start_time": "2025-01-02T22:21:12.861Z"
   },
   {
    "duration": 19,
    "start_time": "2025-01-02T22:23:13.921Z"
   },
   {
    "duration": 21,
    "start_time": "2025-01-02T22:24:11.203Z"
   },
   {
    "duration": 19,
    "start_time": "2025-01-02T22:24:18.500Z"
   },
   {
    "duration": 1285,
    "start_time": "2025-01-02T22:24:46.528Z"
   },
   {
    "duration": 125,
    "start_time": "2025-01-02T22:24:47.815Z"
   },
   {
    "duration": 2,
    "start_time": "2025-01-02T22:24:47.942Z"
   },
   {
    "duration": 32,
    "start_time": "2025-01-02T22:24:47.946Z"
   },
   {
    "duration": 9,
    "start_time": "2025-01-02T22:24:47.980Z"
   },
   {
    "duration": 127,
    "start_time": "2025-01-02T22:24:48.030Z"
   },
   {
    "duration": 77,
    "start_time": "2025-01-02T22:24:48.159Z"
   },
   {
    "duration": 2,
    "start_time": "2025-01-02T22:24:48.238Z"
   },
   {
    "duration": 27,
    "start_time": "2025-01-02T22:24:48.242Z"
   },
   {
    "duration": 36,
    "start_time": "2025-01-02T22:24:48.271Z"
   },
   {
    "duration": 18,
    "start_time": "2025-01-02T22:26:27.165Z"
   },
   {
    "duration": 39,
    "start_time": "2025-01-02T22:26:36.240Z"
   },
   {
    "duration": 37,
    "start_time": "2025-01-02T22:27:18.661Z"
   },
   {
    "duration": 14,
    "start_time": "2025-01-02T22:39:28.142Z"
   },
   {
    "duration": 11,
    "start_time": "2025-01-02T22:39:35.765Z"
   },
   {
    "duration": 33,
    "start_time": "2025-01-02T22:45:13.552Z"
   },
   {
    "duration": 24,
    "start_time": "2025-01-02T22:47:30.999Z"
   },
   {
    "duration": 1268,
    "start_time": "2025-01-02T22:48:14.403Z"
   },
   {
    "duration": 126,
    "start_time": "2025-01-02T22:48:15.673Z"
   },
   {
    "duration": 3,
    "start_time": "2025-01-02T22:48:15.800Z"
   },
   {
    "duration": 40,
    "start_time": "2025-01-02T22:48:15.804Z"
   },
   {
    "duration": 8,
    "start_time": "2025-01-02T22:48:15.846Z"
   },
   {
    "duration": 48,
    "start_time": "2025-01-02T22:48:15.856Z"
   },
   {
    "duration": 74,
    "start_time": "2025-01-02T22:48:15.906Z"
   },
   {
    "duration": 28,
    "start_time": "2025-01-02T22:48:15.982Z"
   },
   {
    "duration": 3,
    "start_time": "2025-01-02T22:48:16.011Z"
   },
   {
    "duration": 21,
    "start_time": "2025-01-02T22:48:16.031Z"
   },
   {
    "duration": 59,
    "start_time": "2025-01-02T22:48:16.053Z"
   },
   {
    "duration": 31,
    "start_time": "2025-01-02T22:54:41.969Z"
   },
   {
    "duration": 1470,
    "start_time": "2025-01-02T22:54:55.354Z"
   },
   {
    "duration": 37,
    "start_time": "2025-01-02T22:55:16.086Z"
   },
   {
    "duration": 40,
    "start_time": "2025-01-02T22:55:57.748Z"
   },
   {
    "duration": 48,
    "start_time": "2025-01-02T22:56:06.459Z"
   },
   {
    "duration": 47,
    "start_time": "2025-01-02T22:56:25.622Z"
   },
   {
    "duration": 22,
    "start_time": "2025-01-02T22:57:19.752Z"
   },
   {
    "duration": 64,
    "start_time": "2025-01-02T22:59:39.057Z"
   },
   {
    "duration": 85,
    "start_time": "2025-01-02T22:59:56.076Z"
   },
   {
    "duration": 66,
    "start_time": "2025-01-02T23:00:16.561Z"
   },
   {
    "duration": 65,
    "start_time": "2025-01-02T23:00:31.476Z"
   },
   {
    "duration": 72,
    "start_time": "2025-01-02T23:01:09.505Z"
   },
   {
    "duration": 61,
    "start_time": "2025-01-02T23:01:34.302Z"
   },
   {
    "duration": 44,
    "start_time": "2025-01-02T23:01:42.087Z"
   },
   {
    "duration": 1189,
    "start_time": "2025-01-02T23:01:51.966Z"
   },
   {
    "duration": 125,
    "start_time": "2025-01-02T23:01:53.157Z"
   },
   {
    "duration": 2,
    "start_time": "2025-01-02T23:01:53.284Z"
   },
   {
    "duration": 66,
    "start_time": "2025-01-02T23:01:53.288Z"
   },
   {
    "duration": 8,
    "start_time": "2025-01-02T23:01:53.356Z"
   },
   {
    "duration": 44,
    "start_time": "2025-01-02T23:01:53.366Z"
   },
   {
    "duration": 67,
    "start_time": "2025-01-02T23:01:53.411Z"
   },
   {
    "duration": 56,
    "start_time": "2025-01-02T23:01:53.480Z"
   },
   {
    "duration": 2,
    "start_time": "2025-01-02T23:01:53.538Z"
   },
   {
    "duration": 13,
    "start_time": "2025-01-02T23:01:53.542Z"
   },
   {
    "duration": 34,
    "start_time": "2025-01-02T23:01:53.557Z"
   },
   {
    "duration": 113,
    "start_time": "2025-01-02T23:02:20.877Z"
   },
   {
    "duration": 10,
    "start_time": "2025-01-02T23:02:30.465Z"
   },
   {
    "duration": 44,
    "start_time": "2025-01-02T23:02:44.295Z"
   },
   {
    "duration": 68,
    "start_time": "2025-01-02T23:03:36.991Z"
   },
   {
    "duration": 36,
    "start_time": "2025-01-02T23:04:01.542Z"
   },
   {
    "duration": 1273,
    "start_time": "2025-01-02T23:04:07.889Z"
   },
   {
    "duration": 132,
    "start_time": "2025-01-02T23:04:09.163Z"
   },
   {
    "duration": 2,
    "start_time": "2025-01-02T23:04:09.297Z"
   },
   {
    "duration": 58,
    "start_time": "2025-01-02T23:04:09.301Z"
   },
   {
    "duration": 9,
    "start_time": "2025-01-02T23:04:09.360Z"
   },
   {
    "duration": 33,
    "start_time": "2025-01-02T23:04:09.371Z"
   },
   {
    "duration": 79,
    "start_time": "2025-01-02T23:04:09.406Z"
   },
   {
    "duration": 52,
    "start_time": "2025-01-02T23:04:09.487Z"
   },
   {
    "duration": 48,
    "start_time": "2025-01-02T23:04:09.541Z"
   },
   {
    "duration": 17,
    "start_time": "2025-01-02T23:04:09.591Z"
   },
   {
    "duration": 40,
    "start_time": "2025-01-02T23:04:09.610Z"
   },
   {
    "duration": 1353,
    "start_time": "2025-01-02T23:04:25.112Z"
   },
   {
    "duration": 128,
    "start_time": "2025-01-02T23:04:26.467Z"
   },
   {
    "duration": 2,
    "start_time": "2025-01-02T23:04:26.597Z"
   },
   {
    "duration": 37,
    "start_time": "2025-01-02T23:04:26.601Z"
   },
   {
    "duration": 8,
    "start_time": "2025-01-02T23:04:26.640Z"
   },
   {
    "duration": 33,
    "start_time": "2025-01-02T23:04:26.649Z"
   },
   {
    "duration": 85,
    "start_time": "2025-01-02T23:04:26.684Z"
   },
   {
    "duration": 78,
    "start_time": "2025-01-02T23:04:26.771Z"
   },
   {
    "duration": 3,
    "start_time": "2025-01-02T23:04:26.850Z"
   },
   {
    "duration": 14,
    "start_time": "2025-01-02T23:04:26.854Z"
   },
   {
    "duration": 65,
    "start_time": "2025-01-02T23:04:26.869Z"
   },
   {
    "duration": 1315,
    "start_time": "2025-01-02T23:05:31.844Z"
   },
   {
    "duration": 135,
    "start_time": "2025-01-02T23:05:33.161Z"
   },
   {
    "duration": 4,
    "start_time": "2025-01-02T23:05:33.298Z"
   },
   {
    "duration": 67,
    "start_time": "2025-01-02T23:05:33.304Z"
   },
   {
    "duration": 23,
    "start_time": "2025-01-02T23:05:33.374Z"
   },
   {
    "duration": 71,
    "start_time": "2025-01-02T23:05:33.399Z"
   },
   {
    "duration": 200,
    "start_time": "2025-01-02T23:05:33.472Z"
   },
   {
    "duration": 100,
    "start_time": "2025-01-02T23:05:33.674Z"
   },
   {
    "duration": 3,
    "start_time": "2025-01-02T23:05:33.776Z"
   },
   {
    "duration": 32,
    "start_time": "2025-01-02T23:05:33.780Z"
   },
   {
    "duration": 59,
    "start_time": "2025-01-02T23:05:33.814Z"
   },
   {
    "duration": 1255,
    "start_time": "2025-01-02T23:05:55.863Z"
   },
   {
    "duration": 127,
    "start_time": "2025-01-02T23:05:57.119Z"
   },
   {
    "duration": 2,
    "start_time": "2025-01-02T23:05:57.248Z"
   },
   {
    "duration": 35,
    "start_time": "2025-01-02T23:05:57.252Z"
   },
   {
    "duration": 8,
    "start_time": "2025-01-02T23:05:57.289Z"
   },
   {
    "duration": 54,
    "start_time": "2025-01-02T23:05:57.298Z"
   },
   {
    "duration": 78,
    "start_time": "2025-01-02T23:05:57.353Z"
   },
   {
    "duration": 84,
    "start_time": "2025-01-02T23:05:57.433Z"
   },
   {
    "duration": 2,
    "start_time": "2025-01-02T23:05:57.531Z"
   },
   {
    "duration": 35,
    "start_time": "2025-01-02T23:05:57.535Z"
   },
   {
    "duration": 65,
    "start_time": "2025-01-02T23:05:57.571Z"
   },
   {
    "duration": 1270,
    "start_time": "2025-01-02T23:06:16.828Z"
   },
   {
    "duration": 130,
    "start_time": "2025-01-02T23:06:18.100Z"
   },
   {
    "duration": 3,
    "start_time": "2025-01-02T23:06:18.231Z"
   },
   {
    "duration": 35,
    "start_time": "2025-01-02T23:06:18.235Z"
   },
   {
    "duration": 7,
    "start_time": "2025-01-02T23:06:18.273Z"
   },
   {
    "duration": 108,
    "start_time": "2025-01-02T23:06:18.282Z"
   },
   {
    "duration": 62,
    "start_time": "2025-01-02T23:06:18.391Z"
   },
   {
    "duration": 54,
    "start_time": "2025-01-02T23:06:18.454Z"
   },
   {
    "duration": 20,
    "start_time": "2025-01-02T23:06:18.510Z"
   },
   {
    "duration": 26,
    "start_time": "2025-01-02T23:06:18.532Z"
   },
   {
    "duration": 79,
    "start_time": "2025-01-02T23:06:18.560Z"
   },
   {
    "duration": 1218,
    "start_time": "2025-01-02T23:07:16.514Z"
   },
   {
    "duration": 129,
    "start_time": "2025-01-02T23:07:17.734Z"
   },
   {
    "duration": 3,
    "start_time": "2025-01-02T23:07:17.865Z"
   },
   {
    "duration": 33,
    "start_time": "2025-01-02T23:07:17.871Z"
   },
   {
    "duration": 7,
    "start_time": "2025-01-02T23:07:17.930Z"
   },
   {
    "duration": 24,
    "start_time": "2025-01-02T23:07:17.939Z"
   },
   {
    "duration": 83,
    "start_time": "2025-01-02T23:07:17.965Z"
   },
   {
    "duration": 62,
    "start_time": "2025-01-02T23:07:18.050Z"
   },
   {
    "duration": 3,
    "start_time": "2025-01-02T23:07:18.129Z"
   },
   {
    "duration": 13,
    "start_time": "2025-01-02T23:07:18.134Z"
   },
   {
    "duration": 35,
    "start_time": "2025-01-02T23:07:18.148Z"
   },
   {
    "duration": 1237,
    "start_time": "2025-01-02T23:07:42.247Z"
   },
   {
    "duration": 130,
    "start_time": "2025-01-02T23:07:43.487Z"
   },
   {
    "duration": 3,
    "start_time": "2025-01-02T23:07:43.619Z"
   },
   {
    "duration": 60,
    "start_time": "2025-01-02T23:07:43.625Z"
   },
   {
    "duration": 10,
    "start_time": "2025-01-02T23:07:43.688Z"
   },
   {
    "duration": 47,
    "start_time": "2025-01-02T23:07:43.700Z"
   },
   {
    "duration": 64,
    "start_time": "2025-01-02T23:07:43.750Z"
   },
   {
    "duration": 57,
    "start_time": "2025-01-02T23:07:43.831Z"
   },
   {
    "duration": 2,
    "start_time": "2025-01-02T23:07:43.890Z"
   },
   {
    "duration": 44,
    "start_time": "2025-01-02T23:07:43.895Z"
   },
   {
    "duration": 37,
    "start_time": "2025-01-02T23:07:43.941Z"
   },
   {
    "duration": 1196,
    "start_time": "2025-01-02T23:08:16.436Z"
   },
   {
    "duration": 127,
    "start_time": "2025-01-02T23:08:17.634Z"
   },
   {
    "duration": 2,
    "start_time": "2025-01-02T23:08:17.763Z"
   },
   {
    "duration": 44,
    "start_time": "2025-01-02T23:08:17.767Z"
   },
   {
    "duration": 22,
    "start_time": "2025-01-02T23:08:17.813Z"
   },
   {
    "duration": 26,
    "start_time": "2025-01-02T23:08:17.837Z"
   },
   {
    "duration": 87,
    "start_time": "2025-01-02T23:08:17.864Z"
   },
   {
    "duration": 55,
    "start_time": "2025-01-02T23:08:17.952Z"
   },
   {
    "duration": 2,
    "start_time": "2025-01-02T23:08:18.009Z"
   },
   {
    "duration": 27,
    "start_time": "2025-01-02T23:08:18.013Z"
   },
   {
    "duration": 35,
    "start_time": "2025-01-02T23:08:18.042Z"
   },
   {
    "duration": 49,
    "start_time": "2025-01-02T23:08:26.862Z"
   },
   {
    "duration": 56,
    "start_time": "2025-01-02T23:08:41.443Z"
   },
   {
    "duration": 41,
    "start_time": "2025-01-02T23:10:23.378Z"
   },
   {
    "duration": 39,
    "start_time": "2025-01-02T23:10:32.329Z"
   },
   {
    "duration": 35,
    "start_time": "2025-01-02T23:10:36.364Z"
   },
   {
    "duration": 1248,
    "start_time": "2025-01-02T23:10:43.752Z"
   },
   {
    "duration": 126,
    "start_time": "2025-01-02T23:10:45.002Z"
   },
   {
    "duration": 2,
    "start_time": "2025-01-02T23:10:45.130Z"
   },
   {
    "duration": 64,
    "start_time": "2025-01-02T23:10:45.134Z"
   },
   {
    "duration": 7,
    "start_time": "2025-01-02T23:10:45.200Z"
   },
   {
    "duration": 42,
    "start_time": "2025-01-02T23:10:45.209Z"
   },
   {
    "duration": 81,
    "start_time": "2025-01-02T23:10:45.252Z"
   },
   {
    "duration": 46,
    "start_time": "2025-01-02T23:10:45.335Z"
   },
   {
    "duration": 42,
    "start_time": "2025-01-02T23:10:45.383Z"
   },
   {
    "duration": 14,
    "start_time": "2025-01-02T23:10:45.427Z"
   },
   {
    "duration": 49,
    "start_time": "2025-01-02T23:10:45.443Z"
   },
   {
    "duration": 39,
    "start_time": "2025-01-02T23:11:00.674Z"
   },
   {
    "duration": 1232,
    "start_time": "2025-01-02T23:11:16.014Z"
   },
   {
    "duration": 128,
    "start_time": "2025-01-02T23:11:17.248Z"
   },
   {
    "duration": 3,
    "start_time": "2025-01-02T23:11:17.378Z"
   },
   {
    "duration": 52,
    "start_time": "2025-01-02T23:11:17.383Z"
   },
   {
    "duration": 9,
    "start_time": "2025-01-02T23:11:17.438Z"
   },
   {
    "duration": 26,
    "start_time": "2025-01-02T23:11:17.450Z"
   },
   {
    "duration": 100,
    "start_time": "2025-01-02T23:11:17.478Z"
   },
   {
    "duration": 70,
    "start_time": "2025-01-02T23:11:17.580Z"
   },
   {
    "duration": 3,
    "start_time": "2025-01-02T23:11:17.652Z"
   },
   {
    "duration": 12,
    "start_time": "2025-01-02T23:11:17.656Z"
   },
   {
    "duration": 65,
    "start_time": "2025-01-02T23:11:17.669Z"
   },
   {
    "duration": 39,
    "start_time": "2025-01-02T23:11:36.539Z"
   },
   {
    "duration": 40,
    "start_time": "2025-01-02T23:12:01.259Z"
   },
   {
    "duration": 114,
    "start_time": "2025-01-02T23:12:25.160Z"
   },
   {
    "duration": 45,
    "start_time": "2025-01-02T23:12:29.570Z"
   },
   {
    "duration": 46,
    "start_time": "2025-01-02T23:12:38.113Z"
   },
   {
    "duration": 1140,
    "start_time": "2025-01-02T23:12:43.389Z"
   },
   {
    "duration": 127,
    "start_time": "2025-01-02T23:12:44.531Z"
   },
   {
    "duration": 3,
    "start_time": "2025-01-02T23:12:44.660Z"
   },
   {
    "duration": 33,
    "start_time": "2025-01-02T23:12:44.664Z"
   },
   {
    "duration": 36,
    "start_time": "2025-01-02T23:12:44.699Z"
   },
   {
    "duration": 24,
    "start_time": "2025-01-02T23:12:44.737Z"
   },
   {
    "duration": 83,
    "start_time": "2025-01-02T23:12:44.762Z"
   },
   {
    "duration": 60,
    "start_time": "2025-01-02T23:12:44.847Z"
   },
   {
    "duration": 3,
    "start_time": "2025-01-02T23:12:44.929Z"
   },
   {
    "duration": 10,
    "start_time": "2025-01-02T23:12:44.933Z"
   },
   {
    "duration": 53,
    "start_time": "2025-01-02T23:12:44.945Z"
   },
   {
    "duration": 1243,
    "start_time": "2025-01-02T23:12:52.807Z"
   },
   {
    "duration": 126,
    "start_time": "2025-01-02T23:12:54.052Z"
   },
   {
    "duration": 2,
    "start_time": "2025-01-02T23:12:54.182Z"
   },
   {
    "duration": 53,
    "start_time": "2025-01-02T23:12:54.186Z"
   },
   {
    "duration": 8,
    "start_time": "2025-01-02T23:12:54.240Z"
   },
   {
    "duration": 36,
    "start_time": "2025-01-02T23:12:54.250Z"
   },
   {
    "duration": 149,
    "start_time": "2025-01-02T23:12:54.287Z"
   },
   {
    "duration": 53,
    "start_time": "2025-01-02T23:12:54.438Z"
   },
   {
    "duration": 12,
    "start_time": "2025-01-02T23:12:54.493Z"
   },
   {
    "duration": 29,
    "start_time": "2025-01-02T23:12:54.506Z"
   },
   {
    "duration": 35,
    "start_time": "2025-01-02T23:12:54.536Z"
   },
   {
    "duration": 39,
    "start_time": "2025-01-02T23:13:40.955Z"
   },
   {
    "duration": 39,
    "start_time": "2025-01-02T23:13:44.762Z"
   },
   {
    "duration": 38,
    "start_time": "2025-01-02T23:13:47.605Z"
   },
   {
    "duration": 1227,
    "start_time": "2025-01-02T23:13:55.751Z"
   },
   {
    "duration": 125,
    "start_time": "2025-01-02T23:13:56.980Z"
   },
   {
    "duration": 3,
    "start_time": "2025-01-02T23:13:57.107Z"
   },
   {
    "duration": 38,
    "start_time": "2025-01-02T23:13:57.111Z"
   },
   {
    "duration": 7,
    "start_time": "2025-01-02T23:13:57.152Z"
   },
   {
    "duration": 52,
    "start_time": "2025-01-02T23:13:57.160Z"
   },
   {
    "duration": 58,
    "start_time": "2025-01-02T23:13:57.214Z"
   },
   {
    "duration": 58,
    "start_time": "2025-01-02T23:13:57.273Z"
   },
   {
    "duration": 2,
    "start_time": "2025-01-02T23:13:57.333Z"
   },
   {
    "duration": 11,
    "start_time": "2025-01-02T23:13:57.336Z"
   },
   {
    "duration": 51,
    "start_time": "2025-01-02T23:13:57.349Z"
   },
   {
    "duration": 25,
    "start_time": "2025-01-02T23:15:39.972Z"
   },
   {
    "duration": 1242,
    "start_time": "2025-01-02T23:17:27.322Z"
   },
   {
    "duration": 126,
    "start_time": "2025-01-02T23:17:28.566Z"
   },
   {
    "duration": 2,
    "start_time": "2025-01-02T23:17:28.694Z"
   },
   {
    "duration": 36,
    "start_time": "2025-01-02T23:17:28.698Z"
   },
   {
    "duration": 8,
    "start_time": "2025-01-02T23:17:28.736Z"
   },
   {
    "duration": 25,
    "start_time": "2025-01-02T23:17:28.745Z"
   },
   {
    "duration": 89,
    "start_time": "2025-01-02T23:17:28.771Z"
   },
   {
    "duration": 32,
    "start_time": "2025-01-02T23:17:28.862Z"
   },
   {
    "duration": 2,
    "start_time": "2025-01-02T23:17:28.896Z"
   },
   {
    "duration": 38,
    "start_time": "2025-01-02T23:17:28.900Z"
   },
   {
    "duration": 51,
    "start_time": "2025-01-02T23:17:28.939Z"
   },
   {
    "duration": 64,
    "start_time": "2025-01-02T23:17:28.992Z"
   },
   {
    "duration": 1227,
    "start_time": "2025-01-02T23:22:18.799Z"
   },
   {
    "duration": 124,
    "start_time": "2025-01-02T23:22:20.028Z"
   },
   {
    "duration": 2,
    "start_time": "2025-01-02T23:22:20.153Z"
   },
   {
    "duration": 34,
    "start_time": "2025-01-02T23:22:20.157Z"
   },
   {
    "duration": 8,
    "start_time": "2025-01-02T23:22:20.192Z"
   },
   {
    "duration": 31,
    "start_time": "2025-01-02T23:22:20.201Z"
   },
   {
    "duration": 56,
    "start_time": "2025-01-02T23:22:20.233Z"
   },
   {
    "duration": 40,
    "start_time": "2025-01-02T23:22:20.290Z"
   },
   {
    "duration": 2,
    "start_time": "2025-01-02T23:22:20.332Z"
   },
   {
    "duration": 135,
    "start_time": "2025-01-02T23:22:20.336Z"
   },
   {
    "duration": 48,
    "start_time": "2025-01-02T23:22:20.472Z"
   },
   {
    "duration": 39,
    "start_time": "2025-01-02T23:22:20.522Z"
   },
   {
    "duration": 1188,
    "start_time": "2025-01-02T23:26:11.930Z"
   },
   {
    "duration": 124,
    "start_time": "2025-01-02T23:26:13.120Z"
   },
   {
    "duration": 3,
    "start_time": "2025-01-02T23:26:13.246Z"
   },
   {
    "duration": 38,
    "start_time": "2025-01-02T23:26:13.250Z"
   },
   {
    "duration": 8,
    "start_time": "2025-01-02T23:26:13.290Z"
   },
   {
    "duration": 46,
    "start_time": "2025-01-02T23:26:13.299Z"
   },
   {
    "duration": 59,
    "start_time": "2025-01-02T23:26:13.346Z"
   },
   {
    "duration": 50,
    "start_time": "2025-01-02T23:26:13.407Z"
   },
   {
    "duration": 2,
    "start_time": "2025-01-02T23:26:13.458Z"
   },
   {
    "duration": 7,
    "start_time": "2025-01-02T23:26:13.462Z"
   },
   {
    "duration": 71,
    "start_time": "2025-01-02T23:26:13.470Z"
   },
   {
    "duration": 33,
    "start_time": "2025-01-02T23:26:13.543Z"
   },
   {
    "duration": 1669,
    "start_time": "2025-01-03T10:22:24.630Z"
   },
   {
    "duration": 0,
    "start_time": "2025-01-03T10:22:26.301Z"
   },
   {
    "duration": 0,
    "start_time": "2025-01-03T10:22:26.302Z"
   },
   {
    "duration": 1,
    "start_time": "2025-01-03T10:22:26.303Z"
   },
   {
    "duration": 0,
    "start_time": "2025-01-03T10:22:26.305Z"
   },
   {
    "duration": 0,
    "start_time": "2025-01-03T10:22:26.306Z"
   },
   {
    "duration": 0,
    "start_time": "2025-01-03T10:22:26.307Z"
   },
   {
    "duration": 0,
    "start_time": "2025-01-03T10:22:26.308Z"
   },
   {
    "duration": 0,
    "start_time": "2025-01-03T10:22:26.310Z"
   },
   {
    "duration": 0,
    "start_time": "2025-01-03T10:22:26.311Z"
   },
   {
    "duration": 0,
    "start_time": "2025-01-03T10:22:26.312Z"
   },
   {
    "duration": 3916,
    "start_time": "2025-01-03T10:24:44.248Z"
   },
   {
    "duration": 1355,
    "start_time": "2025-01-03T10:24:54.759Z"
   },
   {
    "duration": 318,
    "start_time": "2025-01-03T10:24:56.117Z"
   },
   {
    "duration": 3,
    "start_time": "2025-01-03T10:24:56.437Z"
   },
   {
    "duration": 49,
    "start_time": "2025-01-03T10:24:56.442Z"
   },
   {
    "duration": 28,
    "start_time": "2025-01-03T10:24:56.493Z"
   },
   {
    "duration": 86,
    "start_time": "2025-01-03T10:24:56.523Z"
   },
   {
    "duration": 53,
    "start_time": "2025-01-03T10:24:56.611Z"
   },
   {
    "duration": 3,
    "start_time": "2025-01-03T10:24:56.666Z"
   },
   {
    "duration": 29,
    "start_time": "2025-01-03T10:24:56.671Z"
   },
   {
    "duration": 70,
    "start_time": "2025-01-03T10:24:56.702Z"
   },
   {
    "duration": 47,
    "start_time": "2025-01-03T10:24:56.774Z"
   },
   {
    "duration": 62,
    "start_time": "2025-01-03T10:29:19.430Z"
   },
   {
    "duration": 1323,
    "start_time": "2025-01-03T10:30:07.889Z"
   },
   {
    "duration": 151,
    "start_time": "2025-01-03T10:30:09.214Z"
   },
   {
    "duration": 3,
    "start_time": "2025-01-03T10:30:09.367Z"
   },
   {
    "duration": 40,
    "start_time": "2025-01-03T10:30:09.371Z"
   },
   {
    "duration": 80,
    "start_time": "2025-01-03T10:30:09.415Z"
   },
   {
    "duration": 81,
    "start_time": "2025-01-03T10:30:09.497Z"
   },
   {
    "duration": 48,
    "start_time": "2025-01-03T10:30:09.580Z"
   },
   {
    "duration": 3,
    "start_time": "2025-01-03T10:30:09.631Z"
   },
   {
    "duration": 28,
    "start_time": "2025-01-03T10:30:09.638Z"
   },
   {
    "duration": 108,
    "start_time": "2025-01-03T10:30:09.669Z"
   },
   {
    "duration": 42,
    "start_time": "2025-01-03T10:30:09.779Z"
   },
   {
    "duration": 156,
    "start_time": "2025-01-03T10:32:00.035Z"
   },
   {
    "duration": 60,
    "start_time": "2025-01-03T10:32:06.099Z"
   },
   {
    "duration": 71,
    "start_time": "2025-01-03T10:32:38.542Z"
   },
   {
    "duration": 77,
    "start_time": "2025-01-03T10:33:23.753Z"
   },
   {
    "duration": 55,
    "start_time": "2025-01-03T10:33:57.793Z"
   },
   {
    "duration": 1468,
    "start_time": "2025-01-03T10:34:30.741Z"
   },
   {
    "duration": 144,
    "start_time": "2025-01-03T10:34:32.212Z"
   },
   {
    "duration": 3,
    "start_time": "2025-01-03T10:34:32.358Z"
   },
   {
    "duration": 56,
    "start_time": "2025-01-03T10:34:32.363Z"
   },
   {
    "duration": 29,
    "start_time": "2025-01-03T10:34:32.422Z"
   },
   {
    "duration": 80,
    "start_time": "2025-01-03T10:34:32.453Z"
   },
   {
    "duration": 61,
    "start_time": "2025-01-03T10:34:32.535Z"
   },
   {
    "duration": 3,
    "start_time": "2025-01-03T10:34:32.598Z"
   },
   {
    "duration": 9,
    "start_time": "2025-01-03T10:34:32.602Z"
   },
   {
    "duration": 216,
    "start_time": "2025-01-03T10:34:32.613Z"
   },
   {
    "duration": 0,
    "start_time": "2025-01-03T10:34:32.831Z"
   },
   {
    "duration": 59,
    "start_time": "2025-01-03T10:34:51.790Z"
   },
   {
    "duration": 68,
    "start_time": "2025-01-03T10:35:02.416Z"
   },
   {
    "duration": 89,
    "start_time": "2025-01-03T10:35:21.552Z"
   },
   {
    "duration": 96,
    "start_time": "2025-01-03T10:35:52.398Z"
   },
   {
    "duration": 69,
    "start_time": "2025-01-03T10:36:13.988Z"
   },
   {
    "duration": 82,
    "start_time": "2025-01-03T10:36:58.698Z"
   },
   {
    "duration": 94,
    "start_time": "2025-01-03T10:37:04.013Z"
   },
   {
    "duration": 54,
    "start_time": "2025-01-03T10:37:12.539Z"
   },
   {
    "duration": 1361,
    "start_time": "2025-01-03T10:37:16.690Z"
   },
   {
    "duration": 147,
    "start_time": "2025-01-03T10:37:18.055Z"
   },
   {
    "duration": 3,
    "start_time": "2025-01-03T10:37:18.203Z"
   },
   {
    "duration": 65,
    "start_time": "2025-01-03T10:37:18.208Z"
   },
   {
    "duration": 29,
    "start_time": "2025-01-03T10:37:18.277Z"
   },
   {
    "duration": 113,
    "start_time": "2025-01-03T10:37:18.307Z"
   },
   {
    "duration": 67,
    "start_time": "2025-01-03T10:37:18.422Z"
   },
   {
    "duration": 3,
    "start_time": "2025-01-03T10:37:18.491Z"
   },
   {
    "duration": 4,
    "start_time": "2025-01-03T10:37:18.496Z"
   },
   {
    "duration": 85,
    "start_time": "2025-01-03T10:37:18.502Z"
   },
   {
    "duration": 45,
    "start_time": "2025-01-03T10:37:18.588Z"
   },
   {
    "duration": 1418,
    "start_time": "2025-01-03T10:37:33.128Z"
   },
   {
    "duration": 144,
    "start_time": "2025-01-03T10:37:34.549Z"
   },
   {
    "duration": 3,
    "start_time": "2025-01-03T10:37:34.695Z"
   },
   {
    "duration": 60,
    "start_time": "2025-01-03T10:37:34.699Z"
   },
   {
    "duration": 39,
    "start_time": "2025-01-03T10:37:34.763Z"
   },
   {
    "duration": 82,
    "start_time": "2025-01-03T10:37:34.804Z"
   },
   {
    "duration": 38,
    "start_time": "2025-01-03T10:37:34.887Z"
   },
   {
    "duration": 3,
    "start_time": "2025-01-03T10:37:34.927Z"
   },
   {
    "duration": 30,
    "start_time": "2025-01-03T10:37:34.931Z"
   },
   {
    "duration": 71,
    "start_time": "2025-01-03T10:37:34.963Z"
   },
   {
    "duration": 63,
    "start_time": "2025-01-03T10:37:35.036Z"
   },
   {
    "duration": 74,
    "start_time": "2025-01-03T10:37:45.561Z"
   },
   {
    "duration": 73,
    "start_time": "2025-01-03T10:37:49.060Z"
   },
   {
    "duration": 1391,
    "start_time": "2025-01-03T10:37:52.941Z"
   },
   {
    "duration": 148,
    "start_time": "2025-01-03T10:37:54.333Z"
   },
   {
    "duration": 4,
    "start_time": "2025-01-03T10:37:54.483Z"
   },
   {
    "duration": 52,
    "start_time": "2025-01-03T10:37:54.488Z"
   },
   {
    "duration": 46,
    "start_time": "2025-01-03T10:37:54.542Z"
   },
   {
    "duration": 73,
    "start_time": "2025-01-03T10:37:54.589Z"
   },
   {
    "duration": 41,
    "start_time": "2025-01-03T10:37:54.664Z"
   },
   {
    "duration": 2,
    "start_time": "2025-01-03T10:37:54.707Z"
   },
   {
    "duration": 30,
    "start_time": "2025-01-03T10:37:54.711Z"
   },
   {
    "duration": 74,
    "start_time": "2025-01-03T10:37:54.743Z"
   },
   {
    "duration": 42,
    "start_time": "2025-01-03T10:37:54.819Z"
   },
   {
    "duration": 1400,
    "start_time": "2025-01-03T10:39:20.702Z"
   },
   {
    "duration": 141,
    "start_time": "2025-01-03T10:39:22.104Z"
   },
   {
    "duration": 3,
    "start_time": "2025-01-03T10:39:22.249Z"
   },
   {
    "duration": 53,
    "start_time": "2025-01-03T10:39:22.255Z"
   },
   {
    "duration": 29,
    "start_time": "2025-01-03T10:39:22.310Z"
   },
   {
    "duration": 77,
    "start_time": "2025-01-03T10:39:22.360Z"
   },
   {
    "duration": 71,
    "start_time": "2025-01-03T10:39:22.439Z"
   },
   {
    "duration": 22,
    "start_time": "2025-01-03T10:39:22.511Z"
   },
   {
    "duration": 42,
    "start_time": "2025-01-03T10:39:22.559Z"
   },
   {
    "duration": 70,
    "start_time": "2025-01-03T10:39:22.603Z"
   },
   {
    "duration": 44,
    "start_time": "2025-01-03T10:40:13.336Z"
   },
   {
    "duration": 41,
    "start_time": "2025-01-03T10:40:20.034Z"
   },
   {
    "duration": 39,
    "start_time": "2025-01-03T10:40:37.118Z"
   },
   {
    "duration": 27,
    "start_time": "2025-01-03T10:40:45.043Z"
   },
   {
    "duration": 143,
    "start_time": "2025-01-03T10:42:45.598Z"
   },
   {
    "duration": 10,
    "start_time": "2025-01-03T10:43:00.499Z"
   },
   {
    "duration": 11,
    "start_time": "2025-01-03T10:43:13.842Z"
   },
   {
    "duration": 12,
    "start_time": "2025-01-03T10:43:21.136Z"
   },
   {
    "duration": 1332,
    "start_time": "2025-01-03T10:43:40.156Z"
   },
   {
    "duration": 136,
    "start_time": "2025-01-03T10:43:41.490Z"
   },
   {
    "duration": 3,
    "start_time": "2025-01-03T10:43:41.630Z"
   },
   {
    "duration": 66,
    "start_time": "2025-01-03T10:43:41.634Z"
   },
   {
    "duration": 36,
    "start_time": "2025-01-03T10:43:41.703Z"
   },
   {
    "duration": 87,
    "start_time": "2025-01-03T10:43:41.741Z"
   },
   {
    "duration": 51,
    "start_time": "2025-01-03T10:43:41.830Z"
   },
   {
    "duration": 33,
    "start_time": "2025-01-03T10:43:41.883Z"
   },
   {
    "duration": 46,
    "start_time": "2025-01-03T10:43:41.919Z"
   },
   {
    "duration": 28,
    "start_time": "2025-01-03T10:43:41.967Z"
   },
   {
    "duration": 136,
    "start_time": "2025-01-03T10:43:41.996Z"
   },
   {
    "duration": 1304,
    "start_time": "2025-01-03T10:44:11.189Z"
   },
   {
    "duration": 141,
    "start_time": "2025-01-03T10:44:12.496Z"
   },
   {
    "duration": 4,
    "start_time": "2025-01-03T10:44:12.638Z"
   },
   {
    "duration": 44,
    "start_time": "2025-01-03T10:44:12.643Z"
   },
   {
    "duration": 30,
    "start_time": "2025-01-03T10:44:12.690Z"
   },
   {
    "duration": 89,
    "start_time": "2025-01-03T10:44:12.721Z"
   },
   {
    "duration": 55,
    "start_time": "2025-01-03T10:44:12.811Z"
   },
   {
    "duration": 23,
    "start_time": "2025-01-03T10:44:12.868Z"
   },
   {
    "duration": 46,
    "start_time": "2025-01-03T10:44:12.893Z"
   },
   {
    "duration": 43,
    "start_time": "2025-01-03T10:44:12.941Z"
   },
   {
    "duration": 134,
    "start_time": "2025-01-03T10:44:12.986Z"
   },
   {
    "duration": 11,
    "start_time": "2025-01-03T10:44:31.825Z"
   },
   {
    "duration": 1367,
    "start_time": "2025-01-03T10:44:50.692Z"
   },
   {
    "duration": 143,
    "start_time": "2025-01-03T10:44:52.062Z"
   },
   {
    "duration": 3,
    "start_time": "2025-01-03T10:44:52.208Z"
   },
   {
    "duration": 94,
    "start_time": "2025-01-03T10:44:52.213Z"
   },
   {
    "duration": 34,
    "start_time": "2025-01-03T10:44:52.309Z"
   },
   {
    "duration": 74,
    "start_time": "2025-01-03T10:44:52.345Z"
   },
   {
    "duration": 54,
    "start_time": "2025-01-03T10:44:52.421Z"
   },
   {
    "duration": 34,
    "start_time": "2025-01-03T10:44:52.477Z"
   },
   {
    "duration": 56,
    "start_time": "2025-01-03T10:44:52.513Z"
   },
   {
    "duration": 143,
    "start_time": "2025-01-03T10:44:52.571Z"
   },
   {
    "duration": 13,
    "start_time": "2025-01-03T10:45:25.473Z"
   },
   {
    "duration": 1357,
    "start_time": "2025-01-03T10:45:30.675Z"
   },
   {
    "duration": 131,
    "start_time": "2025-01-03T10:45:32.034Z"
   },
   {
    "duration": 3,
    "start_time": "2025-01-03T10:45:32.166Z"
   },
   {
    "duration": 40,
    "start_time": "2025-01-03T10:45:32.171Z"
   },
   {
    "duration": 50,
    "start_time": "2025-01-03T10:45:32.212Z"
   },
   {
    "duration": 64,
    "start_time": "2025-01-03T10:45:32.263Z"
   },
   {
    "duration": 53,
    "start_time": "2025-01-03T10:45:32.329Z"
   },
   {
    "duration": 21,
    "start_time": "2025-01-03T10:45:32.383Z"
   },
   {
    "duration": 54,
    "start_time": "2025-01-03T10:45:32.405Z"
   },
   {
    "duration": 35,
    "start_time": "2025-01-03T10:45:32.462Z"
   },
   {
    "duration": 62,
    "start_time": "2025-01-03T10:45:32.499Z"
   },
   {
    "duration": 22,
    "start_time": "2025-01-03T10:46:27.769Z"
   },
   {
    "duration": 1400,
    "start_time": "2025-01-03T10:46:36.747Z"
   },
   {
    "duration": 137,
    "start_time": "2025-01-03T10:46:38.149Z"
   },
   {
    "duration": 3,
    "start_time": "2025-01-03T10:46:38.291Z"
   },
   {
    "duration": 54,
    "start_time": "2025-01-03T10:46:38.296Z"
   },
   {
    "duration": 35,
    "start_time": "2025-01-03T10:46:38.352Z"
   },
   {
    "duration": 84,
    "start_time": "2025-01-03T10:46:38.389Z"
   },
   {
    "duration": 40,
    "start_time": "2025-01-03T10:46:38.475Z"
   },
   {
    "duration": 45,
    "start_time": "2025-01-03T10:46:38.516Z"
   },
   {
    "duration": 42,
    "start_time": "2025-01-03T10:46:38.563Z"
   },
   {
    "duration": 59,
    "start_time": "2025-01-03T10:46:38.607Z"
   },
   {
    "duration": 141,
    "start_time": "2025-01-03T10:47:56.903Z"
   },
   {
    "duration": 24,
    "start_time": "2025-01-03T10:48:52.344Z"
   },
   {
    "duration": 1323,
    "start_time": "2025-01-03T10:49:37.487Z"
   },
   {
    "duration": 133,
    "start_time": "2025-01-03T10:49:38.812Z"
   },
   {
    "duration": 3,
    "start_time": "2025-01-03T10:49:38.947Z"
   },
   {
    "duration": 41,
    "start_time": "2025-01-03T10:49:38.952Z"
   },
   {
    "duration": 31,
    "start_time": "2025-01-03T10:49:38.996Z"
   },
   {
    "duration": 86,
    "start_time": "2025-01-03T10:49:39.029Z"
   },
   {
    "duration": 52,
    "start_time": "2025-01-03T10:49:39.117Z"
   },
   {
    "duration": 24,
    "start_time": "2025-01-03T10:49:39.171Z"
   },
   {
    "duration": 153,
    "start_time": "2025-01-03T10:49:39.197Z"
   },
   {
    "duration": 1,
    "start_time": "2025-01-03T10:49:39.352Z"
   },
   {
    "duration": 18,
    "start_time": "2025-01-03T10:49:48.155Z"
   },
   {
    "duration": 1333,
    "start_time": "2025-01-03T10:49:53.484Z"
   },
   {
    "duration": 136,
    "start_time": "2025-01-03T10:49:54.820Z"
   },
   {
    "duration": 3,
    "start_time": "2025-01-03T10:49:54.959Z"
   },
   {
    "duration": 53,
    "start_time": "2025-01-03T10:49:54.964Z"
   },
   {
    "duration": 41,
    "start_time": "2025-01-03T10:49:55.019Z"
   },
   {
    "duration": 69,
    "start_time": "2025-01-03T10:49:55.061Z"
   },
   {
    "duration": 58,
    "start_time": "2025-01-03T10:49:55.132Z"
   },
   {
    "duration": 24,
    "start_time": "2025-01-03T10:49:55.191Z"
   },
   {
    "duration": 46,
    "start_time": "2025-01-03T10:49:55.217Z"
   },
   {
    "duration": 42,
    "start_time": "2025-01-03T10:49:55.265Z"
   },
   {
    "duration": 1377,
    "start_time": "2025-01-03T10:50:44.273Z"
   },
   {
    "duration": 143,
    "start_time": "2025-01-03T10:50:45.652Z"
   },
   {
    "duration": 3,
    "start_time": "2025-01-03T10:50:45.798Z"
   },
   {
    "duration": 57,
    "start_time": "2025-01-03T10:50:45.804Z"
   },
   {
    "duration": 33,
    "start_time": "2025-01-03T10:50:45.865Z"
   },
   {
    "duration": 96,
    "start_time": "2025-01-03T10:50:45.900Z"
   },
   {
    "duration": 44,
    "start_time": "2025-01-03T10:50:45.998Z"
   },
   {
    "duration": 24,
    "start_time": "2025-01-03T10:50:46.060Z"
   },
   {
    "duration": 25,
    "start_time": "2025-01-03T10:50:46.086Z"
   },
   {
    "duration": 86,
    "start_time": "2025-01-03T10:50:46.114Z"
   },
   {
    "duration": 16,
    "start_time": "2025-01-03T10:50:58.502Z"
   },
   {
    "duration": 1384,
    "start_time": "2025-01-03T10:51:01.788Z"
   },
   {
    "duration": 180,
    "start_time": "2025-01-03T10:51:03.175Z"
   },
   {
    "duration": 3,
    "start_time": "2025-01-03T10:51:03.357Z"
   },
   {
    "duration": 95,
    "start_time": "2025-01-03T10:51:03.363Z"
   },
   {
    "duration": 32,
    "start_time": "2025-01-03T10:51:03.462Z"
   },
   {
    "duration": 101,
    "start_time": "2025-01-03T10:51:03.497Z"
   },
   {
    "duration": 36,
    "start_time": "2025-01-03T10:51:03.600Z"
   },
   {
    "duration": 36,
    "start_time": "2025-01-03T10:51:03.639Z"
   },
   {
    "duration": 23,
    "start_time": "2025-01-03T10:51:03.677Z"
   },
   {
    "duration": 63,
    "start_time": "2025-01-03T10:51:03.702Z"
   },
   {
    "duration": 1424,
    "start_time": "2025-01-03T10:51:15.011Z"
   },
   {
    "duration": 138,
    "start_time": "2025-01-03T10:51:16.438Z"
   },
   {
    "duration": 2,
    "start_time": "2025-01-03T10:51:16.578Z"
   },
   {
    "duration": 37,
    "start_time": "2025-01-03T10:51:16.582Z"
   },
   {
    "duration": 53,
    "start_time": "2025-01-03T10:51:16.621Z"
   },
   {
    "duration": 64,
    "start_time": "2025-01-03T10:51:16.676Z"
   },
   {
    "duration": 53,
    "start_time": "2025-01-03T10:51:16.741Z"
   },
   {
    "duration": 21,
    "start_time": "2025-01-03T10:51:16.795Z"
   },
   {
    "duration": 43,
    "start_time": "2025-01-03T10:51:16.818Z"
   },
   {
    "duration": 43,
    "start_time": "2025-01-03T10:51:16.863Z"
   },
   {
    "duration": 1360,
    "start_time": "2025-01-03T10:51:25.464Z"
   },
   {
    "duration": 139,
    "start_time": "2025-01-03T10:51:26.826Z"
   },
   {
    "duration": 3,
    "start_time": "2025-01-03T10:51:26.968Z"
   },
   {
    "duration": 48,
    "start_time": "2025-01-03T10:51:26.972Z"
   },
   {
    "duration": 47,
    "start_time": "2025-01-03T10:51:27.023Z"
   },
   {
    "duration": 67,
    "start_time": "2025-01-03T10:51:27.072Z"
   },
   {
    "duration": 54,
    "start_time": "2025-01-03T10:51:27.141Z"
   },
   {
    "duration": 21,
    "start_time": "2025-01-03T10:51:27.197Z"
   },
   {
    "duration": 40,
    "start_time": "2025-01-03T10:51:27.220Z"
   },
   {
    "duration": 43,
    "start_time": "2025-01-03T10:51:27.262Z"
   },
   {
    "duration": 101,
    "start_time": "2025-01-03T10:53:48.178Z"
   },
   {
    "duration": 68,
    "start_time": "2025-01-03T10:53:56.530Z"
   },
   {
    "duration": 74,
    "start_time": "2025-01-03T10:54:19.527Z"
   },
   {
    "duration": 1406,
    "start_time": "2025-01-03T10:54:43.823Z"
   },
   {
    "duration": 137,
    "start_time": "2025-01-03T10:54:45.231Z"
   },
   {
    "duration": 3,
    "start_time": "2025-01-03T10:54:45.370Z"
   },
   {
    "duration": 46,
    "start_time": "2025-01-03T10:54:45.375Z"
   },
   {
    "duration": 52,
    "start_time": "2025-01-03T10:54:45.423Z"
   },
   {
    "duration": 65,
    "start_time": "2025-01-03T10:54:45.477Z"
   },
   {
    "duration": 48,
    "start_time": "2025-01-03T10:54:45.544Z"
   },
   {
    "duration": 21,
    "start_time": "2025-01-03T10:54:45.594Z"
   },
   {
    "duration": 52,
    "start_time": "2025-01-03T10:54:45.617Z"
   },
   {
    "duration": 44,
    "start_time": "2025-01-03T10:54:45.671Z"
   },
   {
    "duration": 63,
    "start_time": "2025-01-03T10:54:45.717Z"
   },
   {
    "duration": 73,
    "start_time": "2025-01-03T10:56:08.588Z"
   },
   {
    "duration": 80,
    "start_time": "2025-01-03T10:56:24.463Z"
   },
   {
    "duration": 71,
    "start_time": "2025-01-03T10:56:32.082Z"
   },
   {
    "duration": 115,
    "start_time": "2025-01-03T10:57:20.975Z"
   },
   {
    "duration": 186,
    "start_time": "2025-01-03T10:57:28.609Z"
   },
   {
    "duration": 178,
    "start_time": "2025-01-03T10:58:10.568Z"
   },
   {
    "duration": 221,
    "start_time": "2025-01-03T10:58:21.706Z"
   },
   {
    "duration": 219,
    "start_time": "2025-01-03T11:00:12.682Z"
   },
   {
    "duration": 229,
    "start_time": "2025-01-03T11:01:01.396Z"
   },
   {
    "duration": 239,
    "start_time": "2025-01-03T11:01:05.828Z"
   },
   {
    "duration": 254,
    "start_time": "2025-01-03T11:01:23.183Z"
   },
   {
    "duration": 332,
    "start_time": "2025-01-03T11:01:27.332Z"
   },
   {
    "duration": 230,
    "start_time": "2025-01-03T11:01:30.502Z"
   },
   {
    "duration": 260,
    "start_time": "2025-01-03T11:01:35.849Z"
   },
   {
    "duration": 273,
    "start_time": "2025-01-03T11:01:41.760Z"
   },
   {
    "duration": 262,
    "start_time": "2025-01-03T11:01:47.359Z"
   },
   {
    "duration": 285,
    "start_time": "2025-01-03T11:01:50.294Z"
   },
   {
    "duration": 284,
    "start_time": "2025-01-03T11:01:57.156Z"
   },
   {
    "duration": 302,
    "start_time": "2025-01-03T11:02:02.788Z"
   },
   {
    "duration": 319,
    "start_time": "2025-01-03T11:02:08.476Z"
   },
   {
    "duration": 369,
    "start_time": "2025-01-03T11:02:17.315Z"
   },
   {
    "duration": 315,
    "start_time": "2025-01-03T11:02:32.523Z"
   },
   {
    "duration": 447,
    "start_time": "2025-01-03T11:02:37.032Z"
   },
   {
    "duration": 274,
    "start_time": "2025-01-03T11:02:41.321Z"
   },
   {
    "duration": 259,
    "start_time": "2025-01-03T11:02:45.048Z"
   },
   {
    "duration": 271,
    "start_time": "2025-01-03T11:02:54.054Z"
   },
   {
    "duration": 275,
    "start_time": "2025-01-03T11:02:59.885Z"
   },
   {
    "duration": 258,
    "start_time": "2025-01-03T11:03:03.597Z"
   },
   {
    "duration": 247,
    "start_time": "2025-01-03T11:03:08.993Z"
   },
   {
    "duration": 255,
    "start_time": "2025-01-03T11:03:12.810Z"
   },
   {
    "duration": 202,
    "start_time": "2025-01-03T11:03:37.945Z"
   },
   {
    "duration": 255,
    "start_time": "2025-01-03T11:03:42.636Z"
   },
   {
    "duration": 262,
    "start_time": "2025-01-03T11:03:57.169Z"
   },
   {
    "duration": 380,
    "start_time": "2025-01-03T11:04:00.969Z"
   },
   {
    "duration": 286,
    "start_time": "2025-01-03T11:04:07.149Z"
   },
   {
    "duration": 264,
    "start_time": "2025-01-03T11:04:11.776Z"
   },
   {
    "duration": 258,
    "start_time": "2025-01-03T11:04:15.446Z"
   },
   {
    "duration": 288,
    "start_time": "2025-01-03T11:04:19.820Z"
   },
   {
    "duration": 246,
    "start_time": "2025-01-03T11:04:22.437Z"
   },
   {
    "duration": 272,
    "start_time": "2025-01-03T11:04:25.381Z"
   },
   {
    "duration": 258,
    "start_time": "2025-01-03T11:04:32.532Z"
   },
   {
    "duration": 260,
    "start_time": "2025-01-03T11:04:36.416Z"
   },
   {
    "duration": 83,
    "start_time": "2025-01-03T11:04:54.882Z"
   },
   {
    "duration": 303,
    "start_time": "2025-01-03T11:04:57.151Z"
   },
   {
    "duration": 272,
    "start_time": "2025-01-03T11:05:04.334Z"
   },
   {
    "duration": 1149,
    "start_time": "2025-01-03T11:06:45.403Z"
   },
   {
    "duration": 1310,
    "start_time": "2025-01-03T11:06:47.146Z"
   },
   {
    "duration": 333,
    "start_time": "2025-01-03T11:06:54.877Z"
   },
   {
    "duration": 203,
    "start_time": "2025-01-03T11:07:01.346Z"
   },
   {
    "duration": 203,
    "start_time": "2025-01-03T11:07:05.579Z"
   },
   {
    "duration": 222,
    "start_time": "2025-01-03T11:07:09.930Z"
   },
   {
    "duration": 208,
    "start_time": "2025-01-03T11:07:42.647Z"
   },
   {
    "duration": 13,
    "start_time": "2025-01-03T11:12:00.702Z"
   },
   {
    "duration": 388,
    "start_time": "2025-01-03T11:12:07.154Z"
   },
   {
    "duration": 381,
    "start_time": "2025-01-03T11:12:51.340Z"
   },
   {
    "duration": 257,
    "start_time": "2025-01-03T11:13:50.401Z"
   },
   {
    "duration": 406,
    "start_time": "2025-01-03T11:13:54.382Z"
   },
   {
    "duration": 427,
    "start_time": "2025-01-03T11:14:08.591Z"
   },
   {
    "duration": 259,
    "start_time": "2025-01-03T11:14:56.186Z"
   },
   {
    "duration": 487,
    "start_time": "2025-01-03T11:15:02.027Z"
   },
   {
    "duration": 386,
    "start_time": "2025-01-03T11:15:21.917Z"
   },
   {
    "duration": 397,
    "start_time": "2025-01-03T11:15:29.431Z"
   },
   {
    "duration": 375,
    "start_time": "2025-01-03T11:15:40.743Z"
   },
   {
    "duration": 396,
    "start_time": "2025-01-03T11:16:27.236Z"
   },
   {
    "duration": 382,
    "start_time": "2025-01-03T11:16:32.156Z"
   },
   {
    "duration": 245,
    "start_time": "2025-01-03T11:18:15.033Z"
   },
   {
    "duration": 83,
    "start_time": "2025-01-03T11:19:25.823Z"
   },
   {
    "duration": 130,
    "start_time": "2025-01-03T11:19:35.491Z"
   },
   {
    "duration": 136,
    "start_time": "2025-01-03T11:19:50.988Z"
   },
   {
    "duration": 153,
    "start_time": "2025-01-03T11:19:56.775Z"
   },
   {
    "duration": 148,
    "start_time": "2025-01-03T11:20:00.607Z"
   },
   {
    "duration": 269,
    "start_time": "2025-01-03T11:20:04.505Z"
   },
   {
    "duration": 138,
    "start_time": "2025-01-03T11:20:09.677Z"
   },
   {
    "duration": 176,
    "start_time": "2025-01-03T11:22:02.222Z"
   },
   {
    "duration": 183,
    "start_time": "2025-01-03T11:22:14.209Z"
   },
   {
    "duration": 259,
    "start_time": "2025-01-03T11:23:11.269Z"
   },
   {
    "duration": 215,
    "start_time": "2025-01-03T11:24:29.765Z"
   },
   {
    "duration": 1416,
    "start_time": "2025-01-03T11:24:58.823Z"
   },
   {
    "duration": 147,
    "start_time": "2025-01-03T11:25:00.241Z"
   },
   {
    "duration": 4,
    "start_time": "2025-01-03T11:25:00.390Z"
   },
   {
    "duration": 81,
    "start_time": "2025-01-03T11:25:00.396Z"
   },
   {
    "duration": 39,
    "start_time": "2025-01-03T11:25:00.481Z"
   },
   {
    "duration": 92,
    "start_time": "2025-01-03T11:25:00.522Z"
   },
   {
    "duration": 57,
    "start_time": "2025-01-03T11:25:00.616Z"
   },
   {
    "duration": 22,
    "start_time": "2025-01-03T11:25:00.675Z"
   },
   {
    "duration": 46,
    "start_time": "2025-01-03T11:25:00.699Z"
   },
   {
    "duration": 58,
    "start_time": "2025-01-03T11:25:00.747Z"
   },
   {
    "duration": 208,
    "start_time": "2025-01-03T11:25:00.807Z"
   },
   {
    "duration": 278,
    "start_time": "2025-01-03T11:25:01.018Z"
   },
   {
    "duration": 222,
    "start_time": "2025-01-03T11:25:01.298Z"
   },
   {
    "duration": 286,
    "start_time": "2025-01-03T11:25:01.523Z"
   },
   {
    "duration": 164,
    "start_time": "2025-01-03T11:25:01.811Z"
   },
   {
    "duration": 113,
    "start_time": "2025-01-03T11:25:55.911Z"
   },
   {
    "duration": 9,
    "start_time": "2025-01-03T11:26:02.519Z"
   },
   {
    "duration": 98,
    "start_time": "2025-01-03T11:26:19.414Z"
   },
   {
    "duration": 386,
    "start_time": "2025-01-03T11:26:26.569Z"
   },
   {
    "duration": 218,
    "start_time": "2025-01-03T11:26:49.301Z"
   },
   {
    "duration": 315,
    "start_time": "2025-01-03T11:27:00.469Z"
   },
   {
    "duration": 228,
    "start_time": "2025-01-03T11:27:07.399Z"
   },
   {
    "duration": 270,
    "start_time": "2025-01-03T11:27:21.547Z"
   },
   {
    "duration": 206,
    "start_time": "2025-01-03T11:30:28.685Z"
   },
   {
    "duration": 211,
    "start_time": "2025-01-03T11:30:34.565Z"
   },
   {
    "duration": 68,
    "start_time": "2025-01-03T11:30:56.248Z"
   },
   {
    "duration": 202,
    "start_time": "2025-01-03T11:31:02.610Z"
   },
   {
    "duration": 233,
    "start_time": "2025-01-03T11:31:37.029Z"
   },
   {
    "duration": 195,
    "start_time": "2025-01-03T11:31:54.109Z"
   },
   {
    "duration": 207,
    "start_time": "2025-01-03T11:32:13.163Z"
   },
   {
    "duration": 174,
    "start_time": "2025-01-03T11:32:28.846Z"
   },
   {
    "duration": 193,
    "start_time": "2025-01-03T11:32:49.545Z"
   },
   {
    "duration": 296,
    "start_time": "2025-01-03T11:33:05.636Z"
   },
   {
    "duration": 181,
    "start_time": "2025-01-03T11:33:11.751Z"
   },
   {
    "duration": 189,
    "start_time": "2025-01-03T11:33:17.916Z"
   },
   {
    "duration": 183,
    "start_time": "2025-01-03T11:33:26.581Z"
   },
   {
    "duration": 183,
    "start_time": "2025-01-03T11:33:38.716Z"
   },
   {
    "duration": 144,
    "start_time": "2025-01-03T11:33:50.705Z"
   },
   {
    "duration": 201,
    "start_time": "2025-01-03T11:33:56.825Z"
   },
   {
    "duration": 264,
    "start_time": "2025-01-03T11:34:22.445Z"
   },
   {
    "duration": 242,
    "start_time": "2025-01-03T11:34:32.161Z"
   },
   {
    "duration": 251,
    "start_time": "2025-01-03T11:34:42.881Z"
   },
   {
    "duration": 188,
    "start_time": "2025-01-03T11:34:56.085Z"
   },
   {
    "duration": 29,
    "start_time": "2025-01-03T12:28:49.835Z"
   },
   {
    "duration": 36,
    "start_time": "2025-01-03T12:29:29.012Z"
   },
   {
    "duration": 29,
    "start_time": "2025-01-03T12:29:33.384Z"
   },
   {
    "duration": 509,
    "start_time": "2025-01-03T12:31:15.064Z"
   },
   {
    "duration": 29,
    "start_time": "2025-01-03T12:31:21.947Z"
   },
   {
    "duration": 27,
    "start_time": "2025-01-03T12:31:29.649Z"
   },
   {
    "duration": 28,
    "start_time": "2025-01-03T12:31:33.905Z"
   },
   {
    "duration": 398,
    "start_time": "2025-01-03T12:31:51.523Z"
   },
   {
    "duration": 349,
    "start_time": "2025-01-03T12:32:03.615Z"
   },
   {
    "duration": 400,
    "start_time": "2025-01-03T12:32:08.821Z"
   },
   {
    "duration": 289,
    "start_time": "2025-01-03T12:32:13.776Z"
   },
   {
    "duration": 387,
    "start_time": "2025-01-03T12:32:26.796Z"
   },
   {
    "duration": 285,
    "start_time": "2025-01-03T12:34:12.653Z"
   },
   {
    "duration": 253,
    "start_time": "2025-01-03T12:34:32.501Z"
   },
   {
    "duration": 259,
    "start_time": "2025-01-03T12:35:11.996Z"
   },
   {
    "duration": 396,
    "start_time": "2025-01-03T12:35:52.479Z"
   },
   {
    "duration": 424,
    "start_time": "2025-01-03T12:36:06.563Z"
   },
   {
    "duration": 257,
    "start_time": "2025-01-03T12:36:14.309Z"
   },
   {
    "duration": 41,
    "start_time": "2025-01-03T12:38:30.354Z"
   },
   {
    "duration": 404,
    "start_time": "2025-01-03T12:39:48.201Z"
   },
   {
    "duration": 531,
    "start_time": "2025-01-03T12:39:51.560Z"
   },
   {
    "duration": 381,
    "start_time": "2025-01-03T12:43:31.793Z"
   },
   {
    "duration": 364,
    "start_time": "2025-01-03T12:43:36.444Z"
   },
   {
    "duration": 396,
    "start_time": "2025-01-03T12:44:05.754Z"
   },
   {
    "duration": 430,
    "start_time": "2025-01-03T12:44:11.161Z"
   },
   {
    "duration": 271,
    "start_time": "2025-01-03T12:44:22.649Z"
   },
   {
    "duration": 267,
    "start_time": "2025-01-03T12:44:28.614Z"
   },
   {
    "duration": 264,
    "start_time": "2025-01-03T12:44:32.890Z"
   },
   {
    "duration": 275,
    "start_time": "2025-01-03T12:44:37.339Z"
   },
   {
    "duration": 234,
    "start_time": "2025-01-03T12:45:49.683Z"
   },
   {
    "duration": 132,
    "start_time": "2025-01-03T12:47:13.084Z"
   },
   {
    "duration": 15,
    "start_time": "2025-01-03T13:59:41.348Z"
   },
   {
    "duration": 516,
    "start_time": "2025-01-03T13:59:46.685Z"
   },
   {
    "duration": 331,
    "start_time": "2025-01-03T13:59:55.417Z"
   },
   {
    "duration": 394,
    "start_time": "2025-01-03T13:59:58.221Z"
   },
   {
    "duration": 292,
    "start_time": "2025-01-03T14:00:17.830Z"
   },
   {
    "duration": 257,
    "start_time": "2025-01-03T14:03:28.005Z"
   },
   {
    "duration": 273,
    "start_time": "2025-01-03T14:03:36.552Z"
   },
   {
    "duration": 251,
    "start_time": "2025-01-03T14:03:53.556Z"
   },
   {
    "duration": 13,
    "start_time": "2025-01-03T14:05:49.836Z"
   },
   {
    "duration": 262,
    "start_time": "2025-01-03T14:05:52.832Z"
   },
   {
    "duration": 273,
    "start_time": "2025-01-03T14:06:12.137Z"
   },
   {
    "duration": 1507,
    "start_time": "2025-01-03T14:06:42.588Z"
   },
   {
    "duration": 270,
    "start_time": "2025-01-03T14:07:02.644Z"
   },
   {
    "duration": 380,
    "start_time": "2025-01-03T14:07:14.508Z"
   },
   {
    "duration": 1356,
    "start_time": "2025-01-03T14:07:22.644Z"
   },
   {
    "duration": 1515,
    "start_time": "2025-01-03T14:07:37.914Z"
   },
   {
    "duration": 392,
    "start_time": "2025-01-03T14:07:42.813Z"
   },
   {
    "duration": 269,
    "start_time": "2025-01-03T14:07:51.123Z"
   },
   {
    "duration": 263,
    "start_time": "2025-01-03T14:08:09.643Z"
   },
   {
    "duration": 300,
    "start_time": "2025-01-03T14:08:19.012Z"
   },
   {
    "duration": 284,
    "start_time": "2025-01-03T14:08:39.111Z"
   },
   {
    "duration": 1337,
    "start_time": "2025-01-03T14:08:44.783Z"
   },
   {
    "duration": 148,
    "start_time": "2025-01-03T14:08:46.122Z"
   },
   {
    "duration": 3,
    "start_time": "2025-01-03T14:08:46.272Z"
   },
   {
    "duration": 50,
    "start_time": "2025-01-03T14:08:46.277Z"
   },
   {
    "duration": 50,
    "start_time": "2025-01-03T14:08:46.330Z"
   },
   {
    "duration": 82,
    "start_time": "2025-01-03T14:08:46.382Z"
   },
   {
    "duration": 39,
    "start_time": "2025-01-03T14:08:46.466Z"
   },
   {
    "duration": 22,
    "start_time": "2025-01-03T14:08:46.507Z"
   },
   {
    "duration": 52,
    "start_time": "2025-01-03T14:08:46.531Z"
   },
   {
    "duration": 43,
    "start_time": "2025-01-03T14:08:46.585Z"
   },
   {
    "duration": 225,
    "start_time": "2025-01-03T14:08:46.629Z"
   },
   {
    "duration": 269,
    "start_time": "2025-01-03T14:08:46.860Z"
   },
   {
    "duration": 218,
    "start_time": "2025-01-03T14:08:47.131Z"
   },
   {
    "duration": 244,
    "start_time": "2025-01-03T14:08:47.359Z"
   },
   {
    "duration": 148,
    "start_time": "2025-01-03T14:08:47.605Z"
   },
   {
    "duration": 12,
    "start_time": "2025-01-03T14:08:47.755Z"
   },
   {
    "duration": 265,
    "start_time": "2025-01-03T14:08:47.770Z"
   },
   {
    "duration": 204,
    "start_time": "2025-01-03T14:08:48.037Z"
   },
   {
    "duration": 40,
    "start_time": "2025-01-03T14:08:48.243Z"
   },
   {
    "duration": 375,
    "start_time": "2025-01-03T14:08:48.285Z"
   },
   {
    "duration": 426,
    "start_time": "2025-01-03T14:08:48.662Z"
   },
   {
    "duration": 283,
    "start_time": "2025-01-03T14:08:49.090Z"
   },
   {
    "duration": 144,
    "start_time": "2025-01-03T14:08:49.375Z"
   },
   {
    "duration": 393,
    "start_time": "2025-01-03T14:08:49.521Z"
   },
   {
    "duration": 274,
    "start_time": "2025-01-03T14:09:42.305Z"
   },
   {
    "duration": 266,
    "start_time": "2025-01-03T14:10:22.444Z"
   },
   {
    "duration": 273,
    "start_time": "2025-01-03T14:11:10.329Z"
   },
   {
    "duration": 272,
    "start_time": "2025-01-03T14:12:12.299Z"
   },
   {
    "duration": 12,
    "start_time": "2025-01-03T14:13:29.229Z"
   },
   {
    "duration": 315,
    "start_time": "2025-01-03T14:13:32.921Z"
   },
   {
    "duration": 5,
    "start_time": "2025-01-03T14:13:56.496Z"
   },
   {
    "duration": 16,
    "start_time": "2025-01-03T14:14:00.216Z"
   },
   {
    "duration": 252,
    "start_time": "2025-01-03T14:14:10.315Z"
   },
   {
    "duration": 360,
    "start_time": "2025-01-03T14:14:58.890Z"
   },
   {
    "duration": 17,
    "start_time": "2025-01-03T14:15:10.488Z"
   },
   {
    "duration": 249,
    "start_time": "2025-01-03T14:15:55.656Z"
   },
   {
    "duration": 20,
    "start_time": "2025-01-03T14:16:58.568Z"
   },
   {
    "duration": 250,
    "start_time": "2025-01-03T14:17:04.181Z"
   },
   {
    "duration": 12,
    "start_time": "2025-01-03T14:18:25.109Z"
   },
   {
    "duration": 304,
    "start_time": "2025-01-03T14:18:30.705Z"
   },
   {
    "duration": 15,
    "start_time": "2025-01-03T14:19:08.081Z"
   },
   {
    "duration": 16,
    "start_time": "2025-01-03T14:19:25.815Z"
   },
   {
    "duration": 78,
    "start_time": "2025-01-03T14:20:00.968Z"
   },
   {
    "duration": 228,
    "start_time": "2025-01-03T14:20:05.756Z"
   },
   {
    "duration": 253,
    "start_time": "2025-01-03T14:21:37.409Z"
   },
   {
    "duration": 273,
    "start_time": "2025-01-03T14:22:00.276Z"
   },
   {
    "duration": 261,
    "start_time": "2025-01-03T14:22:32.748Z"
   },
   {
    "duration": 262,
    "start_time": "2025-01-03T14:22:53.435Z"
   },
   {
    "duration": 261,
    "start_time": "2025-01-03T14:23:01.459Z"
   },
   {
    "duration": 369,
    "start_time": "2025-01-03T14:23:13.104Z"
   },
   {
    "duration": 256,
    "start_time": "2025-01-03T14:23:17.424Z"
   },
   {
    "duration": 259,
    "start_time": "2025-01-03T14:23:33.720Z"
   },
   {
    "duration": 363,
    "start_time": "2025-01-03T14:26:10.534Z"
   },
   {
    "duration": 351,
    "start_time": "2025-01-03T14:26:26.470Z"
   },
   {
    "duration": 382,
    "start_time": "2025-01-03T14:26:29.199Z"
   },
   {
    "duration": 347,
    "start_time": "2025-01-03T14:26:38.606Z"
   },
   {
    "duration": 226,
    "start_time": "2025-01-03T14:26:46.509Z"
   },
   {
    "duration": 348,
    "start_time": "2025-01-03T14:26:50.801Z"
   },
   {
    "duration": 380,
    "start_time": "2025-01-03T14:26:56.013Z"
   },
   {
    "duration": 338,
    "start_time": "2025-01-03T14:27:01.582Z"
   },
   {
    "duration": 10,
    "start_time": "2025-01-03T14:29:18.023Z"
   },
   {
    "duration": 1378,
    "start_time": "2025-01-03T14:29:23.048Z"
   },
   {
    "duration": 142,
    "start_time": "2025-01-03T14:29:24.428Z"
   },
   {
    "duration": 13,
    "start_time": "2025-01-03T14:29:24.574Z"
   },
   {
    "duration": 38,
    "start_time": "2025-01-03T14:29:24.591Z"
   },
   {
    "duration": 55,
    "start_time": "2025-01-03T14:29:24.631Z"
   },
   {
    "duration": 86,
    "start_time": "2025-01-03T14:29:24.688Z"
   },
   {
    "duration": 37,
    "start_time": "2025-01-03T14:29:24.776Z"
   },
   {
    "duration": 49,
    "start_time": "2025-01-03T14:29:24.815Z"
   },
   {
    "duration": 24,
    "start_time": "2025-01-03T14:29:24.866Z"
   },
   {
    "duration": 69,
    "start_time": "2025-01-03T14:29:24.892Z"
   },
   {
    "duration": 204,
    "start_time": "2025-01-03T14:29:24.963Z"
   },
   {
    "duration": 273,
    "start_time": "2025-01-03T14:29:25.169Z"
   },
   {
    "duration": 206,
    "start_time": "2025-01-03T14:29:25.444Z"
   },
   {
    "duration": 243,
    "start_time": "2025-01-03T14:29:25.659Z"
   },
   {
    "duration": 142,
    "start_time": "2025-01-03T14:29:25.904Z"
   },
   {
    "duration": 18,
    "start_time": "2025-01-03T14:29:26.047Z"
   },
   {
    "duration": 219,
    "start_time": "2025-01-03T14:29:26.067Z"
   },
   {
    "duration": 188,
    "start_time": "2025-01-03T14:29:26.289Z"
   },
   {
    "duration": 12,
    "start_time": "2025-01-03T14:29:26.479Z"
   },
   {
    "duration": 490,
    "start_time": "2025-01-03T14:29:26.493Z"
   },
   {
    "duration": 29,
    "start_time": "2025-01-03T14:29:26.984Z"
   },
   {
    "duration": 271,
    "start_time": "2025-01-03T14:29:27.014Z"
   },
   {
    "duration": 406,
    "start_time": "2025-01-03T14:29:27.286Z"
   },
   {
    "duration": 298,
    "start_time": "2025-01-03T14:29:27.693Z"
   },
   {
    "duration": 144,
    "start_time": "2025-01-03T14:29:28.000Z"
   },
   {
    "duration": 263,
    "start_time": "2025-01-03T14:29:28.146Z"
   },
   {
    "duration": 655,
    "start_time": "2025-01-03T14:29:51.374Z"
   },
   {
    "duration": 1296,
    "start_time": "2025-01-03T14:30:03.782Z"
   },
   {
    "duration": 135,
    "start_time": "2025-01-03T14:30:05.080Z"
   },
   {
    "duration": 3,
    "start_time": "2025-01-03T14:30:05.217Z"
   },
   {
    "duration": 45,
    "start_time": "2025-01-03T14:30:05.221Z"
   },
   {
    "duration": 27,
    "start_time": "2025-01-03T14:30:05.269Z"
   },
   {
    "duration": 85,
    "start_time": "2025-01-03T14:30:05.298Z"
   },
   {
    "duration": 35,
    "start_time": "2025-01-03T14:30:05.384Z"
   },
   {
    "duration": 39,
    "start_time": "2025-01-03T14:30:05.421Z"
   },
   {
    "duration": 24,
    "start_time": "2025-01-03T14:30:05.461Z"
   },
   {
    "duration": 40,
    "start_time": "2025-01-03T14:30:05.486Z"
   },
   {
    "duration": 205,
    "start_time": "2025-01-03T14:30:05.527Z"
   },
   {
    "duration": 266,
    "start_time": "2025-01-03T14:30:05.733Z"
   },
   {
    "duration": 218,
    "start_time": "2025-01-03T14:30:06.001Z"
   },
   {
    "duration": 260,
    "start_time": "2025-01-03T14:30:06.222Z"
   },
   {
    "duration": 160,
    "start_time": "2025-01-03T14:30:06.484Z"
   },
   {
    "duration": 19,
    "start_time": "2025-01-03T14:30:06.645Z"
   },
   {
    "duration": 231,
    "start_time": "2025-01-03T14:30:06.666Z"
   },
   {
    "duration": 202,
    "start_time": "2025-01-03T14:30:06.900Z"
   },
   {
    "duration": 12,
    "start_time": "2025-01-03T14:30:07.104Z"
   },
   {
    "duration": 773,
    "start_time": "2025-01-03T14:30:07.117Z"
   },
   {
    "duration": 40,
    "start_time": "2025-01-03T14:30:07.892Z"
   },
   {
    "duration": 314,
    "start_time": "2025-01-03T14:30:07.934Z"
   },
   {
    "duration": 431,
    "start_time": "2025-01-03T14:30:08.250Z"
   },
   {
    "duration": 279,
    "start_time": "2025-01-03T14:30:08.683Z"
   },
   {
    "duration": 146,
    "start_time": "2025-01-03T14:30:08.965Z"
   },
   {
    "duration": 264,
    "start_time": "2025-01-03T14:30:09.112Z"
   },
   {
    "duration": 16,
    "start_time": "2025-01-03T14:30:38.012Z"
   },
   {
    "duration": 1310,
    "start_time": "2025-01-03T14:30:51.775Z"
   },
   {
    "duration": 134,
    "start_time": "2025-01-03T14:30:53.087Z"
   },
   {
    "duration": 3,
    "start_time": "2025-01-03T14:30:53.222Z"
   },
   {
    "duration": 50,
    "start_time": "2025-01-03T14:30:53.226Z"
   },
   {
    "duration": 28,
    "start_time": "2025-01-03T14:30:53.279Z"
   },
   {
    "duration": 83,
    "start_time": "2025-01-03T14:30:53.309Z"
   },
   {
    "duration": 37,
    "start_time": "2025-01-03T14:30:53.394Z"
   },
   {
    "duration": 43,
    "start_time": "2025-01-03T14:30:53.433Z"
   },
   {
    "duration": 30,
    "start_time": "2025-01-03T14:30:53.479Z"
   },
   {
    "duration": 86,
    "start_time": "2025-01-03T14:30:53.512Z"
   },
   {
    "duration": 187,
    "start_time": "2025-01-03T14:30:53.600Z"
   },
   {
    "duration": 251,
    "start_time": "2025-01-03T14:30:53.788Z"
   },
   {
    "duration": 197,
    "start_time": "2025-01-03T14:30:54.041Z"
   },
   {
    "duration": 269,
    "start_time": "2025-01-03T14:30:54.241Z"
   },
   {
    "duration": 155,
    "start_time": "2025-01-03T14:30:54.512Z"
   },
   {
    "duration": 9,
    "start_time": "2025-01-03T14:30:54.669Z"
   },
   {
    "duration": 258,
    "start_time": "2025-01-03T14:30:54.680Z"
   },
   {
    "duration": 231,
    "start_time": "2025-01-03T14:30:54.941Z"
   },
   {
    "duration": 17,
    "start_time": "2025-01-03T14:30:55.174Z"
   },
   {
    "duration": 810,
    "start_time": "2025-01-03T14:30:55.194Z"
   },
   {
    "duration": 31,
    "start_time": "2025-01-03T14:30:56.007Z"
   },
   {
    "duration": 296,
    "start_time": "2025-01-03T14:30:56.040Z"
   },
   {
    "duration": 478,
    "start_time": "2025-01-03T14:30:56.338Z"
   },
   {
    "duration": 284,
    "start_time": "2025-01-03T14:30:56.817Z"
   },
   {
    "duration": 150,
    "start_time": "2025-01-03T14:30:57.103Z"
   },
   {
    "duration": 278,
    "start_time": "2025-01-03T14:30:57.259Z"
   },
   {
    "duration": 210,
    "start_time": "2025-01-03T14:31:19.729Z"
   },
   {
    "duration": 213,
    "start_time": "2025-01-03T14:31:52.152Z"
   },
   {
    "duration": 214,
    "start_time": "2025-01-03T14:31:55.018Z"
   },
   {
    "duration": 203,
    "start_time": "2025-01-03T14:31:58.948Z"
   },
   {
    "duration": 324,
    "start_time": "2025-01-03T14:32:02.424Z"
   },
   {
    "duration": 215,
    "start_time": "2025-01-03T14:32:06.615Z"
   },
   {
    "duration": 223,
    "start_time": "2025-01-03T14:32:11.849Z"
   },
   {
    "duration": 139,
    "start_time": "2025-01-03T14:33:45.230Z"
   },
   {
    "duration": 193,
    "start_time": "2025-01-03T14:33:48.617Z"
   },
   {
    "duration": 1457,
    "start_time": "2025-01-03T14:33:57.162Z"
   },
   {
    "duration": 170,
    "start_time": "2025-01-03T14:33:58.621Z"
   },
   {
    "duration": 3,
    "start_time": "2025-01-03T14:33:58.793Z"
   },
   {
    "duration": 50,
    "start_time": "2025-01-03T14:33:58.797Z"
   },
   {
    "duration": 45,
    "start_time": "2025-01-03T14:33:58.850Z"
   },
   {
    "duration": 109,
    "start_time": "2025-01-03T14:33:58.897Z"
   },
   {
    "duration": 54,
    "start_time": "2025-01-03T14:33:59.007Z"
   },
   {
    "duration": 31,
    "start_time": "2025-01-03T14:33:59.064Z"
   },
   {
    "duration": 22,
    "start_time": "2025-01-03T14:33:59.097Z"
   },
   {
    "duration": 75,
    "start_time": "2025-01-03T14:33:59.121Z"
   },
   {
    "duration": 211,
    "start_time": "2025-01-03T14:33:59.197Z"
   },
   {
    "duration": 293,
    "start_time": "2025-01-03T14:33:59.410Z"
   },
   {
    "duration": 234,
    "start_time": "2025-01-03T14:33:59.705Z"
   },
   {
    "duration": 268,
    "start_time": "2025-01-03T14:33:59.941Z"
   },
   {
    "duration": 149,
    "start_time": "2025-01-03T14:34:00.211Z"
   },
   {
    "duration": 11,
    "start_time": "2025-01-03T14:34:00.362Z"
   },
   {
    "duration": 252,
    "start_time": "2025-01-03T14:34:00.375Z"
   },
   {
    "duration": 216,
    "start_time": "2025-01-03T14:34:00.629Z"
   },
   {
    "duration": 26,
    "start_time": "2025-01-03T14:34:00.847Z"
   },
   {
    "duration": 807,
    "start_time": "2025-01-03T14:34:00.876Z"
   },
   {
    "duration": 285,
    "start_time": "2025-01-03T14:34:01.685Z"
   },
   {
    "duration": 231,
    "start_time": "2025-01-03T14:34:01.973Z"
   },
   {
    "duration": 28,
    "start_time": "2025-01-03T14:34:02.206Z"
   },
   {
    "duration": 319,
    "start_time": "2025-01-03T14:34:02.236Z"
   },
   {
    "duration": 464,
    "start_time": "2025-01-03T14:34:02.561Z"
   },
   {
    "duration": 333,
    "start_time": "2025-01-03T14:34:03.027Z"
   },
   {
    "duration": 185,
    "start_time": "2025-01-03T14:34:03.363Z"
   },
   {
    "duration": 314,
    "start_time": "2025-01-03T14:34:03.551Z"
   },
   {
    "duration": 243,
    "start_time": "2025-01-03T14:35:08.097Z"
   },
   {
    "duration": 234,
    "start_time": "2025-01-03T14:35:54.991Z"
   },
   {
    "duration": 340,
    "start_time": "2025-01-03T14:36:49.184Z"
   },
   {
    "duration": 256,
    "start_time": "2025-01-03T14:37:09.762Z"
   },
   {
    "duration": 269,
    "start_time": "2025-01-03T14:37:17.754Z"
   },
   {
    "duration": 238,
    "start_time": "2025-01-03T14:38:39.351Z"
   },
   {
    "duration": 194,
    "start_time": "2025-01-03T14:38:45.216Z"
   },
   {
    "duration": 18,
    "start_time": "2025-01-03T14:45:39.321Z"
   },
   {
    "duration": 16,
    "start_time": "2025-01-03T14:45:42.696Z"
   },
   {
    "duration": 1277,
    "start_time": "2025-01-03T15:19:32.464Z"
   },
   {
    "duration": 132,
    "start_time": "2025-01-03T15:19:33.744Z"
   },
   {
    "duration": 3,
    "start_time": "2025-01-03T15:19:33.878Z"
   },
   {
    "duration": 53,
    "start_time": "2025-01-03T15:19:33.882Z"
   },
   {
    "duration": 39,
    "start_time": "2025-01-03T15:19:33.937Z"
   },
   {
    "duration": 62,
    "start_time": "2025-01-03T15:19:33.978Z"
   },
   {
    "duration": 49,
    "start_time": "2025-01-03T15:19:34.042Z"
   },
   {
    "duration": 21,
    "start_time": "2025-01-03T15:19:34.093Z"
   },
   {
    "duration": 47,
    "start_time": "2025-01-03T15:19:34.116Z"
   },
   {
    "duration": 40,
    "start_time": "2025-01-03T15:19:34.165Z"
   },
   {
    "duration": 198,
    "start_time": "2025-01-03T15:19:34.207Z"
   },
   {
    "duration": 257,
    "start_time": "2025-01-03T15:19:34.407Z"
   },
   {
    "duration": 204,
    "start_time": "2025-01-03T15:19:34.666Z"
   },
   {
    "duration": 248,
    "start_time": "2025-01-03T15:19:34.873Z"
   },
   {
    "duration": 149,
    "start_time": "2025-01-03T15:19:35.123Z"
   },
   {
    "duration": 10,
    "start_time": "2025-01-03T15:19:35.273Z"
   },
   {
    "duration": 236,
    "start_time": "2025-01-03T15:19:35.284Z"
   },
   {
    "duration": 192,
    "start_time": "2025-01-03T15:19:35.521Z"
   },
   {
    "duration": 15,
    "start_time": "2025-01-03T15:19:35.715Z"
   },
   {
    "duration": 791,
    "start_time": "2025-01-03T15:19:35.732Z"
   },
   {
    "duration": 214,
    "start_time": "2025-01-03T15:19:36.525Z"
   },
   {
    "duration": 175,
    "start_time": "2025-01-03T15:19:36.741Z"
   },
   {
    "duration": 44,
    "start_time": "2025-01-03T15:19:36.917Z"
   },
   {
    "duration": 270,
    "start_time": "2025-01-03T15:19:36.962Z"
   },
   {
    "duration": 433,
    "start_time": "2025-01-03T15:19:37.234Z"
   },
   {
    "duration": 296,
    "start_time": "2025-01-03T15:19:37.668Z"
   },
   {
    "duration": 161,
    "start_time": "2025-01-03T15:19:37.967Z"
   },
   {
    "duration": 269,
    "start_time": "2025-01-03T15:19:38.129Z"
   },
   {
    "duration": 118,
    "start_time": "2025-01-03T15:50:02.913Z"
   },
   {
    "duration": 27,
    "start_time": "2025-01-03T15:50:11.989Z"
   },
   {
    "duration": 1382,
    "start_time": "2025-01-03T15:50:23.413Z"
   },
   {
    "duration": 134,
    "start_time": "2025-01-03T15:50:24.797Z"
   },
   {
    "duration": 4,
    "start_time": "2025-01-03T15:50:24.934Z"
   },
   {
    "duration": 60,
    "start_time": "2025-01-03T15:50:24.940Z"
   },
   {
    "duration": 29,
    "start_time": "2025-01-03T15:50:25.002Z"
   },
   {
    "duration": 41,
    "start_time": "2025-01-03T15:50:25.033Z"
   },
   {
    "duration": 65,
    "start_time": "2025-01-03T15:50:25.077Z"
   },
   {
    "duration": 38,
    "start_time": "2025-01-03T15:50:25.160Z"
   },
   {
    "duration": 35,
    "start_time": "2025-01-03T15:50:25.201Z"
   },
   {
    "duration": 39,
    "start_time": "2025-01-03T15:50:25.238Z"
   },
   {
    "duration": 44,
    "start_time": "2025-01-03T15:50:25.279Z"
   },
   {
    "duration": 214,
    "start_time": "2025-01-03T15:50:25.325Z"
   },
   {
    "duration": 281,
    "start_time": "2025-01-03T15:50:25.541Z"
   },
   {
    "duration": 223,
    "start_time": "2025-01-03T15:50:25.824Z"
   },
   {
    "duration": 260,
    "start_time": "2025-01-03T15:50:26.049Z"
   },
   {
    "duration": 151,
    "start_time": "2025-01-03T15:50:26.311Z"
   },
   {
    "duration": 8,
    "start_time": "2025-01-03T15:50:26.465Z"
   },
   {
    "duration": 235,
    "start_time": "2025-01-03T15:50:26.475Z"
   },
   {
    "duration": 196,
    "start_time": "2025-01-03T15:50:26.712Z"
   },
   {
    "duration": 17,
    "start_time": "2025-01-03T15:50:26.910Z"
   },
   {
    "duration": 773,
    "start_time": "2025-01-03T15:50:26.929Z"
   },
   {
    "duration": 219,
    "start_time": "2025-01-03T15:50:27.704Z"
   },
   {
    "duration": 196,
    "start_time": "2025-01-03T15:50:27.925Z"
   },
   {
    "duration": 46,
    "start_time": "2025-01-03T15:50:28.123Z"
   },
   {
    "duration": 272,
    "start_time": "2025-01-03T15:50:28.171Z"
   },
   {
    "duration": 430,
    "start_time": "2025-01-03T15:50:28.445Z"
   },
   {
    "duration": 286,
    "start_time": "2025-01-03T15:50:28.879Z"
   },
   {
    "duration": 145,
    "start_time": "2025-01-03T15:50:29.167Z"
   },
   {
    "duration": 301,
    "start_time": "2025-01-03T15:50:29.314Z"
   },
   {
    "duration": 195,
    "start_time": "2025-01-03T15:58:17.448Z"
   },
   {
    "duration": 78,
    "start_time": "2025-01-03T16:02:42.880Z"
   },
   {
    "duration": 150,
    "start_time": "2025-01-03T16:06:28.636Z"
   },
   {
    "duration": 20,
    "start_time": "2025-01-03T16:06:53.353Z"
   },
   {
    "duration": 230,
    "start_time": "2025-01-03T16:07:02.493Z"
   },
   {
    "duration": 16,
    "start_time": "2025-01-03T16:07:53.079Z"
   },
   {
    "duration": 77,
    "start_time": "2025-01-03T16:18:56.628Z"
   },
   {
    "duration": 556,
    "start_time": "2025-01-03T16:19:45.574Z"
   },
   {
    "duration": 1420,
    "start_time": "2025-01-03T16:19:58.624Z"
   },
   {
    "duration": 160,
    "start_time": "2025-01-03T16:20:00.046Z"
   },
   {
    "duration": 3,
    "start_time": "2025-01-03T16:20:00.209Z"
   },
   {
    "duration": 72,
    "start_time": "2025-01-03T16:20:00.214Z"
   },
   {
    "duration": 30,
    "start_time": "2025-01-03T16:20:00.289Z"
   },
   {
    "duration": 47,
    "start_time": "2025-01-03T16:20:00.321Z"
   },
   {
    "duration": 71,
    "start_time": "2025-01-03T16:20:00.373Z"
   },
   {
    "duration": 53,
    "start_time": "2025-01-03T16:20:00.445Z"
   },
   {
    "duration": 38,
    "start_time": "2025-01-03T16:20:00.500Z"
   },
   {
    "duration": 42,
    "start_time": "2025-01-03T16:20:00.540Z"
   },
   {
    "duration": 41,
    "start_time": "2025-01-03T16:20:00.584Z"
   },
   {
    "duration": 257,
    "start_time": "2025-01-03T16:20:00.627Z"
   },
   {
    "duration": 293,
    "start_time": "2025-01-03T16:20:00.886Z"
   },
   {
    "duration": 219,
    "start_time": "2025-01-03T16:20:01.184Z"
   },
   {
    "duration": 278,
    "start_time": "2025-01-03T16:20:01.405Z"
   },
   {
    "duration": 175,
    "start_time": "2025-01-03T16:20:01.689Z"
   },
   {
    "duration": 12,
    "start_time": "2025-01-03T16:20:01.866Z"
   },
   {
    "duration": 244,
    "start_time": "2025-01-03T16:20:01.882Z"
   },
   {
    "duration": 220,
    "start_time": "2025-01-03T16:20:02.128Z"
   },
   {
    "duration": 35,
    "start_time": "2025-01-03T16:20:02.350Z"
   },
   {
    "duration": 856,
    "start_time": "2025-01-03T16:20:02.387Z"
   },
   {
    "duration": 258,
    "start_time": "2025-01-03T16:20:03.245Z"
   },
   {
    "duration": 211,
    "start_time": "2025-01-03T16:20:03.505Z"
   },
   {
    "duration": 50,
    "start_time": "2025-01-03T16:20:03.717Z"
   },
   {
    "duration": 301,
    "start_time": "2025-01-03T16:20:03.770Z"
   },
   {
    "duration": 454,
    "start_time": "2025-01-03T16:20:04.075Z"
   },
   {
    "duration": 309,
    "start_time": "2025-01-03T16:20:04.531Z"
   },
   {
    "duration": 162,
    "start_time": "2025-01-03T16:20:04.842Z"
   },
   {
    "duration": 279,
    "start_time": "2025-01-03T16:20:05.006Z"
   },
   {
    "duration": 134,
    "start_time": "2025-01-03T16:20:50.083Z"
   },
   {
    "duration": 1316,
    "start_time": "2025-01-03T16:20:56.881Z"
   },
   {
    "duration": 130,
    "start_time": "2025-01-03T16:20:58.200Z"
   },
   {
    "duration": 3,
    "start_time": "2025-01-03T16:20:58.332Z"
   },
   {
    "duration": 55,
    "start_time": "2025-01-03T16:20:58.336Z"
   },
   {
    "duration": 27,
    "start_time": "2025-01-03T16:20:58.393Z"
   },
   {
    "duration": 53,
    "start_time": "2025-01-03T16:20:58.422Z"
   },
   {
    "duration": 102,
    "start_time": "2025-01-03T16:20:58.477Z"
   },
   {
    "duration": 39,
    "start_time": "2025-01-03T16:20:58.581Z"
   },
   {
    "duration": 48,
    "start_time": "2025-01-03T16:20:58.622Z"
   },
   {
    "duration": 26,
    "start_time": "2025-01-03T16:20:58.673Z"
   },
   {
    "duration": 72,
    "start_time": "2025-01-03T16:20:58.701Z"
   },
   {
    "duration": 218,
    "start_time": "2025-01-03T16:20:58.776Z"
   },
   {
    "duration": 293,
    "start_time": "2025-01-03T16:20:58.996Z"
   },
   {
    "duration": 229,
    "start_time": "2025-01-03T16:20:59.292Z"
   },
   {
    "duration": 290,
    "start_time": "2025-01-03T16:20:59.523Z"
   },
   {
    "duration": 182,
    "start_time": "2025-01-03T16:20:59.815Z"
   },
   {
    "duration": 11,
    "start_time": "2025-01-03T16:20:59.999Z"
   },
   {
    "duration": 304,
    "start_time": "2025-01-03T16:21:00.012Z"
   },
   {
    "duration": 226,
    "start_time": "2025-01-03T16:21:00.317Z"
   },
   {
    "duration": 37,
    "start_time": "2025-01-03T16:21:00.545Z"
   },
   {
    "duration": 848,
    "start_time": "2025-01-03T16:21:00.585Z"
   },
   {
    "duration": 255,
    "start_time": "2025-01-03T16:21:01.434Z"
   },
   {
    "duration": 210,
    "start_time": "2025-01-03T16:21:01.692Z"
   },
   {
    "duration": 28,
    "start_time": "2025-01-03T16:21:01.904Z"
   },
   {
    "duration": 308,
    "start_time": "2025-01-03T16:21:01.933Z"
   },
   {
    "duration": 479,
    "start_time": "2025-01-03T16:21:02.243Z"
   },
   {
    "duration": 321,
    "start_time": "2025-01-03T16:21:02.723Z"
   },
   {
    "duration": 182,
    "start_time": "2025-01-03T16:21:03.046Z"
   },
   {
    "duration": 312,
    "start_time": "2025-01-03T16:21:03.230Z"
   },
   {
    "duration": 180,
    "start_time": "2025-01-03T16:21:41.732Z"
   },
   {
    "duration": 42,
    "start_time": "2025-01-03T16:23:00.780Z"
   },
   {
    "duration": 122,
    "start_time": "2025-01-03T16:23:14.524Z"
   },
   {
    "duration": 1340,
    "start_time": "2025-01-03T16:23:41.498Z"
   },
   {
    "duration": 141,
    "start_time": "2025-01-03T16:23:42.840Z"
   },
   {
    "duration": 4,
    "start_time": "2025-01-03T16:23:42.983Z"
   },
   {
    "duration": 45,
    "start_time": "2025-01-03T16:23:42.989Z"
   },
   {
    "duration": 58,
    "start_time": "2025-01-03T16:23:43.037Z"
   },
   {
    "duration": 26,
    "start_time": "2025-01-03T16:23:43.097Z"
   },
   {
    "duration": 101,
    "start_time": "2025-01-03T16:23:43.124Z"
   },
   {
    "duration": 61,
    "start_time": "2025-01-03T16:23:43.227Z"
   },
   {
    "duration": 22,
    "start_time": "2025-01-03T16:23:43.290Z"
   },
   {
    "duration": 47,
    "start_time": "2025-01-03T16:23:43.314Z"
   },
   {
    "duration": 49,
    "start_time": "2025-01-03T16:23:43.365Z"
   },
   {
    "duration": 228,
    "start_time": "2025-01-03T16:23:43.416Z"
   },
   {
    "duration": 307,
    "start_time": "2025-01-03T16:23:43.645Z"
   },
   {
    "duration": 251,
    "start_time": "2025-01-03T16:23:43.961Z"
   },
   {
    "duration": 291,
    "start_time": "2025-01-03T16:23:44.215Z"
   },
   {
    "duration": 160,
    "start_time": "2025-01-03T16:23:44.508Z"
   },
   {
    "duration": 16,
    "start_time": "2025-01-03T16:23:44.671Z"
   },
   {
    "duration": 240,
    "start_time": "2025-01-03T16:23:44.689Z"
   },
   {
    "duration": 206,
    "start_time": "2025-01-03T16:23:44.932Z"
   },
   {
    "duration": 30,
    "start_time": "2025-01-03T16:23:45.141Z"
   },
   {
    "duration": 755,
    "start_time": "2025-01-03T16:23:45.175Z"
   },
   {
    "duration": 257,
    "start_time": "2025-01-03T16:23:45.933Z"
   },
   {
    "duration": 200,
    "start_time": "2025-01-03T16:23:46.192Z"
   },
   {
    "duration": 28,
    "start_time": "2025-01-03T16:23:46.394Z"
   },
   {
    "duration": 330,
    "start_time": "2025-01-03T16:23:46.424Z"
   },
   {
    "duration": 469,
    "start_time": "2025-01-03T16:23:46.762Z"
   },
   {
    "duration": 307,
    "start_time": "2025-01-03T16:23:47.233Z"
   },
   {
    "duration": 164,
    "start_time": "2025-01-03T16:23:47.542Z"
   },
   {
    "duration": 338,
    "start_time": "2025-01-03T16:23:47.708Z"
   },
   {
    "duration": 273,
    "start_time": "2025-01-03T16:25:22.993Z"
   },
   {
    "duration": 1392,
    "start_time": "2025-01-03T16:25:41.655Z"
   },
   {
    "duration": 165,
    "start_time": "2025-01-03T16:25:43.051Z"
   },
   {
    "duration": 3,
    "start_time": "2025-01-03T16:25:43.217Z"
   },
   {
    "duration": 63,
    "start_time": "2025-01-03T16:25:43.221Z"
   },
   {
    "duration": 26,
    "start_time": "2025-01-03T16:25:43.288Z"
   },
   {
    "duration": 66,
    "start_time": "2025-01-03T16:25:43.316Z"
   },
   {
    "duration": 81,
    "start_time": "2025-01-03T16:25:43.384Z"
   },
   {
    "duration": 44,
    "start_time": "2025-01-03T16:25:43.469Z"
   },
   {
    "duration": 48,
    "start_time": "2025-01-03T16:25:43.515Z"
   },
   {
    "duration": 29,
    "start_time": "2025-01-03T16:25:43.565Z"
   },
   {
    "duration": 67,
    "start_time": "2025-01-03T16:25:43.596Z"
   },
   {
    "duration": 218,
    "start_time": "2025-01-03T16:25:43.666Z"
   },
   {
    "duration": 282,
    "start_time": "2025-01-03T16:25:43.887Z"
   },
   {
    "duration": 201,
    "start_time": "2025-01-03T16:25:44.174Z"
   },
   {
    "duration": 249,
    "start_time": "2025-01-03T16:25:44.377Z"
   },
   {
    "duration": 146,
    "start_time": "2025-01-03T16:25:44.628Z"
   },
   {
    "duration": 12,
    "start_time": "2025-01-03T16:25:44.776Z"
   },
   {
    "duration": 252,
    "start_time": "2025-01-03T16:25:44.789Z"
   },
   {
    "duration": 222,
    "start_time": "2025-01-03T16:25:45.043Z"
   },
   {
    "duration": 27,
    "start_time": "2025-01-03T16:25:45.269Z"
   },
   {
    "duration": 821,
    "start_time": "2025-01-03T16:25:45.298Z"
   },
   {
    "duration": 262,
    "start_time": "2025-01-03T16:25:46.121Z"
   },
   {
    "duration": 188,
    "start_time": "2025-01-03T16:25:46.385Z"
   },
   {
    "duration": 33,
    "start_time": "2025-01-03T16:25:46.576Z"
   },
   {
    "duration": 327,
    "start_time": "2025-01-03T16:25:46.612Z"
   },
   {
    "duration": 310,
    "start_time": "2025-01-03T16:25:46.941Z"
   },
   {
    "duration": 362,
    "start_time": "2025-01-03T16:25:47.259Z"
   },
   {
    "duration": 182,
    "start_time": "2025-01-03T16:25:47.623Z"
   },
   {
    "duration": 369,
    "start_time": "2025-01-03T16:25:47.807Z"
   },
   {
    "duration": 1417,
    "start_time": "2025-01-03T16:35:22.533Z"
   },
   {
    "duration": 153,
    "start_time": "2025-01-03T16:35:23.952Z"
   },
   {
    "duration": 3,
    "start_time": "2025-01-03T16:35:24.107Z"
   },
   {
    "duration": 63,
    "start_time": "2025-01-03T16:35:24.112Z"
   },
   {
    "duration": 32,
    "start_time": "2025-01-03T16:35:24.178Z"
   },
   {
    "duration": 24,
    "start_time": "2025-01-03T16:35:24.212Z"
   },
   {
    "duration": 94,
    "start_time": "2025-01-03T16:35:24.237Z"
   },
   {
    "duration": 66,
    "start_time": "2025-01-03T16:35:24.333Z"
   },
   {
    "duration": 20,
    "start_time": "2025-01-03T16:35:24.400Z"
   },
   {
    "duration": 58,
    "start_time": "2025-01-03T16:35:24.423Z"
   },
   {
    "duration": 39,
    "start_time": "2025-01-03T16:35:24.484Z"
   },
   {
    "duration": 228,
    "start_time": "2025-01-03T16:35:24.525Z"
   },
   {
    "duration": 310,
    "start_time": "2025-01-03T16:35:24.755Z"
   },
   {
    "duration": 219,
    "start_time": "2025-01-03T16:35:25.068Z"
   },
   {
    "duration": 263,
    "start_time": "2025-01-03T16:35:25.290Z"
   },
   {
    "duration": 154,
    "start_time": "2025-01-03T16:35:25.560Z"
   },
   {
    "duration": 10,
    "start_time": "2025-01-03T16:35:25.716Z"
   },
   {
    "duration": 240,
    "start_time": "2025-01-03T16:35:25.728Z"
   },
   {
    "duration": 212,
    "start_time": "2025-01-03T16:35:25.969Z"
   },
   {
    "duration": 18,
    "start_time": "2025-01-03T16:35:26.183Z"
   },
   {
    "duration": 868,
    "start_time": "2025-01-03T16:35:26.203Z"
   },
   {
    "duration": 270,
    "start_time": "2025-01-03T16:35:27.074Z"
   },
   {
    "duration": 51,
    "start_time": "2025-01-03T16:35:27.345Z"
   },
   {
    "duration": 309,
    "start_time": "2025-01-03T16:35:27.398Z"
   },
   {
    "duration": 291,
    "start_time": "2025-01-03T16:35:27.709Z"
   },
   {
    "duration": 311,
    "start_time": "2025-01-03T16:35:28.002Z"
   },
   {
    "duration": 150,
    "start_time": "2025-01-03T16:35:28.315Z"
   },
   {
    "duration": 307,
    "start_time": "2025-01-03T16:35:28.469Z"
   },
   {
    "duration": 24,
    "start_time": "2025-01-03T17:02:02.538Z"
   },
   {
    "duration": 131,
    "start_time": "2025-01-03T17:03:11.431Z"
   },
   {
    "duration": 1301,
    "start_time": "2025-01-03T17:03:15.813Z"
   },
   {
    "duration": 138,
    "start_time": "2025-01-03T17:03:17.116Z"
   },
   {
    "duration": 5,
    "start_time": "2025-01-03T17:03:17.255Z"
   },
   {
    "duration": 44,
    "start_time": "2025-01-03T17:03:17.262Z"
   },
   {
    "duration": 29,
    "start_time": "2025-01-03T17:03:17.309Z"
   },
   {
    "duration": 24,
    "start_time": "2025-01-03T17:03:17.360Z"
   },
   {
    "duration": 86,
    "start_time": "2025-01-03T17:03:17.385Z"
   },
   {
    "duration": 38,
    "start_time": "2025-01-03T17:03:17.473Z"
   },
   {
    "duration": 22,
    "start_time": "2025-01-03T17:03:17.513Z"
   },
   {
    "duration": 23,
    "start_time": "2025-01-03T17:03:17.559Z"
   },
   {
    "duration": 48,
    "start_time": "2025-01-03T17:03:17.584Z"
   },
   {
    "duration": 204,
    "start_time": "2025-01-03T17:03:17.633Z"
   },
   {
    "duration": 302,
    "start_time": "2025-01-03T17:03:17.839Z"
   },
   {
    "duration": 206,
    "start_time": "2025-01-03T17:03:18.144Z"
   },
   {
    "duration": 236,
    "start_time": "2025-01-03T17:03:18.360Z"
   },
   {
    "duration": 147,
    "start_time": "2025-01-03T17:03:18.598Z"
   },
   {
    "duration": 17,
    "start_time": "2025-01-03T17:03:18.747Z"
   },
   {
    "duration": 224,
    "start_time": "2025-01-03T17:03:18.765Z"
   },
   {
    "duration": 195,
    "start_time": "2025-01-03T17:03:18.991Z"
   },
   {
    "duration": 15,
    "start_time": "2025-01-03T17:03:19.188Z"
   },
   {
    "duration": 770,
    "start_time": "2025-01-03T17:03:19.205Z"
   },
   {
    "duration": 251,
    "start_time": "2025-01-03T17:03:19.978Z"
   },
   {
    "duration": 48,
    "start_time": "2025-01-03T17:03:20.231Z"
   },
   {
    "duration": 287,
    "start_time": "2025-01-03T17:03:20.281Z"
   },
   {
    "duration": 270,
    "start_time": "2025-01-03T17:03:20.570Z"
   },
   {
    "duration": 292,
    "start_time": "2025-01-03T17:03:20.841Z"
   },
   {
    "duration": 156,
    "start_time": "2025-01-03T17:03:21.135Z"
   },
   {
    "duration": 283,
    "start_time": "2025-01-03T17:03:21.293Z"
   },
   {
    "duration": 16,
    "start_time": "2025-01-03T17:03:21.577Z"
   },
   {
    "duration": 150,
    "start_time": "2025-01-03T17:05:09.314Z"
   },
   {
    "duration": 1300,
    "start_time": "2025-01-03T17:05:14.913Z"
   },
   {
    "duration": 134,
    "start_time": "2025-01-03T17:05:16.214Z"
   },
   {
    "duration": 3,
    "start_time": "2025-01-03T17:05:16.349Z"
   },
   {
    "duration": 36,
    "start_time": "2025-01-03T17:05:16.354Z"
   },
   {
    "duration": 27,
    "start_time": "2025-01-03T17:05:16.393Z"
   },
   {
    "duration": 44,
    "start_time": "2025-01-03T17:05:16.421Z"
   },
   {
    "duration": 63,
    "start_time": "2025-01-03T17:05:16.467Z"
   },
   {
    "duration": 53,
    "start_time": "2025-01-03T17:05:16.532Z"
   },
   {
    "duration": 21,
    "start_time": "2025-01-03T17:05:16.587Z"
   },
   {
    "duration": 21,
    "start_time": "2025-01-03T17:05:16.611Z"
   },
   {
    "duration": 40,
    "start_time": "2025-01-03T17:05:16.660Z"
   },
   {
    "duration": 194,
    "start_time": "2025-01-03T17:05:16.702Z"
   },
   {
    "duration": 256,
    "start_time": "2025-01-03T17:05:16.898Z"
   },
   {
    "duration": 200,
    "start_time": "2025-01-03T17:05:17.161Z"
   },
   {
    "duration": 244,
    "start_time": "2025-01-03T17:05:17.363Z"
   },
   {
    "duration": 136,
    "start_time": "2025-01-03T17:05:17.609Z"
   },
   {
    "duration": 19,
    "start_time": "2025-01-03T17:05:17.747Z"
   },
   {
    "duration": 249,
    "start_time": "2025-01-03T17:05:17.768Z"
   },
   {
    "duration": 191,
    "start_time": "2025-01-03T17:05:18.018Z"
   },
   {
    "duration": 16,
    "start_time": "2025-01-03T17:05:18.211Z"
   },
   {
    "duration": 762,
    "start_time": "2025-01-03T17:05:18.229Z"
   },
   {
    "duration": 212,
    "start_time": "2025-01-03T17:05:18.993Z"
   },
   {
    "duration": 29,
    "start_time": "2025-01-03T17:05:19.207Z"
   },
   {
    "duration": 289,
    "start_time": "2025-01-03T17:05:19.239Z"
   },
   {
    "duration": 264,
    "start_time": "2025-01-03T17:05:19.530Z"
   },
   {
    "duration": 297,
    "start_time": "2025-01-03T17:05:19.795Z"
   },
   {
    "duration": 166,
    "start_time": "2025-01-03T17:05:20.094Z"
   },
   {
    "duration": 285,
    "start_time": "2025-01-03T17:05:20.262Z"
   },
   {
    "duration": 25,
    "start_time": "2025-01-03T17:05:20.549Z"
   },
   {
    "duration": 125,
    "start_time": "2025-01-03T17:06:47.177Z"
   },
   {
    "duration": 29,
    "start_time": "2025-01-03T17:06:49.514Z"
   },
   {
    "duration": 38,
    "start_time": "2025-01-03T17:07:01.723Z"
   },
   {
    "duration": 162,
    "start_time": "2025-01-03T17:09:46.610Z"
   },
   {
    "duration": 244,
    "start_time": "2025-01-03T17:09:55.580Z"
   },
   {
    "duration": 170,
    "start_time": "2025-01-03T17:10:19.685Z"
   },
   {
    "duration": 151,
    "start_time": "2025-01-03T17:11:16.799Z"
   },
   {
    "duration": 328,
    "start_time": "2025-01-03T17:12:44.747Z"
   },
   {
    "duration": 170,
    "start_time": "2025-01-03T17:14:05.423Z"
   },
   {
    "duration": 170,
    "start_time": "2025-01-03T17:14:36.135Z"
   },
   {
    "duration": 1498,
    "start_time": "2025-01-03T17:14:41.289Z"
   },
   {
    "duration": 140,
    "start_time": "2025-01-03T17:14:42.789Z"
   },
   {
    "duration": 4,
    "start_time": "2025-01-03T17:14:42.931Z"
   },
   {
    "duration": 54,
    "start_time": "2025-01-03T17:14:42.937Z"
   },
   {
    "duration": 47,
    "start_time": "2025-01-03T17:14:42.994Z"
   },
   {
    "duration": 56,
    "start_time": "2025-01-03T17:14:43.044Z"
   },
   {
    "duration": 128,
    "start_time": "2025-01-03T17:14:43.102Z"
   },
   {
    "duration": 73,
    "start_time": "2025-01-03T17:14:43.232Z"
   },
   {
    "duration": 29,
    "start_time": "2025-01-03T17:14:43.307Z"
   },
   {
    "duration": 51,
    "start_time": "2025-01-03T17:14:43.338Z"
   },
   {
    "duration": 41,
    "start_time": "2025-01-03T17:14:43.391Z"
   },
   {
    "duration": 231,
    "start_time": "2025-01-03T17:14:43.434Z"
   },
   {
    "duration": 293,
    "start_time": "2025-01-03T17:14:43.668Z"
   },
   {
    "duration": 244,
    "start_time": "2025-01-03T17:14:43.968Z"
   },
   {
    "duration": 279,
    "start_time": "2025-01-03T17:14:44.213Z"
   },
   {
    "duration": 162,
    "start_time": "2025-01-03T17:14:44.494Z"
   },
   {
    "duration": 19,
    "start_time": "2025-01-03T17:14:44.661Z"
   },
   {
    "duration": 260,
    "start_time": "2025-01-03T17:14:44.682Z"
   },
   {
    "duration": 213,
    "start_time": "2025-01-03T17:14:44.944Z"
   },
   {
    "duration": 29,
    "start_time": "2025-01-03T17:14:45.161Z"
   },
   {
    "duration": 823,
    "start_time": "2025-01-03T17:14:45.192Z"
   },
   {
    "duration": 222,
    "start_time": "2025-01-03T17:14:46.017Z"
   },
   {
    "duration": 43,
    "start_time": "2025-01-03T17:14:46.241Z"
   },
   {
    "duration": 299,
    "start_time": "2025-01-03T17:14:46.287Z"
   },
   {
    "duration": 295,
    "start_time": "2025-01-03T17:14:46.588Z"
   },
   {
    "duration": 308,
    "start_time": "2025-01-03T17:14:46.885Z"
   },
   {
    "duration": 158,
    "start_time": "2025-01-03T17:14:47.195Z"
   },
   {
    "duration": 300,
    "start_time": "2025-01-03T17:14:47.355Z"
   },
   {
    "duration": 27,
    "start_time": "2025-01-03T17:14:47.664Z"
   },
   {
    "duration": 1377,
    "start_time": "2025-01-03T17:18:56.562Z"
   },
   {
    "duration": 146,
    "start_time": "2025-01-03T17:18:57.942Z"
   },
   {
    "duration": 37,
    "start_time": "2025-01-03T17:18:58.089Z"
   },
   {
    "duration": 63,
    "start_time": "2025-01-03T17:18:58.129Z"
   },
   {
    "duration": 25,
    "start_time": "2025-01-03T17:18:58.194Z"
   },
   {
    "duration": 98,
    "start_time": "2025-01-03T17:18:58.220Z"
   },
   {
    "duration": 52,
    "start_time": "2025-01-03T17:18:58.321Z"
   },
   {
    "duration": 26,
    "start_time": "2025-01-03T17:18:58.375Z"
   },
   {
    "duration": 21,
    "start_time": "2025-01-03T17:18:58.403Z"
   },
   {
    "duration": 75,
    "start_time": "2025-01-03T17:18:58.426Z"
   },
   {
    "duration": 216,
    "start_time": "2025-01-03T17:18:58.503Z"
   },
   {
    "duration": 304,
    "start_time": "2025-01-03T17:18:58.720Z"
   },
   {
    "duration": 224,
    "start_time": "2025-01-03T17:18:59.025Z"
   },
   {
    "duration": 250,
    "start_time": "2025-01-03T17:18:59.252Z"
   },
   {
    "duration": 156,
    "start_time": "2025-01-03T17:18:59.504Z"
   },
   {
    "duration": 11,
    "start_time": "2025-01-03T17:18:59.662Z"
   },
   {
    "duration": 268,
    "start_time": "2025-01-03T17:18:59.675Z"
   },
   {
    "duration": 220,
    "start_time": "2025-01-03T17:18:59.945Z"
   },
   {
    "duration": 25,
    "start_time": "2025-01-03T17:19:00.168Z"
   },
   {
    "duration": 903,
    "start_time": "2025-01-03T17:19:00.195Z"
   },
   {
    "duration": 266,
    "start_time": "2025-01-03T17:19:01.100Z"
   },
   {
    "duration": 37,
    "start_time": "2025-01-03T17:19:01.369Z"
   },
   {
    "duration": 346,
    "start_time": "2025-01-03T17:19:01.409Z"
   },
   {
    "duration": 309,
    "start_time": "2025-01-03T17:19:01.761Z"
   },
   {
    "duration": 333,
    "start_time": "2025-01-03T17:19:02.074Z"
   },
   {
    "duration": 166,
    "start_time": "2025-01-03T17:19:02.409Z"
   },
   {
    "duration": 315,
    "start_time": "2025-01-03T17:19:02.578Z"
   },
   {
    "duration": 17,
    "start_time": "2025-01-03T17:19:02.894Z"
   },
   {
    "duration": 1560,
    "start_time": "2025-01-03T18:36:30.107Z"
   },
   {
    "duration": 0,
    "start_time": "2025-01-03T18:36:31.670Z"
   },
   {
    "duration": 0,
    "start_time": "2025-01-03T18:36:31.671Z"
   },
   {
    "duration": 0,
    "start_time": "2025-01-03T18:36:31.672Z"
   },
   {
    "duration": 0,
    "start_time": "2025-01-03T18:36:31.673Z"
   },
   {
    "duration": 0,
    "start_time": "2025-01-03T18:36:31.674Z"
   },
   {
    "duration": 0,
    "start_time": "2025-01-03T18:36:31.675Z"
   },
   {
    "duration": 0,
    "start_time": "2025-01-03T18:36:31.676Z"
   },
   {
    "duration": 0,
    "start_time": "2025-01-03T18:36:31.686Z"
   },
   {
    "duration": 0,
    "start_time": "2025-01-03T18:36:31.687Z"
   },
   {
    "duration": 0,
    "start_time": "2025-01-03T18:36:31.688Z"
   },
   {
    "duration": 0,
    "start_time": "2025-01-03T18:36:31.690Z"
   },
   {
    "duration": 0,
    "start_time": "2025-01-03T18:36:31.691Z"
   },
   {
    "duration": 0,
    "start_time": "2025-01-03T18:36:31.692Z"
   },
   {
    "duration": 0,
    "start_time": "2025-01-03T18:36:31.694Z"
   },
   {
    "duration": 0,
    "start_time": "2025-01-03T18:36:31.695Z"
   },
   {
    "duration": 0,
    "start_time": "2025-01-03T18:36:31.696Z"
   },
   {
    "duration": 0,
    "start_time": "2025-01-03T18:36:31.697Z"
   },
   {
    "duration": 0,
    "start_time": "2025-01-03T18:36:31.698Z"
   },
   {
    "duration": 0,
    "start_time": "2025-01-03T18:36:31.703Z"
   },
   {
    "duration": 0,
    "start_time": "2025-01-03T18:36:31.704Z"
   },
   {
    "duration": 0,
    "start_time": "2025-01-03T18:36:31.706Z"
   },
   {
    "duration": 0,
    "start_time": "2025-01-03T18:36:31.707Z"
   },
   {
    "duration": 0,
    "start_time": "2025-01-03T18:36:31.708Z"
   },
   {
    "duration": 0,
    "start_time": "2025-01-03T18:36:31.710Z"
   },
   {
    "duration": 0,
    "start_time": "2025-01-03T18:36:31.711Z"
   },
   {
    "duration": 0,
    "start_time": "2025-01-03T18:36:31.712Z"
   },
   {
    "duration": 0,
    "start_time": "2025-01-03T18:36:31.713Z"
   },
   {
    "duration": 3899,
    "start_time": "2025-01-03T18:37:12.078Z"
   },
   {
    "duration": 1344,
    "start_time": "2025-01-03T18:37:15.979Z"
   },
   {
    "duration": 72,
    "start_time": "2025-01-03T18:37:17.325Z"
   },
   {
    "duration": 0,
    "start_time": "2025-01-03T18:37:17.401Z"
   },
   {
    "duration": 0,
    "start_time": "2025-01-03T18:37:17.403Z"
   },
   {
    "duration": 0,
    "start_time": "2025-01-03T18:37:17.404Z"
   },
   {
    "duration": 0,
    "start_time": "2025-01-03T18:37:17.406Z"
   },
   {
    "duration": 0,
    "start_time": "2025-01-03T18:37:17.407Z"
   },
   {
    "duration": 0,
    "start_time": "2025-01-03T18:37:17.409Z"
   },
   {
    "duration": 0,
    "start_time": "2025-01-03T18:37:17.411Z"
   },
   {
    "duration": 0,
    "start_time": "2025-01-03T18:37:17.412Z"
   },
   {
    "duration": 0,
    "start_time": "2025-01-03T18:37:17.413Z"
   },
   {
    "duration": 0,
    "start_time": "2025-01-03T18:37:17.414Z"
   },
   {
    "duration": 0,
    "start_time": "2025-01-03T18:37:17.415Z"
   },
   {
    "duration": 0,
    "start_time": "2025-01-03T18:37:17.416Z"
   },
   {
    "duration": 0,
    "start_time": "2025-01-03T18:37:17.417Z"
   },
   {
    "duration": 1,
    "start_time": "2025-01-03T18:37:17.418Z"
   },
   {
    "duration": 0,
    "start_time": "2025-01-03T18:37:17.420Z"
   },
   {
    "duration": 0,
    "start_time": "2025-01-03T18:37:17.421Z"
   },
   {
    "duration": 0,
    "start_time": "2025-01-03T18:37:17.422Z"
   },
   {
    "duration": 0,
    "start_time": "2025-01-03T18:37:17.423Z"
   },
   {
    "duration": 0,
    "start_time": "2025-01-03T18:37:17.424Z"
   },
   {
    "duration": 0,
    "start_time": "2025-01-03T18:37:17.425Z"
   },
   {
    "duration": 0,
    "start_time": "2025-01-03T18:37:17.426Z"
   },
   {
    "duration": 0,
    "start_time": "2025-01-03T18:37:17.427Z"
   },
   {
    "duration": 0,
    "start_time": "2025-01-03T18:37:17.428Z"
   },
   {
    "duration": 0,
    "start_time": "2025-01-03T18:37:17.429Z"
   },
   {
    "duration": 0,
    "start_time": "2025-01-03T18:37:17.430Z"
   },
   {
    "duration": 0,
    "start_time": "2025-01-03T18:37:17.431Z"
   },
   {
    "duration": 0,
    "start_time": "2025-01-03T18:37:17.432Z"
   },
   {
    "duration": 3237,
    "start_time": "2025-01-03T18:37:35.512Z"
   },
   {
    "duration": 1322,
    "start_time": "2025-01-03T18:37:38.751Z"
   },
   {
    "duration": 273,
    "start_time": "2025-01-03T18:37:40.074Z"
   },
   {
    "duration": 29,
    "start_time": "2025-01-03T18:37:40.349Z"
   },
   {
    "duration": 24,
    "start_time": "2025-01-03T18:37:40.379Z"
   },
   {
    "duration": 70,
    "start_time": "2025-01-03T18:37:40.405Z"
   },
   {
    "duration": 67,
    "start_time": "2025-01-03T18:37:40.476Z"
   },
   {
    "duration": 45,
    "start_time": "2025-01-03T18:37:40.545Z"
   },
   {
    "duration": 20,
    "start_time": "2025-01-03T18:37:40.592Z"
   },
   {
    "duration": 58,
    "start_time": "2025-01-03T18:37:40.616Z"
   },
   {
    "duration": 35,
    "start_time": "2025-01-03T18:37:40.675Z"
   },
   {
    "duration": 165,
    "start_time": "2025-01-03T18:37:40.712Z"
   },
   {
    "duration": 263,
    "start_time": "2025-01-03T18:37:40.887Z"
   },
   {
    "duration": 193,
    "start_time": "2025-01-03T18:37:41.152Z"
   },
   {
    "duration": 224,
    "start_time": "2025-01-03T18:37:41.347Z"
   },
   {
    "duration": 153,
    "start_time": "2025-01-03T18:37:41.573Z"
   },
   {
    "duration": 8,
    "start_time": "2025-01-03T18:37:41.728Z"
   },
   {
    "duration": 198,
    "start_time": "2025-01-03T18:37:41.738Z"
   },
   {
    "duration": 179,
    "start_time": "2025-01-03T18:37:41.938Z"
   },
   {
    "duration": 16,
    "start_time": "2025-01-03T18:37:42.119Z"
   },
   {
    "duration": 661,
    "start_time": "2025-01-03T18:37:42.136Z"
   },
   {
    "duration": 196,
    "start_time": "2025-01-03T18:37:42.800Z"
   },
   {
    "duration": 33,
    "start_time": "2025-01-03T18:37:42.998Z"
   },
   {
    "duration": 263,
    "start_time": "2025-01-03T18:37:43.032Z"
   },
   {
    "duration": 245,
    "start_time": "2025-01-03T18:37:43.296Z"
   },
   {
    "duration": 264,
    "start_time": "2025-01-03T18:37:43.542Z"
   },
   {
    "duration": 137,
    "start_time": "2025-01-03T18:37:43.809Z"
   },
   {
    "duration": 272,
    "start_time": "2025-01-03T18:37:43.950Z"
   },
   {
    "duration": 15,
    "start_time": "2025-01-03T18:37:44.224Z"
   },
   {
    "duration": 9,
    "start_time": "2025-01-03T19:30:41.126Z"
   },
   {
    "duration": 192,
    "start_time": "2025-01-03T19:30:41.681Z"
   },
   {
    "duration": 14,
    "start_time": "2025-01-03T19:30:49.161Z"
   },
   {
    "duration": 244,
    "start_time": "2025-01-03T19:30:49.362Z"
   },
   {
    "duration": 14,
    "start_time": "2025-01-03T19:31:29.439Z"
   },
   {
    "duration": 257,
    "start_time": "2025-01-03T19:31:58.212Z"
   },
   {
    "duration": 116,
    "start_time": "2025-01-03T19:32:06.799Z"
   },
   {
    "duration": 301,
    "start_time": "2025-01-03T19:32:09.402Z"
   },
   {
    "duration": 6,
    "start_time": "2025-01-03T19:35:56.316Z"
   },
   {
    "duration": 9,
    "start_time": "2025-01-03T19:40:39.584Z"
   },
   {
    "duration": 28,
    "start_time": "2025-01-03T20:59:30.230Z"
   },
   {
    "duration": 2957,
    "start_time": "2025-01-03T21:02:08.190Z"
   },
   {
    "duration": 1378,
    "start_time": "2025-01-03T21:02:11.149Z"
   },
   {
    "duration": 143,
    "start_time": "2025-01-03T21:02:12.529Z"
   },
   {
    "duration": 38,
    "start_time": "2025-01-03T21:02:12.673Z"
   },
   {
    "duration": 47,
    "start_time": "2025-01-03T21:02:12.713Z"
   },
   {
    "duration": 24,
    "start_time": "2025-01-03T21:02:12.762Z"
   },
   {
    "duration": 85,
    "start_time": "2025-01-03T21:02:12.788Z"
   },
   {
    "duration": 38,
    "start_time": "2025-01-03T21:02:12.875Z"
   },
   {
    "duration": 22,
    "start_time": "2025-01-03T21:02:12.915Z"
   },
   {
    "duration": 36,
    "start_time": "2025-01-03T21:02:12.960Z"
   },
   {
    "duration": 61,
    "start_time": "2025-01-03T21:02:12.998Z"
   },
   {
    "duration": 191,
    "start_time": "2025-01-03T21:02:13.061Z"
   },
   {
    "duration": 267,
    "start_time": "2025-01-03T21:02:13.254Z"
   },
   {
    "duration": 204,
    "start_time": "2025-01-03T21:02:13.524Z"
   },
   {
    "duration": 244,
    "start_time": "2025-01-03T21:02:13.730Z"
   },
   {
    "duration": 142,
    "start_time": "2025-01-03T21:02:13.975Z"
   },
   {
    "duration": 11,
    "start_time": "2025-01-03T21:02:14.118Z"
   },
   {
    "duration": 220,
    "start_time": "2025-01-03T21:02:14.131Z"
   },
   {
    "duration": 230,
    "start_time": "2025-01-03T21:02:14.353Z"
   },
   {
    "duration": 76,
    "start_time": "2025-01-03T21:02:14.584Z"
   },
   {
    "duration": 1405,
    "start_time": "2025-01-03T21:02:14.662Z"
   },
   {
    "duration": 227,
    "start_time": "2025-01-03T21:02:16.069Z"
   },
   {
    "duration": 28,
    "start_time": "2025-01-03T21:02:16.298Z"
   },
   {
    "duration": 270,
    "start_time": "2025-01-03T21:02:16.328Z"
   },
   {
    "duration": 256,
    "start_time": "2025-01-03T21:02:16.600Z"
   },
   {
    "duration": 285,
    "start_time": "2025-01-03T21:02:16.860Z"
   },
   {
    "duration": 146,
    "start_time": "2025-01-03T21:02:17.147Z"
   },
   {
    "duration": 286,
    "start_time": "2025-01-03T21:02:17.295Z"
   },
   {
    "duration": 17,
    "start_time": "2025-01-03T21:02:17.583Z"
   },
   {
    "duration": 3577,
    "start_time": "2025-01-03T21:02:41.088Z"
   },
   {
    "duration": 1314,
    "start_time": "2025-01-03T21:02:44.667Z"
   },
   {
    "duration": 133,
    "start_time": "2025-01-03T21:02:45.983Z"
   },
   {
    "duration": 43,
    "start_time": "2025-01-03T21:02:46.118Z"
   },
   {
    "duration": 26,
    "start_time": "2025-01-03T21:02:46.163Z"
   },
   {
    "duration": 22,
    "start_time": "2025-01-03T21:02:46.191Z"
   },
   {
    "duration": 87,
    "start_time": "2025-01-03T21:02:46.215Z"
   },
   {
    "duration": 34,
    "start_time": "2025-01-03T21:02:46.304Z"
   },
   {
    "duration": 37,
    "start_time": "2025-01-03T21:02:46.340Z"
   },
   {
    "duration": 43,
    "start_time": "2025-01-03T21:02:46.379Z"
   },
   {
    "duration": 62,
    "start_time": "2025-01-03T21:02:46.424Z"
   },
   {
    "duration": 195,
    "start_time": "2025-01-03T21:02:46.487Z"
   },
   {
    "duration": 281,
    "start_time": "2025-01-03T21:02:46.684Z"
   },
   {
    "duration": 227,
    "start_time": "2025-01-03T21:02:46.968Z"
   },
   {
    "duration": 263,
    "start_time": "2025-01-03T21:02:47.197Z"
   },
   {
    "duration": 149,
    "start_time": "2025-01-03T21:02:47.462Z"
   },
   {
    "duration": 11,
    "start_time": "2025-01-03T21:02:47.613Z"
   },
   {
    "duration": 229,
    "start_time": "2025-01-03T21:02:47.626Z"
   },
   {
    "duration": 211,
    "start_time": "2025-01-03T21:02:47.860Z"
   },
   {
    "duration": 21,
    "start_time": "2025-01-03T21:02:48.073Z"
   },
   {
    "duration": 771,
    "start_time": "2025-01-03T21:02:48.096Z"
   },
   {
    "duration": 211,
    "start_time": "2025-01-03T21:02:48.868Z"
   },
   {
    "duration": 28,
    "start_time": "2025-01-03T21:02:49.081Z"
   },
   {
    "duration": 269,
    "start_time": "2025-01-03T21:02:49.111Z"
   },
   {
    "duration": 247,
    "start_time": "2025-01-03T21:02:49.382Z"
   },
   {
    "duration": 267,
    "start_time": "2025-01-03T21:02:49.631Z"
   },
   {
    "duration": 137,
    "start_time": "2025-01-03T21:02:49.900Z"
   },
   {
    "duration": 264,
    "start_time": "2025-01-03T21:02:50.039Z"
   },
   {
    "duration": 15,
    "start_time": "2025-01-03T21:02:50.304Z"
   },
   {
    "duration": 3577,
    "start_time": "2025-01-03T21:03:36.709Z"
   },
   {
    "duration": 1334,
    "start_time": "2025-01-03T21:03:40.289Z"
   },
   {
    "duration": 157,
    "start_time": "2025-01-03T21:03:41.625Z"
   },
   {
    "duration": 38,
    "start_time": "2025-01-03T21:03:41.784Z"
   },
   {
    "duration": 44,
    "start_time": "2025-01-03T21:03:41.825Z"
   },
   {
    "duration": 24,
    "start_time": "2025-01-03T21:03:41.871Z"
   },
   {
    "duration": 89,
    "start_time": "2025-01-03T21:03:41.897Z"
   },
   {
    "duration": 37,
    "start_time": "2025-01-03T21:03:41.987Z"
   },
   {
    "duration": 41,
    "start_time": "2025-01-03T21:03:42.026Z"
   },
   {
    "duration": 37,
    "start_time": "2025-01-03T21:03:42.069Z"
   },
   {
    "duration": 57,
    "start_time": "2025-01-03T21:03:42.107Z"
   },
   {
    "duration": 180,
    "start_time": "2025-01-03T21:03:42.165Z"
   },
   {
    "duration": 255,
    "start_time": "2025-01-03T21:03:42.347Z"
   },
   {
    "duration": 201,
    "start_time": "2025-01-03T21:03:42.604Z"
   },
   {
    "duration": 246,
    "start_time": "2025-01-03T21:03:42.807Z"
   },
   {
    "duration": 141,
    "start_time": "2025-01-03T21:03:43.060Z"
   },
   {
    "duration": 12,
    "start_time": "2025-01-03T21:03:43.203Z"
   },
   {
    "duration": 234,
    "start_time": "2025-01-03T21:03:43.217Z"
   },
   {
    "duration": 194,
    "start_time": "2025-01-03T21:03:43.461Z"
   },
   {
    "duration": 21,
    "start_time": "2025-01-03T21:03:43.659Z"
   },
   {
    "duration": 722,
    "start_time": "2025-01-03T21:03:43.682Z"
   },
   {
    "duration": 215,
    "start_time": "2025-01-03T21:03:44.406Z"
   },
   {
    "duration": 41,
    "start_time": "2025-01-03T21:03:44.622Z"
   },
   {
    "duration": 272,
    "start_time": "2025-01-03T21:03:44.665Z"
   },
   {
    "duration": 257,
    "start_time": "2025-01-03T21:03:44.939Z"
   },
   {
    "duration": 286,
    "start_time": "2025-01-03T21:03:45.198Z"
   },
   {
    "duration": 153,
    "start_time": "2025-01-03T21:03:45.486Z"
   },
   {
    "duration": 281,
    "start_time": "2025-01-03T21:03:45.642Z"
   },
   {
    "duration": 16,
    "start_time": "2025-01-03T21:03:45.925Z"
   },
   {
    "duration": 3668,
    "start_time": "2025-01-03T21:04:46.617Z"
   },
   {
    "duration": 1295,
    "start_time": "2025-01-03T21:04:50.288Z"
   },
   {
    "duration": 144,
    "start_time": "2025-01-03T21:04:51.584Z"
   },
   {
    "duration": 47,
    "start_time": "2025-01-03T21:04:51.730Z"
   },
   {
    "duration": 29,
    "start_time": "2025-01-03T21:04:51.780Z"
   },
   {
    "duration": 52,
    "start_time": "2025-01-03T21:04:51.811Z"
   },
   {
    "duration": 70,
    "start_time": "2025-01-03T21:04:51.864Z"
   },
   {
    "duration": 58,
    "start_time": "2025-01-03T21:04:51.937Z"
   },
   {
    "duration": 25,
    "start_time": "2025-01-03T21:04:51.998Z"
   },
   {
    "duration": 165,
    "start_time": "2025-01-03T21:04:52.025Z"
   },
   {
    "duration": 0,
    "start_time": "2025-01-03T21:04:52.194Z"
   },
   {
    "duration": 1,
    "start_time": "2025-01-03T21:04:52.195Z"
   },
   {
    "duration": 0,
    "start_time": "2025-01-03T21:04:52.198Z"
   },
   {
    "duration": 0,
    "start_time": "2025-01-03T21:04:52.200Z"
   },
   {
    "duration": 0,
    "start_time": "2025-01-03T21:04:52.201Z"
   },
   {
    "duration": 0,
    "start_time": "2025-01-03T21:04:52.203Z"
   },
   {
    "duration": 0,
    "start_time": "2025-01-03T21:04:52.204Z"
   },
   {
    "duration": 0,
    "start_time": "2025-01-03T21:04:52.207Z"
   },
   {
    "duration": 0,
    "start_time": "2025-01-03T21:04:52.209Z"
   },
   {
    "duration": 0,
    "start_time": "2025-01-03T21:04:52.210Z"
   },
   {
    "duration": 0,
    "start_time": "2025-01-03T21:04:52.211Z"
   },
   {
    "duration": 0,
    "start_time": "2025-01-03T21:04:52.212Z"
   },
   {
    "duration": 0,
    "start_time": "2025-01-03T21:04:52.214Z"
   },
   {
    "duration": 0,
    "start_time": "2025-01-03T21:04:52.215Z"
   },
   {
    "duration": 1,
    "start_time": "2025-01-03T21:04:52.216Z"
   },
   {
    "duration": 0,
    "start_time": "2025-01-03T21:04:52.260Z"
   },
   {
    "duration": 0,
    "start_time": "2025-01-03T21:04:52.262Z"
   },
   {
    "duration": 0,
    "start_time": "2025-01-03T21:04:52.263Z"
   },
   {
    "duration": 0,
    "start_time": "2025-01-03T21:04:52.264Z"
   },
   {
    "duration": 3581,
    "start_time": "2025-01-03T21:05:14.749Z"
   },
   {
    "duration": 1353,
    "start_time": "2025-01-03T21:05:18.333Z"
   },
   {
    "duration": 132,
    "start_time": "2025-01-03T21:05:19.688Z"
   },
   {
    "duration": 37,
    "start_time": "2025-01-03T21:05:19.822Z"
   },
   {
    "duration": 29,
    "start_time": "2025-01-03T21:05:19.862Z"
   },
   {
    "duration": 28,
    "start_time": "2025-01-03T21:05:19.893Z"
   },
   {
    "duration": 99,
    "start_time": "2025-01-03T21:05:19.922Z"
   },
   {
    "duration": 51,
    "start_time": "2025-01-03T21:05:20.023Z"
   },
   {
    "duration": 21,
    "start_time": "2025-01-03T21:05:20.076Z"
   },
   {
    "duration": 144,
    "start_time": "2025-01-03T21:05:20.099Z"
   },
   {
    "duration": 0,
    "start_time": "2025-01-03T21:05:20.245Z"
   },
   {
    "duration": 0,
    "start_time": "2025-01-03T21:05:20.246Z"
   },
   {
    "duration": 0,
    "start_time": "2025-01-03T21:05:20.260Z"
   },
   {
    "duration": 0,
    "start_time": "2025-01-03T21:05:20.262Z"
   },
   {
    "duration": 0,
    "start_time": "2025-01-03T21:05:20.263Z"
   },
   {
    "duration": 0,
    "start_time": "2025-01-03T21:05:20.264Z"
   },
   {
    "duration": 0,
    "start_time": "2025-01-03T21:05:20.266Z"
   },
   {
    "duration": 0,
    "start_time": "2025-01-03T21:05:20.268Z"
   },
   {
    "duration": 0,
    "start_time": "2025-01-03T21:05:20.269Z"
   },
   {
    "duration": 0,
    "start_time": "2025-01-03T21:05:20.271Z"
   },
   {
    "duration": 0,
    "start_time": "2025-01-03T21:05:20.272Z"
   },
   {
    "duration": 0,
    "start_time": "2025-01-03T21:05:20.273Z"
   },
   {
    "duration": 0,
    "start_time": "2025-01-03T21:05:20.274Z"
   },
   {
    "duration": 0,
    "start_time": "2025-01-03T21:05:20.275Z"
   },
   {
    "duration": 0,
    "start_time": "2025-01-03T21:05:20.276Z"
   },
   {
    "duration": 0,
    "start_time": "2025-01-03T21:05:20.277Z"
   },
   {
    "duration": 0,
    "start_time": "2025-01-03T21:05:20.278Z"
   },
   {
    "duration": 0,
    "start_time": "2025-01-03T21:05:20.280Z"
   },
   {
    "duration": 0,
    "start_time": "2025-01-03T21:05:20.281Z"
   },
   {
    "duration": 29,
    "start_time": "2025-01-03T21:12:27.647Z"
   },
   {
    "duration": 3739,
    "start_time": "2025-01-03T21:13:17.224Z"
   },
   {
    "duration": 1311,
    "start_time": "2025-01-03T21:13:20.966Z"
   },
   {
    "duration": 127,
    "start_time": "2025-01-03T21:13:22.281Z"
   },
   {
    "duration": 34,
    "start_time": "2025-01-03T21:13:22.411Z"
   },
   {
    "duration": 34,
    "start_time": "2025-01-03T21:13:22.446Z"
   },
   {
    "duration": 24,
    "start_time": "2025-01-03T21:13:22.482Z"
   },
   {
    "duration": 92,
    "start_time": "2025-01-03T21:13:22.508Z"
   },
   {
    "duration": 36,
    "start_time": "2025-01-03T21:13:22.603Z"
   },
   {
    "duration": 37,
    "start_time": "2025-01-03T21:13:22.640Z"
   },
   {
    "duration": 42,
    "start_time": "2025-01-03T21:13:22.679Z"
   },
   {
    "duration": 56,
    "start_time": "2025-01-03T21:13:22.723Z"
   },
   {
    "duration": 176,
    "start_time": "2025-01-03T21:13:22.781Z"
   },
   {
    "duration": 247,
    "start_time": "2025-01-03T21:13:22.961Z"
   },
   {
    "duration": 187,
    "start_time": "2025-01-03T21:13:23.209Z"
   },
   {
    "duration": 243,
    "start_time": "2025-01-03T21:13:23.398Z"
   },
   {
    "duration": 137,
    "start_time": "2025-01-03T21:13:23.643Z"
   },
   {
    "duration": 10,
    "start_time": "2025-01-03T21:13:23.782Z"
   },
   {
    "duration": 226,
    "start_time": "2025-01-03T21:13:23.794Z"
   },
   {
    "duration": 185,
    "start_time": "2025-01-03T21:13:24.021Z"
   },
   {
    "duration": 20,
    "start_time": "2025-01-03T21:13:24.207Z"
   },
   {
    "duration": 732,
    "start_time": "2025-01-03T21:13:24.228Z"
   },
   {
    "duration": 209,
    "start_time": "2025-01-03T21:13:24.961Z"
   },
   {
    "duration": 31,
    "start_time": "2025-01-03T21:13:25.173Z"
   },
   {
    "duration": 276,
    "start_time": "2025-01-03T21:13:25.206Z"
   },
   {
    "duration": 247,
    "start_time": "2025-01-03T21:13:25.485Z"
   },
   {
    "duration": 268,
    "start_time": "2025-01-03T21:13:25.734Z"
   },
   {
    "duration": 150,
    "start_time": "2025-01-03T21:13:26.004Z"
   },
   {
    "duration": 270,
    "start_time": "2025-01-03T21:13:26.160Z"
   },
   {
    "duration": 15,
    "start_time": "2025-01-03T21:13:26.432Z"
   },
   {
    "duration": 3356,
    "start_time": "2025-01-03T21:13:36.249Z"
   },
   {
    "duration": 2153,
    "start_time": "2025-01-03T21:13:39.608Z"
   },
   {
    "duration": 155,
    "start_time": "2025-01-03T21:13:41.764Z"
   },
   {
    "duration": 39,
    "start_time": "2025-01-03T21:13:41.922Z"
   },
   {
    "duration": 28,
    "start_time": "2025-01-03T21:13:41.965Z"
   },
   {
    "duration": 24,
    "start_time": "2025-01-03T21:13:41.995Z"
   },
   {
    "duration": 96,
    "start_time": "2025-01-03T21:13:42.021Z"
   },
   {
    "duration": 54,
    "start_time": "2025-01-03T21:13:42.119Z"
   },
   {
    "duration": 20,
    "start_time": "2025-01-03T21:13:42.176Z"
   },
   {
    "duration": 72,
    "start_time": "2025-01-03T21:13:42.198Z"
   },
   {
    "duration": 38,
    "start_time": "2025-01-03T21:13:42.272Z"
   },
   {
    "duration": 190,
    "start_time": "2025-01-03T21:13:42.312Z"
   },
   {
    "duration": 251,
    "start_time": "2025-01-03T21:13:42.503Z"
   },
   {
    "duration": 198,
    "start_time": "2025-01-03T21:13:42.762Z"
   },
   {
    "duration": 237,
    "start_time": "2025-01-03T21:13:42.962Z"
   },
   {
    "duration": 141,
    "start_time": "2025-01-03T21:13:43.201Z"
   },
   {
    "duration": 22,
    "start_time": "2025-01-03T21:13:43.344Z"
   },
   {
    "duration": 216,
    "start_time": "2025-01-03T21:13:43.367Z"
   },
   {
    "duration": 186,
    "start_time": "2025-01-03T21:13:43.585Z"
   },
   {
    "duration": 20,
    "start_time": "2025-01-03T21:13:43.772Z"
   },
   {
    "duration": 740,
    "start_time": "2025-01-03T21:13:43.794Z"
   },
   {
    "duration": 208,
    "start_time": "2025-01-03T21:13:44.536Z"
   },
   {
    "duration": 40,
    "start_time": "2025-01-03T21:13:44.745Z"
   },
   {
    "duration": 265,
    "start_time": "2025-01-03T21:13:44.787Z"
   },
   {
    "duration": 254,
    "start_time": "2025-01-03T21:13:45.054Z"
   },
   {
    "duration": 266,
    "start_time": "2025-01-03T21:13:45.310Z"
   },
   {
    "duration": 145,
    "start_time": "2025-01-03T21:13:45.578Z"
   },
   {
    "duration": 268,
    "start_time": "2025-01-03T21:13:45.724Z"
   },
   {
    "duration": 17,
    "start_time": "2025-01-03T21:13:45.993Z"
   },
   {
    "duration": 2907,
    "start_time": "2025-01-03T21:14:06.163Z"
   },
   {
    "duration": 1541,
    "start_time": "2025-01-03T21:14:09.072Z"
   },
   {
    "duration": 193,
    "start_time": "2025-01-03T21:14:10.615Z"
   },
   {
    "duration": 36,
    "start_time": "2025-01-03T21:14:10.860Z"
   },
   {
    "duration": 78,
    "start_time": "2025-01-03T21:14:10.898Z"
   },
   {
    "duration": 23,
    "start_time": "2025-01-03T21:14:10.978Z"
   },
   {
    "duration": 165,
    "start_time": "2025-01-03T21:14:11.002Z"
   },
   {
    "duration": 91,
    "start_time": "2025-01-03T21:14:11.169Z"
   },
   {
    "duration": 21,
    "start_time": "2025-01-03T21:14:11.261Z"
   },
   {
    "duration": 96,
    "start_time": "2025-01-03T21:14:11.284Z"
   },
   {
    "duration": 96,
    "start_time": "2025-01-03T21:14:11.381Z"
   },
   {
    "duration": 267,
    "start_time": "2025-01-03T21:14:11.479Z"
   },
   {
    "duration": 246,
    "start_time": "2025-01-03T21:14:11.763Z"
   },
   {
    "duration": 201,
    "start_time": "2025-01-03T21:14:12.012Z"
   },
   {
    "duration": 245,
    "start_time": "2025-01-03T21:14:12.215Z"
   },
   {
    "duration": 141,
    "start_time": "2025-01-03T21:14:12.462Z"
   },
   {
    "duration": 12,
    "start_time": "2025-01-03T21:14:12.604Z"
   },
   {
    "duration": 242,
    "start_time": "2025-01-03T21:14:12.618Z"
   },
   {
    "duration": 200,
    "start_time": "2025-01-03T21:14:12.862Z"
   },
   {
    "duration": 22,
    "start_time": "2025-01-03T21:14:13.064Z"
   },
   {
    "duration": 771,
    "start_time": "2025-01-03T21:14:13.088Z"
   },
   {
    "duration": 213,
    "start_time": "2025-01-03T21:14:13.861Z"
   },
   {
    "duration": 29,
    "start_time": "2025-01-03T21:14:14.076Z"
   },
   {
    "duration": 276,
    "start_time": "2025-01-03T21:14:14.107Z"
   },
   {
    "duration": 249,
    "start_time": "2025-01-03T21:14:14.385Z"
   },
   {
    "duration": 269,
    "start_time": "2025-01-03T21:14:14.636Z"
   },
   {
    "duration": 145,
    "start_time": "2025-01-03T21:14:14.907Z"
   },
   {
    "duration": 266,
    "start_time": "2025-01-03T21:14:15.054Z"
   },
   {
    "duration": 15,
    "start_time": "2025-01-03T21:14:15.322Z"
   },
   {
    "duration": 9,
    "start_time": "2025-01-03T21:16:54.056Z"
   },
   {
    "duration": 376,
    "start_time": "2025-01-03T21:17:49.357Z"
   },
   {
    "duration": 7,
    "start_time": "2025-01-03T21:19:43.176Z"
   },
   {
    "duration": 126,
    "start_time": "2025-01-03T21:20:21.716Z"
   },
   {
    "duration": 147,
    "start_time": "2025-01-03T21:21:12.866Z"
   },
   {
    "duration": 230,
    "start_time": "2025-01-03T21:21:24.066Z"
   },
   {
    "duration": 136,
    "start_time": "2025-01-03T21:21:45.174Z"
   },
   {
    "duration": 3648,
    "start_time": "2025-01-03T21:22:03.821Z"
   },
   {
    "duration": 1294,
    "start_time": "2025-01-03T21:22:07.472Z"
   },
   {
    "duration": 136,
    "start_time": "2025-01-03T21:22:08.768Z"
   },
   {
    "duration": 55,
    "start_time": "2025-01-03T21:22:08.906Z"
   },
   {
    "duration": 28,
    "start_time": "2025-01-03T21:22:08.964Z"
   },
   {
    "duration": 24,
    "start_time": "2025-01-03T21:22:08.994Z"
   },
   {
    "duration": 95,
    "start_time": "2025-01-03T21:22:09.020Z"
   },
   {
    "duration": 56,
    "start_time": "2025-01-03T21:22:09.116Z"
   },
   {
    "duration": 23,
    "start_time": "2025-01-03T21:22:09.174Z"
   },
   {
    "duration": 64,
    "start_time": "2025-01-03T21:22:09.199Z"
   },
   {
    "duration": 44,
    "start_time": "2025-01-03T21:22:09.265Z"
   },
   {
    "duration": 202,
    "start_time": "2025-01-03T21:22:09.311Z"
   },
   {
    "duration": 268,
    "start_time": "2025-01-03T21:22:09.515Z"
   },
   {
    "duration": 204,
    "start_time": "2025-01-03T21:22:09.786Z"
   },
   {
    "duration": 159,
    "start_time": "2025-01-03T21:22:09.992Z"
   },
   {
    "duration": 245,
    "start_time": "2025-01-03T21:22:10.159Z"
   },
   {
    "duration": 145,
    "start_time": "2025-01-03T21:22:10.407Z"
   },
   {
    "duration": 13,
    "start_time": "2025-01-03T21:22:10.554Z"
   },
   {
    "duration": 225,
    "start_time": "2025-01-03T21:22:10.569Z"
   },
   {
    "duration": 268,
    "start_time": "2025-01-03T21:22:10.796Z"
   },
   {
    "duration": 19,
    "start_time": "2025-01-03T21:22:11.066Z"
   },
   {
    "duration": 620,
    "start_time": "2025-01-03T21:22:11.086Z"
   },
   {
    "duration": 222,
    "start_time": "2025-01-03T21:22:11.709Z"
   },
   {
    "duration": 44,
    "start_time": "2025-01-03T21:22:11.933Z"
   },
   {
    "duration": 260,
    "start_time": "2025-01-03T21:22:11.979Z"
   },
   {
    "duration": 251,
    "start_time": "2025-01-03T21:22:12.241Z"
   },
   {
    "duration": 269,
    "start_time": "2025-01-03T21:22:12.494Z"
   },
   {
    "duration": 149,
    "start_time": "2025-01-03T21:22:12.764Z"
   },
   {
    "duration": 262,
    "start_time": "2025-01-03T21:22:12.915Z"
   },
   {
    "duration": 15,
    "start_time": "2025-01-03T21:22:13.179Z"
   },
   {
    "duration": 151,
    "start_time": "2025-01-03T21:22:13.196Z"
   },
   {
    "duration": 4039,
    "start_time": "2025-01-03T21:22:17.931Z"
   },
   {
    "duration": 1609,
    "start_time": "2025-01-03T21:22:21.973Z"
   },
   {
    "duration": 128,
    "start_time": "2025-01-03T21:22:23.583Z"
   },
   {
    "duration": 34,
    "start_time": "2025-01-03T21:22:23.713Z"
   },
   {
    "duration": 35,
    "start_time": "2025-01-03T21:22:23.749Z"
   },
   {
    "duration": 34,
    "start_time": "2025-01-03T21:22:23.786Z"
   },
   {
    "duration": 77,
    "start_time": "2025-01-03T21:22:23.822Z"
   },
   {
    "duration": 35,
    "start_time": "2025-01-03T21:22:23.900Z"
   },
   {
    "duration": 45,
    "start_time": "2025-01-03T21:22:23.937Z"
   },
   {
    "duration": 48,
    "start_time": "2025-01-03T21:22:23.984Z"
   },
   {
    "duration": 45,
    "start_time": "2025-01-03T21:22:24.034Z"
   },
   {
    "duration": 179,
    "start_time": "2025-01-03T21:22:24.081Z"
   },
   {
    "duration": 244,
    "start_time": "2025-01-03T21:22:24.261Z"
   },
   {
    "duration": 200,
    "start_time": "2025-01-03T21:22:24.508Z"
   },
   {
    "duration": 154,
    "start_time": "2025-01-03T21:22:24.709Z"
   },
   {
    "duration": 241,
    "start_time": "2025-01-03T21:22:24.865Z"
   },
   {
    "duration": 148,
    "start_time": "2025-01-03T21:22:25.108Z"
   },
   {
    "duration": 11,
    "start_time": "2025-01-03T21:22:25.260Z"
   },
   {
    "duration": 218,
    "start_time": "2025-01-03T21:22:25.272Z"
   },
   {
    "duration": 283,
    "start_time": "2025-01-03T21:22:25.492Z"
   },
   {
    "duration": 22,
    "start_time": "2025-01-03T21:22:25.777Z"
   },
   {
    "duration": 675,
    "start_time": "2025-01-03T21:22:25.801Z"
   },
   {
    "duration": 222,
    "start_time": "2025-01-03T21:22:26.478Z"
   },
   {
    "duration": 31,
    "start_time": "2025-01-03T21:22:26.702Z"
   },
   {
    "duration": 282,
    "start_time": "2025-01-03T21:22:26.735Z"
   },
   {
    "duration": 258,
    "start_time": "2025-01-03T21:22:27.019Z"
   },
   {
    "duration": 273,
    "start_time": "2025-01-03T21:22:27.279Z"
   },
   {
    "duration": 147,
    "start_time": "2025-01-03T21:22:27.554Z"
   },
   {
    "duration": 277,
    "start_time": "2025-01-03T21:22:27.702Z"
   },
   {
    "duration": 15,
    "start_time": "2025-01-03T21:22:27.981Z"
   },
   {
    "duration": 174,
    "start_time": "2025-01-03T21:22:45.651Z"
   },
   {
    "duration": 193,
    "start_time": "2025-01-03T21:22:50.717Z"
   },
   {
    "duration": 236,
    "start_time": "2025-01-03T21:23:01.279Z"
   },
   {
    "duration": 150,
    "start_time": "2025-01-03T21:23:32.875Z"
   },
   {
    "duration": 133,
    "start_time": "2025-01-03T21:23:55.365Z"
   },
   {
    "duration": 131,
    "start_time": "2025-01-03T21:23:58.839Z"
   },
   {
    "duration": 134,
    "start_time": "2025-01-03T21:24:12.436Z"
   },
   {
    "duration": 119,
    "start_time": "2025-01-03T21:24:16.332Z"
   },
   {
    "duration": 119,
    "start_time": "2025-01-03T21:24:24.134Z"
   },
   {
    "duration": 120,
    "start_time": "2025-01-03T21:24:30.834Z"
   },
   {
    "duration": 121,
    "start_time": "2025-01-03T21:24:52.968Z"
   },
   {
    "duration": 194,
    "start_time": "2025-01-03T21:25:06.436Z"
   },
   {
    "duration": 124,
    "start_time": "2025-01-03T21:25:50.178Z"
   },
   {
    "duration": 130,
    "start_time": "2025-01-03T21:26:00.660Z"
   },
   {
    "duration": 230,
    "start_time": "2025-01-03T21:26:09.090Z"
   },
   {
    "duration": 125,
    "start_time": "2025-01-03T21:26:22.736Z"
   },
   {
    "duration": 123,
    "start_time": "2025-01-03T21:26:26.232Z"
   },
   {
    "duration": 130,
    "start_time": "2025-01-03T21:26:44.860Z"
   },
   {
    "duration": 126,
    "start_time": "2025-01-03T21:26:54.964Z"
   },
   {
    "duration": 7,
    "start_time": "2025-01-03T21:27:03.060Z"
   },
   {
    "duration": 127,
    "start_time": "2025-01-03T21:27:05.839Z"
   },
   {
    "duration": 235,
    "start_time": "2025-01-03T21:28:12.003Z"
   },
   {
    "duration": 234,
    "start_time": "2025-01-03T21:28:23.218Z"
   },
   {
    "duration": 131,
    "start_time": "2025-01-03T21:28:44.961Z"
   },
   {
    "duration": 234,
    "start_time": "2025-01-03T21:29:10.570Z"
   },
   {
    "duration": 130,
    "start_time": "2025-01-03T21:29:16.871Z"
   },
   {
    "duration": 233,
    "start_time": "2025-01-03T21:31:19.386Z"
   },
   {
    "duration": 75,
    "start_time": "2025-01-03T21:32:55.047Z"
   },
   {
    "duration": 346,
    "start_time": "2025-01-03T21:32:59.538Z"
   },
   {
    "duration": 256,
    "start_time": "2025-01-03T21:33:04.402Z"
   },
   {
    "duration": 254,
    "start_time": "2025-01-03T21:33:39.565Z"
   },
   {
    "duration": 92,
    "start_time": "2025-01-03T21:34:51.396Z"
   },
   {
    "duration": 112,
    "start_time": "2025-01-03T21:35:05.890Z"
   },
   {
    "duration": 88,
    "start_time": "2025-01-03T21:35:25.637Z"
   },
   {
    "duration": 74,
    "start_time": "2025-01-03T21:36:40.098Z"
   },
   {
    "duration": 2750,
    "start_time": "2025-01-03T21:36:59.713Z"
   },
   {
    "duration": 1260,
    "start_time": "2025-01-03T21:37:02.466Z"
   },
   {
    "duration": 137,
    "start_time": "2025-01-03T21:37:03.729Z"
   },
   {
    "duration": 35,
    "start_time": "2025-01-03T21:37:03.868Z"
   },
   {
    "duration": 27,
    "start_time": "2025-01-03T21:37:03.905Z"
   },
   {
    "duration": 48,
    "start_time": "2025-01-03T21:37:03.934Z"
   },
   {
    "duration": 77,
    "start_time": "2025-01-03T21:37:03.983Z"
   },
   {
    "duration": 35,
    "start_time": "2025-01-03T21:37:04.062Z"
   },
   {
    "duration": 22,
    "start_time": "2025-01-03T21:37:04.098Z"
   },
   {
    "duration": 72,
    "start_time": "2025-01-03T21:37:04.122Z"
   },
   {
    "duration": 38,
    "start_time": "2025-01-03T21:37:04.196Z"
   },
   {
    "duration": 189,
    "start_time": "2025-01-03T21:37:04.235Z"
   },
   {
    "duration": 245,
    "start_time": "2025-01-03T21:37:04.427Z"
   },
   {
    "duration": 201,
    "start_time": "2025-01-03T21:37:04.674Z"
   },
   {
    "duration": 146,
    "start_time": "2025-01-03T21:37:04.877Z"
   },
   {
    "duration": 81,
    "start_time": "2025-01-03T21:37:05.025Z"
   },
   {
    "duration": 0,
    "start_time": "2025-01-03T21:37:05.108Z"
   },
   {
    "duration": 0,
    "start_time": "2025-01-03T21:37:05.110Z"
   },
   {
    "duration": 0,
    "start_time": "2025-01-03T21:37:05.112Z"
   },
   {
    "duration": 0,
    "start_time": "2025-01-03T21:37:05.114Z"
   },
   {
    "duration": 0,
    "start_time": "2025-01-03T21:37:05.116Z"
   },
   {
    "duration": 0,
    "start_time": "2025-01-03T21:37:05.117Z"
   },
   {
    "duration": 0,
    "start_time": "2025-01-03T21:37:05.120Z"
   },
   {
    "duration": 0,
    "start_time": "2025-01-03T21:37:05.121Z"
   },
   {
    "duration": 0,
    "start_time": "2025-01-03T21:37:05.123Z"
   },
   {
    "duration": 0,
    "start_time": "2025-01-03T21:37:05.124Z"
   },
   {
    "duration": 0,
    "start_time": "2025-01-03T21:37:05.126Z"
   },
   {
    "duration": 0,
    "start_time": "2025-01-03T21:37:05.128Z"
   },
   {
    "duration": 0,
    "start_time": "2025-01-03T21:37:05.129Z"
   },
   {
    "duration": 0,
    "start_time": "2025-01-03T21:37:05.131Z"
   },
   {
    "duration": 95,
    "start_time": "2025-01-03T21:37:57.534Z"
   },
   {
    "duration": 111,
    "start_time": "2025-01-03T21:38:03.776Z"
   },
   {
    "duration": 78,
    "start_time": "2025-01-03T21:38:08.384Z"
   },
   {
    "duration": 1197,
    "start_time": "2025-01-03T21:38:34.630Z"
   },
   {
    "duration": 1192,
    "start_time": "2025-01-03T21:39:18.932Z"
   },
   {
    "duration": 27,
    "start_time": "2025-01-03T21:45:30.319Z"
   },
   {
    "duration": 24,
    "start_time": "2025-01-03T21:45:34.090Z"
   },
   {
    "duration": 21,
    "start_time": "2025-01-03T21:45:38.584Z"
   },
   {
    "duration": 22,
    "start_time": "2025-01-03T21:45:44.354Z"
   },
   {
    "duration": 23,
    "start_time": "2025-01-03T21:45:54.499Z"
   },
   {
    "duration": 531,
    "start_time": "2025-01-03T21:45:59.923Z"
   },
   {
    "duration": 457,
    "start_time": "2025-01-03T21:48:10.686Z"
   },
   {
    "duration": 261,
    "start_time": "2025-01-03T21:48:46.187Z"
   },
   {
    "duration": 2838,
    "start_time": "2025-01-03T21:49:46.198Z"
   },
   {
    "duration": 1250,
    "start_time": "2025-01-03T21:49:49.038Z"
   },
   {
    "duration": 130,
    "start_time": "2025-01-03T21:49:50.290Z"
   },
   {
    "duration": 41,
    "start_time": "2025-01-03T21:49:50.422Z"
   },
   {
    "duration": 27,
    "start_time": "2025-01-03T21:49:50.466Z"
   },
   {
    "duration": 26,
    "start_time": "2025-01-03T21:49:50.495Z"
   },
   {
    "duration": 90,
    "start_time": "2025-01-03T21:49:50.523Z"
   },
   {
    "duration": 33,
    "start_time": "2025-01-03T21:49:50.615Z"
   },
   {
    "duration": 22,
    "start_time": "2025-01-03T21:49:50.659Z"
   },
   {
    "duration": 41,
    "start_time": "2025-01-03T21:49:50.683Z"
   },
   {
    "duration": 62,
    "start_time": "2025-01-03T21:49:50.726Z"
   },
   {
    "duration": 184,
    "start_time": "2025-01-03T21:49:50.790Z"
   },
   {
    "duration": 251,
    "start_time": "2025-01-03T21:49:50.975Z"
   },
   {
    "duration": 198,
    "start_time": "2025-01-03T21:49:51.229Z"
   },
   {
    "duration": 139,
    "start_time": "2025-01-03T21:49:51.428Z"
   },
   {
    "duration": 125,
    "start_time": "2025-01-03T21:49:51.569Z"
   },
   {
    "duration": 0,
    "start_time": "2025-01-03T21:49:51.696Z"
   },
   {
    "duration": 0,
    "start_time": "2025-01-03T21:49:51.698Z"
   },
   {
    "duration": 0,
    "start_time": "2025-01-03T21:49:51.699Z"
   },
   {
    "duration": 0,
    "start_time": "2025-01-03T21:49:51.701Z"
   },
   {
    "duration": 0,
    "start_time": "2025-01-03T21:49:51.702Z"
   },
   {
    "duration": 0,
    "start_time": "2025-01-03T21:49:51.704Z"
   },
   {
    "duration": 0,
    "start_time": "2025-01-03T21:49:51.706Z"
   },
   {
    "duration": 0,
    "start_time": "2025-01-03T21:49:51.707Z"
   },
   {
    "duration": 0,
    "start_time": "2025-01-03T21:49:51.709Z"
   },
   {
    "duration": 0,
    "start_time": "2025-01-03T21:49:51.710Z"
   },
   {
    "duration": 0,
    "start_time": "2025-01-03T21:49:51.712Z"
   },
   {
    "duration": 0,
    "start_time": "2025-01-03T21:49:51.714Z"
   },
   {
    "duration": 0,
    "start_time": "2025-01-03T21:49:51.716Z"
   },
   {
    "duration": 0,
    "start_time": "2025-01-03T21:49:51.717Z"
   },
   {
    "duration": 32,
    "start_time": "2025-01-03T21:50:23.782Z"
   },
   {
    "duration": 256,
    "start_time": "2025-01-03T21:50:26.260Z"
   },
   {
    "duration": 1137,
    "start_time": "2025-01-03T22:03:22.779Z"
   },
   {
    "duration": 223,
    "start_time": "2025-01-03T22:03:38.095Z"
   },
   {
    "duration": 205,
    "start_time": "2025-01-03T22:05:14.225Z"
   },
   {
    "duration": 3261,
    "start_time": "2025-01-03T22:05:22.111Z"
   },
   {
    "duration": 1512,
    "start_time": "2025-01-03T22:05:25.375Z"
   },
   {
    "duration": 131,
    "start_time": "2025-01-03T22:05:26.889Z"
   },
   {
    "duration": 36,
    "start_time": "2025-01-03T22:05:27.022Z"
   },
   {
    "duration": 27,
    "start_time": "2025-01-03T22:05:27.059Z"
   },
   {
    "duration": 23,
    "start_time": "2025-01-03T22:05:27.088Z"
   },
   {
    "duration": 92,
    "start_time": "2025-01-03T22:05:27.112Z"
   },
   {
    "duration": 35,
    "start_time": "2025-01-03T22:05:27.206Z"
   },
   {
    "duration": 37,
    "start_time": "2025-01-03T22:05:27.242Z"
   },
   {
    "duration": 43,
    "start_time": "2025-01-03T22:05:27.282Z"
   },
   {
    "duration": 56,
    "start_time": "2025-01-03T22:05:27.327Z"
   },
   {
    "duration": 176,
    "start_time": "2025-01-03T22:05:27.385Z"
   },
   {
    "duration": 241,
    "start_time": "2025-01-03T22:05:27.563Z"
   },
   {
    "duration": 201,
    "start_time": "2025-01-03T22:05:27.805Z"
   },
   {
    "duration": 138,
    "start_time": "2025-01-03T22:05:28.008Z"
   },
   {
    "duration": 224,
    "start_time": "2025-01-03T22:05:28.159Z"
   },
   {
    "duration": 139,
    "start_time": "2025-01-03T22:05:28.385Z"
   },
   {
    "duration": 15,
    "start_time": "2025-01-03T22:05:28.526Z"
   },
   {
    "duration": 240,
    "start_time": "2025-01-03T22:05:28.543Z"
   },
   {
    "duration": 285,
    "start_time": "2025-01-03T22:05:28.785Z"
   },
   {
    "duration": 22,
    "start_time": "2025-01-03T22:05:29.072Z"
   },
   {
    "duration": 690,
    "start_time": "2025-01-03T22:05:29.096Z"
   },
   {
    "duration": 214,
    "start_time": "2025-01-03T22:05:29.788Z"
   },
   {
    "duration": 29,
    "start_time": "2025-01-03T22:05:30.003Z"
   },
   {
    "duration": 287,
    "start_time": "2025-01-03T22:05:30.034Z"
   },
   {
    "duration": 243,
    "start_time": "2025-01-03T22:05:30.323Z"
   },
   {
    "duration": 259,
    "start_time": "2025-01-03T22:05:30.567Z"
   },
   {
    "duration": 140,
    "start_time": "2025-01-03T22:05:30.829Z"
   },
   {
    "duration": 253,
    "start_time": "2025-01-03T22:05:30.971Z"
   },
   {
    "duration": 15,
    "start_time": "2025-01-03T22:05:31.225Z"
   },
   {
    "duration": 212,
    "start_time": "2025-01-03T22:05:32.329Z"
   },
   {
    "duration": 207,
    "start_time": "2025-01-03T22:05:34.071Z"
   },
   {
    "duration": 230,
    "start_time": "2025-01-03T22:05:39.543Z"
   },
   {
    "duration": 205,
    "start_time": "2025-01-03T22:05:48.405Z"
   },
   {
    "duration": 200,
    "start_time": "2025-01-03T22:06:06.475Z"
   },
   {
    "duration": 201,
    "start_time": "2025-01-03T22:12:43.668Z"
   },
   {
    "duration": 2802,
    "start_time": "2025-01-03T22:12:55.261Z"
   },
   {
    "duration": 1333,
    "start_time": "2025-01-03T22:12:58.065Z"
   },
   {
    "duration": 127,
    "start_time": "2025-01-03T22:12:59.400Z"
   },
   {
    "duration": 35,
    "start_time": "2025-01-03T22:12:59.529Z"
   },
   {
    "duration": 26,
    "start_time": "2025-01-03T22:12:59.566Z"
   },
   {
    "duration": 22,
    "start_time": "2025-01-03T22:12:59.594Z"
   },
   {
    "duration": 88,
    "start_time": "2025-01-03T22:12:59.618Z"
   },
   {
    "duration": 52,
    "start_time": "2025-01-03T22:12:59.709Z"
   },
   {
    "duration": 22,
    "start_time": "2025-01-03T22:12:59.763Z"
   },
   {
    "duration": 42,
    "start_time": "2025-01-03T22:12:59.786Z"
   },
   {
    "duration": 58,
    "start_time": "2025-01-03T22:12:59.830Z"
   },
   {
    "duration": 181,
    "start_time": "2025-01-03T22:12:59.890Z"
   },
   {
    "duration": 245,
    "start_time": "2025-01-03T22:13:00.073Z"
   },
   {
    "duration": 204,
    "start_time": "2025-01-03T22:13:00.321Z"
   },
   {
    "duration": 134,
    "start_time": "2025-01-03T22:13:00.527Z"
   },
   {
    "duration": 220,
    "start_time": "2025-01-03T22:13:00.663Z"
   },
   {
    "duration": 126,
    "start_time": "2025-01-03T22:13:00.885Z"
   },
   {
    "duration": 10,
    "start_time": "2025-01-03T22:13:01.012Z"
   },
   {
    "duration": 224,
    "start_time": "2025-01-03T22:13:01.023Z"
   },
   {
    "duration": 263,
    "start_time": "2025-01-03T22:13:01.248Z"
   },
   {
    "duration": 17,
    "start_time": "2025-01-03T22:13:01.512Z"
   },
   {
    "duration": 647,
    "start_time": "2025-01-03T22:13:01.531Z"
   },
   {
    "duration": 202,
    "start_time": "2025-01-03T22:13:02.180Z"
   },
   {
    "duration": 27,
    "start_time": "2025-01-03T22:13:02.384Z"
   },
   {
    "duration": 292,
    "start_time": "2025-01-03T22:13:02.412Z"
   },
   {
    "duration": 241,
    "start_time": "2025-01-03T22:13:02.706Z"
   },
   {
    "duration": 284,
    "start_time": "2025-01-03T22:13:02.949Z"
   },
   {
    "duration": 148,
    "start_time": "2025-01-03T22:13:03.234Z"
   },
   {
    "duration": 282,
    "start_time": "2025-01-03T22:13:03.384Z"
   },
   {
    "duration": 16,
    "start_time": "2025-01-03T22:13:03.668Z"
   },
   {
    "duration": 10,
    "start_time": "2025-01-03T22:13:16.571Z"
   },
   {
    "duration": 204,
    "start_time": "2025-01-03T22:13:21.937Z"
   },
   {
    "duration": 1261,
    "start_time": "2025-01-03T22:14:17.631Z"
   },
   {
    "duration": 1118,
    "start_time": "2025-01-03T22:14:41.195Z"
   },
   {
    "duration": 2778,
    "start_time": "2025-01-03T22:14:54.756Z"
   },
   {
    "duration": 1296,
    "start_time": "2025-01-03T22:14:57.536Z"
   },
   {
    "duration": 135,
    "start_time": "2025-01-03T22:14:58.834Z"
   },
   {
    "duration": 35,
    "start_time": "2025-01-03T22:14:58.971Z"
   },
   {
    "duration": 26,
    "start_time": "2025-01-03T22:14:59.008Z"
   },
   {
    "duration": 24,
    "start_time": "2025-01-03T22:14:59.059Z"
   },
   {
    "duration": 78,
    "start_time": "2025-01-03T22:14:59.084Z"
   },
   {
    "duration": 33,
    "start_time": "2025-01-03T22:14:59.163Z"
   },
   {
    "duration": 20,
    "start_time": "2025-01-03T22:14:59.198Z"
   },
   {
    "duration": 68,
    "start_time": "2025-01-03T22:14:59.220Z"
   },
   {
    "duration": 39,
    "start_time": "2025-01-03T22:14:59.289Z"
   },
   {
    "duration": 191,
    "start_time": "2025-01-03T22:14:59.330Z"
   },
   {
    "duration": 250,
    "start_time": "2025-01-03T22:14:59.522Z"
   },
   {
    "duration": 199,
    "start_time": "2025-01-03T22:14:59.775Z"
   },
   {
    "duration": 146,
    "start_time": "2025-01-03T22:14:59.976Z"
   },
   {
    "duration": 11,
    "start_time": "2025-01-03T22:15:00.124Z"
   },
   {
    "duration": 249,
    "start_time": "2025-01-03T22:15:00.137Z"
   },
   {
    "duration": 144,
    "start_time": "2025-01-03T22:15:00.389Z"
   },
   {
    "duration": 29,
    "start_time": "2025-01-03T22:15:00.535Z"
   },
   {
    "duration": 211,
    "start_time": "2025-01-03T22:15:00.565Z"
   },
   {
    "duration": 288,
    "start_time": "2025-01-03T22:15:00.777Z"
   },
   {
    "duration": 21,
    "start_time": "2025-01-03T22:15:01.067Z"
   },
   {
    "duration": 642,
    "start_time": "2025-01-03T22:15:01.089Z"
   },
   {
    "duration": 214,
    "start_time": "2025-01-03T22:15:01.733Z"
   },
   {
    "duration": 36,
    "start_time": "2025-01-03T22:15:01.948Z"
   },
   {
    "duration": 261,
    "start_time": "2025-01-03T22:15:01.985Z"
   },
   {
    "duration": 252,
    "start_time": "2025-01-03T22:15:02.248Z"
   },
   {
    "duration": 270,
    "start_time": "2025-01-03T22:15:02.502Z"
   },
   {
    "duration": 138,
    "start_time": "2025-01-03T22:15:02.774Z"
   },
   {
    "duration": 262,
    "start_time": "2025-01-03T22:15:02.914Z"
   },
   {
    "duration": 17,
    "start_time": "2025-01-03T22:15:03.178Z"
   },
   {
    "duration": 2837,
    "start_time": "2025-01-03T22:15:47.679Z"
   },
   {
    "duration": 1281,
    "start_time": "2025-01-03T22:15:50.518Z"
   },
   {
    "duration": 126,
    "start_time": "2025-01-03T22:15:51.801Z"
   },
   {
    "duration": 34,
    "start_time": "2025-01-03T22:15:51.929Z"
   },
   {
    "duration": 27,
    "start_time": "2025-01-03T22:15:51.965Z"
   },
   {
    "duration": 23,
    "start_time": "2025-01-03T22:15:51.994Z"
   },
   {
    "duration": 92,
    "start_time": "2025-01-03T22:15:52.019Z"
   },
   {
    "duration": 34,
    "start_time": "2025-01-03T22:15:52.113Z"
   },
   {
    "duration": 21,
    "start_time": "2025-01-03T22:15:52.160Z"
   },
   {
    "duration": 44,
    "start_time": "2025-01-03T22:15:52.183Z"
   },
   {
    "duration": 59,
    "start_time": "2025-01-03T22:15:52.229Z"
   },
   {
    "duration": 179,
    "start_time": "2025-01-03T22:15:52.289Z"
   },
   {
    "duration": 246,
    "start_time": "2025-01-03T22:15:52.470Z"
   },
   {
    "duration": 196,
    "start_time": "2025-01-03T22:15:52.719Z"
   },
   {
    "duration": 138,
    "start_time": "2025-01-03T22:15:52.916Z"
   },
   {
    "duration": 10,
    "start_time": "2025-01-03T22:15:53.060Z"
   },
   {
    "duration": 219,
    "start_time": "2025-01-03T22:15:53.072Z"
   },
   {
    "duration": 135,
    "start_time": "2025-01-03T22:15:53.293Z"
   },
   {
    "duration": 10,
    "start_time": "2025-01-03T22:15:53.429Z"
   },
   {
    "duration": 228,
    "start_time": "2025-01-03T22:15:53.441Z"
   },
   {
    "duration": 272,
    "start_time": "2025-01-03T22:15:53.671Z"
   },
   {
    "duration": 27,
    "start_time": "2025-01-03T22:15:53.944Z"
   },
   {
    "duration": 609,
    "start_time": "2025-01-03T22:15:53.973Z"
   },
   {
    "duration": 207,
    "start_time": "2025-01-03T22:15:54.584Z"
   },
   {
    "duration": 28,
    "start_time": "2025-01-03T22:15:54.792Z"
   },
   {
    "duration": 272,
    "start_time": "2025-01-03T22:15:54.821Z"
   },
   {
    "duration": 253,
    "start_time": "2025-01-03T22:15:55.095Z"
   },
   {
    "duration": 273,
    "start_time": "2025-01-03T22:15:55.350Z"
   },
   {
    "duration": 138,
    "start_time": "2025-01-03T22:15:55.625Z"
   },
   {
    "duration": 257,
    "start_time": "2025-01-03T22:15:55.765Z"
   },
   {
    "duration": 14,
    "start_time": "2025-01-03T22:15:56.024Z"
   },
   {
    "duration": 2758,
    "start_time": "2025-01-03T22:18:34.907Z"
   },
   {
    "duration": 1332,
    "start_time": "2025-01-03T22:18:37.668Z"
   },
   {
    "duration": 131,
    "start_time": "2025-01-03T22:18:39.005Z"
   },
   {
    "duration": 37,
    "start_time": "2025-01-03T22:18:39.138Z"
   },
   {
    "duration": 26,
    "start_time": "2025-01-03T22:18:39.177Z"
   },
   {
    "duration": 27,
    "start_time": "2025-01-03T22:18:39.205Z"
   },
   {
    "duration": 83,
    "start_time": "2025-01-03T22:18:39.234Z"
   },
   {
    "duration": 57,
    "start_time": "2025-01-03T22:18:39.319Z"
   },
   {
    "duration": 19,
    "start_time": "2025-01-03T22:18:39.378Z"
   },
   {
    "duration": 40,
    "start_time": "2025-01-03T22:18:39.399Z"
   },
   {
    "duration": 40,
    "start_time": "2025-01-03T22:18:39.460Z"
   },
   {
    "duration": 186,
    "start_time": "2025-01-03T22:18:39.501Z"
   },
   {
    "duration": 253,
    "start_time": "2025-01-03T22:18:39.690Z"
   },
   {
    "duration": 198,
    "start_time": "2025-01-03T22:18:39.945Z"
   },
   {
    "duration": 142,
    "start_time": "2025-01-03T22:18:40.144Z"
   },
   {
    "duration": 11,
    "start_time": "2025-01-03T22:18:40.288Z"
   },
   {
    "duration": 236,
    "start_time": "2025-01-03T22:18:40.301Z"
   },
   {
    "duration": 136,
    "start_time": "2025-01-03T22:18:40.539Z"
   },
   {
    "duration": 12,
    "start_time": "2025-01-03T22:18:40.677Z"
   },
   {
    "duration": 228,
    "start_time": "2025-01-03T22:18:40.690Z"
   },
   {
    "duration": 276,
    "start_time": "2025-01-03T22:18:40.919Z"
   },
   {
    "duration": 18,
    "start_time": "2025-01-03T22:18:41.197Z"
   },
   {
    "duration": 666,
    "start_time": "2025-01-03T22:18:41.217Z"
   },
   {
    "duration": 215,
    "start_time": "2025-01-03T22:18:41.885Z"
   },
   {
    "duration": 28,
    "start_time": "2025-01-03T22:18:42.102Z"
   },
   {
    "duration": 270,
    "start_time": "2025-01-03T22:18:42.132Z"
   },
   {
    "duration": 248,
    "start_time": "2025-01-03T22:18:42.404Z"
   },
   {
    "duration": 267,
    "start_time": "2025-01-03T22:18:42.659Z"
   },
   {
    "duration": 145,
    "start_time": "2025-01-03T22:18:42.928Z"
   },
   {
    "duration": 271,
    "start_time": "2025-01-03T22:18:43.075Z"
   },
   {
    "duration": 26,
    "start_time": "2025-01-03T22:18:43.348Z"
   },
   {
    "duration": 363,
    "start_time": "2025-01-03T22:22:41.232Z"
   },
   {
    "duration": 1234,
    "start_time": "2025-01-03T22:24:01.198Z"
   },
   {
    "duration": 2963,
    "start_time": "2025-01-03T22:24:09.029Z"
   },
   {
    "duration": 1986,
    "start_time": "2025-01-03T22:24:11.995Z"
   },
   {
    "duration": 134,
    "start_time": "2025-01-03T22:24:13.983Z"
   },
   {
    "duration": 43,
    "start_time": "2025-01-03T22:24:14.119Z"
   },
   {
    "duration": 38,
    "start_time": "2025-01-03T22:24:14.164Z"
   },
   {
    "duration": 59,
    "start_time": "2025-01-03T22:24:14.203Z"
   },
   {
    "duration": 78,
    "start_time": "2025-01-03T22:24:14.264Z"
   },
   {
    "duration": 36,
    "start_time": "2025-01-03T22:24:14.344Z"
   },
   {
    "duration": 20,
    "start_time": "2025-01-03T22:24:14.382Z"
   },
   {
    "duration": 62,
    "start_time": "2025-01-03T22:24:14.404Z"
   },
   {
    "duration": 38,
    "start_time": "2025-01-03T22:24:14.468Z"
   },
   {
    "duration": 184,
    "start_time": "2025-01-03T22:24:14.508Z"
   },
   {
    "duration": 369,
    "start_time": "2025-01-03T22:24:14.694Z"
   },
   {
    "duration": 0,
    "start_time": "2025-01-03T22:24:15.067Z"
   },
   {
    "duration": 0,
    "start_time": "2025-01-03T22:24:15.069Z"
   },
   {
    "duration": 0,
    "start_time": "2025-01-03T22:24:15.070Z"
   },
   {
    "duration": 0,
    "start_time": "2025-01-03T22:24:15.072Z"
   },
   {
    "duration": 1,
    "start_time": "2025-01-03T22:24:15.073Z"
   },
   {
    "duration": 0,
    "start_time": "2025-01-03T22:24:15.075Z"
   },
   {
    "duration": 0,
    "start_time": "2025-01-03T22:24:15.077Z"
   },
   {
    "duration": 0,
    "start_time": "2025-01-03T22:24:15.078Z"
   },
   {
    "duration": 0,
    "start_time": "2025-01-03T22:24:15.080Z"
   },
   {
    "duration": 0,
    "start_time": "2025-01-03T22:24:15.081Z"
   },
   {
    "duration": 0,
    "start_time": "2025-01-03T22:24:15.083Z"
   },
   {
    "duration": 0,
    "start_time": "2025-01-03T22:24:15.084Z"
   },
   {
    "duration": 0,
    "start_time": "2025-01-03T22:24:15.086Z"
   },
   {
    "duration": 0,
    "start_time": "2025-01-03T22:24:15.088Z"
   },
   {
    "duration": 0,
    "start_time": "2025-01-03T22:24:15.089Z"
   },
   {
    "duration": 0,
    "start_time": "2025-01-03T22:24:15.091Z"
   },
   {
    "duration": 0,
    "start_time": "2025-01-03T22:24:15.092Z"
   },
   {
    "duration": 0,
    "start_time": "2025-01-03T22:24:15.094Z"
   },
   {
    "duration": 2801,
    "start_time": "2025-01-03T22:24:30.131Z"
   },
   {
    "duration": 1381,
    "start_time": "2025-01-03T22:24:32.934Z"
   },
   {
    "duration": 136,
    "start_time": "2025-01-03T22:24:34.317Z"
   },
   {
    "duration": 37,
    "start_time": "2025-01-03T22:24:34.455Z"
   },
   {
    "duration": 29,
    "start_time": "2025-01-03T22:24:34.495Z"
   },
   {
    "duration": 47,
    "start_time": "2025-01-03T22:24:34.526Z"
   },
   {
    "duration": 85,
    "start_time": "2025-01-03T22:24:34.575Z"
   },
   {
    "duration": 38,
    "start_time": "2025-01-03T22:24:34.662Z"
   },
   {
    "duration": 71,
    "start_time": "2025-01-03T22:24:34.702Z"
   },
   {
    "duration": 44,
    "start_time": "2025-01-03T22:24:34.775Z"
   },
   {
    "duration": 58,
    "start_time": "2025-01-03T22:24:34.821Z"
   },
   {
    "duration": 193,
    "start_time": "2025-01-03T22:24:34.881Z"
   },
   {
    "duration": 263,
    "start_time": "2025-01-03T22:24:35.076Z"
   },
   {
    "duration": 201,
    "start_time": "2025-01-03T22:24:35.342Z"
   },
   {
    "duration": 138,
    "start_time": "2025-01-03T22:24:35.545Z"
   },
   {
    "duration": 10,
    "start_time": "2025-01-03T22:24:35.684Z"
   },
   {
    "duration": 225,
    "start_time": "2025-01-03T22:24:35.695Z"
   },
   {
    "duration": 139,
    "start_time": "2025-01-03T22:24:35.921Z"
   },
   {
    "duration": 10,
    "start_time": "2025-01-03T22:24:36.062Z"
   },
   {
    "duration": 216,
    "start_time": "2025-01-03T22:24:36.074Z"
   },
   {
    "duration": 275,
    "start_time": "2025-01-03T22:24:36.292Z"
   },
   {
    "duration": 21,
    "start_time": "2025-01-03T22:24:36.569Z"
   },
   {
    "duration": 792,
    "start_time": "2025-01-03T22:24:36.592Z"
   },
   {
    "duration": 418,
    "start_time": "2025-01-03T22:24:37.386Z"
   },
   {
    "duration": 83,
    "start_time": "2025-01-03T22:24:37.806Z"
   },
   {
    "duration": 575,
    "start_time": "2025-01-03T22:24:37.890Z"
   },
   {
    "duration": 324,
    "start_time": "2025-01-03T22:24:38.467Z"
   },
   {
    "duration": 279,
    "start_time": "2025-01-03T22:24:38.793Z"
   },
   {
    "duration": 154,
    "start_time": "2025-01-03T22:24:39.074Z"
   },
   {
    "duration": 280,
    "start_time": "2025-01-03T22:24:39.230Z"
   },
   {
    "duration": 16,
    "start_time": "2025-01-03T22:24:39.512Z"
   },
   {
    "duration": 360,
    "start_time": "2025-01-03T22:27:03.251Z"
   },
   {
    "duration": 259,
    "start_time": "2025-01-03T22:27:29.606Z"
   },
   {
    "duration": 358,
    "start_time": "2025-01-03T22:27:39.717Z"
   },
   {
    "duration": 247,
    "start_time": "2025-01-03T22:27:44.839Z"
   },
   {
    "duration": 250,
    "start_time": "2025-01-03T22:27:45.583Z"
   },
   {
    "duration": 251,
    "start_time": "2025-01-03T22:29:01.470Z"
   },
   {
    "duration": 241,
    "start_time": "2025-01-03T22:29:19.513Z"
   },
   {
    "duration": 257,
    "start_time": "2025-01-03T22:30:19.759Z"
   },
   {
    "duration": 197,
    "start_time": "2025-01-03T22:31:21.141Z"
   },
   {
    "duration": 1139,
    "start_time": "2025-01-03T22:31:45.319Z"
   },
   {
    "duration": 132,
    "start_time": "2025-01-03T22:31:55.917Z"
   },
   {
    "duration": 69,
    "start_time": "2025-01-03T22:33:32.492Z"
   },
   {
    "duration": 1166,
    "start_time": "2025-01-03T22:34:10.399Z"
   },
   {
    "duration": 18,
    "start_time": "2025-01-03T22:37:18.757Z"
   },
   {
    "duration": 126,
    "start_time": "2025-01-03T22:37:32.019Z"
   },
   {
    "duration": 3385,
    "start_time": "2025-01-03T22:38:17.901Z"
   },
   {
    "duration": 1257,
    "start_time": "2025-01-03T22:38:21.288Z"
   },
   {
    "duration": 127,
    "start_time": "2025-01-03T22:38:22.547Z"
   },
   {
    "duration": 36,
    "start_time": "2025-01-03T22:38:22.676Z"
   },
   {
    "duration": 47,
    "start_time": "2025-01-03T22:38:22.714Z"
   },
   {
    "duration": 23,
    "start_time": "2025-01-03T22:38:22.762Z"
   },
   {
    "duration": 84,
    "start_time": "2025-01-03T22:38:22.787Z"
   },
   {
    "duration": 35,
    "start_time": "2025-01-03T22:38:22.873Z"
   },
   {
    "duration": 19,
    "start_time": "2025-01-03T22:38:22.910Z"
   },
   {
    "duration": 66,
    "start_time": "2025-01-03T22:38:22.931Z"
   },
   {
    "duration": 38,
    "start_time": "2025-01-03T22:38:22.999Z"
   },
   {
    "duration": 190,
    "start_time": "2025-01-03T22:38:23.039Z"
   },
   {
    "duration": 261,
    "start_time": "2025-01-03T22:38:23.230Z"
   },
   {
    "duration": 228,
    "start_time": "2025-01-03T22:38:23.495Z"
   },
   {
    "duration": 166,
    "start_time": "2025-01-03T22:38:23.725Z"
   },
   {
    "duration": 1264,
    "start_time": "2025-01-03T22:38:23.893Z"
   },
   {
    "duration": 0,
    "start_time": "2025-01-03T22:38:25.159Z"
   },
   {
    "duration": 0,
    "start_time": "2025-01-03T22:38:25.160Z"
   },
   {
    "duration": 0,
    "start_time": "2025-01-03T22:38:25.161Z"
   },
   {
    "duration": 0,
    "start_time": "2025-01-03T22:38:25.162Z"
   },
   {
    "duration": 0,
    "start_time": "2025-01-03T22:38:25.163Z"
   },
   {
    "duration": 0,
    "start_time": "2025-01-03T22:38:25.164Z"
   },
   {
    "duration": 0,
    "start_time": "2025-01-03T22:38:25.165Z"
   },
   {
    "duration": 0,
    "start_time": "2025-01-03T22:38:25.166Z"
   },
   {
    "duration": 0,
    "start_time": "2025-01-03T22:38:25.168Z"
   },
   {
    "duration": 0,
    "start_time": "2025-01-03T22:38:25.169Z"
   },
   {
    "duration": 0,
    "start_time": "2025-01-03T22:38:25.170Z"
   },
   {
    "duration": 0,
    "start_time": "2025-01-03T22:38:25.171Z"
   },
   {
    "duration": 0,
    "start_time": "2025-01-03T22:38:25.172Z"
   },
   {
    "duration": 0,
    "start_time": "2025-01-03T22:38:25.173Z"
   },
   {
    "duration": 0,
    "start_time": "2025-01-03T22:38:25.176Z"
   },
   {
    "duration": 1149,
    "start_time": "2025-01-03T22:41:30.959Z"
   },
   {
    "duration": 1152,
    "start_time": "2025-01-03T22:41:40.429Z"
   },
   {
    "duration": 1049,
    "start_time": "2025-01-03T22:41:51.923Z"
   },
   {
    "duration": 1198,
    "start_time": "2025-01-03T22:42:43.673Z"
   },
   {
    "duration": 2813,
    "start_time": "2025-01-03T22:52:02.477Z"
   },
   {
    "duration": 1326,
    "start_time": "2025-01-03T22:52:05.293Z"
   },
   {
    "duration": 134,
    "start_time": "2025-01-03T22:52:06.621Z"
   },
   {
    "duration": 37,
    "start_time": "2025-01-03T22:52:06.757Z"
   },
   {
    "duration": 26,
    "start_time": "2025-01-03T22:52:06.797Z"
   },
   {
    "duration": 49,
    "start_time": "2025-01-03T22:52:06.825Z"
   },
   {
    "duration": 83,
    "start_time": "2025-01-03T22:52:06.877Z"
   },
   {
    "duration": 37,
    "start_time": "2025-01-03T22:52:06.962Z"
   },
   {
    "duration": 21,
    "start_time": "2025-01-03T22:52:07.001Z"
   },
   {
    "duration": 76,
    "start_time": "2025-01-03T22:52:07.024Z"
   },
   {
    "duration": 67,
    "start_time": "2025-01-03T22:52:07.103Z"
   },
   {
    "duration": 191,
    "start_time": "2025-01-03T22:52:07.173Z"
   },
   {
    "duration": 259,
    "start_time": "2025-01-03T22:52:07.366Z"
   },
   {
    "duration": 206,
    "start_time": "2025-01-03T22:52:07.628Z"
   },
   {
    "duration": 277,
    "start_time": "2025-01-03T22:52:07.836Z"
   },
   {
    "duration": 0,
    "start_time": "2025-01-03T22:52:08.115Z"
   },
   {
    "duration": 0,
    "start_time": "2025-01-03T22:52:08.116Z"
   },
   {
    "duration": 0,
    "start_time": "2025-01-03T22:52:08.117Z"
   },
   {
    "duration": 0,
    "start_time": "2025-01-03T22:52:08.118Z"
   },
   {
    "duration": 0,
    "start_time": "2025-01-03T22:52:08.120Z"
   },
   {
    "duration": 0,
    "start_time": "2025-01-03T22:52:08.121Z"
   },
   {
    "duration": 0,
    "start_time": "2025-01-03T22:52:08.122Z"
   },
   {
    "duration": 0,
    "start_time": "2025-01-03T22:52:08.123Z"
   },
   {
    "duration": 0,
    "start_time": "2025-01-03T22:52:08.124Z"
   },
   {
    "duration": 0,
    "start_time": "2025-01-03T22:52:08.125Z"
   },
   {
    "duration": 0,
    "start_time": "2025-01-03T22:52:08.126Z"
   },
   {
    "duration": 0,
    "start_time": "2025-01-03T22:52:08.128Z"
   },
   {
    "duration": 0,
    "start_time": "2025-01-03T22:52:08.129Z"
   },
   {
    "duration": 0,
    "start_time": "2025-01-03T22:52:08.130Z"
   },
   {
    "duration": 0,
    "start_time": "2025-01-03T22:52:08.131Z"
   },
   {
    "duration": 0,
    "start_time": "2025-01-03T22:52:08.160Z"
   },
   {
    "duration": 133,
    "start_time": "2025-01-03T22:54:11.171Z"
   },
   {
    "duration": 123,
    "start_time": "2025-01-03T22:55:06.175Z"
   },
   {
    "duration": 127,
    "start_time": "2025-01-03T22:55:18.936Z"
   },
   {
    "duration": 2870,
    "start_time": "2025-01-03T22:55:24.685Z"
   },
   {
    "duration": 1298,
    "start_time": "2025-01-03T22:55:27.557Z"
   },
   {
    "duration": 132,
    "start_time": "2025-01-03T22:55:28.857Z"
   },
   {
    "duration": 34,
    "start_time": "2025-01-03T22:55:28.991Z"
   },
   {
    "duration": 51,
    "start_time": "2025-01-03T22:55:29.027Z"
   },
   {
    "duration": 23,
    "start_time": "2025-01-03T22:55:29.080Z"
   },
   {
    "duration": 90,
    "start_time": "2025-01-03T22:55:29.105Z"
   },
   {
    "duration": 35,
    "start_time": "2025-01-03T22:55:29.197Z"
   },
   {
    "duration": 36,
    "start_time": "2025-01-03T22:55:29.234Z"
   },
   {
    "duration": 40,
    "start_time": "2025-01-03T22:55:29.272Z"
   },
   {
    "duration": 63,
    "start_time": "2025-01-03T22:55:29.314Z"
   },
   {
    "duration": 182,
    "start_time": "2025-01-03T22:55:29.378Z"
   },
   {
    "duration": 253,
    "start_time": "2025-01-03T22:55:29.561Z"
   },
   {
    "duration": 202,
    "start_time": "2025-01-03T22:55:29.816Z"
   },
   {
    "duration": 141,
    "start_time": "2025-01-03T22:55:30.020Z"
   },
   {
    "duration": 1217,
    "start_time": "2025-01-03T22:55:30.163Z"
   },
   {
    "duration": 0,
    "start_time": "2025-01-03T22:55:31.382Z"
   },
   {
    "duration": 0,
    "start_time": "2025-01-03T22:55:31.383Z"
   },
   {
    "duration": 0,
    "start_time": "2025-01-03T22:55:31.384Z"
   },
   {
    "duration": 0,
    "start_time": "2025-01-03T22:55:31.386Z"
   },
   {
    "duration": 0,
    "start_time": "2025-01-03T22:55:31.387Z"
   },
   {
    "duration": 0,
    "start_time": "2025-01-03T22:55:31.388Z"
   },
   {
    "duration": 0,
    "start_time": "2025-01-03T22:55:31.389Z"
   },
   {
    "duration": 0,
    "start_time": "2025-01-03T22:55:31.390Z"
   },
   {
    "duration": 0,
    "start_time": "2025-01-03T22:55:31.391Z"
   },
   {
    "duration": 0,
    "start_time": "2025-01-03T22:55:31.393Z"
   },
   {
    "duration": 1,
    "start_time": "2025-01-03T22:55:31.393Z"
   },
   {
    "duration": 0,
    "start_time": "2025-01-03T22:55:31.395Z"
   },
   {
    "duration": 0,
    "start_time": "2025-01-03T22:55:31.397Z"
   },
   {
    "duration": 0,
    "start_time": "2025-01-03T22:55:31.398Z"
   },
   {
    "duration": 0,
    "start_time": "2025-01-03T22:55:31.399Z"
   },
   {
    "duration": 11,
    "start_time": "2025-01-03T22:56:50.113Z"
   },
   {
    "duration": 2873,
    "start_time": "2025-01-03T22:57:10.531Z"
   },
   {
    "duration": 1479,
    "start_time": "2025-01-03T22:57:13.407Z"
   },
   {
    "duration": 218,
    "start_time": "2025-01-03T22:57:14.888Z"
   },
   {
    "duration": 38,
    "start_time": "2025-01-03T22:57:15.162Z"
   },
   {
    "duration": 79,
    "start_time": "2025-01-03T22:57:15.201Z"
   },
   {
    "duration": 92,
    "start_time": "2025-01-03T22:57:15.282Z"
   },
   {
    "duration": 119,
    "start_time": "2025-01-03T22:57:15.375Z"
   },
   {
    "duration": 90,
    "start_time": "2025-01-03T22:57:15.496Z"
   },
   {
    "duration": 74,
    "start_time": "2025-01-03T22:57:15.588Z"
   },
   {
    "duration": 95,
    "start_time": "2025-01-03T22:57:15.665Z"
   },
   {
    "duration": 38,
    "start_time": "2025-01-03T22:57:15.762Z"
   },
   {
    "duration": 333,
    "start_time": "2025-01-03T22:57:15.802Z"
   },
   {
    "duration": 279,
    "start_time": "2025-01-03T22:57:16.137Z"
   },
   {
    "duration": 206,
    "start_time": "2025-01-03T22:57:16.418Z"
   },
   {
    "duration": 154,
    "start_time": "2025-01-03T22:57:16.626Z"
   },
   {
    "duration": 10,
    "start_time": "2025-01-03T22:57:16.781Z"
   },
   {
    "duration": 229,
    "start_time": "2025-01-03T22:57:16.793Z"
   },
   {
    "duration": 146,
    "start_time": "2025-01-03T22:57:17.024Z"
   },
   {
    "duration": 10,
    "start_time": "2025-01-03T22:57:17.171Z"
   },
   {
    "duration": 228,
    "start_time": "2025-01-03T22:57:17.183Z"
   },
   {
    "duration": 270,
    "start_time": "2025-01-03T22:57:17.413Z"
   },
   {
    "duration": 20,
    "start_time": "2025-01-03T22:57:17.684Z"
   },
   {
    "duration": 663,
    "start_time": "2025-01-03T22:57:17.706Z"
   },
   {
    "duration": 231,
    "start_time": "2025-01-03T22:57:18.371Z"
   },
   {
    "duration": 31,
    "start_time": "2025-01-03T22:57:18.604Z"
   },
   {
    "duration": 291,
    "start_time": "2025-01-03T22:57:18.636Z"
   },
   {
    "duration": 261,
    "start_time": "2025-01-03T22:57:18.929Z"
   },
   {
    "duration": 275,
    "start_time": "2025-01-03T22:57:19.193Z"
   },
   {
    "duration": 152,
    "start_time": "2025-01-03T22:57:19.470Z"
   },
   {
    "duration": 271,
    "start_time": "2025-01-03T22:57:19.623Z"
   },
   {
    "duration": 15,
    "start_time": "2025-01-03T22:57:19.896Z"
   },
   {
    "duration": 78,
    "start_time": "2025-01-03T22:57:36.825Z"
   },
   {
    "duration": 2817,
    "start_time": "2025-01-03T22:59:27.997Z"
   },
   {
    "duration": 1276,
    "start_time": "2025-01-03T22:59:30.816Z"
   },
   {
    "duration": 138,
    "start_time": "2025-01-03T22:59:32.094Z"
   },
   {
    "duration": 39,
    "start_time": "2025-01-03T22:59:32.234Z"
   },
   {
    "duration": 27,
    "start_time": "2025-01-03T22:59:32.275Z"
   },
   {
    "duration": 45,
    "start_time": "2025-01-03T22:59:32.304Z"
   },
   {
    "duration": 73,
    "start_time": "2025-01-03T22:59:32.352Z"
   },
   {
    "duration": 61,
    "start_time": "2025-01-03T22:59:32.427Z"
   },
   {
    "duration": 21,
    "start_time": "2025-01-03T22:59:32.490Z"
   },
   {
    "duration": 81,
    "start_time": "2025-01-03T22:59:32.513Z"
   },
   {
    "duration": 39,
    "start_time": "2025-01-03T22:59:32.596Z"
   },
   {
    "duration": 190,
    "start_time": "2025-01-03T22:59:32.636Z"
   },
   {
    "duration": 261,
    "start_time": "2025-01-03T22:59:32.828Z"
   },
   {
    "duration": 294,
    "start_time": "2025-01-03T22:59:33.092Z"
   },
   {
    "duration": 276,
    "start_time": "2025-01-03T22:59:33.388Z"
   },
   {
    "duration": 10,
    "start_time": "2025-01-03T22:59:33.666Z"
   },
   {
    "duration": 421,
    "start_time": "2025-01-03T22:59:33.678Z"
   },
   {
    "duration": 283,
    "start_time": "2025-01-03T22:59:34.101Z"
   },
   {
    "duration": 10,
    "start_time": "2025-01-03T22:59:34.386Z"
   },
   {
    "duration": 422,
    "start_time": "2025-01-03T22:59:34.398Z"
   },
   {
    "duration": 298,
    "start_time": "2025-01-03T22:59:34.822Z"
   },
   {
    "duration": 20,
    "start_time": "2025-01-03T22:59:35.122Z"
   },
   {
    "duration": 642,
    "start_time": "2025-01-03T22:59:35.144Z"
   },
   {
    "duration": 220,
    "start_time": "2025-01-03T22:59:35.788Z"
   },
   {
    "duration": 31,
    "start_time": "2025-01-03T22:59:36.010Z"
   },
   {
    "duration": 272,
    "start_time": "2025-01-03T22:59:36.061Z"
   },
   {
    "duration": 258,
    "start_time": "2025-01-03T22:59:36.335Z"
   },
   {
    "duration": 277,
    "start_time": "2025-01-03T22:59:36.595Z"
   },
   {
    "duration": 150,
    "start_time": "2025-01-03T22:59:36.874Z"
   },
   {
    "duration": 273,
    "start_time": "2025-01-03T22:59:37.027Z"
   },
   {
    "duration": 19,
    "start_time": "2025-01-03T22:59:37.303Z"
   },
   {
    "duration": 15,
    "start_time": "2025-01-03T22:59:52.565Z"
   },
   {
    "duration": 129,
    "start_time": "2025-01-03T22:59:58.432Z"
   },
   {
    "duration": 202,
    "start_time": "2025-01-03T23:11:13.541Z"
   },
   {
    "duration": 305,
    "start_time": "2025-01-03T23:11:40.637Z"
   },
   {
    "duration": 193,
    "start_time": "2025-01-03T23:11:53.875Z"
   },
   {
    "duration": 111,
    "start_time": "2025-01-03T23:13:18.613Z"
   },
   {
    "duration": 12,
    "start_time": "2025-01-03T23:13:27.033Z"
   },
   {
    "duration": 4,
    "start_time": "2025-01-03T23:13:56.921Z"
   },
   {
    "duration": 13,
    "start_time": "2025-01-03T23:14:02.682Z"
   },
   {
    "duration": 13,
    "start_time": "2025-01-03T23:14:19.088Z"
   },
   {
    "duration": 14,
    "start_time": "2025-01-03T23:14:29.499Z"
   },
   {
    "duration": 597,
    "start_time": "2025-01-03T23:14:43.869Z"
   },
   {
    "duration": 2838,
    "start_time": "2025-01-03T23:16:17.669Z"
   },
   {
    "duration": 1255,
    "start_time": "2025-01-03T23:16:20.509Z"
   },
   {
    "duration": 129,
    "start_time": "2025-01-03T23:16:21.766Z"
   },
   {
    "duration": 63,
    "start_time": "2025-01-03T23:16:21.897Z"
   },
   {
    "duration": 27,
    "start_time": "2025-01-03T23:16:21.962Z"
   },
   {
    "duration": 74,
    "start_time": "2025-01-03T23:16:21.990Z"
   },
   {
    "duration": 63,
    "start_time": "2025-01-03T23:16:22.066Z"
   },
   {
    "duration": 48,
    "start_time": "2025-01-03T23:16:22.131Z"
   },
   {
    "duration": 20,
    "start_time": "2025-01-03T23:16:22.181Z"
   },
   {
    "duration": 98,
    "start_time": "2025-01-03T23:16:22.205Z"
   },
   {
    "duration": 82,
    "start_time": "2025-01-03T23:16:22.305Z"
   },
   {
    "duration": 179,
    "start_time": "2025-01-03T23:16:22.389Z"
   },
   {
    "duration": 256,
    "start_time": "2025-01-03T23:16:22.570Z"
   },
   {
    "duration": 208,
    "start_time": "2025-01-03T23:16:22.828Z"
   },
   {
    "duration": 137,
    "start_time": "2025-01-03T23:16:23.038Z"
   },
   {
    "duration": 9,
    "start_time": "2025-01-03T23:16:23.177Z"
   },
   {
    "duration": 225,
    "start_time": "2025-01-03T23:16:23.188Z"
   },
   {
    "duration": 145,
    "start_time": "2025-01-03T23:16:23.415Z"
   },
   {
    "duration": 710,
    "start_time": "2025-01-03T23:16:23.562Z"
   },
   {
    "duration": 1,
    "start_time": "2025-01-03T23:16:24.273Z"
   },
   {
    "duration": 0,
    "start_time": "2025-01-03T23:16:24.275Z"
   },
   {
    "duration": 0,
    "start_time": "2025-01-03T23:16:24.276Z"
   },
   {
    "duration": 0,
    "start_time": "2025-01-03T23:16:24.278Z"
   },
   {
    "duration": 0,
    "start_time": "2025-01-03T23:16:24.279Z"
   },
   {
    "duration": 0,
    "start_time": "2025-01-03T23:16:24.280Z"
   },
   {
    "duration": 0,
    "start_time": "2025-01-03T23:16:24.281Z"
   },
   {
    "duration": 0,
    "start_time": "2025-01-03T23:16:24.281Z"
   },
   {
    "duration": 0,
    "start_time": "2025-01-03T23:16:24.283Z"
   },
   {
    "duration": 0,
    "start_time": "2025-01-03T23:16:24.284Z"
   },
   {
    "duration": 0,
    "start_time": "2025-01-03T23:16:24.285Z"
   },
   {
    "duration": 0,
    "start_time": "2025-01-03T23:16:24.286Z"
   },
   {
    "duration": 14,
    "start_time": "2025-01-03T23:16:51.097Z"
   },
   {
    "duration": 2710,
    "start_time": "2025-01-03T23:16:58.938Z"
   },
   {
    "duration": 1325,
    "start_time": "2025-01-03T23:17:01.651Z"
   },
   {
    "duration": 135,
    "start_time": "2025-01-03T23:17:02.978Z"
   },
   {
    "duration": 48,
    "start_time": "2025-01-03T23:17:03.115Z"
   },
   {
    "duration": 26,
    "start_time": "2025-01-03T23:17:03.165Z"
   },
   {
    "duration": 22,
    "start_time": "2025-01-03T23:17:03.193Z"
   },
   {
    "duration": 93,
    "start_time": "2025-01-03T23:17:03.217Z"
   },
   {
    "duration": 54,
    "start_time": "2025-01-03T23:17:03.312Z"
   },
   {
    "duration": 19,
    "start_time": "2025-01-03T23:17:03.368Z"
   },
   {
    "duration": 50,
    "start_time": "2025-01-03T23:17:03.389Z"
   },
   {
    "duration": 53,
    "start_time": "2025-01-03T23:17:03.440Z"
   },
   {
    "duration": 187,
    "start_time": "2025-01-03T23:17:03.495Z"
   },
   {
    "duration": 275,
    "start_time": "2025-01-03T23:17:03.684Z"
   },
   {
    "duration": 200,
    "start_time": "2025-01-03T23:17:03.963Z"
   },
   {
    "duration": 139,
    "start_time": "2025-01-03T23:17:04.165Z"
   },
   {
    "duration": 13,
    "start_time": "2025-01-03T23:17:04.306Z"
   },
   {
    "duration": 233,
    "start_time": "2025-01-03T23:17:04.321Z"
   },
   {
    "duration": 146,
    "start_time": "2025-01-03T23:17:04.560Z"
   },
   {
    "duration": 18,
    "start_time": "2025-01-03T23:17:04.708Z"
   },
   {
    "duration": 221,
    "start_time": "2025-01-03T23:17:04.728Z"
   },
   {
    "duration": 266,
    "start_time": "2025-01-03T23:17:04.959Z"
   },
   {
    "duration": 38,
    "start_time": "2025-01-03T23:17:05.227Z"
   },
   {
    "duration": 619,
    "start_time": "2025-01-03T23:17:05.267Z"
   },
   {
    "duration": 204,
    "start_time": "2025-01-03T23:17:05.888Z"
   },
   {
    "duration": 30,
    "start_time": "2025-01-03T23:17:06.094Z"
   },
   {
    "duration": 288,
    "start_time": "2025-01-03T23:17:06.127Z"
   },
   {
    "duration": 261,
    "start_time": "2025-01-03T23:17:06.418Z"
   },
   {
    "duration": 281,
    "start_time": "2025-01-03T23:17:06.681Z"
   },
   {
    "duration": 150,
    "start_time": "2025-01-03T23:17:06.965Z"
   },
   {
    "duration": 268,
    "start_time": "2025-01-03T23:17:07.118Z"
   },
   {
    "duration": 15,
    "start_time": "2025-01-03T23:17:07.388Z"
   },
   {
    "duration": 198,
    "start_time": "2025-01-03T23:17:39.420Z"
   },
   {
    "duration": 176,
    "start_time": "2025-01-03T23:17:44.589Z"
   },
   {
    "duration": 280,
    "start_time": "2025-01-03T23:17:48.142Z"
   },
   {
    "duration": 126,
    "start_time": "2025-01-03T23:19:06.196Z"
   },
   {
    "duration": 14,
    "start_time": "2025-01-03T23:19:24.957Z"
   },
   {
    "duration": 183,
    "start_time": "2025-01-03T23:23:12.359Z"
   },
   {
    "duration": 173,
    "start_time": "2025-01-03T23:23:18.919Z"
   },
   {
    "duration": 179,
    "start_time": "2025-01-03T23:23:41.459Z"
   },
   {
    "duration": 180,
    "start_time": "2025-01-03T23:23:53.339Z"
   },
   {
    "duration": 177,
    "start_time": "2025-01-03T23:24:23.060Z"
   },
   {
    "duration": 163,
    "start_time": "2025-01-03T23:28:30.546Z"
   },
   {
    "duration": 621,
    "start_time": "2025-01-03T23:32:56.573Z"
   },
   {
    "duration": 1374,
    "start_time": "2025-01-03T23:34:54.276Z"
   },
   {
    "duration": 3082,
    "start_time": "2025-01-03T23:34:59.850Z"
   },
   {
    "duration": 1995,
    "start_time": "2025-01-03T23:35:02.936Z"
   },
   {
    "duration": 298,
    "start_time": "2025-01-03T23:35:04.933Z"
   },
   {
    "duration": 39,
    "start_time": "2025-01-03T23:35:05.233Z"
   },
   {
    "duration": 28,
    "start_time": "2025-01-03T23:35:05.274Z"
   },
   {
    "duration": 26,
    "start_time": "2025-01-03T23:35:05.304Z"
   },
   {
    "duration": 64,
    "start_time": "2025-01-03T23:35:05.360Z"
   },
   {
    "duration": 47,
    "start_time": "2025-01-03T23:35:05.426Z"
   },
   {
    "duration": 21,
    "start_time": "2025-01-03T23:35:05.475Z"
   },
   {
    "duration": 75,
    "start_time": "2025-01-03T23:35:05.498Z"
   },
   {
    "duration": 41,
    "start_time": "2025-01-03T23:35:05.575Z"
   },
   {
    "duration": 214,
    "start_time": "2025-01-03T23:35:05.618Z"
   },
   {
    "duration": 284,
    "start_time": "2025-01-03T23:35:05.834Z"
   },
   {
    "duration": 223,
    "start_time": "2025-01-03T23:35:06.121Z"
   },
   {
    "duration": 150,
    "start_time": "2025-01-03T23:35:06.346Z"
   },
   {
    "duration": 12,
    "start_time": "2025-01-03T23:35:06.498Z"
   },
   {
    "duration": 251,
    "start_time": "2025-01-03T23:35:06.512Z"
   },
   {
    "duration": 153,
    "start_time": "2025-01-03T23:35:06.765Z"
   },
   {
    "duration": 15,
    "start_time": "2025-01-03T23:35:06.920Z"
   },
   {
    "duration": 231,
    "start_time": "2025-01-03T23:35:06.937Z"
   },
   {
    "duration": 294,
    "start_time": "2025-01-03T23:35:07.170Z"
   },
   {
    "duration": 21,
    "start_time": "2025-01-03T23:35:07.466Z"
   },
   {
    "duration": 50,
    "start_time": "2025-01-03T23:38:09.209Z"
   },
   {
    "duration": 2807,
    "start_time": "2025-01-03T23:38:43.128Z"
   },
   {
    "duration": 1309,
    "start_time": "2025-01-03T23:38:45.937Z"
   },
   {
    "duration": 290,
    "start_time": "2025-01-03T23:38:47.248Z"
   },
   {
    "duration": 35,
    "start_time": "2025-01-03T23:38:47.539Z"
   },
   {
    "duration": 25,
    "start_time": "2025-01-03T23:38:47.577Z"
   },
   {
    "duration": 23,
    "start_time": "2025-01-03T23:38:47.604Z"
   },
   {
    "duration": 94,
    "start_time": "2025-01-03T23:38:47.629Z"
   },
   {
    "duration": 52,
    "start_time": "2025-01-03T23:38:47.725Z"
   },
   {
    "duration": 20,
    "start_time": "2025-01-03T23:38:47.779Z"
   },
   {
    "duration": 74,
    "start_time": "2025-01-03T23:38:47.801Z"
   },
   {
    "duration": 48,
    "start_time": "2025-01-03T23:38:47.877Z"
   },
   {
    "duration": 222,
    "start_time": "2025-01-03T23:38:47.928Z"
   },
   {
    "duration": 287,
    "start_time": "2025-01-03T23:38:48.152Z"
   },
   {
    "duration": 228,
    "start_time": "2025-01-03T23:38:48.443Z"
   },
   {
    "duration": 151,
    "start_time": "2025-01-03T23:38:48.673Z"
   },
   {
    "duration": 11,
    "start_time": "2025-01-03T23:38:48.826Z"
   },
   {
    "duration": 235,
    "start_time": "2025-01-03T23:38:48.839Z"
   },
   {
    "duration": 150,
    "start_time": "2025-01-03T23:38:49.076Z"
   },
   {
    "duration": 14,
    "start_time": "2025-01-03T23:38:49.227Z"
   },
   {
    "duration": 220,
    "start_time": "2025-01-03T23:38:49.243Z"
   },
   {
    "duration": 278,
    "start_time": "2025-01-03T23:38:49.465Z"
   },
   {
    "duration": 20,
    "start_time": "2025-01-03T23:38:49.759Z"
   },
   {
    "duration": 51,
    "start_time": "2025-01-03T23:39:58.551Z"
   },
   {
    "duration": 2955,
    "start_time": "2025-01-03T23:40:02.943Z"
   },
   {
    "duration": 1917,
    "start_time": "2025-01-03T23:40:05.901Z"
   },
   {
    "duration": 306,
    "start_time": "2025-01-03T23:40:07.820Z"
   },
   {
    "duration": 36,
    "start_time": "2025-01-03T23:40:08.128Z"
   },
   {
    "duration": 28,
    "start_time": "2025-01-03T23:40:08.166Z"
   },
   {
    "duration": 23,
    "start_time": "2025-01-03T23:40:08.196Z"
   },
   {
    "duration": 100,
    "start_time": "2025-01-03T23:40:08.220Z"
   },
   {
    "duration": 48,
    "start_time": "2025-01-03T23:40:08.322Z"
   },
   {
    "duration": 19,
    "start_time": "2025-01-03T23:40:08.372Z"
   },
   {
    "duration": 40,
    "start_time": "2025-01-03T23:40:08.393Z"
   },
   {
    "duration": 39,
    "start_time": "2025-01-03T23:40:08.460Z"
   },
   {
    "duration": 201,
    "start_time": "2025-01-03T23:40:08.501Z"
   },
   {
    "duration": 263,
    "start_time": "2025-01-03T23:40:08.704Z"
   },
   {
    "duration": 212,
    "start_time": "2025-01-03T23:40:08.971Z"
   },
   {
    "duration": 137,
    "start_time": "2025-01-03T23:40:09.185Z"
   },
   {
    "duration": 11,
    "start_time": "2025-01-03T23:40:09.324Z"
   },
   {
    "duration": 234,
    "start_time": "2025-01-03T23:40:09.336Z"
   },
   {
    "duration": 148,
    "start_time": "2025-01-03T23:40:09.571Z"
   },
   {
    "duration": 13,
    "start_time": "2025-01-03T23:40:09.720Z"
   },
   {
    "duration": 220,
    "start_time": "2025-01-03T23:40:09.735Z"
   },
   {
    "duration": 308,
    "start_time": "2025-01-03T23:40:09.957Z"
   },
   {
    "duration": 22,
    "start_time": "2025-01-03T23:40:10.266Z"
   },
   {
    "duration": 2741,
    "start_time": "2025-01-03T23:41:06.407Z"
   },
   {
    "duration": 3641,
    "start_time": "2025-01-03T23:41:13.129Z"
   },
   {
    "duration": 3738,
    "start_time": "2025-01-03T23:41:16.773Z"
   },
   {
    "duration": 292,
    "start_time": "2025-01-03T23:41:20.513Z"
   },
   {
    "duration": 36,
    "start_time": "2025-01-03T23:41:20.807Z"
   },
   {
    "duration": 26,
    "start_time": "2025-01-03T23:41:20.859Z"
   },
   {
    "duration": 23,
    "start_time": "2025-01-03T23:41:20.888Z"
   },
   {
    "duration": 91,
    "start_time": "2025-01-03T23:41:20.913Z"
   },
   {
    "duration": 33,
    "start_time": "2025-01-03T23:41:21.005Z"
   },
   {
    "duration": 21,
    "start_time": "2025-01-03T23:41:21.059Z"
   },
   {
    "duration": 41,
    "start_time": "2025-01-03T23:41:21.082Z"
   },
   {
    "duration": 61,
    "start_time": "2025-01-03T23:41:21.125Z"
   },
   {
    "duration": 195,
    "start_time": "2025-01-03T23:41:21.188Z"
   },
   {
    "duration": 262,
    "start_time": "2025-01-03T23:41:21.385Z"
   },
   {
    "duration": 236,
    "start_time": "2025-01-03T23:41:21.650Z"
   },
   {
    "duration": 158,
    "start_time": "2025-01-03T23:41:21.888Z"
   },
   {
    "duration": 20,
    "start_time": "2025-01-03T23:41:22.048Z"
   },
   {
    "duration": 246,
    "start_time": "2025-01-03T23:41:22.070Z"
   },
   {
    "duration": 153,
    "start_time": "2025-01-03T23:41:22.318Z"
   },
   {
    "duration": 15,
    "start_time": "2025-01-03T23:41:22.473Z"
   },
   {
    "duration": 221,
    "start_time": "2025-01-03T23:41:22.489Z"
   },
   {
    "duration": 301,
    "start_time": "2025-01-03T23:41:22.712Z"
   },
   {
    "duration": 21,
    "start_time": "2025-01-03T23:41:23.015Z"
   },
   {
    "duration": 2786,
    "start_time": "2025-01-03T23:41:47.729Z"
   },
   {
    "duration": 3799,
    "start_time": "2025-01-03T23:41:50.518Z"
   },
   {
    "duration": 131,
    "start_time": "2025-01-03T23:41:54.319Z"
   },
   {
    "duration": 35,
    "start_time": "2025-01-03T23:41:54.452Z"
   },
   {
    "duration": 25,
    "start_time": "2025-01-03T23:41:54.489Z"
   },
   {
    "duration": 49,
    "start_time": "2025-01-03T23:41:54.516Z"
   },
   {
    "duration": 67,
    "start_time": "2025-01-03T23:41:54.567Z"
   },
   {
    "duration": 57,
    "start_time": "2025-01-03T23:41:54.636Z"
   },
   {
    "duration": 21,
    "start_time": "2025-01-03T23:41:54.695Z"
   },
   {
    "duration": 79,
    "start_time": "2025-01-03T23:41:54.720Z"
   },
   {
    "duration": 38,
    "start_time": "2025-01-03T23:41:54.801Z"
   },
   {
    "duration": 192,
    "start_time": "2025-01-03T23:41:54.860Z"
   },
   {
    "duration": 262,
    "start_time": "2025-01-03T23:41:55.054Z"
   },
   {
    "duration": 212,
    "start_time": "2025-01-03T23:41:55.318Z"
   },
   {
    "duration": 143,
    "start_time": "2025-01-03T23:41:55.532Z"
   },
   {
    "duration": 13,
    "start_time": "2025-01-03T23:41:55.677Z"
   },
   {
    "duration": 237,
    "start_time": "2025-01-03T23:41:55.692Z"
   },
   {
    "duration": 153,
    "start_time": "2025-01-03T23:41:55.931Z"
   },
   {
    "duration": 15,
    "start_time": "2025-01-03T23:41:56.086Z"
   },
   {
    "duration": 214,
    "start_time": "2025-01-03T23:41:56.103Z"
   },
   {
    "duration": 288,
    "start_time": "2025-01-03T23:41:56.319Z"
   },
   {
    "duration": 19,
    "start_time": "2025-01-03T23:41:56.609Z"
   },
   {
    "duration": 52,
    "start_time": "2025-01-03T23:44:02.249Z"
   },
   {
    "duration": 2746,
    "start_time": "2025-01-03T23:51:37.688Z"
   },
   {
    "duration": 2882,
    "start_time": "2025-01-03T23:58:39.334Z"
   },
   {
    "duration": 1303,
    "start_time": "2025-01-03T23:58:42.219Z"
   },
   {
    "duration": 292,
    "start_time": "2025-01-03T23:58:43.524Z"
   },
   {
    "duration": 48,
    "start_time": "2025-01-03T23:58:43.819Z"
   },
   {
    "duration": 28,
    "start_time": "2025-01-03T23:58:43.869Z"
   },
   {
    "duration": 26,
    "start_time": "2025-01-03T23:58:43.899Z"
   },
   {
    "duration": 94,
    "start_time": "2025-01-03T23:58:43.927Z"
   },
   {
    "duration": 55,
    "start_time": "2025-01-03T23:58:44.022Z"
   },
   {
    "duration": 19,
    "start_time": "2025-01-03T23:58:44.080Z"
   },
   {
    "duration": 67,
    "start_time": "2025-01-03T23:58:44.102Z"
   },
   {
    "duration": 38,
    "start_time": "2025-01-03T23:58:44.171Z"
   },
   {
    "duration": 201,
    "start_time": "2025-01-03T23:58:44.211Z"
   },
   {
    "duration": 259,
    "start_time": "2025-01-03T23:58:44.414Z"
   },
   {
    "duration": 209,
    "start_time": "2025-01-03T23:58:44.675Z"
   },
   {
    "duration": 145,
    "start_time": "2025-01-03T23:58:44.886Z"
   },
   {
    "duration": 28,
    "start_time": "2025-01-03T23:58:45.033Z"
   },
   {
    "duration": 246,
    "start_time": "2025-01-03T23:58:45.063Z"
   },
   {
    "duration": 150,
    "start_time": "2025-01-03T23:58:45.311Z"
   },
   {
    "duration": 14,
    "start_time": "2025-01-03T23:58:45.463Z"
   },
   {
    "duration": 220,
    "start_time": "2025-01-03T23:58:45.479Z"
   },
   {
    "duration": 290,
    "start_time": "2025-01-03T23:58:45.701Z"
   },
   {
    "duration": 22,
    "start_time": "2025-01-03T23:58:45.993Z"
   },
   {
    "duration": 2807,
    "start_time": "2025-01-04T00:00:59.973Z"
   },
   {
    "duration": 2017,
    "start_time": "2025-01-04T00:01:02.783Z"
   },
   {
    "duration": 292,
    "start_time": "2025-01-04T00:01:04.802Z"
   },
   {
    "duration": 36,
    "start_time": "2025-01-04T00:01:05.097Z"
   },
   {
    "duration": 48,
    "start_time": "2025-01-04T00:01:05.135Z"
   },
   {
    "duration": 23,
    "start_time": "2025-01-04T00:01:05.185Z"
   },
   {
    "duration": 99,
    "start_time": "2025-01-04T00:01:05.210Z"
   },
   {
    "duration": 32,
    "start_time": "2025-01-04T00:01:05.311Z"
   },
   {
    "duration": 19,
    "start_time": "2025-01-04T00:01:05.361Z"
   },
   {
    "duration": 42,
    "start_time": "2025-01-04T00:01:05.383Z"
   },
   {
    "duration": 63,
    "start_time": "2025-01-04T00:01:05.426Z"
   },
   {
    "duration": 199,
    "start_time": "2025-01-04T00:01:05.491Z"
   },
   {
    "duration": 256,
    "start_time": "2025-01-04T00:01:05.692Z"
   },
   {
    "duration": 212,
    "start_time": "2025-01-04T00:01:05.951Z"
   },
   {
    "duration": 139,
    "start_time": "2025-01-04T00:01:06.165Z"
   },
   {
    "duration": 13,
    "start_time": "2025-01-04T00:01:06.306Z"
   },
   {
    "duration": 228,
    "start_time": "2025-01-04T00:01:06.321Z"
   },
   {
    "duration": 143,
    "start_time": "2025-01-04T00:01:06.559Z"
   },
   {
    "duration": 13,
    "start_time": "2025-01-04T00:01:06.704Z"
   },
   {
    "duration": 216,
    "start_time": "2025-01-04T00:01:06.719Z"
   },
   {
    "duration": 279,
    "start_time": "2025-01-04T00:01:06.937Z"
   },
   {
    "duration": 43,
    "start_time": "2025-01-04T00:01:07.217Z"
   },
   {
    "duration": 3551,
    "start_time": "2025-01-04T00:01:53.925Z"
   },
   {
    "duration": 1491,
    "start_time": "2025-01-04T00:01:57.478Z"
   },
   {
    "duration": 292,
    "start_time": "2025-01-04T00:01:58.971Z"
   },
   {
    "duration": 38,
    "start_time": "2025-01-04T00:01:59.266Z"
   },
   {
    "duration": 64,
    "start_time": "2025-01-04T00:01:59.306Z"
   },
   {
    "duration": 28,
    "start_time": "2025-01-04T00:01:59.372Z"
   },
   {
    "duration": 89,
    "start_time": "2025-01-04T00:01:59.402Z"
   },
   {
    "duration": 33,
    "start_time": "2025-01-04T00:01:59.493Z"
   },
   {
    "duration": 44,
    "start_time": "2025-01-04T00:01:59.527Z"
   },
   {
    "duration": 41,
    "start_time": "2025-01-04T00:01:59.574Z"
   },
   {
    "duration": 58,
    "start_time": "2025-01-04T00:01:59.617Z"
   },
   {
    "duration": 192,
    "start_time": "2025-01-04T00:01:59.676Z"
   },
   {
    "duration": 345,
    "start_time": "2025-01-04T00:01:59.870Z"
   },
   {
    "duration": 203,
    "start_time": "2025-01-04T00:02:00.217Z"
   },
   {
    "duration": 146,
    "start_time": "2025-01-04T00:02:00.422Z"
   },
   {
    "duration": 10,
    "start_time": "2025-01-04T00:02:00.570Z"
   },
   {
    "duration": 232,
    "start_time": "2025-01-04T00:02:00.582Z"
   },
   {
    "duration": 146,
    "start_time": "2025-01-04T00:02:00.816Z"
   },
   {
    "duration": 12,
    "start_time": "2025-01-04T00:02:00.964Z"
   },
   {
    "duration": 230,
    "start_time": "2025-01-04T00:02:00.978Z"
   },
   {
    "duration": 195,
    "start_time": "2025-01-04T00:02:01.209Z"
   },
   {
    "duration": 19,
    "start_time": "2025-01-04T00:02:01.406Z"
   },
   {
    "duration": 46921,
    "start_time": "2025-01-04T00:02:01.427Z"
   },
   {
    "duration": 0,
    "start_time": "2025-01-04T00:02:48.350Z"
   },
   {
    "duration": 0,
    "start_time": "2025-01-04T00:02:48.352Z"
   },
   {
    "duration": 0,
    "start_time": "2025-01-04T00:02:48.353Z"
   },
   {
    "duration": 0,
    "start_time": "2025-01-04T00:02:48.354Z"
   },
   {
    "duration": 0,
    "start_time": "2025-01-04T00:02:48.355Z"
   },
   {
    "duration": 0,
    "start_time": "2025-01-04T00:02:48.355Z"
   },
   {
    "duration": 0,
    "start_time": "2025-01-04T00:02:48.356Z"
   },
   {
    "duration": 0,
    "start_time": "2025-01-04T00:02:48.356Z"
   },
   {
    "duration": 36380,
    "start_time": "2025-01-04T00:03:45.820Z"
   },
   {
    "duration": 3789,
    "start_time": "2025-01-04T00:04:43.683Z"
   },
   {
    "duration": 1334,
    "start_time": "2025-01-04T00:04:47.475Z"
   },
   {
    "duration": 293,
    "start_time": "2025-01-04T00:04:48.811Z"
   },
   {
    "duration": 35,
    "start_time": "2025-01-04T00:04:49.106Z"
   },
   {
    "duration": 40,
    "start_time": "2025-01-04T00:04:49.144Z"
   },
   {
    "duration": 22,
    "start_time": "2025-01-04T00:04:49.187Z"
   },
   {
    "duration": 96,
    "start_time": "2025-01-04T00:04:49.211Z"
   },
   {
    "duration": 52,
    "start_time": "2025-01-04T00:04:49.309Z"
   },
   {
    "duration": 20,
    "start_time": "2025-01-04T00:04:49.363Z"
   },
   {
    "duration": 43,
    "start_time": "2025-01-04T00:04:49.385Z"
   },
   {
    "duration": 64,
    "start_time": "2025-01-04T00:04:49.430Z"
   },
   {
    "duration": 196,
    "start_time": "2025-01-04T00:04:49.496Z"
   },
   {
    "duration": 260,
    "start_time": "2025-01-04T00:04:49.694Z"
   },
   {
    "duration": 206,
    "start_time": "2025-01-04T00:04:49.961Z"
   },
   {
    "duration": 142,
    "start_time": "2025-01-04T00:04:50.168Z"
   },
   {
    "duration": 11,
    "start_time": "2025-01-04T00:04:50.312Z"
   },
   {
    "duration": 226,
    "start_time": "2025-01-04T00:04:50.325Z"
   },
   {
    "duration": 140,
    "start_time": "2025-01-04T00:04:50.559Z"
   },
   {
    "duration": 14,
    "start_time": "2025-01-04T00:04:50.700Z"
   },
   {
    "duration": 214,
    "start_time": "2025-01-04T00:04:50.716Z"
   },
   {
    "duration": 272,
    "start_time": "2025-01-04T00:04:50.932Z"
   },
   {
    "duration": 19,
    "start_time": "2025-01-04T00:04:51.206Z"
   },
   {
    "duration": 56,
    "start_time": "2025-01-04T00:05:34.636Z"
   },
   {
    "duration": 2808,
    "start_time": "2025-01-04T00:05:41.285Z"
   },
   {
    "duration": 1237,
    "start_time": "2025-01-04T00:05:44.095Z"
   },
   {
    "duration": 301,
    "start_time": "2025-01-04T00:05:45.334Z"
   },
   {
    "duration": 38,
    "start_time": "2025-01-04T00:05:45.637Z"
   },
   {
    "duration": 29,
    "start_time": "2025-01-04T00:05:45.678Z"
   },
   {
    "duration": 51,
    "start_time": "2025-01-04T00:05:45.709Z"
   },
   {
    "duration": 68,
    "start_time": "2025-01-04T00:05:45.762Z"
   },
   {
    "duration": 54,
    "start_time": "2025-01-04T00:05:45.831Z"
   },
   {
    "duration": 22,
    "start_time": "2025-01-04T00:05:45.887Z"
   },
   {
    "duration": 79,
    "start_time": "2025-01-04T00:05:45.910Z"
   },
   {
    "duration": 40,
    "start_time": "2025-01-04T00:05:45.992Z"
   },
   {
    "duration": 212,
    "start_time": "2025-01-04T00:05:46.034Z"
   },
   {
    "duration": 265,
    "start_time": "2025-01-04T00:05:46.260Z"
   },
   {
    "duration": 211,
    "start_time": "2025-01-04T00:05:46.528Z"
   },
   {
    "duration": 151,
    "start_time": "2025-01-04T00:05:46.741Z"
   },
   {
    "duration": 10,
    "start_time": "2025-01-04T00:05:46.894Z"
   },
   {
    "duration": 233,
    "start_time": "2025-01-04T00:05:46.906Z"
   },
   {
    "duration": 146,
    "start_time": "2025-01-04T00:05:47.142Z"
   },
   {
    "duration": 14,
    "start_time": "2025-01-04T00:05:47.289Z"
   },
   {
    "duration": 211,
    "start_time": "2025-01-04T00:05:47.305Z"
   },
   {
    "duration": 282,
    "start_time": "2025-01-04T00:05:47.518Z"
   },
   {
    "duration": 20,
    "start_time": "2025-01-04T00:05:47.802Z"
   },
   {
    "duration": 50,
    "start_time": "2025-01-04T00:07:09.437Z"
   },
   {
    "duration": 2812,
    "start_time": "2025-01-04T00:07:31.924Z"
   },
   {
    "duration": 2059,
    "start_time": "2025-01-04T00:07:34.739Z"
   },
   {
    "duration": 289,
    "start_time": "2025-01-04T00:07:36.800Z"
   },
   {
    "duration": 34,
    "start_time": "2025-01-04T00:07:37.091Z"
   },
   {
    "duration": 52,
    "start_time": "2025-01-04T00:07:37.128Z"
   },
   {
    "duration": 23,
    "start_time": "2025-01-04T00:07:37.182Z"
   },
   {
    "duration": 92,
    "start_time": "2025-01-04T00:07:37.207Z"
   },
   {
    "duration": 32,
    "start_time": "2025-01-04T00:07:37.300Z"
   },
   {
    "duration": 42,
    "start_time": "2025-01-04T00:07:37.334Z"
   },
   {
    "duration": 42,
    "start_time": "2025-01-04T00:07:37.377Z"
   },
   {
    "duration": 63,
    "start_time": "2025-01-04T00:07:37.421Z"
   },
   {
    "duration": 186,
    "start_time": "2025-01-04T00:07:37.485Z"
   },
   {
    "duration": 270,
    "start_time": "2025-01-04T00:07:37.672Z"
   },
   {
    "duration": 205,
    "start_time": "2025-01-04T00:07:37.945Z"
   },
   {
    "duration": 145,
    "start_time": "2025-01-04T00:07:38.152Z"
   },
   {
    "duration": 11,
    "start_time": "2025-01-04T00:07:38.298Z"
   },
   {
    "duration": 238,
    "start_time": "2025-01-04T00:07:38.310Z"
   },
   {
    "duration": 147,
    "start_time": "2025-01-04T00:07:38.550Z"
   },
   {
    "duration": 13,
    "start_time": "2025-01-04T00:07:38.698Z"
   },
   {
    "duration": 212,
    "start_time": "2025-01-04T00:07:38.713Z"
   },
   {
    "duration": 279,
    "start_time": "2025-01-04T00:07:38.926Z"
   },
   {
    "duration": 16,
    "start_time": "2025-01-04T00:07:39.207Z"
   },
   {
    "duration": 52,
    "start_time": "2025-01-04T00:08:54.146Z"
   },
   {
    "duration": 8,
    "start_time": "2025-01-04T00:08:54.579Z"
   },
   {
    "duration": 2884,
    "start_time": "2025-01-04T00:10:46.533Z"
   },
   {
    "duration": 1297,
    "start_time": "2025-01-04T00:10:49.419Z"
   },
   {
    "duration": 290,
    "start_time": "2025-01-04T00:10:50.718Z"
   },
   {
    "duration": 34,
    "start_time": "2025-01-04T00:10:51.010Z"
   },
   {
    "duration": 34,
    "start_time": "2025-01-04T00:10:51.046Z"
   },
   {
    "duration": 25,
    "start_time": "2025-01-04T00:10:51.082Z"
   },
   {
    "duration": 98,
    "start_time": "2025-01-04T00:10:51.109Z"
   },
   {
    "duration": 52,
    "start_time": "2025-01-04T00:10:51.208Z"
   },
   {
    "duration": 20,
    "start_time": "2025-01-04T00:10:51.262Z"
   },
   {
    "duration": 41,
    "start_time": "2025-01-04T00:10:51.285Z"
   },
   {
    "duration": 60,
    "start_time": "2025-01-04T00:10:51.328Z"
   },
   {
    "duration": 200,
    "start_time": "2025-01-04T00:10:51.389Z"
   },
   {
    "duration": 278,
    "start_time": "2025-01-04T00:10:51.591Z"
   },
   {
    "duration": 205,
    "start_time": "2025-01-04T00:10:51.871Z"
   },
   {
    "duration": 137,
    "start_time": "2025-01-04T00:10:52.077Z"
   },
   {
    "duration": 10,
    "start_time": "2025-01-04T00:10:52.216Z"
   },
   {
    "duration": 231,
    "start_time": "2025-01-04T00:10:52.228Z"
   },
   {
    "duration": 136,
    "start_time": "2025-01-04T00:10:52.461Z"
   },
   {
    "duration": 14,
    "start_time": "2025-01-04T00:10:52.599Z"
   },
   {
    "duration": 210,
    "start_time": "2025-01-04T00:10:52.615Z"
   },
   {
    "duration": 279,
    "start_time": "2025-01-04T00:10:52.827Z"
   },
   {
    "duration": 58,
    "start_time": "2025-01-04T00:10:53.108Z"
   },
   {
    "duration": 1259,
    "start_time": "2025-01-04T00:12:50.284Z"
   },
   {
    "duration": 2803,
    "start_time": "2025-01-04T00:12:53.153Z"
   },
   {
    "duration": 3,
    "start_time": "2025-01-04T00:12:56.731Z"
   },
   {
    "duration": 2778,
    "start_time": "2025-01-04T00:13:02.854Z"
   },
   {
    "duration": 1309,
    "start_time": "2025-01-04T00:13:05.634Z"
   },
   {
    "duration": 288,
    "start_time": "2025-01-04T00:13:06.945Z"
   },
   {
    "duration": 36,
    "start_time": "2025-01-04T00:13:07.234Z"
   },
   {
    "duration": 27,
    "start_time": "2025-01-04T00:13:07.272Z"
   },
   {
    "duration": 23,
    "start_time": "2025-01-04T00:13:07.300Z"
   },
   {
    "duration": 89,
    "start_time": "2025-01-04T00:13:07.324Z"
   },
   {
    "duration": 55,
    "start_time": "2025-01-04T00:13:07.415Z"
   },
   {
    "duration": 19,
    "start_time": "2025-01-04T00:13:07.472Z"
   },
   {
    "duration": 40,
    "start_time": "2025-01-04T00:13:07.493Z"
   },
   {
    "duration": 60,
    "start_time": "2025-01-04T00:13:07.535Z"
   },
   {
    "duration": 199,
    "start_time": "2025-01-04T00:13:07.597Z"
   },
   {
    "duration": 278,
    "start_time": "2025-01-04T00:13:07.798Z"
   },
   {
    "duration": 212,
    "start_time": "2025-01-04T00:13:08.078Z"
   },
   {
    "duration": 140,
    "start_time": "2025-01-04T00:13:08.292Z"
   },
   {
    "duration": 10,
    "start_time": "2025-01-04T00:13:08.434Z"
   },
   {
    "duration": 218,
    "start_time": "2025-01-04T00:13:08.461Z"
   },
   {
    "duration": 147,
    "start_time": "2025-01-04T00:13:08.680Z"
   },
   {
    "duration": 12,
    "start_time": "2025-01-04T00:13:08.829Z"
   },
   {
    "duration": 213,
    "start_time": "2025-01-04T00:13:08.843Z"
   },
   {
    "duration": 273,
    "start_time": "2025-01-04T00:13:09.059Z"
   },
   {
    "duration": 48,
    "start_time": "2025-01-04T00:13:09.334Z"
   },
   {
    "duration": 81,
    "start_time": "2025-01-04T00:13:09.384Z"
   },
   {
    "duration": 0,
    "start_time": "2025-01-04T00:13:09.467Z"
   },
   {
    "duration": 0,
    "start_time": "2025-01-04T00:13:09.468Z"
   },
   {
    "duration": 0,
    "start_time": "2025-01-04T00:13:09.470Z"
   },
   {
    "duration": 0,
    "start_time": "2025-01-04T00:13:09.471Z"
   },
   {
    "duration": 0,
    "start_time": "2025-01-04T00:13:09.472Z"
   },
   {
    "duration": 0,
    "start_time": "2025-01-04T00:13:09.473Z"
   },
   {
    "duration": 0,
    "start_time": "2025-01-04T00:13:09.474Z"
   },
   {
    "duration": 0,
    "start_time": "2025-01-04T00:13:09.476Z"
   },
   {
    "duration": 3560,
    "start_time": "2025-01-04T00:13:14.837Z"
   },
   {
    "duration": 2196,
    "start_time": "2025-01-04T00:13:18.399Z"
   },
   {
    "duration": 264,
    "start_time": "2025-01-04T00:13:20.596Z"
   },
   {
    "duration": 36,
    "start_time": "2025-01-04T00:13:20.862Z"
   },
   {
    "duration": 78,
    "start_time": "2025-01-04T00:13:20.900Z"
   },
   {
    "duration": 23,
    "start_time": "2025-01-04T00:13:20.980Z"
   },
   {
    "duration": 126,
    "start_time": "2025-01-04T00:13:21.061Z"
   },
   {
    "duration": 89,
    "start_time": "2025-01-04T00:13:21.188Z"
   },
   {
    "duration": 19,
    "start_time": "2025-01-04T00:13:21.279Z"
   },
   {
    "duration": 98,
    "start_time": "2025-01-04T00:13:21.300Z"
   },
   {
    "duration": 93,
    "start_time": "2025-01-04T00:13:21.400Z"
   },
   {
    "duration": 238,
    "start_time": "2025-01-04T00:13:21.495Z"
   },
   {
    "duration": 264,
    "start_time": "2025-01-04T00:13:21.735Z"
   },
   {
    "duration": 210,
    "start_time": "2025-01-04T00:13:22.000Z"
   },
   {
    "duration": 148,
    "start_time": "2025-01-04T00:13:22.212Z"
   },
   {
    "duration": 10,
    "start_time": "2025-01-04T00:13:22.362Z"
   },
   {
    "duration": 226,
    "start_time": "2025-01-04T00:13:22.373Z"
   },
   {
    "duration": 146,
    "start_time": "2025-01-04T00:13:22.600Z"
   },
   {
    "duration": 23,
    "start_time": "2025-01-04T00:13:22.747Z"
   },
   {
    "duration": 207,
    "start_time": "2025-01-04T00:13:22.771Z"
   },
   {
    "duration": 280,
    "start_time": "2025-01-04T00:13:22.980Z"
   },
   {
    "duration": 36,
    "start_time": "2025-01-04T00:13:23.261Z"
   },
   {
    "duration": 3018,
    "start_time": "2025-01-04T00:14:20.245Z"
   },
   {
    "duration": 1292,
    "start_time": "2025-01-04T00:14:23.266Z"
   },
   {
    "duration": 287,
    "start_time": "2025-01-04T00:14:24.560Z"
   },
   {
    "duration": 36,
    "start_time": "2025-01-04T00:14:24.849Z"
   },
   {
    "duration": 26,
    "start_time": "2025-01-04T00:14:24.887Z"
   },
   {
    "duration": 49,
    "start_time": "2025-01-04T00:14:24.915Z"
   },
   {
    "duration": 61,
    "start_time": "2025-01-04T00:14:24.966Z"
   },
   {
    "duration": 50,
    "start_time": "2025-01-04T00:14:25.029Z"
   },
   {
    "duration": 18,
    "start_time": "2025-01-04T00:14:25.081Z"
   },
   {
    "duration": 70,
    "start_time": "2025-01-04T00:14:25.102Z"
   },
   {
    "duration": 38,
    "start_time": "2025-01-04T00:14:25.174Z"
   },
   {
    "duration": 200,
    "start_time": "2025-01-04T00:14:25.214Z"
   },
   {
    "duration": 251,
    "start_time": "2025-01-04T00:14:25.416Z"
   },
   {
    "duration": 200,
    "start_time": "2025-01-04T00:14:25.669Z"
   },
   {
    "duration": 148,
    "start_time": "2025-01-04T00:14:25.871Z"
   },
   {
    "duration": 13,
    "start_time": "2025-01-04T00:14:26.021Z"
   },
   {
    "duration": 237,
    "start_time": "2025-01-04T00:14:26.035Z"
   },
   {
    "duration": 146,
    "start_time": "2025-01-04T00:14:26.274Z"
   },
   {
    "duration": 12,
    "start_time": "2025-01-04T00:14:26.422Z"
   },
   {
    "duration": 205,
    "start_time": "2025-01-04T00:14:26.435Z"
   },
   {
    "duration": 280,
    "start_time": "2025-01-04T00:14:26.642Z"
   },
   {
    "duration": 39,
    "start_time": "2025-01-04T00:14:26.924Z"
   },
   {
    "duration": 3559,
    "start_time": "2025-01-04T00:14:45.583Z"
   },
   {
    "duration": 1260,
    "start_time": "2025-01-04T00:14:49.144Z"
   },
   {
    "duration": 130,
    "start_time": "2025-01-04T00:14:50.406Z"
   },
   {
    "duration": 36,
    "start_time": "2025-01-04T00:14:50.538Z"
   },
   {
    "duration": 30,
    "start_time": "2025-01-04T00:14:50.577Z"
   },
   {
    "duration": 51,
    "start_time": "2025-01-04T00:14:50.609Z"
   },
   {
    "duration": 65,
    "start_time": "2025-01-04T00:14:50.662Z"
   },
   {
    "duration": 58,
    "start_time": "2025-01-04T00:14:50.730Z"
   },
   {
    "duration": 21,
    "start_time": "2025-01-04T00:14:50.790Z"
   },
   {
    "duration": 74,
    "start_time": "2025-01-04T00:14:50.813Z"
   },
   {
    "duration": 39,
    "start_time": "2025-01-04T00:14:50.889Z"
   },
   {
    "duration": 200,
    "start_time": "2025-01-04T00:14:50.930Z"
   },
   {
    "duration": 261,
    "start_time": "2025-01-04T00:14:51.132Z"
   },
   {
    "duration": 210,
    "start_time": "2025-01-04T00:14:51.396Z"
   },
   {
    "duration": 160,
    "start_time": "2025-01-04T00:14:51.608Z"
   },
   {
    "duration": 10,
    "start_time": "2025-01-04T00:14:51.770Z"
   },
   {
    "duration": 228,
    "start_time": "2025-01-04T00:14:51.782Z"
   },
   {
    "duration": 140,
    "start_time": "2025-01-04T00:14:52.012Z"
   },
   {
    "duration": 16,
    "start_time": "2025-01-04T00:14:52.154Z"
   },
   {
    "duration": 212,
    "start_time": "2025-01-04T00:14:52.172Z"
   },
   {
    "duration": 278,
    "start_time": "2025-01-04T00:14:52.386Z"
   },
   {
    "duration": 2,
    "start_time": "2025-01-04T00:14:52.666Z"
   },
   {
    "duration": 2815,
    "start_time": "2025-01-04T00:15:48.430Z"
   },
   {
    "duration": 1390,
    "start_time": "2025-01-04T00:15:51.247Z"
   },
   {
    "duration": 288,
    "start_time": "2025-01-04T00:15:52.639Z"
   },
   {
    "duration": 35,
    "start_time": "2025-01-04T00:15:52.929Z"
   },
   {
    "duration": 27,
    "start_time": "2025-01-04T00:15:52.966Z"
   },
   {
    "duration": 40,
    "start_time": "2025-01-04T00:15:52.994Z"
   },
   {
    "duration": 75,
    "start_time": "2025-01-04T00:15:53.035Z"
   },
   {
    "duration": 57,
    "start_time": "2025-01-04T00:15:53.112Z"
   },
   {
    "duration": 20,
    "start_time": "2025-01-04T00:15:53.172Z"
   },
   {
    "duration": 68,
    "start_time": "2025-01-04T00:15:53.196Z"
   },
   {
    "duration": 40,
    "start_time": "2025-01-04T00:15:53.266Z"
   },
   {
    "duration": 213,
    "start_time": "2025-01-04T00:15:53.308Z"
   },
   {
    "duration": 254,
    "start_time": "2025-01-04T00:15:53.522Z"
   },
   {
    "duration": 210,
    "start_time": "2025-01-04T00:15:53.778Z"
   },
   {
    "duration": 143,
    "start_time": "2025-01-04T00:15:53.990Z"
   },
   {
    "duration": 29,
    "start_time": "2025-01-04T00:15:54.136Z"
   },
   {
    "duration": 216,
    "start_time": "2025-01-04T00:15:54.167Z"
   },
   {
    "duration": 146,
    "start_time": "2025-01-04T00:15:54.385Z"
   },
   {
    "duration": 13,
    "start_time": "2025-01-04T00:15:54.532Z"
   },
   {
    "duration": 199,
    "start_time": "2025-01-04T00:15:54.560Z"
   },
   {
    "duration": 270,
    "start_time": "2025-01-04T00:15:54.761Z"
   },
   {
    "duration": 39,
    "start_time": "2025-01-04T00:15:55.033Z"
   },
   {
    "duration": 86,
    "start_time": "2025-01-04T00:16:50.024Z"
   },
   {
    "duration": 45,
    "start_time": "2025-01-04T00:16:59.795Z"
   },
   {
    "duration": 2852,
    "start_time": "2025-01-04T00:17:03.856Z"
   },
   {
    "duration": 1410,
    "start_time": "2025-01-04T00:17:06.711Z"
   },
   {
    "duration": 360,
    "start_time": "2025-01-04T00:17:08.123Z"
   },
   {
    "duration": 92,
    "start_time": "2025-01-04T00:17:08.485Z"
   },
   {
    "duration": 27,
    "start_time": "2025-01-04T00:17:08.580Z"
   },
   {
    "duration": 22,
    "start_time": "2025-01-04T00:17:08.661Z"
   },
   {
    "duration": 119,
    "start_time": "2025-01-04T00:17:08.685Z"
   },
   {
    "duration": 36,
    "start_time": "2025-01-04T00:17:08.860Z"
   },
   {
    "duration": 76,
    "start_time": "2025-01-04T00:17:08.897Z"
   },
   {
    "duration": 97,
    "start_time": "2025-01-04T00:17:08.975Z"
   },
   {
    "duration": 96,
    "start_time": "2025-01-04T00:17:09.074Z"
   },
   {
    "duration": 250,
    "start_time": "2025-01-04T00:17:09.171Z"
   },
   {
    "duration": 268,
    "start_time": "2025-01-04T00:17:09.423Z"
   },
   {
    "duration": 208,
    "start_time": "2025-01-04T00:17:09.694Z"
   },
   {
    "duration": 141,
    "start_time": "2025-01-04T00:17:09.903Z"
   },
   {
    "duration": 19,
    "start_time": "2025-01-04T00:17:10.047Z"
   },
   {
    "duration": 223,
    "start_time": "2025-01-04T00:17:10.068Z"
   },
   {
    "duration": 144,
    "start_time": "2025-01-04T00:17:10.293Z"
   },
   {
    "duration": 23,
    "start_time": "2025-01-04T00:17:10.439Z"
   },
   {
    "duration": 198,
    "start_time": "2025-01-04T00:17:10.464Z"
   },
   {
    "duration": 277,
    "start_time": "2025-01-04T00:17:10.663Z"
   },
   {
    "duration": 34,
    "start_time": "2025-01-04T00:17:10.942Z"
   },
   {
    "duration": 117,
    "start_time": "2025-01-04T00:17:10.978Z"
   },
   {
    "duration": 124,
    "start_time": "2025-01-04T00:17:11.096Z"
   },
   {
    "duration": 0,
    "start_time": "2025-01-04T00:17:11.222Z"
   },
   {
    "duration": 0,
    "start_time": "2025-01-04T00:17:11.223Z"
   },
   {
    "duration": 0,
    "start_time": "2025-01-04T00:17:11.224Z"
   },
   {
    "duration": 0,
    "start_time": "2025-01-04T00:17:11.226Z"
   },
   {
    "duration": 0,
    "start_time": "2025-01-04T00:17:11.227Z"
   },
   {
    "duration": 0,
    "start_time": "2025-01-04T00:17:11.228Z"
   },
   {
    "duration": 0,
    "start_time": "2025-01-04T00:17:11.229Z"
   },
   {
    "duration": 3352,
    "start_time": "2025-01-04T00:17:38.909Z"
   },
   {
    "duration": 1336,
    "start_time": "2025-01-04T00:17:42.264Z"
   },
   {
    "duration": 129,
    "start_time": "2025-01-04T00:17:43.602Z"
   },
   {
    "duration": 35,
    "start_time": "2025-01-04T00:17:43.733Z"
   },
   {
    "duration": 26,
    "start_time": "2025-01-04T00:17:43.771Z"
   },
   {
    "duration": 23,
    "start_time": "2025-01-04T00:17:43.799Z"
   },
   {
    "duration": 92,
    "start_time": "2025-01-04T00:17:43.824Z"
   },
   {
    "duration": 51,
    "start_time": "2025-01-04T00:17:43.918Z"
   },
   {
    "duration": 21,
    "start_time": "2025-01-04T00:17:43.970Z"
   },
   {
    "duration": 67,
    "start_time": "2025-01-04T00:17:43.993Z"
   },
   {
    "duration": 38,
    "start_time": "2025-01-04T00:17:44.062Z"
   },
   {
    "duration": 200,
    "start_time": "2025-01-04T00:17:44.102Z"
   },
   {
    "duration": 256,
    "start_time": "2025-01-04T00:17:44.304Z"
   },
   {
    "duration": 210,
    "start_time": "2025-01-04T00:17:44.563Z"
   },
   {
    "duration": 138,
    "start_time": "2025-01-04T00:17:44.775Z"
   },
   {
    "duration": 9,
    "start_time": "2025-01-04T00:17:44.915Z"
   },
   {
    "duration": 225,
    "start_time": "2025-01-04T00:17:44.926Z"
   },
   {
    "duration": 140,
    "start_time": "2025-01-04T00:17:45.160Z"
   },
   {
    "duration": 12,
    "start_time": "2025-01-04T00:17:45.302Z"
   },
   {
    "duration": 214,
    "start_time": "2025-01-04T00:17:45.316Z"
   },
   {
    "duration": 285,
    "start_time": "2025-01-04T00:17:45.532Z"
   },
   {
    "duration": 40,
    "start_time": "2025-01-04T00:17:45.819Z"
   },
   {
    "duration": 101,
    "start_time": "2025-01-04T00:17:45.861Z"
   },
   {
    "duration": 121,
    "start_time": "2025-01-04T00:17:45.964Z"
   },
   {
    "duration": 0,
    "start_time": "2025-01-04T00:17:46.087Z"
   },
   {
    "duration": 0,
    "start_time": "2025-01-04T00:17:46.089Z"
   },
   {
    "duration": 0,
    "start_time": "2025-01-04T00:17:46.090Z"
   },
   {
    "duration": 0,
    "start_time": "2025-01-04T00:17:46.091Z"
   },
   {
    "duration": 0,
    "start_time": "2025-01-04T00:17:46.092Z"
   },
   {
    "duration": 0,
    "start_time": "2025-01-04T00:17:46.094Z"
   },
   {
    "duration": 0,
    "start_time": "2025-01-04T00:17:46.095Z"
   },
   {
    "duration": 2929,
    "start_time": "2025-01-04T00:18:20.297Z"
   },
   {
    "duration": 1274,
    "start_time": "2025-01-04T00:18:23.228Z"
   },
   {
    "duration": 130,
    "start_time": "2025-01-04T00:18:24.504Z"
   },
   {
    "duration": 36,
    "start_time": "2025-01-04T00:18:24.636Z"
   },
   {
    "duration": 27,
    "start_time": "2025-01-04T00:18:24.674Z"
   },
   {
    "duration": 26,
    "start_time": "2025-01-04T00:18:24.702Z"
   },
   {
    "duration": 86,
    "start_time": "2025-01-04T00:18:24.730Z"
   },
   {
    "duration": 51,
    "start_time": "2025-01-04T00:18:24.817Z"
   },
   {
    "duration": 21,
    "start_time": "2025-01-04T00:18:24.870Z"
   },
   {
    "duration": 70,
    "start_time": "2025-01-04T00:18:24.894Z"
   },
   {
    "duration": 37,
    "start_time": "2025-01-04T00:18:24.966Z"
   },
   {
    "duration": 201,
    "start_time": "2025-01-04T00:18:25.005Z"
   },
   {
    "duration": 261,
    "start_time": "2025-01-04T00:18:25.208Z"
   },
   {
    "duration": 203,
    "start_time": "2025-01-04T00:18:25.471Z"
   },
   {
    "duration": 138,
    "start_time": "2025-01-04T00:18:25.676Z"
   },
   {
    "duration": 10,
    "start_time": "2025-01-04T00:18:25.816Z"
   },
   {
    "duration": 239,
    "start_time": "2025-01-04T00:18:25.827Z"
   },
   {
    "duration": 144,
    "start_time": "2025-01-04T00:18:26.068Z"
   },
   {
    "duration": 13,
    "start_time": "2025-01-04T00:18:26.214Z"
   },
   {
    "duration": 211,
    "start_time": "2025-01-04T00:18:26.229Z"
   },
   {
    "duration": 281,
    "start_time": "2025-01-04T00:18:26.443Z"
   },
   {
    "duration": 39,
    "start_time": "2025-01-04T00:18:26.726Z"
   },
   {
    "duration": 2875,
    "start_time": "2025-01-04T00:19:17.162Z"
   },
   {
    "duration": 1294,
    "start_time": "2025-01-04T00:19:20.039Z"
   },
   {
    "duration": 287,
    "start_time": "2025-01-04T00:19:21.335Z"
   },
   {
    "duration": 37,
    "start_time": "2025-01-04T00:19:21.624Z"
   },
   {
    "duration": 27,
    "start_time": "2025-01-04T00:19:21.664Z"
   },
   {
    "duration": 31,
    "start_time": "2025-01-04T00:19:21.693Z"
   },
   {
    "duration": 91,
    "start_time": "2025-01-04T00:19:21.726Z"
   },
   {
    "duration": 56,
    "start_time": "2025-01-04T00:19:21.819Z"
   },
   {
    "duration": 21,
    "start_time": "2025-01-04T00:19:21.877Z"
   },
   {
    "duration": 71,
    "start_time": "2025-01-04T00:19:21.901Z"
   },
   {
    "duration": 38,
    "start_time": "2025-01-04T00:19:21.974Z"
   },
   {
    "duration": 203,
    "start_time": "2025-01-04T00:19:22.013Z"
   },
   {
    "duration": 255,
    "start_time": "2025-01-04T00:19:22.218Z"
   },
   {
    "duration": 212,
    "start_time": "2025-01-04T00:19:22.475Z"
   },
   {
    "duration": 138,
    "start_time": "2025-01-04T00:19:22.689Z"
   },
   {
    "duration": 11,
    "start_time": "2025-01-04T00:19:22.828Z"
   },
   {
    "duration": 237,
    "start_time": "2025-01-04T00:19:22.841Z"
   },
   {
    "duration": 145,
    "start_time": "2025-01-04T00:19:23.079Z"
   },
   {
    "duration": 12,
    "start_time": "2025-01-04T00:19:23.226Z"
   },
   {
    "duration": 192,
    "start_time": "2025-01-04T00:19:23.259Z"
   },
   {
    "duration": 275,
    "start_time": "2025-01-04T00:19:23.453Z"
   },
   {
    "duration": 40,
    "start_time": "2025-01-04T00:19:23.730Z"
   },
   {
    "duration": 101,
    "start_time": "2025-01-04T00:19:23.772Z"
   },
   {
    "duration": 122,
    "start_time": "2025-01-04T00:19:23.874Z"
   },
   {
    "duration": 0,
    "start_time": "2025-01-04T00:19:23.997Z"
   },
   {
    "duration": 0,
    "start_time": "2025-01-04T00:19:23.999Z"
   },
   {
    "duration": 0,
    "start_time": "2025-01-04T00:19:24.000Z"
   },
   {
    "duration": 0,
    "start_time": "2025-01-04T00:19:24.001Z"
   },
   {
    "duration": 0,
    "start_time": "2025-01-04T00:19:24.003Z"
   },
   {
    "duration": 0,
    "start_time": "2025-01-04T00:19:24.004Z"
   },
   {
    "duration": 0,
    "start_time": "2025-01-04T00:19:24.005Z"
   },
   {
    "duration": 3433,
    "start_time": "2025-01-04T00:20:08.068Z"
   },
   {
    "duration": 1275,
    "start_time": "2025-01-04T00:20:11.503Z"
   },
   {
    "duration": 129,
    "start_time": "2025-01-04T00:20:12.780Z"
   },
   {
    "duration": 50,
    "start_time": "2025-01-04T00:20:12.911Z"
   },
   {
    "duration": 28,
    "start_time": "2025-01-04T00:20:12.964Z"
   },
   {
    "duration": 23,
    "start_time": "2025-01-04T00:20:12.994Z"
   },
   {
    "duration": 95,
    "start_time": "2025-01-04T00:20:13.018Z"
   },
   {
    "duration": 51,
    "start_time": "2025-01-04T00:20:13.115Z"
   },
   {
    "duration": 19,
    "start_time": "2025-01-04T00:20:13.168Z"
   },
   {
    "duration": 41,
    "start_time": "2025-01-04T00:20:13.189Z"
   },
   {
    "duration": 66,
    "start_time": "2025-01-04T00:20:13.231Z"
   },
   {
    "duration": 199,
    "start_time": "2025-01-04T00:20:13.299Z"
   },
   {
    "duration": 267,
    "start_time": "2025-01-04T00:20:13.500Z"
   },
   {
    "duration": 211,
    "start_time": "2025-01-04T00:20:13.770Z"
   },
   {
    "duration": 145,
    "start_time": "2025-01-04T00:20:13.983Z"
   },
   {
    "duration": 33,
    "start_time": "2025-01-04T00:20:14.130Z"
   },
   {
    "duration": 236,
    "start_time": "2025-01-04T00:20:14.165Z"
   },
   {
    "duration": 161,
    "start_time": "2025-01-04T00:20:14.403Z"
   },
   {
    "duration": 15,
    "start_time": "2025-01-04T00:20:14.567Z"
   },
   {
    "duration": 226,
    "start_time": "2025-01-04T00:20:14.584Z"
   },
   {
    "duration": 473,
    "start_time": "2025-01-04T00:20:14.812Z"
   },
   {
    "duration": 73,
    "start_time": "2025-01-04T00:20:15.287Z"
   },
   {
    "duration": 203,
    "start_time": "2025-01-04T00:20:15.362Z"
   },
   {
    "duration": 211,
    "start_time": "2025-01-04T00:20:15.567Z"
   },
   {
    "duration": 0,
    "start_time": "2025-01-04T00:20:15.780Z"
   },
   {
    "duration": 0,
    "start_time": "2025-01-04T00:20:15.781Z"
   },
   {
    "duration": 0,
    "start_time": "2025-01-04T00:20:15.782Z"
   },
   {
    "duration": 0,
    "start_time": "2025-01-04T00:20:15.784Z"
   },
   {
    "duration": 0,
    "start_time": "2025-01-04T00:20:15.785Z"
   },
   {
    "duration": 0,
    "start_time": "2025-01-04T00:20:15.786Z"
   },
   {
    "duration": 0,
    "start_time": "2025-01-04T00:20:15.787Z"
   },
   {
    "duration": 2858,
    "start_time": "2025-01-04T00:20:59.349Z"
   },
   {
    "duration": 1282,
    "start_time": "2025-01-04T00:21:02.209Z"
   },
   {
    "duration": 133,
    "start_time": "2025-01-04T00:21:03.492Z"
   },
   {
    "duration": 39,
    "start_time": "2025-01-04T00:21:03.627Z"
   },
   {
    "duration": 25,
    "start_time": "2025-01-04T00:21:03.668Z"
   },
   {
    "duration": 22,
    "start_time": "2025-01-04T00:21:03.695Z"
   },
   {
    "duration": 93,
    "start_time": "2025-01-04T00:21:03.719Z"
   },
   {
    "duration": 59,
    "start_time": "2025-01-04T00:21:03.813Z"
   },
   {
    "duration": 22,
    "start_time": "2025-01-04T00:21:03.874Z"
   },
   {
    "duration": 62,
    "start_time": "2025-01-04T00:21:03.898Z"
   },
   {
    "duration": 40,
    "start_time": "2025-01-04T00:21:03.961Z"
   },
   {
    "duration": 206,
    "start_time": "2025-01-04T00:21:04.003Z"
   },
   {
    "duration": 461,
    "start_time": "2025-01-04T00:21:04.211Z"
   },
   {
    "duration": 407,
    "start_time": "2025-01-04T00:21:04.675Z"
   },
   {
    "duration": 288,
    "start_time": "2025-01-04T00:21:05.084Z"
   },
   {
    "duration": 14,
    "start_time": "2025-01-04T00:21:05.374Z"
   },
   {
    "duration": 495,
    "start_time": "2025-01-04T00:21:05.391Z"
   },
   {
    "duration": 228,
    "start_time": "2025-01-04T00:21:05.887Z"
   },
   {
    "duration": 15,
    "start_time": "2025-01-04T00:21:06.116Z"
   },
   {
    "duration": 233,
    "start_time": "2025-01-04T00:21:06.134Z"
   },
   {
    "duration": 303,
    "start_time": "2025-01-04T00:21:06.369Z"
   },
   {
    "duration": 22,
    "start_time": "2025-01-04T00:21:06.674Z"
   },
   {
    "duration": 126,
    "start_time": "2025-01-04T00:21:06.698Z"
   },
   {
    "duration": 2263,
    "start_time": "2025-01-04T00:21:06.826Z"
   },
   {
    "duration": 0,
    "start_time": "2025-01-04T00:21:09.091Z"
   },
   {
    "duration": 0,
    "start_time": "2025-01-04T00:21:09.092Z"
   },
   {
    "duration": 0,
    "start_time": "2025-01-04T00:21:09.094Z"
   },
   {
    "duration": 0,
    "start_time": "2025-01-04T00:21:09.095Z"
   },
   {
    "duration": 0,
    "start_time": "2025-01-04T00:21:09.096Z"
   },
   {
    "duration": 0,
    "start_time": "2025-01-04T00:21:09.097Z"
   },
   {
    "duration": 0,
    "start_time": "2025-01-04T00:21:09.099Z"
   },
   {
    "duration": 3493,
    "start_time": "2025-01-04T00:21:27.896Z"
   },
   {
    "duration": 1273,
    "start_time": "2025-01-04T00:21:31.392Z"
   },
   {
    "duration": 131,
    "start_time": "2025-01-04T00:21:32.667Z"
   },
   {
    "duration": 35,
    "start_time": "2025-01-04T00:21:32.800Z"
   },
   {
    "duration": 49,
    "start_time": "2025-01-04T00:21:32.837Z"
   },
   {
    "duration": 24,
    "start_time": "2025-01-04T00:21:32.887Z"
   },
   {
    "duration": 91,
    "start_time": "2025-01-04T00:21:32.913Z"
   },
   {
    "duration": 55,
    "start_time": "2025-01-04T00:21:33.006Z"
   },
   {
    "duration": 21,
    "start_time": "2025-01-04T00:21:33.063Z"
   },
   {
    "duration": 43,
    "start_time": "2025-01-04T00:21:33.086Z"
   },
   {
    "duration": 38,
    "start_time": "2025-01-04T00:21:33.159Z"
   },
   {
    "duration": 192,
    "start_time": "2025-01-04T00:21:33.199Z"
   },
   {
    "duration": 268,
    "start_time": "2025-01-04T00:21:33.392Z"
   },
   {
    "duration": 207,
    "start_time": "2025-01-04T00:21:33.663Z"
   },
   {
    "duration": 143,
    "start_time": "2025-01-04T00:21:33.871Z"
   },
   {
    "duration": 10,
    "start_time": "2025-01-04T00:21:34.016Z"
   },
   {
    "duration": 233,
    "start_time": "2025-01-04T00:21:34.028Z"
   },
   {
    "duration": 153,
    "start_time": "2025-01-04T00:21:34.263Z"
   },
   {
    "duration": 12,
    "start_time": "2025-01-04T00:21:34.418Z"
   },
   {
    "duration": 214,
    "start_time": "2025-01-04T00:21:34.432Z"
   },
   {
    "duration": 272,
    "start_time": "2025-01-04T00:21:34.659Z"
   },
   {
    "duration": 28,
    "start_time": "2025-01-04T00:21:34.934Z"
   },
   {
    "duration": 1521,
    "start_time": "2025-01-04T00:21:34.964Z"
   },
   {
    "duration": 1422,
    "start_time": "2025-01-04T00:21:36.486Z"
   },
   {
    "duration": 0,
    "start_time": "2025-01-04T00:21:37.910Z"
   },
   {
    "duration": 0,
    "start_time": "2025-01-04T00:21:37.912Z"
   },
   {
    "duration": 0,
    "start_time": "2025-01-04T00:21:37.913Z"
   },
   {
    "duration": 0,
    "start_time": "2025-01-04T00:21:37.914Z"
   },
   {
    "duration": 0,
    "start_time": "2025-01-04T00:21:37.915Z"
   },
   {
    "duration": 0,
    "start_time": "2025-01-04T00:21:37.917Z"
   },
   {
    "duration": 0,
    "start_time": "2025-01-04T00:21:37.918Z"
   },
   {
    "duration": 2882,
    "start_time": "2025-01-04T00:21:55.832Z"
   },
   {
    "duration": 1256,
    "start_time": "2025-01-04T00:21:58.717Z"
   },
   {
    "duration": 132,
    "start_time": "2025-01-04T00:21:59.975Z"
   },
   {
    "duration": 54,
    "start_time": "2025-01-04T00:22:00.108Z"
   },
   {
    "duration": 28,
    "start_time": "2025-01-04T00:22:00.164Z"
   },
   {
    "duration": 75,
    "start_time": "2025-01-04T00:22:00.194Z"
   },
   {
    "duration": 72,
    "start_time": "2025-01-04T00:22:00.270Z"
   },
   {
    "duration": 43,
    "start_time": "2025-01-04T00:22:00.344Z"
   },
   {
    "duration": 41,
    "start_time": "2025-01-04T00:22:00.389Z"
   },
   {
    "duration": 55,
    "start_time": "2025-01-04T00:22:00.431Z"
   },
   {
    "duration": 40,
    "start_time": "2025-01-04T00:22:00.488Z"
   },
   {
    "duration": 201,
    "start_time": "2025-01-04T00:22:00.530Z"
   },
   {
    "duration": 271,
    "start_time": "2025-01-04T00:22:00.733Z"
   },
   {
    "duration": 221,
    "start_time": "2025-01-04T00:22:01.008Z"
   },
   {
    "duration": 150,
    "start_time": "2025-01-04T00:22:01.231Z"
   },
   {
    "duration": 13,
    "start_time": "2025-01-04T00:22:01.383Z"
   },
   {
    "duration": 232,
    "start_time": "2025-01-04T00:22:01.398Z"
   },
   {
    "duration": 157,
    "start_time": "2025-01-04T00:22:01.632Z"
   },
   {
    "duration": 13,
    "start_time": "2025-01-04T00:22:01.791Z"
   },
   {
    "duration": 210,
    "start_time": "2025-01-04T00:22:01.806Z"
   },
   {
    "duration": 282,
    "start_time": "2025-01-04T00:22:02.018Z"
   },
   {
    "duration": 17,
    "start_time": "2025-01-04T00:22:02.302Z"
   },
   {
    "duration": 166,
    "start_time": "2025-01-04T00:22:02.321Z"
   },
   {
    "duration": 1516,
    "start_time": "2025-01-04T00:22:02.489Z"
   },
   {
    "duration": 0,
    "start_time": "2025-01-04T00:22:04.007Z"
   },
   {
    "duration": 0,
    "start_time": "2025-01-04T00:22:04.010Z"
   },
   {
    "duration": 0,
    "start_time": "2025-01-04T00:22:04.011Z"
   },
   {
    "duration": 0,
    "start_time": "2025-01-04T00:22:04.013Z"
   },
   {
    "duration": 0,
    "start_time": "2025-01-04T00:22:04.014Z"
   },
   {
    "duration": 0,
    "start_time": "2025-01-04T00:22:04.016Z"
   },
   {
    "duration": 0,
    "start_time": "2025-01-04T00:22:04.018Z"
   },
   {
    "duration": 2801,
    "start_time": "2025-01-04T00:22:31.154Z"
   },
   {
    "duration": 1266,
    "start_time": "2025-01-04T00:22:33.958Z"
   },
   {
    "duration": 128,
    "start_time": "2025-01-04T00:22:35.226Z"
   },
   {
    "duration": 36,
    "start_time": "2025-01-04T00:22:35.356Z"
   },
   {
    "duration": 25,
    "start_time": "2025-01-04T00:22:35.395Z"
   },
   {
    "duration": 76,
    "start_time": "2025-01-04T00:22:35.422Z"
   },
   {
    "duration": 95,
    "start_time": "2025-01-04T00:22:35.500Z"
   },
   {
    "duration": 33,
    "start_time": "2025-01-04T00:22:35.597Z"
   },
   {
    "duration": 61,
    "start_time": "2025-01-04T00:22:35.632Z"
   },
   {
    "duration": 65,
    "start_time": "2025-01-04T00:22:35.695Z"
   },
   {
    "duration": 37,
    "start_time": "2025-01-04T00:22:35.762Z"
   },
   {
    "duration": 203,
    "start_time": "2025-01-04T00:22:35.801Z"
   },
   {
    "duration": 271,
    "start_time": "2025-01-04T00:22:36.006Z"
   },
   {
    "duration": 224,
    "start_time": "2025-01-04T00:22:36.281Z"
   },
   {
    "duration": 154,
    "start_time": "2025-01-04T00:22:36.507Z"
   },
   {
    "duration": 13,
    "start_time": "2025-01-04T00:22:36.663Z"
   },
   {
    "duration": 251,
    "start_time": "2025-01-04T00:22:36.678Z"
   },
   {
    "duration": 152,
    "start_time": "2025-01-04T00:22:36.931Z"
   },
   {
    "duration": 14,
    "start_time": "2025-01-04T00:22:37.084Z"
   },
   {
    "duration": 228,
    "start_time": "2025-01-04T00:22:37.100Z"
   },
   {
    "duration": 336,
    "start_time": "2025-01-04T00:22:37.331Z"
   },
   {
    "duration": 19,
    "start_time": "2025-01-04T00:22:37.669Z"
   },
   {
    "duration": 213,
    "start_time": "2025-01-04T00:22:37.690Z"
   },
   {
    "duration": 0,
    "start_time": "2025-01-04T00:22:37.904Z"
   },
   {
    "duration": 0,
    "start_time": "2025-01-04T00:22:37.960Z"
   },
   {
    "duration": 0,
    "start_time": "2025-01-04T00:22:37.961Z"
   },
   {
    "duration": 0,
    "start_time": "2025-01-04T00:22:37.963Z"
   },
   {
    "duration": 0,
    "start_time": "2025-01-04T00:22:37.964Z"
   },
   {
    "duration": 0,
    "start_time": "2025-01-04T00:22:37.965Z"
   },
   {
    "duration": 0,
    "start_time": "2025-01-04T00:22:37.966Z"
   },
   {
    "duration": 0,
    "start_time": "2025-01-04T00:22:37.967Z"
   },
   {
    "duration": 3710,
    "start_time": "2025-01-04T00:22:44.738Z"
   },
   {
    "duration": 1272,
    "start_time": "2025-01-04T00:22:48.451Z"
   },
   {
    "duration": 130,
    "start_time": "2025-01-04T00:22:49.725Z"
   },
   {
    "duration": 36,
    "start_time": "2025-01-04T00:22:49.857Z"
   },
   {
    "duration": 26,
    "start_time": "2025-01-04T00:22:49.895Z"
   },
   {
    "duration": 49,
    "start_time": "2025-01-04T00:22:49.923Z"
   },
   {
    "duration": 63,
    "start_time": "2025-01-04T00:22:49.973Z"
   },
   {
    "duration": 56,
    "start_time": "2025-01-04T00:22:50.037Z"
   },
   {
    "duration": 20,
    "start_time": "2025-01-04T00:22:50.095Z"
   },
   {
    "duration": 77,
    "start_time": "2025-01-04T00:22:50.117Z"
   },
   {
    "duration": 40,
    "start_time": "2025-01-04T00:22:50.196Z"
   },
   {
    "duration": 184,
    "start_time": "2025-01-04T00:22:50.260Z"
   },
   {
    "duration": 264,
    "start_time": "2025-01-04T00:22:50.446Z"
   },
   {
    "duration": 209,
    "start_time": "2025-01-04T00:22:50.713Z"
   },
   {
    "duration": 143,
    "start_time": "2025-01-04T00:22:50.925Z"
   },
   {
    "duration": 11,
    "start_time": "2025-01-04T00:22:51.070Z"
   },
   {
    "duration": 228,
    "start_time": "2025-01-04T00:22:51.083Z"
   },
   {
    "duration": 144,
    "start_time": "2025-01-04T00:22:51.313Z"
   },
   {
    "duration": 15,
    "start_time": "2025-01-04T00:22:51.460Z"
   },
   {
    "duration": 223,
    "start_time": "2025-01-04T00:22:51.477Z"
   },
   {
    "duration": 301,
    "start_time": "2025-01-04T00:22:51.703Z"
   },
   {
    "duration": 19,
    "start_time": "2025-01-04T00:22:52.006Z"
   },
   {
    "duration": 239,
    "start_time": "2025-01-04T00:22:52.027Z"
   },
   {
    "duration": 127,
    "start_time": "2025-01-04T00:22:52.268Z"
   },
   {
    "duration": 0,
    "start_time": "2025-01-04T00:22:52.397Z"
   },
   {
    "duration": 0,
    "start_time": "2025-01-04T00:22:52.398Z"
   },
   {
    "duration": 0,
    "start_time": "2025-01-04T00:22:52.400Z"
   },
   {
    "duration": 0,
    "start_time": "2025-01-04T00:22:52.401Z"
   },
   {
    "duration": 0,
    "start_time": "2025-01-04T00:22:52.402Z"
   },
   {
    "duration": 0,
    "start_time": "2025-01-04T00:22:52.403Z"
   },
   {
    "duration": 0,
    "start_time": "2025-01-04T00:22:52.404Z"
   },
   {
    "duration": 2908,
    "start_time": "2025-01-04T00:23:30.737Z"
   },
   {
    "duration": 1251,
    "start_time": "2025-01-04T00:23:33.647Z"
   },
   {
    "duration": 127,
    "start_time": "2025-01-04T00:23:34.900Z"
   },
   {
    "duration": 37,
    "start_time": "2025-01-04T00:23:35.029Z"
   },
   {
    "duration": 27,
    "start_time": "2025-01-04T00:23:35.068Z"
   },
   {
    "duration": 29,
    "start_time": "2025-01-04T00:23:35.097Z"
   },
   {
    "duration": 92,
    "start_time": "2025-01-04T00:23:35.128Z"
   },
   {
    "duration": 43,
    "start_time": "2025-01-04T00:23:35.221Z"
   },
   {
    "duration": 40,
    "start_time": "2025-01-04T00:23:35.265Z"
   },
   {
    "duration": 40,
    "start_time": "2025-01-04T00:23:35.307Z"
   },
   {
    "duration": 46,
    "start_time": "2025-01-04T00:23:35.349Z"
   },
   {
    "duration": 194,
    "start_time": "2025-01-04T00:23:35.397Z"
   },
   {
    "duration": 273,
    "start_time": "2025-01-04T00:23:35.593Z"
   },
   {
    "duration": 204,
    "start_time": "2025-01-04T00:23:35.868Z"
   },
   {
    "duration": 144,
    "start_time": "2025-01-04T00:23:36.074Z"
   },
   {
    "duration": 12,
    "start_time": "2025-01-04T00:23:36.220Z"
   },
   {
    "duration": 237,
    "start_time": "2025-01-04T00:23:36.234Z"
   },
   {
    "duration": 140,
    "start_time": "2025-01-04T00:23:36.473Z"
   },
   {
    "duration": 56,
    "start_time": "2025-01-04T00:23:36.615Z"
   },
   {
    "duration": 394,
    "start_time": "2025-01-04T00:23:36.672Z"
   },
   {
    "duration": 527,
    "start_time": "2025-01-04T00:23:37.068Z"
   },
   {
    "duration": 2,
    "start_time": "2025-01-04T00:23:37.597Z"
   },
   {
    "duration": 471,
    "start_time": "2025-01-04T00:23:37.600Z"
   },
   {
    "duration": 160,
    "start_time": "2025-01-04T00:23:38.073Z"
   },
   {
    "duration": 0,
    "start_time": "2025-01-04T00:23:38.235Z"
   },
   {
    "duration": 0,
    "start_time": "2025-01-04T00:23:38.236Z"
   },
   {
    "duration": 0,
    "start_time": "2025-01-04T00:23:38.237Z"
   },
   {
    "duration": 0,
    "start_time": "2025-01-04T00:23:38.238Z"
   },
   {
    "duration": 0,
    "start_time": "2025-01-04T00:23:38.240Z"
   },
   {
    "duration": 0,
    "start_time": "2025-01-04T00:23:38.241Z"
   },
   {
    "duration": 0,
    "start_time": "2025-01-04T00:23:38.260Z"
   },
   {
    "duration": 3532,
    "start_time": "2025-01-04T00:24:07.104Z"
   },
   {
    "duration": 1349,
    "start_time": "2025-01-04T00:24:10.639Z"
   },
   {
    "duration": 130,
    "start_time": "2025-01-04T00:24:11.990Z"
   },
   {
    "duration": 40,
    "start_time": "2025-01-04T00:24:12.121Z"
   },
   {
    "duration": 29,
    "start_time": "2025-01-04T00:24:12.163Z"
   },
   {
    "duration": 23,
    "start_time": "2025-01-04T00:24:12.194Z"
   },
   {
    "duration": 98,
    "start_time": "2025-01-04T00:24:12.219Z"
   },
   {
    "duration": 54,
    "start_time": "2025-01-04T00:24:12.319Z"
   },
   {
    "duration": 20,
    "start_time": "2025-01-04T00:24:12.375Z"
   },
   {
    "duration": 42,
    "start_time": "2025-01-04T00:24:12.396Z"
   },
   {
    "duration": 58,
    "start_time": "2025-01-04T00:24:12.440Z"
   },
   {
    "duration": 214,
    "start_time": "2025-01-04T00:24:12.500Z"
   },
   {
    "duration": 270,
    "start_time": "2025-01-04T00:24:12.716Z"
   },
   {
    "duration": 227,
    "start_time": "2025-01-04T00:24:12.990Z"
   },
   {
    "duration": 155,
    "start_time": "2025-01-04T00:24:13.219Z"
   },
   {
    "duration": 12,
    "start_time": "2025-01-04T00:24:13.376Z"
   },
   {
    "duration": 245,
    "start_time": "2025-01-04T00:24:13.390Z"
   },
   {
    "duration": 146,
    "start_time": "2025-01-04T00:24:13.637Z"
   },
   {
    "duration": 13,
    "start_time": "2025-01-04T00:24:13.784Z"
   },
   {
    "duration": 218,
    "start_time": "2025-01-04T00:24:13.799Z"
   },
   {
    "duration": 283,
    "start_time": "2025-01-04T00:24:14.019Z"
   },
   {
    "duration": 3,
    "start_time": "2025-01-04T00:24:14.304Z"
   },
   {
    "duration": 224,
    "start_time": "2025-01-04T00:24:14.308Z"
   },
   {
    "duration": 122,
    "start_time": "2025-01-04T00:24:14.534Z"
   },
   {
    "duration": 0,
    "start_time": "2025-01-04T00:24:14.659Z"
   },
   {
    "duration": 0,
    "start_time": "2025-01-04T00:24:14.661Z"
   },
   {
    "duration": 0,
    "start_time": "2025-01-04T00:24:14.662Z"
   },
   {
    "duration": 0,
    "start_time": "2025-01-04T00:24:14.663Z"
   },
   {
    "duration": 0,
    "start_time": "2025-01-04T00:24:14.665Z"
   },
   {
    "duration": 0,
    "start_time": "2025-01-04T00:24:14.666Z"
   },
   {
    "duration": 0,
    "start_time": "2025-01-04T00:24:14.667Z"
   },
   {
    "duration": 781,
    "start_time": "2025-01-04T00:25:06.988Z"
   },
   {
    "duration": 2789,
    "start_time": "2025-01-04T00:25:20.749Z"
   },
   {
    "duration": 1248,
    "start_time": "2025-01-04T00:25:23.540Z"
   },
   {
    "duration": 129,
    "start_time": "2025-01-04T00:25:24.789Z"
   },
   {
    "duration": 34,
    "start_time": "2025-01-04T00:25:24.920Z"
   },
   {
    "duration": 29,
    "start_time": "2025-01-04T00:25:24.956Z"
   },
   {
    "duration": 25,
    "start_time": "2025-01-04T00:25:24.987Z"
   },
   {
    "duration": 101,
    "start_time": "2025-01-04T00:25:25.013Z"
   },
   {
    "duration": 54,
    "start_time": "2025-01-04T00:25:25.117Z"
   },
   {
    "duration": 39,
    "start_time": "2025-01-04T00:25:25.173Z"
   },
   {
    "duration": 56,
    "start_time": "2025-01-04T00:25:25.213Z"
   },
   {
    "duration": 40,
    "start_time": "2025-01-04T00:25:25.271Z"
   },
   {
    "duration": 199,
    "start_time": "2025-01-04T00:25:25.314Z"
   },
   {
    "duration": 261,
    "start_time": "2025-01-04T00:25:25.515Z"
   },
   {
    "duration": 215,
    "start_time": "2025-01-04T00:25:25.781Z"
   },
   {
    "duration": 140,
    "start_time": "2025-01-04T00:25:25.998Z"
   },
   {
    "duration": 23,
    "start_time": "2025-01-04T00:25:26.140Z"
   },
   {
    "duration": 224,
    "start_time": "2025-01-04T00:25:26.165Z"
   },
   {
    "duration": 142,
    "start_time": "2025-01-04T00:25:26.391Z"
   },
   {
    "duration": 25,
    "start_time": "2025-01-04T00:25:26.534Z"
   },
   {
    "duration": 203,
    "start_time": "2025-01-04T00:25:26.561Z"
   },
   {
    "duration": 272,
    "start_time": "2025-01-04T00:25:26.765Z"
   },
   {
    "duration": 36,
    "start_time": "2025-01-04T00:25:27.038Z"
   },
   {
    "duration": 1194,
    "start_time": "2025-01-04T00:25:27.076Z"
   },
   {
    "duration": 213,
    "start_time": "2025-01-04T00:25:28.271Z"
   },
   {
    "duration": 0,
    "start_time": "2025-01-04T00:25:28.486Z"
   },
   {
    "duration": 0,
    "start_time": "2025-01-04T00:25:28.487Z"
   },
   {
    "duration": 0,
    "start_time": "2025-01-04T00:25:28.488Z"
   },
   {
    "duration": 0,
    "start_time": "2025-01-04T00:25:28.489Z"
   },
   {
    "duration": 0,
    "start_time": "2025-01-04T00:25:28.490Z"
   },
   {
    "duration": 0,
    "start_time": "2025-01-04T00:25:28.491Z"
   },
   {
    "duration": 0,
    "start_time": "2025-01-04T00:25:28.492Z"
   },
   {
    "duration": 2735,
    "start_time": "2025-01-04T00:25:46.735Z"
   },
   {
    "duration": 1353,
    "start_time": "2025-01-04T00:25:49.473Z"
   },
   {
    "duration": 129,
    "start_time": "2025-01-04T00:25:50.829Z"
   },
   {
    "duration": 35,
    "start_time": "2025-01-04T00:25:50.959Z"
   },
   {
    "duration": 26,
    "start_time": "2025-01-04T00:25:50.996Z"
   },
   {
    "duration": 53,
    "start_time": "2025-01-04T00:25:51.024Z"
   },
   {
    "duration": 81,
    "start_time": "2025-01-04T00:25:51.079Z"
   },
   {
    "duration": 34,
    "start_time": "2025-01-04T00:25:51.162Z"
   },
   {
    "duration": 18,
    "start_time": "2025-01-04T00:25:51.199Z"
   },
   {
    "duration": 73,
    "start_time": "2025-01-04T00:25:51.219Z"
   },
   {
    "duration": 41,
    "start_time": "2025-01-04T00:25:51.293Z"
   },
   {
    "duration": 179,
    "start_time": "2025-01-04T00:25:51.359Z"
   },
   {
    "duration": 280,
    "start_time": "2025-01-04T00:25:51.540Z"
   },
   {
    "duration": 210,
    "start_time": "2025-01-04T00:25:51.822Z"
   },
   {
    "duration": 151,
    "start_time": "2025-01-04T00:25:52.034Z"
   },
   {
    "duration": 13,
    "start_time": "2025-01-04T00:25:52.187Z"
   },
   {
    "duration": 226,
    "start_time": "2025-01-04T00:25:52.202Z"
   },
   {
    "duration": 136,
    "start_time": "2025-01-04T00:25:52.430Z"
   },
   {
    "duration": 13,
    "start_time": "2025-01-04T00:25:52.567Z"
   },
   {
    "duration": 205,
    "start_time": "2025-01-04T00:25:52.582Z"
   },
   {
    "duration": 275,
    "start_time": "2025-01-04T00:25:52.789Z"
   },
   {
    "duration": 3,
    "start_time": "2025-01-04T00:25:53.065Z"
   },
   {
    "duration": 1092,
    "start_time": "2025-01-04T00:25:53.070Z"
   },
   {
    "duration": 210,
    "start_time": "2025-01-04T00:25:54.164Z"
   },
   {
    "duration": 0,
    "start_time": "2025-01-04T00:25:54.376Z"
   },
   {
    "duration": 0,
    "start_time": "2025-01-04T00:25:54.377Z"
   },
   {
    "duration": 0,
    "start_time": "2025-01-04T00:25:54.378Z"
   },
   {
    "duration": 0,
    "start_time": "2025-01-04T00:25:54.379Z"
   },
   {
    "duration": 0,
    "start_time": "2025-01-04T00:25:54.380Z"
   },
   {
    "duration": 0,
    "start_time": "2025-01-04T00:25:54.382Z"
   },
   {
    "duration": 0,
    "start_time": "2025-01-04T00:25:54.383Z"
   },
   {
    "duration": 3791,
    "start_time": "2025-01-04T00:28:04.542Z"
   },
   {
    "duration": 1254,
    "start_time": "2025-01-04T00:28:08.336Z"
   },
   {
    "duration": 131,
    "start_time": "2025-01-04T00:28:09.591Z"
   },
   {
    "duration": 41,
    "start_time": "2025-01-04T00:28:09.724Z"
   },
   {
    "duration": 29,
    "start_time": "2025-01-04T00:28:09.768Z"
   },
   {
    "duration": 60,
    "start_time": "2025-01-04T00:28:09.800Z"
   },
   {
    "duration": 67,
    "start_time": "2025-01-04T00:28:09.862Z"
   },
   {
    "duration": 51,
    "start_time": "2025-01-04T00:28:09.931Z"
   },
   {
    "duration": 19,
    "start_time": "2025-01-04T00:28:09.984Z"
   },
   {
    "duration": 70,
    "start_time": "2025-01-04T00:28:10.004Z"
   },
   {
    "duration": 37,
    "start_time": "2025-01-04T00:28:10.076Z"
   },
   {
    "duration": 208,
    "start_time": "2025-01-04T00:28:10.115Z"
   },
   {
    "duration": 263,
    "start_time": "2025-01-04T00:28:10.326Z"
   },
   {
    "duration": 204,
    "start_time": "2025-01-04T00:28:10.592Z"
   },
   {
    "duration": 146,
    "start_time": "2025-01-04T00:28:10.798Z"
   },
   {
    "duration": 22,
    "start_time": "2025-01-04T00:28:10.946Z"
   },
   {
    "duration": 236,
    "start_time": "2025-01-04T00:28:10.970Z"
   },
   {
    "duration": 144,
    "start_time": "2025-01-04T00:28:11.208Z"
   },
   {
    "duration": 17,
    "start_time": "2025-01-04T00:28:11.354Z"
   },
   {
    "duration": 207,
    "start_time": "2025-01-04T00:28:11.373Z"
   },
   {
    "duration": 304,
    "start_time": "2025-01-04T00:28:11.582Z"
   },
   {
    "duration": 3,
    "start_time": "2025-01-04T00:28:11.888Z"
   },
   {
    "duration": 900,
    "start_time": "2025-01-04T00:28:11.893Z"
   },
   {
    "duration": 7,
    "start_time": "2025-01-04T00:28:12.795Z"
   },
   {
    "duration": 53,
    "start_time": "2025-01-04T00:28:12.804Z"
   },
   {
    "duration": 273,
    "start_time": "2025-01-04T00:28:12.860Z"
   },
   {
    "duration": 266,
    "start_time": "2025-01-04T00:28:13.135Z"
   },
   {
    "duration": 281,
    "start_time": "2025-01-04T00:28:13.403Z"
   },
   {
    "duration": 146,
    "start_time": "2025-01-04T00:28:13.685Z"
   },
   {
    "duration": 260,
    "start_time": "2025-01-04T00:28:13.833Z"
   },
   {
    "duration": 15,
    "start_time": "2025-01-04T00:28:14.095Z"
   },
   {
    "duration": 183,
    "start_time": "2025-01-04T00:34:43.476Z"
   },
   {
    "duration": 205,
    "start_time": "2025-01-04T00:35:08.403Z"
   },
   {
    "duration": 200,
    "start_time": "2025-01-04T00:36:29.832Z"
   },
   {
    "duration": 301,
    "start_time": "2025-01-04T00:36:30.280Z"
   },
   {
    "duration": 248,
    "start_time": "2025-01-04T00:36:54.139Z"
   },
   {
    "duration": 204,
    "start_time": "2025-01-04T00:36:59.989Z"
   },
   {
    "duration": 107,
    "start_time": "2025-01-04T00:44:45.712Z"
   },
   {
    "duration": 11,
    "start_time": "2025-01-04T00:44:55.484Z"
   },
   {
    "duration": 3243,
    "start_time": "2025-01-04T00:45:09.160Z"
   },
   {
    "duration": 1478,
    "start_time": "2025-01-04T00:45:12.405Z"
   },
   {
    "duration": 128,
    "start_time": "2025-01-04T00:45:13.885Z"
   },
   {
    "duration": 35,
    "start_time": "2025-01-04T00:45:14.015Z"
   },
   {
    "duration": 27,
    "start_time": "2025-01-04T00:45:14.060Z"
   },
   {
    "duration": 24,
    "start_time": "2025-01-04T00:45:14.088Z"
   },
   {
    "duration": 99,
    "start_time": "2025-01-04T00:45:14.113Z"
   },
   {
    "duration": 56,
    "start_time": "2025-01-04T00:45:14.214Z"
   },
   {
    "duration": 21,
    "start_time": "2025-01-04T00:45:14.272Z"
   },
   {
    "duration": 64,
    "start_time": "2025-01-04T00:45:14.296Z"
   },
   {
    "duration": 42,
    "start_time": "2025-01-04T00:45:14.362Z"
   },
   {
    "duration": 216,
    "start_time": "2025-01-04T00:45:14.406Z"
   },
   {
    "duration": 272,
    "start_time": "2025-01-04T00:45:14.624Z"
   },
   {
    "duration": 226,
    "start_time": "2025-01-04T00:45:14.898Z"
   },
   {
    "duration": 158,
    "start_time": "2025-01-04T00:45:15.126Z"
   },
   {
    "duration": 14,
    "start_time": "2025-01-04T00:45:15.286Z"
   },
   {
    "duration": 245,
    "start_time": "2025-01-04T00:45:15.302Z"
   },
   {
    "duration": 139,
    "start_time": "2025-01-04T00:45:15.560Z"
   },
   {
    "duration": 15,
    "start_time": "2025-01-04T00:45:15.701Z"
   },
   {
    "duration": 222,
    "start_time": "2025-01-04T00:45:15.718Z"
   },
   {
    "duration": 291,
    "start_time": "2025-01-04T00:45:15.942Z"
   },
   {
    "duration": 811,
    "start_time": "2025-01-04T00:45:16.235Z"
   },
   {
    "duration": 208,
    "start_time": "2025-01-04T00:45:17.048Z"
   },
   {
    "duration": 117,
    "start_time": "2025-01-04T00:45:17.259Z"
   },
   {
    "duration": 0,
    "start_time": "2025-01-04T00:45:17.378Z"
   },
   {
    "duration": 0,
    "start_time": "2025-01-04T00:45:17.379Z"
   },
   {
    "duration": 0,
    "start_time": "2025-01-04T00:45:17.380Z"
   },
   {
    "duration": 0,
    "start_time": "2025-01-04T00:45:17.382Z"
   },
   {
    "duration": 0,
    "start_time": "2025-01-04T00:45:17.383Z"
   },
   {
    "duration": 0,
    "start_time": "2025-01-04T00:45:17.384Z"
   },
   {
    "duration": 90,
    "start_time": "2025-01-04T00:48:12.243Z"
   },
   {
    "duration": 86,
    "start_time": "2025-01-04T00:48:21.288Z"
   },
   {
    "duration": 16,
    "start_time": "2025-01-04T00:48:39.677Z"
   },
   {
    "duration": 2866,
    "start_time": "2025-01-04T00:48:50.452Z"
   },
   {
    "duration": 1771,
    "start_time": "2025-01-04T00:48:53.320Z"
   },
   {
    "duration": 208,
    "start_time": "2025-01-04T00:48:55.093Z"
   },
   {
    "duration": 85,
    "start_time": "2025-01-04T00:48:55.303Z"
   },
   {
    "duration": 28,
    "start_time": "2025-01-04T00:48:55.390Z"
   },
   {
    "duration": 49,
    "start_time": "2025-01-04T00:48:55.420Z"
   },
   {
    "duration": 64,
    "start_time": "2025-01-04T00:48:55.471Z"
   },
   {
    "duration": 54,
    "start_time": "2025-01-04T00:48:55.536Z"
   },
   {
    "duration": 19,
    "start_time": "2025-01-04T00:48:55.592Z"
   },
   {
    "duration": 68,
    "start_time": "2025-01-04T00:48:55.612Z"
   },
   {
    "duration": 38,
    "start_time": "2025-01-04T00:48:55.681Z"
   },
   {
    "duration": 201,
    "start_time": "2025-01-04T00:48:55.721Z"
   },
   {
    "duration": 262,
    "start_time": "2025-01-04T00:48:55.924Z"
   },
   {
    "duration": 217,
    "start_time": "2025-01-04T00:48:56.189Z"
   },
   {
    "duration": 141,
    "start_time": "2025-01-04T00:48:56.408Z"
   },
   {
    "duration": 16,
    "start_time": "2025-01-04T00:48:56.550Z"
   },
   {
    "duration": 227,
    "start_time": "2025-01-04T00:48:56.568Z"
   },
   {
    "duration": 144,
    "start_time": "2025-01-04T00:48:56.797Z"
   },
   {
    "duration": 24,
    "start_time": "2025-01-04T00:48:56.943Z"
   },
   {
    "duration": 199,
    "start_time": "2025-01-04T00:48:56.969Z"
   },
   {
    "duration": 291,
    "start_time": "2025-01-04T00:48:57.170Z"
   },
   {
    "duration": 801,
    "start_time": "2025-01-04T00:48:57.463Z"
   },
   {
    "duration": 218,
    "start_time": "2025-01-04T00:48:58.266Z"
   },
   {
    "duration": 124,
    "start_time": "2025-01-04T00:48:58.486Z"
   },
   {
    "duration": 0,
    "start_time": "2025-01-04T00:48:58.612Z"
   },
   {
    "duration": 0,
    "start_time": "2025-01-04T00:48:58.613Z"
   },
   {
    "duration": 0,
    "start_time": "2025-01-04T00:48:58.614Z"
   },
   {
    "duration": 0,
    "start_time": "2025-01-04T00:48:58.615Z"
   },
   {
    "duration": 0,
    "start_time": "2025-01-04T00:48:58.616Z"
   },
   {
    "duration": 0,
    "start_time": "2025-01-04T00:48:58.617Z"
   },
   {
    "duration": 28,
    "start_time": "2025-01-04T00:49:09.236Z"
   },
   {
    "duration": 28,
    "start_time": "2025-01-04T00:49:35.274Z"
   },
   {
    "duration": 27,
    "start_time": "2025-01-04T00:50:23.548Z"
   },
   {
    "duration": 27,
    "start_time": "2025-01-04T00:50:26.065Z"
   },
   {
    "duration": 22,
    "start_time": "2025-01-04T00:50:35.334Z"
   },
   {
    "duration": 22,
    "start_time": "2025-01-04T00:50:42.530Z"
   },
   {
    "duration": 78,
    "start_time": "2025-01-04T00:52:54.898Z"
   },
   {
    "duration": 118,
    "start_time": "2025-01-04T00:53:01.969Z"
   },
   {
    "duration": 81,
    "start_time": "2025-01-04T00:53:18.690Z"
   },
   {
    "duration": 27,
    "start_time": "2025-01-04T00:53:22.935Z"
   },
   {
    "duration": 30,
    "start_time": "2025-01-04T00:53:32.344Z"
   },
   {
    "duration": 26,
    "start_time": "2025-01-04T00:53:36.325Z"
   },
   {
    "duration": 88,
    "start_time": "2025-01-04T00:53:43.175Z"
   },
   {
    "duration": 82,
    "start_time": "2025-01-04T00:54:19.027Z"
   },
   {
    "duration": 122,
    "start_time": "2025-01-04T00:54:22.174Z"
   },
   {
    "duration": 157,
    "start_time": "2025-01-04T00:54:25.955Z"
   },
   {
    "duration": 27,
    "start_time": "2025-01-04T00:54:28.268Z"
   },
   {
    "duration": 3604,
    "start_time": "2025-01-04T00:56:10.740Z"
   },
   {
    "duration": 1263,
    "start_time": "2025-01-04T00:56:14.347Z"
   },
   {
    "duration": 131,
    "start_time": "2025-01-04T00:56:15.612Z"
   },
   {
    "duration": 35,
    "start_time": "2025-01-04T00:56:15.745Z"
   },
   {
    "duration": 27,
    "start_time": "2025-01-04T00:56:15.782Z"
   },
   {
    "duration": 24,
    "start_time": "2025-01-04T00:56:15.810Z"
   },
   {
    "duration": 60,
    "start_time": "2025-01-04T00:56:15.860Z"
   },
   {
    "duration": 53,
    "start_time": "2025-01-04T00:56:15.922Z"
   },
   {
    "duration": 19,
    "start_time": "2025-01-04T00:56:15.977Z"
   },
   {
    "duration": 70,
    "start_time": "2025-01-04T00:56:15.998Z"
   },
   {
    "duration": 37,
    "start_time": "2025-01-04T00:56:16.070Z"
   },
   {
    "duration": 200,
    "start_time": "2025-01-04T00:56:16.109Z"
   },
   {
    "duration": 263,
    "start_time": "2025-01-04T00:56:16.311Z"
   },
   {
    "duration": 204,
    "start_time": "2025-01-04T00:56:16.576Z"
   },
   {
    "duration": 138,
    "start_time": "2025-01-04T00:56:16.783Z"
   },
   {
    "duration": 10,
    "start_time": "2025-01-04T00:56:16.923Z"
   },
   {
    "duration": 229,
    "start_time": "2025-01-04T00:56:16.935Z"
   },
   {
    "duration": 150,
    "start_time": "2025-01-04T00:56:17.166Z"
   },
   {
    "duration": 15,
    "start_time": "2025-01-04T00:56:17.318Z"
   },
   {
    "duration": 230,
    "start_time": "2025-01-04T00:56:17.335Z"
   },
   {
    "duration": 302,
    "start_time": "2025-01-04T00:56:17.567Z"
   },
   {
    "duration": 849,
    "start_time": "2025-01-04T00:56:17.871Z"
   },
   {
    "duration": 223,
    "start_time": "2025-01-04T00:56:18.722Z"
   },
   {
    "duration": 29,
    "start_time": "2025-01-04T00:56:18.946Z"
   },
   {
    "duration": 117,
    "start_time": "2025-01-04T00:56:18.977Z"
   },
   {
    "duration": 0,
    "start_time": "2025-01-04T00:56:19.096Z"
   },
   {
    "duration": 0,
    "start_time": "2025-01-04T00:56:19.098Z"
   },
   {
    "duration": 0,
    "start_time": "2025-01-04T00:56:19.099Z"
   },
   {
    "duration": 0,
    "start_time": "2025-01-04T00:56:19.100Z"
   },
   {
    "duration": 0,
    "start_time": "2025-01-04T00:56:19.101Z"
   },
   {
    "duration": 2719,
    "start_time": "2025-01-04T00:56:38.696Z"
   },
   {
    "duration": 1272,
    "start_time": "2025-01-04T00:56:41.418Z"
   },
   {
    "duration": 128,
    "start_time": "2025-01-04T00:56:42.692Z"
   },
   {
    "duration": 40,
    "start_time": "2025-01-04T00:56:42.822Z"
   },
   {
    "duration": 28,
    "start_time": "2025-01-04T00:56:42.865Z"
   },
   {
    "duration": 25,
    "start_time": "2025-01-04T00:56:42.895Z"
   },
   {
    "duration": 94,
    "start_time": "2025-01-04T00:56:42.922Z"
   },
   {
    "duration": 57,
    "start_time": "2025-01-04T00:56:43.018Z"
   },
   {
    "duration": 21,
    "start_time": "2025-01-04T00:56:43.077Z"
   },
   {
    "duration": 72,
    "start_time": "2025-01-04T00:56:43.100Z"
   },
   {
    "duration": 42,
    "start_time": "2025-01-04T00:56:43.174Z"
   },
   {
    "duration": 210,
    "start_time": "2025-01-04T00:56:43.218Z"
   },
   {
    "duration": 272,
    "start_time": "2025-01-04T00:56:43.430Z"
   },
   {
    "duration": 215,
    "start_time": "2025-01-04T00:56:43.707Z"
   },
   {
    "duration": 149,
    "start_time": "2025-01-04T00:56:43.924Z"
   },
   {
    "duration": 14,
    "start_time": "2025-01-04T00:56:44.075Z"
   },
   {
    "duration": 231,
    "start_time": "2025-01-04T00:56:44.090Z"
   },
   {
    "duration": 149,
    "start_time": "2025-01-04T00:56:44.323Z"
   },
   {
    "duration": 14,
    "start_time": "2025-01-04T00:56:44.474Z"
   },
   {
    "duration": 208,
    "start_time": "2025-01-04T00:56:44.489Z"
   },
   {
    "duration": 271,
    "start_time": "2025-01-04T00:56:44.699Z"
   },
   {
    "duration": 780,
    "start_time": "2025-01-04T00:56:44.972Z"
   },
   {
    "duration": 212,
    "start_time": "2025-01-04T00:56:45.754Z"
   },
   {
    "duration": 21,
    "start_time": "2025-01-04T00:56:45.968Z"
   },
   {
    "duration": 186,
    "start_time": "2025-01-04T00:56:45.991Z"
   },
   {
    "duration": 0,
    "start_time": "2025-01-04T00:56:46.178Z"
   },
   {
    "duration": 0,
    "start_time": "2025-01-04T00:56:46.180Z"
   },
   {
    "duration": 0,
    "start_time": "2025-01-04T00:56:46.181Z"
   },
   {
    "duration": 0,
    "start_time": "2025-01-04T00:56:46.182Z"
   },
   {
    "duration": 0,
    "start_time": "2025-01-04T00:56:46.183Z"
   },
   {
    "duration": 187,
    "start_time": "2025-01-04T00:58:53.694Z"
   },
   {
    "duration": 78,
    "start_time": "2025-01-04T00:59:19.338Z"
   },
   {
    "duration": 21,
    "start_time": "2025-01-04T01:02:05.545Z"
   },
   {
    "duration": 15,
    "start_time": "2025-01-04T01:03:47.128Z"
   },
   {
    "duration": 12,
    "start_time": "2025-01-04T01:03:53.032Z"
   },
   {
    "duration": 240,
    "start_time": "2025-01-04T01:03:55.077Z"
   },
   {
    "duration": 248,
    "start_time": "2025-01-04T01:04:13.243Z"
   },
   {
    "duration": 239,
    "start_time": "2025-01-04T01:04:24.033Z"
   },
   {
    "duration": 242,
    "start_time": "2025-01-04T01:04:34.612Z"
   },
   {
    "duration": 358,
    "start_time": "2025-01-04T01:04:39.944Z"
   },
   {
    "duration": 141,
    "start_time": "2025-01-04T01:05:52.906Z"
   },
   {
    "duration": 544,
    "start_time": "2025-01-04T01:06:30.292Z"
   },
   {
    "duration": 529,
    "start_time": "2025-01-04T01:06:39.470Z"
   },
   {
    "duration": 550,
    "start_time": "2025-01-04T01:06:45.743Z"
   },
   {
    "duration": 541,
    "start_time": "2025-01-04T01:06:51.384Z"
   },
   {
    "duration": 736,
    "start_time": "2025-01-04T01:08:21.237Z"
   },
   {
    "duration": 95,
    "start_time": "2025-01-04T01:08:33.919Z"
   },
   {
    "duration": 520,
    "start_time": "2025-01-04T01:08:36.400Z"
   },
   {
    "duration": 94,
    "start_time": "2025-01-04T01:08:51.605Z"
   },
   {
    "duration": 280,
    "start_time": "2025-01-04T01:09:00.688Z"
   },
   {
    "duration": 88,
    "start_time": "2025-01-04T01:09:02.865Z"
   },
   {
    "duration": 267,
    "start_time": "2025-01-04T01:09:33.804Z"
   },
   {
    "duration": 97,
    "start_time": "2025-01-04T01:09:35.798Z"
   },
   {
    "duration": 80,
    "start_time": "2025-01-04T01:09:41.757Z"
   },
   {
    "duration": 269,
    "start_time": "2025-01-04T01:09:48.403Z"
   },
   {
    "duration": 270,
    "start_time": "2025-01-04T01:10:03.139Z"
   },
   {
    "duration": 2922,
    "start_time": "2025-01-04T01:12:53.802Z"
   },
   {
    "duration": 1377,
    "start_time": "2025-01-04T01:12:56.727Z"
   },
   {
    "duration": 132,
    "start_time": "2025-01-04T01:12:58.105Z"
   },
   {
    "duration": 35,
    "start_time": "2025-01-04T01:12:58.238Z"
   },
   {
    "duration": 26,
    "start_time": "2025-01-04T01:12:58.275Z"
   },
   {
    "duration": 23,
    "start_time": "2025-01-04T01:12:58.303Z"
   },
   {
    "duration": 91,
    "start_time": "2025-01-04T01:12:58.328Z"
   },
   {
    "duration": 54,
    "start_time": "2025-01-04T01:12:58.421Z"
   },
   {
    "duration": 19,
    "start_time": "2025-01-04T01:12:58.477Z"
   },
   {
    "duration": 68,
    "start_time": "2025-01-04T01:12:58.497Z"
   },
   {
    "duration": 37,
    "start_time": "2025-01-04T01:12:58.567Z"
   },
   {
    "duration": 197,
    "start_time": "2025-01-04T01:12:58.605Z"
   },
   {
    "duration": 255,
    "start_time": "2025-01-04T01:12:58.804Z"
   },
   {
    "duration": 207,
    "start_time": "2025-01-04T01:12:59.062Z"
   },
   {
    "duration": 138,
    "start_time": "2025-01-04T01:12:59.271Z"
   },
   {
    "duration": 10,
    "start_time": "2025-01-04T01:12:59.411Z"
   },
   {
    "duration": 229,
    "start_time": "2025-01-04T01:12:59.422Z"
   },
   {
    "duration": 141,
    "start_time": "2025-01-04T01:12:59.652Z"
   },
   {
    "duration": 13,
    "start_time": "2025-01-04T01:12:59.795Z"
   },
   {
    "duration": 210,
    "start_time": "2025-01-04T01:12:59.809Z"
   },
   {
    "duration": 287,
    "start_time": "2025-01-04T01:13:00.020Z"
   },
   {
    "duration": 835,
    "start_time": "2025-01-04T01:13:00.309Z"
   },
   {
    "duration": 213,
    "start_time": "2025-01-04T01:13:01.147Z"
   },
   {
    "duration": 21,
    "start_time": "2025-01-04T01:13:01.362Z"
   },
   {
    "duration": 270,
    "start_time": "2025-01-04T01:13:01.385Z"
   },
   {
    "duration": 292,
    "start_time": "2025-01-04T01:13:01.660Z"
   },
   {
    "duration": 286,
    "start_time": "2025-01-04T01:13:01.954Z"
   },
   {
    "duration": 155,
    "start_time": "2025-01-04T01:13:02.242Z"
   },
   {
    "duration": 279,
    "start_time": "2025-01-04T01:13:02.398Z"
   },
   {
    "duration": 17,
    "start_time": "2025-01-04T01:13:02.679Z"
   },
   {
    "duration": 2859,
    "start_time": "2025-01-04T01:14:33.260Z"
   },
   {
    "duration": 1279,
    "start_time": "2025-01-04T01:14:36.122Z"
   },
   {
    "duration": 131,
    "start_time": "2025-01-04T01:14:37.403Z"
   },
   {
    "duration": 43,
    "start_time": "2025-01-04T01:14:37.535Z"
   },
   {
    "duration": 27,
    "start_time": "2025-01-04T01:14:37.580Z"
   },
   {
    "duration": 22,
    "start_time": "2025-01-04T01:14:37.609Z"
   },
   {
    "duration": 88,
    "start_time": "2025-01-04T01:14:37.632Z"
   },
   {
    "duration": 51,
    "start_time": "2025-01-04T01:14:37.722Z"
   },
   {
    "duration": 21,
    "start_time": "2025-01-04T01:14:37.775Z"
   },
   {
    "duration": 69,
    "start_time": "2025-01-04T01:14:37.797Z"
   },
   {
    "duration": 40,
    "start_time": "2025-01-04T01:14:37.868Z"
   },
   {
    "duration": 210,
    "start_time": "2025-01-04T01:14:37.911Z"
   },
   {
    "duration": 267,
    "start_time": "2025-01-04T01:14:38.123Z"
   },
   {
    "duration": 223,
    "start_time": "2025-01-04T01:14:38.395Z"
   },
   {
    "duration": 151,
    "start_time": "2025-01-04T01:14:38.621Z"
   },
   {
    "duration": 12,
    "start_time": "2025-01-04T01:14:38.774Z"
   },
   {
    "duration": 224,
    "start_time": "2025-01-04T01:14:38.788Z"
   },
   {
    "duration": 143,
    "start_time": "2025-01-04T01:14:39.014Z"
   },
   {
    "duration": 14,
    "start_time": "2025-01-04T01:14:39.160Z"
   },
   {
    "duration": 210,
    "start_time": "2025-01-04T01:14:39.176Z"
   },
   {
    "duration": 276,
    "start_time": "2025-01-04T01:14:39.388Z"
   },
   {
    "duration": 802,
    "start_time": "2025-01-04T01:14:39.666Z"
   },
   {
    "duration": 222,
    "start_time": "2025-01-04T01:14:40.471Z"
   },
   {
    "duration": 20,
    "start_time": "2025-01-04T01:14:40.695Z"
   },
   {
    "duration": 279,
    "start_time": "2025-01-04T01:14:40.717Z"
   },
   {
    "duration": 274,
    "start_time": "2025-01-04T01:14:40.997Z"
   },
   {
    "duration": 298,
    "start_time": "2025-01-04T01:14:41.273Z"
   },
   {
    "duration": 180,
    "start_time": "2025-01-04T01:14:41.573Z"
   },
   {
    "duration": 277,
    "start_time": "2025-01-04T01:14:41.756Z"
   },
   {
    "duration": 25,
    "start_time": "2025-01-04T01:14:42.035Z"
   },
   {
    "duration": 2938,
    "start_time": "2025-01-04T01:20:47.570Z"
   },
   {
    "duration": 1303,
    "start_time": "2025-01-04T01:20:50.511Z"
   },
   {
    "duration": 131,
    "start_time": "2025-01-04T01:20:51.816Z"
   },
   {
    "duration": 37,
    "start_time": "2025-01-04T01:20:51.949Z"
   },
   {
    "duration": 26,
    "start_time": "2025-01-04T01:20:51.989Z"
   },
   {
    "duration": 55,
    "start_time": "2025-01-04T01:20:52.017Z"
   },
   {
    "duration": 60,
    "start_time": "2025-01-04T01:20:52.074Z"
   },
   {
    "duration": 51,
    "start_time": "2025-01-04T01:20:52.136Z"
   },
   {
    "duration": 19,
    "start_time": "2025-01-04T01:20:52.189Z"
   },
   {
    "duration": 69,
    "start_time": "2025-01-04T01:20:52.210Z"
   },
   {
    "duration": 36,
    "start_time": "2025-01-04T01:20:52.281Z"
   },
   {
    "duration": 194,
    "start_time": "2025-01-04T01:20:52.319Z"
   },
   {
    "duration": 257,
    "start_time": "2025-01-04T01:20:52.514Z"
   },
   {
    "duration": 215,
    "start_time": "2025-01-04T01:20:52.775Z"
   },
   {
    "duration": 141,
    "start_time": "2025-01-04T01:20:52.992Z"
   },
   {
    "duration": 29,
    "start_time": "2025-01-04T01:20:53.136Z"
   },
   {
    "duration": 217,
    "start_time": "2025-01-04T01:20:53.167Z"
   },
   {
    "duration": 145,
    "start_time": "2025-01-04T01:20:53.386Z"
   },
   {
    "duration": 26,
    "start_time": "2025-01-04T01:20:53.533Z"
   },
   {
    "duration": 195,
    "start_time": "2025-01-04T01:20:53.561Z"
   },
   {
    "duration": 268,
    "start_time": "2025-01-04T01:20:53.758Z"
   },
   {
    "duration": 1256,
    "start_time": "2025-01-04T01:20:54.028Z"
   },
   {
    "duration": 480,
    "start_time": "2025-01-04T01:20:55.286Z"
   },
   {
    "duration": 19,
    "start_time": "2025-01-04T01:20:55.768Z"
   },
   {
    "duration": 374,
    "start_time": "2025-01-04T01:20:55.789Z"
   },
   {
    "duration": 265,
    "start_time": "2025-01-04T01:20:56.165Z"
   },
   {
    "duration": 289,
    "start_time": "2025-01-04T01:20:56.431Z"
   },
   {
    "duration": 151,
    "start_time": "2025-01-04T01:20:56.721Z"
   },
   {
    "duration": 260,
    "start_time": "2025-01-04T01:20:56.874Z"
   },
   {
    "duration": 16,
    "start_time": "2025-01-04T01:32:37.717Z"
   },
   {
    "duration": 160,
    "start_time": "2025-01-04T01:34:27.900Z"
   },
   {
    "duration": 142,
    "start_time": "2025-01-04T01:34:33.361Z"
   },
   {
    "duration": 229,
    "start_time": "2025-01-04T01:34:40.799Z"
   },
   {
    "duration": 262,
    "start_time": "2025-01-04T01:36:13.304Z"
   },
   {
    "duration": 270,
    "start_time": "2025-01-04T01:36:22.441Z"
   },
   {
    "duration": 83,
    "start_time": "2025-01-04T01:36:25.557Z"
   },
   {
    "duration": 276,
    "start_time": "2025-01-04T01:36:28.126Z"
   },
   {
    "duration": 265,
    "start_time": "2025-01-04T01:37:15.657Z"
   },
   {
    "duration": 174,
    "start_time": "2025-01-04T01:55:10.790Z"
   },
   {
    "duration": 3314,
    "start_time": "2025-01-04T02:04:10.356Z"
   },
   {
    "duration": 1504,
    "start_time": "2025-01-04T02:04:13.672Z"
   },
   {
    "duration": 129,
    "start_time": "2025-01-04T02:04:15.177Z"
   },
   {
    "duration": 35,
    "start_time": "2025-01-04T02:04:15.309Z"
   },
   {
    "duration": 28,
    "start_time": "2025-01-04T02:04:15.360Z"
   },
   {
    "duration": 23,
    "start_time": "2025-01-04T02:04:15.390Z"
   },
   {
    "duration": 96,
    "start_time": "2025-01-04T02:04:15.415Z"
   },
   {
    "duration": 21,
    "start_time": "2025-01-04T02:04:15.512Z"
   },
   {
    "duration": 64,
    "start_time": "2025-01-04T02:04:15.535Z"
   },
   {
    "duration": 60,
    "start_time": "2025-01-04T02:04:15.601Z"
   },
   {
    "duration": 188,
    "start_time": "2025-01-04T02:04:15.663Z"
   },
   {
    "duration": 253,
    "start_time": "2025-01-04T02:04:15.859Z"
   },
   {
    "duration": 211,
    "start_time": "2025-01-04T02:04:16.114Z"
   },
   {
    "duration": 145,
    "start_time": "2025-01-04T02:04:16.327Z"
   },
   {
    "duration": 13,
    "start_time": "2025-01-04T02:04:16.475Z"
   },
   {
    "duration": 239,
    "start_time": "2025-01-04T02:04:16.490Z"
   },
   {
    "duration": 151,
    "start_time": "2025-01-04T02:04:16.731Z"
   },
   {
    "duration": 15,
    "start_time": "2025-01-04T02:04:16.884Z"
   },
   {
    "duration": 229,
    "start_time": "2025-01-04T02:04:16.900Z"
   },
   {
    "duration": 296,
    "start_time": "2025-01-04T02:04:17.131Z"
   },
   {
    "duration": 868,
    "start_time": "2025-01-04T02:04:17.429Z"
   },
   {
    "duration": 217,
    "start_time": "2025-01-04T02:04:18.299Z"
   },
   {
    "duration": 20,
    "start_time": "2025-01-04T02:04:18.519Z"
   },
   {
    "duration": 268,
    "start_time": "2025-01-04T02:04:18.541Z"
   },
   {
    "duration": 254,
    "start_time": "2025-01-04T02:04:18.811Z"
   },
   {
    "duration": 276,
    "start_time": "2025-01-04T02:04:19.067Z"
   },
   {
    "duration": 155,
    "start_time": "2025-01-04T02:04:19.345Z"
   },
   {
    "duration": 267,
    "start_time": "2025-01-04T02:04:19.503Z"
   },
   {
    "duration": 3630,
    "start_time": "2025-01-04T12:04:26.518Z"
   },
   {
    "duration": 1548,
    "start_time": "2025-01-04T12:04:30.151Z"
   },
   {
    "duration": 289,
    "start_time": "2025-01-04T12:04:31.702Z"
   },
   {
    "duration": 34,
    "start_time": "2025-01-04T12:04:31.993Z"
   },
   {
    "duration": 43,
    "start_time": "2025-01-04T12:04:32.029Z"
   },
   {
    "duration": 24,
    "start_time": "2025-01-04T12:04:32.074Z"
   },
   {
    "duration": 84,
    "start_time": "2025-01-04T12:04:32.100Z"
   },
   {
    "duration": 20,
    "start_time": "2025-01-04T12:04:32.185Z"
   },
   {
    "duration": 58,
    "start_time": "2025-01-04T12:04:32.206Z"
   },
   {
    "duration": 39,
    "start_time": "2025-01-04T12:04:32.266Z"
   },
   {
    "duration": 200,
    "start_time": "2025-01-04T12:04:32.306Z"
   },
   {
    "duration": 274,
    "start_time": "2025-01-04T12:04:32.508Z"
   },
   {
    "duration": 382,
    "start_time": "2025-01-04T12:04:32.784Z"
   },
   {
    "duration": 231,
    "start_time": "2025-01-04T12:04:33.167Z"
   },
   {
    "duration": 66,
    "start_time": "2025-01-04T12:04:33.400Z"
   },
   {
    "duration": 412,
    "start_time": "2025-01-04T12:04:33.468Z"
   },
   {
    "duration": 291,
    "start_time": "2025-01-04T12:04:33.882Z"
   },
   {
    "duration": 14,
    "start_time": "2025-01-04T12:04:34.175Z"
   },
   {
    "duration": 349,
    "start_time": "2025-01-04T12:04:34.191Z"
   },
   {
    "duration": 283,
    "start_time": "2025-01-04T12:04:34.542Z"
   },
   {
    "duration": 866,
    "start_time": "2025-01-04T12:04:34.827Z"
   },
   {
    "duration": 218,
    "start_time": "2025-01-04T12:04:35.695Z"
   },
   {
    "duration": 19,
    "start_time": "2025-01-04T12:04:35.915Z"
   },
   {
    "duration": 274,
    "start_time": "2025-01-04T12:04:35.936Z"
   },
   {
    "duration": 265,
    "start_time": "2025-01-04T12:04:36.212Z"
   },
   {
    "duration": 284,
    "start_time": "2025-01-04T12:04:36.479Z"
   },
   {
    "duration": 147,
    "start_time": "2025-01-04T12:04:36.764Z"
   },
   {
    "duration": 270,
    "start_time": "2025-01-04T12:04:36.914Z"
   },
   {
    "duration": 80,
    "start_time": "2025-01-04T12:16:06.642Z"
   }
  ],
  "celltoolbar": "Hide code",
  "colab": {
   "provenance": []
  },
  "hide_code_all_hidden": true,
  "kernelspec": {
   "display_name": "Python 3 (ipykernel)",
   "language": "python",
   "name": "python3"
  },
  "language_info": {
   "codemirror_mode": {
    "name": "ipython",
    "version": 3
   },
   "file_extension": ".py",
   "mimetype": "text/x-python",
   "name": "python",
   "nbconvert_exporter": "python",
   "pygments_lexer": "ipython3",
   "version": "3.13.3"
  },
  "toc": {
   "base_numbering": 1,
   "nav_menu": {
    "height": "384px",
    "width": "286px"
   },
   "number_sections": true,
   "sideBar": true,
   "skip_h1_title": true,
   "title_cell": "Table of Contents",
   "title_sidebar": "Contents",
   "toc_cell": false,
   "toc_position": {
    "height": "calc(100% - 180px)",
    "left": "10px",
    "top": "150px",
    "width": "420.790436px"
   },
   "toc_section_display": true,
   "toc_window_display": true
  }
 },
 "nbformat": 4,
 "nbformat_minor": 5
}
