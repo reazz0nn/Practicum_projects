{
 "cells": [
  {
   "cell_type": "markdown",
   "metadata": {},
   "source": [
    "# Анализ заказов билетов и пользовательской активности\n",
    "\n",
    "- Автор: Максимов А.В.\n",
    "- Дата: 29.03.2025"
   ]
  },
  {
   "cell_type": "markdown",
   "metadata": {},
   "source": [
    "## Цели и задачи проекта"
   ]
  },
  {
   "cell_type": "markdown",
   "metadata": {},
   "source": [
    "Коллеги из продуктовой команды просят провести исследовательский анализ данных в Python, чтобы выявить инсайты об изменении пользовательских предпочтений и популярности событий осенью 2024 года, а также проверить гипотезы о разнице в поведении пользователей с мобильными и стационарными устройствами."
   ]
  },
  {
   "cell_type": "markdown",
   "metadata": {},
   "source": [
    "## Описание данных\n",
    "\n",
    "- `final_tickets_orders_df` — таблица включает информацию обо всех заказах билетов, совершённых с двух типов устройств — мобильных и стационарных. Путь к файлу: `/datasets/final_tickets_orders_df`.\n",
    "\n",
    "- `final_tickets_events_df` — таблица содержит информацию о событиях, включая город и регион события, а также информацию о площадке проведения мероприятия. Путь к файлу: `/datasets/final_tickets_events_df.csv`.\n",
    "\n",
    "- `final_tickets_tenge_df.csv` — таблица с информацией о курсе тенге к российскому рублю за 2024 год. Значения в рублях представлено для 100 тенге. Путь к файлу: `/datasets/final_tickets_tenge_df.csv`.\n",
    "\n",
    "\n",
    "**Поля таблицы `final_tickets_orders_df.csv`:**\n",
    "\n",
    "- `order_id` — уникальный идентификатор заказа;\n",
    "\n",
    "- `user_id` — уникальный идентификатор пользователя;\n",
    "\n",
    "- `created_dt_msk` — дата создания заказа (московское время);\n",
    "\n",
    "- `created_ts_msk` — дата и время создания заказа (московское время);\n",
    "\n",
    "- `event_id` — идентификатор мероприятия из таблицы events;\n",
    "\n",
    "- `cinema_circuit` — сеть кинотеатров. Если не применимо, то здесь будет значение 'нет';\n",
    "\n",
    "- `age_limit` — возрастное ограничение мероприятия;\n",
    "\n",
    "- `currency_code` —  валюта оплаты, например rub для российских рублей;\n",
    "\n",
    "- `device_type_canonical` — тип устройства, с которого был оформлен заказ, например mobile для мобильных устройств, desktop для стационарных;\n",
    "\n",
    "- `revenue` — выручка от заказа;\n",
    "\n",
    "- `service_name` — название билетного оператора;\n",
    "\n",
    "- `tickets_count` — количество купленных билетов;\n",
    "\n",
    "- `total` — общая сумма заказа.\n",
    "\n",
    "**Поля таблицы `final_tickets_events_df.csv`:**\n",
    "\n",
    "- `event_id` — уникальный идентификатор мероприятия;\n",
    "\n",
    "- `event_name` — название мероприятия. Аналог поля event_name_code из исходной базы данных;\n",
    "\n",
    "- `event_type_description` — описание типа мероприятия;\n",
    "\n",
    "- `event_type_main` — основной тип мероприятия: театральная постановка, концерт и так далее;\n",
    "\n",
    "- `organizers` — организаторы мероприятия;\n",
    "\n",
    "- `region_name` — название региона;\n",
    "\n",
    "- `city_name` — название города;\n",
    "\n",
    "- `venue_id` —  уникальный идентификатор площадки;\n",
    "\n",
    "- `venue_name` — название площадки;\n",
    "\n",
    "- `venue_address` — адрес площадки;\n",
    "\n",
    "**Поля таблицы `final_tickets_tenge_df.csv`:**\n",
    "\n",
    "- `nominal` — номинал (100 тенге);\n",
    "\n",
    "- `data` — дата;\n",
    "\n",
    "- `curs` — курс тенге к рублю;\n",
    "\n",
    "- `cdx` — обозначение валюты (kzt);"
   ]
  },
  {
   "cell_type": "markdown",
   "metadata": {},
   "source": [
    "##  Содержимое проекта\n",
    "- Работа с данными\n",
    "- Исследовательский анализ данных\n",
    "- Статистический анализ данных\n",
    "- Вывод и рекомендации"
   ]
  },
  {
   "cell_type": "markdown",
   "metadata": {},
   "source": [
    "## Работа с данными"
   ]
  },
  {
   "cell_type": "markdown",
   "metadata": {},
   "source": [
    "### Загрузка данных"
   ]
  },
  {
   "cell_type": "code",
   "execution_count": 1,
   "metadata": {
    "hideCode": true,
    "hidePrompt": true,
    "id": "LMuaGIE3lGcr",
    "scrolled": true
   },
   "outputs": [],
   "source": [
    "import pandas as pd\n",
    "from sqlalchemy import create_engine\n",
    "import numpy as np\n",
    "import matplotlib.pyplot as plt\n",
    "import seaborn as sns\n",
    "from scipy.stats import ttest_ind\n",
    "from scipy import stats as st\n",
    "import os\n",
    "\n",
    "# Extract connection parameters\n",
    "dbname = 'data-analyst-afisha'\n",
    "user = 'praktikum_student'\n",
    "password = 'Sdf4$2;d-d30pp'\n",
    "host = 'rc1b-wcoijxj3yxfsf3fs.mdb.yandexcloud.net'\n",
    "port = 6432\n",
    "\n",
    "# Establish the connection\n",
    "connection_string = f\"postgresql+psycopg2://{user}:{password}@{host}:{port}/{dbname}\"\n",
    "\n",
    "# Create the SQLAlchemy engine\n",
    "engine = create_engine(connection_string)\n",
    "\n",
    "# Use pandas to read the purchase data\n",
    "query = \"\"\"\n",
    "SELECT *,\n",
    "       created_dt_msk::date - LAG(created_dt_msk) OVER(PARTITION BY user_id ORDER BY created_dt_msk)::date AS days_since_prev\n",
    "FROM afisha.purchases\n",
    "WHERE -- Фильтруем тип устройства\n",
    " device_type_canonical IN ('mobile',\n",
    "                           'desktop'); \n",
    "\"\"\"\n",
    "query_2 = \"\"\"\n",
    "SELECT -- Выгружаем данные таблицы events:\n",
    " e.event_id,\n",
    " e.event_name_code AS event_name,\n",
    " e.event_type_description,\n",
    " e.event_type_main,\n",
    " e.organizers, \n",
    " -- Выгружаем информацию о городе и регионе:\n",
    " r.region_name,\n",
    " c.city_name,\n",
    " c.city_id, \n",
    " -- Выгружаем информацию о площадке:\n",
    " v.venue_id,\n",
    " v.venue_name,\n",
    " v.address AS venue_address\n",
    "FROM afisha.events AS e\n",
    "LEFT JOIN afisha.venues AS v USING(venue_id)\n",
    "LEFT JOIN afisha.city AS c USING(city_id)\n",
    "LEFT JOIN afisha.regions AS r USING(region_id)\n",
    "WHERE e.event_id IN\n",
    "    (SELECT DISTINCT event_id\n",
    "     FROM afisha.purchases\n",
    "     WHERE -- Фильтруем тип устройства\n",
    " device_type_canonical IN ('mobile',\n",
    "                           'desktop'))\n",
    "  AND e.event_type_main != 'фильм';\n",
    "\"\"\"\n",
    "\n",
    "pth1 = '/final_tickets_tenge_df.csv'\n",
    "pth2 = '/datasets/final_tickets_tenge_df.csv'\n",
    "\n",
    "if os.path.exists(pth1):\n",
    "    final_tickets_tenge_df = pd.read_csv(pth1)\n",
    "elif os.path.exists(pth2):\n",
    "    final_tickets_tenge_df = pd.read_csv(pth2)\n",
    "else:\n",
    "    print('Something is wrong')"
   ]
  },
  {
   "cell_type": "code",
   "execution_count": 2,
   "metadata": {
    "hideCode": true,
    "hidePrompt": true,
    "scrolled": false
   },
   "outputs": [
    {
     "name": "stdout",
     "output_type": "stream",
     "text": [
      "<class 'pandas.core.frame.DataFrame'>\n",
      "RangeIndex: 290849 entries, 0 to 290848\n",
      "Data columns (total 14 columns):\n",
      " #   Column                 Non-Null Count   Dtype         \n",
      "---  ------                 --------------   -----         \n",
      " 0   order_id               290849 non-null  int64         \n",
      " 1   user_id                290849 non-null  object        \n",
      " 2   created_dt_msk         290849 non-null  datetime64[ns]\n",
      " 3   created_ts_msk         290849 non-null  datetime64[ns]\n",
      " 4   event_id               290849 non-null  int64         \n",
      " 5   cinema_circuit         290849 non-null  object        \n",
      " 6   age_limit              290849 non-null  int64         \n",
      " 7   currency_code          290849 non-null  object        \n",
      " 8   device_type_canonical  290849 non-null  object        \n",
      " 9   revenue                290849 non-null  float64       \n",
      " 10  service_name           290849 non-null  object        \n",
      " 11  tickets_count          290849 non-null  int64         \n",
      " 12  total                  290849 non-null  float64       \n",
      " 13  days_since_prev        268909 non-null  float64       \n",
      "dtypes: datetime64[ns](2), float64(3), int64(4), object(5)\n",
      "memory usage: 31.1+ MB\n"
     ]
    },
    {
     "data": {
      "text/html": [
       "<div>\n",
       "<style scoped>\n",
       "    .dataframe tbody tr th:only-of-type {\n",
       "        vertical-align: middle;\n",
       "    }\n",
       "\n",
       "    .dataframe tbody tr th {\n",
       "        vertical-align: top;\n",
       "    }\n",
       "\n",
       "    .dataframe thead th {\n",
       "        text-align: right;\n",
       "    }\n",
       "</style>\n",
       "<table border=\"1\" class=\"dataframe\">\n",
       "  <thead>\n",
       "    <tr style=\"text-align: right;\">\n",
       "      <th></th>\n",
       "      <th>order_id</th>\n",
       "      <th>user_id</th>\n",
       "      <th>created_dt_msk</th>\n",
       "      <th>created_ts_msk</th>\n",
       "      <th>event_id</th>\n",
       "      <th>cinema_circuit</th>\n",
       "      <th>age_limit</th>\n",
       "      <th>currency_code</th>\n",
       "      <th>device_type_canonical</th>\n",
       "      <th>revenue</th>\n",
       "      <th>service_name</th>\n",
       "      <th>tickets_count</th>\n",
       "      <th>total</th>\n",
       "      <th>days_since_prev</th>\n",
       "    </tr>\n",
       "  </thead>\n",
       "  <tbody>\n",
       "    <tr>\n",
       "      <th>0</th>\n",
       "      <td>4359165</td>\n",
       "      <td>0002849b70a3ce2</td>\n",
       "      <td>2024-08-20</td>\n",
       "      <td>2024-08-20 16:08:03</td>\n",
       "      <td>169230</td>\n",
       "      <td>нет</td>\n",
       "      <td>16</td>\n",
       "      <td>rub</td>\n",
       "      <td>mobile</td>\n",
       "      <td>1521.94</td>\n",
       "      <td>Край билетов</td>\n",
       "      <td>4</td>\n",
       "      <td>10870.99</td>\n",
       "      <td>NaN</td>\n",
       "    </tr>\n",
       "    <tr>\n",
       "      <th>1</th>\n",
       "      <td>7965605</td>\n",
       "      <td>0005ca5e93f2cf4</td>\n",
       "      <td>2024-07-23</td>\n",
       "      <td>2024-07-23 18:36:24</td>\n",
       "      <td>237325</td>\n",
       "      <td>нет</td>\n",
       "      <td>0</td>\n",
       "      <td>rub</td>\n",
       "      <td>mobile</td>\n",
       "      <td>289.45</td>\n",
       "      <td>Мой билет</td>\n",
       "      <td>2</td>\n",
       "      <td>2067.51</td>\n",
       "      <td>NaN</td>\n",
       "    </tr>\n",
       "    <tr>\n",
       "      <th>2</th>\n",
       "      <td>7292370</td>\n",
       "      <td>0005ca5e93f2cf4</td>\n",
       "      <td>2024-10-06</td>\n",
       "      <td>2024-10-06 13:56:02</td>\n",
       "      <td>578454</td>\n",
       "      <td>нет</td>\n",
       "      <td>0</td>\n",
       "      <td>rub</td>\n",
       "      <td>mobile</td>\n",
       "      <td>1258.57</td>\n",
       "      <td>За билетом!</td>\n",
       "      <td>4</td>\n",
       "      <td>13984.16</td>\n",
       "      <td>75.0</td>\n",
       "    </tr>\n",
       "    <tr>\n",
       "      <th>3</th>\n",
       "      <td>1139875</td>\n",
       "      <td>000898990054619</td>\n",
       "      <td>2024-07-13</td>\n",
       "      <td>2024-07-13 19:40:48</td>\n",
       "      <td>387271</td>\n",
       "      <td>нет</td>\n",
       "      <td>0</td>\n",
       "      <td>rub</td>\n",
       "      <td>mobile</td>\n",
       "      <td>8.49</td>\n",
       "      <td>Лови билет!</td>\n",
       "      <td>2</td>\n",
       "      <td>212.28</td>\n",
       "      <td>NaN</td>\n",
       "    </tr>\n",
       "    <tr>\n",
       "      <th>4</th>\n",
       "      <td>972400</td>\n",
       "      <td>000898990054619</td>\n",
       "      <td>2024-10-04</td>\n",
       "      <td>2024-10-04 22:33:15</td>\n",
       "      <td>509453</td>\n",
       "      <td>нет</td>\n",
       "      <td>18</td>\n",
       "      <td>rub</td>\n",
       "      <td>mobile</td>\n",
       "      <td>1390.41</td>\n",
       "      <td>Билеты без проблем</td>\n",
       "      <td>3</td>\n",
       "      <td>10695.43</td>\n",
       "      <td>83.0</td>\n",
       "    </tr>\n",
       "  </tbody>\n",
       "</table>\n",
       "</div>"
      ],
      "text/plain": [
       "   order_id          user_id created_dt_msk      created_ts_msk  event_id  \\\n",
       "0   4359165  0002849b70a3ce2     2024-08-20 2024-08-20 16:08:03    169230   \n",
       "1   7965605  0005ca5e93f2cf4     2024-07-23 2024-07-23 18:36:24    237325   \n",
       "2   7292370  0005ca5e93f2cf4     2024-10-06 2024-10-06 13:56:02    578454   \n",
       "3   1139875  000898990054619     2024-07-13 2024-07-13 19:40:48    387271   \n",
       "4    972400  000898990054619     2024-10-04 2024-10-04 22:33:15    509453   \n",
       "\n",
       "  cinema_circuit  age_limit currency_code device_type_canonical  revenue  \\\n",
       "0            нет         16           rub                mobile  1521.94   \n",
       "1            нет          0           rub                mobile   289.45   \n",
       "2            нет          0           rub                mobile  1258.57   \n",
       "3            нет          0           rub                mobile     8.49   \n",
       "4            нет         18           rub                mobile  1390.41   \n",
       "\n",
       "         service_name  tickets_count     total  days_since_prev  \n",
       "0        Край билетов              4  10870.99              NaN  \n",
       "1           Мой билет              2   2067.51              NaN  \n",
       "2         За билетом!              4  13984.16             75.0  \n",
       "3         Лови билет!              2    212.28              NaN  \n",
       "4  Билеты без проблем              3  10695.43             83.0  "
      ]
     },
     "execution_count": 2,
     "metadata": {},
     "output_type": "execute_result"
    }
   ],
   "source": [
    "final_tickets_orders_df = pd.read_sql_query(query, engine)\n",
    "final_tickets_orders_df.info()\n",
    "final_tickets_orders_df.head(5)"
   ]
  },
  {
   "cell_type": "code",
   "execution_count": 3,
   "metadata": {
    "hideCode": true,
    "hidePrompt": true
   },
   "outputs": [
    {
     "name": "stdout",
     "output_type": "stream",
     "text": [
      "<class 'pandas.core.frame.DataFrame'>\n",
      "RangeIndex: 22427 entries, 0 to 22426\n",
      "Data columns (total 11 columns):\n",
      " #   Column                  Non-Null Count  Dtype \n",
      "---  ------                  --------------  ----- \n",
      " 0   event_id                22427 non-null  int64 \n",
      " 1   event_name              22427 non-null  object\n",
      " 2   event_type_description  22427 non-null  object\n",
      " 3   event_type_main         22427 non-null  object\n",
      " 4   organizers              22427 non-null  object\n",
      " 5   region_name             22427 non-null  object\n",
      " 6   city_name               22427 non-null  object\n",
      " 7   city_id                 22427 non-null  int64 \n",
      " 8   venue_id                22427 non-null  int64 \n",
      " 9   venue_name              22427 non-null  object\n",
      " 10  venue_address           22427 non-null  object\n",
      "dtypes: int64(3), object(8)\n",
      "memory usage: 1.9+ MB\n"
     ]
    },
    {
     "data": {
      "text/html": [
       "<div>\n",
       "<style scoped>\n",
       "    .dataframe tbody tr th:only-of-type {\n",
       "        vertical-align: middle;\n",
       "    }\n",
       "\n",
       "    .dataframe tbody tr th {\n",
       "        vertical-align: top;\n",
       "    }\n",
       "\n",
       "    .dataframe thead th {\n",
       "        text-align: right;\n",
       "    }\n",
       "</style>\n",
       "<table border=\"1\" class=\"dataframe\">\n",
       "  <thead>\n",
       "    <tr style=\"text-align: right;\">\n",
       "      <th></th>\n",
       "      <th>event_id</th>\n",
       "      <th>event_name</th>\n",
       "      <th>event_type_description</th>\n",
       "      <th>event_type_main</th>\n",
       "      <th>organizers</th>\n",
       "      <th>region_name</th>\n",
       "      <th>city_name</th>\n",
       "      <th>city_id</th>\n",
       "      <th>venue_id</th>\n",
       "      <th>venue_name</th>\n",
       "      <th>venue_address</th>\n",
       "    </tr>\n",
       "  </thead>\n",
       "  <tbody>\n",
       "    <tr>\n",
       "      <th>0</th>\n",
       "      <td>4436</td>\n",
       "      <td>e4f26fba-da77-4c61-928a-6c3e434d793f</td>\n",
       "      <td>спектакль</td>\n",
       "      <td>театр</td>\n",
       "      <td>№4893</td>\n",
       "      <td>Североярская область</td>\n",
       "      <td>Озёрск</td>\n",
       "      <td>2</td>\n",
       "      <td>1600</td>\n",
       "      <td>Кладбище искусств \"Проблема\" и партнеры</td>\n",
       "      <td>наб. Загородная, д. 785</td>\n",
       "    </tr>\n",
       "    <tr>\n",
       "      <th>1</th>\n",
       "      <td>5785</td>\n",
       "      <td>5cc08a60-fdea-4186-9bb2-bffc3603fb77</td>\n",
       "      <td>спектакль</td>\n",
       "      <td>театр</td>\n",
       "      <td>№1931</td>\n",
       "      <td>Светополянский округ</td>\n",
       "      <td>Глиноград</td>\n",
       "      <td>54</td>\n",
       "      <td>2196</td>\n",
       "      <td>Лекции по искусству \"Свет\" Групп</td>\n",
       "      <td>ул. Ягодная, д. 942</td>\n",
       "    </tr>\n",
       "    <tr>\n",
       "      <th>2</th>\n",
       "      <td>8817</td>\n",
       "      <td>8e379a89-3a10-4811-ba06-ec22ebebe989</td>\n",
       "      <td>спектакль</td>\n",
       "      <td>театр</td>\n",
       "      <td>№4896</td>\n",
       "      <td>Североярская область</td>\n",
       "      <td>Озёрск</td>\n",
       "      <td>2</td>\n",
       "      <td>4043</td>\n",
       "      <td>Кинокомитет \"Золотая\" Инк</td>\n",
       "      <td>ш. Коммуны, д. 92 стр. 6</td>\n",
       "    </tr>\n",
       "    <tr>\n",
       "      <th>3</th>\n",
       "      <td>8849</td>\n",
       "      <td>682e3129-6a32-4952-9d8a-ef7f60d4c247</td>\n",
       "      <td>спектакль</td>\n",
       "      <td>театр</td>\n",
       "      <td>№4960</td>\n",
       "      <td>Каменевский регион</td>\n",
       "      <td>Глиногорск</td>\n",
       "      <td>213</td>\n",
       "      <td>1987</td>\n",
       "      <td>Выставка ремесел \"Свет\" Лтд</td>\n",
       "      <td>пер. Набережный, д. 35</td>\n",
       "    </tr>\n",
       "    <tr>\n",
       "      <th>4</th>\n",
       "      <td>8850</td>\n",
       "      <td>d6e99176-c77f-4af0-9222-07c571f6c624</td>\n",
       "      <td>спектакль</td>\n",
       "      <td>театр</td>\n",
       "      <td>№4770</td>\n",
       "      <td>Лесодальний край</td>\n",
       "      <td>Родниковец</td>\n",
       "      <td>55</td>\n",
       "      <td>4230</td>\n",
       "      <td>Фестивальный проект \"Листья\" Групп</td>\n",
       "      <td>пер. Проезжий, д. 9</td>\n",
       "    </tr>\n",
       "  </tbody>\n",
       "</table>\n",
       "</div>"
      ],
      "text/plain": [
       "   event_id                            event_name event_type_description  \\\n",
       "0      4436  e4f26fba-da77-4c61-928a-6c3e434d793f              спектакль   \n",
       "1      5785  5cc08a60-fdea-4186-9bb2-bffc3603fb77              спектакль   \n",
       "2      8817  8e379a89-3a10-4811-ba06-ec22ebebe989              спектакль   \n",
       "3      8849  682e3129-6a32-4952-9d8a-ef7f60d4c247              спектакль   \n",
       "4      8850  d6e99176-c77f-4af0-9222-07c571f6c624              спектакль   \n",
       "\n",
       "  event_type_main organizers           region_name   city_name  city_id  \\\n",
       "0           театр      №4893  Североярская область      Озёрск        2   \n",
       "1           театр      №1931  Светополянский округ   Глиноград       54   \n",
       "2           театр      №4896  Североярская область      Озёрск        2   \n",
       "3           театр      №4960    Каменевский регион  Глиногорск      213   \n",
       "4           театр      №4770      Лесодальний край  Родниковец       55   \n",
       "\n",
       "   venue_id                               venue_name             venue_address  \n",
       "0      1600  Кладбище искусств \"Проблема\" и партнеры   наб. Загородная, д. 785  \n",
       "1      2196         Лекции по искусству \"Свет\" Групп       ул. Ягодная, д. 942  \n",
       "2      4043                Кинокомитет \"Золотая\" Инк  ш. Коммуны, д. 92 стр. 6  \n",
       "3      1987              Выставка ремесел \"Свет\" Лтд    пер. Набережный, д. 35  \n",
       "4      4230       Фестивальный проект \"Листья\" Групп       пер. Проезжий, д. 9  "
      ]
     },
     "execution_count": 3,
     "metadata": {},
     "output_type": "execute_result"
    }
   ],
   "source": [
    "final_tickets_events_df = pd.read_sql_query(query_2, engine)\n",
    "final_tickets_events_df.info()\n",
    "final_tickets_events_df.head(5)"
   ]
  },
  {
   "cell_type": "code",
   "execution_count": 4,
   "metadata": {
    "hideCode": true,
    "hidePrompt": true
   },
   "outputs": [
    {
     "name": "stdout",
     "output_type": "stream",
     "text": [
      "<class 'pandas.core.frame.DataFrame'>\n",
      "RangeIndex: 357 entries, 0 to 356\n",
      "Data columns (total 4 columns):\n",
      " #   Column   Non-Null Count  Dtype  \n",
      "---  ------   --------------  -----  \n",
      " 0   data     357 non-null    object \n",
      " 1   nominal  357 non-null    int64  \n",
      " 2   curs     357 non-null    float64\n",
      " 3   cdx      357 non-null    object \n",
      "dtypes: float64(1), int64(1), object(2)\n",
      "memory usage: 11.3+ KB\n"
     ]
    },
    {
     "data": {
      "text/html": [
       "<div>\n",
       "<style scoped>\n",
       "    .dataframe tbody tr th:only-of-type {\n",
       "        vertical-align: middle;\n",
       "    }\n",
       "\n",
       "    .dataframe tbody tr th {\n",
       "        vertical-align: top;\n",
       "    }\n",
       "\n",
       "    .dataframe thead th {\n",
       "        text-align: right;\n",
       "    }\n",
       "</style>\n",
       "<table border=\"1\" class=\"dataframe\">\n",
       "  <thead>\n",
       "    <tr style=\"text-align: right;\">\n",
       "      <th></th>\n",
       "      <th>data</th>\n",
       "      <th>nominal</th>\n",
       "      <th>curs</th>\n",
       "      <th>cdx</th>\n",
       "    </tr>\n",
       "  </thead>\n",
       "  <tbody>\n",
       "    <tr>\n",
       "      <th>0</th>\n",
       "      <td>2024-01-10</td>\n",
       "      <td>100</td>\n",
       "      <td>19.9391</td>\n",
       "      <td>kzt</td>\n",
       "    </tr>\n",
       "    <tr>\n",
       "      <th>1</th>\n",
       "      <td>2024-01-11</td>\n",
       "      <td>100</td>\n",
       "      <td>19.7255</td>\n",
       "      <td>kzt</td>\n",
       "    </tr>\n",
       "    <tr>\n",
       "      <th>2</th>\n",
       "      <td>2024-01-12</td>\n",
       "      <td>100</td>\n",
       "      <td>19.5839</td>\n",
       "      <td>kzt</td>\n",
       "    </tr>\n",
       "    <tr>\n",
       "      <th>3</th>\n",
       "      <td>2024-01-13</td>\n",
       "      <td>100</td>\n",
       "      <td>19.4501</td>\n",
       "      <td>kzt</td>\n",
       "    </tr>\n",
       "    <tr>\n",
       "      <th>4</th>\n",
       "      <td>2024-01-14</td>\n",
       "      <td>100</td>\n",
       "      <td>19.4501</td>\n",
       "      <td>kzt</td>\n",
       "    </tr>\n",
       "  </tbody>\n",
       "</table>\n",
       "</div>"
      ],
      "text/plain": [
       "         data  nominal     curs  cdx\n",
       "0  2024-01-10      100  19.9391  kzt\n",
       "1  2024-01-11      100  19.7255  kzt\n",
       "2  2024-01-12      100  19.5839  kzt\n",
       "3  2024-01-13      100  19.4501  kzt\n",
       "4  2024-01-14      100  19.4501  kzt"
      ]
     },
     "execution_count": 4,
     "metadata": {},
     "output_type": "execute_result"
    }
   ],
   "source": [
    "final_tickets_tenge_df.info()\n",
    "final_tickets_tenge_df.head()"
   ]
  },
  {
   "cell_type": "markdown",
   "metadata": {},
   "source": [
    "В целом, пропусков в столбцах не видно, кроме days_since_prev, который означет количество дней с предыдущей покупки, а если у человека и изначально покупки не было, значит там может быть пропуск, поэтому пустые значения в этом столбце не критично. Так же, если просмотреть таблицу final_tickets_tenge_df, то видно что датасет имеет 357 строк и отсутсвие пропусков в столбцах, что говорит нам о полноте данных в таблице. Единственное что полдребуется, так это поменять тип данных у столбца data на datetime."
   ]
  },
  {
   "cell_type": "markdown",
   "metadata": {},
   "source": [
    "### Предобработка данных"
   ]
  },
  {
   "cell_type": "code",
   "execution_count": 5,
   "metadata": {
    "hideCode": true,
    "hidePrompt": true
   },
   "outputs": [],
   "source": [
    "final_tickets_tenge_df['data'] = pd.to_datetime(final_tickets_tenge_df['data'])"
   ]
  },
  {
   "cell_type": "markdown",
   "metadata": {},
   "source": [
    "Приводим выше названный столбец к нужному нам типу данных"
   ]
  },
  {
   "cell_type": "code",
   "execution_count": 6,
   "metadata": {
    "hideCode": true,
    "hidePrompt": true,
    "scrolled": false
   },
   "outputs": [
    {
     "name": "stdout",
     "output_type": "stream",
     "text": [
      "<class 'pandas.core.frame.DataFrame'>\n",
      "Int64Index: 290849 entries, 0 to 290848\n",
      "Data columns (total 25 columns):\n",
      " #   Column                  Non-Null Count   Dtype         \n",
      "---  ------                  --------------   -----         \n",
      " 0   order_id                290849 non-null  int64         \n",
      " 1   user_id                 290849 non-null  object        \n",
      " 2   created_dt_msk          290849 non-null  datetime64[ns]\n",
      " 3   created_ts_msk          290849 non-null  datetime64[ns]\n",
      " 4   event_id                290849 non-null  int64         \n",
      " 5   cinema_circuit          290849 non-null  object        \n",
      " 6   age_limit               290849 non-null  int64         \n",
      " 7   currency_code           290849 non-null  object        \n",
      " 8   device_type_canonical   290849 non-null  object        \n",
      " 9   revenue                 290849 non-null  float64       \n",
      " 10  service_name            290849 non-null  object        \n",
      " 11  tickets_count           290849 non-null  int64         \n",
      " 12  total                   290849 non-null  float64       \n",
      " 13  days_since_prev         268909 non-null  float64       \n",
      " 14  event_name              290611 non-null  object        \n",
      " 15  event_type_description  290611 non-null  object        \n",
      " 16  event_type_main         290611 non-null  object        \n",
      " 17  organizers              290611 non-null  object        \n",
      " 18  region_name             290611 non-null  object        \n",
      " 19  city_name               290611 non-null  object        \n",
      " 20  city_id                 290611 non-null  float64       \n",
      " 21  venue_id                290611 non-null  float64       \n",
      " 22  venue_name              290611 non-null  object        \n",
      " 23  venue_address           290611 non-null  object        \n",
      " 24  curs                    290849 non-null  float64       \n",
      "dtypes: datetime64[ns](2), float64(6), int64(4), object(13)\n",
      "memory usage: 57.7+ MB\n"
     ]
    }
   ],
   "source": [
    "df = final_tickets_orders_df.merge(final_tickets_events_df, left_on = 'event_id', right_on = 'event_id', how = 'left')\n",
    "\n",
    "df = df.merge(final_tickets_tenge_df,left_on = 'created_dt_msk', right_on = 'data', how = 'left')\n",
    "\n",
    "df = df.drop(columns=['cdx', 'nominal','data'])\n",
    "\n",
    "df.info()"
   ]
  },
  {
   "cell_type": "markdown",
   "metadata": {},
   "source": [
    "Тут мы объединили все 3 датасета, и получили одну большую таблицу на 24 столбца в 290849 строку, некоторые столбцы были удалены, так как не несут важной информации. Мы видим что датасет занимает 57.7 мегабайт, и дальше мы исправим эту ситуацию."
   ]
  },
  {
   "cell_type": "markdown",
   "metadata": {},
   "source": [
    "#### Пропуски в датасетах"
   ]
  },
  {
   "cell_type": "code",
   "execution_count": 7,
   "metadata": {
    "hideCode": true,
    "hidePrompt": true,
    "scrolled": false
   },
   "outputs": [
    {
     "name": "stdout",
     "output_type": "stream",
     "text": [
      "Количество пропусков в датасете df\n"
     ]
    },
    {
     "data": {
      "text/plain": [
       "order_id                      0\n",
       "user_id                       0\n",
       "created_dt_msk                0\n",
       "created_ts_msk                0\n",
       "event_id                      0\n",
       "cinema_circuit                0\n",
       "age_limit                     0\n",
       "currency_code                 0\n",
       "device_type_canonical         0\n",
       "revenue                       0\n",
       "service_name                  0\n",
       "tickets_count                 0\n",
       "total                         0\n",
       "days_since_prev           21940\n",
       "event_name                  238\n",
       "event_type_description      238\n",
       "event_type_main             238\n",
       "organizers                  238\n",
       "region_name                 238\n",
       "city_name                   238\n",
       "city_id                     238\n",
       "venue_id                    238\n",
       "venue_name                  238\n",
       "venue_address               238\n",
       "curs                          0\n",
       "dtype: int64"
      ]
     },
     "execution_count": 7,
     "metadata": {},
     "output_type": "execute_result"
    }
   ],
   "source": [
    "print('Количество пропусков в датасете df')\n",
    "df.isna().sum()"
   ]
  },
  {
   "cell_type": "markdown",
   "metadata": {},
   "source": [
    "Заметно, что очень сильно выделятся столбец days_since_prev, но про него мы уже раньше обсудили, поэтому ничео страшного, но мы видим пустые значения в столбцах от датасета final_tickets_events_df, что говорит нам о событиях, которые не нашлись, но так как их очень мало, если сравнивать с общим кол-во строк с которым мы работаем, их можно удалить"
   ]
  },
  {
   "cell_type": "code",
   "execution_count": 8,
   "metadata": {
    "hideCode": true,
    "hidePrompt": true
   },
   "outputs": [
    {
     "name": "stdout",
     "output_type": "stream",
     "text": [
      "Количество пропусков в датасете df\n"
     ]
    },
    {
     "data": {
      "text/plain": [
       "order_id                      0\n",
       "user_id                       0\n",
       "created_dt_msk                0\n",
       "created_ts_msk                0\n",
       "event_id                      0\n",
       "cinema_circuit                0\n",
       "age_limit                     0\n",
       "currency_code                 0\n",
       "device_type_canonical         0\n",
       "revenue                       0\n",
       "service_name                  0\n",
       "tickets_count                 0\n",
       "total                         0\n",
       "days_since_prev           21913\n",
       "event_name                    0\n",
       "event_type_description        0\n",
       "event_type_main               0\n",
       "organizers                    0\n",
       "region_name                   0\n",
       "city_name                     0\n",
       "city_id                       0\n",
       "venue_id                      0\n",
       "venue_name                    0\n",
       "venue_address                 0\n",
       "curs                          0\n",
       "dtype: int64"
      ]
     },
     "execution_count": 8,
     "metadata": {},
     "output_type": "execute_result"
    }
   ],
   "source": [
    "df = df.dropna(subset=['event_name'])\n",
    "print('Количество пропусков в датасете df')\n",
    "df.isna().sum()"
   ]
  },
  {
   "cell_type": "code",
   "execution_count": 9,
   "metadata": {
    "hideCode": true,
    "hidePrompt": true
   },
   "outputs": [
    {
     "name": "stdout",
     "output_type": "stream",
     "text": [
      "<class 'pandas.core.frame.DataFrame'>\n",
      "Int64Index: 290611 entries, 0 to 290848\n",
      "Data columns (total 25 columns):\n",
      " #   Column                  Non-Null Count   Dtype         \n",
      "---  ------                  --------------   -----         \n",
      " 0   order_id                290611 non-null  int64         \n",
      " 1   user_id                 290611 non-null  object        \n",
      " 2   created_dt_msk          290611 non-null  datetime64[ns]\n",
      " 3   created_ts_msk          290611 non-null  datetime64[ns]\n",
      " 4   event_id                290611 non-null  int64         \n",
      " 5   cinema_circuit          290611 non-null  object        \n",
      " 6   age_limit               290611 non-null  int64         \n",
      " 7   currency_code           290611 non-null  object        \n",
      " 8   device_type_canonical   290611 non-null  object        \n",
      " 9   revenue                 290611 non-null  float64       \n",
      " 10  service_name            290611 non-null  object        \n",
      " 11  tickets_count           290611 non-null  int64         \n",
      " 12  total                   290611 non-null  float64       \n",
      " 13  days_since_prev         268698 non-null  float64       \n",
      " 14  event_name              290611 non-null  object        \n",
      " 15  event_type_description  290611 non-null  object        \n",
      " 16  event_type_main         290611 non-null  object        \n",
      " 17  organizers              290611 non-null  object        \n",
      " 18  region_name             290611 non-null  object        \n",
      " 19  city_name               290611 non-null  object        \n",
      " 20  city_id                 290611 non-null  float64       \n",
      " 21  venue_id                290611 non-null  float64       \n",
      " 22  venue_name              290611 non-null  object        \n",
      " 23  venue_address           290611 non-null  object        \n",
      " 24  curs                    290611 non-null  float64       \n",
      "dtypes: datetime64[ns](2), float64(6), int64(4), object(13)\n",
      "memory usage: 57.6+ MB\n"
     ]
    }
   ],
   "source": [
    "df.info()"
   ]
  },
  {
   "cell_type": "markdown",
   "metadata": {},
   "source": [
    "Мы видим, что в каждом столбце теперь совпадают значения по кол-ву непустых строчек, кроме days_since_prev, о котором говорили ранее."
   ]
  },
  {
   "cell_type": "code",
   "execution_count": 10,
   "metadata": {
    "hideCode": true,
    "hidePrompt": true
   },
   "outputs": [
    {
     "name": "stdout",
     "output_type": "stream",
     "text": [
      "Уникальные значения в event_type_main:\n",
      "['выставки' 'другое' 'концерты' 'спорт' 'стендап' 'театр' 'ёлки'] \n",
      "\n",
      "Уникальные значения в device_type_canonical:\n",
      "['desktop' 'mobile'] \n",
      "\n",
      "Уникальные значения в age_limit:\n",
      "[ 0  6 12 16 18] \n",
      "\n",
      "Уникальные значения в currency_code:\n",
      "['kzt' 'rub'] \n",
      "\n",
      "Уникальные значения в service_name:\n",
      "['Crazy ticket!' 'Show_ticket' 'Билет по телефону' 'Билеты без проблем'\n",
      " 'Билеты в интернете' 'Билеты в руки' 'Быстробилет' 'Быстрый кассир'\n",
      " 'Весь в билетах' 'Восьмёрка' 'Вперёд!' 'Выступления.ру'\n",
      " 'Городской дом культуры' 'Дом культуры' 'Дырокол' 'За билетом!'\n",
      " 'Зе Бест!' 'КарандашРУ' 'Кино билет' 'Край билетов' 'Лимоны'\n",
      " 'Лови билет!' 'Лучшие билеты' 'Мир касс' 'Мой билет' 'Облачко'\n",
      " 'Прачечная' 'Радио ticket' 'Реестр' 'Росбилет' 'Тебе билет!' 'Телебилет'\n",
      " 'Тех билет' 'Цвет и билет' 'Шоу начинается!' 'Яблоко'] \n",
      "\n",
      "Уникальные значения в cinema_circuit:\n",
      "['Другое' 'КиноСити' 'Киномакс' 'Москино' 'ЦентрФильм' 'нет'] \n",
      "\n"
     ]
    }
   ],
   "source": [
    "categorical_columns = ['event_type_main', 'device_type_canonical', 'age_limit', 'currency_code', 'service_name','cinema_circuit']\n",
    "for col in categorical_columns:\n",
    "    print(f\"Уникальные значения в {col}:\")\n",
    "    print(df[col].sort_values().unique(), \"\\n\")"
   ]
  },
  {
   "cell_type": "code",
   "execution_count": 11,
   "metadata": {
    "hideCode": true,
    "hidePrompt": true
   },
   "outputs": [
    {
     "data": {
      "image/png": "[encoded data removed]",
      "text/plain": [
       "<Figure size 864x360 with 2 Axes>"
      ]
     },
     "metadata": {
      "needs_background": "light"
     },
     "output_type": "display_data"
    }
   ],
   "source": [
    "numerical_columns = ['revenue', 'tickets_count']\n",
    "plt.figure(figsize=(12, 5))\n",
    "\n",
    "for i, col in enumerate(numerical_columns, 1):\n",
    "    plt.subplot(1, 2, i)\n",
    "    sns.histplot(df[col], bins=50,kde=True)\n",
    "    plt.title(f'Распределение {col}')\n",
    "    plt.xlabel(col)\n",
    "    plt.ylabel('Частота')\n",
    "\n",
    "plt.show()"
   ]
  },
  {
   "cell_type": "markdown",
   "metadata": {},
   "source": [
    "В категориальных данных проблем со значениями нету, но мы можем заметить, что названия сервисов схожи и зачастую имеют в название слово \"Билет\". Основная масса заказов сосредоточена в низком диапазоне, но имеются отдельные заказы с очень высокой стоимостью. Большинство заказов включает небольшое количество билетов, но встречаются заказы с большим числом билетов (до 50 штук)."
   ]
  },
  {
   "cell_type": "markdown",
   "metadata": {},
   "source": [
    "#### Проверка на явные и неявные дубликаты"
   ]
  },
  {
   "cell_type": "code",
   "execution_count": 12,
   "metadata": {
    "hideCode": true,
    "hidePrompt": true
   },
   "outputs": [
    {
     "name": "stdout",
     "output_type": "stream",
     "text": [
      "Кол-во явных дубликатов в датасете df: 0\n"
     ]
    }
   ],
   "source": [
    "obvious_df = df.duplicated().sum()\n",
    "print(f'Кол-во явных дубликатов в датасете df: {obvious_df}')"
   ]
  },
  {
   "cell_type": "code",
   "execution_count": 13,
   "metadata": {
    "hideCode": true,
    "hidePrompt": true,
    "scrolled": true
   },
   "outputs": [
    {
     "data": {
      "text/html": [
       "<div>\n",
       "<style scoped>\n",
       "    .dataframe tbody tr th:only-of-type {\n",
       "        vertical-align: middle;\n",
       "    }\n",
       "\n",
       "    .dataframe tbody tr th {\n",
       "        vertical-align: top;\n",
       "    }\n",
       "\n",
       "    .dataframe thead th {\n",
       "        text-align: right;\n",
       "    }\n",
       "</style>\n",
       "<table border=\"1\" class=\"dataframe\">\n",
       "  <thead>\n",
       "    <tr style=\"text-align: right;\">\n",
       "      <th></th>\n",
       "      <th>order_id</th>\n",
       "      <th>user_id</th>\n",
       "      <th>created_dt_msk</th>\n",
       "      <th>created_ts_msk</th>\n",
       "      <th>event_id</th>\n",
       "      <th>cinema_circuit</th>\n",
       "      <th>age_limit</th>\n",
       "      <th>currency_code</th>\n",
       "      <th>device_type_canonical</th>\n",
       "      <th>revenue</th>\n",
       "      <th>...</th>\n",
       "      <th>event_type_description</th>\n",
       "      <th>event_type_main</th>\n",
       "      <th>organizers</th>\n",
       "      <th>region_name</th>\n",
       "      <th>city_name</th>\n",
       "      <th>city_id</th>\n",
       "      <th>venue_id</th>\n",
       "      <th>venue_name</th>\n",
       "      <th>venue_address</th>\n",
       "      <th>curs</th>\n",
       "    </tr>\n",
       "  </thead>\n",
       "  <tbody>\n",
       "    <tr>\n",
       "      <th>11778</th>\n",
       "      <td>1123867</td>\n",
       "      <td>06eb7897f65b433</td>\n",
       "      <td>2024-08-13</td>\n",
       "      <td>2024-08-13 16:31:07</td>\n",
       "      <td>183706</td>\n",
       "      <td>нет</td>\n",
       "      <td>18</td>\n",
       "      <td>rub</td>\n",
       "      <td>mobile</td>\n",
       "      <td>69.82</td>\n",
       "      <td>...</td>\n",
       "      <td>спектакль</td>\n",
       "      <td>театр</td>\n",
       "      <td>№1482</td>\n",
       "      <td>Светополянский округ</td>\n",
       "      <td>Глиноград</td>\n",
       "      <td>54.0</td>\n",
       "      <td>4443.0</td>\n",
       "      <td>Центр культурного наследия \"Объединение\" и пар...</td>\n",
       "      <td>бул. Карбышева, д. 50</td>\n",
       "      <td>18.8553</td>\n",
       "    </tr>\n",
       "    <tr>\n",
       "      <th>57220</th>\n",
       "      <td>160893</td>\n",
       "      <td>2564e3703075008</td>\n",
       "      <td>2024-10-30</td>\n",
       "      <td>2024-10-30 10:04:15</td>\n",
       "      <td>589005</td>\n",
       "      <td>нет</td>\n",
       "      <td>6</td>\n",
       "      <td>rub</td>\n",
       "      <td>mobile</td>\n",
       "      <td>11.23</td>\n",
       "      <td>...</td>\n",
       "      <td>выставка</td>\n",
       "      <td>другое</td>\n",
       "      <td>№1810</td>\n",
       "      <td>Яблоневская область</td>\n",
       "      <td>Горяново</td>\n",
       "      <td>11036.0</td>\n",
       "      <td>1656.0</td>\n",
       "      <td>Модная академия \"Пункт\" Лимитед</td>\n",
       "      <td>бул. Гагарина, д. 39</td>\n",
       "      <td>19.9516</td>\n",
       "    </tr>\n",
       "    <tr>\n",
       "      <th>84015</th>\n",
       "      <td>3363798</td>\n",
       "      <td>3ee7dc2e115847f</td>\n",
       "      <td>2024-06-25</td>\n",
       "      <td>2024-06-25 07:32:08</td>\n",
       "      <td>277504</td>\n",
       "      <td>нет</td>\n",
       "      <td>6</td>\n",
       "      <td>rub</td>\n",
       "      <td>mobile</td>\n",
       "      <td>59.19</td>\n",
       "      <td>...</td>\n",
       "      <td>событие</td>\n",
       "      <td>выставки</td>\n",
       "      <td>№5015</td>\n",
       "      <td>Нежинская область</td>\n",
       "      <td>Каменёвка</td>\n",
       "      <td>76.0</td>\n",
       "      <td>3094.0</td>\n",
       "      <td>Сообщество художников \"Палитра\" и партнеры</td>\n",
       "      <td>пр. Театральный, д. 161 стр. 2</td>\n",
       "      <td>18.8012</td>\n",
       "    </tr>\n",
       "    <tr>\n",
       "      <th>148477</th>\n",
       "      <td>2323916</td>\n",
       "      <td>7b525118ae656af</td>\n",
       "      <td>2024-10-28</td>\n",
       "      <td>2024-10-28 08:33:04</td>\n",
       "      <td>588203</td>\n",
       "      <td>нет</td>\n",
       "      <td>0</td>\n",
       "      <td>rub</td>\n",
       "      <td>mobile</td>\n",
       "      <td>26.96</td>\n",
       "      <td>...</td>\n",
       "      <td>спорт</td>\n",
       "      <td>спорт</td>\n",
       "      <td>№1503</td>\n",
       "      <td>Чистогорская область</td>\n",
       "      <td>Песчанская</td>\n",
       "      <td>21.0</td>\n",
       "      <td>2155.0</td>\n",
       "      <td>Клуб моделей \"Гармония\" Инк</td>\n",
       "      <td>ул. Прохладная, д. 8 к. 432</td>\n",
       "      <td>19.9266</td>\n",
       "    </tr>\n",
       "    <tr>\n",
       "      <th>154173</th>\n",
       "      <td>5372831</td>\n",
       "      <td>7eb4fc207ecc10f</td>\n",
       "      <td>2024-08-23</td>\n",
       "      <td>2024-08-23 14:08:19</td>\n",
       "      <td>298035</td>\n",
       "      <td>нет</td>\n",
       "      <td>6</td>\n",
       "      <td>rub</td>\n",
       "      <td>mobile</td>\n",
       "      <td>126.84</td>\n",
       "      <td>...</td>\n",
       "      <td>событие</td>\n",
       "      <td>другое</td>\n",
       "      <td>№4403</td>\n",
       "      <td>Североярская область</td>\n",
       "      <td>Озёрск</td>\n",
       "      <td>2.0</td>\n",
       "      <td>2795.0</td>\n",
       "      <td>Клуб исторических реконструкций \"Логос\" и парт...</td>\n",
       "      <td>пр. Пушкина, д. 8/6 к. 482</td>\n",
       "      <td>19.1903</td>\n",
       "    </tr>\n",
       "    <tr>\n",
       "      <th>154178</th>\n",
       "      <td>5373179</td>\n",
       "      <td>7eb4fc207ecc10f</td>\n",
       "      <td>2024-08-23</td>\n",
       "      <td>2024-08-23 14:08:19</td>\n",
       "      <td>298035</td>\n",
       "      <td>нет</td>\n",
       "      <td>6</td>\n",
       "      <td>rub</td>\n",
       "      <td>mobile</td>\n",
       "      <td>126.84</td>\n",
       "      <td>...</td>\n",
       "      <td>событие</td>\n",
       "      <td>другое</td>\n",
       "      <td>№4403</td>\n",
       "      <td>Североярская область</td>\n",
       "      <td>Озёрск</td>\n",
       "      <td>2.0</td>\n",
       "      <td>2795.0</td>\n",
       "      <td>Клуб исторических реконструкций \"Логос\" и парт...</td>\n",
       "      <td>пр. Пушкина, д. 8/6 к. 482</td>\n",
       "      <td>19.1903</td>\n",
       "    </tr>\n",
       "    <tr>\n",
       "      <th>154993</th>\n",
       "      <td>3463819</td>\n",
       "      <td>7eb4fc207ecc10f</td>\n",
       "      <td>2024-09-21</td>\n",
       "      <td>2024-09-21 11:43:58</td>\n",
       "      <td>448579</td>\n",
       "      <td>нет</td>\n",
       "      <td>0</td>\n",
       "      <td>rub</td>\n",
       "      <td>mobile</td>\n",
       "      <td>2.54</td>\n",
       "      <td>...</td>\n",
       "      <td>спорт</td>\n",
       "      <td>спорт</td>\n",
       "      <td>№1622</td>\n",
       "      <td>Североярская область</td>\n",
       "      <td>Озёрск</td>\n",
       "      <td>2.0</td>\n",
       "      <td>4607.0</td>\n",
       "      <td>Команда артистов \"Светлячок\" Лимитед</td>\n",
       "      <td>пер. Невского, д. 72</td>\n",
       "      <td>19.3316</td>\n",
       "    </tr>\n",
       "    <tr>\n",
       "      <th>156215</th>\n",
       "      <td>6657995</td>\n",
       "      <td>7eb4fc207ecc10f</td>\n",
       "      <td>2024-10-26</td>\n",
       "      <td>2024-10-26 09:39:03</td>\n",
       "      <td>418836</td>\n",
       "      <td>нет</td>\n",
       "      <td>0</td>\n",
       "      <td>rub</td>\n",
       "      <td>mobile</td>\n",
       "      <td>294.85</td>\n",
       "      <td>...</td>\n",
       "      <td>цирковое шоу</td>\n",
       "      <td>другое</td>\n",
       "      <td>№1703</td>\n",
       "      <td>Тепляковская область</td>\n",
       "      <td>Горнодолинск</td>\n",
       "      <td>43.0</td>\n",
       "      <td>4481.0</td>\n",
       "      <td>Школа сценического мастерства \"Вдох\" Лтд</td>\n",
       "      <td>пер. Полярный, д. 87</td>\n",
       "      <td>19.9266</td>\n",
       "    </tr>\n",
       "    <tr>\n",
       "      <th>174584</th>\n",
       "      <td>6114564</td>\n",
       "      <td>8d6c1ff89fac35f</td>\n",
       "      <td>2024-10-31</td>\n",
       "      <td>2024-10-31 22:28:57</td>\n",
       "      <td>589624</td>\n",
       "      <td>нет</td>\n",
       "      <td>16</td>\n",
       "      <td>rub</td>\n",
       "      <td>desktop</td>\n",
       "      <td>41.83</td>\n",
       "      <td>...</td>\n",
       "      <td>концерт</td>\n",
       "      <td>концерты</td>\n",
       "      <td>№2121</td>\n",
       "      <td>Каменевский регион</td>\n",
       "      <td>Глиногорск</td>\n",
       "      <td>213.0</td>\n",
       "      <td>1365.0</td>\n",
       "      <td>Картинная галерея \"Светлячок\" Лтд</td>\n",
       "      <td>ул. Дальневосточная, д. 97 к. 1/4</td>\n",
       "      <td>19.7383</td>\n",
       "    </tr>\n",
       "    <tr>\n",
       "      <th>176439</th>\n",
       "      <td>8248210</td>\n",
       "      <td>8f95286aa5fd8d7</td>\n",
       "      <td>2024-06-20</td>\n",
       "      <td>2024-06-20 10:57:19</td>\n",
       "      <td>244875</td>\n",
       "      <td>нет</td>\n",
       "      <td>0</td>\n",
       "      <td>rub</td>\n",
       "      <td>mobile</td>\n",
       "      <td>15.73</td>\n",
       "      <td>...</td>\n",
       "      <td>выставка</td>\n",
       "      <td>другое</td>\n",
       "      <td>№3906</td>\n",
       "      <td>Каменноозёрный край</td>\n",
       "      <td>Ордакент</td>\n",
       "      <td>12.0</td>\n",
       "      <td>2492.0</td>\n",
       "      <td>Кинофестиваль \"Хранитель\" Инкорпорэйтед</td>\n",
       "      <td>пр. Балтийский, д. 8 к. 51</td>\n",
       "      <td>18.0419</td>\n",
       "    </tr>\n",
       "    <tr>\n",
       "      <th>177608</th>\n",
       "      <td>6431070</td>\n",
       "      <td>9103be7b790235f</td>\n",
       "      <td>2024-08-03</td>\n",
       "      <td>2024-08-03 15:01:56</td>\n",
       "      <td>410465</td>\n",
       "      <td>нет</td>\n",
       "      <td>0</td>\n",
       "      <td>rub</td>\n",
       "      <td>mobile</td>\n",
       "      <td>685.12</td>\n",
       "      <td>...</td>\n",
       "      <td>шоу</td>\n",
       "      <td>другое</td>\n",
       "      <td>№3287</td>\n",
       "      <td>Каменевский регион</td>\n",
       "      <td>Глиногорск</td>\n",
       "      <td>213.0</td>\n",
       "      <td>3391.0</td>\n",
       "      <td>Театральные мастерские \"Сюжет\" Инк</td>\n",
       "      <td>бул. Володарского, д. 237 стр. 9/3</td>\n",
       "      <td>18.0536</td>\n",
       "    </tr>\n",
       "    <tr>\n",
       "      <th>181791</th>\n",
       "      <td>1799248</td>\n",
       "      <td>9402cc20d69d44f</td>\n",
       "      <td>2024-09-30</td>\n",
       "      <td>2024-09-30 21:35:37</td>\n",
       "      <td>540784</td>\n",
       "      <td>нет</td>\n",
       "      <td>6</td>\n",
       "      <td>rub</td>\n",
       "      <td>desktop</td>\n",
       "      <td>177.04</td>\n",
       "      <td>...</td>\n",
       "      <td>концерт</td>\n",
       "      <td>концерты</td>\n",
       "      <td>№1874</td>\n",
       "      <td>Каменевский регион</td>\n",
       "      <td>Глиногорск</td>\n",
       "      <td>213.0</td>\n",
       "      <td>2304.0</td>\n",
       "      <td>Творческое объединение \"Гармония\" Инк</td>\n",
       "      <td>наб. Партизанская, д. 47</td>\n",
       "      <td>19.3741</td>\n",
       "    </tr>\n",
       "    <tr>\n",
       "      <th>192883</th>\n",
       "      <td>7299678</td>\n",
       "      <td>a0384c26d91e09e</td>\n",
       "      <td>2024-08-24</td>\n",
       "      <td>2024-08-24 00:07:14</td>\n",
       "      <td>534657</td>\n",
       "      <td>нет</td>\n",
       "      <td>16</td>\n",
       "      <td>rub</td>\n",
       "      <td>mobile</td>\n",
       "      <td>679.21</td>\n",
       "      <td>...</td>\n",
       "      <td>концерт</td>\n",
       "      <td>концерты</td>\n",
       "      <td>№1134</td>\n",
       "      <td>Ветренский регион</td>\n",
       "      <td>Кокжар</td>\n",
       "      <td>20.0</td>\n",
       "      <td>2866.0</td>\n",
       "      <td>Школа фотографии \"Золотое\" Инк</td>\n",
       "      <td>ш. Микрорайон, д. 79 стр. 50</td>\n",
       "      <td>19.1202</td>\n",
       "    </tr>\n",
       "    <tr>\n",
       "      <th>200458</th>\n",
       "      <td>6002015</td>\n",
       "      <td>a6e25611c394f8c</td>\n",
       "      <td>2024-10-04</td>\n",
       "      <td>2024-10-04 10:11:25</td>\n",
       "      <td>514735</td>\n",
       "      <td>нет</td>\n",
       "      <td>12</td>\n",
       "      <td>rub</td>\n",
       "      <td>mobile</td>\n",
       "      <td>259.64</td>\n",
       "      <td>...</td>\n",
       "      <td>спектакль</td>\n",
       "      <td>театр</td>\n",
       "      <td>№1738</td>\n",
       "      <td>Яблоневская область</td>\n",
       "      <td>Светополье</td>\n",
       "      <td>39.0</td>\n",
       "      <td>3939.0</td>\n",
       "      <td>Этнографический музей \"Магнит\" Групп</td>\n",
       "      <td>наб. Полярная, д. 874</td>\n",
       "      <td>19.6648</td>\n",
       "    </tr>\n",
       "    <tr>\n",
       "      <th>228559</th>\n",
       "      <td>2768051</td>\n",
       "      <td>c2c6d35ff678ca6</td>\n",
       "      <td>2024-08-06</td>\n",
       "      <td>2024-08-06 13:26:42</td>\n",
       "      <td>379268</td>\n",
       "      <td>нет</td>\n",
       "      <td>0</td>\n",
       "      <td>rub</td>\n",
       "      <td>mobile</td>\n",
       "      <td>87.02</td>\n",
       "      <td>...</td>\n",
       "      <td>событие</td>\n",
       "      <td>другое</td>\n",
       "      <td>№2685</td>\n",
       "      <td>Североярская область</td>\n",
       "      <td>Озёрск</td>\n",
       "      <td>2.0</td>\n",
       "      <td>1283.0</td>\n",
       "      <td>Клуб начинающих писателей \"Детство\" Лимитед</td>\n",
       "      <td>ул. Заозерная, д. 9</td>\n",
       "      <td>17.8998</td>\n",
       "    </tr>\n",
       "    <tr>\n",
       "      <th>228561</th>\n",
       "      <td>2767964</td>\n",
       "      <td>c2c6d35ff678ca6</td>\n",
       "      <td>2024-08-06</td>\n",
       "      <td>2024-08-06 13:26:42</td>\n",
       "      <td>379268</td>\n",
       "      <td>нет</td>\n",
       "      <td>0</td>\n",
       "      <td>rub</td>\n",
       "      <td>mobile</td>\n",
       "      <td>108.77</td>\n",
       "      <td>...</td>\n",
       "      <td>событие</td>\n",
       "      <td>другое</td>\n",
       "      <td>№2685</td>\n",
       "      <td>Североярская область</td>\n",
       "      <td>Озёрск</td>\n",
       "      <td>2.0</td>\n",
       "      <td>1283.0</td>\n",
       "      <td>Клуб начинающих писателей \"Детство\" Лимитед</td>\n",
       "      <td>ул. Заозерная, д. 9</td>\n",
       "      <td>17.8998</td>\n",
       "    </tr>\n",
       "    <tr>\n",
       "      <th>231607</th>\n",
       "      <td>4569357</td>\n",
       "      <td>c68f202c21433f7</td>\n",
       "      <td>2024-10-09</td>\n",
       "      <td>2024-10-09 13:58:42</td>\n",
       "      <td>578715</td>\n",
       "      <td>нет</td>\n",
       "      <td>12</td>\n",
       "      <td>rub</td>\n",
       "      <td>mobile</td>\n",
       "      <td>38.21</td>\n",
       "      <td>...</td>\n",
       "      <td>событие</td>\n",
       "      <td>другое</td>\n",
       "      <td>№1764</td>\n",
       "      <td>Североключевской округ</td>\n",
       "      <td>Зоречанск</td>\n",
       "      <td>1092.0</td>\n",
       "      <td>1768.0</td>\n",
       "      <td>Театр \"Задор\" Инкорпорэйтед</td>\n",
       "      <td>пер. Боровой, д. 1 стр. 75</td>\n",
       "      <td>19.8418</td>\n",
       "    </tr>\n",
       "    <tr>\n",
       "      <th>231611</th>\n",
       "      <td>4569444</td>\n",
       "      <td>c68f202c21433f7</td>\n",
       "      <td>2024-10-09</td>\n",
       "      <td>2024-10-09 13:58:41</td>\n",
       "      <td>578715</td>\n",
       "      <td>нет</td>\n",
       "      <td>12</td>\n",
       "      <td>rub</td>\n",
       "      <td>mobile</td>\n",
       "      <td>38.21</td>\n",
       "      <td>...</td>\n",
       "      <td>событие</td>\n",
       "      <td>другое</td>\n",
       "      <td>№1764</td>\n",
       "      <td>Североключевской округ</td>\n",
       "      <td>Зоречанск</td>\n",
       "      <td>1092.0</td>\n",
       "      <td>1768.0</td>\n",
       "      <td>Театр \"Задор\" Инкорпорэйтед</td>\n",
       "      <td>пер. Боровой, д. 1 стр. 75</td>\n",
       "      <td>19.8418</td>\n",
       "    </tr>\n",
       "    <tr>\n",
       "      <th>231626</th>\n",
       "      <td>2410887</td>\n",
       "      <td>c68f202c21433f7</td>\n",
       "      <td>2024-10-16</td>\n",
       "      <td>2024-10-16 17:20:16</td>\n",
       "      <td>469657</td>\n",
       "      <td>нет</td>\n",
       "      <td>6</td>\n",
       "      <td>rub</td>\n",
       "      <td>mobile</td>\n",
       "      <td>12.64</td>\n",
       "      <td>...</td>\n",
       "      <td>спектакль</td>\n",
       "      <td>театр</td>\n",
       "      <td>№1763</td>\n",
       "      <td>Североключевской округ</td>\n",
       "      <td>Зоречанск</td>\n",
       "      <td>1092.0</td>\n",
       "      <td>2474.0</td>\n",
       "      <td>Образовательное учреждение искусства \"Кубок\" Инк</td>\n",
       "      <td>бул. Пролетарский, д. 332</td>\n",
       "      <td>20.0393</td>\n",
       "    </tr>\n",
       "    <tr>\n",
       "      <th>232676</th>\n",
       "      <td>7927528</td>\n",
       "      <td>c7a762e320f0def</td>\n",
       "      <td>2024-06-19</td>\n",
       "      <td>2024-06-19 11:07:59</td>\n",
       "      <td>538926</td>\n",
       "      <td>нет</td>\n",
       "      <td>18</td>\n",
       "      <td>rub</td>\n",
       "      <td>mobile</td>\n",
       "      <td>0.00</td>\n",
       "      <td>...</td>\n",
       "      <td>событие</td>\n",
       "      <td>другое</td>\n",
       "      <td>№4549</td>\n",
       "      <td>Каменевский регион</td>\n",
       "      <td>Глиногорск</td>\n",
       "      <td>213.0</td>\n",
       "      <td>3474.0</td>\n",
       "      <td>Креативное пространство \"Вдох\" Лимитед</td>\n",
       "      <td>бул. Пригородный, д. 7/1</td>\n",
       "      <td>19.2165</td>\n",
       "    </tr>\n",
       "    <tr>\n",
       "      <th>234818</th>\n",
       "      <td>8237045</td>\n",
       "      <td>c96b961916a84fb</td>\n",
       "      <td>2024-10-26</td>\n",
       "      <td>2024-10-26 15:06:16</td>\n",
       "      <td>551137</td>\n",
       "      <td>нет</td>\n",
       "      <td>12</td>\n",
       "      <td>rub</td>\n",
       "      <td>mobile</td>\n",
       "      <td>1044.19</td>\n",
       "      <td>...</td>\n",
       "      <td>концерт</td>\n",
       "      <td>концерты</td>\n",
       "      <td>№4389</td>\n",
       "      <td>Североярская область</td>\n",
       "      <td>Озёрск</td>\n",
       "      <td>2.0</td>\n",
       "      <td>2805.0</td>\n",
       "      <td>Центр культурного наследия \"Заряд\" и партнеры</td>\n",
       "      <td>ш. Пугачева, д. 9/7 к. 39</td>\n",
       "      <td>19.9266</td>\n",
       "    </tr>\n",
       "    <tr>\n",
       "      <th>237736</th>\n",
       "      <td>602012</td>\n",
       "      <td>cbe06d8837e87fb</td>\n",
       "      <td>2024-10-01</td>\n",
       "      <td>2024-10-01 11:20:05</td>\n",
       "      <td>574431</td>\n",
       "      <td>нет</td>\n",
       "      <td>0</td>\n",
       "      <td>rub</td>\n",
       "      <td>desktop</td>\n",
       "      <td>155.99</td>\n",
       "      <td>...</td>\n",
       "      <td>спорт</td>\n",
       "      <td>спорт</td>\n",
       "      <td>№1531</td>\n",
       "      <td>Медовская область</td>\n",
       "      <td>Радужсвет</td>\n",
       "      <td>47.0</td>\n",
       "      <td>2157.0</td>\n",
       "      <td>Студия дизайна \"Платформа\" Инкорпорэйтед</td>\n",
       "      <td>наб. Магистральная, д. 5</td>\n",
       "      <td>19.4525</td>\n",
       "    </tr>\n",
       "    <tr>\n",
       "      <th>237742</th>\n",
       "      <td>6597994</td>\n",
       "      <td>cbe06d8837e87fb</td>\n",
       "      <td>2024-10-01</td>\n",
       "      <td>2024-10-01 11:11:17</td>\n",
       "      <td>574431</td>\n",
       "      <td>нет</td>\n",
       "      <td>0</td>\n",
       "      <td>rub</td>\n",
       "      <td>desktop</td>\n",
       "      <td>155.99</td>\n",
       "      <td>...</td>\n",
       "      <td>спорт</td>\n",
       "      <td>спорт</td>\n",
       "      <td>№1531</td>\n",
       "      <td>Медовская область</td>\n",
       "      <td>Радужсвет</td>\n",
       "      <td>47.0</td>\n",
       "      <td>2157.0</td>\n",
       "      <td>Студия дизайна \"Платформа\" Инкорпорэйтед</td>\n",
       "      <td>наб. Магистральная, д. 5</td>\n",
       "      <td>19.4525</td>\n",
       "    </tr>\n",
       "    <tr>\n",
       "      <th>241393</th>\n",
       "      <td>5875662</td>\n",
       "      <td>cdbc02c6ad8087a</td>\n",
       "      <td>2024-10-01</td>\n",
       "      <td>2024-10-01 11:36:30</td>\n",
       "      <td>574431</td>\n",
       "      <td>нет</td>\n",
       "      <td>0</td>\n",
       "      <td>rub</td>\n",
       "      <td>desktop</td>\n",
       "      <td>116.99</td>\n",
       "      <td>...</td>\n",
       "      <td>спорт</td>\n",
       "      <td>спорт</td>\n",
       "      <td>№1531</td>\n",
       "      <td>Медовская область</td>\n",
       "      <td>Радужсвет</td>\n",
       "      <td>47.0</td>\n",
       "      <td>2157.0</td>\n",
       "      <td>Студия дизайна \"Платформа\" Инкорпорэйтед</td>\n",
       "      <td>наб. Магистральная, д. 5</td>\n",
       "      <td>19.4525</td>\n",
       "    </tr>\n",
       "    <tr>\n",
       "      <th>255429</th>\n",
       "      <td>7229759</td>\n",
       "      <td>de88a121becea97</td>\n",
       "      <td>2024-09-21</td>\n",
       "      <td>2024-09-21 17:21:18</td>\n",
       "      <td>571963</td>\n",
       "      <td>нет</td>\n",
       "      <td>6</td>\n",
       "      <td>rub</td>\n",
       "      <td>mobile</td>\n",
       "      <td>1065.84</td>\n",
       "      <td>...</td>\n",
       "      <td>цирковое шоу</td>\n",
       "      <td>другое</td>\n",
       "      <td>№4551</td>\n",
       "      <td>Каменевский регион</td>\n",
       "      <td>Глиногорск</td>\n",
       "      <td>213.0</td>\n",
       "      <td>4363.0</td>\n",
       "      <td>Студия дизайна \"Лестница\" Лимитед</td>\n",
       "      <td>наб. Школьная, д. 9/8 стр. 7/5</td>\n",
       "      <td>19.3316</td>\n",
       "    </tr>\n",
       "    <tr>\n",
       "      <th>259941</th>\n",
       "      <td>589252</td>\n",
       "      <td>e333b28575ed7f9</td>\n",
       "      <td>2024-07-28</td>\n",
       "      <td>2024-07-28 12:50:38</td>\n",
       "      <td>81165</td>\n",
       "      <td>нет</td>\n",
       "      <td>12</td>\n",
       "      <td>rub</td>\n",
       "      <td>mobile</td>\n",
       "      <td>40.84</td>\n",
       "      <td>...</td>\n",
       "      <td>спектакль</td>\n",
       "      <td>театр</td>\n",
       "      <td>№3902</td>\n",
       "      <td>Солнечноземская область</td>\n",
       "      <td>Глинополье</td>\n",
       "      <td>56.0</td>\n",
       "      <td>3005.0</td>\n",
       "      <td>Арт-кафе \"Аксессуар\" Лимитед</td>\n",
       "      <td>бул. Логовой, д. 94 к. 1/5</td>\n",
       "      <td>18.0243</td>\n",
       "    </tr>\n",
       "    <tr>\n",
       "      <th>285615</th>\n",
       "      <td>8548012</td>\n",
       "      <td>fd4d47438ebb946</td>\n",
       "      <td>2024-06-19</td>\n",
       "      <td>2024-06-19 15:40:56</td>\n",
       "      <td>489843</td>\n",
       "      <td>нет</td>\n",
       "      <td>18</td>\n",
       "      <td>rub</td>\n",
       "      <td>desktop</td>\n",
       "      <td>1319.43</td>\n",
       "      <td>...</td>\n",
       "      <td>спектакль</td>\n",
       "      <td>театр</td>\n",
       "      <td>№1858</td>\n",
       "      <td>Каменевский регион</td>\n",
       "      <td>Глиногорск</td>\n",
       "      <td>213.0</td>\n",
       "      <td>4017.0</td>\n",
       "      <td>Студия анимации \"Точка\" Инкорпорэйтед</td>\n",
       "      <td>алл. Тамбовская, д. 7 к. 827</td>\n",
       "      <td>19.2165</td>\n",
       "    </tr>\n",
       "    <tr>\n",
       "      <th>285618</th>\n",
       "      <td>8548070</td>\n",
       "      <td>fd4d47438ebb946</td>\n",
       "      <td>2024-06-19</td>\n",
       "      <td>2024-06-19 15:40:50</td>\n",
       "      <td>489843</td>\n",
       "      <td>нет</td>\n",
       "      <td>18</td>\n",
       "      <td>rub</td>\n",
       "      <td>desktop</td>\n",
       "      <td>989.57</td>\n",
       "      <td>...</td>\n",
       "      <td>спектакль</td>\n",
       "      <td>театр</td>\n",
       "      <td>№1858</td>\n",
       "      <td>Каменевский регион</td>\n",
       "      <td>Глиногорск</td>\n",
       "      <td>213.0</td>\n",
       "      <td>4017.0</td>\n",
       "      <td>Студия анимации \"Точка\" Инкорпорэйтед</td>\n",
       "      <td>алл. Тамбовская, д. 7 к. 827</td>\n",
       "      <td>19.2165</td>\n",
       "    </tr>\n",
       "    <tr>\n",
       "      <th>285619</th>\n",
       "      <td>8548099</td>\n",
       "      <td>fd4d47438ebb946</td>\n",
       "      <td>2024-06-19</td>\n",
       "      <td>2024-06-19 15:40:56</td>\n",
       "      <td>489843</td>\n",
       "      <td>нет</td>\n",
       "      <td>18</td>\n",
       "      <td>rub</td>\n",
       "      <td>desktop</td>\n",
       "      <td>989.57</td>\n",
       "      <td>...</td>\n",
       "      <td>спектакль</td>\n",
       "      <td>театр</td>\n",
       "      <td>№1858</td>\n",
       "      <td>Каменевский регион</td>\n",
       "      <td>Глиногорск</td>\n",
       "      <td>213.0</td>\n",
       "      <td>4017.0</td>\n",
       "      <td>Студия анимации \"Точка\" Инкорпорэйтед</td>\n",
       "      <td>алл. Тамбовская, д. 7 к. 827</td>\n",
       "      <td>19.2165</td>\n",
       "    </tr>\n",
       "    <tr>\n",
       "      <th>285622</th>\n",
       "      <td>8547867</td>\n",
       "      <td>fd4d47438ebb946</td>\n",
       "      <td>2024-06-19</td>\n",
       "      <td>2024-06-19 15:40:56</td>\n",
       "      <td>489843</td>\n",
       "      <td>нет</td>\n",
       "      <td>18</td>\n",
       "      <td>rub</td>\n",
       "      <td>desktop</td>\n",
       "      <td>1319.43</td>\n",
       "      <td>...</td>\n",
       "      <td>спектакль</td>\n",
       "      <td>театр</td>\n",
       "      <td>№1858</td>\n",
       "      <td>Каменевский регион</td>\n",
       "      <td>Глиногорск</td>\n",
       "      <td>213.0</td>\n",
       "      <td>4017.0</td>\n",
       "      <td>Студия анимации \"Точка\" Инкорпорэйтед</td>\n",
       "      <td>алл. Тамбовская, д. 7 к. 827</td>\n",
       "      <td>19.2165</td>\n",
       "    </tr>\n",
       "  </tbody>\n",
       "</table>\n",
       "<p>30 rows × 25 columns</p>\n",
       "</div>"
      ],
      "text/plain": [
       "        order_id          user_id created_dt_msk      created_ts_msk  \\\n",
       "11778    1123867  06eb7897f65b433     2024-08-13 2024-08-13 16:31:07   \n",
       "57220     160893  2564e3703075008     2024-10-30 2024-10-30 10:04:15   \n",
       "84015    3363798  3ee7dc2e115847f     2024-06-25 2024-06-25 07:32:08   \n",
       "148477   2323916  7b525118ae656af     2024-10-28 2024-10-28 08:33:04   \n",
       "154173   5372831  7eb4fc207ecc10f     2024-08-23 2024-08-23 14:08:19   \n",
       "154178   5373179  7eb4fc207ecc10f     2024-08-23 2024-08-23 14:08:19   \n",
       "154993   3463819  7eb4fc207ecc10f     2024-09-21 2024-09-21 11:43:58   \n",
       "156215   6657995  7eb4fc207ecc10f     2024-10-26 2024-10-26 09:39:03   \n",
       "174584   6114564  8d6c1ff89fac35f     2024-10-31 2024-10-31 22:28:57   \n",
       "176439   8248210  8f95286aa5fd8d7     2024-06-20 2024-06-20 10:57:19   \n",
       "177608   6431070  9103be7b790235f     2024-08-03 2024-08-03 15:01:56   \n",
       "181791   1799248  9402cc20d69d44f     2024-09-30 2024-09-30 21:35:37   \n",
       "192883   7299678  a0384c26d91e09e     2024-08-24 2024-08-24 00:07:14   \n",
       "200458   6002015  a6e25611c394f8c     2024-10-04 2024-10-04 10:11:25   \n",
       "228559   2768051  c2c6d35ff678ca6     2024-08-06 2024-08-06 13:26:42   \n",
       "228561   2767964  c2c6d35ff678ca6     2024-08-06 2024-08-06 13:26:42   \n",
       "231607   4569357  c68f202c21433f7     2024-10-09 2024-10-09 13:58:42   \n",
       "231611   4569444  c68f202c21433f7     2024-10-09 2024-10-09 13:58:41   \n",
       "231626   2410887  c68f202c21433f7     2024-10-16 2024-10-16 17:20:16   \n",
       "232676   7927528  c7a762e320f0def     2024-06-19 2024-06-19 11:07:59   \n",
       "234818   8237045  c96b961916a84fb     2024-10-26 2024-10-26 15:06:16   \n",
       "237736    602012  cbe06d8837e87fb     2024-10-01 2024-10-01 11:20:05   \n",
       "237742   6597994  cbe06d8837e87fb     2024-10-01 2024-10-01 11:11:17   \n",
       "241393   5875662  cdbc02c6ad8087a     2024-10-01 2024-10-01 11:36:30   \n",
       "255429   7229759  de88a121becea97     2024-09-21 2024-09-21 17:21:18   \n",
       "259941    589252  e333b28575ed7f9     2024-07-28 2024-07-28 12:50:38   \n",
       "285615   8548012  fd4d47438ebb946     2024-06-19 2024-06-19 15:40:56   \n",
       "285618   8548070  fd4d47438ebb946     2024-06-19 2024-06-19 15:40:50   \n",
       "285619   8548099  fd4d47438ebb946     2024-06-19 2024-06-19 15:40:56   \n",
       "285622   8547867  fd4d47438ebb946     2024-06-19 2024-06-19 15:40:56   \n",
       "\n",
       "        event_id cinema_circuit  age_limit currency_code  \\\n",
       "11778     183706            нет         18           rub   \n",
       "57220     589005            нет          6           rub   \n",
       "84015     277504            нет          6           rub   \n",
       "148477    588203            нет          0           rub   \n",
       "154173    298035            нет          6           rub   \n",
       "154178    298035            нет          6           rub   \n",
       "154993    448579            нет          0           rub   \n",
       "156215    418836            нет          0           rub   \n",
       "174584    589624            нет         16           rub   \n",
       "176439    244875            нет          0           rub   \n",
       "177608    410465            нет          0           rub   \n",
       "181791    540784            нет          6           rub   \n",
       "192883    534657            нет         16           rub   \n",
       "200458    514735            нет         12           rub   \n",
       "228559    379268            нет          0           rub   \n",
       "228561    379268            нет          0           rub   \n",
       "231607    578715            нет         12           rub   \n",
       "231611    578715            нет         12           rub   \n",
       "231626    469657            нет          6           rub   \n",
       "232676    538926            нет         18           rub   \n",
       "234818    551137            нет         12           rub   \n",
       "237736    574431            нет          0           rub   \n",
       "237742    574431            нет          0           rub   \n",
       "241393    574431            нет          0           rub   \n",
       "255429    571963            нет          6           rub   \n",
       "259941     81165            нет         12           rub   \n",
       "285615    489843            нет         18           rub   \n",
       "285618    489843            нет         18           rub   \n",
       "285619    489843            нет         18           rub   \n",
       "285622    489843            нет         18           rub   \n",
       "\n",
       "       device_type_canonical  revenue  ... event_type_description  \\\n",
       "11778                 mobile    69.82  ...              спектакль   \n",
       "57220                 mobile    11.23  ...               выставка   \n",
       "84015                 mobile    59.19  ...                событие   \n",
       "148477                mobile    26.96  ...                  спорт   \n",
       "154173                mobile   126.84  ...                событие   \n",
       "154178                mobile   126.84  ...                событие   \n",
       "154993                mobile     2.54  ...                  спорт   \n",
       "156215                mobile   294.85  ...           цирковое шоу   \n",
       "174584               desktop    41.83  ...                концерт   \n",
       "176439                mobile    15.73  ...               выставка   \n",
       "177608                mobile   685.12  ...                    шоу   \n",
       "181791               desktop   177.04  ...                концерт   \n",
       "192883                mobile   679.21  ...                концерт   \n",
       "200458                mobile   259.64  ...              спектакль   \n",
       "228559                mobile    87.02  ...                событие   \n",
       "228561                mobile   108.77  ...                событие   \n",
       "231607                mobile    38.21  ...                событие   \n",
       "231611                mobile    38.21  ...                событие   \n",
       "231626                mobile    12.64  ...              спектакль   \n",
       "232676                mobile     0.00  ...                событие   \n",
       "234818                mobile  1044.19  ...                концерт   \n",
       "237736               desktop   155.99  ...                  спорт   \n",
       "237742               desktop   155.99  ...                  спорт   \n",
       "241393               desktop   116.99  ...                  спорт   \n",
       "255429                mobile  1065.84  ...           цирковое шоу   \n",
       "259941                mobile    40.84  ...              спектакль   \n",
       "285615               desktop  1319.43  ...              спектакль   \n",
       "285618               desktop   989.57  ...              спектакль   \n",
       "285619               desktop   989.57  ...              спектакль   \n",
       "285622               desktop  1319.43  ...              спектакль   \n",
       "\n",
       "        event_type_main  organizers              region_name     city_name  \\\n",
       "11778             театр       №1482     Светополянский округ     Глиноград   \n",
       "57220            другое       №1810      Яблоневская область      Горяново   \n",
       "84015          выставки       №5015        Нежинская область     Каменёвка   \n",
       "148477            спорт       №1503     Чистогорская область    Песчанская   \n",
       "154173           другое       №4403     Североярская область        Озёрск   \n",
       "154178           другое       №4403     Североярская область        Озёрск   \n",
       "154993            спорт       №1622     Североярская область        Озёрск   \n",
       "156215           другое       №1703     Тепляковская область  Горнодолинск   \n",
       "174584         концерты       №2121       Каменевский регион    Глиногорск   \n",
       "176439           другое       №3906      Каменноозёрный край      Ордакент   \n",
       "177608           другое       №3287       Каменевский регион    Глиногорск   \n",
       "181791         концерты       №1874       Каменевский регион    Глиногорск   \n",
       "192883         концерты       №1134        Ветренский регион        Кокжар   \n",
       "200458            театр       №1738      Яблоневская область    Светополье   \n",
       "228559           другое       №2685     Североярская область        Озёрск   \n",
       "228561           другое       №2685     Североярская область        Озёрск   \n",
       "231607           другое       №1764   Североключевской округ     Зоречанск   \n",
       "231611           другое       №1764   Североключевской округ     Зоречанск   \n",
       "231626            театр       №1763   Североключевской округ     Зоречанск   \n",
       "232676           другое       №4549       Каменевский регион    Глиногорск   \n",
       "234818         концерты       №4389     Североярская область        Озёрск   \n",
       "237736            спорт       №1531        Медовская область     Радужсвет   \n",
       "237742            спорт       №1531        Медовская область     Радужсвет   \n",
       "241393            спорт       №1531        Медовская область     Радужсвет   \n",
       "255429           другое       №4551       Каменевский регион    Глиногорск   \n",
       "259941            театр       №3902  Солнечноземская область    Глинополье   \n",
       "285615            театр       №1858       Каменевский регион    Глиногорск   \n",
       "285618            театр       №1858       Каменевский регион    Глиногорск   \n",
       "285619            театр       №1858       Каменевский регион    Глиногорск   \n",
       "285622            театр       №1858       Каменевский регион    Глиногорск   \n",
       "\n",
       "        city_id venue_id                                         venue_name  \\\n",
       "11778      54.0   4443.0  Центр культурного наследия \"Объединение\" и пар...   \n",
       "57220   11036.0   1656.0                    Модная академия \"Пункт\" Лимитед   \n",
       "84015      76.0   3094.0         Сообщество художников \"Палитра\" и партнеры   \n",
       "148477     21.0   2155.0                        Клуб моделей \"Гармония\" Инк   \n",
       "154173      2.0   2795.0  Клуб исторических реконструкций \"Логос\" и парт...   \n",
       "154178      2.0   2795.0  Клуб исторических реконструкций \"Логос\" и парт...   \n",
       "154993      2.0   4607.0               Команда артистов \"Светлячок\" Лимитед   \n",
       "156215     43.0   4481.0           Школа сценического мастерства \"Вдох\" Лтд   \n",
       "174584    213.0   1365.0                  Картинная галерея \"Светлячок\" Лтд   \n",
       "176439     12.0   2492.0            Кинофестиваль \"Хранитель\" Инкорпорэйтед   \n",
       "177608    213.0   3391.0                 Театральные мастерские \"Сюжет\" Инк   \n",
       "181791    213.0   2304.0              Творческое объединение \"Гармония\" Инк   \n",
       "192883     20.0   2866.0                     Школа фотографии \"Золотое\" Инк   \n",
       "200458     39.0   3939.0               Этнографический музей \"Магнит\" Групп   \n",
       "228559      2.0   1283.0        Клуб начинающих писателей \"Детство\" Лимитед   \n",
       "228561      2.0   1283.0        Клуб начинающих писателей \"Детство\" Лимитед   \n",
       "231607   1092.0   1768.0                        Театр \"Задор\" Инкорпорэйтед   \n",
       "231611   1092.0   1768.0                        Театр \"Задор\" Инкорпорэйтед   \n",
       "231626   1092.0   2474.0   Образовательное учреждение искусства \"Кубок\" Инк   \n",
       "232676    213.0   3474.0             Креативное пространство \"Вдох\" Лимитед   \n",
       "234818      2.0   2805.0      Центр культурного наследия \"Заряд\" и партнеры   \n",
       "237736     47.0   2157.0           Студия дизайна \"Платформа\" Инкорпорэйтед   \n",
       "237742     47.0   2157.0           Студия дизайна \"Платформа\" Инкорпорэйтед   \n",
       "241393     47.0   2157.0           Студия дизайна \"Платформа\" Инкорпорэйтед   \n",
       "255429    213.0   4363.0                  Студия дизайна \"Лестница\" Лимитед   \n",
       "259941     56.0   3005.0                       Арт-кафе \"Аксессуар\" Лимитед   \n",
       "285615    213.0   4017.0              Студия анимации \"Точка\" Инкорпорэйтед   \n",
       "285618    213.0   4017.0              Студия анимации \"Точка\" Инкорпорэйтед   \n",
       "285619    213.0   4017.0              Студия анимации \"Точка\" Инкорпорэйтед   \n",
       "285622    213.0   4017.0              Студия анимации \"Точка\" Инкорпорэйтед   \n",
       "\n",
       "                             venue_address     curs  \n",
       "11778                бул. Карбышева, д. 50  18.8553  \n",
       "57220                 бул. Гагарина, д. 39  19.9516  \n",
       "84015       пр. Театральный, д. 161 стр. 2  18.8012  \n",
       "148477         ул. Прохладная, д. 8 к. 432  19.9266  \n",
       "154173          пр. Пушкина, д. 8/6 к. 482  19.1903  \n",
       "154178          пр. Пушкина, д. 8/6 к. 482  19.1903  \n",
       "154993                пер. Невского, д. 72  19.3316  \n",
       "156215                пер. Полярный, д. 87  19.9266  \n",
       "174584   ул. Дальневосточная, д. 97 к. 1/4  19.7383  \n",
       "176439          пр. Балтийский, д. 8 к. 51  18.0419  \n",
       "177608  бул. Володарского, д. 237 стр. 9/3  18.0536  \n",
       "181791            наб. Партизанская, д. 47  19.3741  \n",
       "192883        ш. Микрорайон, д. 79 стр. 50  19.1202  \n",
       "200458               наб. Полярная, д. 874  19.6648  \n",
       "228559                 ул. Заозерная, д. 9  17.8998  \n",
       "228561                 ул. Заозерная, д. 9  17.8998  \n",
       "231607          пер. Боровой, д. 1 стр. 75  19.8418  \n",
       "231611          пер. Боровой, д. 1 стр. 75  19.8418  \n",
       "231626           бул. Пролетарский, д. 332  20.0393  \n",
       "232676            бул. Пригородный, д. 7/1  19.2165  \n",
       "234818           ш. Пугачева, д. 9/7 к. 39  19.9266  \n",
       "237736            наб. Магистральная, д. 5  19.4525  \n",
       "237742            наб. Магистральная, д. 5  19.4525  \n",
       "241393            наб. Магистральная, д. 5  19.4525  \n",
       "255429      наб. Школьная, д. 9/8 стр. 7/5  19.3316  \n",
       "259941          бул. Логовой, д. 94 к. 1/5  18.0243  \n",
       "285615        алл. Тамбовская, д. 7 к. 827  19.2165  \n",
       "285618        алл. Тамбовская, д. 7 к. 827  19.2165  \n",
       "285619        алл. Тамбовская, д. 7 к. 827  19.2165  \n",
       "285622        алл. Тамбовская, д. 7 к. 827  19.2165  \n",
       "\n",
       "[30 rows x 25 columns]"
      ]
     },
     "execution_count": 13,
     "metadata": {},
     "output_type": "execute_result"
    }
   ],
   "source": [
    "k = df[df.duplicated(subset=[col for col in df.columns if col != \"order_id\"])]\n",
    "k"
   ]
  },
  {
   "cell_type": "markdown",
   "metadata": {},
   "source": [
    "Выше мы видим, что нам вывело 30 строк, которые удолетворяли условию, что все столбцы равны, кроме order_id. Это могло произойти из-за ошибки при выгрузке данных или при повторной регистрации одних и тех же заказов. "
   ]
  },
  {
   "cell_type": "code",
   "execution_count": 14,
   "metadata": {
    "hideCode": true,
    "hidePrompt": true
   },
   "outputs": [],
   "source": [
    "df = df.drop_duplicates(subset=[col for col in df.columns if col != \"order_id\"])"
   ]
  },
  {
   "cell_type": "code",
   "execution_count": 15,
   "metadata": {},
   "outputs": [
    {
     "name": "stdout",
     "output_type": "stream",
     "text": [
      "<class 'pandas.core.frame.DataFrame'>\n",
      "Int64Index: 290581 entries, 0 to 290848\n",
      "Data columns (total 25 columns):\n",
      " #   Column                  Non-Null Count   Dtype         \n",
      "---  ------                  --------------   -----         \n",
      " 0   order_id                290581 non-null  int64         \n",
      " 1   user_id                 290581 non-null  object        \n",
      " 2   created_dt_msk          290581 non-null  datetime64[ns]\n",
      " 3   created_ts_msk          290581 non-null  datetime64[ns]\n",
      " 4   event_id                290581 non-null  int64         \n",
      " 5   cinema_circuit          290581 non-null  object        \n",
      " 6   age_limit               290581 non-null  int64         \n",
      " 7   currency_code           290581 non-null  object        \n",
      " 8   device_type_canonical   290581 non-null  object        \n",
      " 9   revenue                 290581 non-null  float64       \n",
      " 10  service_name            290581 non-null  object        \n",
      " 11  tickets_count           290581 non-null  int64         \n",
      " 12  total                   290581 non-null  float64       \n",
      " 13  days_since_prev         268668 non-null  float64       \n",
      " 14  event_name              290581 non-null  object        \n",
      " 15  event_type_description  290581 non-null  object        \n",
      " 16  event_type_main         290581 non-null  object        \n",
      " 17  organizers              290581 non-null  object        \n",
      " 18  region_name             290581 non-null  object        \n",
      " 19  city_name               290581 non-null  object        \n",
      " 20  city_id                 290581 non-null  float64       \n",
      " 21  venue_id                290581 non-null  float64       \n",
      " 22  venue_name              290581 non-null  object        \n",
      " 23  venue_address           290581 non-null  object        \n",
      " 24  curs                    290581 non-null  float64       \n",
      "dtypes: datetime64[ns](2), float64(6), int64(4), object(13)\n",
      "memory usage: 57.6+ MB\n"
     ]
    }
   ],
   "source": [
    "df.info()"
   ]
  },
  {
   "cell_type": "markdown",
   "metadata": {},
   "source": [
    "Тут мы видим, что в результате поисков неявных дубликатов, было удалено 30 строк. Их можно удалить, так как их еще меньше чем пропусков и эта всего лишь крупица в наших данных."
   ]
  },
  {
   "cell_type": "markdown",
   "metadata": {},
   "source": [
    "#### Проверка на выбросы в ключевых столбцах"
   ]
  },
  {
   "cell_type": "code",
   "execution_count": 16,
   "metadata": {
    "hideCode": true,
    "hidePrompt": true,
    "scrolled": true
   },
   "outputs": [
    {
     "data": {
      "text/html": [
       "<div>\n",
       "<style scoped>\n",
       "    .dataframe tbody tr th:only-of-type {\n",
       "        vertical-align: middle;\n",
       "    }\n",
       "\n",
       "    .dataframe tbody tr th {\n",
       "        vertical-align: top;\n",
       "    }\n",
       "\n",
       "    .dataframe thead th {\n",
       "        text-align: right;\n",
       "    }\n",
       "</style>\n",
       "<table border=\"1\" class=\"dataframe\">\n",
       "  <thead>\n",
       "    <tr style=\"text-align: right;\">\n",
       "      <th></th>\n",
       "      <th>revenue</th>\n",
       "      <th>tickets_count</th>\n",
       "    </tr>\n",
       "  </thead>\n",
       "  <tbody>\n",
       "    <tr>\n",
       "      <th>count</th>\n",
       "      <td>285512.000000</td>\n",
       "      <td>285512.000000</td>\n",
       "    </tr>\n",
       "    <tr>\n",
       "      <th>mean</th>\n",
       "      <td>548.036278</td>\n",
       "      <td>2.754185</td>\n",
       "    </tr>\n",
       "    <tr>\n",
       "      <th>std</th>\n",
       "      <td>871.782124</td>\n",
       "      <td>1.171569</td>\n",
       "    </tr>\n",
       "    <tr>\n",
       "      <th>min</th>\n",
       "      <td>-90.760000</td>\n",
       "      <td>1.000000</td>\n",
       "    </tr>\n",
       "    <tr>\n",
       "      <th>25%</th>\n",
       "      <td>114.190000</td>\n",
       "      <td>2.000000</td>\n",
       "    </tr>\n",
       "    <tr>\n",
       "      <th>50%</th>\n",
       "      <td>346.700000</td>\n",
       "      <td>3.000000</td>\n",
       "    </tr>\n",
       "    <tr>\n",
       "      <th>75%</th>\n",
       "      <td>793.320000</td>\n",
       "      <td>4.000000</td>\n",
       "    </tr>\n",
       "    <tr>\n",
       "      <th>max</th>\n",
       "      <td>81174.540000</td>\n",
       "      <td>57.000000</td>\n",
       "    </tr>\n",
       "  </tbody>\n",
       "</table>\n",
       "</div>"
      ],
      "text/plain": [
       "             revenue  tickets_count\n",
       "count  285512.000000  285512.000000\n",
       "mean      548.036278       2.754185\n",
       "std       871.782124       1.171569\n",
       "min       -90.760000       1.000000\n",
       "25%       114.190000       2.000000\n",
       "50%       346.700000       3.000000\n",
       "75%       793.320000       4.000000\n",
       "max     81174.540000      57.000000"
      ]
     },
     "execution_count": 16,
     "metadata": {},
     "output_type": "execute_result"
    }
   ],
   "source": [
    "final_tickets_orders_df_rub = df[df['currency_code'] == 'rub']\n",
    "final_tickets_orders_df_rub[['revenue','tickets_count']].describe()"
   ]
  },
  {
   "cell_type": "markdown",
   "metadata": {},
   "source": [
    "Высокое стандартное отклонение у revenue означает, что значения сильно разбросаны.Разница между средним и медианой говорит о том, что распределение скошено вправо, вероятно, есть несколько крупных заказов, завышающих среднее значение.Максимальные значения значительно превышают верхний квартиль — это может быть признаком выбросов."
   ]
  },
  {
   "cell_type": "code",
   "execution_count": 17,
   "metadata": {
    "hideCode": true,
    "hidePrompt": true
   },
   "outputs": [
    {
     "data": {
      "image/png": "[encoded data removed]",
      "text/plain": [
       "<Figure size 576x288 with 1 Axes>"
      ]
     },
     "metadata": {
      "needs_background": "light"
     },
     "output_type": "display_data"
    }
   ],
   "source": [
    "plt.figure(figsize=(8,4))\n",
    "sns.boxplot(x=final_tickets_orders_df_rub['revenue'])\n",
    "plt.title('Распределение revenue (рубли)')\n",
    "plt.xlabel('Выручка')\n",
    "plt.show()"
   ]
  },
  {
   "cell_type": "markdown",
   "metadata": {},
   "source": [
    "Тут видно, что есть несколько очень больших значений, которые аж могут уходить за 80000. Чтобы от них избавится, отберем значением по 99 процентилю"
   ]
  },
  {
   "cell_type": "code",
   "execution_count": 18,
   "metadata": {
    "hideCode": true,
    "hidePrompt": true
   },
   "outputs": [
    {
     "name": "stdout",
     "output_type": "stream",
     "text": [
      "Количество удаляемых строк с отрицательным revenue: 381\n"
     ]
    }
   ],
   "source": [
    "df_no_rub = df[df['currency_code'] != 'rub']\n",
    "quant = final_tickets_orders_df_rub['revenue'].quantile(0.99)\n",
    "final_tickets_orders_df_rub = final_tickets_orders_df_rub[final_tickets_orders_df_rub['revenue'] <= quant]\n",
    "df = pd.concat([df_no_rub, final_tickets_orders_df_rub], ignore_index=True)\n",
    "s = df[df['revenue'] < 0].shape[0]\n",
    "print(f'Количество удаляемых строк с отрицательным revenue: {s}')\n",
    "df = df[df['revenue']>=0]"
   ]
  },
  {
   "cell_type": "code",
   "execution_count": 19,
   "metadata": {
    "hideCode": true,
    "hidePrompt": true
   },
   "outputs": [
    {
     "name": "stdout",
     "output_type": "stream",
     "text": [
      "<class 'pandas.core.frame.DataFrame'>\n",
      "Int64Index: 287400 entries, 0 to 287780\n",
      "Data columns (total 25 columns):\n",
      " #   Column                  Non-Null Count   Dtype         \n",
      "---  ------                  --------------   -----         \n",
      " 0   order_id                287400 non-null  int64         \n",
      " 1   user_id                 287400 non-null  object        \n",
      " 2   created_dt_msk          287400 non-null  datetime64[ns]\n",
      " 3   created_ts_msk          287400 non-null  datetime64[ns]\n",
      " 4   event_id                287400 non-null  int64         \n",
      " 5   cinema_circuit          287400 non-null  object        \n",
      " 6   age_limit               287400 non-null  int64         \n",
      " 7   currency_code           287400 non-null  object        \n",
      " 8   device_type_canonical   287400 non-null  object        \n",
      " 9   revenue                 287400 non-null  float64       \n",
      " 10  service_name            287400 non-null  object        \n",
      " 11  tickets_count           287400 non-null  int64         \n",
      " 12  total                   287400 non-null  float64       \n",
      " 13  days_since_prev         265717 non-null  float64       \n",
      " 14  event_name              287400 non-null  object        \n",
      " 15  event_type_description  287400 non-null  object        \n",
      " 16  event_type_main         287400 non-null  object        \n",
      " 17  organizers              287400 non-null  object        \n",
      " 18  region_name             287400 non-null  object        \n",
      " 19  city_name               287400 non-null  object        \n",
      " 20  city_id                 287400 non-null  float64       \n",
      " 21  venue_id                287400 non-null  float64       \n",
      " 22  venue_name              287400 non-null  object        \n",
      " 23  venue_address           287400 non-null  object        \n",
      " 24  curs                    287400 non-null  float64       \n",
      "dtypes: datetime64[ns](2), float64(6), int64(4), object(13)\n",
      "memory usage: 57.0+ MB\n"
     ]
    }
   ],
   "source": [
    "df.info()"
   ]
  },
  {
   "cell_type": "code",
   "execution_count": 20,
   "metadata": {
    "hideCode": true,
    "hidePrompt": true
   },
   "outputs": [
    {
     "data": {
      "text/html": [
       "<div>\n",
       "<style scoped>\n",
       "    .dataframe tbody tr th:only-of-type {\n",
       "        vertical-align: middle;\n",
       "    }\n",
       "\n",
       "    .dataframe tbody tr th {\n",
       "        vertical-align: top;\n",
       "    }\n",
       "\n",
       "    .dataframe thead th {\n",
       "        text-align: right;\n",
       "    }\n",
       "</style>\n",
       "<table border=\"1\" class=\"dataframe\">\n",
       "  <thead>\n",
       "    <tr style=\"text-align: right;\">\n",
       "      <th></th>\n",
       "      <th>revenue</th>\n",
       "      <th>tickets_count</th>\n",
       "    </tr>\n",
       "  </thead>\n",
       "  <tbody>\n",
       "    <tr>\n",
       "      <th>count</th>\n",
       "      <td>282331.000000</td>\n",
       "      <td>282331.000000</td>\n",
       "    </tr>\n",
       "    <tr>\n",
       "      <th>mean</th>\n",
       "      <td>511.519741</td>\n",
       "      <td>2.740939</td>\n",
       "    </tr>\n",
       "    <tr>\n",
       "      <th>std</th>\n",
       "      <td>500.918545</td>\n",
       "      <td>1.163539</td>\n",
       "    </tr>\n",
       "    <tr>\n",
       "      <th>min</th>\n",
       "      <td>0.000000</td>\n",
       "      <td>1.000000</td>\n",
       "    </tr>\n",
       "    <tr>\n",
       "      <th>25%</th>\n",
       "      <td>113.040000</td>\n",
       "      <td>2.000000</td>\n",
       "    </tr>\n",
       "    <tr>\n",
       "      <th>50%</th>\n",
       "      <td>341.730000</td>\n",
       "      <td>3.000000</td>\n",
       "    </tr>\n",
       "    <tr>\n",
       "      <th>75%</th>\n",
       "      <td>782.480000</td>\n",
       "      <td>3.000000</td>\n",
       "    </tr>\n",
       "    <tr>\n",
       "      <th>max</th>\n",
       "      <td>2570.800000</td>\n",
       "      <td>57.000000</td>\n",
       "    </tr>\n",
       "  </tbody>\n",
       "</table>\n",
       "</div>"
      ],
      "text/plain": [
       "             revenue  tickets_count\n",
       "count  282331.000000  282331.000000\n",
       "mean      511.519741       2.740939\n",
       "std       500.918545       1.163539\n",
       "min         0.000000       1.000000\n",
       "25%       113.040000       2.000000\n",
       "50%       341.730000       3.000000\n",
       "75%       782.480000       3.000000\n",
       "max      2570.800000      57.000000"
      ]
     },
     "execution_count": 20,
     "metadata": {},
     "output_type": "execute_result"
    }
   ],
   "source": [
    "final_tickets_orders_df_rub = df[df['currency_code'] == 'rub']\n",
    "final_tickets_orders_df_rub[['revenue','tickets_count']].describe()"
   ]
  },
  {
   "cell_type": "markdown",
   "metadata": {},
   "source": [
    "В проверке на выбросы у рубля мы видим, что минимальная выручка почему-то уходит в отрицательное значение, такого быть не может, поэтому мы отфильтруем наш датасет дальше так, чтоб они не были ее частью. В целом, данные по тенге и рублю по остальным параметрам в порядке. Теперь мы видим, что строк в нашем изначальном датасете уменьшилось на 3181 значений, и при повторной проверке, мы видим, что стандартное отклонение стало меньше."
   ]
  },
  {
   "cell_type": "code",
   "execution_count": 21,
   "metadata": {
    "hideCode": true,
    "hidePrompt": true,
    "scrolled": true
   },
   "outputs": [
    {
     "data": {
      "text/html": [
       "<div>\n",
       "<style scoped>\n",
       "    .dataframe tbody tr th:only-of-type {\n",
       "        vertical-align: middle;\n",
       "    }\n",
       "\n",
       "    .dataframe tbody tr th {\n",
       "        vertical-align: top;\n",
       "    }\n",
       "\n",
       "    .dataframe thead th {\n",
       "        text-align: right;\n",
       "    }\n",
       "</style>\n",
       "<table border=\"1\" class=\"dataframe\">\n",
       "  <thead>\n",
       "    <tr style=\"text-align: right;\">\n",
       "      <th></th>\n",
       "      <th>revenue</th>\n",
       "      <th>tickets_count</th>\n",
       "    </tr>\n",
       "  </thead>\n",
       "  <tbody>\n",
       "    <tr>\n",
       "      <th>count</th>\n",
       "      <td>5069.000000</td>\n",
       "      <td>5069.000000</td>\n",
       "    </tr>\n",
       "    <tr>\n",
       "      <th>mean</th>\n",
       "      <td>4995.206767</td>\n",
       "      <td>2.762872</td>\n",
       "    </tr>\n",
       "    <tr>\n",
       "      <th>std</th>\n",
       "      <td>4916.752776</td>\n",
       "      <td>1.115558</td>\n",
       "    </tr>\n",
       "    <tr>\n",
       "      <th>min</th>\n",
       "      <td>0.000000</td>\n",
       "      <td>1.000000</td>\n",
       "    </tr>\n",
       "    <tr>\n",
       "      <th>25%</th>\n",
       "      <td>518.100000</td>\n",
       "      <td>2.000000</td>\n",
       "    </tr>\n",
       "    <tr>\n",
       "      <th>50%</th>\n",
       "      <td>3698.830000</td>\n",
       "      <td>3.000000</td>\n",
       "    </tr>\n",
       "    <tr>\n",
       "      <th>75%</th>\n",
       "      <td>7397.660000</td>\n",
       "      <td>4.000000</td>\n",
       "    </tr>\n",
       "    <tr>\n",
       "      <th>max</th>\n",
       "      <td>26425.860000</td>\n",
       "      <td>6.000000</td>\n",
       "    </tr>\n",
       "  </tbody>\n",
       "</table>\n",
       "</div>"
      ],
      "text/plain": [
       "            revenue  tickets_count\n",
       "count   5069.000000    5069.000000\n",
       "mean    4995.206767       2.762872\n",
       "std     4916.752776       1.115558\n",
       "min        0.000000       1.000000\n",
       "25%      518.100000       2.000000\n",
       "50%     3698.830000       3.000000\n",
       "75%     7397.660000       4.000000\n",
       "max    26425.860000       6.000000"
      ]
     },
     "execution_count": 21,
     "metadata": {},
     "output_type": "execute_result"
    }
   ],
   "source": [
    "final_tickets_orders_df_kzt = df[df['currency_code'] == 'kzt']\n",
    "final_tickets_orders_df_kzt[['revenue','tickets_count']].describe()"
   ]
  },
  {
   "cell_type": "markdown",
   "metadata": {},
   "source": [
    "Проверку на выбросы Тенге прошла успешно, проблем там нету.В результате обработок данных с выбросами и с отрицательными значениями, у датасета осталось 287400 строк с данными."
   ]
  },
  {
   "cell_type": "markdown",
   "metadata": {},
   "source": [
    "#### Новые столбцы в датасете"
   ]
  },
  {
   "cell_type": "code",
   "execution_count": 22,
   "metadata": {
    "hideCode": true,
    "hidePrompt": true
   },
   "outputs": [],
   "source": [
    "def get_season(month):\n",
    "    if month in [12, 1, 2]:\n",
    "        return \"зима\"\n",
    "    elif month in [3, 4, 5]:\n",
    "        return \"весна\"\n",
    "    elif month in [6, 7, 8]:\n",
    "        return \"лето\"\n",
    "    else:\n",
    "        return \"осень\""
   ]
  },
  {
   "cell_type": "code",
   "execution_count": 23,
   "metadata": {
    "hideCode": true,
    "hidePrompt": true,
    "scrolled": false
   },
   "outputs": [
    {
     "name": "stdout",
     "output_type": "stream",
     "text": [
      "<class 'pandas.core.frame.DataFrame'>\n",
      "Int64Index: 287400 entries, 0 to 287780\n",
      "Data columns (total 29 columns):\n",
      " #   Column                  Non-Null Count   Dtype         \n",
      "---  ------                  --------------   -----         \n",
      " 0   order_id                287400 non-null  int64         \n",
      " 1   user_id                 287400 non-null  object        \n",
      " 2   created_dt_msk          287400 non-null  datetime64[ns]\n",
      " 3   created_ts_msk          287400 non-null  datetime64[ns]\n",
      " 4   event_id                287400 non-null  int64         \n",
      " 5   cinema_circuit          287400 non-null  object        \n",
      " 6   age_limit               287400 non-null  int64         \n",
      " 7   currency_code           287400 non-null  object        \n",
      " 8   device_type_canonical   287400 non-null  object        \n",
      " 9   revenue                 287400 non-null  float64       \n",
      " 10  service_name            287400 non-null  object        \n",
      " 11  tickets_count           287400 non-null  int64         \n",
      " 12  total                   287400 non-null  float64       \n",
      " 13  days_since_prev         265717 non-null  float64       \n",
      " 14  event_name              287400 non-null  object        \n",
      " 15  event_type_description  287400 non-null  object        \n",
      " 16  event_type_main         287400 non-null  object        \n",
      " 17  organizers              287400 non-null  object        \n",
      " 18  region_name             287400 non-null  object        \n",
      " 19  city_name               287400 non-null  object        \n",
      " 20  city_id                 287400 non-null  float64       \n",
      " 21  venue_id                287400 non-null  float64       \n",
      " 22  venue_name              287400 non-null  object        \n",
      " 23  venue_address           287400 non-null  object        \n",
      " 24  curs                    287400 non-null  float64       \n",
      " 25  revenue_rub             287400 non-null  float64       \n",
      " 26  one_ticket_revenue_rub  287400 non-null  float64       \n",
      " 27  month                   287400 non-null  int64         \n",
      " 28  season                  287400 non-null  object        \n",
      "dtypes: datetime64[ns](2), float64(8), int64(5), object(14)\n",
      "memory usage: 65.8+ MB\n"
     ]
    },
    {
     "data": {
      "text/html": [
       "<div>\n",
       "<style scoped>\n",
       "    .dataframe tbody tr th:only-of-type {\n",
       "        vertical-align: middle;\n",
       "    }\n",
       "\n",
       "    .dataframe tbody tr th {\n",
       "        vertical-align: top;\n",
       "    }\n",
       "\n",
       "    .dataframe thead th {\n",
       "        text-align: right;\n",
       "    }\n",
       "</style>\n",
       "<table border=\"1\" class=\"dataframe\">\n",
       "  <thead>\n",
       "    <tr style=\"text-align: right;\">\n",
       "      <th></th>\n",
       "      <th>order_id</th>\n",
       "      <th>user_id</th>\n",
       "      <th>created_dt_msk</th>\n",
       "      <th>created_ts_msk</th>\n",
       "      <th>event_id</th>\n",
       "      <th>cinema_circuit</th>\n",
       "      <th>age_limit</th>\n",
       "      <th>currency_code</th>\n",
       "      <th>device_type_canonical</th>\n",
       "      <th>revenue</th>\n",
       "      <th>...</th>\n",
       "      <th>city_name</th>\n",
       "      <th>city_id</th>\n",
       "      <th>venue_id</th>\n",
       "      <th>venue_name</th>\n",
       "      <th>venue_address</th>\n",
       "      <th>curs</th>\n",
       "      <th>revenue_rub</th>\n",
       "      <th>one_ticket_revenue_rub</th>\n",
       "      <th>month</th>\n",
       "      <th>season</th>\n",
       "    </tr>\n",
       "  </thead>\n",
       "  <tbody>\n",
       "    <tr>\n",
       "      <th>0</th>\n",
       "      <td>7850214</td>\n",
       "      <td>0033403583a55ed</td>\n",
       "      <td>2024-09-17</td>\n",
       "      <td>2024-09-17 16:52:06</td>\n",
       "      <td>559919</td>\n",
       "      <td>нет</td>\n",
       "      <td>6</td>\n",
       "      <td>kzt</td>\n",
       "      <td>mobile</td>\n",
       "      <td>518.10</td>\n",
       "      <td>...</td>\n",
       "      <td>Серебрянка</td>\n",
       "      <td>163.0</td>\n",
       "      <td>1533.0</td>\n",
       "      <td>Клуб настольного тенниса \"Фазенда\" Инк</td>\n",
       "      <td>пер. Семашко, д. 8/7 стр. 7</td>\n",
       "      <td>19.0125</td>\n",
       "      <td>98.503762</td>\n",
       "      <td>24.625941</td>\n",
       "      <td>9</td>\n",
       "      <td>осень</td>\n",
       "    </tr>\n",
       "    <tr>\n",
       "      <th>1</th>\n",
       "      <td>8634925</td>\n",
       "      <td>0040e12d70fae81</td>\n",
       "      <td>2024-09-02</td>\n",
       "      <td>2024-09-02 19:49:14</td>\n",
       "      <td>559476</td>\n",
       "      <td>нет</td>\n",
       "      <td>6</td>\n",
       "      <td>kzt</td>\n",
       "      <td>desktop</td>\n",
       "      <td>347.18</td>\n",
       "      <td>...</td>\n",
       "      <td>Серебрянка</td>\n",
       "      <td>163.0</td>\n",
       "      <td>1533.0</td>\n",
       "      <td>Клуб настольного тенниса \"Фазенда\" Инк</td>\n",
       "      <td>пер. Семашко, д. 8/7 стр. 7</td>\n",
       "      <td>18.9330</td>\n",
       "      <td>65.731589</td>\n",
       "      <td>21.910530</td>\n",
       "      <td>9</td>\n",
       "      <td>осень</td>\n",
       "    </tr>\n",
       "    <tr>\n",
       "      <th>2</th>\n",
       "      <td>7625522</td>\n",
       "      <td>0054b38b2653e6e</td>\n",
       "      <td>2024-09-09</td>\n",
       "      <td>2024-09-09 18:06:04</td>\n",
       "      <td>559582</td>\n",
       "      <td>нет</td>\n",
       "      <td>6</td>\n",
       "      <td>kzt</td>\n",
       "      <td>mobile</td>\n",
       "      <td>328.77</td>\n",
       "      <td>...</td>\n",
       "      <td>Серебрянка</td>\n",
       "      <td>163.0</td>\n",
       "      <td>1533.0</td>\n",
       "      <td>Клуб настольного тенниса \"Фазенда\" Инк</td>\n",
       "      <td>пер. Семашко, д. 8/7 стр. 7</td>\n",
       "      <td>18.5991</td>\n",
       "      <td>61.148261</td>\n",
       "      <td>15.287065</td>\n",
       "      <td>9</td>\n",
       "      <td>осень</td>\n",
       "    </tr>\n",
       "    <tr>\n",
       "      <th>3</th>\n",
       "      <td>720419</td>\n",
       "      <td>00f4f5244501ce6</td>\n",
       "      <td>2024-06-11</td>\n",
       "      <td>2024-06-11 20:15:57</td>\n",
       "      <td>536826</td>\n",
       "      <td>нет</td>\n",
       "      <td>12</td>\n",
       "      <td>kzt</td>\n",
       "      <td>mobile</td>\n",
       "      <td>22021.55</td>\n",
       "      <td>...</td>\n",
       "      <td>Серебрянка</td>\n",
       "      <td>163.0</td>\n",
       "      <td>2066.0</td>\n",
       "      <td>Архитектурное бюро \"Секрет\" Инк</td>\n",
       "      <td>пер. Проточный, д. 70 к. 881</td>\n",
       "      <td>19.8928</td>\n",
       "      <td>4380.702898</td>\n",
       "      <td>876.140580</td>\n",
       "      <td>6</td>\n",
       "      <td>лето</td>\n",
       "    </tr>\n",
       "    <tr>\n",
       "      <th>4</th>\n",
       "      <td>5227657</td>\n",
       "      <td>01370a0e9c1a7d5</td>\n",
       "      <td>2024-06-04</td>\n",
       "      <td>2024-06-04 13:28:17</td>\n",
       "      <td>533803</td>\n",
       "      <td>нет</td>\n",
       "      <td>16</td>\n",
       "      <td>kzt</td>\n",
       "      <td>desktop</td>\n",
       "      <td>7397.66</td>\n",
       "      <td>...</td>\n",
       "      <td>Широковка</td>\n",
       "      <td>162.0</td>\n",
       "      <td>3407.0</td>\n",
       "      <td>Арт-кафе \"Речка\" Лимитед</td>\n",
       "      <td>алл. Путейская, д. 548 стр. 7</td>\n",
       "      <td>19.9833</td>\n",
       "      <td>1478.296591</td>\n",
       "      <td>369.574148</td>\n",
       "      <td>6</td>\n",
       "      <td>лето</td>\n",
       "    </tr>\n",
       "    <tr>\n",
       "      <th>...</th>\n",
       "      <td>...</td>\n",
       "      <td>...</td>\n",
       "      <td>...</td>\n",
       "      <td>...</td>\n",
       "      <td>...</td>\n",
       "      <td>...</td>\n",
       "      <td>...</td>\n",
       "      <td>...</td>\n",
       "      <td>...</td>\n",
       "      <td>...</td>\n",
       "      <td>...</td>\n",
       "      <td>...</td>\n",
       "      <td>...</td>\n",
       "      <td>...</td>\n",
       "      <td>...</td>\n",
       "      <td>...</td>\n",
       "      <td>...</td>\n",
       "      <td>...</td>\n",
       "      <td>...</td>\n",
       "      <td>...</td>\n",
       "      <td>...</td>\n",
       "    </tr>\n",
       "    <tr>\n",
       "      <th>95</th>\n",
       "      <td>5589113</td>\n",
       "      <td>04b6911607ebb3e</td>\n",
       "      <td>2024-06-11</td>\n",
       "      <td>2024-06-11 23:20:10</td>\n",
       "      <td>536825</td>\n",
       "      <td>нет</td>\n",
       "      <td>12</td>\n",
       "      <td>kzt</td>\n",
       "      <td>mobile</td>\n",
       "      <td>10338.19</td>\n",
       "      <td>...</td>\n",
       "      <td>Широковка</td>\n",
       "      <td>162.0</td>\n",
       "      <td>2169.0</td>\n",
       "      <td>Кладбище искусств \"Феномен\" Инк</td>\n",
       "      <td>ш. Саратовское, д. 73 стр. 367</td>\n",
       "      <td>19.8928</td>\n",
       "      <td>2056.555460</td>\n",
       "      <td>685.518487</td>\n",
       "      <td>6</td>\n",
       "      <td>лето</td>\n",
       "    </tr>\n",
       "    <tr>\n",
       "      <th>96</th>\n",
       "      <td>7589011</td>\n",
       "      <td>04b6911607ebb3e</td>\n",
       "      <td>2024-06-11</td>\n",
       "      <td>2024-06-11 12:14:26</td>\n",
       "      <td>536826</td>\n",
       "      <td>нет</td>\n",
       "      <td>12</td>\n",
       "      <td>kzt</td>\n",
       "      <td>desktop</td>\n",
       "      <td>8808.62</td>\n",
       "      <td>...</td>\n",
       "      <td>Серебрянка</td>\n",
       "      <td>163.0</td>\n",
       "      <td>2066.0</td>\n",
       "      <td>Архитектурное бюро \"Секрет\" Инк</td>\n",
       "      <td>пер. Проточный, д. 70 к. 881</td>\n",
       "      <td>19.8928</td>\n",
       "      <td>1752.281159</td>\n",
       "      <td>876.140580</td>\n",
       "      <td>6</td>\n",
       "      <td>лето</td>\n",
       "    </tr>\n",
       "    <tr>\n",
       "      <th>97</th>\n",
       "      <td>7589069</td>\n",
       "      <td>04b6911607ebb3e</td>\n",
       "      <td>2024-06-11</td>\n",
       "      <td>2024-06-11 12:18:49</td>\n",
       "      <td>536826</td>\n",
       "      <td>нет</td>\n",
       "      <td>12</td>\n",
       "      <td>kzt</td>\n",
       "      <td>desktop</td>\n",
       "      <td>17617.24</td>\n",
       "      <td>...</td>\n",
       "      <td>Серебрянка</td>\n",
       "      <td>163.0</td>\n",
       "      <td>2066.0</td>\n",
       "      <td>Архитектурное бюро \"Секрет\" Инк</td>\n",
       "      <td>пер. Проточный, д. 70 к. 881</td>\n",
       "      <td>19.8928</td>\n",
       "      <td>3504.562319</td>\n",
       "      <td>876.140580</td>\n",
       "      <td>6</td>\n",
       "      <td>лето</td>\n",
       "    </tr>\n",
       "    <tr>\n",
       "      <th>98</th>\n",
       "      <td>7589040</td>\n",
       "      <td>04b6911607ebb3e</td>\n",
       "      <td>2024-06-11</td>\n",
       "      <td>2024-06-11 12:22:16</td>\n",
       "      <td>536826</td>\n",
       "      <td>нет</td>\n",
       "      <td>12</td>\n",
       "      <td>kzt</td>\n",
       "      <td>desktop</td>\n",
       "      <td>17617.24</td>\n",
       "      <td>...</td>\n",
       "      <td>Серебрянка</td>\n",
       "      <td>163.0</td>\n",
       "      <td>2066.0</td>\n",
       "      <td>Архитектурное бюро \"Секрет\" Инк</td>\n",
       "      <td>пер. Проточный, д. 70 к. 881</td>\n",
       "      <td>19.8928</td>\n",
       "      <td>3504.562319</td>\n",
       "      <td>876.140580</td>\n",
       "      <td>6</td>\n",
       "      <td>лето</td>\n",
       "    </tr>\n",
       "    <tr>\n",
       "      <th>99</th>\n",
       "      <td>5589142</td>\n",
       "      <td>04b6911607ebb3e</td>\n",
       "      <td>2024-06-12</td>\n",
       "      <td>2024-06-12 08:20:43</td>\n",
       "      <td>536825</td>\n",
       "      <td>нет</td>\n",
       "      <td>12</td>\n",
       "      <td>kzt</td>\n",
       "      <td>mobile</td>\n",
       "      <td>6892.13</td>\n",
       "      <td>...</td>\n",
       "      <td>Широковка</td>\n",
       "      <td>162.0</td>\n",
       "      <td>2169.0</td>\n",
       "      <td>Кладбище искусств \"Феномен\" Инк</td>\n",
       "      <td>ш. Саратовское, д. 73 стр. 367</td>\n",
       "      <td>19.8655</td>\n",
       "      <td>1369.156085</td>\n",
       "      <td>684.578043</td>\n",
       "      <td>6</td>\n",
       "      <td>лето</td>\n",
       "    </tr>\n",
       "  </tbody>\n",
       "</table>\n",
       "<p>100 rows × 29 columns</p>\n",
       "</div>"
      ],
      "text/plain": [
       "    order_id          user_id created_dt_msk      created_ts_msk  event_id  \\\n",
       "0    7850214  0033403583a55ed     2024-09-17 2024-09-17 16:52:06    559919   \n",
       "1    8634925  0040e12d70fae81     2024-09-02 2024-09-02 19:49:14    559476   \n",
       "2    7625522  0054b38b2653e6e     2024-09-09 2024-09-09 18:06:04    559582   \n",
       "3     720419  00f4f5244501ce6     2024-06-11 2024-06-11 20:15:57    536826   \n",
       "4    5227657  01370a0e9c1a7d5     2024-06-04 2024-06-04 13:28:17    533803   \n",
       "..       ...              ...            ...                 ...       ...   \n",
       "95   5589113  04b6911607ebb3e     2024-06-11 2024-06-11 23:20:10    536825   \n",
       "96   7589011  04b6911607ebb3e     2024-06-11 2024-06-11 12:14:26    536826   \n",
       "97   7589069  04b6911607ebb3e     2024-06-11 2024-06-11 12:18:49    536826   \n",
       "98   7589040  04b6911607ebb3e     2024-06-11 2024-06-11 12:22:16    536826   \n",
       "99   5589142  04b6911607ebb3e     2024-06-12 2024-06-12 08:20:43    536825   \n",
       "\n",
       "   cinema_circuit  age_limit currency_code device_type_canonical   revenue  \\\n",
       "0             нет          6           kzt                mobile    518.10   \n",
       "1             нет          6           kzt               desktop    347.18   \n",
       "2             нет          6           kzt                mobile    328.77   \n",
       "3             нет         12           kzt                mobile  22021.55   \n",
       "4             нет         16           kzt               desktop   7397.66   \n",
       "..            ...        ...           ...                   ...       ...   \n",
       "95            нет         12           kzt                mobile  10338.19   \n",
       "96            нет         12           kzt               desktop   8808.62   \n",
       "97            нет         12           kzt               desktop  17617.24   \n",
       "98            нет         12           kzt               desktop  17617.24   \n",
       "99            нет         12           kzt                mobile   6892.13   \n",
       "\n",
       "    ...   city_name  city_id  venue_id  \\\n",
       "0   ...  Серебрянка    163.0    1533.0   \n",
       "1   ...  Серебрянка    163.0    1533.0   \n",
       "2   ...  Серебрянка    163.0    1533.0   \n",
       "3   ...  Серебрянка    163.0    2066.0   \n",
       "4   ...   Широковка    162.0    3407.0   \n",
       "..  ...         ...      ...       ...   \n",
       "95  ...   Широковка    162.0    2169.0   \n",
       "96  ...  Серебрянка    163.0    2066.0   \n",
       "97  ...  Серебрянка    163.0    2066.0   \n",
       "98  ...  Серебрянка    163.0    2066.0   \n",
       "99  ...   Широковка    162.0    2169.0   \n",
       "\n",
       "                                venue_name                   venue_address  \\\n",
       "0   Клуб настольного тенниса \"Фазенда\" Инк     пер. Семашко, д. 8/7 стр. 7   \n",
       "1   Клуб настольного тенниса \"Фазенда\" Инк     пер. Семашко, д. 8/7 стр. 7   \n",
       "2   Клуб настольного тенниса \"Фазенда\" Инк     пер. Семашко, д. 8/7 стр. 7   \n",
       "3          Архитектурное бюро \"Секрет\" Инк    пер. Проточный, д. 70 к. 881   \n",
       "4                 Арт-кафе \"Речка\" Лимитед   алл. Путейская, д. 548 стр. 7   \n",
       "..                                     ...                             ...   \n",
       "95         Кладбище искусств \"Феномен\" Инк  ш. Саратовское, д. 73 стр. 367   \n",
       "96         Архитектурное бюро \"Секрет\" Инк    пер. Проточный, д. 70 к. 881   \n",
       "97         Архитектурное бюро \"Секрет\" Инк    пер. Проточный, д. 70 к. 881   \n",
       "98         Архитектурное бюро \"Секрет\" Инк    пер. Проточный, д. 70 к. 881   \n",
       "99         Кладбище искусств \"Феномен\" Инк  ш. Саратовское, д. 73 стр. 367   \n",
       "\n",
       "       curs  revenue_rub one_ticket_revenue_rub month season  \n",
       "0   19.0125    98.503762              24.625941     9  осень  \n",
       "1   18.9330    65.731589              21.910530     9  осень  \n",
       "2   18.5991    61.148261              15.287065     9  осень  \n",
       "3   19.8928  4380.702898             876.140580     6   лето  \n",
       "4   19.9833  1478.296591             369.574148     6   лето  \n",
       "..      ...          ...                    ...   ...    ...  \n",
       "95  19.8928  2056.555460             685.518487     6   лето  \n",
       "96  19.8928  1752.281159             876.140580     6   лето  \n",
       "97  19.8928  3504.562319             876.140580     6   лето  \n",
       "98  19.8928  3504.562319             876.140580     6   лето  \n",
       "99  19.8655  1369.156085             684.578043     6   лето  \n",
       "\n",
       "[100 rows x 29 columns]"
      ]
     },
     "execution_count": 23,
     "metadata": {},
     "output_type": "execute_result"
    }
   ],
   "source": [
    "df['revenue_rub'] = df.apply(\n",
    "    lambda row: row['revenue'] if row ['currency_code'] == 'rub' else row['revenue'] * (row['curs']/100),axis = 1)\n",
    "\n",
    "df['one_ticket_revenue_rub'] = df['revenue_rub']/df['tickets_count']\n",
    "\n",
    "df['month'] = df['created_dt_msk'].dt.month\n",
    "\n",
    "df['season'] = df['month'].apply(get_season)\n",
    "\n",
    "df.info()\n",
    "df.head(100)"
   ]
  },
  {
   "cell_type": "markdown",
   "metadata": {},
   "source": [
    "Выше видно, что бы добавлены новые столбцы, но самое главное, курс с тенге был переведе на русскую валюту, о чем нам говорит строка 99 и столбец revenue_rub, тут он умножает курс актуальный курс тенге по дате оформления заказа и умножает ее выручку, которая указана в Тенге в столбце revenue, и дальше делит ее на номинал, тоесть 100, получается изначально revenue было 328, но в тенге, после перевода на российские рубли, выручка в рублях составила всего 61 рубль."
   ]
  },
  {
   "cell_type": "markdown",
   "metadata": {},
   "source": [
    "#### Тип данных"
   ]
  },
  {
   "cell_type": "code",
   "execution_count": 24,
   "metadata": {
    "hideCode": true,
    "hidePrompt": true
   },
   "outputs": [],
   "source": [
    "# Функции, которые автоматически подбирают нужный числовой тип данных и заменяют его\n",
    "def optimize_memory_usage(x: pd.DataFrame, print_size: bool=True) -> pd.DataFrame:\n",
    "    numerics = ['int16', 'int32', 'int64', 'float16', 'float32', 'float64'] \n",
    "    # Размер занимаемой памяти до оптимизации (в Мб)\n",
    "    before_size = x.memory_usage().sum() / 1024**2    \n",
    "    for column in x.columns:\n",
    "        column_type = x[column].dtypes\n",
    "        if column_type in numerics:\n",
    "            column_min = x[column].min()\n",
    "            column_max = x[column].max()\n",
    "            if str(column_type).startswith('int'):\n",
    "                if column_min > np.iinfo(np.int8).min and column_max < np.iinfo(np.int8).max:\n",
    "                    x[column] = x[column].astype(np.int8)\n",
    "                elif column_min > np.iinfo(np.int16).min and column_max < np.iinfo(np.int16).max:\n",
    "                    x[column] = x[column].astype(np.int16)\n",
    "                elif column_min > np.iinfo(np.int32).min and column_max < np.iinfo(np.int32).max:\n",
    "                    x[column] = x[column].astype(np.int32)\n",
    "                elif column_min > np.iinfo(np.int64).min and column_max < np.iinfo(np.int64).max:\n",
    "                    x[column] = x[column].astype(np.int64)  \n",
    "            else:\n",
    "                if column_min > np.finfo(np.float32).min and column_max < np.finfo(np.float32).max:\n",
    "                    x[column] = x[column].astype(np.float32)\n",
    "                else:\n",
    "                    x[column] = x[column].astype(np.float64)    \n",
    "    # Размер занимаемой памяти после оптимизации (в Мб)\n",
    "    after_size = x.memory_usage().sum() / 1024**2\n",
    "    if print_size: print('Размер использования памяти: до {:5.2f} Mb - после {:5.2f} Mb ({:.1f}%)'\n",
    "                         .format(before_size, after_size, 100 * (before_size - after_size) / before_size))\n",
    "    return x"
   ]
  },
  {
   "cell_type": "code",
   "execution_count": 25,
   "metadata": {
    "hideCode": true,
    "hidePrompt": true
   },
   "outputs": [
    {
     "name": "stdout",
     "output_type": "stream",
     "text": [
      "Размер использования памяти: до 65.78 Mb - после 49.06 Mb (25.4%)\n",
      "<class 'pandas.core.frame.DataFrame'>\n",
      "Int64Index: 287400 entries, 0 to 287780\n",
      "Data columns (total 29 columns):\n",
      " #   Column                  Non-Null Count   Dtype         \n",
      "---  ------                  --------------   -----         \n",
      " 0   order_id                287400 non-null  int32         \n",
      " 1   user_id                 287400 non-null  object        \n",
      " 2   created_dt_msk          287400 non-null  datetime64[ns]\n",
      " 3   created_ts_msk          287400 non-null  datetime64[ns]\n",
      " 4   event_id                287400 non-null  int32         \n",
      " 5   cinema_circuit          287400 non-null  object        \n",
      " 6   age_limit               287400 non-null  int8          \n",
      " 7   currency_code           287400 non-null  object        \n",
      " 8   device_type_canonical   287400 non-null  object        \n",
      " 9   revenue                 287400 non-null  float32       \n",
      " 10  service_name            287400 non-null  object        \n",
      " 11  tickets_count           287400 non-null  int8          \n",
      " 12  total                   287400 non-null  float32       \n",
      " 13  days_since_prev         265717 non-null  float32       \n",
      " 14  event_name              287400 non-null  object        \n",
      " 15  event_type_description  287400 non-null  object        \n",
      " 16  event_type_main         287400 non-null  object        \n",
      " 17  organizers              287400 non-null  object        \n",
      " 18  region_name             287400 non-null  object        \n",
      " 19  city_name               287400 non-null  object        \n",
      " 20  city_id                 287400 non-null  float32       \n",
      " 21  venue_id                287400 non-null  float32       \n",
      " 22  venue_name              287400 non-null  object        \n",
      " 23  venue_address           287400 non-null  object        \n",
      " 24  curs                    287400 non-null  float32       \n",
      " 25  revenue_rub             287400 non-null  float32       \n",
      " 26  one_ticket_revenue_rub  287400 non-null  float32       \n",
      " 27  month                   287400 non-null  int8          \n",
      " 28  season                  287400 non-null  object        \n",
      "dtypes: datetime64[ns](2), float32(8), int32(2), int8(3), object(14)\n",
      "memory usage: 49.1+ MB\n"
     ]
    }
   ],
   "source": [
    "df=optimize_memory_usage(df)\n",
    "df.info()"
   ]
  },
  {
   "cell_type": "markdown",
   "metadata": {},
   "source": [
    "Решил добавить из прошлых проектов код на изменение количественных типов данных после добавления новых столбцоы, которые понадобятся для будущих рассчетов и визуализаций. Размер датасета уменьшился на 25 процентов. Были добавлены новые столбцы, которые означают:\n",
    "- curs - курс тенге к рублю\n",
    "- revenue_rub - выручка в рублях (в некоторых строках переведенная из тенге в рубли)\n",
    "- one_ticket_revenue_rub - выручка с продажи одного билета на мероприятие\n",
    "- month - номер месяца, который указан в дате создания заказа на билет\n",
    "- season - время года, которое ориентируется на столбец month"
   ]
  },
  {
   "cell_type": "markdown",
   "metadata": {},
   "source": [
    "## Исследовательский анализ данных"
   ]
  },
  {
   "cell_type": "markdown",
   "metadata": {},
   "source": [
    "### Анализ распределения заказов по сегментам и их сезонные изменения"
   ]
  },
  {
   "cell_type": "markdown",
   "metadata": {},
   "source": [
    "#### Количество заказов каждый месяц"
   ]
  },
  {
   "cell_type": "code",
   "execution_count": 26,
   "metadata": {
    "hideCode": true,
    "hidePrompt": true
   },
   "outputs": [
    {
     "data": {
      "image/png": "[encoded data removed]",
      "text/plain": [
       "<Figure size 864x432 with 1 Axes>"
      ]
     },
     "metadata": {
      "needs_background": "light"
     },
     "output_type": "display_data"
    }
   ],
   "source": [
    "orders_df = df.groupby('month')['order_id'].count()\n",
    "\n",
    "plt.figure(figsize=(12, 6))\n",
    "plt.plot(orders_df.index, orders_df.values,marker = 'o')\n",
    "plt.xlabel('Месяц')\n",
    "plt.ylabel('Количество заказов')\n",
    "plt.title('Динамика заказов с июня по октябрь')\n",
    "plt.grid()\n",
    "plt.show()"
   ]
  },
  {
   "cell_type": "markdown",
   "metadata": {},
   "source": [
    "Тут видно, что количество зказов стремительно начало рости с августа месяца по октябрь и достига аж 100.000. До этой даты, мы видим небольшой рост значений. Увеличение заказов от июня есть, причем значение выросло аж на 60000 заказов."
   ]
  },
  {
   "cell_type": "markdown",
   "metadata": {},
   "source": [
    "#### Распределение заказов билетов по категориям"
   ]
  },
  {
   "cell_type": "code",
   "execution_count": 27,
   "metadata": {
    "hideCode": true,
    "hidePrompt": true
   },
   "outputs": [
    {
     "data": {
      "image/png": "[encoded data removed]",
      "text/plain": [
       "<Figure size 1296x432 with 3 Axes>"
      ]
     },
     "metadata": {
      "needs_background": "light"
     },
     "output_type": "display_data"
    }
   ],
   "source": [
    "categories = ['event_type_main', 'device_type_canonical', 'age_limit']\n",
    "\n",
    "fig, axes = plt.subplots(1, 3, figsize=(18, 6))\n",
    "\n",
    "for i, category in enumerate(categories):\n",
    "    summer = df[df['season'] == 'лето'][category].value_counts(normalize=True)\n",
    "    autumn = df[df['season'] == 'осень'][category].value_counts(normalize=True)\n",
    "\n",
    "    df_compare = pd.DataFrame({'Лето': summer, 'Осень': autumn})\n",
    "    df_compare.plot(kind=\"bar\", ax=axes[i])\n",
    "\n",
    "    axes[i].set_title(f'Распределение по {category}')\n",
    "    axes[i].set_ylabel('Доля заказов')\n",
    "\n",
    "plt.tight_layout()\n",
    "plt.show()"
   ]
  },
  {
   "cell_type": "markdown",
   "metadata": {},
   "source": [
    "- На первом графике видно, что по 5 пунктам из 7 представленных, лето обгоняет осень, в некоторых случаях отрыв сильный.Это может нам говорить о том, что эти мероприятия летом пользуются больше спросом нежели летом. \n",
    "- На втором графике сильного отрыва у какого-либо времени года нету, они практически идут вровень, что говорит нам об активном использовании мобильного устройства, и станионарного, но доля мобильный гораздо выше, чем стационарных.\n",
    "- На третьем графике мы видим распределение по возрасту. Сразу в глаза бросается отрыв осени в категории 0 и отрыв лета в категории 18."
   ]
  },
  {
   "cell_type": "markdown",
   "metadata": {},
   "source": [
    "#### Измение выручки с продажи одного билета "
   ]
  },
  {
   "cell_type": "code",
   "execution_count": 28,
   "metadata": {
    "hideCode": true,
    "hidePrompt": true
   },
   "outputs": [
    {
     "data": {
      "image/png": "[encoded data removed]",
      "text/plain": [
       "<Figure size 864x432 with 1 Axes>"
      ]
     },
     "metadata": {
      "needs_background": "light"
     },
     "output_type": "display_data"
    }
   ],
   "source": [
    "summer_price = df[df['season'] == 'лето'].groupby('event_type_main')['one_ticket_revenue_rub'].mean()\n",
    "autumn_price = df[df['season'] == 'осень'].groupby('event_type_main')['one_ticket_revenue_rub'].mean()\n",
    " \n",
    "price_change = ((autumn_price - summer_price) / summer_price * 100)   \n",
    "    \n",
    "plt.figure(figsize=(12, 6))\n",
    "sns.barplot(x=price_change.index, y=price_change.values)\n",
    "plt.axhline(0, color=\"black\", linestyle=\"--\")\n",
    "plt.xlabel('Сезон')\n",
    "plt.ylabel('Изменение средней цены билета, %')\n",
    "plt.title('Изменение стоимости билета осенью по сравнению с летом')\n",
    "plt.grid()\n",
    "plt.show()"
   ]
  },
  {
   "cell_type": "markdown",
   "metadata": {},
   "source": [
    "Тут мы видим, что в большинстве своем, цены осенью цены снизились на такие категории мероприятий как: концерты, ёлки, театр, спорт и другое. Но и на некоторые и выросли, аж на 10 процентов, можем сделать вывод, что основной сезон таких мероприятий как:концерты и спорт приходится на лето, так как чаще всего данные мероприятия проходят на улице, что говорит нам о нужде в хорошей погоде. Следовательно сезон этих мероприятий закончился, вот и снижение цен на мероприятия."
   ]
  },
  {
   "cell_type": "markdown",
   "metadata": {},
   "source": [
    "### Осенняя активность пользователей"
   ]
  },
  {
   "cell_type": "markdown",
   "metadata": {},
   "source": [
    "#### Динамика изменений по дням"
   ]
  },
  {
   "cell_type": "code",
   "execution_count": 29,
   "metadata": {
    "hideCode": true,
    "hidePrompt": true
   },
   "outputs": [
    {
     "data": {
      "image/png": "[encoded data removed]",
      "text/plain": [
       "<Figure size 1152x576 with 4 Axes>"
      ]
     },
     "metadata": {
      "needs_background": "light"
     },
     "output_type": "display_data"
    }
   ],
   "source": [
    "autumn_df = df[df['season']=='осень']\n",
    "daily_metrics = autumn_df.groupby(autumn_df['created_dt_msk']).agg(\n",
    "    orders_count = ('order_id','count'),\n",
    "    DAU = ('user_id','nunique'),\n",
    "    avg_ticket_price = ('one_ticket_revenue_rub','mean')\n",
    ").reset_index()\n",
    "\n",
    "daily_metrics[\"avg_orders_per_user\"] = daily_metrics[\"orders_count\"] / daily_metrics[\"DAU\"]\n",
    "\n",
    "metrics = ['orders_count', 'DAU', 'avg_orders_per_user','avg_ticket_price']\n",
    "titles = [\"Количество заказов\", \"DAU (уникальные пользователи)\", \n",
    "          \"Среднее число заказов на пользователя\", \"Средняя стоимость билета\"]\n",
    "\n",
    "fig, axes = plt.subplots(2, 2, figsize=(16, 8))\n",
    "\n",
    "for i, metrics in enumerate(metrics):\n",
    "    ax = axes[i // 2, i % 2]\n",
    "    sns.lineplot(x=daily_metrics['created_dt_msk'], y=daily_metrics[metrics],marker = 'o',ax=ax)\n",
    "    ax.set_title(titles[i])\n",
    "    ax.set_xlabel('Дата')\n",
    "    ax.set_ylabel('Количество')\n",
    "    ax.tick_params(axis='x', rotation=90)\n",
    "    ax.grid()\n",
    "\n",
    "plt.tight_layout()    \n",
    "plt.show()"
   ]
  },
  {
   "cell_type": "markdown",
   "metadata": {},
   "source": [
    "- Количество заказов — наблюдается общий тренд к увеличению с конца сентября по ноябрь. Отдельные пики могут быть связаны с крупными мероприятиями.\n",
    "\n",
    "- DAU (уникальные пользователи) — также демонстрирует рост, особенно в октябре.\n",
    "\n",
    "- Среднее число заказов на пользователя — незначительные колебания, но без выраженной тенденции к росту или падению.\n",
    "\n",
    "- Средняя стоимость билета — относительно стабильна, за исключением нескольких дней с резкими изменениями.\n",
    "\n",
    "По трем графикам можно предположить такой резкий скачок на начало октября, в те дни билеты резко снизили свою стоимость, что среднее их значение немного было меньше 100, отсюда и большое кол-во закаов за день и среднее кол-во заказ на пользователя возросло.Осенью фиксируется рост заказов и DAU, что подтверждает сезонное увеличение спроса."
   ]
  },
  {
   "cell_type": "markdown",
   "metadata": {},
   "source": [
    "#### Динамика изменений по дням недели"
   ]
  },
  {
   "cell_type": "code",
   "execution_count": 30,
   "metadata": {
    "hideCode": true,
    "hidePrompt": true
   },
   "outputs": [
    {
     "data": {
      "image/png": "[encoded data removed]",
      "text/plain": [
       "<Figure size 720x360 with 1 Axes>"
      ]
     },
     "metadata": {
      "needs_background": "light"
     },
     "output_type": "display_data"
    }
   ],
   "source": [
    "autumn_df = autumn_df.copy()\n",
    "autumn_df['weekday'] = autumn_df['created_dt_msk'].dt.day_name()\n",
    "weekly_metrics = autumn_df.groupby('weekday').agg(\n",
    "    orders_count=('order_id', 'count'),\n",
    "    unique_users=('user_id', 'nunique'),\n",
    ").reindex(['Monday', 'Tuesday', 'Wednesday', 'Thursday', 'Friday', 'Saturday', 'Sunday'])\n",
    "\n",
    "weekly_metrics['avg_orders_per_user'] = weekly_metrics['orders_count'] / weekly_metrics['unique_users']\n",
    "\n",
    "plt.figure(figsize=(10, 5))\n",
    "sns.barplot(x=weekly_metrics.index, y=weekly_metrics[\"orders_count\"])\n",
    "plt.xlabel(\"День недели\")\n",
    "plt.ylabel(\"Количество заказов\")\n",
    "plt.title(\"Распределение заказов по дням недели\")\n",
    "plt.show()"
   ]
  },
  {
   "cell_type": "markdown",
   "metadata": {},
   "source": [
    "Вторник и четверг являются самыми популярными днями для заказов, а в выходные кол-во заказов снижается. Отсюда и вывод, что пользователи чаще совершают заказы в будние дни, особенно во вторник и четверг."
   ]
  },
  {
   "cell_type": "markdown",
   "metadata": {},
   "source": [
    "### Популярные события и партнёры"
   ]
  },
  {
   "cell_type": "markdown",
   "metadata": {},
   "source": [
    "#### Уникальное кол-во мероприятий и числа заказов по регионам"
   ]
  },
  {
   "cell_type": "code",
   "execution_count": 31,
   "metadata": {
    "hideCode": true,
    "hidePrompt": true
   },
   "outputs": [
    {
     "data": {
      "text/html": [
       "<div>\n",
       "<style scoped>\n",
       "    .dataframe tbody tr th:only-of-type {\n",
       "        vertical-align: middle;\n",
       "    }\n",
       "\n",
       "    .dataframe tbody tr th {\n",
       "        vertical-align: top;\n",
       "    }\n",
       "\n",
       "    .dataframe thead th {\n",
       "        text-align: right;\n",
       "    }\n",
       "</style>\n",
       "<table border=\"1\" class=\"dataframe\">\n",
       "  <thead>\n",
       "    <tr style=\"text-align: right;\">\n",
       "      <th></th>\n",
       "      <th>region_name</th>\n",
       "      <th>unqiue_events</th>\n",
       "      <th>orders_count</th>\n",
       "      <th>event_share</th>\n",
       "      <th>order_share</th>\n",
       "    </tr>\n",
       "  </thead>\n",
       "  <tbody>\n",
       "    <tr>\n",
       "      <th>23</th>\n",
       "      <td>Каменевский регион</td>\n",
       "      <td>3910</td>\n",
       "      <td>46684</td>\n",
       "      <td>0.246843</td>\n",
       "      <td>0.277183</td>\n",
       "    </tr>\n",
       "    <tr>\n",
       "      <th>59</th>\n",
       "      <td>Североярская область</td>\n",
       "      <td>2611</td>\n",
       "      <td>20704</td>\n",
       "      <td>0.164836</td>\n",
       "      <td>0.122929</td>\n",
       "    </tr>\n",
       "    <tr>\n",
       "      <th>75</th>\n",
       "      <td>Широковская область</td>\n",
       "      <td>796</td>\n",
       "      <td>8648</td>\n",
       "      <td>0.050253</td>\n",
       "      <td>0.051347</td>\n",
       "    </tr>\n",
       "    <tr>\n",
       "      <th>56</th>\n",
       "      <td>Светополянский округ</td>\n",
       "      <td>762</td>\n",
       "      <td>4771</td>\n",
       "      <td>0.048106</td>\n",
       "      <td>0.028327</td>\n",
       "    </tr>\n",
       "    <tr>\n",
       "      <th>51</th>\n",
       "      <td>Речиновская область</td>\n",
       "      <td>529</td>\n",
       "      <td>3565</td>\n",
       "      <td>0.033396</td>\n",
       "      <td>0.021167</td>\n",
       "    </tr>\n",
       "  </tbody>\n",
       "</table>\n",
       "</div>"
      ],
      "text/plain": [
       "             region_name  unqiue_events  orders_count  event_share  \\\n",
       "23    Каменевский регион           3910         46684     0.246843   \n",
       "59  Североярская область           2611         20704     0.164836   \n",
       "75   Широковская область            796          8648     0.050253   \n",
       "56  Светополянский округ            762          4771     0.048106   \n",
       "51   Речиновская область            529          3565     0.033396   \n",
       "\n",
       "    order_share  \n",
       "23     0.277183  \n",
       "59     0.122929  \n",
       "75     0.051347  \n",
       "56     0.028327  \n",
       "51     0.021167  "
      ]
     },
     "execution_count": 31,
     "metadata": {},
     "output_type": "execute_result"
    }
   ],
   "source": [
    "region_analysis = autumn_df.groupby('region_name').agg(\n",
    "    unqiue_events = ('event_id','nunique'),\n",
    "    orders_count = ('order_id','count'),\n",
    ").reset_index()\n",
    "\n",
    "region_analysis['event_share'] = region_analysis['unqiue_events'] / region_analysis['unqiue_events'].sum()\n",
    "region_analysis['order_share'] = region_analysis['orders_count'] / region_analysis['orders_count'].sum()\n",
    "\n",
    "\n",
    "region_analysis = region_analysis.sort_values(by = 'unqiue_events', ascending = False)\n",
    "\n",
    "region_analysis.head(5)"
   ]
  },
  {
   "cell_type": "markdown",
   "metadata": {},
   "source": [
    "Каменевский райно и Североярская область лидируют по кол-ву мероприятий и заказов. Остальные регионы занимают меньшую долю заказов. Каменевский район является самым прибыльным, за ним следует Североярская область."
   ]
  },
  {
   "cell_type": "markdown",
   "metadata": {},
   "source": [
    "#### Уникальное кол-во мероприятий и выручка с закаов для билетного партнера"
   ]
  },
  {
   "cell_type": "code",
   "execution_count": 32,
   "metadata": {
    "hideCode": true,
    "hidePrompt": true
   },
   "outputs": [
    {
     "data": {
      "text/html": [
       "<div>\n",
       "<style scoped>\n",
       "    .dataframe tbody tr th:only-of-type {\n",
       "        vertical-align: middle;\n",
       "    }\n",
       "\n",
       "    .dataframe tbody tr th {\n",
       "        vertical-align: top;\n",
       "    }\n",
       "\n",
       "    .dataframe thead th {\n",
       "        text-align: right;\n",
       "    }\n",
       "</style>\n",
       "<table border=\"1\" class=\"dataframe\">\n",
       "  <thead>\n",
       "    <tr style=\"text-align: right;\">\n",
       "      <th></th>\n",
       "      <th>service_name</th>\n",
       "      <th>unqiue_events</th>\n",
       "      <th>orders_count</th>\n",
       "      <th>total_revenue</th>\n",
       "      <th>event_share</th>\n",
       "      <th>order_share</th>\n",
       "      <th>revenue_share</th>\n",
       "    </tr>\n",
       "  </thead>\n",
       "  <tbody>\n",
       "    <tr>\n",
       "      <th>3</th>\n",
       "      <td>Билеты без проблем</td>\n",
       "      <td>2836</td>\n",
       "      <td>32328</td>\n",
       "      <td>13595150.0</td>\n",
       "      <td>0.164292</td>\n",
       "      <td>0.191945</td>\n",
       "      <td>0.161527</td>\n",
       "    </tr>\n",
       "    <tr>\n",
       "      <th>21</th>\n",
       "      <td>Лови билет!</td>\n",
       "      <td>3611</td>\n",
       "      <td>25772</td>\n",
       "      <td>10381965.0</td>\n",
       "      <td>0.209188</td>\n",
       "      <td>0.153019</td>\n",
       "      <td>0.123350</td>\n",
       "    </tr>\n",
       "    <tr>\n",
       "      <th>5</th>\n",
       "      <td>Билеты в руки</td>\n",
       "      <td>2457</td>\n",
       "      <td>25646</td>\n",
       "      <td>7613839.5</td>\n",
       "      <td>0.142336</td>\n",
       "      <td>0.152271</td>\n",
       "      <td>0.090462</td>\n",
       "    </tr>\n",
       "    <tr>\n",
       "      <th>24</th>\n",
       "      <td>Мой билет</td>\n",
       "      <td>1005</td>\n",
       "      <td>19416</td>\n",
       "      <td>11636746.0</td>\n",
       "      <td>0.058220</td>\n",
       "      <td>0.115281</td>\n",
       "      <td>0.138259</td>\n",
       "    </tr>\n",
       "    <tr>\n",
       "      <th>25</th>\n",
       "      <td>Облачко</td>\n",
       "      <td>1409</td>\n",
       "      <td>15478</td>\n",
       "      <td>10611052.0</td>\n",
       "      <td>0.081624</td>\n",
       "      <td>0.091900</td>\n",
       "      <td>0.126072</td>\n",
       "    </tr>\n",
       "  </tbody>\n",
       "</table>\n",
       "</div>"
      ],
      "text/plain": [
       "          service_name  unqiue_events  orders_count  total_revenue  \\\n",
       "3   Билеты без проблем           2836         32328     13595150.0   \n",
       "21         Лови билет!           3611         25772     10381965.0   \n",
       "5        Билеты в руки           2457         25646      7613839.5   \n",
       "24           Мой билет           1005         19416     11636746.0   \n",
       "25             Облачко           1409         15478     10611052.0   \n",
       "\n",
       "    event_share  order_share  revenue_share  \n",
       "3      0.164292     0.191945       0.161527  \n",
       "21     0.209188     0.153019       0.123350  \n",
       "5      0.142336     0.152271       0.090462  \n",
       "24     0.058220     0.115281       0.138259  \n",
       "25     0.081624     0.091900       0.126072  "
      ]
     },
     "execution_count": 32,
     "metadata": {},
     "output_type": "execute_result"
    }
   ],
   "source": [
    "region_analysis = autumn_df.groupby('service_name').agg(\n",
    "    unqiue_events = ('event_id','nunique'),\n",
    "    orders_count = ('order_id','count'),\n",
    "    total_revenue = ('revenue','sum')\n",
    ").reset_index()\n",
    "\n",
    "region_analysis['event_share'] = region_analysis['unqiue_events'] / region_analysis['unqiue_events'].sum()\n",
    "region_analysis['order_share'] = region_analysis['orders_count'] / region_analysis['orders_count'].sum()\n",
    "region_analysis['revenue_share'] = region_analysis['total_revenue'] / region_analysis['total_revenue'].sum()\n",
    "\n",
    "region_analysis = region_analysis.sort_values(by = 'orders_count', ascending = False)\n",
    "\n",
    "region_analysis.head(5)"
   ]
  },
  {
   "cell_type": "markdown",
   "metadata": {},
   "source": [
    "Билеты без проблем лидирует по кол-ву проодаж и общей выручке, но Лови Билет! на 775 мероприятия провела больше. Это нам говорит о том, что Билеты без проблем занимают основную долю от выручки и кол-во заказов, но Лови Билет! является основной в доле по проведнию уникальных мероприятийю. За ними идет сервис Билеты в руки, которые немного отстает от Билеты без проблем по мероприятиям и чуть чуть отстает от кол-во заказов Лови Билет, но общая выручка у нее в 2 раза меньше лидера по продажам."
   ]
  },
  {
   "cell_type": "markdown",
   "metadata": {},
   "source": [
    "## Статистический анализ данных"
   ]
  },
  {
   "cell_type": "code",
   "execution_count": 33,
   "metadata": {
    "hideCode": true,
    "hidePrompt": true
   },
   "outputs": [
    {
     "name": "stdout",
     "output_type": "stream",
     "text": [
      "Среднее количество заказов на пользователя (мобильные): 9.456500282007896\n",
      "Среднее количество заказов на пользователя (десктоп): 7.044371405094495\n",
      "Среднее время между заказами (мобильные) 20.627174\n",
      "Среднее время между заказами (десктоп) 14.858363\n"
     ]
    }
   ],
   "source": [
    "user_orders = autumn_df.groupby(['user_id','device_type_canonical']).agg(\n",
    "    total_orders = ('order_id','count'),\n",
    "    avg_days_since_prev = ('days_since_prev', 'mean')\n",
    ").reset_index()\n",
    "\n",
    "alpha = 0.05\n",
    "\n",
    "mobile = user_orders[user_orders['device_type_canonical']=='mobile']\n",
    "desktop = user_orders[user_orders['device_type_canonical']=='desktop']\n",
    "\n",
    "print('Среднее количество заказов на пользователя (мобильные):', mobile['total_orders'].mean())\n",
    "print('Среднее количество заказов на пользователя (десктоп):', desktop['total_orders'].mean())\n",
    "\n",
    "print('Среднее время между заказами (мобильные)', mobile['avg_days_since_prev'].mean())\n",
    "print('Среднее время между заказами (десктоп)', desktop['avg_days_since_prev'].mean())"
   ]
  },
  {
   "cell_type": "markdown",
   "metadata": {},
   "source": [
    "### Среднее количество заказов"
   ]
  },
  {
   "cell_type": "markdown",
   "metadata": {},
   "source": [
    "- Нулевая гипотеза H₀: У мобильных пользователей среднее количество заказов не больше чем у  стационарных пользователей.\n",
    "\n",
    "- Альтернативная гипотеза H₁: Пользователи мобильных устройств делают больше заказов."
   ]
  },
  {
   "cell_type": "code",
   "execution_count": 34,
   "metadata": {
    "hideCode": true,
    "hidePrompt": true
   },
   "outputs": [
    {
     "name": "stdout",
     "output_type": "stream",
     "text": [
      "p-значение: 0.0\n",
      "Отвергаем нулевую гипотезу: пользователи мобильных устройств делают больше заказов.\n"
     ]
    }
   ],
   "source": [
    "results = st.mannwhitneyu(\n",
    "    mobile[\"total_orders\"], \n",
    "    desktop[\"total_orders\"],\n",
    "    alternative='greater',\n",
    ")\n",
    "\n",
    "print('p-значение:', round(results.pvalue,4))\n",
    "\n",
    "if results.pvalue < alpha:\n",
    "    print('Отвергаем нулевую гипотезу: пользователи мобильных устройств делают больше заказов.')\n",
    "else:\n",
    "    print('Нет оснований отвергнуть нулевую гипотезу: статистически значимых различий нет.')"
   ]
  },
  {
   "cell_type": "markdown",
   "metadata": {},
   "source": [
    "### Среднее время между заказами"
   ]
  },
  {
   "cell_type": "markdown",
   "metadata": {},
   "source": [
    "- Нулевая гипотеза H₀: Разницы во времени между заказами у мобильных не больше чем у  стационарных пользователей.\n",
    "\n",
    "- Альтернативная гипотеза H₁: Пользователи мобильных устройств делают заказы реже, то есть время между заказами больше."
   ]
  },
  {
   "cell_type": "code",
   "execution_count": 35,
   "metadata": {
    "hideCode": true,
    "hidePrompt": true
   },
   "outputs": [
    {
     "name": "stdout",
     "output_type": "stream",
     "text": [
      "p-значение: 0.0\n",
      "Отвергаем нулевую гипотезу: Пользователи мобильных устройств делают заказы реже, то есть время между заказами больше\n"
     ]
    }
   ],
   "source": [
    "results1 = st.mannwhitneyu(\n",
    "   mobile[\"avg_days_since_prev\"].dropna(), \n",
    "   desktop[\"avg_days_since_prev\"].dropna(),\n",
    "   alternative='greater',\n",
    ")\n",
    "\n",
    "print('p-значение:', round(results1.pvalue,4))\n",
    "\n",
    "if results1.pvalue < alpha:\n",
    "    print('Отвергаем нулевую гипотезу: Пользователи мобильных устройств делают заказы реже, то есть время между заказами больше')\n",
    "else:\n",
    "    print('Нет оснований отвергнуть нулевую гипотезу: статистически значимых различий нет.')"
   ]
  },
  {
   "cell_type": "markdown",
   "metadata": {},
   "source": [
    "Я выбрал тест Манна-Уитни потому что:\n",
    "\n",
    "- Устойчив к выбросам\n",
    "\n",
    "- Не требует нормального распределения\n",
    "\n",
    "- Не требует равенства дисперсий\n",
    "\n",
    "- Работает даже при разных размерах выборок\n",
    "\n",
    "Два результат показали нам значение меньше значения alpha, тоесть <0.5, что говорит нам об отвержение нулевой гипотезы и принятии альтернативной."
   ]
  },
  {
   "cell_type": "markdown",
   "metadata": {},
   "source": [
    "## Выводы и рекомендации"
   ]
  },
  {
   "cell_type": "markdown",
   "metadata": {},
   "source": [
    "### Вывод"
   ]
  },
  {
   "cell_type": "markdown",
   "metadata": {},
   "source": [
    "В ходе анализа были изучены данные о заказах билетов на различные мероприятия за осенний период. Данные включали информацию о типе устройства (мобильные/стационарные), типе мероприятия, количестве заказов, активности пользователей, выручке и других характеристиках. Также были учтены региональные особенности.\n",
    "\n",
    "- Рост популярности мероприятий осенью:\n",
    "\n",
    "Осенью наблюдается увеличение числа заказов и активности пользователей, что может быть связано с началом культурного сезона и возвращением людей к привычному ритму после летнего периода.\n",
    "\n",
    "Самые популярные категории мероприятий: концерты, театр и спорт.\n",
    "\n",
    "- Анализ пользовательской активности:\n",
    "\n",
    "Наиболее активные дни для покупок — вторник и четверг. В эти дни фиксируется наибольшее количество заказов.\n",
    "\n",
    "Средний чек оставался относительно стабильным, но наблюдались отдельные выбросы, указывающие на крупные покупки.\n",
    "\n",
    "Среднее время между заказами у мобильных пользователей выше, что может свидетельствовать о менее частых, но более крупных покупках через мобильное приложение.\n",
    "\n",
    "- Региональный анализ:\n",
    "\n",
    "Ключевые рынки по объему заказов:\n",
    "\n",
    "Каменевский регион — лидер по числу заказов и выручке.\n",
    "\n",
    "Североярская область также входит в число ключевых регионов.\n",
    "\n",
    "- Результаты проверки гипотез:\n",
    "\n",
    "Гипотеза о том, что пользователи мобильных устройств делают больше заказов, подтвердилась.\n",
    "\n",
    "Гипотеза о том, что время между заказами у мобильных пользователей больше, также нашла подтверждение."
   ]
  },
  {
   "cell_type": "markdown",
   "metadata": {},
   "source": [
    "### Рекомендации"
   ]
  },
  {
   "cell_type": "markdown",
   "metadata": {},
   "source": [
    "- Учитывать сезонный рост спроса и адаптировать маркетинговые кампании к осеннему периоду.\n",
    "\n",
    "Например за 1-2 месяца до осени запустить рекламные кампании с акцентом на осенние мероприятия (концерты, спорт, театр).\n",
    "\n",
    "- Фокусироваться на будних днях (особенно вторниках и четвергах) для продвижения акций.\n",
    "\n",
    "Например запустить специальные предложения «Скидка 10% на билеты по вторникам» или программа лояльности с бонусами за покупки в определённые дни.\n",
    "\n",
    "- Развивать региональный маркетинг, особенно в Каменевском регионе и Североярской области.\n",
    "\n",
    "Например сотрудничать с местными медиа и блогерами для рекламы мероприятий, таргетированной рекламы в социальных сетях именно на жителей этих регионов.\n",
    "\n",
    "- Уделять больше внимания мобильным пользователям, так как они проявляют наибольшую активность.\n",
    "\n",
    "Например оптимизировать мобильное приложение — добавить push-уведомления о снижении цен на интересующие билеты, удобные способы оплаты (Apple Pay, Google Pay, СБП), а также эксклюзивные скидки для мобильных пользователей."
   ]
  }
 ],
 "metadata": {
  "ExecuteTimeLog": [
   {
    "duration": 14448,
    "start_time": "2025-03-26T10:20:57.244Z"
   },
   {
    "duration": 3069,
    "start_time": "2025-03-26T10:21:55.247Z"
   },
   {
    "duration": 3897,
    "start_time": "2025-03-26T10:23:24.611Z"
   },
   {
    "duration": 2878,
    "start_time": "2025-03-26T10:23:41.412Z"
   },
   {
    "duration": 3791,
    "start_time": "2025-03-26T10:23:47.207Z"
   },
   {
    "duration": 3267,
    "start_time": "2025-03-26T10:25:52.649Z"
   },
   {
    "duration": 3024,
    "start_time": "2025-03-26T10:26:40.761Z"
   },
   {
    "duration": 15151,
    "start_time": "2025-03-26T10:26:58.580Z"
   },
   {
    "duration": 297,
    "start_time": "2025-03-26T10:27:13.733Z"
   },
   {
    "duration": 12184,
    "start_time": "2025-03-26T10:27:25.259Z"
   },
   {
    "duration": 3513,
    "start_time": "2025-03-26T10:27:37.445Z"
   },
   {
    "duration": 96,
    "start_time": "2025-03-26T10:28:20.279Z"
   },
   {
    "duration": 56,
    "start_time": "2025-03-26T10:29:16.171Z"
   },
   {
    "duration": 4,
    "start_time": "2025-03-26T10:40:23.885Z"
   },
   {
    "duration": 11656,
    "start_time": "2025-03-26T10:40:29.930Z"
   },
   {
    "duration": 3331,
    "start_time": "2025-03-26T10:40:41.588Z"
   },
   {
    "duration": 111,
    "start_time": "2025-03-26T18:07:35.414Z"
   },
   {
    "duration": 5,
    "start_time": "2025-03-26T18:07:43.054Z"
   },
   {
    "duration": 3381,
    "start_time": "2025-03-26T18:07:44.444Z"
   },
   {
    "duration": 120,
    "start_time": "2025-03-27T09:18:29.584Z"
   },
   {
    "duration": 139,
    "start_time": "2025-03-27T09:19:59.819Z"
   },
   {
    "duration": 15876,
    "start_time": "2025-03-27T09:20:13.133Z"
   },
   {
    "duration": 3406,
    "start_time": "2025-03-27T09:20:29.012Z"
   },
   {
    "duration": 3284,
    "start_time": "2025-03-27T09:21:07.735Z"
   },
   {
    "duration": 3736,
    "start_time": "2025-03-27T09:23:17.586Z"
   },
   {
    "duration": 4267,
    "start_time": "2025-03-27T09:23:58.504Z"
   },
   {
    "duration": 3827,
    "start_time": "2025-03-27T09:24:51.541Z"
   },
   {
    "duration": 4318,
    "start_time": "2025-03-27T09:25:53.869Z"
   },
   {
    "duration": 3285,
    "start_time": "2025-03-27T09:26:45.686Z"
   },
   {
    "duration": 5755,
    "start_time": "2025-03-27T09:27:01.553Z"
   },
   {
    "duration": 18636,
    "start_time": "2025-03-27T09:27:22.821Z"
   },
   {
    "duration": 3377,
    "start_time": "2025-03-27T09:27:41.458Z"
   },
   {
    "duration": 133,
    "start_time": "2025-03-27T09:35:19.497Z"
   },
   {
    "duration": 75,
    "start_time": "2025-03-27T09:35:28.054Z"
   },
   {
    "duration": 38,
    "start_time": "2025-03-27T09:35:31.701Z"
   },
   {
    "duration": 3468,
    "start_time": "2025-03-27T09:35:34.629Z"
   },
   {
    "duration": 3309,
    "start_time": "2025-03-27T09:36:28.530Z"
   },
   {
    "duration": 3264,
    "start_time": "2025-03-27T09:36:36.144Z"
   },
   {
    "duration": 3889,
    "start_time": "2025-03-27T09:37:15.366Z"
   },
   {
    "duration": 3398,
    "start_time": "2025-03-27T09:37:43.394Z"
   },
   {
    "duration": 3390,
    "start_time": "2025-03-27T09:38:25.870Z"
   },
   {
    "duration": 3868,
    "start_time": "2025-03-27T09:39:10.207Z"
   },
   {
    "duration": 3421,
    "start_time": "2025-03-27T09:42:00.967Z"
   },
   {
    "duration": 0,
    "start_time": "2025-03-27T09:42:04.390Z"
   },
   {
    "duration": 16900,
    "start_time": "2025-03-27T09:42:06.400Z"
   },
   {
    "duration": 3518,
    "start_time": "2025-03-27T09:42:23.303Z"
   },
   {
    "duration": 3478,
    "start_time": "2025-03-27T09:42:39.183Z"
   },
   {
    "duration": 4,
    "start_time": "2025-03-27T09:43:23.665Z"
   },
   {
    "duration": 3469,
    "start_time": "2025-03-27T09:43:25.624Z"
   },
   {
    "duration": 4642,
    "start_time": "2025-03-27T09:43:42.333Z"
   },
   {
    "duration": 3397,
    "start_time": "2025-03-27T09:43:52.561Z"
   },
   {
    "duration": 17609,
    "start_time": "2025-03-27T09:44:02.003Z"
   },
   {
    "duration": 3531,
    "start_time": "2025-03-27T09:44:19.614Z"
   },
   {
    "duration": 3524,
    "start_time": "2025-03-27T09:44:46.208Z"
   },
   {
    "duration": 30,
    "start_time": "2025-03-27T09:44:56.447Z"
   },
   {
    "duration": 3377,
    "start_time": "2025-03-27T09:44:57.871Z"
   },
   {
    "duration": 47,
    "start_time": "2025-03-27T09:45:24.253Z"
   },
   {
    "duration": 3325,
    "start_time": "2025-03-27T09:45:25.301Z"
   },
   {
    "duration": 17256,
    "start_time": "2025-03-27T09:45:39.015Z"
   },
   {
    "duration": 3534,
    "start_time": "2025-03-27T09:45:56.273Z"
   },
   {
    "duration": 17600,
    "start_time": "2025-03-27T09:46:10.905Z"
   },
   {
    "duration": 3504,
    "start_time": "2025-03-27T09:46:28.507Z"
   },
   {
    "duration": 3531,
    "start_time": "2025-03-27T09:47:39.605Z"
   },
   {
    "duration": 16504,
    "start_time": "2025-03-27T09:47:51.762Z"
   },
   {
    "duration": 4581,
    "start_time": "2025-03-27T09:48:08.269Z"
   },
   {
    "duration": 16225,
    "start_time": "2025-03-27T09:48:32.441Z"
   },
   {
    "duration": 4150,
    "start_time": "2025-03-27T09:48:48.668Z"
   },
   {
    "duration": 3761,
    "start_time": "2025-03-27T09:49:23.679Z"
   },
   {
    "duration": 10816,
    "start_time": "2025-03-27T18:43:33.289Z"
   },
   {
    "duration": 3583,
    "start_time": "2025-03-27T18:43:44.107Z"
   },
   {
    "duration": 15,
    "start_time": "2025-03-27T18:43:47.692Z"
   },
   {
    "duration": 70,
    "start_time": "2025-03-27T18:45:26.913Z"
   },
   {
    "duration": 89,
    "start_time": "2025-03-27T18:45:30.732Z"
   },
   {
    "duration": 120,
    "start_time": "2025-03-27T18:45:33.277Z"
   },
   {
    "duration": 137,
    "start_time": "2025-03-27T18:45:48.623Z"
   },
   {
    "duration": 134,
    "start_time": "2025-03-27T18:45:53.122Z"
   },
   {
    "duration": 323,
    "start_time": "2025-03-27T18:46:51.288Z"
   },
   {
    "duration": 347,
    "start_time": "2025-03-27T18:47:00.328Z"
   },
   {
    "duration": 319,
    "start_time": "2025-03-27T18:47:03.086Z"
   },
   {
    "duration": 85,
    "start_time": "2025-03-27T18:47:52.519Z"
   },
   {
    "duration": 17,
    "start_time": "2025-03-27T18:49:44.700Z"
   },
   {
    "duration": 9,
    "start_time": "2025-03-27T18:50:11.259Z"
   },
   {
    "duration": 11,
    "start_time": "2025-03-27T18:50:19.781Z"
   },
   {
    "duration": 7,
    "start_time": "2025-03-27T18:50:28.521Z"
   },
   {
    "duration": 132,
    "start_time": "2025-03-27T18:50:48.249Z"
   },
   {
    "duration": 18,
    "start_time": "2025-03-27T18:50:53.976Z"
   },
   {
    "duration": 18,
    "start_time": "2025-03-27T18:51:00.043Z"
   },
   {
    "duration": 99,
    "start_time": "2025-03-27T18:51:05.951Z"
   },
   {
    "duration": 86,
    "start_time": "2025-03-27T18:51:09.298Z"
   },
   {
    "duration": 23,
    "start_time": "2025-03-27T18:52:53.961Z"
   },
   {
    "duration": 7,
    "start_time": "2025-03-27T18:53:13.746Z"
   },
   {
    "duration": 8,
    "start_time": "2025-03-27T18:53:29.280Z"
   },
   {
    "duration": 33,
    "start_time": "2025-03-27T18:53:32.991Z"
   },
   {
    "duration": 10935,
    "start_time": "2025-03-27T18:53:44.203Z"
   },
   {
    "duration": 3716,
    "start_time": "2025-03-27T18:53:55.140Z"
   },
   {
    "duration": 23,
    "start_time": "2025-03-27T18:53:58.858Z"
   },
   {
    "duration": 148,
    "start_time": "2025-03-27T18:53:58.882Z"
   },
   {
    "duration": 369,
    "start_time": "2025-03-27T18:53:59.032Z"
   },
   {
    "duration": 36,
    "start_time": "2025-03-27T18:53:59.403Z"
   },
   {
    "duration": 25,
    "start_time": "2025-03-27T18:54:16.903Z"
   },
   {
    "duration": 116,
    "start_time": "2025-03-27T18:54:27.251Z"
   },
   {
    "duration": 104,
    "start_time": "2025-03-27T18:59:39.174Z"
   },
   {
    "duration": 165,
    "start_time": "2025-03-27T18:59:42.192Z"
   },
   {
    "duration": 185,
    "start_time": "2025-03-27T19:00:08.569Z"
   },
   {
    "duration": 10713,
    "start_time": "2025-03-27T19:00:14.725Z"
   },
   {
    "duration": 3487,
    "start_time": "2025-03-27T19:00:25.440Z"
   },
   {
    "duration": 15,
    "start_time": "2025-03-27T19:00:28.929Z"
   },
   {
    "duration": 172,
    "start_time": "2025-03-27T19:00:28.945Z"
   },
   {
    "duration": 372,
    "start_time": "2025-03-27T19:00:29.119Z"
   },
   {
    "duration": 38,
    "start_time": "2025-03-27T19:00:29.493Z"
   },
   {
    "duration": 121,
    "start_time": "2025-03-27T19:00:40.880Z"
   },
   {
    "duration": 49,
    "start_time": "2025-03-27T19:01:13.613Z"
   },
   {
    "duration": 11508,
    "start_time": "2025-03-27T19:01:33.296Z"
   },
   {
    "duration": 4158,
    "start_time": "2025-03-27T19:01:44.806Z"
   },
   {
    "duration": 17,
    "start_time": "2025-03-27T19:01:48.966Z"
   },
   {
    "duration": 160,
    "start_time": "2025-03-27T19:01:48.984Z"
   },
   {
    "duration": 363,
    "start_time": "2025-03-27T19:01:49.147Z"
   },
   {
    "duration": 176,
    "start_time": "2025-03-27T19:01:49.511Z"
   },
   {
    "duration": 226,
    "start_time": "2025-03-27T19:02:03.805Z"
   },
   {
    "duration": 210,
    "start_time": "2025-03-27T19:05:03.841Z"
   },
   {
    "duration": 132,
    "start_time": "2025-03-27T19:05:09.422Z"
   },
   {
    "duration": 209,
    "start_time": "2025-03-27T19:05:34.738Z"
   },
   {
    "duration": 87,
    "start_time": "2025-03-27T19:05:43.638Z"
   },
   {
    "duration": 224,
    "start_time": "2025-03-27T19:05:47.175Z"
   },
   {
    "duration": 216,
    "start_time": "2025-03-27T19:06:12.947Z"
   },
   {
    "duration": 195,
    "start_time": "2025-03-27T19:06:33.703Z"
   },
   {
    "duration": 142,
    "start_time": "2025-03-27T19:06:37.458Z"
   },
   {
    "duration": 230,
    "start_time": "2025-03-27T19:06:44.810Z"
   },
   {
    "duration": 190,
    "start_time": "2025-03-27T19:07:08.756Z"
   },
   {
    "duration": 50,
    "start_time": "2025-03-27T19:07:10.228Z"
   },
   {
    "duration": 10153,
    "start_time": "2025-03-28T10:29:44.566Z"
   },
   {
    "duration": 5845,
    "start_time": "2025-03-28T10:29:54.721Z"
   },
   {
    "duration": 16,
    "start_time": "2025-03-28T10:30:00.568Z"
   },
   {
    "duration": 155,
    "start_time": "2025-03-28T10:30:00.585Z"
   },
   {
    "duration": 35,
    "start_time": "2025-03-28T10:30:00.742Z"
   },
   {
    "duration": 42,
    "start_time": "2025-03-28T10:30:00.779Z"
   },
   {
    "duration": 375,
    "start_time": "2025-03-28T10:30:00.823Z"
   },
   {
    "duration": 171,
    "start_time": "2025-03-28T10:30:01.200Z"
   },
   {
    "duration": 54,
    "start_time": "2025-03-28T10:30:01.373Z"
   },
   {
    "duration": 118,
    "start_time": "2025-03-28T10:33:23.162Z"
   },
   {
    "duration": 27,
    "start_time": "2025-03-28T10:33:24.465Z"
   },
   {
    "duration": 8,
    "start_time": "2025-03-28T10:33:25.770Z"
   },
   {
    "duration": 316,
    "start_time": "2025-03-28T10:33:59.263Z"
   },
   {
    "duration": 43,
    "start_time": "2025-03-28T10:34:00.427Z"
   },
   {
    "duration": 6,
    "start_time": "2025-03-28T10:34:01.768Z"
   },
   {
    "duration": 356,
    "start_time": "2025-03-28T10:38:04.202Z"
   },
   {
    "duration": 406,
    "start_time": "2025-03-28T10:50:35.730Z"
   },
   {
    "duration": 104,
    "start_time": "2025-03-28T10:51:07.946Z"
   },
   {
    "duration": 1191,
    "start_time": "2025-03-28T10:51:21.655Z"
   },
   {
    "duration": 1165,
    "start_time": "2025-03-28T10:51:24.286Z"
   },
   {
    "duration": 131,
    "start_time": "2025-03-28T10:51:31.151Z"
   },
   {
    "duration": 40,
    "start_time": "2025-03-28T10:51:37.282Z"
   },
   {
    "duration": 159,
    "start_time": "2025-03-28T10:52:32.913Z"
   },
   {
    "duration": 120,
    "start_time": "2025-03-28T10:52:39.168Z"
   },
   {
    "duration": 123,
    "start_time": "2025-03-28T10:52:42.447Z"
   },
   {
    "duration": 120,
    "start_time": "2025-03-28T10:52:46.563Z"
   },
   {
    "duration": 126,
    "start_time": "2025-03-28T10:52:51.425Z"
   },
   {
    "duration": 123,
    "start_time": "2025-03-28T10:54:14.406Z"
   },
   {
    "duration": 119,
    "start_time": "2025-03-28T10:54:28.021Z"
   },
   {
    "duration": 117,
    "start_time": "2025-03-28T10:54:30.607Z"
   },
   {
    "duration": 123,
    "start_time": "2025-03-28T10:54:33.283Z"
   },
   {
    "duration": 120,
    "start_time": "2025-03-28T10:54:36.211Z"
   },
   {
    "duration": 137,
    "start_time": "2025-03-28T10:55:38.918Z"
   },
   {
    "duration": 125,
    "start_time": "2025-03-28T10:55:48.363Z"
   },
   {
    "duration": 121,
    "start_time": "2025-03-28T10:56:39.785Z"
   },
   {
    "duration": 25,
    "start_time": "2025-03-28T10:57:07.167Z"
   },
   {
    "duration": 10,
    "start_time": "2025-03-28T10:57:47.238Z"
   },
   {
    "duration": 7,
    "start_time": "2025-03-28T10:57:55.433Z"
   },
   {
    "duration": 6,
    "start_time": "2025-03-28T10:57:58.371Z"
   },
   {
    "duration": 382,
    "start_time": "2025-03-28T11:01:20.573Z"
   },
   {
    "duration": 375,
    "start_time": "2025-03-28T11:01:24.070Z"
   },
   {
    "duration": 11630,
    "start_time": "2025-03-28T11:01:28.914Z"
   },
   {
    "duration": 3867,
    "start_time": "2025-03-28T11:01:40.546Z"
   },
   {
    "duration": 23,
    "start_time": "2025-03-28T11:01:44.414Z"
   },
   {
    "duration": 152,
    "start_time": "2025-03-28T11:01:44.439Z"
   },
   {
    "duration": 28,
    "start_time": "2025-03-28T11:01:44.593Z"
   },
   {
    "duration": 18,
    "start_time": "2025-03-28T11:01:44.623Z"
   },
   {
    "duration": 402,
    "start_time": "2025-03-28T11:01:44.663Z"
   },
   {
    "duration": 56,
    "start_time": "2025-03-28T11:01:45.067Z"
   },
   {
    "duration": 7,
    "start_time": "2025-03-28T11:01:45.125Z"
   },
   {
    "duration": 155,
    "start_time": "2025-03-28T11:01:45.134Z"
   },
   {
    "duration": 151,
    "start_time": "2025-03-28T11:01:45.291Z"
   },
   {
    "duration": 60,
    "start_time": "2025-03-28T11:01:45.444Z"
   },
   {
    "duration": 191,
    "start_time": "2025-03-28T14:10:54.126Z"
   },
   {
    "duration": 18,
    "start_time": "2025-03-28T14:11:15.892Z"
   },
   {
    "duration": 7,
    "start_time": "2025-03-28T14:11:31.685Z"
   },
   {
    "duration": 7,
    "start_time": "2025-03-28T14:11:43.371Z"
   },
   {
    "duration": 5,
    "start_time": "2025-03-28T14:11:48.673Z"
   },
   {
    "duration": 7,
    "start_time": "2025-03-28T14:11:51.282Z"
   },
   {
    "duration": 6,
    "start_time": "2025-03-28T14:11:53.122Z"
   },
   {
    "duration": 6,
    "start_time": "2025-03-28T14:12:03.507Z"
   },
   {
    "duration": 8,
    "start_time": "2025-03-28T14:19:11.898Z"
   },
   {
    "duration": 10300,
    "start_time": "2025-03-28T14:19:51.337Z"
   },
   {
    "duration": 4156,
    "start_time": "2025-03-28T14:20:01.639Z"
   },
   {
    "duration": 8,
    "start_time": "2025-03-28T14:20:05.796Z"
   },
   {
    "duration": 200,
    "start_time": "2025-03-28T14:20:05.805Z"
   },
   {
    "duration": 0,
    "start_time": "2025-03-28T14:20:06.006Z"
   },
   {
    "duration": 0,
    "start_time": "2025-03-28T14:20:06.008Z"
   },
   {
    "duration": 0,
    "start_time": "2025-03-28T14:20:06.009Z"
   },
   {
    "duration": 0,
    "start_time": "2025-03-28T14:20:06.010Z"
   },
   {
    "duration": 0,
    "start_time": "2025-03-28T14:20:06.011Z"
   },
   {
    "duration": 0,
    "start_time": "2025-03-28T14:20:06.012Z"
   },
   {
    "duration": 0,
    "start_time": "2025-03-28T14:20:06.013Z"
   },
   {
    "duration": 0,
    "start_time": "2025-03-28T14:20:06.014Z"
   },
   {
    "duration": 0,
    "start_time": "2025-03-28T14:20:06.015Z"
   },
   {
    "duration": 0,
    "start_time": "2025-03-28T14:20:06.016Z"
   },
   {
    "duration": 10523,
    "start_time": "2025-03-28T14:20:21.123Z"
   },
   {
    "duration": 4959,
    "start_time": "2025-03-28T14:20:31.648Z"
   },
   {
    "duration": 9,
    "start_time": "2025-03-28T14:20:36.609Z"
   },
   {
    "duration": 211,
    "start_time": "2025-03-28T14:20:36.620Z"
   },
   {
    "duration": 29,
    "start_time": "2025-03-28T14:20:36.833Z"
   },
   {
    "duration": 161,
    "start_time": "2025-03-28T14:20:36.864Z"
   },
   {
    "duration": 36,
    "start_time": "2025-03-28T14:20:37.027Z"
   },
   {
    "duration": 41,
    "start_time": "2025-03-28T14:20:37.064Z"
   },
   {
    "duration": 436,
    "start_time": "2025-03-28T14:20:37.107Z"
   },
   {
    "duration": 71,
    "start_time": "2025-03-28T14:20:37.546Z"
   },
   {
    "duration": 7,
    "start_time": "2025-03-28T14:20:37.619Z"
   },
   {
    "duration": 117,
    "start_time": "2025-03-28T14:20:37.627Z"
   },
   {
    "duration": 47,
    "start_time": "2025-03-28T14:20:37.746Z"
   },
   {
    "duration": 11,
    "start_time": "2025-03-28T14:20:37.795Z"
   },
   {
    "duration": 6,
    "start_time": "2025-03-28T14:22:26.824Z"
   },
   {
    "duration": 6,
    "start_time": "2025-03-28T14:22:39.753Z"
   },
   {
    "duration": 6,
    "start_time": "2025-03-28T14:22:42.362Z"
   },
   {
    "duration": 6,
    "start_time": "2025-03-28T14:23:03.632Z"
   },
   {
    "duration": 5,
    "start_time": "2025-03-28T14:23:08.847Z"
   },
   {
    "duration": 6,
    "start_time": "2025-03-28T14:23:12.631Z"
   },
   {
    "duration": 6,
    "start_time": "2025-03-28T14:23:18.900Z"
   },
   {
    "duration": 6,
    "start_time": "2025-03-28T14:23:21.609Z"
   },
   {
    "duration": 5,
    "start_time": "2025-03-28T14:23:23.578Z"
   },
   {
    "duration": 302,
    "start_time": "2025-03-28T14:27:45.927Z"
   },
   {
    "duration": 86,
    "start_time": "2025-03-28T14:28:44.997Z"
   },
   {
    "duration": 331,
    "start_time": "2025-03-28T14:28:51.099Z"
   },
   {
    "duration": 320,
    "start_time": "2025-03-28T14:28:54.048Z"
   },
   {
    "duration": 350,
    "start_time": "2025-03-28T14:29:24.161Z"
   },
   {
    "duration": 350,
    "start_time": "2025-03-28T14:30:39.664Z"
   },
   {
    "duration": 363,
    "start_time": "2025-03-28T14:31:01.006Z"
   },
   {
    "duration": 10783,
    "start_time": "2025-03-28T14:33:03.410Z"
   },
   {
    "duration": 4053,
    "start_time": "2025-03-28T14:33:14.195Z"
   },
   {
    "duration": 10,
    "start_time": "2025-03-28T14:33:18.252Z"
   },
   {
    "duration": 219,
    "start_time": "2025-03-28T14:33:18.264Z"
   },
   {
    "duration": 17,
    "start_time": "2025-03-28T14:33:18.485Z"
   },
   {
    "duration": 248,
    "start_time": "2025-03-28T14:33:18.503Z"
   },
   {
    "duration": 34,
    "start_time": "2025-03-28T14:33:18.753Z"
   },
   {
    "duration": 30,
    "start_time": "2025-03-28T14:33:18.789Z"
   },
   {
    "duration": 403,
    "start_time": "2025-03-28T14:33:18.822Z"
   },
   {
    "duration": 368,
    "start_time": "2025-03-28T14:33:19.227Z"
   },
   {
    "duration": 115,
    "start_time": "2025-03-28T14:33:19.598Z"
   },
   {
    "duration": 51,
    "start_time": "2025-03-28T14:33:19.715Z"
   },
   {
    "duration": 7,
    "start_time": "2025-03-28T14:33:19.770Z"
   },
   {
    "duration": 81,
    "start_time": "2025-03-28T14:42:02.553Z"
   },
   {
    "duration": 518,
    "start_time": "2025-03-28T14:42:11.452Z"
   },
   {
    "duration": 10372,
    "start_time": "2025-03-28T14:42:44.034Z"
   },
   {
    "duration": 4150,
    "start_time": "2025-03-28T14:42:54.408Z"
   },
   {
    "duration": 8,
    "start_time": "2025-03-28T14:42:58.564Z"
   },
   {
    "duration": 318,
    "start_time": "2025-03-28T14:42:58.574Z"
   },
   {
    "duration": 15,
    "start_time": "2025-03-28T14:42:58.894Z"
   },
   {
    "duration": 141,
    "start_time": "2025-03-28T14:42:58.911Z"
   },
   {
    "duration": 35,
    "start_time": "2025-03-28T14:42:59.053Z"
   },
   {
    "duration": 11,
    "start_time": "2025-03-28T14:42:59.090Z"
   },
   {
    "duration": 410,
    "start_time": "2025-03-28T14:42:59.103Z"
   },
   {
    "duration": 378,
    "start_time": "2025-03-28T14:42:59.514Z"
   },
   {
    "duration": 116,
    "start_time": "2025-03-28T14:42:59.893Z"
   },
   {
    "duration": 53,
    "start_time": "2025-03-28T14:43:00.011Z"
   },
   {
    "duration": 80,
    "start_time": "2025-03-28T14:43:00.067Z"
   },
   {
    "duration": 646,
    "start_time": "2025-03-28T14:43:00.149Z"
   },
   {
    "duration": 15,
    "start_time": "2025-03-28T14:43:17.770Z"
   },
   {
    "duration": 9981,
    "start_time": "2025-03-28T14:43:22.080Z"
   },
   {
    "duration": 3835,
    "start_time": "2025-03-28T14:43:32.063Z"
   },
   {
    "duration": 8,
    "start_time": "2025-03-28T14:43:35.900Z"
   },
   {
    "duration": 219,
    "start_time": "2025-03-28T14:43:35.909Z"
   },
   {
    "duration": 41,
    "start_time": "2025-03-28T14:43:36.130Z"
   },
   {
    "duration": 179,
    "start_time": "2025-03-28T14:43:36.173Z"
   },
   {
    "duration": 37,
    "start_time": "2025-03-28T14:43:36.353Z"
   },
   {
    "duration": 29,
    "start_time": "2025-03-28T14:43:36.392Z"
   },
   {
    "duration": 406,
    "start_time": "2025-03-28T14:43:36.423Z"
   },
   {
    "duration": 380,
    "start_time": "2025-03-28T14:43:36.831Z"
   },
   {
    "duration": 109,
    "start_time": "2025-03-28T14:43:37.213Z"
   },
   {
    "duration": 54,
    "start_time": "2025-03-28T14:43:37.323Z"
   },
   {
    "duration": 7,
    "start_time": "2025-03-28T14:43:37.378Z"
   },
   {
    "duration": 557,
    "start_time": "2025-03-28T14:43:37.387Z"
   },
   {
    "duration": 14,
    "start_time": "2025-03-28T14:44:10.395Z"
   },
   {
    "duration": 15,
    "start_time": "2025-03-28T14:44:18.071Z"
   },
   {
    "duration": 10921,
    "start_time": "2025-03-28T14:44:22.014Z"
   },
   {
    "duration": 3801,
    "start_time": "2025-03-28T14:44:32.938Z"
   },
   {
    "duration": 8,
    "start_time": "2025-03-28T14:44:36.742Z"
   },
   {
    "duration": 228,
    "start_time": "2025-03-28T14:44:36.763Z"
   },
   {
    "duration": 33,
    "start_time": "2025-03-28T14:44:36.992Z"
   },
   {
    "duration": 143,
    "start_time": "2025-03-28T14:44:37.027Z"
   },
   {
    "duration": 29,
    "start_time": "2025-03-28T14:44:37.171Z"
   },
   {
    "duration": 24,
    "start_time": "2025-03-28T14:44:37.201Z"
   },
   {
    "duration": 435,
    "start_time": "2025-03-28T14:44:37.227Z"
   },
   {
    "duration": 370,
    "start_time": "2025-03-28T14:44:37.664Z"
   },
   {
    "duration": 105,
    "start_time": "2025-03-28T14:44:38.035Z"
   },
   {
    "duration": 53,
    "start_time": "2025-03-28T14:44:38.142Z"
   },
   {
    "duration": 28,
    "start_time": "2025-03-28T14:44:38.197Z"
   },
   {
    "duration": 479,
    "start_time": "2025-03-28T14:44:38.226Z"
   },
   {
    "duration": 96,
    "start_time": "2025-03-28T14:45:24.335Z"
   },
   {
    "duration": 490,
    "start_time": "2025-03-28T14:45:42.151Z"
   },
   {
    "duration": 104,
    "start_time": "2025-03-28T14:48:27.796Z"
   },
   {
    "duration": 76,
    "start_time": "2025-03-28T14:48:32.196Z"
   },
   {
    "duration": 2187,
    "start_time": "2025-03-28T14:48:41.399Z"
   },
   {
    "duration": 3365,
    "start_time": "2025-03-28T14:48:48.411Z"
   },
   {
    "duration": 1344,
    "start_time": "2025-03-28T14:49:03.770Z"
   },
   {
    "duration": 5984,
    "start_time": "2025-03-28T14:49:14.037Z"
   },
   {
    "duration": 5901,
    "start_time": "2025-03-28T14:49:35.148Z"
   },
   {
    "duration": 5761,
    "start_time": "2025-03-28T14:49:59.470Z"
   },
   {
    "duration": 6053,
    "start_time": "2025-03-28T14:50:14.761Z"
   },
   {
    "duration": 5772,
    "start_time": "2025-03-28T14:50:39.002Z"
   },
   {
    "duration": 24,
    "start_time": "2025-03-28T14:51:13.561Z"
   },
   {
    "duration": 5617,
    "start_time": "2025-03-28T14:51:27.420Z"
   },
   {
    "duration": 5831,
    "start_time": "2025-03-28T14:51:43.557Z"
   },
   {
    "duration": 5844,
    "start_time": "2025-03-28T14:52:11.273Z"
   },
   {
    "duration": 10111,
    "start_time": "2025-03-28T14:53:08.960Z"
   },
   {
    "duration": 3924,
    "start_time": "2025-03-28T14:53:19.073Z"
   },
   {
    "duration": 9,
    "start_time": "2025-03-28T14:53:22.999Z"
   },
   {
    "duration": 212,
    "start_time": "2025-03-28T14:53:23.010Z"
   },
   {
    "duration": 47,
    "start_time": "2025-03-28T14:53:23.225Z"
   },
   {
    "duration": 164,
    "start_time": "2025-03-28T14:53:23.274Z"
   },
   {
    "duration": 33,
    "start_time": "2025-03-28T14:53:23.439Z"
   },
   {
    "duration": 12,
    "start_time": "2025-03-28T14:53:23.474Z"
   },
   {
    "duration": 431,
    "start_time": "2025-03-28T14:53:23.488Z"
   },
   {
    "duration": 367,
    "start_time": "2025-03-28T14:53:23.920Z"
   },
   {
    "duration": 104,
    "start_time": "2025-03-28T14:53:24.289Z"
   },
   {
    "duration": 41,
    "start_time": "2025-03-28T14:53:24.395Z"
   },
   {
    "duration": 24,
    "start_time": "2025-03-28T14:53:24.438Z"
   },
   {
    "duration": 5864,
    "start_time": "2025-03-28T14:53:24.465Z"
   },
   {
    "duration": 6092,
    "start_time": "2025-03-28T14:54:12.501Z"
   },
   {
    "duration": 5939,
    "start_time": "2025-03-28T14:55:01.317Z"
   },
   {
    "duration": 5871,
    "start_time": "2025-03-28T14:55:21.003Z"
   },
   {
    "duration": 5953,
    "start_time": "2025-03-28T14:55:36.831Z"
   },
   {
    "duration": 0,
    "start_time": "2025-03-28T14:56:41.422Z"
   },
   {
    "duration": 343,
    "start_time": "2025-03-28T14:57:16.285Z"
   },
   {
    "duration": 7217,
    "start_time": "2025-03-28T14:57:40.034Z"
   },
   {
    "duration": 6117,
    "start_time": "2025-03-28T14:58:30.221Z"
   },
   {
    "duration": 6034,
    "start_time": "2025-03-28T14:58:50.231Z"
   },
   {
    "duration": 6076,
    "start_time": "2025-03-28T14:59:03.158Z"
   },
   {
    "duration": 6251,
    "start_time": "2025-03-28T15:04:21.601Z"
   },
   {
    "duration": 88,
    "start_time": "2025-03-28T15:04:46.972Z"
   },
   {
    "duration": 5916,
    "start_time": "2025-03-28T15:04:50.799Z"
   },
   {
    "duration": 14486,
    "start_time": "2025-03-28T15:05:01.855Z"
   },
   {
    "duration": 4118,
    "start_time": "2025-03-28T15:05:16.343Z"
   },
   {
    "duration": 8,
    "start_time": "2025-03-28T15:05:20.463Z"
   },
   {
    "duration": 309,
    "start_time": "2025-03-28T15:05:20.472Z"
   },
   {
    "duration": 35,
    "start_time": "2025-03-28T15:05:20.784Z"
   },
   {
    "duration": 149,
    "start_time": "2025-03-28T15:05:20.820Z"
   },
   {
    "duration": 29,
    "start_time": "2025-03-28T15:05:20.970Z"
   },
   {
    "duration": 22,
    "start_time": "2025-03-28T15:05:21.000Z"
   },
   {
    "duration": 399,
    "start_time": "2025-03-28T15:05:21.024Z"
   },
   {
    "duration": 378,
    "start_time": "2025-03-28T15:05:21.425Z"
   },
   {
    "duration": 116,
    "start_time": "2025-03-28T15:05:21.805Z"
   },
   {
    "duration": 51,
    "start_time": "2025-03-28T15:05:21.923Z"
   },
   {
    "duration": 7,
    "start_time": "2025-03-28T15:05:21.975Z"
   },
   {
    "duration": 6284,
    "start_time": "2025-03-28T15:05:21.985Z"
   },
   {
    "duration": 10788,
    "start_time": "2025-03-28T15:06:00.151Z"
   },
   {
    "duration": 3811,
    "start_time": "2025-03-28T15:06:10.940Z"
   },
   {
    "duration": 10,
    "start_time": "2025-03-28T15:06:14.752Z"
   },
   {
    "duration": 275,
    "start_time": "2025-03-28T15:06:14.763Z"
   },
   {
    "duration": 40,
    "start_time": "2025-03-28T15:06:15.040Z"
   },
   {
    "duration": 200,
    "start_time": "2025-03-28T15:06:15.082Z"
   },
   {
    "duration": 27,
    "start_time": "2025-03-28T15:06:15.283Z"
   },
   {
    "duration": 73,
    "start_time": "2025-03-28T15:06:15.312Z"
   },
   {
    "duration": 422,
    "start_time": "2025-03-28T15:06:15.387Z"
   },
   {
    "duration": 369,
    "start_time": "2025-03-28T15:06:15.810Z"
   },
   {
    "duration": 103,
    "start_time": "2025-03-28T15:06:16.180Z"
   },
   {
    "duration": 42,
    "start_time": "2025-03-28T15:06:16.284Z"
   },
   {
    "duration": 46,
    "start_time": "2025-03-28T15:06:16.328Z"
   },
   {
    "duration": 5911,
    "start_time": "2025-03-28T15:06:16.377Z"
   },
   {
    "duration": 5903,
    "start_time": "2025-03-28T15:06:41.579Z"
   },
   {
    "duration": 5831,
    "start_time": "2025-03-28T15:06:53.732Z"
   },
   {
    "duration": 5918,
    "start_time": "2025-03-28T15:07:12.082Z"
   },
   {
    "duration": 11533,
    "start_time": "2025-03-28T15:07:54.255Z"
   },
   {
    "duration": 3843,
    "start_time": "2025-03-28T15:08:05.790Z"
   },
   {
    "duration": 9,
    "start_time": "2025-03-28T15:08:09.636Z"
   },
   {
    "duration": 219,
    "start_time": "2025-03-28T15:08:09.647Z"
   },
   {
    "duration": 32,
    "start_time": "2025-03-28T15:08:09.868Z"
   },
   {
    "duration": 138,
    "start_time": "2025-03-28T15:08:09.901Z"
   },
   {
    "duration": 82,
    "start_time": "2025-03-28T15:08:10.041Z"
   },
   {
    "duration": 25,
    "start_time": "2025-03-28T15:08:10.125Z"
   },
   {
    "duration": 421,
    "start_time": "2025-03-28T15:08:10.152Z"
   },
   {
    "duration": 372,
    "start_time": "2025-03-28T15:08:10.575Z"
   },
   {
    "duration": 106,
    "start_time": "2025-03-28T15:08:10.948Z"
   },
   {
    "duration": 41,
    "start_time": "2025-03-28T15:08:11.062Z"
   },
   {
    "duration": 7,
    "start_time": "2025-03-28T15:08:11.105Z"
   },
   {
    "duration": 6277,
    "start_time": "2025-03-28T15:08:11.113Z"
   },
   {
    "duration": 6184,
    "start_time": "2025-03-28T15:09:02.654Z"
   },
   {
    "duration": 78,
    "start_time": "2025-03-28T15:11:53.894Z"
   },
   {
    "duration": 7486,
    "start_time": "2025-03-28T15:11:57.178Z"
   },
   {
    "duration": 6248,
    "start_time": "2025-03-28T15:12:32.331Z"
   },
   {
    "duration": 0,
    "start_time": "2025-03-28T15:13:56.872Z"
   },
   {
    "duration": 10117,
    "start_time": "2025-03-28T15:14:04.968Z"
   },
   {
    "duration": 4564,
    "start_time": "2025-03-28T15:14:15.087Z"
   },
   {
    "duration": 10,
    "start_time": "2025-03-28T15:14:19.653Z"
   },
   {
    "duration": 198,
    "start_time": "2025-03-28T15:14:19.664Z"
   },
   {
    "duration": 33,
    "start_time": "2025-03-28T15:14:19.864Z"
   },
   {
    "duration": 135,
    "start_time": "2025-03-28T15:14:19.898Z"
   },
   {
    "duration": 39,
    "start_time": "2025-03-28T15:14:20.034Z"
   },
   {
    "duration": 11,
    "start_time": "2025-03-28T15:14:20.074Z"
   },
   {
    "duration": 415,
    "start_time": "2025-03-28T15:14:20.086Z"
   },
   {
    "duration": 389,
    "start_time": "2025-03-28T15:14:20.503Z"
   },
   {
    "duration": 118,
    "start_time": "2025-03-28T15:14:20.894Z"
   },
   {
    "duration": 53,
    "start_time": "2025-03-28T15:14:21.014Z"
   },
   {
    "duration": 6,
    "start_time": "2025-03-28T15:14:21.070Z"
   },
   {
    "duration": 5863,
    "start_time": "2025-03-28T15:14:21.078Z"
   },
   {
    "duration": 5914,
    "start_time": "2025-03-28T15:14:35.262Z"
   },
   {
    "duration": 5892,
    "start_time": "2025-03-28T15:16:05.823Z"
   },
   {
    "duration": 9743,
    "start_time": "2025-03-28T15:18:53.682Z"
   },
   {
    "duration": 4185,
    "start_time": "2025-03-28T15:19:03.427Z"
   },
   {
    "duration": 8,
    "start_time": "2025-03-28T15:19:07.614Z"
   },
   {
    "duration": 197,
    "start_time": "2025-03-28T15:19:07.624Z"
   },
   {
    "duration": 46,
    "start_time": "2025-03-28T15:19:07.824Z"
   },
   {
    "duration": 130,
    "start_time": "2025-03-28T15:19:07.872Z"
   },
   {
    "duration": 29,
    "start_time": "2025-03-28T15:19:08.004Z"
   },
   {
    "duration": 29,
    "start_time": "2025-03-28T15:19:08.034Z"
   },
   {
    "duration": 407,
    "start_time": "2025-03-28T15:19:08.065Z"
   },
   {
    "duration": 376,
    "start_time": "2025-03-28T15:19:08.474Z"
   },
   {
    "duration": 113,
    "start_time": "2025-03-28T15:19:08.852Z"
   },
   {
    "duration": 42,
    "start_time": "2025-03-28T15:19:08.967Z"
   },
   {
    "duration": 7,
    "start_time": "2025-03-28T15:19:09.010Z"
   },
   {
    "duration": 6042,
    "start_time": "2025-03-28T15:19:09.020Z"
   },
   {
    "duration": 10012,
    "start_time": "2025-03-28T15:20:13.477Z"
   },
   {
    "duration": 3876,
    "start_time": "2025-03-28T15:20:23.491Z"
   },
   {
    "duration": 7,
    "start_time": "2025-03-28T15:20:27.369Z"
   },
   {
    "duration": 232,
    "start_time": "2025-03-28T15:20:27.378Z"
   },
   {
    "duration": 34,
    "start_time": "2025-03-28T15:20:27.612Z"
   },
   {
    "duration": 142,
    "start_time": "2025-03-28T15:20:27.648Z"
   },
   {
    "duration": 29,
    "start_time": "2025-03-28T15:20:27.792Z"
   },
   {
    "duration": 11,
    "start_time": "2025-03-28T15:20:27.822Z"
   },
   {
    "duration": 414,
    "start_time": "2025-03-28T15:20:27.834Z"
   },
   {
    "duration": 372,
    "start_time": "2025-03-28T15:20:28.250Z"
   },
   {
    "duration": 108,
    "start_time": "2025-03-28T15:20:28.624Z"
   },
   {
    "duration": 49,
    "start_time": "2025-03-28T15:20:28.734Z"
   },
   {
    "duration": 45,
    "start_time": "2025-03-28T15:20:28.785Z"
   },
   {
    "duration": 5928,
    "start_time": "2025-03-28T15:20:28.832Z"
   },
   {
    "duration": 10532,
    "start_time": "2025-03-28T15:20:49.060Z"
   },
   {
    "duration": 4276,
    "start_time": "2025-03-28T15:20:59.595Z"
   },
   {
    "duration": 9,
    "start_time": "2025-03-28T15:21:03.874Z"
   },
   {
    "duration": 210,
    "start_time": "2025-03-28T15:21:03.884Z"
   },
   {
    "duration": 31,
    "start_time": "2025-03-28T15:21:04.096Z"
   },
   {
    "duration": 160,
    "start_time": "2025-03-28T15:21:04.128Z"
   },
   {
    "duration": 26,
    "start_time": "2025-03-28T15:21:04.290Z"
   },
   {
    "duration": 53,
    "start_time": "2025-03-28T15:21:04.318Z"
   },
   {
    "duration": 489,
    "start_time": "2025-03-28T15:21:04.373Z"
   },
   {
    "duration": 367,
    "start_time": "2025-03-28T15:21:04.863Z"
   },
   {
    "duration": 105,
    "start_time": "2025-03-28T15:21:05.231Z"
   },
   {
    "duration": 49,
    "start_time": "2025-03-28T15:21:05.338Z"
   },
   {
    "duration": 6,
    "start_time": "2025-03-28T15:21:05.389Z"
   },
   {
    "duration": 5942,
    "start_time": "2025-03-28T15:21:05.398Z"
   },
   {
    "duration": 9751,
    "start_time": "2025-03-28T15:28:09.581Z"
   },
   {
    "duration": 4727,
    "start_time": "2025-03-28T15:28:19.334Z"
   },
   {
    "duration": 8,
    "start_time": "2025-03-28T15:28:24.063Z"
   },
   {
    "duration": 203,
    "start_time": "2025-03-28T15:28:24.073Z"
   },
   {
    "duration": 33,
    "start_time": "2025-03-28T15:28:24.278Z"
   },
   {
    "duration": 135,
    "start_time": "2025-03-28T15:28:24.312Z"
   },
   {
    "duration": 38,
    "start_time": "2025-03-28T15:28:24.449Z"
   },
   {
    "duration": 9,
    "start_time": "2025-03-28T15:28:24.489Z"
   },
   {
    "duration": 403,
    "start_time": "2025-03-28T15:28:24.500Z"
   },
   {
    "duration": 371,
    "start_time": "2025-03-28T15:28:24.904Z"
   },
   {
    "duration": 111,
    "start_time": "2025-03-28T15:28:25.277Z"
   },
   {
    "duration": 42,
    "start_time": "2025-03-28T15:28:25.390Z"
   },
   {
    "duration": 6,
    "start_time": "2025-03-28T15:28:25.434Z"
   },
   {
    "duration": 24,
    "start_time": "2025-03-28T15:28:25.442Z"
   },
   {
    "duration": 5916,
    "start_time": "2025-03-28T15:28:25.467Z"
   },
   {
    "duration": 1459,
    "start_time": "2025-03-28T15:33:35.204Z"
   },
   {
    "duration": 769,
    "start_time": "2025-03-28T15:33:39.499Z"
   },
   {
    "duration": 10149,
    "start_time": "2025-03-28T15:34:15.036Z"
   },
   {
    "duration": 4140,
    "start_time": "2025-03-28T15:34:25.187Z"
   },
   {
    "duration": 780,
    "start_time": "2025-03-28T15:34:29.329Z"
   },
   {
    "duration": 9,
    "start_time": "2025-03-28T15:34:30.111Z"
   },
   {
    "duration": 265,
    "start_time": "2025-03-28T15:34:30.123Z"
   },
   {
    "duration": 32,
    "start_time": "2025-03-28T15:34:30.390Z"
   },
   {
    "duration": 241,
    "start_time": "2025-03-28T15:34:30.424Z"
   },
   {
    "duration": 29,
    "start_time": "2025-03-28T15:34:30.667Z"
   },
   {
    "duration": 128,
    "start_time": "2025-03-28T15:34:30.698Z"
   },
   {
    "duration": 492,
    "start_time": "2025-03-28T15:34:30.828Z"
   },
   {
    "duration": 393,
    "start_time": "2025-03-28T15:34:31.323Z"
   },
   {
    "duration": 107,
    "start_time": "2025-03-28T15:34:31.718Z"
   },
   {
    "duration": 49,
    "start_time": "2025-03-28T15:34:31.826Z"
   },
   {
    "duration": 7,
    "start_time": "2025-03-28T15:34:31.878Z"
   },
   {
    "duration": 39,
    "start_time": "2025-03-28T15:34:31.887Z"
   },
   {
    "duration": 6042,
    "start_time": "2025-03-28T15:34:31.928Z"
   },
   {
    "duration": 622,
    "start_time": "2025-03-28T15:35:04.416Z"
   },
   {
    "duration": 995,
    "start_time": "2025-03-28T15:35:13.562Z"
   },
   {
    "duration": 9677,
    "start_time": "2025-03-28T15:38:35.468Z"
   },
   {
    "duration": 4452,
    "start_time": "2025-03-28T15:38:45.147Z"
   },
   {
    "duration": 88,
    "start_time": "2025-03-28T15:38:49.601Z"
   },
   {
    "duration": 0,
    "start_time": "2025-03-28T15:38:49.691Z"
   },
   {
    "duration": 0,
    "start_time": "2025-03-28T15:38:49.692Z"
   },
   {
    "duration": 0,
    "start_time": "2025-03-28T15:38:49.694Z"
   },
   {
    "duration": 0,
    "start_time": "2025-03-28T15:38:49.694Z"
   },
   {
    "duration": 1,
    "start_time": "2025-03-28T15:38:49.695Z"
   },
   {
    "duration": 0,
    "start_time": "2025-03-28T15:38:49.697Z"
   },
   {
    "duration": 0,
    "start_time": "2025-03-28T15:38:49.698Z"
   },
   {
    "duration": 0,
    "start_time": "2025-03-28T15:38:49.699Z"
   },
   {
    "duration": 0,
    "start_time": "2025-03-28T15:38:49.700Z"
   },
   {
    "duration": 0,
    "start_time": "2025-03-28T15:38:49.702Z"
   },
   {
    "duration": 0,
    "start_time": "2025-03-28T15:38:49.702Z"
   },
   {
    "duration": 0,
    "start_time": "2025-03-28T15:38:49.703Z"
   },
   {
    "duration": 0,
    "start_time": "2025-03-28T15:38:49.705Z"
   },
   {
    "duration": 15,
    "start_time": "2025-03-28T15:39:40.595Z"
   },
   {
    "duration": 9630,
    "start_time": "2025-03-28T15:39:46.867Z"
   },
   {
    "duration": 4524,
    "start_time": "2025-03-28T15:39:56.499Z"
   },
   {
    "duration": 87,
    "start_time": "2025-03-28T15:40:01.028Z"
   },
   {
    "duration": 0,
    "start_time": "2025-03-28T15:40:01.119Z"
   },
   {
    "duration": 0,
    "start_time": "2025-03-28T15:40:01.120Z"
   },
   {
    "duration": 0,
    "start_time": "2025-03-28T15:40:01.121Z"
   },
   {
    "duration": 0,
    "start_time": "2025-03-28T15:40:01.123Z"
   },
   {
    "duration": 0,
    "start_time": "2025-03-28T15:40:01.124Z"
   },
   {
    "duration": 0,
    "start_time": "2025-03-28T15:40:01.126Z"
   },
   {
    "duration": 0,
    "start_time": "2025-03-28T15:40:01.127Z"
   },
   {
    "duration": 0,
    "start_time": "2025-03-28T15:40:01.129Z"
   },
   {
    "duration": 0,
    "start_time": "2025-03-28T15:40:01.130Z"
   },
   {
    "duration": 0,
    "start_time": "2025-03-28T15:40:01.132Z"
   },
   {
    "duration": 0,
    "start_time": "2025-03-28T15:40:01.133Z"
   },
   {
    "duration": 0,
    "start_time": "2025-03-28T15:40:01.163Z"
   },
   {
    "duration": 11,
    "start_time": "2025-03-28T15:40:24.245Z"
   },
   {
    "duration": 10097,
    "start_time": "2025-03-28T15:40:41.170Z"
   },
   {
    "duration": 4833,
    "start_time": "2025-03-28T15:40:51.268Z"
   },
   {
    "duration": 80,
    "start_time": "2025-03-28T15:40:56.103Z"
   },
   {
    "duration": 0,
    "start_time": "2025-03-28T15:40:56.185Z"
   },
   {
    "duration": 0,
    "start_time": "2025-03-28T15:40:56.186Z"
   },
   {
    "duration": 0,
    "start_time": "2025-03-28T15:40:56.187Z"
   },
   {
    "duration": 0,
    "start_time": "2025-03-28T15:40:56.188Z"
   },
   {
    "duration": 0,
    "start_time": "2025-03-28T15:40:56.190Z"
   },
   {
    "duration": 0,
    "start_time": "2025-03-28T15:40:56.190Z"
   },
   {
    "duration": 0,
    "start_time": "2025-03-28T15:40:56.191Z"
   },
   {
    "duration": 0,
    "start_time": "2025-03-28T15:40:56.192Z"
   },
   {
    "duration": 0,
    "start_time": "2025-03-28T15:40:56.193Z"
   },
   {
    "duration": 0,
    "start_time": "2025-03-28T15:40:56.194Z"
   },
   {
    "duration": 0,
    "start_time": "2025-03-28T15:40:56.195Z"
   },
   {
    "duration": 0,
    "start_time": "2025-03-28T15:40:56.196Z"
   },
   {
    "duration": 11,
    "start_time": "2025-03-28T15:41:10.002Z"
   },
   {
    "duration": 1017,
    "start_time": "2025-03-28T15:41:13.207Z"
   },
   {
    "duration": 9661,
    "start_time": "2025-03-28T15:41:19.071Z"
   },
   {
    "duration": 3777,
    "start_time": "2025-03-28T15:41:28.734Z"
   },
   {
    "duration": 1030,
    "start_time": "2025-03-28T15:41:32.512Z"
   },
   {
    "duration": 8,
    "start_time": "2025-03-28T15:41:33.544Z"
   },
   {
    "duration": 529,
    "start_time": "2025-03-28T15:41:33.563Z"
   },
   {
    "duration": 298,
    "start_time": "2025-03-28T15:41:34.094Z"
   },
   {
    "duration": 294,
    "start_time": "2025-03-28T15:41:34.394Z"
   },
   {
    "duration": 298,
    "start_time": "2025-03-28T15:41:34.690Z"
   },
   {
    "duration": 2458,
    "start_time": "2025-03-28T15:41:34.990Z"
   },
   {
    "duration": 1187,
    "start_time": "2025-03-28T15:41:37.451Z"
   },
   {
    "duration": 160,
    "start_time": "2025-03-28T15:41:38.640Z"
   },
   {
    "duration": 45,
    "start_time": "2025-03-28T15:41:38.802Z"
   },
   {
    "duration": 16,
    "start_time": "2025-03-28T15:41:38.861Z"
   },
   {
    "duration": 25,
    "start_time": "2025-03-28T15:41:38.880Z"
   },
   {
    "duration": 5922,
    "start_time": "2025-03-28T15:41:38.907Z"
   },
   {
    "duration": 250,
    "start_time": "2025-03-28T15:42:09.829Z"
   },
   {
    "duration": 1072,
    "start_time": "2025-03-28T15:42:44.835Z"
   },
   {
    "duration": 1019,
    "start_time": "2025-03-28T15:42:58.845Z"
   },
   {
    "duration": 1424,
    "start_time": "2025-03-28T15:45:12.551Z"
   },
   {
    "duration": 1341,
    "start_time": "2025-03-28T15:45:21.586Z"
   },
   {
    "duration": 1344,
    "start_time": "2025-03-28T15:45:50.675Z"
   },
   {
    "duration": 9854,
    "start_time": "2025-03-28T15:46:38.563Z"
   },
   {
    "duration": 3794,
    "start_time": "2025-03-28T15:46:48.419Z"
   },
   {
    "duration": 1482,
    "start_time": "2025-03-28T15:46:52.215Z"
   },
   {
    "duration": 10,
    "start_time": "2025-03-28T15:46:53.699Z"
   },
   {
    "duration": 114,
    "start_time": "2025-03-28T15:46:53.712Z"
   },
   {
    "duration": 0,
    "start_time": "2025-03-28T15:46:53.828Z"
   },
   {
    "duration": 0,
    "start_time": "2025-03-28T15:46:53.830Z"
   },
   {
    "duration": 0,
    "start_time": "2025-03-28T15:46:53.832Z"
   },
   {
    "duration": 0,
    "start_time": "2025-03-28T15:46:53.833Z"
   },
   {
    "duration": 0,
    "start_time": "2025-03-28T15:46:53.835Z"
   },
   {
    "duration": 0,
    "start_time": "2025-03-28T15:46:53.837Z"
   },
   {
    "duration": 0,
    "start_time": "2025-03-28T15:46:53.838Z"
   },
   {
    "duration": 0,
    "start_time": "2025-03-28T15:46:53.840Z"
   },
   {
    "duration": 0,
    "start_time": "2025-03-28T15:46:53.863Z"
   },
   {
    "duration": 0,
    "start_time": "2025-03-28T15:46:53.865Z"
   },
   {
    "duration": 330,
    "start_time": "2025-03-28T15:47:04.732Z"
   },
   {
    "duration": 9809,
    "start_time": "2025-03-28T15:47:07.642Z"
   },
   {
    "duration": 5119,
    "start_time": "2025-03-28T15:47:17.454Z"
   },
   {
    "duration": 1463,
    "start_time": "2025-03-28T15:47:22.574Z"
   },
   {
    "duration": 8,
    "start_time": "2025-03-28T15:47:24.039Z"
   },
   {
    "duration": 322,
    "start_time": "2025-03-28T15:47:24.062Z"
   },
   {
    "duration": 276,
    "start_time": "2025-03-28T15:47:24.386Z"
   },
   {
    "duration": 275,
    "start_time": "2025-03-28T15:47:24.663Z"
   },
   {
    "duration": 293,
    "start_time": "2025-03-28T15:47:24.940Z"
   },
   {
    "duration": 2111,
    "start_time": "2025-03-28T15:47:25.235Z"
   },
   {
    "duration": 854,
    "start_time": "2025-03-28T15:47:27.347Z"
   },
   {
    "duration": 151,
    "start_time": "2025-03-28T15:47:28.203Z"
   },
   {
    "duration": 46,
    "start_time": "2025-03-28T15:47:28.356Z"
   },
   {
    "duration": 6,
    "start_time": "2025-03-28T15:47:28.404Z"
   },
   {
    "duration": 3,
    "start_time": "2025-03-28T15:47:28.413Z"
   },
   {
    "duration": 4524,
    "start_time": "2025-03-28T15:47:28.417Z"
   },
   {
    "duration": 4966,
    "start_time": "2025-03-28T15:48:16.059Z"
   },
   {
    "duration": 249,
    "start_time": "2025-03-28T15:49:26.320Z"
   },
   {
    "duration": 9696,
    "start_time": "2025-03-28T15:50:15.274Z"
   },
   {
    "duration": 3902,
    "start_time": "2025-03-28T15:50:24.972Z"
   },
   {
    "duration": 1460,
    "start_time": "2025-03-28T15:50:28.875Z"
   },
   {
    "duration": 8,
    "start_time": "2025-03-28T15:50:30.337Z"
   },
   {
    "duration": 350,
    "start_time": "2025-03-28T15:50:30.347Z"
   },
   {
    "duration": 64,
    "start_time": "2025-03-28T15:50:30.699Z"
   },
   {
    "duration": 269,
    "start_time": "2025-03-28T15:50:30.765Z"
   },
   {
    "duration": 300,
    "start_time": "2025-03-28T15:50:31.036Z"
   },
   {
    "duration": 278,
    "start_time": "2025-03-28T15:50:31.338Z"
   },
   {
    "duration": 2195,
    "start_time": "2025-03-28T15:50:31.618Z"
   },
   {
    "duration": 883,
    "start_time": "2025-03-28T15:50:33.814Z"
   },
   {
    "duration": 146,
    "start_time": "2025-03-28T15:50:34.698Z"
   },
   {
    "duration": 49,
    "start_time": "2025-03-28T15:50:34.846Z"
   },
   {
    "duration": 6,
    "start_time": "2025-03-28T15:50:34.898Z"
   },
   {
    "duration": 59,
    "start_time": "2025-03-28T15:50:34.906Z"
   },
   {
    "duration": 4934,
    "start_time": "2025-03-28T15:50:34.966Z"
   },
   {
    "duration": 9923,
    "start_time": "2025-03-28T15:52:47.613Z"
   },
   {
    "duration": 3749,
    "start_time": "2025-03-28T15:52:57.538Z"
   },
   {
    "duration": 1462,
    "start_time": "2025-03-28T15:53:01.289Z"
   },
   {
    "duration": 12,
    "start_time": "2025-03-28T15:53:02.753Z"
   },
   {
    "duration": 379,
    "start_time": "2025-03-28T15:53:02.767Z"
   },
   {
    "duration": 281,
    "start_time": "2025-03-28T15:53:03.148Z"
   },
   {
    "duration": 293,
    "start_time": "2025-03-28T15:53:03.431Z"
   },
   {
    "duration": 307,
    "start_time": "2025-03-28T15:53:03.726Z"
   },
   {
    "duration": 2243,
    "start_time": "2025-03-28T15:53:04.034Z"
   },
   {
    "duration": 869,
    "start_time": "2025-03-28T15:53:06.279Z"
   },
   {
    "duration": 151,
    "start_time": "2025-03-28T15:53:07.150Z"
   },
   {
    "duration": 42,
    "start_time": "2025-03-28T15:53:07.302Z"
   },
   {
    "duration": 23,
    "start_time": "2025-03-28T15:53:07.346Z"
   },
   {
    "duration": 21,
    "start_time": "2025-03-28T15:53:07.371Z"
   },
   {
    "duration": 4804,
    "start_time": "2025-03-28T15:53:07.395Z"
   },
   {
    "duration": 9779,
    "start_time": "2025-03-28T15:54:35.705Z"
   },
   {
    "duration": 3867,
    "start_time": "2025-03-28T15:54:45.487Z"
   },
   {
    "duration": 1461,
    "start_time": "2025-03-28T15:54:49.356Z"
   },
   {
    "duration": 280,
    "start_time": "2025-03-28T15:54:50.819Z"
   },
   {
    "duration": 279,
    "start_time": "2025-03-28T15:54:51.101Z"
   },
   {
    "duration": 285,
    "start_time": "2025-03-28T15:54:51.382Z"
   },
   {
    "duration": 2010,
    "start_time": "2025-03-28T15:54:51.669Z"
   },
   {
    "duration": 803,
    "start_time": "2025-03-28T15:54:53.681Z"
   },
   {
    "duration": 156,
    "start_time": "2025-03-28T15:54:54.485Z"
   },
   {
    "duration": 51,
    "start_time": "2025-03-28T15:54:54.643Z"
   },
   {
    "duration": 24,
    "start_time": "2025-03-28T15:54:54.696Z"
   },
   {
    "duration": 10,
    "start_time": "2025-03-28T15:54:54.721Z"
   },
   {
    "duration": 4907,
    "start_time": "2025-03-28T15:54:54.732Z"
   },
   {
    "duration": 8,
    "start_time": "2025-03-28T15:54:59.641Z"
   },
   {
    "duration": 393,
    "start_time": "2025-03-28T15:54:59.662Z"
   },
   {
    "duration": 4204,
    "start_time": "2025-03-28T16:00:11.185Z"
   },
   {
    "duration": 10328,
    "start_time": "2025-03-28T16:00:32.650Z"
   },
   {
    "duration": 3854,
    "start_time": "2025-03-28T16:00:42.980Z"
   },
   {
    "duration": 1433,
    "start_time": "2025-03-28T16:00:46.835Z"
   },
   {
    "duration": 277,
    "start_time": "2025-03-28T16:00:48.270Z"
   },
   {
    "duration": 304,
    "start_time": "2025-03-28T16:00:48.562Z"
   },
   {
    "duration": 281,
    "start_time": "2025-03-28T16:00:48.868Z"
   },
   {
    "duration": 2237,
    "start_time": "2025-03-28T16:00:49.151Z"
   },
   {
    "duration": 838,
    "start_time": "2025-03-28T16:00:51.390Z"
   },
   {
    "duration": 173,
    "start_time": "2025-03-28T16:00:52.230Z"
   },
   {
    "duration": 44,
    "start_time": "2025-03-28T16:00:52.405Z"
   },
   {
    "duration": 19,
    "start_time": "2025-03-28T16:00:52.450Z"
   },
   {
    "duration": 126,
    "start_time": "2025-03-28T16:00:52.471Z"
   },
   {
    "duration": 4978,
    "start_time": "2025-03-28T16:00:52.598Z"
   },
   {
    "duration": 8,
    "start_time": "2025-03-28T16:00:57.578Z"
   },
   {
    "duration": 366,
    "start_time": "2025-03-28T16:00:57.587Z"
   },
   {
    "duration": 10282,
    "start_time": "2025-03-28T16:01:45.320Z"
   },
   {
    "duration": 10554,
    "start_time": "2025-03-28T16:02:00.458Z"
   },
   {
    "duration": 3911,
    "start_time": "2025-03-28T16:02:11.014Z"
   },
   {
    "duration": 429,
    "start_time": "2025-03-28T16:02:14.927Z"
   },
   {
    "duration": 25,
    "start_time": "2025-03-28T16:02:15.358Z"
   },
   {
    "duration": 1448,
    "start_time": "2025-03-28T16:02:15.386Z"
   },
   {
    "duration": 277,
    "start_time": "2025-03-28T16:02:16.836Z"
   },
   {
    "duration": 281,
    "start_time": "2025-03-28T16:02:17.115Z"
   },
   {
    "duration": 305,
    "start_time": "2025-03-28T16:02:17.397Z"
   },
   {
    "duration": 2048,
    "start_time": "2025-03-28T16:02:17.703Z"
   },
   {
    "duration": 791,
    "start_time": "2025-03-28T16:02:19.753Z"
   },
   {
    "duration": 157,
    "start_time": "2025-03-28T16:02:20.546Z"
   },
   {
    "duration": 45,
    "start_time": "2025-03-28T16:02:20.704Z"
   },
   {
    "duration": 37,
    "start_time": "2025-03-28T16:02:20.750Z"
   },
   {
    "duration": 3,
    "start_time": "2025-03-28T16:02:20.790Z"
   },
   {
    "duration": 5075,
    "start_time": "2025-03-28T16:02:20.795Z"
   },
   {
    "duration": 7,
    "start_time": "2025-03-28T16:02:25.872Z"
   },
   {
    "duration": 401,
    "start_time": "2025-03-28T16:02:25.881Z"
   },
   {
    "duration": 286,
    "start_time": "2025-03-28T16:08:44.432Z"
   },
   {
    "duration": 57,
    "start_time": "2025-03-28T16:08:45.731Z"
   },
   {
    "duration": 284,
    "start_time": "2025-03-28T16:08:46.748Z"
   },
   {
    "duration": 10106,
    "start_time": "2025-03-28T16:09:09.024Z"
   },
   {
    "duration": 3387,
    "start_time": "2025-03-28T16:09:19.132Z"
   },
   {
    "duration": 413,
    "start_time": "2025-03-28T16:09:22.520Z"
   },
   {
    "duration": 15,
    "start_time": "2025-03-28T16:09:22.935Z"
   },
   {
    "duration": 1568,
    "start_time": "2025-03-28T16:09:22.963Z"
   },
   {
    "duration": 279,
    "start_time": "2025-03-28T16:09:24.532Z"
   },
   {
    "duration": 61,
    "start_time": "2025-03-28T16:09:24.812Z"
   },
   {
    "duration": 326,
    "start_time": "2025-03-28T16:09:24.875Z"
   },
   {
    "duration": 2017,
    "start_time": "2025-03-28T16:09:25.202Z"
   },
   {
    "duration": 811,
    "start_time": "2025-03-28T16:09:27.221Z"
   },
   {
    "duration": 154,
    "start_time": "2025-03-28T16:09:28.034Z"
   },
   {
    "duration": 43,
    "start_time": "2025-03-28T16:09:28.190Z"
   },
   {
    "duration": 7,
    "start_time": "2025-03-28T16:09:28.235Z"
   },
   {
    "duration": 7,
    "start_time": "2025-03-28T16:09:28.261Z"
   },
   {
    "duration": 4899,
    "start_time": "2025-03-28T16:09:28.270Z"
   },
   {
    "duration": 8,
    "start_time": "2025-03-28T16:09:33.171Z"
   },
   {
    "duration": 435,
    "start_time": "2025-03-28T16:09:33.181Z"
   },
   {
    "duration": 25,
    "start_time": "2025-03-28T16:09:33.618Z"
   },
   {
    "duration": 24,
    "start_time": "2025-03-28T16:09:34.131Z"
   },
   {
    "duration": 10971,
    "start_time": "2025-03-28T16:09:49.867Z"
   },
   {
    "duration": 3395,
    "start_time": "2025-03-28T16:10:00.840Z"
   },
   {
    "duration": 417,
    "start_time": "2025-03-28T16:10:04.237Z"
   },
   {
    "duration": 20,
    "start_time": "2025-03-28T16:10:04.656Z"
   },
   {
    "duration": 1458,
    "start_time": "2025-03-28T16:10:04.679Z"
   },
   {
    "duration": 277,
    "start_time": "2025-03-28T16:10:06.139Z"
   },
   {
    "duration": 72,
    "start_time": "2025-03-28T16:10:06.417Z"
   },
   {
    "duration": 33,
    "start_time": "2025-03-28T16:10:06.491Z"
   },
   {
    "duration": 200,
    "start_time": "2025-03-28T16:10:06.526Z"
   },
   {
    "duration": 31,
    "start_time": "2025-03-28T16:10:06.728Z"
   },
   {
    "duration": 1279,
    "start_time": "2025-03-28T16:10:06.760Z"
   },
   {
    "duration": 0,
    "start_time": "2025-03-28T16:10:08.041Z"
   },
   {
    "duration": 0,
    "start_time": "2025-03-28T16:10:08.042Z"
   },
   {
    "duration": 0,
    "start_time": "2025-03-28T16:10:08.044Z"
   },
   {
    "duration": 0,
    "start_time": "2025-03-28T16:10:08.045Z"
   },
   {
    "duration": 0,
    "start_time": "2025-03-28T16:10:08.047Z"
   },
   {
    "duration": 0,
    "start_time": "2025-03-28T16:10:08.048Z"
   },
   {
    "duration": 10474,
    "start_time": "2025-03-28T16:10:34.115Z"
   },
   {
    "duration": 3438,
    "start_time": "2025-03-28T16:10:44.591Z"
   },
   {
    "duration": 417,
    "start_time": "2025-03-28T16:10:48.031Z"
   },
   {
    "duration": 20,
    "start_time": "2025-03-28T16:10:48.450Z"
   },
   {
    "duration": 1431,
    "start_time": "2025-03-28T16:10:48.472Z"
   },
   {
    "duration": 273,
    "start_time": "2025-03-28T16:10:49.905Z"
   },
   {
    "duration": 75,
    "start_time": "2025-03-28T16:10:50.179Z"
   },
   {
    "duration": 0,
    "start_time": "2025-03-28T16:10:50.256Z"
   },
   {
    "duration": 0,
    "start_time": "2025-03-28T16:10:50.257Z"
   },
   {
    "duration": 0,
    "start_time": "2025-03-28T16:10:50.258Z"
   },
   {
    "duration": 0,
    "start_time": "2025-03-28T16:10:50.259Z"
   },
   {
    "duration": 0,
    "start_time": "2025-03-28T16:10:50.260Z"
   },
   {
    "duration": 0,
    "start_time": "2025-03-28T16:10:50.261Z"
   },
   {
    "duration": 0,
    "start_time": "2025-03-28T16:10:50.262Z"
   },
   {
    "duration": 0,
    "start_time": "2025-03-28T16:10:50.263Z"
   },
   {
    "duration": 0,
    "start_time": "2025-03-28T16:10:50.264Z"
   },
   {
    "duration": 0,
    "start_time": "2025-03-28T16:10:50.265Z"
   },
   {
    "duration": 10108,
    "start_time": "2025-03-28T16:11:08.293Z"
   },
   {
    "duration": 4285,
    "start_time": "2025-03-28T16:11:18.403Z"
   },
   {
    "duration": 417,
    "start_time": "2025-03-28T16:11:22.690Z"
   },
   {
    "duration": 15,
    "start_time": "2025-03-28T16:11:23.109Z"
   },
   {
    "duration": 1481,
    "start_time": "2025-03-28T16:11:23.126Z"
   },
   {
    "duration": 274,
    "start_time": "2025-03-28T16:11:24.609Z"
   },
   {
    "duration": 112,
    "start_time": "2025-03-28T16:11:24.885Z"
   },
   {
    "duration": 0,
    "start_time": "2025-03-28T16:11:24.999Z"
   },
   {
    "duration": 0,
    "start_time": "2025-03-28T16:11:25.000Z"
   },
   {
    "duration": 0,
    "start_time": "2025-03-28T16:11:25.001Z"
   },
   {
    "duration": 0,
    "start_time": "2025-03-28T16:11:25.002Z"
   },
   {
    "duration": 0,
    "start_time": "2025-03-28T16:11:25.003Z"
   },
   {
    "duration": 0,
    "start_time": "2025-03-28T16:11:25.004Z"
   },
   {
    "duration": 0,
    "start_time": "2025-03-28T16:11:25.005Z"
   },
   {
    "duration": 0,
    "start_time": "2025-03-28T16:11:25.006Z"
   },
   {
    "duration": 0,
    "start_time": "2025-03-28T16:11:25.007Z"
   },
   {
    "duration": 0,
    "start_time": "2025-03-28T16:11:25.008Z"
   },
   {
    "duration": 116,
    "start_time": "2025-03-28T16:11:51.626Z"
   },
   {
    "duration": 278,
    "start_time": "2025-03-28T16:11:53.341Z"
   },
   {
    "duration": 10306,
    "start_time": "2025-03-28T16:12:00.912Z"
   },
   {
    "duration": 3430,
    "start_time": "2025-03-28T16:12:11.220Z"
   },
   {
    "duration": 418,
    "start_time": "2025-03-28T16:12:14.652Z"
   },
   {
    "duration": 16,
    "start_time": "2025-03-28T16:12:15.072Z"
   },
   {
    "duration": 1511,
    "start_time": "2025-03-28T16:12:15.091Z"
   },
   {
    "duration": 273,
    "start_time": "2025-03-28T16:12:16.604Z"
   },
   {
    "duration": 202,
    "start_time": "2025-03-28T16:12:16.878Z"
   },
   {
    "duration": 264,
    "start_time": "2025-03-28T16:12:17.081Z"
   },
   {
    "duration": 2000,
    "start_time": "2025-03-28T16:12:17.362Z"
   },
   {
    "duration": 787,
    "start_time": "2025-03-28T16:12:19.363Z"
   },
   {
    "duration": 152,
    "start_time": "2025-03-28T16:12:20.152Z"
   },
   {
    "duration": 42,
    "start_time": "2025-03-28T16:12:20.306Z"
   },
   {
    "duration": 7,
    "start_time": "2025-03-28T16:12:20.361Z"
   },
   {
    "duration": 15,
    "start_time": "2025-03-28T16:12:20.371Z"
   },
   {
    "duration": 4869,
    "start_time": "2025-03-28T16:12:20.388Z"
   },
   {
    "duration": 8,
    "start_time": "2025-03-28T16:12:25.262Z"
   },
   {
    "duration": 403,
    "start_time": "2025-03-28T16:12:25.271Z"
   },
   {
    "duration": 74,
    "start_time": "2025-03-28T16:12:55.489Z"
   },
   {
    "duration": 87,
    "start_time": "2025-03-28T16:13:03.652Z"
   },
   {
    "duration": 363,
    "start_time": "2025-03-28T16:13:21.311Z"
   },
   {
    "duration": 95,
    "start_time": "2025-03-28T16:13:35.769Z"
   },
   {
    "duration": 180,
    "start_time": "2025-03-28T16:13:54.622Z"
   },
   {
    "duration": 174,
    "start_time": "2025-03-28T16:13:56.509Z"
   },
   {
    "duration": 10031,
    "start_time": "2025-03-28T16:14:03.782Z"
   },
   {
    "duration": 4568,
    "start_time": "2025-03-28T16:14:13.815Z"
   },
   {
    "duration": 421,
    "start_time": "2025-03-28T16:14:18.385Z"
   },
   {
    "duration": 17,
    "start_time": "2025-03-28T16:14:18.808Z"
   },
   {
    "duration": 1439,
    "start_time": "2025-03-28T16:14:18.827Z"
   },
   {
    "duration": 272,
    "start_time": "2025-03-28T16:14:20.268Z"
   },
   {
    "duration": 277,
    "start_time": "2025-03-28T16:14:20.542Z"
   },
   {
    "duration": 283,
    "start_time": "2025-03-28T16:14:20.821Z"
   },
   {
    "duration": 2093,
    "start_time": "2025-03-28T16:14:21.106Z"
   },
   {
    "duration": 803,
    "start_time": "2025-03-28T16:14:23.201Z"
   },
   {
    "duration": 149,
    "start_time": "2025-03-28T16:14:24.006Z"
   },
   {
    "duration": 48,
    "start_time": "2025-03-28T16:14:24.156Z"
   },
   {
    "duration": 6,
    "start_time": "2025-03-28T16:14:24.205Z"
   },
   {
    "duration": 33,
    "start_time": "2025-03-28T16:14:24.213Z"
   },
   {
    "duration": 4962,
    "start_time": "2025-03-28T16:14:24.248Z"
   },
   {
    "duration": 7,
    "start_time": "2025-03-28T16:14:29.212Z"
   },
   {
    "duration": 353,
    "start_time": "2025-03-28T16:14:29.221Z"
   },
   {
    "duration": 241,
    "start_time": "2025-03-28T16:15:13.899Z"
   },
   {
    "duration": 10149,
    "start_time": "2025-03-28T16:15:18.851Z"
   },
   {
    "duration": 5448,
    "start_time": "2025-03-28T16:15:29.002Z"
   },
   {
    "duration": 418,
    "start_time": "2025-03-28T16:15:34.451Z"
   },
   {
    "duration": 18,
    "start_time": "2025-03-28T16:15:34.871Z"
   },
   {
    "duration": 1453,
    "start_time": "2025-03-28T16:15:34.892Z"
   },
   {
    "duration": 274,
    "start_time": "2025-03-28T16:15:36.347Z"
   },
   {
    "duration": 109,
    "start_time": "2025-03-28T16:15:36.623Z"
   },
   {
    "duration": 280,
    "start_time": "2025-03-28T16:15:36.734Z"
   },
   {
    "duration": 2187,
    "start_time": "2025-03-28T16:15:37.015Z"
   },
   {
    "duration": 768,
    "start_time": "2025-03-28T16:15:39.204Z"
   },
   {
    "duration": 152,
    "start_time": "2025-03-28T16:15:39.974Z"
   },
   {
    "duration": 52,
    "start_time": "2025-03-28T16:15:40.127Z"
   },
   {
    "duration": 8,
    "start_time": "2025-03-28T16:15:40.181Z"
   },
   {
    "duration": 4,
    "start_time": "2025-03-28T16:15:40.191Z"
   },
   {
    "duration": 5010,
    "start_time": "2025-03-28T16:15:40.197Z"
   },
   {
    "duration": 8,
    "start_time": "2025-03-28T16:15:45.209Z"
   },
   {
    "duration": 351,
    "start_time": "2025-03-28T16:15:45.218Z"
   },
   {
    "duration": 10474,
    "start_time": "2025-03-28T16:16:07.514Z"
   },
   {
    "duration": 3389,
    "start_time": "2025-03-28T16:16:17.990Z"
   },
   {
    "duration": 427,
    "start_time": "2025-03-28T16:16:21.383Z"
   },
   {
    "duration": 15,
    "start_time": "2025-03-28T16:16:21.812Z"
   },
   {
    "duration": 1447,
    "start_time": "2025-03-28T16:16:21.829Z"
   },
   {
    "duration": 267,
    "start_time": "2025-03-28T16:16:23.278Z"
   },
   {
    "duration": 66,
    "start_time": "2025-03-28T16:16:23.547Z"
   },
   {
    "duration": 455,
    "start_time": "2025-03-28T16:16:23.615Z"
   },
   {
    "duration": 2034,
    "start_time": "2025-03-28T16:16:24.072Z"
   },
   {
    "duration": 772,
    "start_time": "2025-03-28T16:16:26.108Z"
   },
   {
    "duration": 156,
    "start_time": "2025-03-28T16:16:26.882Z"
   },
   {
    "duration": 45,
    "start_time": "2025-03-28T16:16:27.040Z"
   },
   {
    "duration": 179,
    "start_time": "2025-03-28T16:16:27.088Z"
   },
   {
    "duration": 4,
    "start_time": "2025-03-28T16:16:27.269Z"
   },
   {
    "duration": 4841,
    "start_time": "2025-03-28T16:16:27.275Z"
   },
   {
    "duration": 8,
    "start_time": "2025-03-28T16:16:32.118Z"
   },
   {
    "duration": 341,
    "start_time": "2025-03-28T16:16:32.127Z"
   },
   {
    "duration": 749,
    "start_time": "2025-03-28T16:18:35.847Z"
   },
   {
    "duration": 1066,
    "start_time": "2025-03-28T16:18:43.504Z"
   },
   {
    "duration": 917,
    "start_time": "2025-03-28T16:19:24.990Z"
   },
   {
    "duration": 862,
    "start_time": "2025-03-28T16:19:36.638Z"
   },
   {
    "duration": 857,
    "start_time": "2025-03-28T16:21:23.495Z"
   },
   {
    "duration": 8,
    "start_time": "2025-03-28T16:22:03.363Z"
   },
   {
    "duration": 9,
    "start_time": "2025-03-28T16:22:07.071Z"
   },
   {
    "duration": 8,
    "start_time": "2025-03-28T16:22:16.982Z"
   },
   {
    "duration": 9979,
    "start_time": "2025-03-28T16:22:20.270Z"
   },
   {
    "duration": 3426,
    "start_time": "2025-03-28T16:22:30.252Z"
   },
   {
    "duration": 442,
    "start_time": "2025-03-28T16:22:33.679Z"
   },
   {
    "duration": 15,
    "start_time": "2025-03-28T16:22:34.122Z"
   },
   {
    "duration": 1421,
    "start_time": "2025-03-28T16:22:34.139Z"
   },
   {
    "duration": 311,
    "start_time": "2025-03-28T16:22:35.562Z"
   },
   {
    "duration": 60,
    "start_time": "2025-03-28T16:22:35.875Z"
   },
   {
    "duration": 414,
    "start_time": "2025-03-28T16:22:35.936Z"
   },
   {
    "duration": 782,
    "start_time": "2025-03-28T16:22:36.351Z"
   },
   {
    "duration": 0,
    "start_time": "2025-03-28T16:22:37.135Z"
   },
   {
    "duration": 0,
    "start_time": "2025-03-28T16:22:37.137Z"
   },
   {
    "duration": 0,
    "start_time": "2025-03-28T16:22:37.138Z"
   },
   {
    "duration": 0,
    "start_time": "2025-03-28T16:22:37.140Z"
   },
   {
    "duration": 0,
    "start_time": "2025-03-28T16:22:37.141Z"
   },
   {
    "duration": 0,
    "start_time": "2025-03-28T16:22:37.142Z"
   },
   {
    "duration": 0,
    "start_time": "2025-03-28T16:22:37.143Z"
   },
   {
    "duration": 0,
    "start_time": "2025-03-28T16:22:37.144Z"
   },
   {
    "duration": 0,
    "start_time": "2025-03-28T16:22:37.162Z"
   },
   {
    "duration": 631,
    "start_time": "2025-03-28T16:23:00.527Z"
   },
   {
    "duration": 769,
    "start_time": "2025-03-28T16:23:02.211Z"
   },
   {
    "duration": 10131,
    "start_time": "2025-03-28T16:24:03.831Z"
   },
   {
    "duration": 3383,
    "start_time": "2025-03-28T16:24:13.964Z"
   },
   {
    "duration": 420,
    "start_time": "2025-03-28T16:24:17.350Z"
   },
   {
    "duration": 17,
    "start_time": "2025-03-28T16:24:17.772Z"
   },
   {
    "duration": 1461,
    "start_time": "2025-03-28T16:24:17.790Z"
   },
   {
    "duration": 279,
    "start_time": "2025-03-28T16:24:19.252Z"
   },
   {
    "duration": 72,
    "start_time": "2025-03-28T16:24:19.533Z"
   },
   {
    "duration": 426,
    "start_time": "2025-03-28T16:24:19.607Z"
   },
   {
    "duration": 730,
    "start_time": "2025-03-28T16:24:20.035Z"
   },
   {
    "duration": 10127,
    "start_time": "2025-03-28T16:24:52.164Z"
   },
   {
    "duration": 3442,
    "start_time": "2025-03-28T16:25:02.293Z"
   },
   {
    "duration": 419,
    "start_time": "2025-03-28T16:25:05.737Z"
   },
   {
    "duration": 16,
    "start_time": "2025-03-28T16:25:06.158Z"
   },
   {
    "duration": 1506,
    "start_time": "2025-03-28T16:25:06.176Z"
   },
   {
    "duration": 288,
    "start_time": "2025-03-28T16:25:07.684Z"
   },
   {
    "duration": 51,
    "start_time": "2025-03-28T16:25:07.973Z"
   },
   {
    "duration": 425,
    "start_time": "2025-03-28T16:25:08.026Z"
   },
   {
    "duration": 705,
    "start_time": "2025-03-28T16:25:08.461Z"
   },
   {
    "duration": 775,
    "start_time": "2025-03-28T16:25:09.167Z"
   },
   {
    "duration": 280,
    "start_time": "2025-03-28T16:25:09.944Z"
   },
   {
    "duration": 152,
    "start_time": "2025-03-28T16:25:10.225Z"
   },
   {
    "duration": 43,
    "start_time": "2025-03-28T16:25:10.379Z"
   },
   {
    "duration": 18,
    "start_time": "2025-03-28T16:25:10.424Z"
   },
   {
    "duration": 4,
    "start_time": "2025-03-28T16:25:10.444Z"
   },
   {
    "duration": 4823,
    "start_time": "2025-03-28T16:25:10.462Z"
   },
   {
    "duration": 7,
    "start_time": "2025-03-28T16:25:15.287Z"
   },
   {
    "duration": 397,
    "start_time": "2025-03-28T16:25:15.296Z"
   },
   {
    "duration": 1156,
    "start_time": "2025-03-28T16:25:27.332Z"
   },
   {
    "duration": 10591,
    "start_time": "2025-03-28T16:26:28.138Z"
   },
   {
    "duration": 3670,
    "start_time": "2025-03-28T16:26:38.731Z"
   },
   {
    "duration": 416,
    "start_time": "2025-03-28T16:26:42.403Z"
   },
   {
    "duration": 15,
    "start_time": "2025-03-28T16:26:42.821Z"
   },
   {
    "duration": 1452,
    "start_time": "2025-03-28T16:26:42.838Z"
   },
   {
    "duration": 277,
    "start_time": "2025-03-28T16:26:44.292Z"
   },
   {
    "duration": 86,
    "start_time": "2025-03-28T16:26:44.571Z"
   },
   {
    "duration": 725,
    "start_time": "2025-03-28T16:26:44.659Z"
   },
   {
    "duration": 726,
    "start_time": "2025-03-28T16:26:45.385Z"
   },
   {
    "duration": 833,
    "start_time": "2025-03-28T16:26:46.113Z"
   },
   {
    "duration": 0,
    "start_time": "2025-03-28T16:26:46.948Z"
   },
   {
    "duration": 0,
    "start_time": "2025-03-28T16:26:46.949Z"
   },
   {
    "duration": 0,
    "start_time": "2025-03-28T16:26:46.950Z"
   },
   {
    "duration": 0,
    "start_time": "2025-03-28T16:26:46.951Z"
   },
   {
    "duration": 0,
    "start_time": "2025-03-28T16:26:46.962Z"
   },
   {
    "duration": 0,
    "start_time": "2025-03-28T16:26:46.963Z"
   },
   {
    "duration": 0,
    "start_time": "2025-03-28T16:26:46.965Z"
   },
   {
    "duration": 0,
    "start_time": "2025-03-28T16:26:46.966Z"
   },
   {
    "duration": 10857,
    "start_time": "2025-03-28T16:27:21.539Z"
   },
   {
    "duration": 3432,
    "start_time": "2025-03-28T16:27:32.398Z"
   },
   {
    "duration": 418,
    "start_time": "2025-03-28T16:27:35.832Z"
   },
   {
    "duration": 17,
    "start_time": "2025-03-28T16:27:36.252Z"
   },
   {
    "duration": 1435,
    "start_time": "2025-03-28T16:27:36.271Z"
   },
   {
    "duration": 270,
    "start_time": "2025-03-28T16:27:37.707Z"
   },
   {
    "duration": 50,
    "start_time": "2025-03-28T16:27:37.978Z"
   },
   {
    "duration": 436,
    "start_time": "2025-03-28T16:27:38.029Z"
   },
   {
    "duration": 707,
    "start_time": "2025-03-28T16:27:38.466Z"
   },
   {
    "duration": 10928,
    "start_time": "2025-03-28T16:30:41.965Z"
   },
   {
    "duration": 4185,
    "start_time": "2025-03-28T16:30:52.895Z"
   },
   {
    "duration": 465,
    "start_time": "2025-03-28T16:30:57.082Z"
   },
   {
    "duration": 27,
    "start_time": "2025-03-28T16:30:57.549Z"
   },
   {
    "duration": 1455,
    "start_time": "2025-03-28T16:30:57.578Z"
   },
   {
    "duration": 276,
    "start_time": "2025-03-28T16:30:59.035Z"
   },
   {
    "duration": 68,
    "start_time": "2025-03-28T16:30:59.313Z"
   },
   {
    "duration": 429,
    "start_time": "2025-03-28T16:30:59.382Z"
   },
   {
    "duration": 731,
    "start_time": "2025-03-28T16:30:59.813Z"
   },
   {
    "duration": 1546,
    "start_time": "2025-03-28T16:31:00.546Z"
   },
   {
    "duration": 287,
    "start_time": "2025-03-28T16:31:02.093Z"
   },
   {
    "duration": 181,
    "start_time": "2025-03-28T16:31:02.382Z"
   },
   {
    "duration": 47,
    "start_time": "2025-03-28T16:31:02.565Z"
   },
   {
    "duration": 42,
    "start_time": "2025-03-28T16:31:02.614Z"
   },
   {
    "duration": 93,
    "start_time": "2025-03-28T16:31:02.658Z"
   },
   {
    "duration": 4910,
    "start_time": "2025-03-28T16:31:02.753Z"
   },
   {
    "duration": 8,
    "start_time": "2025-03-28T16:31:07.664Z"
   },
   {
    "duration": 336,
    "start_time": "2025-03-28T16:31:07.673Z"
   },
   {
    "duration": 10370,
    "start_time": "2025-03-28T16:31:41.913Z"
   },
   {
    "duration": 4004,
    "start_time": "2025-03-28T16:31:52.285Z"
   },
   {
    "duration": 409,
    "start_time": "2025-03-28T16:31:56.290Z"
   },
   {
    "duration": 15,
    "start_time": "2025-03-28T16:31:56.701Z"
   },
   {
    "duration": 1435,
    "start_time": "2025-03-28T16:31:56.718Z"
   },
   {
    "duration": 273,
    "start_time": "2025-03-28T16:31:58.155Z"
   },
   {
    "duration": 301,
    "start_time": "2025-03-28T16:31:58.430Z"
   },
   {
    "duration": 430,
    "start_time": "2025-03-28T16:31:58.733Z"
   },
   {
    "duration": 702,
    "start_time": "2025-03-28T16:31:59.164Z"
   },
   {
    "duration": 1509,
    "start_time": "2025-03-28T16:31:59.868Z"
   },
   {
    "duration": 285,
    "start_time": "2025-03-28T16:32:01.378Z"
   },
   {
    "duration": 150,
    "start_time": "2025-03-28T16:32:01.665Z"
   },
   {
    "duration": 57,
    "start_time": "2025-03-28T16:32:01.817Z"
   },
   {
    "duration": 32,
    "start_time": "2025-03-28T16:32:01.877Z"
   },
   {
    "duration": 51,
    "start_time": "2025-03-28T16:32:01.910Z"
   },
   {
    "duration": 4940,
    "start_time": "2025-03-28T16:32:01.963Z"
   },
   {
    "duration": 7,
    "start_time": "2025-03-28T16:32:06.905Z"
   },
   {
    "duration": 411,
    "start_time": "2025-03-28T16:32:06.914Z"
   },
   {
    "duration": 210,
    "start_time": "2025-03-28T16:37:31.622Z"
   },
   {
    "duration": 6,
    "start_time": "2025-03-28T16:38:22.303Z"
   },
   {
    "duration": 370,
    "start_time": "2025-03-28T16:38:54.920Z"
   },
   {
    "duration": 412,
    "start_time": "2025-03-28T16:39:04.059Z"
   },
   {
    "duration": 10254,
    "start_time": "2025-03-28T16:39:09.102Z"
   },
   {
    "duration": 3396,
    "start_time": "2025-03-28T16:39:19.358Z"
   },
   {
    "duration": 429,
    "start_time": "2025-03-28T16:39:22.755Z"
   },
   {
    "duration": 16,
    "start_time": "2025-03-28T16:39:23.185Z"
   },
   {
    "duration": 1422,
    "start_time": "2025-03-28T16:39:23.202Z"
   },
   {
    "duration": 266,
    "start_time": "2025-03-28T16:39:24.626Z"
   },
   {
    "duration": 297,
    "start_time": "2025-03-28T16:39:24.894Z"
   },
   {
    "duration": 414,
    "start_time": "2025-03-28T16:39:25.192Z"
   },
   {
    "duration": 724,
    "start_time": "2025-03-28T16:39:25.608Z"
   },
   {
    "duration": 72,
    "start_time": "2025-03-28T16:39:26.334Z"
   },
   {
    "duration": 0,
    "start_time": "2025-03-28T16:39:26.407Z"
   },
   {
    "duration": 0,
    "start_time": "2025-03-28T16:39:26.408Z"
   },
   {
    "duration": 0,
    "start_time": "2025-03-28T16:39:26.409Z"
   },
   {
    "duration": 0,
    "start_time": "2025-03-28T16:39:26.411Z"
   },
   {
    "duration": 0,
    "start_time": "2025-03-28T16:39:26.412Z"
   },
   {
    "duration": 0,
    "start_time": "2025-03-28T16:39:26.413Z"
   },
   {
    "duration": 0,
    "start_time": "2025-03-28T16:39:26.414Z"
   },
   {
    "duration": 9850,
    "start_time": "2025-03-28T16:39:53.865Z"
   },
   {
    "duration": 3455,
    "start_time": "2025-03-28T16:40:03.717Z"
   },
   {
    "duration": 447,
    "start_time": "2025-03-28T16:40:07.174Z"
   },
   {
    "duration": 16,
    "start_time": "2025-03-28T16:40:07.623Z"
   },
   {
    "duration": 1414,
    "start_time": "2025-03-28T16:40:07.642Z"
   },
   {
    "duration": 275,
    "start_time": "2025-03-28T16:40:09.061Z"
   },
   {
    "duration": 315,
    "start_time": "2025-03-28T16:40:09.338Z"
   },
   {
    "duration": 418,
    "start_time": "2025-03-28T16:40:09.654Z"
   },
   {
    "duration": 681,
    "start_time": "2025-03-28T16:40:10.073Z"
   },
   {
    "duration": 812,
    "start_time": "2025-03-28T16:40:10.761Z"
   },
   {
    "duration": 295,
    "start_time": "2025-03-28T16:40:11.575Z"
   },
   {
    "duration": 158,
    "start_time": "2025-03-28T16:40:11.871Z"
   },
   {
    "duration": 53,
    "start_time": "2025-03-28T16:40:12.031Z"
   },
   {
    "duration": 484,
    "start_time": "2025-03-28T16:40:12.087Z"
   },
   {
    "duration": 3,
    "start_time": "2025-03-28T16:40:12.573Z"
   },
   {
    "duration": 4951,
    "start_time": "2025-03-28T16:40:12.578Z"
   },
   {
    "duration": 8,
    "start_time": "2025-03-28T16:40:17.531Z"
   },
   {
    "duration": 349,
    "start_time": "2025-03-28T16:40:17.541Z"
   },
   {
    "duration": 16,
    "start_time": "2025-03-28T16:47:11.587Z"
   },
   {
    "duration": 17,
    "start_time": "2025-03-28T16:47:14.732Z"
   },
   {
    "duration": 17,
    "start_time": "2025-03-28T16:47:15.022Z"
   },
   {
    "duration": 17,
    "start_time": "2025-03-28T16:47:15.332Z"
   },
   {
    "duration": 10540,
    "start_time": "2025-03-28T16:47:18.158Z"
   },
   {
    "duration": 3844,
    "start_time": "2025-03-28T16:47:28.700Z"
   },
   {
    "duration": 417,
    "start_time": "2025-03-28T16:47:32.547Z"
   },
   {
    "duration": 15,
    "start_time": "2025-03-28T16:47:32.966Z"
   },
   {
    "duration": 1439,
    "start_time": "2025-03-28T16:47:32.982Z"
   },
   {
    "duration": 269,
    "start_time": "2025-03-28T16:47:34.423Z"
   },
   {
    "duration": 306,
    "start_time": "2025-03-28T16:47:34.693Z"
   },
   {
    "duration": 417,
    "start_time": "2025-03-28T16:47:35.000Z"
   },
   {
    "duration": 716,
    "start_time": "2025-03-28T16:47:35.418Z"
   },
   {
    "duration": 730,
    "start_time": "2025-03-28T16:47:36.135Z"
   },
   {
    "duration": 278,
    "start_time": "2025-03-28T16:47:36.866Z"
   },
   {
    "duration": 246,
    "start_time": "2025-03-28T16:47:37.146Z"
   },
   {
    "duration": 45,
    "start_time": "2025-03-28T16:47:37.395Z"
   },
   {
    "duration": 435,
    "start_time": "2025-03-28T16:47:37.444Z"
   },
   {
    "duration": 4,
    "start_time": "2025-03-28T16:47:37.881Z"
   },
   {
    "duration": 4711,
    "start_time": "2025-03-28T16:47:37.886Z"
   },
   {
    "duration": 8,
    "start_time": "2025-03-28T16:47:42.599Z"
   },
   {
    "duration": 426,
    "start_time": "2025-03-28T16:47:42.608Z"
   },
   {
    "duration": 262,
    "start_time": "2025-03-28T16:56:08.105Z"
   },
   {
    "duration": 11012,
    "start_time": "2025-03-28T16:58:51.819Z"
   },
   {
    "duration": 3729,
    "start_time": "2025-03-28T16:59:02.833Z"
   },
   {
    "duration": 415,
    "start_time": "2025-03-28T16:59:06.563Z"
   },
   {
    "duration": 16,
    "start_time": "2025-03-28T16:59:06.980Z"
   },
   {
    "duration": 1513,
    "start_time": "2025-03-28T16:59:06.999Z"
   },
   {
    "duration": 277,
    "start_time": "2025-03-28T16:59:08.513Z"
   },
   {
    "duration": 114,
    "start_time": "2025-03-28T16:59:08.793Z"
   },
   {
    "duration": 430,
    "start_time": "2025-03-28T16:59:08.909Z"
   },
   {
    "duration": 739,
    "start_time": "2025-03-28T16:59:09.341Z"
   },
   {
    "duration": 754,
    "start_time": "2025-03-28T16:59:10.082Z"
   },
   {
    "duration": 285,
    "start_time": "2025-03-28T16:59:10.838Z"
   },
   {
    "duration": 154,
    "start_time": "2025-03-28T16:59:11.124Z"
   },
   {
    "duration": 42,
    "start_time": "2025-03-28T16:59:11.280Z"
   },
   {
    "duration": 590,
    "start_time": "2025-03-28T16:59:11.324Z"
   },
   {
    "duration": 3,
    "start_time": "2025-03-28T16:59:11.916Z"
   },
   {
    "duration": 4901,
    "start_time": "2025-03-28T16:59:11.920Z"
   },
   {
    "duration": 8,
    "start_time": "2025-03-28T16:59:16.822Z"
   },
   {
    "duration": 359,
    "start_time": "2025-03-28T16:59:16.832Z"
   },
   {
    "duration": 286,
    "start_time": "2025-03-28T17:02:38.176Z"
   },
   {
    "duration": 10154,
    "start_time": "2025-03-28T17:02:41.578Z"
   },
   {
    "duration": 3672,
    "start_time": "2025-03-28T17:02:51.734Z"
   },
   {
    "duration": 438,
    "start_time": "2025-03-28T17:02:55.408Z"
   },
   {
    "duration": 25,
    "start_time": "2025-03-28T17:02:55.848Z"
   },
   {
    "duration": 1441,
    "start_time": "2025-03-28T17:02:55.875Z"
   },
   {
    "duration": 312,
    "start_time": "2025-03-28T17:02:57.318Z"
   },
   {
    "duration": 443,
    "start_time": "2025-03-28T17:02:57.632Z"
   },
   {
    "duration": 300,
    "start_time": "2025-03-28T17:02:58.077Z"
   },
   {
    "duration": 725,
    "start_time": "2025-03-28T17:02:58.379Z"
   },
   {
    "duration": 763,
    "start_time": "2025-03-28T17:02:59.106Z"
   },
   {
    "duration": 293,
    "start_time": "2025-03-28T17:02:59.871Z"
   },
   {
    "duration": 170,
    "start_time": "2025-03-28T17:03:00.166Z"
   },
   {
    "duration": 43,
    "start_time": "2025-03-28T17:03:00.338Z"
   },
   {
    "duration": 438,
    "start_time": "2025-03-28T17:03:00.384Z"
   },
   {
    "duration": 3,
    "start_time": "2025-03-28T17:03:00.824Z"
   },
   {
    "duration": 5020,
    "start_time": "2025-03-28T17:03:00.829Z"
   },
   {
    "duration": 17,
    "start_time": "2025-03-28T17:03:05.850Z"
   },
   {
    "duration": 374,
    "start_time": "2025-03-28T17:03:05.868Z"
   },
   {
    "duration": 10402,
    "start_time": "2025-03-29T07:09:16.048Z"
   },
   {
    "duration": 3984,
    "start_time": "2025-03-29T07:09:26.451Z"
   },
   {
    "duration": 446,
    "start_time": "2025-03-29T07:09:30.437Z"
   },
   {
    "duration": 25,
    "start_time": "2025-03-29T07:09:30.885Z"
   },
   {
    "duration": 1337,
    "start_time": "2025-03-29T07:09:30.912Z"
   },
   {
    "duration": 265,
    "start_time": "2025-03-29T07:09:32.250Z"
   },
   {
    "duration": 404,
    "start_time": "2025-03-29T07:09:32.516Z"
   },
   {
    "duration": 259,
    "start_time": "2025-03-29T07:09:32.922Z"
   },
   {
    "duration": 668,
    "start_time": "2025-03-29T07:09:33.182Z"
   },
   {
    "duration": 689,
    "start_time": "2025-03-29T07:09:33.851Z"
   },
   {
    "duration": 270,
    "start_time": "2025-03-29T07:09:34.542Z"
   },
   {
    "duration": 155,
    "start_time": "2025-03-29T07:09:34.814Z"
   },
   {
    "duration": 56,
    "start_time": "2025-03-29T07:09:34.971Z"
   },
   {
    "duration": 403,
    "start_time": "2025-03-29T07:09:35.030Z"
   },
   {
    "duration": 4,
    "start_time": "2025-03-29T07:09:35.435Z"
   },
   {
    "duration": 4866,
    "start_time": "2025-03-29T07:09:35.440Z"
   },
   {
    "duration": 6,
    "start_time": "2025-03-29T07:09:40.308Z"
   },
   {
    "duration": 316,
    "start_time": "2025-03-29T07:09:40.316Z"
   },
   {
    "duration": 228,
    "start_time": "2025-03-29T07:09:40.634Z"
   },
   {
    "duration": 161,
    "start_time": "2025-03-29T07:09:56.568Z"
   },
   {
    "duration": 174,
    "start_time": "2025-03-29T07:10:33.291Z"
   },
   {
    "duration": 181,
    "start_time": "2025-03-29T07:10:51.317Z"
   },
   {
    "duration": 171,
    "start_time": "2025-03-29T07:11:20.337Z"
   },
   {
    "duration": 190,
    "start_time": "2025-03-29T07:11:32.547Z"
   },
   {
    "duration": 169,
    "start_time": "2025-03-29T07:12:13.841Z"
   },
   {
    "duration": 161,
    "start_time": "2025-03-29T07:12:26.198Z"
   },
   {
    "duration": 149,
    "start_time": "2025-03-29T07:12:31.217Z"
   },
   {
    "duration": 156,
    "start_time": "2025-03-29T07:12:38.995Z"
   },
   {
    "duration": 1935,
    "start_time": "2025-03-29T07:13:38.184Z"
   },
   {
    "duration": 1338,
    "start_time": "2025-03-29T07:14:22.008Z"
   },
   {
    "duration": 112,
    "start_time": "2025-03-29T07:14:34.616Z"
   },
   {
    "duration": 16,
    "start_time": "2025-03-29T07:14:37.129Z"
   },
   {
    "duration": 1290,
    "start_time": "2025-03-29T07:14:40.705Z"
   },
   {
    "duration": 1045,
    "start_time": "2025-03-29T07:16:43.381Z"
   },
   {
    "duration": 1004,
    "start_time": "2025-03-29T07:16:56.191Z"
   },
   {
    "duration": 11421,
    "start_time": "2025-03-29T07:17:14.063Z"
   },
   {
    "duration": 4418,
    "start_time": "2025-03-29T07:17:25.486Z"
   },
   {
    "duration": 354,
    "start_time": "2025-03-29T07:17:29.908Z"
   },
   {
    "duration": 16,
    "start_time": "2025-03-29T07:17:30.264Z"
   },
   {
    "duration": 1418,
    "start_time": "2025-03-29T07:17:30.282Z"
   },
   {
    "duration": 268,
    "start_time": "2025-03-29T07:17:31.703Z"
   },
   {
    "duration": 415,
    "start_time": "2025-03-29T07:17:31.973Z"
   },
   {
    "duration": 275,
    "start_time": "2025-03-29T07:17:32.390Z"
   },
   {
    "duration": 675,
    "start_time": "2025-03-29T07:17:32.666Z"
   },
   {
    "duration": 730,
    "start_time": "2025-03-29T07:17:33.343Z"
   },
   {
    "duration": 265,
    "start_time": "2025-03-29T07:17:34.075Z"
   },
   {
    "duration": 153,
    "start_time": "2025-03-29T07:17:34.342Z"
   },
   {
    "duration": 42,
    "start_time": "2025-03-29T07:17:34.503Z"
   },
   {
    "duration": 401,
    "start_time": "2025-03-29T07:17:34.547Z"
   },
   {
    "duration": 4,
    "start_time": "2025-03-29T07:17:34.949Z"
   },
   {
    "duration": 4699,
    "start_time": "2025-03-29T07:17:34.954Z"
   },
   {
    "duration": 286,
    "start_time": "2025-03-29T07:17:39.655Z"
   },
   {
    "duration": 7,
    "start_time": "2025-03-29T07:17:39.943Z"
   },
   {
    "duration": 345,
    "start_time": "2025-03-29T07:17:39.952Z"
   },
   {
    "duration": 2012,
    "start_time": "2025-03-29T07:17:40.304Z"
   },
   {
    "duration": 21,
    "start_time": "2025-03-29T07:17:43.700Z"
   },
   {
    "duration": 10560,
    "start_time": "2025-03-29T07:17:47.215Z"
   },
   {
    "duration": 4323,
    "start_time": "2025-03-29T07:17:57.777Z"
   },
   {
    "duration": 359,
    "start_time": "2025-03-29T07:18:02.104Z"
   },
   {
    "duration": 14,
    "start_time": "2025-03-29T07:18:02.465Z"
   },
   {
    "duration": 1388,
    "start_time": "2025-03-29T07:18:02.481Z"
   },
   {
    "duration": 259,
    "start_time": "2025-03-29T07:18:03.871Z"
   },
   {
    "duration": 421,
    "start_time": "2025-03-29T07:18:04.131Z"
   },
   {
    "duration": 266,
    "start_time": "2025-03-29T07:18:04.554Z"
   },
   {
    "duration": 688,
    "start_time": "2025-03-29T07:18:04.822Z"
   },
   {
    "duration": 732,
    "start_time": "2025-03-29T07:18:05.512Z"
   },
   {
    "duration": 273,
    "start_time": "2025-03-29T07:18:06.246Z"
   },
   {
    "duration": 142,
    "start_time": "2025-03-29T07:18:06.521Z"
   },
   {
    "duration": 51,
    "start_time": "2025-03-29T07:18:06.665Z"
   },
   {
    "duration": 408,
    "start_time": "2025-03-29T07:18:06.719Z"
   },
   {
    "duration": 3,
    "start_time": "2025-03-29T07:18:07.129Z"
   },
   {
    "duration": 4845,
    "start_time": "2025-03-29T07:18:07.134Z"
   },
   {
    "duration": 261,
    "start_time": "2025-03-29T07:18:11.980Z"
   },
   {
    "duration": 8,
    "start_time": "2025-03-29T07:18:12.243Z"
   },
   {
    "duration": 352,
    "start_time": "2025-03-29T07:18:12.253Z"
   },
   {
    "duration": 2038,
    "start_time": "2025-03-29T07:18:12.607Z"
   },
   {
    "duration": 3048,
    "start_time": "2025-03-29T07:19:02.417Z"
   },
   {
    "duration": 3516,
    "start_time": "2025-03-29T07:19:12.599Z"
   },
   {
    "duration": 10534,
    "start_time": "2025-03-29T07:19:18.347Z"
   },
   {
    "duration": 3406,
    "start_time": "2025-03-29T07:19:28.883Z"
   },
   {
    "duration": 376,
    "start_time": "2025-03-29T07:19:32.291Z"
   },
   {
    "duration": 16,
    "start_time": "2025-03-29T07:19:32.669Z"
   },
   {
    "duration": 1407,
    "start_time": "2025-03-29T07:19:32.687Z"
   },
   {
    "duration": 256,
    "start_time": "2025-03-29T07:19:34.103Z"
   },
   {
    "duration": 520,
    "start_time": "2025-03-29T07:19:34.360Z"
   },
   {
    "duration": 280,
    "start_time": "2025-03-29T07:19:34.881Z"
   },
   {
    "duration": 752,
    "start_time": "2025-03-29T07:19:35.163Z"
   },
   {
    "duration": 730,
    "start_time": "2025-03-29T07:19:35.917Z"
   },
   {
    "duration": 274,
    "start_time": "2025-03-29T07:19:36.648Z"
   },
   {
    "duration": 165,
    "start_time": "2025-03-29T07:19:36.923Z"
   },
   {
    "duration": 45,
    "start_time": "2025-03-29T07:19:37.090Z"
   },
   {
    "duration": 427,
    "start_time": "2025-03-29T07:19:37.138Z"
   },
   {
    "duration": 5,
    "start_time": "2025-03-29T07:19:37.567Z"
   },
   {
    "duration": 4849,
    "start_time": "2025-03-29T07:19:37.574Z"
   },
   {
    "duration": 272,
    "start_time": "2025-03-29T07:19:42.424Z"
   },
   {
    "duration": 11,
    "start_time": "2025-03-29T07:19:42.698Z"
   },
   {
    "duration": 339,
    "start_time": "2025-03-29T07:19:42.711Z"
   },
   {
    "duration": 2041,
    "start_time": "2025-03-29T07:19:43.052Z"
   },
   {
    "duration": 1892,
    "start_time": "2025-03-29T07:20:45.661Z"
   },
   {
    "duration": 177,
    "start_time": "2025-03-29T07:20:53.507Z"
   },
   {
    "duration": 165,
    "start_time": "2025-03-29T07:21:00.097Z"
   },
   {
    "duration": 148,
    "start_time": "2025-03-29T07:23:21.667Z"
   },
   {
    "duration": 148,
    "start_time": "2025-03-29T07:23:59.486Z"
   },
   {
    "duration": 53,
    "start_time": "2025-03-29T07:24:26.694Z"
   },
   {
    "duration": 51,
    "start_time": "2025-03-29T07:24:37.046Z"
   },
   {
    "duration": 116,
    "start_time": "2025-03-29T07:24:44.490Z"
   },
   {
    "duration": 1269,
    "start_time": "2025-03-29T07:25:23.764Z"
   },
   {
    "duration": 1193,
    "start_time": "2025-03-29T07:25:39.519Z"
   },
   {
    "duration": 680,
    "start_time": "2025-03-29T07:25:52.882Z"
   },
   {
    "duration": 1404,
    "start_time": "2025-03-29T07:25:56.703Z"
   },
   {
    "duration": 1235,
    "start_time": "2025-03-29T07:25:59.323Z"
   },
   {
    "duration": 1236,
    "start_time": "2025-03-29T07:26:04.591Z"
   },
   {
    "duration": 1301,
    "start_time": "2025-03-29T07:26:09.002Z"
   },
   {
    "duration": 1215,
    "start_time": "2025-03-29T07:26:29.791Z"
   },
   {
    "duration": 1428,
    "start_time": "2025-03-29T07:26:37.980Z"
   },
   {
    "duration": 1180,
    "start_time": "2025-03-29T07:26:45.126Z"
   },
   {
    "duration": 1236,
    "start_time": "2025-03-29T07:26:53.550Z"
   },
   {
    "duration": 1227,
    "start_time": "2025-03-29T07:27:00.529Z"
   },
   {
    "duration": 564,
    "start_time": "2025-03-29T07:27:13.431Z"
   },
   {
    "duration": 993,
    "start_time": "2025-03-29T07:27:18.061Z"
   },
   {
    "duration": 1320,
    "start_time": "2025-03-29T07:27:25.662Z"
   },
   {
    "duration": 1209,
    "start_time": "2025-03-29T07:28:05.695Z"
   },
   {
    "duration": 162,
    "start_time": "2025-03-29T07:28:20.995Z"
   },
   {
    "duration": 1197,
    "start_time": "2025-03-29T07:32:33.211Z"
   },
   {
    "duration": 1164,
    "start_time": "2025-03-29T07:32:41.928Z"
   },
   {
    "duration": 1142,
    "start_time": "2025-03-29T07:32:46.267Z"
   },
   {
    "duration": 491,
    "start_time": "2025-03-29T07:34:50.492Z"
   },
   {
    "duration": 347,
    "start_time": "2025-03-29T07:34:58.225Z"
   },
   {
    "duration": 75,
    "start_time": "2025-03-29T07:35:03.052Z"
   },
   {
    "duration": 77,
    "start_time": "2025-03-29T07:35:07.725Z"
   },
   {
    "duration": 360,
    "start_time": "2025-03-29T07:35:12.100Z"
   },
   {
    "duration": 341,
    "start_time": "2025-03-29T07:35:20.985Z"
   },
   {
    "duration": 337,
    "start_time": "2025-03-29T07:35:24.868Z"
   },
   {
    "duration": 343,
    "start_time": "2025-03-29T07:35:30.509Z"
   },
   {
    "duration": 346,
    "start_time": "2025-03-29T07:35:42.579Z"
   },
   {
    "duration": 411,
    "start_time": "2025-03-29T07:36:02.193Z"
   },
   {
    "duration": 0,
    "start_time": "2025-03-29T07:36:12.306Z"
   },
   {
    "duration": 660,
    "start_time": "2025-03-29T07:36:15.113Z"
   },
   {
    "duration": 337,
    "start_time": "2025-03-29T07:36:20.860Z"
   },
   {
    "duration": 626,
    "start_time": "2025-03-29T07:36:26.015Z"
   },
   {
    "duration": 1407,
    "start_time": "2025-03-29T07:37:13.729Z"
   },
   {
    "duration": 714,
    "start_time": "2025-03-29T07:37:30.872Z"
   },
   {
    "duration": 79,
    "start_time": "2025-03-29T07:40:23.549Z"
   },
   {
    "duration": 230,
    "start_time": "2025-03-29T07:40:38.950Z"
   },
   {
    "duration": 218,
    "start_time": "2025-03-29T07:40:52.917Z"
   },
   {
    "duration": 220,
    "start_time": "2025-03-29T07:40:57.541Z"
   },
   {
    "duration": 213,
    "start_time": "2025-03-29T07:41:00.433Z"
   },
   {
    "duration": 342,
    "start_time": "2025-03-29T07:41:03.181Z"
   },
   {
    "duration": 214,
    "start_time": "2025-03-29T07:41:35.092Z"
   },
   {
    "duration": 355,
    "start_time": "2025-03-29T07:41:52.179Z"
   },
   {
    "duration": 356,
    "start_time": "2025-03-29T07:42:11.253Z"
   },
   {
    "duration": 353,
    "start_time": "2025-03-29T07:42:30.911Z"
   },
   {
    "duration": 354,
    "start_time": "2025-03-29T07:42:36.255Z"
   },
   {
    "duration": 360,
    "start_time": "2025-03-29T07:42:39.285Z"
   },
   {
    "duration": 459,
    "start_time": "2025-03-29T07:42:48.514Z"
   },
   {
    "duration": 489,
    "start_time": "2025-03-29T07:43:05.169Z"
   },
   {
    "duration": 579,
    "start_time": "2025-03-29T07:43:08.044Z"
   },
   {
    "duration": 446,
    "start_time": "2025-03-29T07:43:10.638Z"
   },
   {
    "duration": 469,
    "start_time": "2025-03-29T07:43:54.168Z"
   },
   {
    "duration": 454,
    "start_time": "2025-03-29T07:43:57.238Z"
   },
   {
    "duration": 10549,
    "start_time": "2025-03-29T07:44:13.759Z"
   },
   {
    "duration": 3455,
    "start_time": "2025-03-29T07:44:24.310Z"
   },
   {
    "duration": 370,
    "start_time": "2025-03-29T07:44:27.766Z"
   },
   {
    "duration": 15,
    "start_time": "2025-03-29T07:44:28.138Z"
   },
   {
    "duration": 1425,
    "start_time": "2025-03-29T07:44:28.156Z"
   },
   {
    "duration": 269,
    "start_time": "2025-03-29T07:44:29.583Z"
   },
   {
    "duration": 430,
    "start_time": "2025-03-29T07:44:29.854Z"
   },
   {
    "duration": 277,
    "start_time": "2025-03-29T07:44:30.286Z"
   },
   {
    "duration": 740,
    "start_time": "2025-03-29T07:44:30.564Z"
   },
   {
    "duration": 745,
    "start_time": "2025-03-29T07:44:31.305Z"
   },
   {
    "duration": 273,
    "start_time": "2025-03-29T07:44:32.052Z"
   },
   {
    "duration": 171,
    "start_time": "2025-03-29T07:44:32.327Z"
   },
   {
    "duration": 42,
    "start_time": "2025-03-29T07:44:32.500Z"
   },
   {
    "duration": 452,
    "start_time": "2025-03-29T07:44:32.544Z"
   },
   {
    "duration": 3,
    "start_time": "2025-03-29T07:44:33.004Z"
   },
   {
    "duration": 4690,
    "start_time": "2025-03-29T07:44:33.008Z"
   },
   {
    "duration": 258,
    "start_time": "2025-03-29T07:44:37.703Z"
   },
   {
    "duration": 8,
    "start_time": "2025-03-29T07:44:37.963Z"
   },
   {
    "duration": 372,
    "start_time": "2025-03-29T07:44:37.972Z"
   },
   {
    "duration": 175,
    "start_time": "2025-03-29T07:44:38.345Z"
   },
   {
    "duration": 1161,
    "start_time": "2025-03-29T07:44:38.522Z"
   },
   {
    "duration": 482,
    "start_time": "2025-03-29T07:44:39.685Z"
   },
   {
    "duration": 77,
    "start_time": "2025-03-29T07:54:13.521Z"
   },
   {
    "duration": 114,
    "start_time": "2025-03-29T07:54:23.558Z"
   },
   {
    "duration": 85,
    "start_time": "2025-03-29T07:54:31.629Z"
   },
   {
    "duration": 72,
    "start_time": "2025-03-29T07:54:42.100Z"
   },
   {
    "duration": 161,
    "start_time": "2025-03-29T07:55:25.506Z"
   },
   {
    "duration": 263,
    "start_time": "2025-03-29T07:55:59.813Z"
   },
   {
    "duration": 183,
    "start_time": "2025-03-29T07:56:01.999Z"
   },
   {
    "duration": 100,
    "start_time": "2025-03-29T07:56:31.673Z"
   },
   {
    "duration": 78,
    "start_time": "2025-03-29T07:56:37.564Z"
   },
   {
    "duration": 162,
    "start_time": "2025-03-29T07:56:46.299Z"
   },
   {
    "duration": 193,
    "start_time": "2025-03-29T07:56:57.146Z"
   },
   {
    "duration": 577,
    "start_time": "2025-03-29T08:02:36.236Z"
   },
   {
    "duration": 458,
    "start_time": "2025-03-29T08:02:40.825Z"
   },
   {
    "duration": 676,
    "start_time": "2025-03-29T08:02:48.800Z"
   },
   {
    "duration": 461,
    "start_time": "2025-03-29T08:03:01.182Z"
   },
   {
    "duration": 534,
    "start_time": "2025-03-29T08:03:07.114Z"
   },
   {
    "duration": 537,
    "start_time": "2025-03-29T08:03:14.551Z"
   },
   {
    "duration": 578,
    "start_time": "2025-03-29T08:03:23.866Z"
   },
   {
    "duration": 618,
    "start_time": "2025-03-29T08:03:40.562Z"
   },
   {
    "duration": 739,
    "start_time": "2025-03-29T08:04:00.971Z"
   },
   {
    "duration": 1533,
    "start_time": "2025-03-29T08:04:05.214Z"
   },
   {
    "duration": 708,
    "start_time": "2025-03-29T08:04:10.337Z"
   },
   {
    "duration": 812,
    "start_time": "2025-03-29T08:04:24.595Z"
   },
   {
    "duration": 477,
    "start_time": "2025-03-29T08:04:41.662Z"
   },
   {
    "duration": 486,
    "start_time": "2025-03-29T08:04:56.225Z"
   },
   {
    "duration": 545,
    "start_time": "2025-03-29T08:05:34.626Z"
   },
   {
    "duration": 531,
    "start_time": "2025-03-29T08:06:02.014Z"
   },
   {
    "duration": 1022,
    "start_time": "2025-03-29T08:06:25.999Z"
   },
   {
    "duration": 1021,
    "start_time": "2025-03-29T08:06:38.220Z"
   },
   {
    "duration": 759,
    "start_time": "2025-03-29T08:06:55.109Z"
   },
   {
    "duration": 912,
    "start_time": "2025-03-29T08:06:59.504Z"
   },
   {
    "duration": 835,
    "start_time": "2025-03-29T08:07:27.872Z"
   },
   {
    "duration": 936,
    "start_time": "2025-03-29T08:07:31.982Z"
   },
   {
    "duration": 1163,
    "start_time": "2025-03-29T08:09:09.729Z"
   },
   {
    "duration": 1101,
    "start_time": "2025-03-29T08:09:17.300Z"
   },
   {
    "duration": 1032,
    "start_time": "2025-03-29T08:09:26.212Z"
   },
   {
    "duration": 636,
    "start_time": "2025-03-29T08:09:48.268Z"
   },
   {
    "duration": 1216,
    "start_time": "2025-03-29T08:09:55.744Z"
   },
   {
    "duration": 1176,
    "start_time": "2025-03-29T08:10:08.219Z"
   },
   {
    "duration": 702,
    "start_time": "2025-03-29T08:10:58.531Z"
   },
   {
    "duration": 603,
    "start_time": "2025-03-29T08:11:05.579Z"
   },
   {
    "duration": 606,
    "start_time": "2025-03-29T08:11:10.231Z"
   },
   {
    "duration": 610,
    "start_time": "2025-03-29T08:11:38.149Z"
   },
   {
    "duration": 1108,
    "start_time": "2025-03-29T08:12:01.388Z"
   },
   {
    "duration": 1105,
    "start_time": "2025-03-29T08:12:23.658Z"
   },
   {
    "duration": 1073,
    "start_time": "2025-03-29T08:12:29.346Z"
   },
   {
    "duration": 97,
    "start_time": "2025-03-29T08:12:49.585Z"
   },
   {
    "duration": 84,
    "start_time": "2025-03-29T08:13:01.873Z"
   },
   {
    "duration": 77,
    "start_time": "2025-03-29T08:13:03.884Z"
   },
   {
    "duration": 1067,
    "start_time": "2025-03-29T08:13:09.163Z"
   },
   {
    "duration": 7,
    "start_time": "2025-03-29T08:13:19.296Z"
   },
   {
    "duration": 194,
    "start_time": "2025-03-29T08:13:21.253Z"
   },
   {
    "duration": 1098,
    "start_time": "2025-03-29T08:13:30.824Z"
   },
   {
    "duration": 6,
    "start_time": "2025-03-29T08:13:41.149Z"
   },
   {
    "duration": 9,
    "start_time": "2025-03-29T08:13:57.288Z"
   },
   {
    "duration": 1027,
    "start_time": "2025-03-29T08:14:51.875Z"
   },
   {
    "duration": 6,
    "start_time": "2025-03-29T08:14:55.330Z"
   },
   {
    "duration": 184,
    "start_time": "2025-03-29T08:16:02.636Z"
   },
   {
    "duration": 1039,
    "start_time": "2025-03-29T08:16:05.684Z"
   },
   {
    "duration": 6,
    "start_time": "2025-03-29T08:16:08.578Z"
   },
   {
    "duration": 10669,
    "start_time": "2025-03-29T08:16:14.822Z"
   },
   {
    "duration": 3432,
    "start_time": "2025-03-29T08:16:25.493Z"
   },
   {
    "duration": 361,
    "start_time": "2025-03-29T08:16:28.927Z"
   },
   {
    "duration": 17,
    "start_time": "2025-03-29T08:16:29.290Z"
   },
   {
    "duration": 1431,
    "start_time": "2025-03-29T08:16:29.310Z"
   },
   {
    "duration": 274,
    "start_time": "2025-03-29T08:16:30.743Z"
   },
   {
    "duration": 450,
    "start_time": "2025-03-29T08:16:31.018Z"
   },
   {
    "duration": 286,
    "start_time": "2025-03-29T08:16:31.470Z"
   },
   {
    "duration": 735,
    "start_time": "2025-03-29T08:16:31.759Z"
   },
   {
    "duration": 741,
    "start_time": "2025-03-29T08:16:32.496Z"
   },
   {
    "duration": 274,
    "start_time": "2025-03-29T08:16:33.239Z"
   },
   {
    "duration": 164,
    "start_time": "2025-03-29T08:16:33.515Z"
   },
   {
    "duration": 44,
    "start_time": "2025-03-29T08:16:33.681Z"
   },
   {
    "duration": 507,
    "start_time": "2025-03-29T08:16:33.728Z"
   },
   {
    "duration": 4,
    "start_time": "2025-03-29T08:16:34.237Z"
   },
   {
    "duration": 4827,
    "start_time": "2025-03-29T08:16:34.243Z"
   },
   {
    "duration": 263,
    "start_time": "2025-03-29T08:16:39.072Z"
   },
   {
    "duration": 8,
    "start_time": "2025-03-29T08:16:39.338Z"
   },
   {
    "duration": 346,
    "start_time": "2025-03-29T08:16:39.347Z"
   },
   {
    "duration": 173,
    "start_time": "2025-03-29T08:16:39.703Z"
   },
   {
    "duration": 1187,
    "start_time": "2025-03-29T08:16:39.878Z"
   },
   {
    "duration": 493,
    "start_time": "2025-03-29T08:16:41.066Z"
   },
   {
    "duration": 1073,
    "start_time": "2025-03-29T08:16:41.560Z"
   },
   {
    "duration": 5,
    "start_time": "2025-03-29T08:16:42.635Z"
   },
   {
    "duration": 201,
    "start_time": "2025-03-29T08:17:30.146Z"
   },
   {
    "duration": 112,
    "start_time": "2025-03-29T08:17:38.007Z"
   },
   {
    "duration": 108,
    "start_time": "2025-03-29T08:17:41.108Z"
   },
   {
    "duration": 74,
    "start_time": "2025-03-29T08:17:53.173Z"
   },
   {
    "duration": 76,
    "start_time": "2025-03-29T08:18:02.176Z"
   },
   {
    "duration": 84,
    "start_time": "2025-03-29T08:18:42.596Z"
   },
   {
    "duration": 988,
    "start_time": "2025-03-29T08:19:23.924Z"
   },
   {
    "duration": 5,
    "start_time": "2025-03-29T08:19:28.635Z"
   },
   {
    "duration": 1319,
    "start_time": "2025-03-29T08:21:55.148Z"
   },
   {
    "duration": 993,
    "start_time": "2025-03-29T08:22:08.069Z"
   },
   {
    "duration": 5,
    "start_time": "2025-03-29T08:22:15.092Z"
   },
   {
    "duration": 121,
    "start_time": "2025-03-29T08:26:38.605Z"
   },
   {
    "duration": 189,
    "start_time": "2025-03-29T08:27:35.489Z"
   },
   {
    "duration": 975,
    "start_time": "2025-03-29T08:28:34.494Z"
   },
   {
    "duration": 953,
    "start_time": "2025-03-29T08:28:39.325Z"
   },
   {
    "duration": 1021,
    "start_time": "2025-03-29T08:28:45.051Z"
   },
   {
    "duration": 200,
    "start_time": "2025-03-29T08:29:56.259Z"
   },
   {
    "duration": 317,
    "start_time": "2025-03-29T08:30:01.806Z"
   },
   {
    "duration": 313,
    "start_time": "2025-03-29T08:30:05.699Z"
   },
   {
    "duration": 424,
    "start_time": "2025-03-29T08:30:11.279Z"
   },
   {
    "duration": 309,
    "start_time": "2025-03-29T08:30:14.346Z"
   },
   {
    "duration": 381,
    "start_time": "2025-03-29T08:30:32.461Z"
   },
   {
    "duration": 321,
    "start_time": "2025-03-29T08:30:40.000Z"
   },
   {
    "duration": 356,
    "start_time": "2025-03-29T08:30:51.524Z"
   },
   {
    "duration": 363,
    "start_time": "2025-03-29T08:31:07.913Z"
   },
   {
    "duration": 339,
    "start_time": "2025-03-29T08:31:12.842Z"
   },
   {
    "duration": 343,
    "start_time": "2025-03-29T08:31:17.101Z"
   },
   {
    "duration": 55,
    "start_time": "2025-03-29T08:47:27.285Z"
   },
   {
    "duration": 67,
    "start_time": "2025-03-29T08:49:44.574Z"
   },
   {
    "duration": 58,
    "start_time": "2025-03-29T08:49:54.817Z"
   },
   {
    "duration": 19,
    "start_time": "2025-03-29T08:50:25.825Z"
   },
   {
    "duration": 118,
    "start_time": "2025-03-29T08:50:30.706Z"
   },
   {
    "duration": 95,
    "start_time": "2025-03-29T08:50:46.599Z"
   },
   {
    "duration": 94,
    "start_time": "2025-03-29T08:50:50.560Z"
   },
   {
    "duration": 95,
    "start_time": "2025-03-29T08:52:10.910Z"
   },
   {
    "duration": 93,
    "start_time": "2025-03-29T08:52:14.843Z"
   },
   {
    "duration": 97,
    "start_time": "2025-03-29T08:52:22.024Z"
   },
   {
    "duration": 104,
    "start_time": "2025-03-29T08:52:51.792Z"
   },
   {
    "duration": 104,
    "start_time": "2025-03-29T08:53:36.366Z"
   },
   {
    "duration": 104,
    "start_time": "2025-03-29T08:53:40.013Z"
   },
   {
    "duration": 111,
    "start_time": "2025-03-29T08:53:42.402Z"
   },
   {
    "duration": 105,
    "start_time": "2025-03-29T08:53:48.594Z"
   },
   {
    "duration": 151,
    "start_time": "2025-03-29T09:00:58.943Z"
   },
   {
    "duration": 152,
    "start_time": "2025-03-29T09:01:15.022Z"
   },
   {
    "duration": 1232,
    "start_time": "2025-03-29T09:01:25.871Z"
   },
   {
    "duration": 1447,
    "start_time": "2025-03-29T09:01:32.386Z"
   },
   {
    "duration": 140,
    "start_time": "2025-03-29T09:01:40.556Z"
   },
   {
    "duration": 11344,
    "start_time": "2025-03-29T09:03:04.022Z"
   },
   {
    "duration": 3987,
    "start_time": "2025-03-29T09:03:15.369Z"
   },
   {
    "duration": 367,
    "start_time": "2025-03-29T09:03:19.360Z"
   },
   {
    "duration": 15,
    "start_time": "2025-03-29T09:03:19.730Z"
   },
   {
    "duration": 1395,
    "start_time": "2025-03-29T09:03:19.748Z"
   },
   {
    "duration": 270,
    "start_time": "2025-03-29T09:03:21.145Z"
   },
   {
    "duration": 412,
    "start_time": "2025-03-29T09:03:21.417Z"
   },
   {
    "duration": 277,
    "start_time": "2025-03-29T09:03:21.831Z"
   },
   {
    "duration": 682,
    "start_time": "2025-03-29T09:03:22.110Z"
   },
   {
    "duration": 744,
    "start_time": "2025-03-29T09:03:22.793Z"
   },
   {
    "duration": 283,
    "start_time": "2025-03-29T09:03:23.538Z"
   },
   {
    "duration": 153,
    "start_time": "2025-03-29T09:03:23.823Z"
   },
   {
    "duration": 51,
    "start_time": "2025-03-29T09:03:23.980Z"
   },
   {
    "duration": 418,
    "start_time": "2025-03-29T09:03:24.033Z"
   },
   {
    "duration": 3,
    "start_time": "2025-03-29T09:03:24.453Z"
   },
   {
    "duration": 4881,
    "start_time": "2025-03-29T09:03:24.457Z"
   },
   {
    "duration": 258,
    "start_time": "2025-03-29T09:03:29.340Z"
   },
   {
    "duration": 8,
    "start_time": "2025-03-29T09:03:29.603Z"
   },
   {
    "duration": 349,
    "start_time": "2025-03-29T09:03:29.613Z"
   },
   {
    "duration": 181,
    "start_time": "2025-03-29T09:03:29.963Z"
   },
   {
    "duration": 1178,
    "start_time": "2025-03-29T09:03:30.146Z"
   },
   {
    "duration": 458,
    "start_time": "2025-03-29T09:03:31.325Z"
   },
   {
    "duration": 1073,
    "start_time": "2025-03-29T09:03:31.784Z"
   },
   {
    "duration": 307,
    "start_time": "2025-03-29T09:03:32.859Z"
   },
   {
    "duration": 116,
    "start_time": "2025-03-29T09:03:33.168Z"
   },
   {
    "duration": 108,
    "start_time": "2025-03-29T09:03:33.286Z"
   },
   {
    "duration": 157,
    "start_time": "2025-03-29T09:03:33.405Z"
   },
   {
    "duration": 110,
    "start_time": "2025-03-29T09:03:33.564Z"
   },
   {
    "duration": 0,
    "start_time": "2025-03-29T09:03:33.676Z"
   },
   {
    "duration": 5,
    "start_time": "2025-03-29T09:03:46.001Z"
   },
   {
    "duration": 6,
    "start_time": "2025-03-29T09:03:47.270Z"
   },
   {
    "duration": 80,
    "start_time": "2025-03-29T09:04:23.592Z"
   },
   {
    "duration": 6,
    "start_time": "2025-03-29T09:04:26.273Z"
   },
   {
    "duration": 5,
    "start_time": "2025-03-29T09:04:29.350Z"
   },
   {
    "duration": 5,
    "start_time": "2025-03-29T09:04:47.399Z"
   },
   {
    "duration": 5,
    "start_time": "2025-03-29T09:06:03.760Z"
   },
   {
    "duration": 6,
    "start_time": "2025-03-29T09:06:08.852Z"
   },
   {
    "duration": 112,
    "start_time": "2025-03-29T09:08:14.591Z"
   },
   {
    "duration": 116,
    "start_time": "2025-03-29T09:09:43.500Z"
   },
   {
    "duration": 5,
    "start_time": "2025-03-29T09:09:46.814Z"
   },
   {
    "duration": 6,
    "start_time": "2025-03-29T09:09:47.970Z"
   },
   {
    "duration": 80,
    "start_time": "2025-03-29T09:10:23.389Z"
   },
   {
    "duration": 63,
    "start_time": "2025-03-29T09:10:40.812Z"
   },
   {
    "duration": 5,
    "start_time": "2025-03-29T09:11:15.528Z"
   },
   {
    "duration": 82,
    "start_time": "2025-03-29T09:11:18.135Z"
   },
   {
    "duration": 85,
    "start_time": "2025-03-29T09:11:21.085Z"
   },
   {
    "duration": 5,
    "start_time": "2025-03-29T09:11:27.202Z"
   },
   {
    "duration": 6,
    "start_time": "2025-03-29T09:11:29.742Z"
   },
   {
    "duration": 5,
    "start_time": "2025-03-29T09:11:33.864Z"
   },
   {
    "duration": 5,
    "start_time": "2025-03-29T09:11:36.245Z"
   },
   {
    "duration": 12,
    "start_time": "2025-03-29T09:12:33.585Z"
   },
   {
    "duration": 13,
    "start_time": "2025-03-29T09:13:07.582Z"
   },
   {
    "duration": 10534,
    "start_time": "2025-03-29T09:13:37.418Z"
   },
   {
    "duration": 4142,
    "start_time": "2025-03-29T09:13:47.953Z"
   },
   {
    "duration": 363,
    "start_time": "2025-03-29T09:13:52.104Z"
   },
   {
    "duration": 17,
    "start_time": "2025-03-29T09:13:52.469Z"
   },
   {
    "duration": 1399,
    "start_time": "2025-03-29T09:13:52.505Z"
   },
   {
    "duration": 269,
    "start_time": "2025-03-29T09:13:53.905Z"
   },
   {
    "duration": 431,
    "start_time": "2025-03-29T09:13:54.176Z"
   },
   {
    "duration": 278,
    "start_time": "2025-03-29T09:13:54.609Z"
   },
   {
    "duration": 691,
    "start_time": "2025-03-29T09:13:54.889Z"
   },
   {
    "duration": 734,
    "start_time": "2025-03-29T09:13:55.582Z"
   },
   {
    "duration": 267,
    "start_time": "2025-03-29T09:13:56.318Z"
   },
   {
    "duration": 153,
    "start_time": "2025-03-29T09:13:56.587Z"
   },
   {
    "duration": 43,
    "start_time": "2025-03-29T09:13:56.742Z"
   },
   {
    "duration": 416,
    "start_time": "2025-03-29T09:13:56.788Z"
   },
   {
    "duration": 3,
    "start_time": "2025-03-29T09:13:57.206Z"
   },
   {
    "duration": 4964,
    "start_time": "2025-03-29T09:13:57.211Z"
   },
   {
    "duration": 281,
    "start_time": "2025-03-29T09:14:02.178Z"
   },
   {
    "duration": 7,
    "start_time": "2025-03-29T09:14:02.461Z"
   },
   {
    "duration": 470,
    "start_time": "2025-03-29T09:14:02.470Z"
   },
   {
    "duration": 195,
    "start_time": "2025-03-29T09:14:02.942Z"
   },
   {
    "duration": 1245,
    "start_time": "2025-03-29T09:14:03.139Z"
   },
   {
    "duration": 519,
    "start_time": "2025-03-29T09:14:04.386Z"
   },
   {
    "duration": 1126,
    "start_time": "2025-03-29T09:14:04.907Z"
   },
   {
    "duration": 310,
    "start_time": "2025-03-29T09:14:06.035Z"
   },
   {
    "duration": 78,
    "start_time": "2025-03-29T09:14:06.347Z"
   },
   {
    "duration": 83,
    "start_time": "2025-03-29T09:14:06.426Z"
   },
   {
    "duration": 116,
    "start_time": "2025-03-29T09:14:06.511Z"
   },
   {
    "duration": 5,
    "start_time": "2025-03-29T09:14:06.629Z"
   },
   {
    "duration": 74,
    "start_time": "2025-03-29T09:14:06.636Z"
   },
   {
    "duration": 109,
    "start_time": "2025-03-29T09:14:14.641Z"
   },
   {
    "duration": 5,
    "start_time": "2025-03-29T09:14:42.150Z"
   },
   {
    "duration": 6,
    "start_time": "2025-03-29T09:14:44.465Z"
   },
   {
    "duration": 6,
    "start_time": "2025-03-29T09:15:25.335Z"
   },
   {
    "duration": 6,
    "start_time": "2025-03-29T09:15:30.213Z"
   },
   {
    "duration": 6,
    "start_time": "2025-03-29T09:15:35.123Z"
   },
   {
    "duration": 87,
    "start_time": "2025-03-29T09:15:44.576Z"
   },
   {
    "duration": 6,
    "start_time": "2025-03-29T09:15:49.445Z"
   },
   {
    "duration": 91,
    "start_time": "2025-03-29T09:16:03.089Z"
   },
   {
    "duration": 6,
    "start_time": "2025-03-29T09:16:05.004Z"
   },
   {
    "duration": 5,
    "start_time": "2025-03-29T09:16:19.152Z"
   },
   {
    "duration": 105,
    "start_time": "2025-03-29T09:16:26.946Z"
   },
   {
    "duration": 5,
    "start_time": "2025-03-29T09:16:28.650Z"
   },
   {
    "duration": 5,
    "start_time": "2025-03-29T09:16:45.776Z"
   },
   {
    "duration": 5,
    "start_time": "2025-03-29T09:17:11.002Z"
   },
   {
    "duration": 6,
    "start_time": "2025-03-29T09:17:17.858Z"
   },
   {
    "duration": 5,
    "start_time": "2025-03-29T09:17:24.431Z"
   },
   {
    "duration": 5,
    "start_time": "2025-03-29T09:20:14.959Z"
   },
   {
    "duration": 5,
    "start_time": "2025-03-29T09:20:24.287Z"
   },
   {
    "duration": 5,
    "start_time": "2025-03-29T09:20:27.939Z"
   },
   {
    "duration": 5,
    "start_time": "2025-03-29T09:20:31.577Z"
   },
   {
    "duration": 8,
    "start_time": "2025-03-29T09:20:58.217Z"
   },
   {
    "duration": 5,
    "start_time": "2025-03-29T09:21:01.756Z"
   },
   {
    "duration": 6,
    "start_time": "2025-03-29T09:21:06.039Z"
   },
   {
    "duration": 6,
    "start_time": "2025-03-29T09:21:10.880Z"
   },
   {
    "duration": 6,
    "start_time": "2025-03-29T09:21:12.611Z"
   },
   {
    "duration": 7,
    "start_time": "2025-03-29T09:22:18.649Z"
   },
   {
    "duration": 5,
    "start_time": "2025-03-29T09:22:26.603Z"
   },
   {
    "duration": 5,
    "start_time": "2025-03-29T09:22:32.546Z"
   },
   {
    "duration": 6,
    "start_time": "2025-03-29T09:22:35.169Z"
   },
   {
    "duration": 5,
    "start_time": "2025-03-29T09:22:37.929Z"
   },
   {
    "duration": 89,
    "start_time": "2025-03-29T09:24:06.144Z"
   },
   {
    "duration": 5,
    "start_time": "2025-03-29T09:24:40.449Z"
   },
   {
    "duration": 5,
    "start_time": "2025-03-29T09:25:19.726Z"
   },
   {
    "duration": 6,
    "start_time": "2025-03-29T09:25:21.437Z"
   },
   {
    "duration": 5,
    "start_time": "2025-03-29T09:26:18.867Z"
   },
   {
    "duration": 6,
    "start_time": "2025-03-29T09:26:21.730Z"
   },
   {
    "duration": 6,
    "start_time": "2025-03-29T09:27:56.540Z"
   },
   {
    "duration": 5,
    "start_time": "2025-03-29T09:28:00.430Z"
   },
   {
    "duration": 104,
    "start_time": "2025-03-29T09:28:35.759Z"
   },
   {
    "duration": 5,
    "start_time": "2025-03-29T09:28:37.015Z"
   },
   {
    "duration": 5,
    "start_time": "2025-03-29T09:29:02.178Z"
   },
   {
    "duration": 86,
    "start_time": "2025-03-29T09:30:44.769Z"
   },
   {
    "duration": 5,
    "start_time": "2025-03-29T09:30:48.998Z"
   },
   {
    "duration": 7,
    "start_time": "2025-03-29T09:31:00.672Z"
   },
   {
    "duration": 7,
    "start_time": "2025-03-29T09:31:14.659Z"
   },
   {
    "duration": 7,
    "start_time": "2025-03-29T09:31:22.874Z"
   },
   {
    "duration": 5,
    "start_time": "2025-03-29T09:31:36.754Z"
   },
   {
    "duration": 111,
    "start_time": "2025-03-29T09:31:46.736Z"
   },
   {
    "duration": 89,
    "start_time": "2025-03-29T09:33:12.039Z"
   },
   {
    "duration": 87,
    "start_time": "2025-03-29T09:33:13.841Z"
   },
   {
    "duration": 7,
    "start_time": "2025-03-29T09:33:15.106Z"
   },
   {
    "duration": 116,
    "start_time": "2025-03-29T09:33:22.023Z"
   },
   {
    "duration": 11806,
    "start_time": "2025-03-29T09:33:25.754Z"
   },
   {
    "duration": 4161,
    "start_time": "2025-03-29T09:33:37.562Z"
   },
   {
    "duration": 376,
    "start_time": "2025-03-29T09:33:41.724Z"
   },
   {
    "duration": 16,
    "start_time": "2025-03-29T09:33:42.102Z"
   },
   {
    "duration": 1359,
    "start_time": "2025-03-29T09:33:42.121Z"
   },
   {
    "duration": 277,
    "start_time": "2025-03-29T09:33:43.482Z"
   },
   {
    "duration": 434,
    "start_time": "2025-03-29T09:33:43.761Z"
   },
   {
    "duration": 274,
    "start_time": "2025-03-29T09:33:44.204Z"
   },
   {
    "duration": 718,
    "start_time": "2025-03-29T09:33:44.480Z"
   },
   {
    "duration": 758,
    "start_time": "2025-03-29T09:33:45.199Z"
   },
   {
    "duration": 277,
    "start_time": "2025-03-29T09:33:45.959Z"
   },
   {
    "duration": 159,
    "start_time": "2025-03-29T09:33:46.237Z"
   },
   {
    "duration": 42,
    "start_time": "2025-03-29T09:33:46.397Z"
   },
   {
    "duration": 413,
    "start_time": "2025-03-29T09:33:46.442Z"
   },
   {
    "duration": 4,
    "start_time": "2025-03-29T09:33:46.856Z"
   },
   {
    "duration": 5068,
    "start_time": "2025-03-29T09:33:46.861Z"
   },
   {
    "duration": 257,
    "start_time": "2025-03-29T09:33:51.931Z"
   },
   {
    "duration": 16,
    "start_time": "2025-03-29T09:33:52.190Z"
   },
   {
    "duration": 349,
    "start_time": "2025-03-29T09:33:52.208Z"
   },
   {
    "duration": 193,
    "start_time": "2025-03-29T09:33:52.558Z"
   },
   {
    "duration": 1201,
    "start_time": "2025-03-29T09:33:52.752Z"
   },
   {
    "duration": 514,
    "start_time": "2025-03-29T09:33:53.954Z"
   },
   {
    "duration": 1152,
    "start_time": "2025-03-29T09:33:54.469Z"
   },
   {
    "duration": 308,
    "start_time": "2025-03-29T09:33:55.623Z"
   },
   {
    "duration": 78,
    "start_time": "2025-03-29T09:33:55.933Z"
   },
   {
    "duration": 110,
    "start_time": "2025-03-29T09:33:56.013Z"
   },
   {
    "duration": 157,
    "start_time": "2025-03-29T09:33:56.125Z"
   },
   {
    "duration": 6,
    "start_time": "2025-03-29T09:33:56.283Z"
   },
   {
    "duration": 17,
    "start_time": "2025-03-29T09:33:56.291Z"
   },
   {
    "duration": 11450,
    "start_time": "2025-03-29T10:26:16.616Z"
   },
   {
    "duration": 3876,
    "start_time": "2025-03-29T10:26:28.068Z"
   },
   {
    "duration": 399,
    "start_time": "2025-03-29T10:26:31.945Z"
   },
   {
    "duration": 16,
    "start_time": "2025-03-29T10:26:32.345Z"
   },
   {
    "duration": 1559,
    "start_time": "2025-03-29T10:26:32.363Z"
   },
   {
    "duration": 298,
    "start_time": "2025-03-29T10:26:33.923Z"
   },
   {
    "duration": 496,
    "start_time": "2025-03-29T10:26:34.223Z"
   },
   {
    "duration": 301,
    "start_time": "2025-03-29T10:26:34.721Z"
   },
   {
    "duration": 771,
    "start_time": "2025-03-29T10:26:35.024Z"
   },
   {
    "duration": 793,
    "start_time": "2025-03-29T10:26:35.797Z"
   },
   {
    "duration": 286,
    "start_time": "2025-03-29T10:26:36.592Z"
   },
   {
    "duration": 171,
    "start_time": "2025-03-29T10:26:36.880Z"
   },
   {
    "duration": 44,
    "start_time": "2025-03-29T10:26:37.052Z"
   },
   {
    "duration": 454,
    "start_time": "2025-03-29T10:26:37.105Z"
   },
   {
    "duration": 5,
    "start_time": "2025-03-29T10:26:37.561Z"
   },
   {
    "duration": 5390,
    "start_time": "2025-03-29T10:26:37.568Z"
   },
   {
    "duration": 7,
    "start_time": "2025-03-29T10:26:42.960Z"
   },
   {
    "duration": 374,
    "start_time": "2025-03-29T10:26:42.969Z"
   },
   {
    "duration": 194,
    "start_time": "2025-03-29T10:26:43.345Z"
   },
   {
    "duration": 1491,
    "start_time": "2025-03-29T10:26:43.540Z"
   },
   {
    "duration": 568,
    "start_time": "2025-03-29T10:26:45.033Z"
   },
   {
    "duration": 1218,
    "start_time": "2025-03-29T10:26:45.603Z"
   },
   {
    "duration": 355,
    "start_time": "2025-03-29T10:26:46.822Z"
   },
   {
    "duration": 74,
    "start_time": "2025-03-29T10:26:47.178Z"
   },
   {
    "duration": 90,
    "start_time": "2025-03-29T10:26:47.254Z"
   },
   {
    "duration": 119,
    "start_time": "2025-03-29T10:26:47.346Z"
   },
   {
    "duration": 6,
    "start_time": "2025-03-29T10:26:47.467Z"
   },
   {
    "duration": 27,
    "start_time": "2025-03-29T10:26:47.474Z"
   },
   {
    "duration": 10879,
    "start_time": "2025-03-29T10:30:10.956Z"
   },
   {
    "duration": 3882,
    "start_time": "2025-03-29T10:30:21.837Z"
   },
   {
    "duration": 387,
    "start_time": "2025-03-29T10:30:25.722Z"
   },
   {
    "duration": 23,
    "start_time": "2025-03-29T10:30:26.112Z"
   },
   {
    "duration": 1540,
    "start_time": "2025-03-29T10:30:26.137Z"
   },
   {
    "duration": 294,
    "start_time": "2025-03-29T10:30:27.679Z"
   },
   {
    "duration": 516,
    "start_time": "2025-03-29T10:30:27.975Z"
   },
   {
    "duration": 294,
    "start_time": "2025-03-29T10:30:28.493Z"
   },
   {
    "duration": 751,
    "start_time": "2025-03-29T10:30:28.789Z"
   },
   {
    "duration": 923,
    "start_time": "2025-03-29T10:30:29.541Z"
   },
   {
    "duration": 370,
    "start_time": "2025-03-29T10:30:30.466Z"
   },
   {
    "duration": 203,
    "start_time": "2025-03-29T10:30:30.839Z"
   },
   {
    "duration": 44,
    "start_time": "2025-03-29T10:30:31.045Z"
   },
   {
    "duration": 488,
    "start_time": "2025-03-29T10:30:31.091Z"
   },
   {
    "duration": 4,
    "start_time": "2025-03-29T10:30:31.581Z"
   },
   {
    "duration": 5350,
    "start_time": "2025-03-29T10:30:31.605Z"
   },
   {
    "duration": 9,
    "start_time": "2025-03-29T10:30:36.956Z"
   },
   {
    "duration": 421,
    "start_time": "2025-03-29T10:30:36.968Z"
   },
   {
    "duration": 219,
    "start_time": "2025-03-29T10:30:37.391Z"
   },
   {
    "duration": 1507,
    "start_time": "2025-03-29T10:30:37.612Z"
   },
   {
    "duration": 472,
    "start_time": "2025-03-29T10:30:39.121Z"
   },
   {
    "duration": 1122,
    "start_time": "2025-03-29T10:30:39.595Z"
   },
   {
    "duration": 355,
    "start_time": "2025-03-29T10:30:40.724Z"
   },
   {
    "duration": 81,
    "start_time": "2025-03-29T10:30:41.081Z"
   },
   {
    "duration": 93,
    "start_time": "2025-03-29T10:30:41.164Z"
   },
   {
    "duration": 123,
    "start_time": "2025-03-29T10:30:41.259Z"
   },
   {
    "duration": 7,
    "start_time": "2025-03-29T10:30:41.384Z"
   },
   {
    "duration": 13,
    "start_time": "2025-03-29T10:30:41.404Z"
   },
   {
    "duration": 10718,
    "start_time": "2025-03-30T18:31:08.150Z"
   },
   {
    "duration": 0,
    "start_time": "2025-03-30T18:31:18.872Z"
   },
   {
    "duration": 0,
    "start_time": "2025-03-30T18:31:18.873Z"
   },
   {
    "duration": 0,
    "start_time": "2025-03-30T18:31:18.875Z"
   },
   {
    "duration": 0,
    "start_time": "2025-03-30T18:31:18.876Z"
   },
   {
    "duration": 0,
    "start_time": "2025-03-30T18:31:18.877Z"
   },
   {
    "duration": 0,
    "start_time": "2025-03-30T18:31:18.878Z"
   },
   {
    "duration": 0,
    "start_time": "2025-03-30T18:31:18.879Z"
   },
   {
    "duration": 0,
    "start_time": "2025-03-30T18:31:18.880Z"
   },
   {
    "duration": 0,
    "start_time": "2025-03-30T18:31:18.881Z"
   },
   {
    "duration": 0,
    "start_time": "2025-03-30T18:31:18.882Z"
   },
   {
    "duration": 0,
    "start_time": "2025-03-30T18:31:18.883Z"
   },
   {
    "duration": 0,
    "start_time": "2025-03-30T18:31:18.884Z"
   },
   {
    "duration": 0,
    "start_time": "2025-03-30T18:31:18.885Z"
   },
   {
    "duration": 0,
    "start_time": "2025-03-30T18:31:18.886Z"
   },
   {
    "duration": 0,
    "start_time": "2025-03-30T18:31:18.904Z"
   },
   {
    "duration": 0,
    "start_time": "2025-03-30T18:31:18.904Z"
   },
   {
    "duration": 0,
    "start_time": "2025-03-30T18:31:18.906Z"
   },
   {
    "duration": 0,
    "start_time": "2025-03-30T18:31:18.906Z"
   },
   {
    "duration": 0,
    "start_time": "2025-03-30T18:31:18.908Z"
   },
   {
    "duration": 0,
    "start_time": "2025-03-30T18:31:18.909Z"
   },
   {
    "duration": 0,
    "start_time": "2025-03-30T18:31:18.909Z"
   },
   {
    "duration": 0,
    "start_time": "2025-03-30T18:31:18.911Z"
   },
   {
    "duration": 0,
    "start_time": "2025-03-30T18:31:18.912Z"
   },
   {
    "duration": 0,
    "start_time": "2025-03-30T18:31:18.913Z"
   },
   {
    "duration": 0,
    "start_time": "2025-03-30T18:31:18.913Z"
   },
   {
    "duration": 1,
    "start_time": "2025-03-30T18:31:18.914Z"
   },
   {
    "duration": 0,
    "start_time": "2025-03-30T18:31:18.916Z"
   },
   {
    "duration": 9673,
    "start_time": "2025-03-30T18:32:10.057Z"
   },
   {
    "duration": 3468,
    "start_time": "2025-03-30T18:32:19.732Z"
   },
   {
    "duration": 350,
    "start_time": "2025-03-30T18:32:23.204Z"
   },
   {
    "duration": 15,
    "start_time": "2025-03-30T18:32:23.556Z"
   },
   {
    "duration": 1367,
    "start_time": "2025-03-30T18:32:23.573Z"
   },
   {
    "duration": 273,
    "start_time": "2025-03-30T18:32:24.942Z"
   },
   {
    "duration": 409,
    "start_time": "2025-03-30T18:32:25.217Z"
   },
   {
    "duration": 278,
    "start_time": "2025-03-30T18:32:25.628Z"
   },
   {
    "duration": 654,
    "start_time": "2025-03-30T18:32:25.907Z"
   },
   {
    "duration": 704,
    "start_time": "2025-03-30T18:32:26.564Z"
   },
   {
    "duration": 273,
    "start_time": "2025-03-30T18:32:27.270Z"
   },
   {
    "duration": 156,
    "start_time": "2025-03-30T18:32:27.548Z"
   },
   {
    "duration": 42,
    "start_time": "2025-03-30T18:32:27.705Z"
   },
   {
    "duration": 412,
    "start_time": "2025-03-30T18:32:27.749Z"
   },
   {
    "duration": 4,
    "start_time": "2025-03-30T18:32:28.163Z"
   },
   {
    "duration": 4959,
    "start_time": "2025-03-30T18:32:28.169Z"
   },
   {
    "duration": 7,
    "start_time": "2025-03-30T18:32:33.130Z"
   },
   {
    "duration": 357,
    "start_time": "2025-03-30T18:32:33.139Z"
   },
   {
    "duration": 179,
    "start_time": "2025-03-30T18:32:33.503Z"
   },
   {
    "duration": 1433,
    "start_time": "2025-03-30T18:32:33.683Z"
   },
   {
    "duration": 471,
    "start_time": "2025-03-30T18:32:35.118Z"
   },
   {
    "duration": 1102,
    "start_time": "2025-03-30T18:32:35.591Z"
   },
   {
    "duration": 348,
    "start_time": "2025-03-30T18:32:36.694Z"
   },
   {
    "duration": 82,
    "start_time": "2025-03-30T18:32:37.043Z"
   },
   {
    "duration": 109,
    "start_time": "2025-03-30T18:32:37.126Z"
   },
   {
    "duration": 117,
    "start_time": "2025-03-30T18:32:37.236Z"
   },
   {
    "duration": 6,
    "start_time": "2025-03-30T18:32:37.355Z"
   },
   {
    "duration": 11,
    "start_time": "2025-03-30T18:32:37.365Z"
   },
   {
    "duration": 20,
    "start_time": "2025-03-30T18:35:53.657Z"
   },
   {
    "duration": 8,
    "start_time": "2025-03-30T18:36:05.941Z"
   },
   {
    "duration": 24,
    "start_time": "2025-03-30T18:36:15.747Z"
   },
   {
    "duration": 10805,
    "start_time": "2025-03-30T18:40:06.917Z"
   },
   {
    "duration": 4280,
    "start_time": "2025-03-30T18:40:17.724Z"
   },
   {
    "duration": 340,
    "start_time": "2025-03-30T18:40:22.006Z"
   },
   {
    "duration": 15,
    "start_time": "2025-03-30T18:40:22.349Z"
   },
   {
    "duration": 5,
    "start_time": "2025-03-30T18:40:22.369Z"
   },
   {
    "duration": 6,
    "start_time": "2025-03-30T18:40:28.088Z"
   },
   {
    "duration": 9,
    "start_time": "2025-03-30T18:40:30.308Z"
   },
   {
    "duration": 8,
    "start_time": "2025-03-30T18:40:36.342Z"
   },
   {
    "duration": 13,
    "start_time": "2025-03-30T18:40:40.209Z"
   },
   {
    "duration": 12,
    "start_time": "2025-03-30T18:40:58.524Z"
   },
   {
    "duration": 4,
    "start_time": "2025-03-30T18:41:04.987Z"
   },
   {
    "duration": 17,
    "start_time": "2025-03-30T18:41:10.688Z"
   },
   {
    "duration": 10203,
    "start_time": "2025-03-30T18:44:24.630Z"
   },
   {
    "duration": 3974,
    "start_time": "2025-03-30T18:44:34.835Z"
   },
   {
    "duration": 348,
    "start_time": "2025-03-30T18:44:38.811Z"
   },
   {
    "duration": 15,
    "start_time": "2025-03-30T18:44:39.160Z"
   },
   {
    "duration": 46,
    "start_time": "2025-03-30T18:44:39.176Z"
   },
   {
    "duration": 23,
    "start_time": "2025-03-30T18:44:39.224Z"
   },
   {
    "duration": 1355,
    "start_time": "2025-03-30T18:44:39.248Z"
   },
   {
    "duration": 249,
    "start_time": "2025-03-30T18:44:40.605Z"
   },
   {
    "duration": 493,
    "start_time": "2025-03-30T18:44:57.692Z"
   },
   {
    "duration": 66,
    "start_time": "2025-03-30T18:45:11.427Z"
   },
   {
    "duration": 12699,
    "start_time": "2025-03-31T08:48:05.255Z"
   },
   {
    "duration": 21,
    "start_time": "2025-03-31T08:49:26.774Z"
   },
   {
    "duration": 12652,
    "start_time": "2025-03-31T08:49:51.873Z"
   },
   {
    "duration": 3387,
    "start_time": "2025-03-31T08:50:04.527Z"
   },
   {
    "duration": 372,
    "start_time": "2025-03-31T08:50:07.915Z"
   },
   {
    "duration": 25,
    "start_time": "2025-03-31T08:50:08.290Z"
   },
   {
    "duration": 27,
    "start_time": "2025-03-31T08:50:08.317Z"
   },
   {
    "duration": 49,
    "start_time": "2025-03-31T08:50:08.346Z"
   },
   {
    "duration": 1363,
    "start_time": "2025-03-31T08:50:08.397Z"
   },
   {
    "duration": 283,
    "start_time": "2025-03-31T08:50:09.762Z"
   },
   {
    "duration": 406,
    "start_time": "2025-03-31T08:50:10.046Z"
   },
   {
    "duration": 289,
    "start_time": "2025-03-31T08:50:10.455Z"
   },
   {
    "duration": 687,
    "start_time": "2025-03-31T08:50:10.746Z"
   },
   {
    "duration": 718,
    "start_time": "2025-03-31T08:50:11.435Z"
   },
   {
    "duration": 270,
    "start_time": "2025-03-31T08:50:12.155Z"
   },
   {
    "duration": 148,
    "start_time": "2025-03-31T08:50:12.426Z"
   },
   {
    "duration": 46,
    "start_time": "2025-03-31T08:50:12.576Z"
   },
   {
    "duration": 447,
    "start_time": "2025-03-31T08:50:12.624Z"
   },
   {
    "duration": 3,
    "start_time": "2025-03-31T08:50:13.073Z"
   },
   {
    "duration": 5026,
    "start_time": "2025-03-31T08:50:13.078Z"
   },
   {
    "duration": 8,
    "start_time": "2025-03-31T08:50:18.106Z"
   },
   {
    "duration": 354,
    "start_time": "2025-03-31T08:50:18.115Z"
   },
   {
    "duration": 191,
    "start_time": "2025-03-31T08:50:18.470Z"
   },
   {
    "duration": 1444,
    "start_time": "2025-03-31T08:50:18.663Z"
   },
   {
    "duration": 477,
    "start_time": "2025-03-31T08:50:20.109Z"
   },
   {
    "duration": 1112,
    "start_time": "2025-03-31T08:50:20.588Z"
   },
   {
    "duration": 335,
    "start_time": "2025-03-31T08:50:21.702Z"
   },
   {
    "duration": 77,
    "start_time": "2025-03-31T08:50:22.039Z"
   },
   {
    "duration": 76,
    "start_time": "2025-03-31T08:50:22.117Z"
   },
   {
    "duration": 112,
    "start_time": "2025-03-31T08:50:22.206Z"
   },
   {
    "duration": 5,
    "start_time": "2025-03-31T08:50:22.320Z"
   },
   {
    "duration": 13,
    "start_time": "2025-03-31T08:50:22.326Z"
   },
   {
    "duration": 12305,
    "start_time": "2025-03-31T08:51:08.512Z"
   },
   {
    "duration": 3379,
    "start_time": "2025-03-31T08:51:20.819Z"
   },
   {
    "duration": 368,
    "start_time": "2025-03-31T08:51:24.204Z"
   },
   {
    "duration": 113,
    "start_time": "2025-03-31T08:51:24.574Z"
   },
   {
    "duration": 0,
    "start_time": "2025-03-31T08:51:24.689Z"
   },
   {
    "duration": 0,
    "start_time": "2025-03-31T08:51:24.691Z"
   },
   {
    "duration": 0,
    "start_time": "2025-03-31T08:51:24.704Z"
   },
   {
    "duration": 0,
    "start_time": "2025-03-31T08:51:24.705Z"
   },
   {
    "duration": 0,
    "start_time": "2025-03-31T08:51:24.707Z"
   },
   {
    "duration": 0,
    "start_time": "2025-03-31T08:51:24.708Z"
   },
   {
    "duration": 0,
    "start_time": "2025-03-31T08:51:24.709Z"
   },
   {
    "duration": 0,
    "start_time": "2025-03-31T08:51:24.710Z"
   },
   {
    "duration": 0,
    "start_time": "2025-03-31T08:51:24.711Z"
   },
   {
    "duration": 0,
    "start_time": "2025-03-31T08:51:24.712Z"
   },
   {
    "duration": 1,
    "start_time": "2025-03-31T08:51:24.712Z"
   },
   {
    "duration": 0,
    "start_time": "2025-03-31T08:51:24.714Z"
   },
   {
    "duration": 0,
    "start_time": "2025-03-31T08:51:24.715Z"
   },
   {
    "duration": 0,
    "start_time": "2025-03-31T08:51:24.716Z"
   },
   {
    "duration": 0,
    "start_time": "2025-03-31T08:51:24.717Z"
   },
   {
    "duration": 0,
    "start_time": "2025-03-31T08:51:24.718Z"
   },
   {
    "duration": 0,
    "start_time": "2025-03-31T08:51:24.719Z"
   },
   {
    "duration": 0,
    "start_time": "2025-03-31T08:51:24.720Z"
   },
   {
    "duration": 0,
    "start_time": "2025-03-31T08:51:24.721Z"
   },
   {
    "duration": 0,
    "start_time": "2025-03-31T08:51:24.722Z"
   },
   {
    "duration": 0,
    "start_time": "2025-03-31T08:51:24.723Z"
   },
   {
    "duration": 0,
    "start_time": "2025-03-31T08:51:24.724Z"
   },
   {
    "duration": 0,
    "start_time": "2025-03-31T08:51:24.725Z"
   },
   {
    "duration": 0,
    "start_time": "2025-03-31T08:51:24.726Z"
   },
   {
    "duration": 0,
    "start_time": "2025-03-31T08:51:24.727Z"
   },
   {
    "duration": 0,
    "start_time": "2025-03-31T08:51:24.728Z"
   },
   {
    "duration": 20,
    "start_time": "2025-03-31T08:51:57.112Z"
   },
   {
    "duration": 16,
    "start_time": "2025-03-31T08:52:10.824Z"
   },
   {
    "duration": 11552,
    "start_time": "2025-03-31T08:58:56.070Z"
   },
   {
    "duration": 3516,
    "start_time": "2025-03-31T08:59:07.624Z"
   },
   {
    "duration": 356,
    "start_time": "2025-03-31T08:59:11.141Z"
   },
   {
    "duration": 19,
    "start_time": "2025-03-31T08:59:11.499Z"
   },
   {
    "duration": 4,
    "start_time": "2025-03-31T08:59:11.520Z"
   },
   {
    "duration": 1393,
    "start_time": "2025-03-31T08:59:11.525Z"
   },
   {
    "duration": 289,
    "start_time": "2025-03-31T08:59:12.921Z"
   },
   {
    "duration": 434,
    "start_time": "2025-03-31T08:59:13.211Z"
   },
   {
    "duration": 274,
    "start_time": "2025-03-31T08:59:13.648Z"
   },
   {
    "duration": 699,
    "start_time": "2025-03-31T08:59:13.924Z"
   },
   {
    "duration": 736,
    "start_time": "2025-03-31T08:59:14.625Z"
   },
   {
    "duration": 271,
    "start_time": "2025-03-31T08:59:15.363Z"
   },
   {
    "duration": 149,
    "start_time": "2025-03-31T08:59:15.637Z"
   },
   {
    "duration": 50,
    "start_time": "2025-03-31T08:59:15.790Z"
   },
   {
    "duration": 396,
    "start_time": "2025-03-31T08:59:15.842Z"
   },
   {
    "duration": 3,
    "start_time": "2025-03-31T08:59:16.240Z"
   },
   {
    "duration": 4999,
    "start_time": "2025-03-31T08:59:16.244Z"
   },
   {
    "duration": 8,
    "start_time": "2025-03-31T08:59:21.245Z"
   },
   {
    "duration": 377,
    "start_time": "2025-03-31T08:59:21.255Z"
   },
   {
    "duration": 181,
    "start_time": "2025-03-31T08:59:21.634Z"
   },
   {
    "duration": 1397,
    "start_time": "2025-03-31T08:59:21.817Z"
   },
   {
    "duration": 470,
    "start_time": "2025-03-31T08:59:23.216Z"
   },
   {
    "duration": 1109,
    "start_time": "2025-03-31T08:59:23.687Z"
   },
   {
    "duration": 311,
    "start_time": "2025-03-31T08:59:24.799Z"
   },
   {
    "duration": 65,
    "start_time": "2025-03-31T08:59:25.112Z"
   },
   {
    "duration": 93,
    "start_time": "2025-03-31T08:59:25.179Z"
   },
   {
    "duration": 116,
    "start_time": "2025-03-31T08:59:25.274Z"
   },
   {
    "duration": 14,
    "start_time": "2025-03-31T08:59:25.392Z"
   },
   {
    "duration": 81,
    "start_time": "2025-03-31T08:59:25.408Z"
   },
   {
    "duration": 89,
    "start_time": "2025-03-31T09:00:50.519Z"
   },
   {
    "duration": 736,
    "start_time": "2025-03-31T09:02:23.818Z"
   },
   {
    "duration": 12347,
    "start_time": "2025-03-31T09:02:38.783Z"
   },
   {
    "duration": 3440,
    "start_time": "2025-03-31T09:02:51.132Z"
   },
   {
    "duration": 363,
    "start_time": "2025-03-31T09:02:54.573Z"
   },
   {
    "duration": 16,
    "start_time": "2025-03-31T09:02:54.937Z"
   },
   {
    "duration": 5,
    "start_time": "2025-03-31T09:02:54.955Z"
   },
   {
    "duration": 1356,
    "start_time": "2025-03-31T09:02:54.961Z"
   },
   {
    "duration": 276,
    "start_time": "2025-03-31T09:02:56.319Z"
   },
   {
    "duration": 421,
    "start_time": "2025-03-31T09:02:56.597Z"
   },
   {
    "duration": 286,
    "start_time": "2025-03-31T09:02:57.020Z"
   },
   {
    "duration": 736,
    "start_time": "2025-03-31T09:02:57.308Z"
   },
   {
    "duration": 760,
    "start_time": "2025-03-31T09:02:58.045Z"
   },
   {
    "duration": 635,
    "start_time": "2025-03-31T09:02:58.806Z"
   },
   {
    "duration": 277,
    "start_time": "2025-03-31T09:02:59.443Z"
   },
   {
    "duration": 172,
    "start_time": "2025-03-31T09:02:59.723Z"
   },
   {
    "duration": 46,
    "start_time": "2025-03-31T09:02:59.897Z"
   },
   {
    "duration": 430,
    "start_time": "2025-03-31T09:02:59.945Z"
   },
   {
    "duration": 3,
    "start_time": "2025-03-31T09:03:00.377Z"
   },
   {
    "duration": 5131,
    "start_time": "2025-03-31T09:03:00.381Z"
   },
   {
    "duration": 7,
    "start_time": "2025-03-31T09:03:05.514Z"
   },
   {
    "duration": 355,
    "start_time": "2025-03-31T09:03:05.524Z"
   },
   {
    "duration": 202,
    "start_time": "2025-03-31T09:03:05.881Z"
   },
   {
    "duration": 1421,
    "start_time": "2025-03-31T09:03:06.085Z"
   },
   {
    "duration": 491,
    "start_time": "2025-03-31T09:03:07.508Z"
   },
   {
    "duration": 12135,
    "start_time": "2025-03-31T09:03:10.648Z"
   },
   {
    "duration": 3591,
    "start_time": "2025-03-31T09:03:22.785Z"
   },
   {
    "duration": 378,
    "start_time": "2025-03-31T09:03:26.377Z"
   },
   {
    "duration": 16,
    "start_time": "2025-03-31T09:03:26.757Z"
   },
   {
    "duration": 40,
    "start_time": "2025-03-31T09:03:26.775Z"
   },
   {
    "duration": 1462,
    "start_time": "2025-03-31T09:03:26.817Z"
   },
   {
    "duration": 274,
    "start_time": "2025-03-31T09:03:28.280Z"
   },
   {
    "duration": 450,
    "start_time": "2025-03-31T09:03:28.556Z"
   },
   {
    "duration": 276,
    "start_time": "2025-03-31T09:03:29.008Z"
   },
   {
    "duration": 768,
    "start_time": "2025-03-31T09:03:29.285Z"
   },
   {
    "duration": 763,
    "start_time": "2025-03-31T09:03:30.055Z"
   },
   {
    "duration": 626,
    "start_time": "2025-03-31T09:03:30.820Z"
   },
   {
    "duration": 286,
    "start_time": "2025-03-31T09:03:31.448Z"
   },
   {
    "duration": 151,
    "start_time": "2025-03-31T09:03:31.737Z"
   },
   {
    "duration": 48,
    "start_time": "2025-03-31T09:03:31.889Z"
   },
   {
    "duration": 428,
    "start_time": "2025-03-31T09:03:31.939Z"
   },
   {
    "duration": 4,
    "start_time": "2025-03-31T09:03:32.369Z"
   },
   {
    "duration": 5089,
    "start_time": "2025-03-31T09:03:32.375Z"
   },
   {
    "duration": 8,
    "start_time": "2025-03-31T09:03:37.465Z"
   },
   {
    "duration": 398,
    "start_time": "2025-03-31T09:03:37.475Z"
   },
   {
    "duration": 185,
    "start_time": "2025-03-31T09:03:37.875Z"
   },
   {
    "duration": 1434,
    "start_time": "2025-03-31T09:03:38.062Z"
   },
   {
    "duration": 506,
    "start_time": "2025-03-31T09:03:39.498Z"
   },
   {
    "duration": 1104,
    "start_time": "2025-03-31T09:03:40.005Z"
   },
   {
    "duration": 348,
    "start_time": "2025-03-31T09:03:41.111Z"
   },
   {
    "duration": 77,
    "start_time": "2025-03-31T09:03:41.461Z"
   },
   {
    "duration": 90,
    "start_time": "2025-03-31T09:03:41.539Z"
   },
   {
    "duration": 125,
    "start_time": "2025-03-31T09:03:41.631Z"
   },
   {
    "duration": 6,
    "start_time": "2025-03-31T09:03:41.758Z"
   },
   {
    "duration": 43,
    "start_time": "2025-03-31T09:03:41.765Z"
   },
   {
    "duration": 4,
    "start_time": "2025-03-31T09:04:34.992Z"
   },
   {
    "duration": 756,
    "start_time": "2025-03-31T09:04:51.128Z"
   },
   {
    "duration": 13792,
    "start_time": "2025-03-31T09:04:55.735Z"
   },
   {
    "duration": 3754,
    "start_time": "2025-03-31T09:05:09.529Z"
   },
   {
    "duration": 373,
    "start_time": "2025-03-31T09:05:13.285Z"
   },
   {
    "duration": 17,
    "start_time": "2025-03-31T09:05:13.659Z"
   },
   {
    "duration": 12,
    "start_time": "2025-03-31T09:05:13.678Z"
   },
   {
    "duration": 1387,
    "start_time": "2025-03-31T09:05:13.692Z"
   },
   {
    "duration": 270,
    "start_time": "2025-03-31T09:05:15.080Z"
   },
   {
    "duration": 512,
    "start_time": "2025-03-31T09:05:15.352Z"
   },
   {
    "duration": 286,
    "start_time": "2025-03-31T09:05:15.866Z"
   },
   {
    "duration": 711,
    "start_time": "2025-03-31T09:05:16.153Z"
   },
   {
    "duration": 778,
    "start_time": "2025-03-31T09:05:16.866Z"
   },
   {
    "duration": 625,
    "start_time": "2025-03-31T09:05:17.646Z"
   },
   {
    "duration": 288,
    "start_time": "2025-03-31T09:05:18.273Z"
   },
   {
    "duration": 154,
    "start_time": "2025-03-31T09:05:18.564Z"
   },
   {
    "duration": 45,
    "start_time": "2025-03-31T09:05:18.719Z"
   },
   {
    "duration": 418,
    "start_time": "2025-03-31T09:05:18.765Z"
   },
   {
    "duration": 3,
    "start_time": "2025-03-31T09:05:19.185Z"
   },
   {
    "duration": 5001,
    "start_time": "2025-03-31T09:05:19.190Z"
   },
   {
    "duration": 10,
    "start_time": "2025-03-31T09:05:24.204Z"
   },
   {
    "duration": 344,
    "start_time": "2025-03-31T09:05:24.216Z"
   },
   {
    "duration": 192,
    "start_time": "2025-03-31T09:05:24.562Z"
   },
   {
    "duration": 1435,
    "start_time": "2025-03-31T09:05:24.756Z"
   },
   {
    "duration": 488,
    "start_time": "2025-03-31T09:05:26.192Z"
   },
   {
    "duration": 1138,
    "start_time": "2025-03-31T09:05:26.682Z"
   },
   {
    "duration": 317,
    "start_time": "2025-03-31T09:05:27.822Z"
   },
   {
    "duration": 75,
    "start_time": "2025-03-31T09:05:28.140Z"
   },
   {
    "duration": 88,
    "start_time": "2025-03-31T09:05:28.217Z"
   },
   {
    "duration": 113,
    "start_time": "2025-03-31T09:05:28.307Z"
   },
   {
    "duration": 6,
    "start_time": "2025-03-31T09:05:28.422Z"
   },
   {
    "duration": 21,
    "start_time": "2025-03-31T09:05:28.429Z"
   },
   {
    "duration": 16062,
    "start_time": "2025-03-31T09:05:37.658Z"
   },
   {
    "duration": 3551,
    "start_time": "2025-03-31T09:05:53.721Z"
   },
   {
    "duration": 399,
    "start_time": "2025-03-31T09:05:57.273Z"
   },
   {
    "duration": 16,
    "start_time": "2025-03-31T09:05:57.674Z"
   },
   {
    "duration": 5,
    "start_time": "2025-03-31T09:05:57.706Z"
   },
   {
    "duration": 1401,
    "start_time": "2025-03-31T09:05:57.712Z"
   },
   {
    "duration": 290,
    "start_time": "2025-03-31T09:05:59.115Z"
   },
   {
    "duration": 439,
    "start_time": "2025-03-31T09:05:59.406Z"
   },
   {
    "duration": 285,
    "start_time": "2025-03-31T09:05:59.847Z"
   },
   {
    "duration": 769,
    "start_time": "2025-03-31T09:06:00.134Z"
   },
   {
    "duration": 1408,
    "start_time": "2025-03-31T09:06:00.905Z"
   },
   {
    "duration": 662,
    "start_time": "2025-03-31T09:06:02.315Z"
   },
   {
    "duration": 278,
    "start_time": "2025-03-31T09:06:02.979Z"
   },
   {
    "duration": 155,
    "start_time": "2025-03-31T09:06:03.259Z"
   },
   {
    "duration": 43,
    "start_time": "2025-03-31T09:06:03.416Z"
   },
   {
    "duration": 418,
    "start_time": "2025-03-31T09:06:03.460Z"
   },
   {
    "duration": 3,
    "start_time": "2025-03-31T09:06:03.880Z"
   },
   {
    "duration": 4913,
    "start_time": "2025-03-31T09:06:03.885Z"
   },
   {
    "duration": 8,
    "start_time": "2025-03-31T09:06:08.804Z"
   },
   {
    "duration": 349,
    "start_time": "2025-03-31T09:06:08.814Z"
   },
   {
    "duration": 195,
    "start_time": "2025-03-31T09:06:09.165Z"
   },
   {
    "duration": 1441,
    "start_time": "2025-03-31T09:06:09.362Z"
   },
   {
    "duration": 481,
    "start_time": "2025-03-31T09:06:10.805Z"
   },
   {
    "duration": 1113,
    "start_time": "2025-03-31T09:06:11.288Z"
   },
   {
    "duration": 349,
    "start_time": "2025-03-31T09:06:12.403Z"
   },
   {
    "duration": 80,
    "start_time": "2025-03-31T09:06:12.754Z"
   },
   {
    "duration": 84,
    "start_time": "2025-03-31T09:06:12.836Z"
   },
   {
    "duration": 117,
    "start_time": "2025-03-31T09:06:12.923Z"
   },
   {
    "duration": 6,
    "start_time": "2025-03-31T09:06:13.042Z"
   },
   {
    "duration": 38,
    "start_time": "2025-03-31T09:06:13.050Z"
   },
   {
    "duration": 19839,
    "start_time": "2025-03-31T09:06:17.079Z"
   },
   {
    "duration": 8803,
    "start_time": "2025-03-31T09:06:36.920Z"
   },
   {
    "duration": 379,
    "start_time": "2025-03-31T09:06:45.725Z"
   },
   {
    "duration": 18,
    "start_time": "2025-03-31T09:06:46.105Z"
   },
   {
    "duration": 13,
    "start_time": "2025-03-31T09:06:46.127Z"
   },
   {
    "duration": 1414,
    "start_time": "2025-03-31T09:06:46.141Z"
   },
   {
    "duration": 286,
    "start_time": "2025-03-31T09:06:47.557Z"
   },
   {
    "duration": 464,
    "start_time": "2025-03-31T09:06:47.844Z"
   },
   {
    "duration": 303,
    "start_time": "2025-03-31T09:06:48.309Z"
   },
   {
    "duration": 738,
    "start_time": "2025-03-31T09:06:48.614Z"
   },
   {
    "duration": 715,
    "start_time": "2025-03-31T09:06:49.355Z"
   },
   {
    "duration": 760,
    "start_time": "2025-03-31T09:06:50.072Z"
   },
   {
    "duration": 287,
    "start_time": "2025-03-31T09:06:50.834Z"
   },
   {
    "duration": 150,
    "start_time": "2025-03-31T09:06:51.125Z"
   },
   {
    "duration": 52,
    "start_time": "2025-03-31T09:06:51.277Z"
   },
   {
    "duration": 417,
    "start_time": "2025-03-31T09:06:51.331Z"
   },
   {
    "duration": 4,
    "start_time": "2025-03-31T09:06:51.750Z"
   },
   {
    "duration": 4997,
    "start_time": "2025-03-31T09:06:51.756Z"
   },
   {
    "duration": 9,
    "start_time": "2025-03-31T09:06:56.755Z"
   },
   {
    "duration": 738,
    "start_time": "2025-03-31T09:06:56.766Z"
   },
   {
    "duration": 415,
    "start_time": "2025-03-31T09:06:57.506Z"
   },
   {
    "duration": 1682,
    "start_time": "2025-03-31T09:06:57.922Z"
   },
   {
    "duration": 486,
    "start_time": "2025-03-31T09:06:59.605Z"
   },
   {
    "duration": 1129,
    "start_time": "2025-03-31T09:07:00.092Z"
   },
   {
    "duration": 323,
    "start_time": "2025-03-31T09:07:01.222Z"
   },
   {
    "duration": 83,
    "start_time": "2025-03-31T09:07:01.547Z"
   },
   {
    "duration": 92,
    "start_time": "2025-03-31T09:07:01.632Z"
   },
   {
    "duration": 124,
    "start_time": "2025-03-31T09:07:01.727Z"
   },
   {
    "duration": 7,
    "start_time": "2025-03-31T09:07:01.853Z"
   },
   {
    "duration": 77,
    "start_time": "2025-03-31T09:07:01.861Z"
   },
   {
    "duration": 136,
    "start_time": "2025-03-31T09:21:47.729Z"
   },
   {
    "duration": 316,
    "start_time": "2025-03-31T09:22:12.831Z"
   },
   {
    "duration": 12500,
    "start_time": "2025-03-31T09:27:39.692Z"
   },
   {
    "duration": 4937,
    "start_time": "2025-03-31T09:27:52.194Z"
   },
   {
    "duration": 362,
    "start_time": "2025-03-31T09:27:57.135Z"
   },
   {
    "duration": 17,
    "start_time": "2025-03-31T09:27:57.500Z"
   },
   {
    "duration": 5,
    "start_time": "2025-03-31T09:27:57.518Z"
   },
   {
    "duration": 1382,
    "start_time": "2025-03-31T09:27:57.525Z"
   },
   {
    "duration": 266,
    "start_time": "2025-03-31T09:27:58.908Z"
   },
   {
    "duration": 414,
    "start_time": "2025-03-31T09:27:59.175Z"
   },
   {
    "duration": 301,
    "start_time": "2025-03-31T09:27:59.590Z"
   },
   {
    "duration": 683,
    "start_time": "2025-03-31T09:27:59.893Z"
   },
   {
    "duration": 667,
    "start_time": "2025-03-31T09:28:00.578Z"
   },
   {
    "duration": 714,
    "start_time": "2025-03-31T09:28:01.247Z"
   },
   {
    "duration": 274,
    "start_time": "2025-03-31T09:28:01.964Z"
   },
   {
    "duration": 151,
    "start_time": "2025-03-31T09:28:02.240Z"
   },
   {
    "duration": 154,
    "start_time": "2025-03-31T09:28:02.392Z"
   },
   {
    "duration": 273,
    "start_time": "2025-03-31T09:28:02.547Z"
   },
   {
    "duration": 0,
    "start_time": "2025-03-31T09:28:02.822Z"
   },
   {
    "duration": 0,
    "start_time": "2025-03-31T09:28:02.823Z"
   },
   {
    "duration": 0,
    "start_time": "2025-03-31T09:28:02.825Z"
   },
   {
    "duration": 0,
    "start_time": "2025-03-31T09:28:02.826Z"
   },
   {
    "duration": 0,
    "start_time": "2025-03-31T09:28:02.827Z"
   },
   {
    "duration": 0,
    "start_time": "2025-03-31T09:28:02.828Z"
   },
   {
    "duration": 0,
    "start_time": "2025-03-31T09:28:02.829Z"
   },
   {
    "duration": 0,
    "start_time": "2025-03-31T09:28:02.830Z"
   },
   {
    "duration": 0,
    "start_time": "2025-03-31T09:28:02.831Z"
   },
   {
    "duration": 0,
    "start_time": "2025-03-31T09:28:02.831Z"
   },
   {
    "duration": 0,
    "start_time": "2025-03-31T09:28:02.832Z"
   },
   {
    "duration": 0,
    "start_time": "2025-03-31T09:28:02.833Z"
   },
   {
    "duration": 0,
    "start_time": "2025-03-31T09:28:02.834Z"
   },
   {
    "duration": 0,
    "start_time": "2025-03-31T09:28:02.835Z"
   },
   {
    "duration": 0,
    "start_time": "2025-03-31T09:28:02.836Z"
   },
   {
    "duration": 0,
    "start_time": "2025-03-31T09:28:02.837Z"
   },
   {
    "duration": 0,
    "start_time": "2025-03-31T09:28:02.838Z"
   },
   {
    "duration": 682,
    "start_time": "2025-03-31T09:28:26.008Z"
   },
   {
    "duration": 428,
    "start_time": "2025-03-31T09:28:44.124Z"
   },
   {
    "duration": 756,
    "start_time": "2025-03-31T09:35:17.908Z"
   },
   {
    "duration": 11240,
    "start_time": "2025-03-31T09:35:34.541Z"
   },
   {
    "duration": 17981,
    "start_time": "2025-03-31T09:35:45.783Z"
   },
   {
    "duration": 0,
    "start_time": "2025-03-31T09:36:03.767Z"
   },
   {
    "duration": 0,
    "start_time": "2025-03-31T09:36:03.768Z"
   },
   {
    "duration": 0,
    "start_time": "2025-03-31T09:36:03.770Z"
   },
   {
    "duration": 0,
    "start_time": "2025-03-31T09:36:03.771Z"
   },
   {
    "duration": 0,
    "start_time": "2025-03-31T09:36:03.773Z"
   },
   {
    "duration": 0,
    "start_time": "2025-03-31T09:36:03.774Z"
   },
   {
    "duration": 0,
    "start_time": "2025-03-31T09:36:03.776Z"
   },
   {
    "duration": 0,
    "start_time": "2025-03-31T09:36:03.778Z"
   },
   {
    "duration": 0,
    "start_time": "2025-03-31T09:36:03.779Z"
   },
   {
    "duration": 0,
    "start_time": "2025-03-31T09:36:03.780Z"
   },
   {
    "duration": 0,
    "start_time": "2025-03-31T09:36:03.781Z"
   },
   {
    "duration": 0,
    "start_time": "2025-03-31T09:36:03.782Z"
   },
   {
    "duration": 0,
    "start_time": "2025-03-31T09:36:03.783Z"
   },
   {
    "duration": 0,
    "start_time": "2025-03-31T09:36:03.785Z"
   },
   {
    "duration": 0,
    "start_time": "2025-03-31T09:36:03.787Z"
   },
   {
    "duration": 0,
    "start_time": "2025-03-31T09:36:03.788Z"
   },
   {
    "duration": 0,
    "start_time": "2025-03-31T09:36:03.790Z"
   },
   {
    "duration": 0,
    "start_time": "2025-03-31T09:36:03.791Z"
   },
   {
    "duration": 0,
    "start_time": "2025-03-31T09:36:03.793Z"
   },
   {
    "duration": 0,
    "start_time": "2025-03-31T09:36:03.794Z"
   },
   {
    "duration": 0,
    "start_time": "2025-03-31T09:36:03.796Z"
   },
   {
    "duration": 0,
    "start_time": "2025-03-31T09:36:03.803Z"
   },
   {
    "duration": 0,
    "start_time": "2025-03-31T09:36:03.804Z"
   },
   {
    "duration": 0,
    "start_time": "2025-03-31T09:36:03.806Z"
   },
   {
    "duration": 0,
    "start_time": "2025-03-31T09:36:03.807Z"
   },
   {
    "duration": 0,
    "start_time": "2025-03-31T09:36:03.809Z"
   },
   {
    "duration": 0,
    "start_time": "2025-03-31T09:36:03.811Z"
   },
   {
    "duration": 0,
    "start_time": "2025-03-31T09:36:03.812Z"
   },
   {
    "duration": 0,
    "start_time": "2025-03-31T09:36:03.814Z"
   },
   {
    "duration": 0,
    "start_time": "2025-03-31T09:36:03.816Z"
   },
   {
    "duration": 0,
    "start_time": "2025-03-31T09:36:03.817Z"
   },
   {
    "duration": 0,
    "start_time": "2025-03-31T09:36:03.819Z"
   },
   {
    "duration": 12589,
    "start_time": "2025-03-31T09:36:24.881Z"
   },
   {
    "duration": 4580,
    "start_time": "2025-03-31T09:36:37.474Z"
   },
   {
    "duration": 364,
    "start_time": "2025-03-31T09:36:42.056Z"
   },
   {
    "duration": 16,
    "start_time": "2025-03-31T09:36:42.421Z"
   },
   {
    "duration": 9,
    "start_time": "2025-03-31T09:36:42.440Z"
   },
   {
    "duration": 1374,
    "start_time": "2025-03-31T09:36:42.451Z"
   },
   {
    "duration": 268,
    "start_time": "2025-03-31T09:36:43.827Z"
   },
   {
    "duration": 415,
    "start_time": "2025-03-31T09:36:44.104Z"
   },
   {
    "duration": 304,
    "start_time": "2025-03-31T09:36:44.520Z"
   },
   {
    "duration": 754,
    "start_time": "2025-03-31T09:36:44.826Z"
   },
   {
    "duration": 698,
    "start_time": "2025-03-31T09:36:45.582Z"
   },
   {
    "duration": 766,
    "start_time": "2025-03-31T09:36:46.282Z"
   },
   {
    "duration": 282,
    "start_time": "2025-03-31T09:36:47.049Z"
   },
   {
    "duration": 154,
    "start_time": "2025-03-31T09:36:47.333Z"
   },
   {
    "duration": 179,
    "start_time": "2025-03-31T09:36:47.489Z"
   },
   {
    "duration": 694,
    "start_time": "2025-03-31T09:36:47.669Z"
   },
   {
    "duration": 125,
    "start_time": "2025-03-31T09:36:48.365Z"
   },
   {
    "duration": 441,
    "start_time": "2025-03-31T09:36:48.491Z"
   },
   {
    "duration": 38,
    "start_time": "2025-03-31T09:36:48.934Z"
   },
   {
    "duration": 408,
    "start_time": "2025-03-31T09:36:48.974Z"
   },
   {
    "duration": 4,
    "start_time": "2025-03-31T09:36:49.383Z"
   },
   {
    "duration": 5202,
    "start_time": "2025-03-31T09:36:49.388Z"
   },
   {
    "duration": 20,
    "start_time": "2025-03-31T09:36:54.591Z"
   },
   {
    "duration": 352,
    "start_time": "2025-03-31T09:36:54.613Z"
   },
   {
    "duration": 184,
    "start_time": "2025-03-31T09:36:54.967Z"
   },
   {
    "duration": 1385,
    "start_time": "2025-03-31T09:36:55.153Z"
   },
   {
    "duration": 475,
    "start_time": "2025-03-31T09:36:56.540Z"
   },
   {
    "duration": 1079,
    "start_time": "2025-03-31T09:36:57.017Z"
   },
   {
    "duration": 422,
    "start_time": "2025-03-31T09:36:58.098Z"
   },
   {
    "duration": 66,
    "start_time": "2025-03-31T09:36:58.522Z"
   },
   {
    "duration": 74,
    "start_time": "2025-03-31T09:36:58.603Z"
   },
   {
    "duration": 127,
    "start_time": "2025-03-31T09:36:58.679Z"
   },
   {
    "duration": 6,
    "start_time": "2025-03-31T09:36:58.808Z"
   },
   {
    "duration": 65,
    "start_time": "2025-03-31T09:36:58.816Z"
   },
   {
    "duration": 11327,
    "start_time": "2025-03-31T09:40:55.552Z"
   },
   {
    "duration": 3478,
    "start_time": "2025-03-31T09:41:06.881Z"
   },
   {
    "duration": 365,
    "start_time": "2025-03-31T09:41:10.361Z"
   },
   {
    "duration": 16,
    "start_time": "2025-03-31T09:41:10.727Z"
   },
   {
    "duration": 4,
    "start_time": "2025-03-31T09:41:10.746Z"
   },
   {
    "duration": 1393,
    "start_time": "2025-03-31T09:41:10.751Z"
   },
   {
    "duration": 285,
    "start_time": "2025-03-31T09:41:12.146Z"
   },
   {
    "duration": 445,
    "start_time": "2025-03-31T09:41:12.432Z"
   },
   {
    "duration": 294,
    "start_time": "2025-03-31T09:41:12.879Z"
   },
   {
    "duration": 726,
    "start_time": "2025-03-31T09:41:13.174Z"
   },
   {
    "duration": 678,
    "start_time": "2025-03-31T09:41:13.901Z"
   },
   {
    "duration": 789,
    "start_time": "2025-03-31T09:41:14.582Z"
   },
   {
    "duration": 286,
    "start_time": "2025-03-31T09:41:15.373Z"
   },
   {
    "duration": 156,
    "start_time": "2025-03-31T09:41:15.662Z"
   },
   {
    "duration": 156,
    "start_time": "2025-03-31T09:41:15.820Z"
   },
   {
    "duration": 827,
    "start_time": "2025-03-31T09:41:15.977Z"
   },
   {
    "duration": 277,
    "start_time": "2025-03-31T09:41:16.806Z"
   },
   {
    "duration": 187,
    "start_time": "2025-03-31T09:41:17.085Z"
   },
   {
    "duration": 45,
    "start_time": "2025-03-31T09:41:17.274Z"
   },
   {
    "duration": 422,
    "start_time": "2025-03-31T09:41:17.321Z"
   },
   {
    "duration": 3,
    "start_time": "2025-03-31T09:41:17.745Z"
   },
   {
    "duration": 5049,
    "start_time": "2025-03-31T09:41:17.750Z"
   },
   {
    "duration": 9,
    "start_time": "2025-03-31T09:41:22.804Z"
   },
   {
    "duration": 358,
    "start_time": "2025-03-31T09:41:22.815Z"
   },
   {
    "duration": 188,
    "start_time": "2025-03-31T09:41:23.175Z"
   },
   {
    "duration": 1424,
    "start_time": "2025-03-31T09:41:23.364Z"
   },
   {
    "duration": 491,
    "start_time": "2025-03-31T09:41:24.789Z"
   },
   {
    "duration": 1130,
    "start_time": "2025-03-31T09:41:25.282Z"
   },
   {
    "duration": 331,
    "start_time": "2025-03-31T09:41:26.415Z"
   },
   {
    "duration": 75,
    "start_time": "2025-03-31T09:41:26.748Z"
   },
   {
    "duration": 171,
    "start_time": "2025-03-31T09:41:26.825Z"
   },
   {
    "duration": 122,
    "start_time": "2025-03-31T09:41:26.998Z"
   },
   {
    "duration": 6,
    "start_time": "2025-03-31T09:41:27.122Z"
   },
   {
    "duration": 67,
    "start_time": "2025-03-31T09:41:27.130Z"
   },
   {
    "duration": 1189,
    "start_time": "2025-03-31T09:46:34.217Z"
   },
   {
    "duration": 11694,
    "start_time": "2025-03-31T09:46:51.327Z"
   },
   {
    "duration": 4364,
    "start_time": "2025-03-31T09:47:03.023Z"
   },
   {
    "duration": 375,
    "start_time": "2025-03-31T09:47:07.388Z"
   },
   {
    "duration": 15,
    "start_time": "2025-03-31T09:47:07.765Z"
   },
   {
    "duration": 5,
    "start_time": "2025-03-31T09:47:07.782Z"
   },
   {
    "duration": 1388,
    "start_time": "2025-03-31T09:47:07.811Z"
   },
   {
    "duration": 277,
    "start_time": "2025-03-31T09:47:09.205Z"
   },
   {
    "duration": 468,
    "start_time": "2025-03-31T09:47:09.484Z"
   },
   {
    "duration": 287,
    "start_time": "2025-03-31T09:47:09.953Z"
   },
   {
    "duration": 733,
    "start_time": "2025-03-31T09:47:10.242Z"
   },
   {
    "duration": 671,
    "start_time": "2025-03-31T09:47:10.977Z"
   },
   {
    "duration": 769,
    "start_time": "2025-03-31T09:47:11.650Z"
   },
   {
    "duration": 290,
    "start_time": "2025-03-31T09:47:12.421Z"
   },
   {
    "duration": 151,
    "start_time": "2025-03-31T09:47:12.718Z"
   },
   {
    "duration": 156,
    "start_time": "2025-03-31T09:47:12.870Z"
   },
   {
    "duration": 820,
    "start_time": "2025-03-31T09:47:13.027Z"
   },
   {
    "duration": 296,
    "start_time": "2025-03-31T09:47:13.849Z"
   },
   {
    "duration": 205,
    "start_time": "2025-03-31T09:47:14.147Z"
   },
   {
    "duration": 57,
    "start_time": "2025-03-31T09:47:14.354Z"
   },
   {
    "duration": 4,
    "start_time": "2025-03-31T09:47:14.416Z"
   },
   {
    "duration": 5307,
    "start_time": "2025-03-31T09:47:14.422Z"
   },
   {
    "duration": 8,
    "start_time": "2025-03-31T09:47:19.731Z"
   },
   {
    "duration": 382,
    "start_time": "2025-03-31T09:47:19.740Z"
   },
   {
    "duration": 194,
    "start_time": "2025-03-31T09:47:20.124Z"
   },
   {
    "duration": 1406,
    "start_time": "2025-03-31T09:47:20.320Z"
   },
   {
    "duration": 466,
    "start_time": "2025-03-31T09:47:21.728Z"
   },
   {
    "duration": 1137,
    "start_time": "2025-03-31T09:47:22.203Z"
   },
   {
    "duration": 338,
    "start_time": "2025-03-31T09:47:23.342Z"
   },
   {
    "duration": 77,
    "start_time": "2025-03-31T09:47:23.682Z"
   },
   {
    "duration": 85,
    "start_time": "2025-03-31T09:47:23.761Z"
   },
   {
    "duration": 118,
    "start_time": "2025-03-31T09:47:23.847Z"
   },
   {
    "duration": 5,
    "start_time": "2025-03-31T09:47:23.967Z"
   },
   {
    "duration": 74,
    "start_time": "2025-03-31T09:47:23.974Z"
   },
   {
    "duration": 1584,
    "start_time": "2025-03-31T09:50:25.542Z"
   },
   {
    "duration": 2874,
    "start_time": "2025-03-31T09:51:56.133Z"
   },
   {
    "duration": 10952,
    "start_time": "2025-03-31T09:52:03.223Z"
   },
   {
    "duration": 4079,
    "start_time": "2025-03-31T09:52:14.177Z"
   },
   {
    "duration": 360,
    "start_time": "2025-03-31T09:52:18.257Z"
   },
   {
    "duration": 16,
    "start_time": "2025-03-31T09:52:18.618Z"
   },
   {
    "duration": 24,
    "start_time": "2025-03-31T09:52:18.636Z"
   },
   {
    "duration": 1403,
    "start_time": "2025-03-31T09:52:18.662Z"
   },
   {
    "duration": 269,
    "start_time": "2025-03-31T09:52:20.067Z"
   },
   {
    "duration": 448,
    "start_time": "2025-03-31T09:52:20.338Z"
   },
   {
    "duration": 281,
    "start_time": "2025-03-31T09:52:20.788Z"
   },
   {
    "duration": 1652,
    "start_time": "2025-03-31T09:52:21.070Z"
   },
   {
    "duration": 2723,
    "start_time": "2025-03-31T09:52:22.724Z"
   },
   {
    "duration": 739,
    "start_time": "2025-03-31T09:52:25.449Z"
   },
   {
    "duration": 730,
    "start_time": "2025-03-31T09:52:26.189Z"
   },
   {
    "duration": 862,
    "start_time": "2025-03-31T09:52:26.922Z"
   },
   {
    "duration": 279,
    "start_time": "2025-03-31T09:52:27.786Z"
   },
   {
    "duration": 160,
    "start_time": "2025-03-31T09:52:28.067Z"
   },
   {
    "duration": 147,
    "start_time": "2025-03-31T09:52:28.229Z"
   },
   {
    "duration": 816,
    "start_time": "2025-03-31T09:52:28.377Z"
   },
   {
    "duration": 279,
    "start_time": "2025-03-31T09:52:29.203Z"
   },
   {
    "duration": 197,
    "start_time": "2025-03-31T09:52:29.484Z"
   },
   {
    "duration": 52,
    "start_time": "2025-03-31T09:52:29.683Z"
   },
   {
    "duration": 4,
    "start_time": "2025-03-31T09:52:29.737Z"
   },
   {
    "duration": 5203,
    "start_time": "2025-03-31T09:52:29.742Z"
   },
   {
    "duration": 8,
    "start_time": "2025-03-31T09:52:34.946Z"
   },
   {
    "duration": 364,
    "start_time": "2025-03-31T09:52:34.955Z"
   },
   {
    "duration": 185,
    "start_time": "2025-03-31T09:52:35.321Z"
   },
   {
    "duration": 1351,
    "start_time": "2025-03-31T09:52:35.508Z"
   },
   {
    "duration": 501,
    "start_time": "2025-03-31T09:52:36.860Z"
   },
   {
    "duration": 1245,
    "start_time": "2025-03-31T09:52:37.363Z"
   },
   {
    "duration": 311,
    "start_time": "2025-03-31T09:52:38.610Z"
   },
   {
    "duration": 64,
    "start_time": "2025-03-31T09:52:38.924Z"
   },
   {
    "duration": 83,
    "start_time": "2025-03-31T09:52:39.004Z"
   },
   {
    "duration": 131,
    "start_time": "2025-03-31T09:52:39.088Z"
   },
   {
    "duration": 6,
    "start_time": "2025-03-31T09:52:39.221Z"
   },
   {
    "duration": 23,
    "start_time": "2025-03-31T09:52:39.229Z"
   },
   {
    "duration": 1996,
    "start_time": "2025-03-31T09:57:17.993Z"
   },
   {
    "duration": 2616,
    "start_time": "2025-03-31T10:38:32.832Z"
   },
   {
    "duration": 2643,
    "start_time": "2025-03-31T10:38:40.336Z"
   },
   {
    "duration": 2738,
    "start_time": "2025-03-31T10:38:52.072Z"
   },
   {
    "duration": 586,
    "start_time": "2025-03-31T10:39:06.030Z"
   },
   {
    "duration": 629,
    "start_time": "2025-03-31T10:39:27.503Z"
   },
   {
    "duration": 11576,
    "start_time": "2025-03-31T10:39:45.186Z"
   },
   {
    "duration": 3436,
    "start_time": "2025-03-31T10:39:56.764Z"
   },
   {
    "duration": 371,
    "start_time": "2025-03-31T10:40:00.204Z"
   },
   {
    "duration": 28,
    "start_time": "2025-03-31T10:40:00.577Z"
   },
   {
    "duration": 9,
    "start_time": "2025-03-31T10:40:00.606Z"
   },
   {
    "duration": 1412,
    "start_time": "2025-03-31T10:40:00.616Z"
   },
   {
    "duration": 277,
    "start_time": "2025-03-31T10:40:02.029Z"
   },
   {
    "duration": 438,
    "start_time": "2025-03-31T10:40:02.308Z"
   },
   {
    "duration": 282,
    "start_time": "2025-03-31T10:40:02.748Z"
   },
   {
    "duration": 1964,
    "start_time": "2025-03-31T10:40:03.032Z"
   },
   {
    "duration": 534,
    "start_time": "2025-03-31T10:40:05.003Z"
   },
   {
    "duration": 678,
    "start_time": "2025-03-31T10:40:05.539Z"
   },
   {
    "duration": 658,
    "start_time": "2025-03-31T10:40:06.218Z"
   },
   {
    "duration": 769,
    "start_time": "2025-03-31T10:40:06.878Z"
   },
   {
    "duration": 279,
    "start_time": "2025-03-31T10:40:07.649Z"
   },
   {
    "duration": 156,
    "start_time": "2025-03-31T10:40:07.929Z"
   },
   {
    "duration": 140,
    "start_time": "2025-03-31T10:40:08.086Z"
   },
   {
    "duration": 801,
    "start_time": "2025-03-31T10:40:08.228Z"
   },
   {
    "duration": 276,
    "start_time": "2025-03-31T10:40:09.031Z"
   },
   {
    "duration": 197,
    "start_time": "2025-03-31T10:40:09.309Z"
   },
   {
    "duration": 39,
    "start_time": "2025-03-31T10:40:09.507Z"
   },
   {
    "duration": 3,
    "start_time": "2025-03-31T10:40:09.548Z"
   },
   {
    "duration": 4926,
    "start_time": "2025-03-31T10:40:09.552Z"
   },
   {
    "duration": 7,
    "start_time": "2025-03-31T10:40:14.480Z"
   },
   {
    "duration": 359,
    "start_time": "2025-03-31T10:40:14.489Z"
   },
   {
    "duration": 178,
    "start_time": "2025-03-31T10:40:14.850Z"
   },
   {
    "duration": 1395,
    "start_time": "2025-03-31T10:40:15.030Z"
   },
   {
    "duration": 454,
    "start_time": "2025-03-31T10:40:16.428Z"
   },
   {
    "duration": 1212,
    "start_time": "2025-03-31T10:40:16.884Z"
   },
   {
    "duration": 300,
    "start_time": "2025-03-31T10:40:18.098Z"
   },
   {
    "duration": 64,
    "start_time": "2025-03-31T10:40:18.403Z"
   },
   {
    "duration": 99,
    "start_time": "2025-03-31T10:40:18.468Z"
   },
   {
    "duration": 115,
    "start_time": "2025-03-31T10:40:18.569Z"
   },
   {
    "duration": 19,
    "start_time": "2025-03-31T10:40:18.685Z"
   },
   {
    "duration": 27,
    "start_time": "2025-03-31T10:40:18.705Z"
   },
   {
    "duration": 2667,
    "start_time": "2025-03-31T10:40:50.651Z"
   },
   {
    "duration": 2676,
    "start_time": "2025-03-31T10:40:59.723Z"
   },
   {
    "duration": 2711,
    "start_time": "2025-03-31T10:41:06.136Z"
   },
   {
    "duration": 12335,
    "start_time": "2025-03-31T11:58:20.286Z"
   },
   {
    "duration": 6939,
    "start_time": "2025-03-31T11:58:32.623Z"
   },
   {
    "duration": 376,
    "start_time": "2025-03-31T11:58:39.563Z"
   },
   {
    "duration": 15,
    "start_time": "2025-03-31T11:58:39.941Z"
   },
   {
    "duration": 28,
    "start_time": "2025-03-31T11:58:39.958Z"
   },
   {
    "duration": 1374,
    "start_time": "2025-03-31T11:58:39.988Z"
   },
   {
    "duration": 269,
    "start_time": "2025-03-31T11:58:41.363Z"
   },
   {
    "duration": 413,
    "start_time": "2025-03-31T11:58:41.634Z"
   },
   {
    "duration": 282,
    "start_time": "2025-03-31T11:58:42.049Z"
   },
   {
    "duration": 1915,
    "start_time": "2025-03-31T11:58:42.333Z"
   },
   {
    "duration": 2649,
    "start_time": "2025-03-31T11:58:44.250Z"
   },
   {
    "duration": 830,
    "start_time": "2025-03-31T11:58:46.900Z"
   },
   {
    "duration": 650,
    "start_time": "2025-03-31T11:58:47.732Z"
   },
   {
    "duration": 741,
    "start_time": "2025-03-31T11:58:48.385Z"
   },
   {
    "duration": 284,
    "start_time": "2025-03-31T11:58:49.127Z"
   },
   {
    "duration": 143,
    "start_time": "2025-03-31T11:58:49.413Z"
   },
   {
    "duration": 142,
    "start_time": "2025-03-31T11:58:49.557Z"
   },
   {
    "duration": 825,
    "start_time": "2025-03-31T11:58:49.700Z"
   },
   {
    "duration": 288,
    "start_time": "2025-03-31T11:58:50.527Z"
   },
   {
    "duration": 198,
    "start_time": "2025-03-31T11:58:50.816Z"
   },
   {
    "duration": 39,
    "start_time": "2025-03-31T11:58:51.016Z"
   },
   {
    "duration": 4,
    "start_time": "2025-03-31T11:58:51.057Z"
   },
   {
    "duration": 4942,
    "start_time": "2025-03-31T11:58:51.062Z"
   },
   {
    "duration": 8,
    "start_time": "2025-03-31T11:58:56.006Z"
   },
   {
    "duration": 338,
    "start_time": "2025-03-31T11:58:56.016Z"
   },
   {
    "duration": 177,
    "start_time": "2025-03-31T11:58:56.356Z"
   },
   {
    "duration": 1379,
    "start_time": "2025-03-31T11:58:56.535Z"
   },
   {
    "duration": 464,
    "start_time": "2025-03-31T11:58:57.916Z"
   },
   {
    "duration": 10934,
    "start_time": "2025-03-31T11:59:01.093Z"
   },
   {
    "duration": 3491,
    "start_time": "2025-03-31T11:59:12.029Z"
   },
   {
    "duration": 365,
    "start_time": "2025-03-31T11:59:15.522Z"
   },
   {
    "duration": 25,
    "start_time": "2025-03-31T11:59:15.889Z"
   },
   {
    "duration": 4,
    "start_time": "2025-03-31T11:59:15.916Z"
   },
   {
    "duration": 1419,
    "start_time": "2025-03-31T11:59:15.921Z"
   },
   {
    "duration": 309,
    "start_time": "2025-03-31T11:59:17.342Z"
   },
   {
    "duration": 429,
    "start_time": "2025-03-31T11:59:17.653Z"
   },
   {
    "duration": 292,
    "start_time": "2025-03-31T11:59:18.084Z"
   },
   {
    "duration": 2709,
    "start_time": "2025-03-31T11:59:18.378Z"
   },
   {
    "duration": 2893,
    "start_time": "2025-03-31T11:59:21.089Z"
   },
   {
    "duration": 711,
    "start_time": "2025-03-31T11:59:23.984Z"
   },
   {
    "duration": 701,
    "start_time": "2025-03-31T11:59:24.697Z"
   },
   {
    "duration": 810,
    "start_time": "2025-03-31T11:59:25.403Z"
   },
   {
    "duration": 284,
    "start_time": "2025-03-31T11:59:26.215Z"
   },
   {
    "duration": 211,
    "start_time": "2025-03-31T11:59:26.503Z"
   },
   {
    "duration": 146,
    "start_time": "2025-03-31T11:59:26.715Z"
   },
   {
    "duration": 861,
    "start_time": "2025-03-31T11:59:26.862Z"
   },
   {
    "duration": 293,
    "start_time": "2025-03-31T11:59:27.725Z"
   },
   {
    "duration": 205,
    "start_time": "2025-03-31T11:59:28.020Z"
   },
   {
    "duration": 41,
    "start_time": "2025-03-31T11:59:28.226Z"
   },
   {
    "duration": 77,
    "start_time": "2025-03-31T11:59:28.268Z"
   },
   {
    "duration": 5126,
    "start_time": "2025-03-31T11:59:28.347Z"
   },
   {
    "duration": 8,
    "start_time": "2025-03-31T11:59:33.475Z"
   },
   {
    "duration": 345,
    "start_time": "2025-03-31T11:59:33.484Z"
   },
   {
    "duration": 174,
    "start_time": "2025-03-31T11:59:33.831Z"
   },
   {
    "duration": 1363,
    "start_time": "2025-03-31T11:59:34.007Z"
   },
   {
    "duration": 490,
    "start_time": "2025-03-31T11:59:35.372Z"
   },
   {
    "duration": 1200,
    "start_time": "2025-03-31T11:59:35.864Z"
   },
   {
    "duration": 306,
    "start_time": "2025-03-31T11:59:37.066Z"
   },
   {
    "duration": 76,
    "start_time": "2025-03-31T11:59:37.374Z"
   },
   {
    "duration": 114,
    "start_time": "2025-03-31T11:59:37.452Z"
   },
   {
    "duration": 123,
    "start_time": "2025-03-31T11:59:37.568Z"
   },
   {
    "duration": 14,
    "start_time": "2025-03-31T11:59:37.692Z"
   },
   {
    "duration": 34,
    "start_time": "2025-03-31T11:59:37.708Z"
   },
   {
    "duration": 12188,
    "start_time": "2025-03-31T12:11:58.631Z"
   },
   {
    "duration": 3463,
    "start_time": "2025-03-31T12:12:10.822Z"
   },
   {
    "duration": 389,
    "start_time": "2025-03-31T12:12:14.287Z"
   },
   {
    "duration": 17,
    "start_time": "2025-03-31T12:12:14.678Z"
   },
   {
    "duration": 4,
    "start_time": "2025-03-31T12:12:14.705Z"
   },
   {
    "duration": 1436,
    "start_time": "2025-03-31T12:12:14.711Z"
   },
   {
    "duration": 276,
    "start_time": "2025-03-31T12:12:16.149Z"
   },
   {
    "duration": 435,
    "start_time": "2025-03-31T12:12:16.426Z"
   },
   {
    "duration": 294,
    "start_time": "2025-03-31T12:12:16.862Z"
   },
   {
    "duration": 2115,
    "start_time": "2025-03-31T12:12:17.158Z"
   },
   {
    "duration": 2931,
    "start_time": "2025-03-31T12:12:19.275Z"
   },
   {
    "duration": 723,
    "start_time": "2025-03-31T12:12:22.209Z"
   },
   {
    "duration": 708,
    "start_time": "2025-03-31T12:12:22.934Z"
   },
   {
    "duration": 795,
    "start_time": "2025-03-31T12:12:23.647Z"
   },
   {
    "duration": 286,
    "start_time": "2025-03-31T12:12:24.444Z"
   },
   {
    "duration": 164,
    "start_time": "2025-03-31T12:12:24.732Z"
   },
   {
    "duration": 153,
    "start_time": "2025-03-31T12:12:24.897Z"
   },
   {
    "duration": 826,
    "start_time": "2025-03-31T12:12:25.052Z"
   },
   {
    "duration": 290,
    "start_time": "2025-03-31T12:12:25.879Z"
   },
   {
    "duration": 198,
    "start_time": "2025-03-31T12:12:26.171Z"
   },
   {
    "duration": 45,
    "start_time": "2025-03-31T12:12:26.371Z"
   },
   {
    "duration": 33,
    "start_time": "2025-03-31T12:12:26.418Z"
   },
   {
    "duration": 5592,
    "start_time": "2025-03-31T12:12:26.453Z"
   },
   {
    "duration": 8,
    "start_time": "2025-03-31T12:12:32.047Z"
   },
   {
    "duration": 370,
    "start_time": "2025-03-31T12:12:32.057Z"
   },
   {
    "duration": 196,
    "start_time": "2025-03-31T12:12:32.429Z"
   },
   {
    "duration": 1396,
    "start_time": "2025-03-31T12:12:32.628Z"
   },
   {
    "duration": 493,
    "start_time": "2025-03-31T12:12:34.025Z"
   },
   {
    "duration": 1216,
    "start_time": "2025-03-31T12:12:34.520Z"
   },
   {
    "duration": 319,
    "start_time": "2025-03-31T12:12:35.738Z"
   },
   {
    "duration": 74,
    "start_time": "2025-03-31T12:12:36.059Z"
   },
   {
    "duration": 110,
    "start_time": "2025-03-31T12:12:36.135Z"
   },
   {
    "duration": 131,
    "start_time": "2025-03-31T12:12:36.247Z"
   },
   {
    "duration": 6,
    "start_time": "2025-03-31T12:12:36.380Z"
   },
   {
    "duration": 64,
    "start_time": "2025-03-31T12:12:36.388Z"
   },
   {
    "duration": 11643,
    "start_time": "2025-03-31T12:18:31.538Z"
   },
   {
    "duration": 3575,
    "start_time": "2025-03-31T12:18:43.183Z"
   },
   {
    "duration": 377,
    "start_time": "2025-03-31T12:18:46.760Z"
   },
   {
    "duration": 22,
    "start_time": "2025-03-31T12:18:47.139Z"
   },
   {
    "duration": 5,
    "start_time": "2025-03-31T12:18:47.164Z"
   },
   {
    "duration": 1474,
    "start_time": "2025-03-31T12:18:47.171Z"
   },
   {
    "duration": 293,
    "start_time": "2025-03-31T12:18:48.647Z"
   },
   {
    "duration": 439,
    "start_time": "2025-03-31T12:18:48.941Z"
   },
   {
    "duration": 295,
    "start_time": "2025-03-31T12:18:49.382Z"
   },
   {
    "duration": 2055,
    "start_time": "2025-03-31T12:18:49.679Z"
   },
   {
    "duration": 2910,
    "start_time": "2025-03-31T12:18:51.736Z"
   },
   {
    "duration": 725,
    "start_time": "2025-03-31T12:18:54.647Z"
   },
   {
    "duration": 730,
    "start_time": "2025-03-31T12:18:55.375Z"
   },
   {
    "duration": 848,
    "start_time": "2025-03-31T12:18:56.109Z"
   },
   {
    "duration": 293,
    "start_time": "2025-03-31T12:18:56.959Z"
   },
   {
    "duration": 167,
    "start_time": "2025-03-31T12:18:57.254Z"
   },
   {
    "duration": 151,
    "start_time": "2025-03-31T12:18:57.422Z"
   },
   {
    "duration": 862,
    "start_time": "2025-03-31T12:18:57.575Z"
   },
   {
    "duration": 311,
    "start_time": "2025-03-31T12:18:58.439Z"
   },
   {
    "duration": 199,
    "start_time": "2025-03-31T12:18:58.752Z"
   },
   {
    "duration": 41,
    "start_time": "2025-03-31T12:18:58.952Z"
   },
   {
    "duration": 11,
    "start_time": "2025-03-31T12:18:59.004Z"
   },
   {
    "duration": 5314,
    "start_time": "2025-03-31T12:18:59.020Z"
   },
   {
    "duration": 8,
    "start_time": "2025-03-31T12:19:04.336Z"
   },
   {
    "duration": 387,
    "start_time": "2025-03-31T12:19:04.345Z"
   },
   {
    "duration": 193,
    "start_time": "2025-03-31T12:19:04.734Z"
   },
   {
    "duration": 1400,
    "start_time": "2025-03-31T12:19:04.929Z"
   },
   {
    "duration": 502,
    "start_time": "2025-03-31T12:19:06.331Z"
   },
   {
    "duration": 1233,
    "start_time": "2025-03-31T12:19:06.835Z"
   },
   {
    "duration": 324,
    "start_time": "2025-03-31T12:19:08.070Z"
   },
   {
    "duration": 75,
    "start_time": "2025-03-31T12:19:08.396Z"
   },
   {
    "duration": 105,
    "start_time": "2025-03-31T12:19:08.472Z"
   },
   {
    "duration": 123,
    "start_time": "2025-03-31T12:19:08.579Z"
   },
   {
    "duration": 13,
    "start_time": "2025-03-31T12:19:08.703Z"
   },
   {
    "duration": 22,
    "start_time": "2025-03-31T12:19:08.717Z"
   },
   {
    "duration": 12161,
    "start_time": "2025-04-01T11:49:21.321Z"
   },
   {
    "duration": 3558,
    "start_time": "2025-04-01T11:49:33.484Z"
   },
   {
    "duration": 1865,
    "start_time": "2025-04-01T11:49:37.044Z"
   },
   {
    "duration": 15,
    "start_time": "2025-04-01T11:49:38.912Z"
   },
   {
    "duration": 8,
    "start_time": "2025-04-01T11:49:38.929Z"
   },
   {
    "duration": 1415,
    "start_time": "2025-04-01T11:49:38.939Z"
   },
   {
    "duration": 270,
    "start_time": "2025-04-01T11:49:40.355Z"
   },
   {
    "duration": 422,
    "start_time": "2025-04-01T11:49:40.626Z"
   },
   {
    "duration": 281,
    "start_time": "2025-04-01T11:49:41.049Z"
   },
   {
    "duration": 1949,
    "start_time": "2025-04-01T11:49:41.333Z"
   },
   {
    "duration": 2969,
    "start_time": "2025-04-01T11:49:43.284Z"
   },
   {
    "duration": 697,
    "start_time": "2025-04-01T11:49:46.255Z"
   },
   {
    "duration": 676,
    "start_time": "2025-04-01T11:49:46.954Z"
   },
   {
    "duration": 768,
    "start_time": "2025-04-01T11:49:47.632Z"
   },
   {
    "duration": 271,
    "start_time": "2025-04-01T11:49:48.405Z"
   },
   {
    "duration": 150,
    "start_time": "2025-04-01T11:49:48.678Z"
   },
   {
    "duration": 151,
    "start_time": "2025-04-01T11:49:48.830Z"
   },
   {
    "duration": 823,
    "start_time": "2025-04-01T11:49:48.982Z"
   },
   {
    "duration": 278,
    "start_time": "2025-04-01T11:49:49.807Z"
   },
   {
    "duration": 181,
    "start_time": "2025-04-01T11:49:50.087Z"
   },
   {
    "duration": 48,
    "start_time": "2025-04-01T11:49:50.269Z"
   },
   {
    "duration": 46,
    "start_time": "2025-04-01T11:49:50.318Z"
   },
   {
    "duration": 4963,
    "start_time": "2025-04-01T11:49:50.366Z"
   },
   {
    "duration": 7,
    "start_time": "2025-04-01T11:49:55.332Z"
   },
   {
    "duration": 346,
    "start_time": "2025-04-01T11:49:55.341Z"
   },
   {
    "duration": 175,
    "start_time": "2025-04-01T11:49:55.688Z"
   },
   {
    "duration": 1357,
    "start_time": "2025-04-01T11:49:55.865Z"
   },
   {
    "duration": 459,
    "start_time": "2025-04-01T11:49:57.227Z"
   },
   {
    "duration": 1192,
    "start_time": "2025-04-01T11:49:57.688Z"
   },
   {
    "duration": 322,
    "start_time": "2025-04-01T11:49:58.883Z"
   },
   {
    "duration": 68,
    "start_time": "2025-04-01T11:49:59.207Z"
   },
   {
    "duration": 101,
    "start_time": "2025-04-01T11:49:59.278Z"
   },
   {
    "duration": 129,
    "start_time": "2025-04-01T11:49:59.382Z"
   },
   {
    "duration": 6,
    "start_time": "2025-04-01T11:49:59.513Z"
   },
   {
    "duration": 11,
    "start_time": "2025-04-01T11:49:59.521Z"
   },
   {
    "duration": 4,
    "start_time": "2025-04-01T11:50:33.804Z"
   },
   {
    "duration": 4,
    "start_time": "2025-04-01T11:50:34.032Z"
   },
   {
    "duration": 5,
    "start_time": "2025-04-01T11:50:55.526Z"
   },
   {
    "duration": 4,
    "start_time": "2025-04-01T11:50:56.453Z"
   },
   {
    "duration": 49,
    "start_time": "2025-04-01T12:20:54.202Z"
   },
   {
    "duration": 12306,
    "start_time": "2025-04-01T12:21:04.127Z"
   },
   {
    "duration": 3301,
    "start_time": "2025-04-01T12:21:16.435Z"
   },
   {
    "duration": 362,
    "start_time": "2025-04-01T12:21:19.737Z"
   },
   {
    "duration": 16,
    "start_time": "2025-04-01T12:21:20.101Z"
   },
   {
    "duration": 17,
    "start_time": "2025-04-01T12:21:20.119Z"
   },
   {
    "duration": 1298,
    "start_time": "2025-04-01T12:21:20.137Z"
   },
   {
    "duration": 249,
    "start_time": "2025-04-01T12:21:21.437Z"
   },
   {
    "duration": 405,
    "start_time": "2025-04-01T12:21:21.688Z"
   },
   {
    "duration": 263,
    "start_time": "2025-04-01T12:21:22.094Z"
   },
   {
    "duration": 1807,
    "start_time": "2025-04-01T12:21:22.359Z"
   },
   {
    "duration": 2686,
    "start_time": "2025-04-01T12:21:24.168Z"
   },
   {
    "duration": 685,
    "start_time": "2025-04-01T12:21:26.856Z"
   },
   {
    "duration": 680,
    "start_time": "2025-04-01T12:21:27.543Z"
   },
   {
    "duration": 778,
    "start_time": "2025-04-01T12:21:28.225Z"
   },
   {
    "duration": 271,
    "start_time": "2025-04-01T12:21:29.005Z"
   },
   {
    "duration": 148,
    "start_time": "2025-04-01T12:21:29.277Z"
   },
   {
    "duration": 136,
    "start_time": "2025-04-01T12:21:29.426Z"
   },
   {
    "duration": 768,
    "start_time": "2025-04-01T12:21:29.563Z"
   },
   {
    "duration": 260,
    "start_time": "2025-04-01T12:21:30.335Z"
   },
   {
    "duration": 183,
    "start_time": "2025-04-01T12:21:30.597Z"
   },
   {
    "duration": 36,
    "start_time": "2025-04-01T12:21:30.781Z"
   },
   {
    "duration": 18,
    "start_time": "2025-04-01T12:21:30.818Z"
   },
   {
    "duration": 4661,
    "start_time": "2025-04-01T12:21:30.837Z"
   },
   {
    "duration": 7,
    "start_time": "2025-04-01T12:21:35.499Z"
   },
   {
    "duration": 335,
    "start_time": "2025-04-01T12:21:35.508Z"
   },
   {
    "duration": 186,
    "start_time": "2025-04-01T12:21:35.845Z"
   },
   {
    "duration": 1302,
    "start_time": "2025-04-01T12:21:36.033Z"
   },
   {
    "duration": 461,
    "start_time": "2025-04-01T12:21:37.338Z"
   },
   {
    "duration": 1124,
    "start_time": "2025-04-01T12:21:37.800Z"
   },
   {
    "duration": 283,
    "start_time": "2025-04-01T12:21:38.926Z"
   },
   {
    "duration": 69,
    "start_time": "2025-04-01T12:21:39.210Z"
   },
   {
    "duration": 88,
    "start_time": "2025-04-01T12:21:39.281Z"
   },
   {
    "duration": 108,
    "start_time": "2025-04-01T12:21:39.371Z"
   },
   {
    "duration": 15,
    "start_time": "2025-04-01T12:21:39.480Z"
   },
   {
    "duration": 16,
    "start_time": "2025-04-01T12:21:39.497Z"
   },
   {
    "duration": 14,
    "start_time": "2025-04-01T12:46:55.545Z"
   },
   {
    "duration": 16,
    "start_time": "2025-04-01T12:46:59.410Z"
   },
   {
    "duration": 15,
    "start_time": "2025-04-01T12:47:02.687Z"
   },
   {
    "duration": 15,
    "start_time": "2025-04-01T12:47:06.823Z"
   },
   {
    "duration": 15,
    "start_time": "2025-04-01T12:47:09.001Z"
   },
   {
    "duration": 14,
    "start_time": "2025-04-01T12:47:10.327Z"
   },
   {
    "duration": 16,
    "start_time": "2025-04-01T12:47:15.234Z"
   },
   {
    "duration": 16,
    "start_time": "2025-04-01T12:47:53.393Z"
   },
   {
    "duration": 15,
    "start_time": "2025-04-01T12:47:56.643Z"
   },
   {
    "duration": 14,
    "start_time": "2025-04-01T12:47:59.205Z"
   },
   {
    "duration": 11170,
    "start_time": "2025-04-01T12:48:02.772Z"
   },
   {
    "duration": 3282,
    "start_time": "2025-04-01T12:48:13.944Z"
   },
   {
    "duration": 355,
    "start_time": "2025-04-01T12:48:17.236Z"
   },
   {
    "duration": 15,
    "start_time": "2025-04-01T12:48:17.593Z"
   },
   {
    "duration": 5,
    "start_time": "2025-04-01T12:48:17.609Z"
   },
   {
    "duration": 1326,
    "start_time": "2025-04-01T12:48:17.635Z"
   },
   {
    "duration": 272,
    "start_time": "2025-04-01T12:48:18.964Z"
   },
   {
    "duration": 431,
    "start_time": "2025-04-01T12:48:19.238Z"
   },
   {
    "duration": 277,
    "start_time": "2025-04-01T12:48:19.670Z"
   },
   {
    "duration": 1852,
    "start_time": "2025-04-01T12:48:19.950Z"
   },
   {
    "duration": 2639,
    "start_time": "2025-04-01T12:48:21.803Z"
   },
   {
    "duration": 644,
    "start_time": "2025-04-01T12:48:24.443Z"
   },
   {
    "duration": 635,
    "start_time": "2025-04-01T12:48:25.089Z"
   },
   {
    "duration": 721,
    "start_time": "2025-04-01T12:48:25.726Z"
   },
   {
    "duration": 276,
    "start_time": "2025-04-01T12:48:26.449Z"
   },
   {
    "duration": 144,
    "start_time": "2025-04-01T12:48:26.726Z"
   },
   {
    "duration": 140,
    "start_time": "2025-04-01T12:48:26.871Z"
   },
   {
    "duration": 769,
    "start_time": "2025-04-01T12:48:27.013Z"
   },
   {
    "duration": 258,
    "start_time": "2025-04-01T12:48:27.783Z"
   },
   {
    "duration": 174,
    "start_time": "2025-04-01T12:48:28.042Z"
   },
   {
    "duration": 42,
    "start_time": "2025-04-01T12:48:28.218Z"
   },
   {
    "duration": 30,
    "start_time": "2025-04-01T12:48:28.261Z"
   },
   {
    "duration": 4613,
    "start_time": "2025-04-01T12:48:28.292Z"
   },
   {
    "duration": 7,
    "start_time": "2025-04-01T12:48:32.907Z"
   },
   {
    "duration": 325,
    "start_time": "2025-04-01T12:48:32.916Z"
   },
   {
    "duration": 168,
    "start_time": "2025-04-01T12:48:33.243Z"
   },
   {
    "duration": 1323,
    "start_time": "2025-04-01T12:48:33.412Z"
   },
   {
    "duration": 460,
    "start_time": "2025-04-01T12:48:34.738Z"
   },
   {
    "duration": 1116,
    "start_time": "2025-04-01T12:48:35.200Z"
   },
   {
    "duration": 332,
    "start_time": "2025-04-01T12:48:36.318Z"
   },
   {
    "duration": 62,
    "start_time": "2025-04-01T12:48:36.651Z"
   },
   {
    "duration": 88,
    "start_time": "2025-04-01T12:48:36.715Z"
   },
   {
    "duration": 114,
    "start_time": "2025-04-01T12:48:36.805Z"
   },
   {
    "duration": 23,
    "start_time": "2025-04-01T12:48:36.921Z"
   },
   {
    "duration": 15,
    "start_time": "2025-04-01T12:48:36.945Z"
   },
   {
    "duration": 53,
    "start_time": "2025-04-03T23:01:23.362Z"
   },
   {
    "duration": 11783,
    "start_time": "2025-04-03T23:01:28.971Z"
   },
   {
    "duration": 3371,
    "start_time": "2025-04-03T23:01:40.756Z"
   },
   {
    "duration": 362,
    "start_time": "2025-04-03T23:01:44.129Z"
   },
   {
    "duration": 19,
    "start_time": "2025-04-03T23:01:44.493Z"
   },
   {
    "duration": 5,
    "start_time": "2025-04-03T23:01:44.514Z"
   },
   {
    "duration": 1377,
    "start_time": "2025-04-03T23:01:44.521Z"
   },
   {
    "duration": 277,
    "start_time": "2025-04-03T23:01:45.900Z"
   },
   {
    "duration": 416,
    "start_time": "2025-04-03T23:01:46.178Z"
   },
   {
    "duration": 283,
    "start_time": "2025-04-03T23:01:46.596Z"
   },
   {
    "duration": 1881,
    "start_time": "2025-04-03T23:01:46.881Z"
   },
   {
    "duration": 2870,
    "start_time": "2025-04-03T23:01:48.764Z"
   },
   {
    "duration": 742,
    "start_time": "2025-04-03T23:01:51.636Z"
   },
   {
    "duration": 707,
    "start_time": "2025-04-03T23:01:52.379Z"
   },
   {
    "duration": 798,
    "start_time": "2025-04-03T23:01:53.088Z"
   },
   {
    "duration": 279,
    "start_time": "2025-04-03T23:01:53.887Z"
   },
   {
    "duration": 151,
    "start_time": "2025-04-03T23:01:54.167Z"
   },
   {
    "duration": 141,
    "start_time": "2025-04-03T23:01:54.319Z"
   },
   {
    "duration": 814,
    "start_time": "2025-04-03T23:01:54.462Z"
   },
   {
    "duration": 273,
    "start_time": "2025-04-03T23:01:55.278Z"
   },
   {
    "duration": 187,
    "start_time": "2025-04-03T23:01:55.552Z"
   },
   {
    "duration": 49,
    "start_time": "2025-04-03T23:01:55.740Z"
   },
   {
    "duration": 3,
    "start_time": "2025-04-03T23:01:55.790Z"
   },
   {
    "duration": 4982,
    "start_time": "2025-04-03T23:01:55.795Z"
   },
   {
    "duration": 8,
    "start_time": "2025-04-03T23:02:00.779Z"
   },
   {
    "duration": 424,
    "start_time": "2025-04-03T23:02:00.789Z"
   },
   {
    "duration": 178,
    "start_time": "2025-04-03T23:02:01.214Z"
   },
   {
    "duration": 1477,
    "start_time": "2025-04-03T23:02:01.394Z"
   },
   {
    "duration": 491,
    "start_time": "2025-04-03T23:02:02.875Z"
   },
   {
    "duration": 1210,
    "start_time": "2025-04-03T23:02:03.367Z"
   },
   {
    "duration": 357,
    "start_time": "2025-04-03T23:02:04.579Z"
   },
   {
    "duration": 78,
    "start_time": "2025-04-03T23:02:04.938Z"
   },
   {
    "duration": 90,
    "start_time": "2025-04-03T23:02:05.018Z"
   },
   {
    "duration": 120,
    "start_time": "2025-04-03T23:02:05.110Z"
   },
   {
    "duration": 15,
    "start_time": "2025-04-03T23:02:05.232Z"
   },
   {
    "duration": 36,
    "start_time": "2025-04-03T23:02:05.249Z"
   },
   {
    "duration": 11942,
    "start_time": "2025-04-03T23:02:43.416Z"
   },
   {
    "duration": 3345,
    "start_time": "2025-04-03T23:02:55.360Z"
   },
   {
    "duration": 353,
    "start_time": "2025-04-03T23:02:58.706Z"
   },
   {
    "duration": 21,
    "start_time": "2025-04-03T23:02:59.061Z"
   },
   {
    "duration": 4,
    "start_time": "2025-04-03T23:02:59.084Z"
   },
   {
    "duration": 1387,
    "start_time": "2025-04-03T23:02:59.090Z"
   },
   {
    "duration": 278,
    "start_time": "2025-04-03T23:03:00.479Z"
   },
   {
    "duration": 456,
    "start_time": "2025-04-03T23:03:00.759Z"
   },
   {
    "duration": 281,
    "start_time": "2025-04-03T23:03:01.216Z"
   },
   {
    "duration": 1966,
    "start_time": "2025-04-03T23:03:01.499Z"
   },
   {
    "duration": 2994,
    "start_time": "2025-04-03T23:03:03.466Z"
   },
   {
    "duration": 716,
    "start_time": "2025-04-03T23:03:06.461Z"
   },
   {
    "duration": 719,
    "start_time": "2025-04-03T23:03:07.179Z"
   },
   {
    "duration": 810,
    "start_time": "2025-04-03T23:03:07.901Z"
   },
   {
    "duration": 287,
    "start_time": "2025-04-03T23:03:08.712Z"
   },
   {
    "duration": 161,
    "start_time": "2025-04-03T23:03:09.001Z"
   },
   {
    "duration": 141,
    "start_time": "2025-04-03T23:03:09.164Z"
   },
   {
    "duration": 820,
    "start_time": "2025-04-03T23:03:09.307Z"
   },
   {
    "duration": 280,
    "start_time": "2025-04-03T23:03:10.129Z"
   },
   {
    "duration": 196,
    "start_time": "2025-04-03T23:03:10.411Z"
   },
   {
    "duration": 38,
    "start_time": "2025-04-03T23:03:10.610Z"
   },
   {
    "duration": 34,
    "start_time": "2025-04-03T23:03:10.650Z"
   },
   {
    "duration": 4998,
    "start_time": "2025-04-03T23:03:10.686Z"
   },
   {
    "duration": 8,
    "start_time": "2025-04-03T23:03:15.687Z"
   },
   {
    "duration": 411,
    "start_time": "2025-04-03T23:03:15.697Z"
   },
   {
    "duration": 186,
    "start_time": "2025-04-03T23:03:16.110Z"
   },
   {
    "duration": 1370,
    "start_time": "2025-04-03T23:03:16.298Z"
   },
   {
    "duration": 469,
    "start_time": "2025-04-03T23:03:17.676Z"
   },
   {
    "duration": 1166,
    "start_time": "2025-04-03T23:03:18.147Z"
   },
   {
    "duration": 312,
    "start_time": "2025-04-03T23:03:19.315Z"
   },
   {
    "duration": 76,
    "start_time": "2025-04-03T23:03:19.629Z"
   },
   {
    "duration": 94,
    "start_time": "2025-04-03T23:03:19.707Z"
   },
   {
    "duration": 123,
    "start_time": "2025-04-03T23:03:19.803Z"
   },
   {
    "duration": 14,
    "start_time": "2025-04-03T23:03:19.928Z"
   },
   {
    "duration": 14,
    "start_time": "2025-04-03T23:03:19.944Z"
   }
  ],
  "celltoolbar": "Hide code",
  "colab": {
   "provenance": []
  },
  "kernelspec": {
   "display_name": "Python 3 (ipykernel)",
   "language": "python",
   "name": "python3"
  },
  "language_info": {
   "codemirror_mode": {
    "name": "ipython",
    "version": 3
   },
   "file_extension": ".py",
   "mimetype": "text/x-python",
   "name": "python",
   "nbconvert_exporter": "python",
   "pygments_lexer": "ipython3",
   "version": "3.9.22"
  },
  "toc": {
   "base_numbering": 1,
   "nav_menu": {},
   "number_sections": true,
   "sideBar": true,
   "skip_h1_title": true,
   "title_cell": "Table of Contents",
   "title_sidebar": "Contents",
   "toc_cell": false,
   "toc_position": {
    "height": "calc(100% - 180px)",
    "left": "10px",
    "top": "150px",
    "width": "287.188px"
   },
   "toc_section_display": true,
   "toc_window_display": true
  }
 },
 "nbformat": 4,
 "nbformat_minor": 1
}
