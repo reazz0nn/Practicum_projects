{
 "cells": [
  {
   "cell_type": "markdown",
   "metadata": {
    "hideCode": false,
    "hidePrompt": false,
    "id": "4mJbK1knrJgz"
   },
   "source": [
    "# Исследование стартапов"
   ]
  },
  {
   "cell_type": "markdown",
   "metadata": {
    "hideCode": false,
    "hidePrompt": false,
    "id": "P6j0r3worJg0"
   },
   "source": [
    "## Введение"
   ]
  },
  {
   "cell_type": "markdown",
   "metadata": {
    "hideCode": false,
    "hidePrompt": false,
    "id": "8lQtbsIUyFG6"
   },
   "source": [
    "**Финансовая компания, которая предоставляет льготные займы стартапам, хочет войти на инвестиционный рынок с прицелом на покупку, развитие и последующую перепродажу перспективных стартапов. Для разработки модели бизнеса нужна информация. Чтобы выработать общее понимание, какие данные могут быть полезны, проводится исследование на исторических данных.**\n",
    "\n",
    "**Цель проекта:**\n",
    "- Ответить на вопросы заказчика как о предобработке, так и о значении данных для бизнеса.\n",
    "\n",
    "**Задачи:**\n",
    "- Познакомиться с данными;\n",
    "- Проверить их корректность;\n",
    "- Провести предобработку,получив необходимый срез данных;\n",
    "- Подвести итог и выдать рекомендации на основе выполнения вышеопоставленных задач."
   ]
  },
  {
   "cell_type": "markdown",
   "metadata": {
    "hideCode": false,
    "hidePrompt": false,
    "id": "xqr6uttCrJg0"
   },
   "source": [
    "\n",
    "## Шаг 1. Знакомство с данными: загрузка и первичная предобработка\n",
    "\n",
    "***Таблица acquisition***\n",
    "\n",
    "**`id`** - Идентификатор покупки\n",
    "\n",
    "**`acquiring_company_id`** -  Идентификатор покупающей компании\n",
    "\n",
    "**`acquired_company_id`** - Идентификатор покупаемой компании\n",
    "\n",
    "**`term_code`** - Варианты расчёта\n",
    "\n",
    "**`price_amount`** - Сумма сделки\n",
    "\n",
    "**`acquired_at`** - дата сделки\n",
    "\n",
    "***Таблица company_and_rounds***\n",
    "\n",
    "**`company_ID`** - Идентификатор компании\n",
    "\n",
    "**`name`** -  название компании\n",
    "\n",
    "**`category_code`** - категория области деятельности компании\n",
    "\n",
    "**`status`** - статус компании\n",
    "\n",
    "**`founded_at`** - дата инвестирования\n",
    "\n",
    "**`closed_at`** - дата закрытия компании\n",
    "\n",
    "**`domain`** - официальный сайт компании\n",
    "\n",
    "**`network_username`** - ник компании в сети\n",
    "\n",
    "**`country_code`** - код страны компании\n",
    "\n",
    "**`investment_rounds`** - число инвестиционных раундов\n",
    "\n",
    "**`funding_rounds`** - число раундов финансирования\n",
    "\n",
    "**`funding_total`** - сумма финансирования\n",
    "\n",
    "**`milestones`** - вехи финансирования\n",
    "\n",
    "**`funding_round_id`** - идентификатор этапа финансирования\n",
    "\n",
    "**`company_id`** - идентификатор компании\n",
    "\n",
    "**`funded_at`** - дата финансирования\n",
    "\n",
    "**`funding_round_type`** - тип финансирования\n",
    "\n",
    "**`raised_amount`** - сумма финансирования\n",
    "\n",
    "**`pre_money_valuation`** - предварительная денежная оценка\n",
    "\n",
    "**`participants`** - число участников\n",
    "\n",
    "**`is_first_round`** - является ли раунд первым\n",
    "\n",
    "**`is_last_round`** - является ли раунд последним\n",
    "\n",
    "***Таблица education***\n",
    "\n",
    "**`id`** - идентификатор записи об образовании\n",
    "\n",
    "**`person_id`** - идентификатор работника\n",
    "\n",
    "**`instituition`** - название учебного заведения\n",
    "\n",
    "**`graduated_at`** - дата получения образования\n",
    "\n",
    "***Таблица people***\n",
    "\n",
    "**`id`** - идентификатор сотрудника\n",
    "\n",
    "**`first_name`** - имя сотрудника\n",
    "\n",
    "**`last_name`** - фамилия сотрудника\n",
    "\n",
    "**`company_id`** - идентификатор компании\n",
    "\n",
    "**`network_username`** - ник в социальных сетях\n",
    "\n",
    "***Таблица degrees***\n",
    "\n",
    "**`id`** - идентификатор записи\n",
    "\n",
    "**`object_id`** - идентификатор сотрудника\n",
    "\n",
    "**`degree_type`** - тип образования\n",
    "\n",
    "**`subject`** - специальность\n",
    "\n",
    "***Таблица fund***\n",
    "\n",
    "**`id`** - идентификатор фонда\n",
    "\n",
    "**`name`** - название фонда\n",
    "\n",
    "**`category_code`** - категория области деятельности компании\n",
    "\n",
    "**`domain`** - сайт фонда\n",
    "\n",
    "**`network_username`** - ник фонда в сети\n",
    "\n",
    "**`country_code`** - код страны фонда\n",
    "\n",
    "**`investment_rounds`** - число инвестиционных раундов\n",
    "\n",
    "**`invested_companies`** - число профинансированных компаний\n",
    "\n",
    "**`milestones`** - вехи финансирования\n",
    "\n",
    "***Таблица investment***\n",
    "\n",
    "**`id`** - идентификатор этапа инвестирования\n",
    "\n",
    "**`funding_round_id`** - идентификатор раунда инвестирования.\n",
    "\n",
    "**`company_id`** - индентификатор компании.\n",
    "\n",
    "**`funding_round_type`** - тип финансирования.\n",
    "\n",
    "**`fund_id`** - идентификатор фонда.\n",
    "\n",
    "Они находятся в папке datasets, если вы выполняете работу на платформе. В случае, если вы делаете работу локально, доступ к файлам в папке можно получить по адресу `https://code.s3.yandex.net/datasets/` + имя файла.\n",
    "\n",
    "### 1.1. Вывод общей информации, исправление названия столбцов"
   ]
  },
  {
   "cell_type": "markdown",
   "metadata": {
    "hideCode": false,
    "hidePrompt": false
   },
   "source": [
    "\n",
    "* Загрузите все данные по проекту.\n",
    "* Проверьте названия столбцов.\n",
    "* Выведите информацию, которая необходима вам для принятия решений о предобработке, для каждого из датасетов."
   ]
  },
  {
   "cell_type": "code",
   "execution_count": 1,
   "metadata": {
    "hideCode": true,
    "hidePrompt": true,
    "id": "4u9np9gSnyqT"
   },
   "outputs": [],
   "source": [
    "import pandas as pd\n",
    "import numpy as np\n",
    "import seaborn as sns\n",
    "import matplotlib.pyplot as plt"
   ]
  },
  {
   "cell_type": "code",
   "execution_count": 2,
   "metadata": {
    "hideCode": true,
    "hidePrompt": true,
    "id": "W_W4jRazrJg0"
   },
   "outputs": [],
   "source": [
    "acquisition = pd.read_csv('https://code.s3.yandex.net/datasets/acquisition.csv')\n",
    "company_and_rounds = pd.read_csv('https://code.s3.yandex.net/datasets/company_and_rounds.csv')\n",
    "degrees = pd.read_csv('https://code.s3.yandex.net/datasets/degrees.csv')\n",
    "education = pd.read_csv('https://code.s3.yandex.net/datasets/education.csv')\n",
    "fund = pd.read_csv('https://code.s3.yandex.net/datasets/fund.csv')\n",
    "investment = pd.read_csv('https://code.s3.yandex.net/datasets/investment.csv')\n",
    "people = pd.read_csv('https://code.s3.yandex.net/datasets/people.csv')"
   ]
  },
  {
   "cell_type": "code",
   "execution_count": 3,
   "metadata": {
    "hideCode": true,
    "hidePrompt": true
   },
   "outputs": [
    {
     "name": "stdout",
     "output_type": "stream",
     "text": [
      "<class 'pandas.core.frame.DataFrame'>\n",
      "RangeIndex: 9407 entries, 0 to 9406\n",
      "Data columns (total 6 columns):\n",
      " #   Column                Non-Null Count  Dtype \n",
      "---  ------                --------------  ----- \n",
      " 0   id                    9407 non-null   int64 \n",
      " 1   acquiring_company_id  9407 non-null   int64 \n",
      " 2   acquired_company_id   9407 non-null   int64 \n",
      " 3   term_code             1831 non-null   object\n",
      " 4   price_amount          9407 non-null   int64 \n",
      " 5   acquired_at           9378 non-null   object\n",
      "dtypes: int64(4), object(2)\n",
      "memory usage: 441.1+ KB\n"
     ]
    },
    {
     "data": {
      "text/html": [
       "<div>\n",
       "<style scoped>\n",
       "    .dataframe tbody tr th:only-of-type {\n",
       "        vertical-align: middle;\n",
       "    }\n",
       "\n",
       "    .dataframe tbody tr th {\n",
       "        vertical-align: top;\n",
       "    }\n",
       "\n",
       "    .dataframe thead th {\n",
       "        text-align: right;\n",
       "    }\n",
       "</style>\n",
       "<table border=\"1\" class=\"dataframe\">\n",
       "  <thead>\n",
       "    <tr style=\"text-align: right;\">\n",
       "      <th></th>\n",
       "      <th>id</th>\n",
       "      <th>acquiring_company_id</th>\n",
       "      <th>acquired_company_id</th>\n",
       "      <th>term_code</th>\n",
       "      <th>price_amount</th>\n",
       "      <th>acquired_at</th>\n",
       "    </tr>\n",
       "  </thead>\n",
       "  <tbody>\n",
       "    <tr>\n",
       "      <th>0</th>\n",
       "      <td>1</td>\n",
       "      <td>11</td>\n",
       "      <td>10</td>\n",
       "      <td>NaN</td>\n",
       "      <td>20000000</td>\n",
       "      <td>2007-05-30</td>\n",
       "    </tr>\n",
       "    <tr>\n",
       "      <th>1</th>\n",
       "      <td>7</td>\n",
       "      <td>59</td>\n",
       "      <td>72</td>\n",
       "      <td>cash</td>\n",
       "      <td>60000000</td>\n",
       "      <td>2007-07-01</td>\n",
       "    </tr>\n",
       "    <tr>\n",
       "      <th>2</th>\n",
       "      <td>8</td>\n",
       "      <td>24</td>\n",
       "      <td>132</td>\n",
       "      <td>cash</td>\n",
       "      <td>280000000</td>\n",
       "      <td>2007-05-01</td>\n",
       "    </tr>\n",
       "    <tr>\n",
       "      <th>3</th>\n",
       "      <td>9</td>\n",
       "      <td>59</td>\n",
       "      <td>155</td>\n",
       "      <td>cash</td>\n",
       "      <td>100000000</td>\n",
       "      <td>2007-06-01</td>\n",
       "    </tr>\n",
       "    <tr>\n",
       "      <th>4</th>\n",
       "      <td>10</td>\n",
       "      <td>212</td>\n",
       "      <td>215</td>\n",
       "      <td>cash</td>\n",
       "      <td>25000000</td>\n",
       "      <td>2007-07-01</td>\n",
       "    </tr>\n",
       "  </tbody>\n",
       "</table>\n",
       "</div>"
      ],
      "text/plain": [
       "   id  acquiring_company_id  acquired_company_id term_code  price_amount  \\\n",
       "0   1                    11                   10       NaN      20000000   \n",
       "1   7                    59                   72      cash      60000000   \n",
       "2   8                    24                  132      cash     280000000   \n",
       "3   9                    59                  155      cash     100000000   \n",
       "4  10                   212                  215      cash      25000000   \n",
       "\n",
       "  acquired_at  \n",
       "0  2007-05-30  \n",
       "1  2007-07-01  \n",
       "2  2007-05-01  \n",
       "3  2007-06-01  \n",
       "4  2007-07-01  "
      ]
     },
     "execution_count": 3,
     "metadata": {},
     "output_type": "execute_result"
    }
   ],
   "source": [
    "acquisition.info()\n",
    "acquisition.head()"
   ]
  },
  {
   "cell_type": "code",
   "execution_count": 4,
   "metadata": {
    "hideCode": true,
    "hidePrompt": true
   },
   "outputs": [
    {
     "name": "stdout",
     "output_type": "stream",
     "text": [
      "<class 'pandas.core.frame.DataFrame'>\n",
      "RangeIndex: 217774 entries, 0 to 217773\n",
      "Data columns (total 22 columns):\n",
      " #   Column                 Non-Null Count   Dtype  \n",
      "---  ------                 --------------   -----  \n",
      " 0   company  ID            217472 non-null  float64\n",
      " 1   name                   217471 non-null  object \n",
      " 2   category  code         143886 non-null  object \n",
      " 3   status                 217472 non-null  object \n",
      " 4   founded  at            109956 non-null  object \n",
      " 5   closed  at             3449 non-null    object \n",
      " 6   domain                 147159 non-null  object \n",
      " 7   network  username      95534 non-null   object \n",
      " 8   country  code          108607 non-null  object \n",
      " 9   investment  rounds     217472 non-null  float64\n",
      " 10  funding  rounds        217472 non-null  float64\n",
      " 11  funding  total         217472 non-null  float64\n",
      " 12  milestones             217472 non-null  float64\n",
      " 13  funding  round  id     52928 non-null   float64\n",
      " 14  company  id            52928 non-null   float64\n",
      " 15  funded  at             52680 non-null   object \n",
      " 16  funding  round  type   52928 non-null   object \n",
      " 17  raised  amount         52928 non-null   float64\n",
      " 18  pre  money  valuation  52928 non-null   float64\n",
      " 19  participants           52928 non-null   float64\n",
      " 20  is  first  round       52928 non-null   float64\n",
      " 21  is  last  round        52928 non-null   float64\n",
      "dtypes: float64(12), object(10)\n",
      "memory usage: 36.6+ MB\n"
     ]
    },
    {
     "data": {
      "text/html": [
       "<div>\n",
       "<style scoped>\n",
       "    .dataframe tbody tr th:only-of-type {\n",
       "        vertical-align: middle;\n",
       "    }\n",
       "\n",
       "    .dataframe tbody tr th {\n",
       "        vertical-align: top;\n",
       "    }\n",
       "\n",
       "    .dataframe thead th {\n",
       "        text-align: right;\n",
       "    }\n",
       "</style>\n",
       "<table border=\"1\" class=\"dataframe\">\n",
       "  <thead>\n",
       "    <tr style=\"text-align: right;\">\n",
       "      <th></th>\n",
       "      <th>company  ID</th>\n",
       "      <th>name</th>\n",
       "      <th>category  code</th>\n",
       "      <th>status</th>\n",
       "      <th>founded  at</th>\n",
       "      <th>closed  at</th>\n",
       "      <th>domain</th>\n",
       "      <th>network  username</th>\n",
       "      <th>country  code</th>\n",
       "      <th>investment  rounds</th>\n",
       "      <th>...</th>\n",
       "      <th>milestones</th>\n",
       "      <th>funding  round  id</th>\n",
       "      <th>company  id</th>\n",
       "      <th>funded  at</th>\n",
       "      <th>funding  round  type</th>\n",
       "      <th>raised  amount</th>\n",
       "      <th>pre  money  valuation</th>\n",
       "      <th>participants</th>\n",
       "      <th>is  first  round</th>\n",
       "      <th>is  last  round</th>\n",
       "    </tr>\n",
       "  </thead>\n",
       "  <tbody>\n",
       "    <tr>\n",
       "      <th>0</th>\n",
       "      <td>1.0</td>\n",
       "      <td>Wetpaint</td>\n",
       "      <td>web</td>\n",
       "      <td>operating</td>\n",
       "      <td>2005-10-17</td>\n",
       "      <td>NaN</td>\n",
       "      <td>wetpaint-inc.com</td>\n",
       "      <td>BachelrWetpaint</td>\n",
       "      <td>USA</td>\n",
       "      <td>0.0</td>\n",
       "      <td>...</td>\n",
       "      <td>5.0</td>\n",
       "      <td>888.0</td>\n",
       "      <td>1.0</td>\n",
       "      <td>2005-10-01</td>\n",
       "      <td>series-a</td>\n",
       "      <td>5250000.0</td>\n",
       "      <td>0.0</td>\n",
       "      <td>2.0</td>\n",
       "      <td>0.0</td>\n",
       "      <td>1.0</td>\n",
       "    </tr>\n",
       "    <tr>\n",
       "      <th>1</th>\n",
       "      <td>1.0</td>\n",
       "      <td>Wetpaint</td>\n",
       "      <td>web</td>\n",
       "      <td>operating</td>\n",
       "      <td>2005-10-17</td>\n",
       "      <td>NaN</td>\n",
       "      <td>wetpaint-inc.com</td>\n",
       "      <td>BachelrWetpaint</td>\n",
       "      <td>USA</td>\n",
       "      <td>0.0</td>\n",
       "      <td>...</td>\n",
       "      <td>5.0</td>\n",
       "      <td>889.0</td>\n",
       "      <td>1.0</td>\n",
       "      <td>2007-01-01</td>\n",
       "      <td>series-b</td>\n",
       "      <td>9500000.0</td>\n",
       "      <td>0.0</td>\n",
       "      <td>3.0</td>\n",
       "      <td>0.0</td>\n",
       "      <td>0.0</td>\n",
       "    </tr>\n",
       "    <tr>\n",
       "      <th>2</th>\n",
       "      <td>1.0</td>\n",
       "      <td>Wetpaint</td>\n",
       "      <td>web</td>\n",
       "      <td>operating</td>\n",
       "      <td>2005-10-17</td>\n",
       "      <td>NaN</td>\n",
       "      <td>wetpaint-inc.com</td>\n",
       "      <td>BachelrWetpaint</td>\n",
       "      <td>USA</td>\n",
       "      <td>0.0</td>\n",
       "      <td>...</td>\n",
       "      <td>5.0</td>\n",
       "      <td>2312.0</td>\n",
       "      <td>1.0</td>\n",
       "      <td>2008-05-19</td>\n",
       "      <td>series-c+</td>\n",
       "      <td>25000000.0</td>\n",
       "      <td>0.0</td>\n",
       "      <td>4.0</td>\n",
       "      <td>1.0</td>\n",
       "      <td>0.0</td>\n",
       "    </tr>\n",
       "    <tr>\n",
       "      <th>3</th>\n",
       "      <td>10.0</td>\n",
       "      <td>Flektor</td>\n",
       "      <td>games_video</td>\n",
       "      <td>acquired</td>\n",
       "      <td>NaN</td>\n",
       "      <td>NaN</td>\n",
       "      <td>flektor.com</td>\n",
       "      <td>NaN</td>\n",
       "      <td>USA</td>\n",
       "      <td>0.0</td>\n",
       "      <td>...</td>\n",
       "      <td>0.0</td>\n",
       "      <td>NaN</td>\n",
       "      <td>NaN</td>\n",
       "      <td>NaN</td>\n",
       "      <td>NaN</td>\n",
       "      <td>NaN</td>\n",
       "      <td>NaN</td>\n",
       "      <td>NaN</td>\n",
       "      <td>NaN</td>\n",
       "      <td>NaN</td>\n",
       "    </tr>\n",
       "    <tr>\n",
       "      <th>4</th>\n",
       "      <td>100.0</td>\n",
       "      <td>There</td>\n",
       "      <td>games_video</td>\n",
       "      <td>acquired</td>\n",
       "      <td>NaN</td>\n",
       "      <td>NaN</td>\n",
       "      <td>there.com</td>\n",
       "      <td>NaN</td>\n",
       "      <td>USA</td>\n",
       "      <td>0.0</td>\n",
       "      <td>...</td>\n",
       "      <td>4.0</td>\n",
       "      <td>NaN</td>\n",
       "      <td>NaN</td>\n",
       "      <td>NaN</td>\n",
       "      <td>NaN</td>\n",
       "      <td>NaN</td>\n",
       "      <td>NaN</td>\n",
       "      <td>NaN</td>\n",
       "      <td>NaN</td>\n",
       "      <td>NaN</td>\n",
       "    </tr>\n",
       "  </tbody>\n",
       "</table>\n",
       "<p>5 rows × 22 columns</p>\n",
       "</div>"
      ],
      "text/plain": [
       "   company  ID      name category  code     status founded  at closed  at  \\\n",
       "0          1.0  Wetpaint            web  operating  2005-10-17        NaN   \n",
       "1          1.0  Wetpaint            web  operating  2005-10-17        NaN   \n",
       "2          1.0  Wetpaint            web  operating  2005-10-17        NaN   \n",
       "3         10.0   Flektor    games_video   acquired         NaN        NaN   \n",
       "4        100.0     There    games_video   acquired         NaN        NaN   \n",
       "\n",
       "             domain network  username country  code  investment  rounds  ...  \\\n",
       "0  wetpaint-inc.com   BachelrWetpaint           USA                 0.0  ...   \n",
       "1  wetpaint-inc.com   BachelrWetpaint           USA                 0.0  ...   \n",
       "2  wetpaint-inc.com   BachelrWetpaint           USA                 0.0  ...   \n",
       "3       flektor.com               NaN           USA                 0.0  ...   \n",
       "4         there.com               NaN           USA                 0.0  ...   \n",
       "\n",
       "   milestones  funding  round  id  company  id  funded  at  \\\n",
       "0         5.0               888.0          1.0  2005-10-01   \n",
       "1         5.0               889.0          1.0  2007-01-01   \n",
       "2         5.0              2312.0          1.0  2008-05-19   \n",
       "3         0.0                 NaN          NaN         NaN   \n",
       "4         4.0                 NaN          NaN         NaN   \n",
       "\n",
       "   funding  round  type raised  amount pre  money  valuation  participants  \\\n",
       "0              series-a      5250000.0                   0.0           2.0   \n",
       "1              series-b      9500000.0                   0.0           3.0   \n",
       "2             series-c+     25000000.0                   0.0           4.0   \n",
       "3                   NaN            NaN                   NaN           NaN   \n",
       "4                   NaN            NaN                   NaN           NaN   \n",
       "\n",
       "   is  first  round  is  last  round  \n",
       "0               0.0              1.0  \n",
       "1               0.0              0.0  \n",
       "2               1.0              0.0  \n",
       "3               NaN              NaN  \n",
       "4               NaN              NaN  \n",
       "\n",
       "[5 rows x 22 columns]"
      ]
     },
     "execution_count": 4,
     "metadata": {},
     "output_type": "execute_result"
    }
   ],
   "source": [
    "company_and_rounds.info()\n",
    "company_and_rounds.head()"
   ]
  },
  {
   "cell_type": "code",
   "execution_count": 5,
   "metadata": {
    "hideCode": false,
    "hidePrompt": false
   },
   "outputs": [
    {
     "name": "stdout",
     "output_type": "stream",
     "text": [
      "<class 'pandas.core.frame.DataFrame'>\n",
      "RangeIndex: 109610 entries, 0 to 109609\n",
      "Data columns (total 4 columns):\n",
      " #   Column       Non-Null Count   Dtype \n",
      "---  ------       --------------   ----- \n",
      " 0   id           109610 non-null  int64 \n",
      " 1   object_id    109610 non-null  object\n",
      " 2   degree_type  98389 non-null   object\n",
      " 3   subject      81298 non-null   object\n",
      "dtypes: int64(1), object(3)\n",
      "memory usage: 3.3+ MB\n"
     ]
    },
    {
     "data": {
      "text/html": [
       "<div>\n",
       "<style scoped>\n",
       "    .dataframe tbody tr th:only-of-type {\n",
       "        vertical-align: middle;\n",
       "    }\n",
       "\n",
       "    .dataframe tbody tr th {\n",
       "        vertical-align: top;\n",
       "    }\n",
       "\n",
       "    .dataframe thead th {\n",
       "        text-align: right;\n",
       "    }\n",
       "</style>\n",
       "<table border=\"1\" class=\"dataframe\">\n",
       "  <thead>\n",
       "    <tr style=\"text-align: right;\">\n",
       "      <th></th>\n",
       "      <th>id</th>\n",
       "      <th>object_id</th>\n",
       "      <th>degree_type</th>\n",
       "      <th>subject</th>\n",
       "    </tr>\n",
       "  </thead>\n",
       "  <tbody>\n",
       "    <tr>\n",
       "      <th>0</th>\n",
       "      <td>1</td>\n",
       "      <td>p:6117</td>\n",
       "      <td>MBA</td>\n",
       "      <td>NaN</td>\n",
       "    </tr>\n",
       "    <tr>\n",
       "      <th>1</th>\n",
       "      <td>2</td>\n",
       "      <td>p:6136</td>\n",
       "      <td>BA</td>\n",
       "      <td>English, French</td>\n",
       "    </tr>\n",
       "    <tr>\n",
       "      <th>2</th>\n",
       "      <td>3</td>\n",
       "      <td>p:6136</td>\n",
       "      <td>MS</td>\n",
       "      <td>Mass Communication</td>\n",
       "    </tr>\n",
       "    <tr>\n",
       "      <th>3</th>\n",
       "      <td>4</td>\n",
       "      <td>p:6005</td>\n",
       "      <td>MS</td>\n",
       "      <td>Internet Technology</td>\n",
       "    </tr>\n",
       "    <tr>\n",
       "      <th>4</th>\n",
       "      <td>5</td>\n",
       "      <td>p:5832</td>\n",
       "      <td>BCS</td>\n",
       "      <td>Computer Science, Psychology</td>\n",
       "    </tr>\n",
       "  </tbody>\n",
       "</table>\n",
       "</div>"
      ],
      "text/plain": [
       "   id object_id degree_type                       subject\n",
       "0   1    p:6117         MBA                           NaN\n",
       "1   2    p:6136          BA               English, French\n",
       "2   3    p:6136          MS            Mass Communication\n",
       "3   4    p:6005          MS           Internet Technology\n",
       "4   5    p:5832         BCS  Computer Science, Psychology"
      ]
     },
     "execution_count": 5,
     "metadata": {},
     "output_type": "execute_result"
    }
   ],
   "source": [
    "degrees.info()\n",
    "degrees.head()"
   ]
  },
  {
   "cell_type": "code",
   "execution_count": 6,
   "metadata": {
    "hideCode": false,
    "hidePrompt": false
   },
   "outputs": [
    {
     "name": "stdout",
     "output_type": "stream",
     "text": [
      "<class 'pandas.core.frame.DataFrame'>\n",
      "RangeIndex: 109610 entries, 0 to 109609\n",
      "Data columns (total 4 columns):\n",
      " #   Column        Non-Null Count   Dtype \n",
      "---  ------        --------------   ----- \n",
      " 0   id            109610 non-null  int64 \n",
      " 1   person_id     109610 non-null  int64 \n",
      " 2   instituition  109555 non-null  object\n",
      " 3   graduated_at  58054 non-null   object\n",
      "dtypes: int64(2), object(2)\n",
      "memory usage: 3.3+ MB\n"
     ]
    },
    {
     "data": {
      "text/html": [
       "<div>\n",
       "<style scoped>\n",
       "    .dataframe tbody tr th:only-of-type {\n",
       "        vertical-align: middle;\n",
       "    }\n",
       "\n",
       "    .dataframe tbody tr th {\n",
       "        vertical-align: top;\n",
       "    }\n",
       "\n",
       "    .dataframe thead th {\n",
       "        text-align: right;\n",
       "    }\n",
       "</style>\n",
       "<table border=\"1\" class=\"dataframe\">\n",
       "  <thead>\n",
       "    <tr style=\"text-align: right;\">\n",
       "      <th></th>\n",
       "      <th>id</th>\n",
       "      <th>person_id</th>\n",
       "      <th>instituition</th>\n",
       "      <th>graduated_at</th>\n",
       "    </tr>\n",
       "  </thead>\n",
       "  <tbody>\n",
       "    <tr>\n",
       "      <th>0</th>\n",
       "      <td>1</td>\n",
       "      <td>6117</td>\n",
       "      <td>NaN</td>\n",
       "      <td>NaN</td>\n",
       "    </tr>\n",
       "    <tr>\n",
       "      <th>1</th>\n",
       "      <td>2</td>\n",
       "      <td>6136</td>\n",
       "      <td>Washington University, St. Louis</td>\n",
       "      <td>1990-01-01</td>\n",
       "    </tr>\n",
       "    <tr>\n",
       "      <th>2</th>\n",
       "      <td>3</td>\n",
       "      <td>6136</td>\n",
       "      <td>Boston University</td>\n",
       "      <td>1992-01-01</td>\n",
       "    </tr>\n",
       "    <tr>\n",
       "      <th>3</th>\n",
       "      <td>4</td>\n",
       "      <td>6005</td>\n",
       "      <td>University of Greenwich</td>\n",
       "      <td>2006-01-01</td>\n",
       "    </tr>\n",
       "    <tr>\n",
       "      <th>4</th>\n",
       "      <td>5</td>\n",
       "      <td>5832</td>\n",
       "      <td>Rice University</td>\n",
       "      <td>NaN</td>\n",
       "    </tr>\n",
       "  </tbody>\n",
       "</table>\n",
       "</div>"
      ],
      "text/plain": [
       "   id  person_id                      instituition graduated_at\n",
       "0   1       6117                               NaN          NaN\n",
       "1   2       6136  Washington University, St. Louis   1990-01-01\n",
       "2   3       6136                 Boston University   1992-01-01\n",
       "3   4       6005           University of Greenwich   2006-01-01\n",
       "4   5       5832                   Rice University          NaN"
      ]
     },
     "execution_count": 6,
     "metadata": {},
     "output_type": "execute_result"
    }
   ],
   "source": [
    "education.info()\n",
    "education.head()"
   ]
  },
  {
   "cell_type": "code",
   "execution_count": 7,
   "metadata": {
    "hideCode": false,
    "hidePrompt": false
   },
   "outputs": [
    {
     "name": "stdout",
     "output_type": "stream",
     "text": [
      "<class 'pandas.core.frame.DataFrame'>\n",
      "RangeIndex: 11652 entries, 0 to 11651\n",
      "Data columns (total 9 columns):\n",
      " #   Column              Non-Null Count  Dtype \n",
      "---  ------              --------------  ----- \n",
      " 0   id                  11652 non-null  int64 \n",
      " 1   name                11649 non-null  object\n",
      " 2   founded_at          4605 non-null   object\n",
      " 3   domain              7362 non-null   object\n",
      " 4   network_username    2149 non-null   object\n",
      " 5   country_code        7053 non-null   object\n",
      " 6   investment_rounds   11652 non-null  int64 \n",
      " 7   invested_companies  11652 non-null  int64 \n",
      " 8   milestones          11652 non-null  int64 \n",
      "dtypes: int64(4), object(5)\n",
      "memory usage: 819.4+ KB\n"
     ]
    },
    {
     "data": {
      "text/html": [
       "<div>\n",
       "<style scoped>\n",
       "    .dataframe tbody tr th:only-of-type {\n",
       "        vertical-align: middle;\n",
       "    }\n",
       "\n",
       "    .dataframe tbody tr th {\n",
       "        vertical-align: top;\n",
       "    }\n",
       "\n",
       "    .dataframe thead th {\n",
       "        text-align: right;\n",
       "    }\n",
       "</style>\n",
       "<table border=\"1\" class=\"dataframe\">\n",
       "  <thead>\n",
       "    <tr style=\"text-align: right;\">\n",
       "      <th></th>\n",
       "      <th>id</th>\n",
       "      <th>name</th>\n",
       "      <th>founded_at</th>\n",
       "      <th>domain</th>\n",
       "      <th>network_username</th>\n",
       "      <th>country_code</th>\n",
       "      <th>investment_rounds</th>\n",
       "      <th>invested_companies</th>\n",
       "      <th>milestones</th>\n",
       "    </tr>\n",
       "  </thead>\n",
       "  <tbody>\n",
       "    <tr>\n",
       "      <th>0</th>\n",
       "      <td>13131</td>\n",
       "      <td>NaN</td>\n",
       "      <td>NaN</td>\n",
       "      <td>NaN</td>\n",
       "      <td>NaN</td>\n",
       "      <td>NaN</td>\n",
       "      <td>0</td>\n",
       "      <td>0</td>\n",
       "      <td>0</td>\n",
       "    </tr>\n",
       "    <tr>\n",
       "      <th>1</th>\n",
       "      <td>1</td>\n",
       "      <td>Greylock Partners</td>\n",
       "      <td>1965-01-01</td>\n",
       "      <td>greylock.com</td>\n",
       "      <td>greylockvc</td>\n",
       "      <td>USA</td>\n",
       "      <td>307</td>\n",
       "      <td>196</td>\n",
       "      <td>0</td>\n",
       "    </tr>\n",
       "    <tr>\n",
       "      <th>2</th>\n",
       "      <td>10</td>\n",
       "      <td>Mission Ventures</td>\n",
       "      <td>1996-01-01</td>\n",
       "      <td>missionventures.com</td>\n",
       "      <td>NaN</td>\n",
       "      <td>USA</td>\n",
       "      <td>58</td>\n",
       "      <td>33</td>\n",
       "      <td>0</td>\n",
       "    </tr>\n",
       "    <tr>\n",
       "      <th>3</th>\n",
       "      <td>100</td>\n",
       "      <td>Kapor Enterprises, Inc.</td>\n",
       "      <td>NaN</td>\n",
       "      <td>kei.com</td>\n",
       "      <td>NaN</td>\n",
       "      <td>USA</td>\n",
       "      <td>2</td>\n",
       "      <td>1</td>\n",
       "      <td>0</td>\n",
       "    </tr>\n",
       "    <tr>\n",
       "      <th>4</th>\n",
       "      <td>1000</td>\n",
       "      <td>Speed Ventures</td>\n",
       "      <td>NaN</td>\n",
       "      <td>NaN</td>\n",
       "      <td>NaN</td>\n",
       "      <td>NaN</td>\n",
       "      <td>0</td>\n",
       "      <td>0</td>\n",
       "      <td>1</td>\n",
       "    </tr>\n",
       "  </tbody>\n",
       "</table>\n",
       "</div>"
      ],
      "text/plain": [
       "      id                     name  founded_at               domain  \\\n",
       "0  13131                      NaN         NaN                  NaN   \n",
       "1      1        Greylock Partners  1965-01-01         greylock.com   \n",
       "2     10         Mission Ventures  1996-01-01  missionventures.com   \n",
       "3    100  Kapor Enterprises, Inc.         NaN              kei.com   \n",
       "4   1000           Speed Ventures         NaN                  NaN   \n",
       "\n",
       "  network_username country_code  investment_rounds  invested_companies  \\\n",
       "0              NaN          NaN                  0                   0   \n",
       "1       greylockvc          USA                307                 196   \n",
       "2              NaN          USA                 58                  33   \n",
       "3              NaN          USA                  2                   1   \n",
       "4              NaN          NaN                  0                   0   \n",
       "\n",
       "   milestones  \n",
       "0           0  \n",
       "1           0  \n",
       "2           0  \n",
       "3           0  \n",
       "4           1  "
      ]
     },
     "execution_count": 7,
     "metadata": {},
     "output_type": "execute_result"
    }
   ],
   "source": [
    "fund.info()\n",
    "fund.head()"
   ]
  },
  {
   "cell_type": "code",
   "execution_count": 8,
   "metadata": {
    "hideCode": false,
    "hidePrompt": false
   },
   "outputs": [
    {
     "name": "stdout",
     "output_type": "stream",
     "text": [
      "<class 'pandas.core.frame.DataFrame'>\n",
      "RangeIndex: 61403 entries, 0 to 61402\n",
      "Data columns (total 4 columns):\n",
      " #   Column            Non-Null Count  Dtype\n",
      "---  ------            --------------  -----\n",
      " 0   id                61403 non-null  int64\n",
      " 1   funding_round_id  61403 non-null  int64\n",
      " 2   company_id        61403 non-null  int64\n",
      " 3   fund_id           61403 non-null  int64\n",
      "dtypes: int64(4)\n",
      "memory usage: 1.9 MB\n"
     ]
    },
    {
     "data": {
      "text/html": [
       "<div>\n",
       "<style scoped>\n",
       "    .dataframe tbody tr th:only-of-type {\n",
       "        vertical-align: middle;\n",
       "    }\n",
       "\n",
       "    .dataframe tbody tr th {\n",
       "        vertical-align: top;\n",
       "    }\n",
       "\n",
       "    .dataframe thead th {\n",
       "        text-align: right;\n",
       "    }\n",
       "</style>\n",
       "<table border=\"1\" class=\"dataframe\">\n",
       "  <thead>\n",
       "    <tr style=\"text-align: right;\">\n",
       "      <th></th>\n",
       "      <th>id</th>\n",
       "      <th>funding_round_id</th>\n",
       "      <th>company_id</th>\n",
       "      <th>fund_id</th>\n",
       "    </tr>\n",
       "  </thead>\n",
       "  <tbody>\n",
       "    <tr>\n",
       "      <th>0</th>\n",
       "      <td>1</td>\n",
       "      <td>1</td>\n",
       "      <td>4</td>\n",
       "      <td>1</td>\n",
       "    </tr>\n",
       "    <tr>\n",
       "      <th>1</th>\n",
       "      <td>2</td>\n",
       "      <td>1</td>\n",
       "      <td>4</td>\n",
       "      <td>2</td>\n",
       "    </tr>\n",
       "    <tr>\n",
       "      <th>2</th>\n",
       "      <td>3</td>\n",
       "      <td>3</td>\n",
       "      <td>5</td>\n",
       "      <td>4</td>\n",
       "    </tr>\n",
       "    <tr>\n",
       "      <th>3</th>\n",
       "      <td>4</td>\n",
       "      <td>4</td>\n",
       "      <td>5</td>\n",
       "      <td>1</td>\n",
       "    </tr>\n",
       "    <tr>\n",
       "      <th>4</th>\n",
       "      <td>5</td>\n",
       "      <td>4</td>\n",
       "      <td>5</td>\n",
       "      <td>5</td>\n",
       "    </tr>\n",
       "  </tbody>\n",
       "</table>\n",
       "</div>"
      ],
      "text/plain": [
       "   id  funding_round_id  company_id  fund_id\n",
       "0   1                 1           4        1\n",
       "1   2                 1           4        2\n",
       "2   3                 3           5        4\n",
       "3   4                 4           5        1\n",
       "4   5                 4           5        5"
      ]
     },
     "execution_count": 8,
     "metadata": {},
     "output_type": "execute_result"
    }
   ],
   "source": [
    "investment.info()\n",
    "investment.head()"
   ]
  },
  {
   "cell_type": "code",
   "execution_count": 9,
   "metadata": {
    "hideCode": false,
    "hidePrompt": false
   },
   "outputs": [
    {
     "name": "stdout",
     "output_type": "stream",
     "text": [
      "<class 'pandas.core.frame.DataFrame'>\n",
      "RangeIndex: 226709 entries, 0 to 226708\n",
      "Data columns (total 5 columns):\n",
      " #   Column            Non-Null Count   Dtype  \n",
      "---  ------            --------------   -----  \n",
      " 0   id                226709 non-null  int64  \n",
      " 1   first_name        226700 non-null  object \n",
      " 2   last_name         226705 non-null  object \n",
      " 3   company_id        34615 non-null   float64\n",
      " 4   network_username  38867 non-null   object \n",
      "dtypes: float64(1), int64(1), object(3)\n",
      "memory usage: 8.6+ MB\n"
     ]
    },
    {
     "data": {
      "text/html": [
       "<div>\n",
       "<style scoped>\n",
       "    .dataframe tbody tr th:only-of-type {\n",
       "        vertical-align: middle;\n",
       "    }\n",
       "\n",
       "    .dataframe tbody tr th {\n",
       "        vertical-align: top;\n",
       "    }\n",
       "\n",
       "    .dataframe thead th {\n",
       "        text-align: right;\n",
       "    }\n",
       "</style>\n",
       "<table border=\"1\" class=\"dataframe\">\n",
       "  <thead>\n",
       "    <tr style=\"text-align: right;\">\n",
       "      <th></th>\n",
       "      <th>id</th>\n",
       "      <th>first_name</th>\n",
       "      <th>last_name</th>\n",
       "      <th>company_id</th>\n",
       "      <th>network_username</th>\n",
       "    </tr>\n",
       "  </thead>\n",
       "  <tbody>\n",
       "    <tr>\n",
       "      <th>0</th>\n",
       "      <td>10</td>\n",
       "      <td>Mark</td>\n",
       "      <td>Zuckerberg</td>\n",
       "      <td>5.0</td>\n",
       "      <td>NaN</td>\n",
       "    </tr>\n",
       "    <tr>\n",
       "      <th>1</th>\n",
       "      <td>100</td>\n",
       "      <td>Peter</td>\n",
       "      <td>Lester</td>\n",
       "      <td>27.0</td>\n",
       "      <td>NaN</td>\n",
       "    </tr>\n",
       "    <tr>\n",
       "      <th>2</th>\n",
       "      <td>1000</td>\n",
       "      <td>Dr. Steven</td>\n",
       "      <td>E. Saunders</td>\n",
       "      <td>292.0</td>\n",
       "      <td>NaN</td>\n",
       "    </tr>\n",
       "    <tr>\n",
       "      <th>3</th>\n",
       "      <td>10000</td>\n",
       "      <td>Neil</td>\n",
       "      <td>Capel</td>\n",
       "      <td>2526.0</td>\n",
       "      <td>NaN</td>\n",
       "    </tr>\n",
       "    <tr>\n",
       "      <th>4</th>\n",
       "      <td>100000</td>\n",
       "      <td>Sue</td>\n",
       "      <td>Pilsch</td>\n",
       "      <td>NaN</td>\n",
       "      <td>NaN</td>\n",
       "    </tr>\n",
       "  </tbody>\n",
       "</table>\n",
       "</div>"
      ],
      "text/plain": [
       "       id  first_name    last_name  company_id network_username\n",
       "0      10        Mark   Zuckerberg         5.0              NaN\n",
       "1     100       Peter       Lester        27.0              NaN\n",
       "2    1000  Dr. Steven  E. Saunders       292.0              NaN\n",
       "3   10000        Neil        Capel      2526.0              NaN\n",
       "4  100000         Sue       Pilsch         NaN              NaN"
      ]
     },
     "execution_count": 9,
     "metadata": {},
     "output_type": "execute_result"
    }
   ],
   "source": [
    "people.info()\n",
    "people.head()"
   ]
  },
  {
   "cell_type": "markdown",
   "metadata": {
    "hideCode": false,
    "hidePrompt": false
   },
   "source": [
    "<div style=\"background-color:lavender; color:#black; text-align:left; padding:2%\">\n",
    "    \n",
    "#### **Комментарий:** Нужно привести в порядок тип даннных во всех таблицах и  названия столбцов в таблице company_and_rounds. Так же заметны пропуски во всех таблицах, кроме investment. В столбцах где указано \"_at\" тип данных должен быть связан с датой, тут мы видим тип данных \"object\"\n",
    "    "
   ]
  },
  {
   "cell_type": "markdown",
   "metadata": {
    "hideCode": false,
    "hidePrompt": false,
    "id": "mg2gEwh0rJg0"
   },
   "source": [
    "### 1.2. Смена типов и анализ пропусков\n",
    "\n",
    "* Обработайте типы данных в столбцах, которые хранят значения даты и времени, если это необходимо."
   ]
  },
  {
   "cell_type": "markdown",
   "metadata": {
    "hideCode": false,
    "hidePrompt": false
   },
   "source": [
    "\n",
    "* Оцените полноту данных — сделайте предварительный вывод, достаточно ли данных для решения задач проекта."
   ]
  },
  {
   "cell_type": "code",
   "execution_count": 10,
   "metadata": {
    "hideCode": true,
    "hidePrompt": true
   },
   "outputs": [],
   "source": [
    "company_and_rounds.columns = company_and_rounds.columns.str.replace('  ','_')"
   ]
  },
  {
   "cell_type": "code",
   "execution_count": 11,
   "metadata": {
    "hideCode": true,
    "hidePrompt": true,
    "id": "FsL0A8RBrJg1",
    "scrolled": true
   },
   "outputs": [
    {
     "name": "stdout",
     "output_type": "stream",
     "text": [
      "Пропуски в датафрейме acquisition\n"
     ]
    },
    {
     "data": {
      "text/html": [
       "<style type=\"text/css\">\n",
       "#T_7a253_row0_col0, #T_7a253_row0_col1 {\n",
       "  background-color: #2c3172;\n",
       "  color: #f1f1f1;\n",
       "}\n",
       "#T_7a253_row1_col0, #T_7a253_row1_col1, #T_7a253_row2_col0, #T_7a253_row2_col1, #T_7a253_row3_col0, #T_7a253_row3_col1, #T_7a253_row4_col0, #T_7a253_row4_col1, #T_7a253_row5_col0, #T_7a253_row5_col1 {\n",
       "  background-color: #a5cd90;\n",
       "  color: #000000;\n",
       "}\n",
       "</style>\n",
       "<table id=\"T_7a253\">\n",
       "  <thead>\n",
       "    <tr>\n",
       "      <th class=\"blank level0\" >&nbsp;</th>\n",
       "      <th id=\"T_7a253_level0_col0\" class=\"col_heading level0 col0\" >Количество пропусков</th>\n",
       "      <th id=\"T_7a253_level0_col1\" class=\"col_heading level0 col1\" >Процент пропусков</th>\n",
       "    </tr>\n",
       "  </thead>\n",
       "  <tbody>\n",
       "    <tr>\n",
       "      <th id=\"T_7a253_level0_row0\" class=\"row_heading level0 row0\" >term_code</th>\n",
       "      <td id=\"T_7a253_row0_col0\" class=\"data row0 col0\" >7576</td>\n",
       "      <td id=\"T_7a253_row0_col1\" class=\"data row0 col1\" >80.535771</td>\n",
       "    </tr>\n",
       "    <tr>\n",
       "      <th id=\"T_7a253_level0_row1\" class=\"row_heading level0 row1\" >acquired_at</th>\n",
       "      <td id=\"T_7a253_row1_col0\" class=\"data row1 col0\" >29</td>\n",
       "      <td id=\"T_7a253_row1_col1\" class=\"data row1 col1\" >0.308281</td>\n",
       "    </tr>\n",
       "    <tr>\n",
       "      <th id=\"T_7a253_level0_row2\" class=\"row_heading level0 row2\" >id</th>\n",
       "      <td id=\"T_7a253_row2_col0\" class=\"data row2 col0\" >0</td>\n",
       "      <td id=\"T_7a253_row2_col1\" class=\"data row2 col1\" >0.000000</td>\n",
       "    </tr>\n",
       "    <tr>\n",
       "      <th id=\"T_7a253_level0_row3\" class=\"row_heading level0 row3\" >acquiring_company_id</th>\n",
       "      <td id=\"T_7a253_row3_col0\" class=\"data row3 col0\" >0</td>\n",
       "      <td id=\"T_7a253_row3_col1\" class=\"data row3 col1\" >0.000000</td>\n",
       "    </tr>\n",
       "    <tr>\n",
       "      <th id=\"T_7a253_level0_row4\" class=\"row_heading level0 row4\" >acquired_company_id</th>\n",
       "      <td id=\"T_7a253_row4_col0\" class=\"data row4 col0\" >0</td>\n",
       "      <td id=\"T_7a253_row4_col1\" class=\"data row4 col1\" >0.000000</td>\n",
       "    </tr>\n",
       "    <tr>\n",
       "      <th id=\"T_7a253_level0_row5\" class=\"row_heading level0 row5\" >price_amount</th>\n",
       "      <td id=\"T_7a253_row5_col0\" class=\"data row5 col0\" >0</td>\n",
       "      <td id=\"T_7a253_row5_col1\" class=\"data row5 col1\" >0.000000</td>\n",
       "    </tr>\n",
       "  </tbody>\n",
       "</table>\n"
      ],
      "text/plain": [
       "<pandas.io.formats.style.Styler at 0x1bd27b22f60>"
      ]
     },
     "execution_count": 11,
     "metadata": {},
     "output_type": "execute_result"
    }
   ],
   "source": [
    "print('Пропуски в датафрейме acquisition')\n",
    "missing_acquisition_abs = acquisition.isna().sum()\n",
    "missing_acquisition_sorted = missing_acquisition_abs.sort_values(ascending=False)\n",
    "missin_acquisition_perc = (missing_acquisition_sorted / len(acquisition))*100\n",
    "styled_acquisition = pd.DataFrame({\n",
    "    'Количество пропусков': missing_acquisition_sorted, \n",
    "    'Процент пропусков': missin_acquisition_perc\n",
    "}).style.background_gradient(cmap='crest', axis=0)\n",
    "styled_acquisition"
   ]
  },
  {
   "cell_type": "code",
   "execution_count": 12,
   "metadata": {
    "hideCode": false,
    "hidePrompt": true
   },
   "outputs": [
    {
     "name": "stdout",
     "output_type": "stream",
     "text": [
      "Пропуски в датафрейме company_and_rounds\n"
     ]
    },
    {
     "data": {
      "text/html": [
       "<style type=\"text/css\">\n",
       "#T_c2dc2_row0_col0, #T_c2dc2_row0_col1 {\n",
       "  background-color: #2c3172;\n",
       "  color: #f1f1f1;\n",
       "}\n",
       "#T_c2dc2_row1_col0, #T_c2dc2_row1_col1 {\n",
       "  background-color: #1f5a85;\n",
       "  color: #f1f1f1;\n",
       "}\n",
       "#T_c2dc2_row2_col0, #T_c2dc2_row2_col1, #T_c2dc2_row3_col0, #T_c2dc2_row3_col1, #T_c2dc2_row4_col0, #T_c2dc2_row4_col1, #T_c2dc2_row5_col0, #T_c2dc2_row5_col1, #T_c2dc2_row6_col0, #T_c2dc2_row6_col1, #T_c2dc2_row7_col0, #T_c2dc2_row7_col1, #T_c2dc2_row8_col0, #T_c2dc2_row8_col1, #T_c2dc2_row9_col0, #T_c2dc2_row9_col1 {\n",
       "  background-color: #1f5b86;\n",
       "  color: #f1f1f1;\n",
       "}\n",
       "#T_c2dc2_row10_col0, #T_c2dc2_row10_col1 {\n",
       "  background-color: #287b8c;\n",
       "  color: #f1f1f1;\n",
       "}\n",
       "#T_c2dc2_row11_col0, #T_c2dc2_row11_col1 {\n",
       "  background-color: #32848d;\n",
       "  color: #f1f1f1;\n",
       "}\n",
       "#T_c2dc2_row12_col0, #T_c2dc2_row12_col1 {\n",
       "  background-color: #33858d;\n",
       "  color: #f1f1f1;\n",
       "}\n",
       "#T_c2dc2_row13_col0, #T_c2dc2_row13_col1 {\n",
       "  background-color: #4e9d90;\n",
       "  color: #f1f1f1;\n",
       "}\n",
       "#T_c2dc2_row14_col0, #T_c2dc2_row14_col1 {\n",
       "  background-color: #509f90;\n",
       "  color: #f1f1f1;\n",
       "}\n",
       "#T_c2dc2_row15_col0, #T_c2dc2_row15_col1, #T_c2dc2_row16_col0, #T_c2dc2_row16_col1, #T_c2dc2_row17_col0, #T_c2dc2_row17_col1, #T_c2dc2_row18_col0, #T_c2dc2_row18_col1, #T_c2dc2_row19_col0, #T_c2dc2_row19_col1, #T_c2dc2_row20_col0, #T_c2dc2_row20_col1, #T_c2dc2_row21_col0, #T_c2dc2_row21_col1 {\n",
       "  background-color: #a5cd90;\n",
       "  color: #000000;\n",
       "}\n",
       "</style>\n",
       "<table id=\"T_c2dc2\">\n",
       "  <thead>\n",
       "    <tr>\n",
       "      <th class=\"blank level0\" >&nbsp;</th>\n",
       "      <th id=\"T_c2dc2_level0_col0\" class=\"col_heading level0 col0\" >Количество пропусков</th>\n",
       "      <th id=\"T_c2dc2_level0_col1\" class=\"col_heading level0 col1\" >Процент пропусков</th>\n",
       "    </tr>\n",
       "  </thead>\n",
       "  <tbody>\n",
       "    <tr>\n",
       "      <th id=\"T_c2dc2_level0_row0\" class=\"row_heading level0 row0\" >closed_at</th>\n",
       "      <td id=\"T_c2dc2_row0_col0\" class=\"data row0 col0\" >214325</td>\n",
       "      <td id=\"T_c2dc2_row0_col1\" class=\"data row0 col1\" >98.416248</td>\n",
       "    </tr>\n",
       "    <tr>\n",
       "      <th id=\"T_c2dc2_level0_row1\" class=\"row_heading level0 row1\" >funded_at</th>\n",
       "      <td id=\"T_c2dc2_row1_col0\" class=\"data row1 col0\" >165094</td>\n",
       "      <td id=\"T_c2dc2_row1_col1\" class=\"data row1 col1\" >75.809784</td>\n",
       "    </tr>\n",
       "    <tr>\n",
       "      <th id=\"T_c2dc2_level0_row2\" class=\"row_heading level0 row2\" >is_last_round</th>\n",
       "      <td id=\"T_c2dc2_row2_col0\" class=\"data row2 col0\" >164846</td>\n",
       "      <td id=\"T_c2dc2_row2_col1\" class=\"data row2 col1\" >75.695905</td>\n",
       "    </tr>\n",
       "    <tr>\n",
       "      <th id=\"T_c2dc2_level0_row3\" class=\"row_heading level0 row3\" >funding_round_type</th>\n",
       "      <td id=\"T_c2dc2_row3_col0\" class=\"data row3 col0\" >164846</td>\n",
       "      <td id=\"T_c2dc2_row3_col1\" class=\"data row3 col1\" >75.695905</td>\n",
       "    </tr>\n",
       "    <tr>\n",
       "      <th id=\"T_c2dc2_level0_row4\" class=\"row_heading level0 row4\" >is_first_round</th>\n",
       "      <td id=\"T_c2dc2_row4_col0\" class=\"data row4 col0\" >164846</td>\n",
       "      <td id=\"T_c2dc2_row4_col1\" class=\"data row4 col1\" >75.695905</td>\n",
       "    </tr>\n",
       "    <tr>\n",
       "      <th id=\"T_c2dc2_level0_row5\" class=\"row_heading level0 row5\" >participants</th>\n",
       "      <td id=\"T_c2dc2_row5_col0\" class=\"data row5 col0\" >164846</td>\n",
       "      <td id=\"T_c2dc2_row5_col1\" class=\"data row5 col1\" >75.695905</td>\n",
       "    </tr>\n",
       "    <tr>\n",
       "      <th id=\"T_c2dc2_level0_row6\" class=\"row_heading level0 row6\" >pre_money_valuation</th>\n",
       "      <td id=\"T_c2dc2_row6_col0\" class=\"data row6 col0\" >164846</td>\n",
       "      <td id=\"T_c2dc2_row6_col1\" class=\"data row6 col1\" >75.695905</td>\n",
       "    </tr>\n",
       "    <tr>\n",
       "      <th id=\"T_c2dc2_level0_row7\" class=\"row_heading level0 row7\" >raised_amount</th>\n",
       "      <td id=\"T_c2dc2_row7_col0\" class=\"data row7 col0\" >164846</td>\n",
       "      <td id=\"T_c2dc2_row7_col1\" class=\"data row7 col1\" >75.695905</td>\n",
       "    </tr>\n",
       "    <tr>\n",
       "      <th id=\"T_c2dc2_level0_row8\" class=\"row_heading level0 row8\" >funding_round_id</th>\n",
       "      <td id=\"T_c2dc2_row8_col0\" class=\"data row8 col0\" >164846</td>\n",
       "      <td id=\"T_c2dc2_row8_col1\" class=\"data row8 col1\" >75.695905</td>\n",
       "    </tr>\n",
       "    <tr>\n",
       "      <th id=\"T_c2dc2_level0_row9\" class=\"row_heading level0 row9\" >company_id</th>\n",
       "      <td id=\"T_c2dc2_row9_col0\" class=\"data row9 col0\" >164846</td>\n",
       "      <td id=\"T_c2dc2_row9_col1\" class=\"data row9 col1\" >75.695905</td>\n",
       "    </tr>\n",
       "    <tr>\n",
       "      <th id=\"T_c2dc2_level0_row10\" class=\"row_heading level0 row10\" >network_username</th>\n",
       "      <td id=\"T_c2dc2_row10_col0\" class=\"data row10 col0\" >122240</td>\n",
       "      <td id=\"T_c2dc2_row10_col1\" class=\"data row10 col1\" >56.131586</td>\n",
       "    </tr>\n",
       "    <tr>\n",
       "      <th id=\"T_c2dc2_level0_row11\" class=\"row_heading level0 row11\" >country_code</th>\n",
       "      <td id=\"T_c2dc2_row11_col0\" class=\"data row11 col0\" >109167</td>\n",
       "      <td id=\"T_c2dc2_row11_col1\" class=\"data row11 col1\" >50.128574</td>\n",
       "    </tr>\n",
       "    <tr>\n",
       "      <th id=\"T_c2dc2_level0_row12\" class=\"row_heading level0 row12\" >founded_at</th>\n",
       "      <td id=\"T_c2dc2_row12_col0\" class=\"data row12 col0\" >107818</td>\n",
       "      <td id=\"T_c2dc2_row12_col1\" class=\"data row12 col1\" >49.509124</td>\n",
       "    </tr>\n",
       "    <tr>\n",
       "      <th id=\"T_c2dc2_level0_row13\" class=\"row_heading level0 row13\" >category_code</th>\n",
       "      <td id=\"T_c2dc2_row13_col0\" class=\"data row13 col0\" >73888</td>\n",
       "      <td id=\"T_c2dc2_row13_col1\" class=\"data row13 col1\" >33.928752</td>\n",
       "    </tr>\n",
       "    <tr>\n",
       "      <th id=\"T_c2dc2_level0_row14\" class=\"row_heading level0 row14\" >domain</th>\n",
       "      <td id=\"T_c2dc2_row14_col0\" class=\"data row14 col0\" >70615</td>\n",
       "      <td id=\"T_c2dc2_row14_col1\" class=\"data row14 col1\" >32.425818</td>\n",
       "    </tr>\n",
       "    <tr>\n",
       "      <th id=\"T_c2dc2_level0_row15\" class=\"row_heading level0 row15\" >name</th>\n",
       "      <td id=\"T_c2dc2_row15_col0\" class=\"data row15 col0\" >303</td>\n",
       "      <td id=\"T_c2dc2_row15_col1\" class=\"data row15 col1\" >0.139135</td>\n",
       "    </tr>\n",
       "    <tr>\n",
       "      <th id=\"T_c2dc2_level0_row16\" class=\"row_heading level0 row16\" >company_ID</th>\n",
       "      <td id=\"T_c2dc2_row16_col0\" class=\"data row16 col0\" >302</td>\n",
       "      <td id=\"T_c2dc2_row16_col1\" class=\"data row16 col1\" >0.138676</td>\n",
       "    </tr>\n",
       "    <tr>\n",
       "      <th id=\"T_c2dc2_level0_row17\" class=\"row_heading level0 row17\" >milestones</th>\n",
       "      <td id=\"T_c2dc2_row17_col0\" class=\"data row17 col0\" >302</td>\n",
       "      <td id=\"T_c2dc2_row17_col1\" class=\"data row17 col1\" >0.138676</td>\n",
       "    </tr>\n",
       "    <tr>\n",
       "      <th id=\"T_c2dc2_level0_row18\" class=\"row_heading level0 row18\" >funding_rounds</th>\n",
       "      <td id=\"T_c2dc2_row18_col0\" class=\"data row18 col0\" >302</td>\n",
       "      <td id=\"T_c2dc2_row18_col1\" class=\"data row18 col1\" >0.138676</td>\n",
       "    </tr>\n",
       "    <tr>\n",
       "      <th id=\"T_c2dc2_level0_row19\" class=\"row_heading level0 row19\" >investment_rounds</th>\n",
       "      <td id=\"T_c2dc2_row19_col0\" class=\"data row19 col0\" >302</td>\n",
       "      <td id=\"T_c2dc2_row19_col1\" class=\"data row19 col1\" >0.138676</td>\n",
       "    </tr>\n",
       "    <tr>\n",
       "      <th id=\"T_c2dc2_level0_row20\" class=\"row_heading level0 row20\" >status</th>\n",
       "      <td id=\"T_c2dc2_row20_col0\" class=\"data row20 col0\" >302</td>\n",
       "      <td id=\"T_c2dc2_row20_col1\" class=\"data row20 col1\" >0.138676</td>\n",
       "    </tr>\n",
       "    <tr>\n",
       "      <th id=\"T_c2dc2_level0_row21\" class=\"row_heading level0 row21\" >funding_total</th>\n",
       "      <td id=\"T_c2dc2_row21_col0\" class=\"data row21 col0\" >302</td>\n",
       "      <td id=\"T_c2dc2_row21_col1\" class=\"data row21 col1\" >0.138676</td>\n",
       "    </tr>\n",
       "  </tbody>\n",
       "</table>\n"
      ],
      "text/plain": [
       "<pandas.io.formats.style.Styler at 0x1bd28012f90>"
      ]
     },
     "execution_count": 12,
     "metadata": {},
     "output_type": "execute_result"
    }
   ],
   "source": [
    "print('Пропуски в датафрейме company_and_rounds')\n",
    "missing_company_and_rounds_abs = company_and_rounds.isna().sum()\n",
    "missing_company_and_rounds_sorted = missing_company_and_rounds_abs.sort_values(ascending=False)\n",
    "missing_company_and_rounds_perc = (missing_company_and_rounds_sorted / len(company_and_rounds))*100\n",
    "styled_company_and_rounds = pd.DataFrame({\n",
    "    'Количество пропусков': missing_company_and_rounds_sorted, \n",
    "    'Процент пропусков': missing_company_and_rounds_perc\n",
    "}).style.background_gradient(cmap='crest', axis=0)\n",
    "styled_company_and_rounds"
   ]
  },
  {
   "cell_type": "code",
   "execution_count": 13,
   "metadata": {
    "hideCode": false,
    "hidePrompt": true
   },
   "outputs": [
    {
     "name": "stdout",
     "output_type": "stream",
     "text": [
      "Пропуски в датафрейме degrees\n"
     ]
    },
    {
     "data": {
      "text/html": [
       "<style type=\"text/css\">\n",
       "#T_b73db_row0_col0, #T_b73db_row0_col1 {\n",
       "  background-color: #2c3172;\n",
       "  color: #f1f1f1;\n",
       "}\n",
       "#T_b73db_row1_col0, #T_b73db_row1_col1 {\n",
       "  background-color: #45958f;\n",
       "  color: #f1f1f1;\n",
       "}\n",
       "#T_b73db_row2_col0, #T_b73db_row2_col1, #T_b73db_row3_col0, #T_b73db_row3_col1 {\n",
       "  background-color: #a5cd90;\n",
       "  color: #000000;\n",
       "}\n",
       "</style>\n",
       "<table id=\"T_b73db\">\n",
       "  <thead>\n",
       "    <tr>\n",
       "      <th class=\"blank level0\" >&nbsp;</th>\n",
       "      <th id=\"T_b73db_level0_col0\" class=\"col_heading level0 col0\" >Количество пропусков</th>\n",
       "      <th id=\"T_b73db_level0_col1\" class=\"col_heading level0 col1\" >Процент пропусков</th>\n",
       "    </tr>\n",
       "  </thead>\n",
       "  <tbody>\n",
       "    <tr>\n",
       "      <th id=\"T_b73db_level0_row0\" class=\"row_heading level0 row0\" >subject</th>\n",
       "      <td id=\"T_b73db_row0_col0\" class=\"data row0 col0\" >28312</td>\n",
       "      <td id=\"T_b73db_row0_col1\" class=\"data row0 col1\" >25.829760</td>\n",
       "    </tr>\n",
       "    <tr>\n",
       "      <th id=\"T_b73db_level0_row1\" class=\"row_heading level0 row1\" >degree_type</th>\n",
       "      <td id=\"T_b73db_row1_col0\" class=\"data row1 col0\" >11221</td>\n",
       "      <td id=\"T_b73db_row1_col1\" class=\"data row1 col1\" >10.237205</td>\n",
       "    </tr>\n",
       "    <tr>\n",
       "      <th id=\"T_b73db_level0_row2\" class=\"row_heading level0 row2\" >id</th>\n",
       "      <td id=\"T_b73db_row2_col0\" class=\"data row2 col0\" >0</td>\n",
       "      <td id=\"T_b73db_row2_col1\" class=\"data row2 col1\" >0.000000</td>\n",
       "    </tr>\n",
       "    <tr>\n",
       "      <th id=\"T_b73db_level0_row3\" class=\"row_heading level0 row3\" >object_id</th>\n",
       "      <td id=\"T_b73db_row3_col0\" class=\"data row3 col0\" >0</td>\n",
       "      <td id=\"T_b73db_row3_col1\" class=\"data row3 col1\" >0.000000</td>\n",
       "    </tr>\n",
       "  </tbody>\n",
       "</table>\n"
      ],
      "text/plain": [
       "<pandas.io.formats.style.Styler at 0x1bd280123c0>"
      ]
     },
     "execution_count": 13,
     "metadata": {},
     "output_type": "execute_result"
    }
   ],
   "source": [
    "print('Пропуски в датафрейме degrees')\n",
    "missing_degrees_abs = degrees.isna().sum()\n",
    "missing_degrees_sorted = missing_degrees_abs.sort_values(ascending=False)\n",
    "missing_degrees_perc = (missing_degrees_sorted / len(degrees))*100\n",
    "styled_degrees = pd.DataFrame({\n",
    "    'Количество пропусков': missing_degrees_sorted, \n",
    "    'Процент пропусков': missing_degrees_perc\n",
    "}).style.background_gradient(cmap='crest', axis=0)\n",
    "styled_degrees"
   ]
  },
  {
   "cell_type": "code",
   "execution_count": 14,
   "metadata": {
    "hideCode": false,
    "hidePrompt": true
   },
   "outputs": [
    {
     "name": "stdout",
     "output_type": "stream",
     "text": [
      "Пропуски в датафрейме education\n"
     ]
    },
    {
     "data": {
      "text/html": [
       "<style type=\"text/css\">\n",
       "#T_14e47_row0_col0, #T_14e47_row0_col1 {\n",
       "  background-color: #2c3172;\n",
       "  color: #f1f1f1;\n",
       "}\n",
       "#T_14e47_row1_col0, #T_14e47_row1_col1, #T_14e47_row2_col0, #T_14e47_row2_col1, #T_14e47_row3_col0, #T_14e47_row3_col1 {\n",
       "  background-color: #a5cd90;\n",
       "  color: #000000;\n",
       "}\n",
       "</style>\n",
       "<table id=\"T_14e47\">\n",
       "  <thead>\n",
       "    <tr>\n",
       "      <th class=\"blank level0\" >&nbsp;</th>\n",
       "      <th id=\"T_14e47_level0_col0\" class=\"col_heading level0 col0\" >Количество пропусков</th>\n",
       "      <th id=\"T_14e47_level0_col1\" class=\"col_heading level0 col1\" >Процент пропусков</th>\n",
       "    </tr>\n",
       "  </thead>\n",
       "  <tbody>\n",
       "    <tr>\n",
       "      <th id=\"T_14e47_level0_row0\" class=\"row_heading level0 row0\" >graduated_at</th>\n",
       "      <td id=\"T_14e47_row0_col0\" class=\"data row0 col0\" >51556</td>\n",
       "      <td id=\"T_14e47_row0_col1\" class=\"data row0 col1\" >47.035854</td>\n",
       "    </tr>\n",
       "    <tr>\n",
       "      <th id=\"T_14e47_level0_row1\" class=\"row_heading level0 row1\" >instituition</th>\n",
       "      <td id=\"T_14e47_row1_col0\" class=\"data row1 col0\" >55</td>\n",
       "      <td id=\"T_14e47_row1_col1\" class=\"data row1 col1\" >0.050178</td>\n",
       "    </tr>\n",
       "    <tr>\n",
       "      <th id=\"T_14e47_level0_row2\" class=\"row_heading level0 row2\" >id</th>\n",
       "      <td id=\"T_14e47_row2_col0\" class=\"data row2 col0\" >0</td>\n",
       "      <td id=\"T_14e47_row2_col1\" class=\"data row2 col1\" >0.000000</td>\n",
       "    </tr>\n",
       "    <tr>\n",
       "      <th id=\"T_14e47_level0_row3\" class=\"row_heading level0 row3\" >person_id</th>\n",
       "      <td id=\"T_14e47_row3_col0\" class=\"data row3 col0\" >0</td>\n",
       "      <td id=\"T_14e47_row3_col1\" class=\"data row3 col1\" >0.000000</td>\n",
       "    </tr>\n",
       "  </tbody>\n",
       "</table>\n"
      ],
      "text/plain": [
       "<pandas.io.formats.style.Styler at 0x1bd28044bc0>"
      ]
     },
     "execution_count": 14,
     "metadata": {},
     "output_type": "execute_result"
    }
   ],
   "source": [
    "print('Пропуски в датафрейме education')\n",
    "missing_education_abs = education.isna().sum()\n",
    "missing_education_sorted = missing_education_abs.sort_values(ascending=False)\n",
    "missing_education_perc = (missing_education_sorted / len(education))*100\n",
    "styled_education = pd.DataFrame({\n",
    "    'Количество пропусков': missing_education_sorted, \n",
    "    'Процент пропусков': missing_education_perc\n",
    "}).style.background_gradient(cmap='crest', axis=0)\n",
    "styled_education"
   ]
  },
  {
   "cell_type": "code",
   "execution_count": 15,
   "metadata": {
    "hideCode": false,
    "hidePrompt": true
   },
   "outputs": [
    {
     "name": "stdout",
     "output_type": "stream",
     "text": [
      "Пропуски в датафрейме fund\n"
     ]
    },
    {
     "data": {
      "text/html": [
       "<style type=\"text/css\">\n",
       "#T_f579b_row0_col0, #T_f579b_row0_col1 {\n",
       "  background-color: #2c3172;\n",
       "  color: #f1f1f1;\n",
       "}\n",
       "#T_f579b_row1_col0, #T_f579b_row1_col1 {\n",
       "  background-color: #1d5f87;\n",
       "  color: #f1f1f1;\n",
       "}\n",
       "#T_f579b_row2_col0, #T_f579b_row2_col1 {\n",
       "  background-color: #37888d;\n",
       "  color: #f1f1f1;\n",
       "}\n",
       "#T_f579b_row3_col0, #T_f579b_row3_col1 {\n",
       "  background-color: #3c8c8e;\n",
       "  color: #f1f1f1;\n",
       "}\n",
       "#T_f579b_row4_col0, #T_f579b_row4_col1, #T_f579b_row5_col0, #T_f579b_row5_col1, #T_f579b_row6_col0, #T_f579b_row6_col1, #T_f579b_row7_col0, #T_f579b_row7_col1, #T_f579b_row8_col0, #T_f579b_row8_col1 {\n",
       "  background-color: #a5cd90;\n",
       "  color: #000000;\n",
       "}\n",
       "</style>\n",
       "<table id=\"T_f579b\">\n",
       "  <thead>\n",
       "    <tr>\n",
       "      <th class=\"blank level0\" >&nbsp;</th>\n",
       "      <th id=\"T_f579b_level0_col0\" class=\"col_heading level0 col0\" >Количество пропусков</th>\n",
       "      <th id=\"T_f579b_level0_col1\" class=\"col_heading level0 col1\" >Процент пропусков</th>\n",
       "    </tr>\n",
       "  </thead>\n",
       "  <tbody>\n",
       "    <tr>\n",
       "      <th id=\"T_f579b_level0_row0\" class=\"row_heading level0 row0\" >network_username</th>\n",
       "      <td id=\"T_f579b_row0_col0\" class=\"data row0 col0\" >9503</td>\n",
       "      <td id=\"T_f579b_row0_col1\" class=\"data row0 col1\" >81.556814</td>\n",
       "    </tr>\n",
       "    <tr>\n",
       "      <th id=\"T_f579b_level0_row1\" class=\"row_heading level0 row1\" >founded_at</th>\n",
       "      <td id=\"T_f579b_row1_col0\" class=\"data row1 col0\" >7047</td>\n",
       "      <td id=\"T_f579b_row1_col1\" class=\"data row1 col1\" >60.478888</td>\n",
       "    </tr>\n",
       "    <tr>\n",
       "      <th id=\"T_f579b_level0_row2\" class=\"row_heading level0 row2\" >country_code</th>\n",
       "      <td id=\"T_f579b_row2_col0\" class=\"data row2 col0\" >4599</td>\n",
       "      <td id=\"T_f579b_row2_col1\" class=\"data row2 col1\" >39.469619</td>\n",
       "    </tr>\n",
       "    <tr>\n",
       "      <th id=\"T_f579b_level0_row3\" class=\"row_heading level0 row3\" >domain</th>\n",
       "      <td id=\"T_f579b_row3_col0\" class=\"data row3 col0\" >4290</td>\n",
       "      <td id=\"T_f579b_row3_col1\" class=\"data row3 col1\" >36.817714</td>\n",
       "    </tr>\n",
       "    <tr>\n",
       "      <th id=\"T_f579b_level0_row4\" class=\"row_heading level0 row4\" >name</th>\n",
       "      <td id=\"T_f579b_row4_col0\" class=\"data row4 col0\" >3</td>\n",
       "      <td id=\"T_f579b_row4_col1\" class=\"data row4 col1\" >0.025747</td>\n",
       "    </tr>\n",
       "    <tr>\n",
       "      <th id=\"T_f579b_level0_row5\" class=\"row_heading level0 row5\" >id</th>\n",
       "      <td id=\"T_f579b_row5_col0\" class=\"data row5 col0\" >0</td>\n",
       "      <td id=\"T_f579b_row5_col1\" class=\"data row5 col1\" >0.000000</td>\n",
       "    </tr>\n",
       "    <tr>\n",
       "      <th id=\"T_f579b_level0_row6\" class=\"row_heading level0 row6\" >investment_rounds</th>\n",
       "      <td id=\"T_f579b_row6_col0\" class=\"data row6 col0\" >0</td>\n",
       "      <td id=\"T_f579b_row6_col1\" class=\"data row6 col1\" >0.000000</td>\n",
       "    </tr>\n",
       "    <tr>\n",
       "      <th id=\"T_f579b_level0_row7\" class=\"row_heading level0 row7\" >invested_companies</th>\n",
       "      <td id=\"T_f579b_row7_col0\" class=\"data row7 col0\" >0</td>\n",
       "      <td id=\"T_f579b_row7_col1\" class=\"data row7 col1\" >0.000000</td>\n",
       "    </tr>\n",
       "    <tr>\n",
       "      <th id=\"T_f579b_level0_row8\" class=\"row_heading level0 row8\" >milestones</th>\n",
       "      <td id=\"T_f579b_row8_col0\" class=\"data row8 col0\" >0</td>\n",
       "      <td id=\"T_f579b_row8_col1\" class=\"data row8 col1\" >0.000000</td>\n",
       "    </tr>\n",
       "  </tbody>\n",
       "</table>\n"
      ],
      "text/plain": [
       "<pandas.io.formats.style.Styler at 0x1bd28044b60>"
      ]
     },
     "execution_count": 15,
     "metadata": {},
     "output_type": "execute_result"
    }
   ],
   "source": [
    "print('Пропуски в датафрейме fund')\n",
    "missing_fund_abs = fund.isna().sum()\n",
    "missing_fund_sorted = missing_fund_abs.sort_values(ascending=False)\n",
    "missing_fund_perc = (missing_fund_sorted / len(fund))*100\n",
    "styled_fund = pd.DataFrame({\n",
    "    'Количество пропусков': missing_fund_sorted, \n",
    "    'Процент пропусков': missing_fund_perc\n",
    "}).style.background_gradient(cmap='crest', axis=0)\n",
    "styled_fund"
   ]
  },
  {
   "cell_type": "code",
   "execution_count": 16,
   "metadata": {
    "hideCode": false,
    "hidePrompt": true
   },
   "outputs": [
    {
     "name": "stdout",
     "output_type": "stream",
     "text": [
      "Пропуски в датафрейме investment\n"
     ]
    },
    {
     "data": {
      "text/html": [
       "<style type=\"text/css\">\n",
       "#T_7e955_row0_col0, #T_7e955_row0_col1, #T_7e955_row1_col0, #T_7e955_row1_col1, #T_7e955_row2_col0, #T_7e955_row2_col1, #T_7e955_row3_col0, #T_7e955_row3_col1 {\n",
       "  background-color: #a5cd90;\n",
       "  color: #000000;\n",
       "}\n",
       "</style>\n",
       "<table id=\"T_7e955\">\n",
       "  <thead>\n",
       "    <tr>\n",
       "      <th class=\"blank level0\" >&nbsp;</th>\n",
       "      <th id=\"T_7e955_level0_col0\" class=\"col_heading level0 col0\" >Количество пропусков</th>\n",
       "      <th id=\"T_7e955_level0_col1\" class=\"col_heading level0 col1\" >Процент пропусков</th>\n",
       "    </tr>\n",
       "  </thead>\n",
       "  <tbody>\n",
       "    <tr>\n",
       "      <th id=\"T_7e955_level0_row0\" class=\"row_heading level0 row0\" >id</th>\n",
       "      <td id=\"T_7e955_row0_col0\" class=\"data row0 col0\" >0</td>\n",
       "      <td id=\"T_7e955_row0_col1\" class=\"data row0 col1\" >0.000000</td>\n",
       "    </tr>\n",
       "    <tr>\n",
       "      <th id=\"T_7e955_level0_row1\" class=\"row_heading level0 row1\" >funding_round_id</th>\n",
       "      <td id=\"T_7e955_row1_col0\" class=\"data row1 col0\" >0</td>\n",
       "      <td id=\"T_7e955_row1_col1\" class=\"data row1 col1\" >0.000000</td>\n",
       "    </tr>\n",
       "    <tr>\n",
       "      <th id=\"T_7e955_level0_row2\" class=\"row_heading level0 row2\" >company_id</th>\n",
       "      <td id=\"T_7e955_row2_col0\" class=\"data row2 col0\" >0</td>\n",
       "      <td id=\"T_7e955_row2_col1\" class=\"data row2 col1\" >0.000000</td>\n",
       "    </tr>\n",
       "    <tr>\n",
       "      <th id=\"T_7e955_level0_row3\" class=\"row_heading level0 row3\" >fund_id</th>\n",
       "      <td id=\"T_7e955_row3_col0\" class=\"data row3 col0\" >0</td>\n",
       "      <td id=\"T_7e955_row3_col1\" class=\"data row3 col1\" >0.000000</td>\n",
       "    </tr>\n",
       "  </tbody>\n",
       "</table>\n"
      ],
      "text/plain": [
       "<pandas.io.formats.style.Styler at 0x1bd28045ac0>"
      ]
     },
     "execution_count": 16,
     "metadata": {},
     "output_type": "execute_result"
    }
   ],
   "source": [
    "print('Пропуски в датафрейме investment')\n",
    "missing_investment_abs = investment.isna().sum()\n",
    "missing_investment_sorted = missing_investment_abs.sort_values(ascending=False)\n",
    "missing_investment_perc = (missing_investment_sorted / len(investment))*100\n",
    "styled_investment = pd.DataFrame({\n",
    "    'Количество пропусков': missing_investment_sorted, \n",
    "    'Процент пропусков': missing_investment_perc\n",
    "}).style.background_gradient(cmap='crest', axis=0)\n",
    "styled_investment"
   ]
  },
  {
   "cell_type": "code",
   "execution_count": 17,
   "metadata": {
    "hideCode": false,
    "hidePrompt": true,
    "id": "5Sg2O8zNnzKc",
    "scrolled": true
   },
   "outputs": [
    {
     "name": "stdout",
     "output_type": "stream",
     "text": [
      "Пропуски в датафрейме people\n"
     ]
    },
    {
     "data": {
      "text/html": [
       "<style type=\"text/css\">\n",
       "#T_56528_row0_col0, #T_56528_row0_col1 {\n",
       "  background-color: #2c3172;\n",
       "  color: #f1f1f1;\n",
       "}\n",
       "#T_56528_row1_col0, #T_56528_row1_col1 {\n",
       "  background-color: #2c3573;\n",
       "  color: #f1f1f1;\n",
       "}\n",
       "#T_56528_row2_col0, #T_56528_row2_col1, #T_56528_row3_col0, #T_56528_row3_col1, #T_56528_row4_col0, #T_56528_row4_col1 {\n",
       "  background-color: #a5cd90;\n",
       "  color: #000000;\n",
       "}\n",
       "</style>\n",
       "<table id=\"T_56528\">\n",
       "  <thead>\n",
       "    <tr>\n",
       "      <th class=\"blank level0\" >&nbsp;</th>\n",
       "      <th id=\"T_56528_level0_col0\" class=\"col_heading level0 col0\" >Количество пропусков</th>\n",
       "      <th id=\"T_56528_level0_col1\" class=\"col_heading level0 col1\" >Процент пропусков</th>\n",
       "    </tr>\n",
       "  </thead>\n",
       "  <tbody>\n",
       "    <tr>\n",
       "      <th id=\"T_56528_level0_row0\" class=\"row_heading level0 row0\" >company_id</th>\n",
       "      <td id=\"T_56528_row0_col0\" class=\"data row0 col0\" >192094</td>\n",
       "      <td id=\"T_56528_row0_col1\" class=\"data row0 col1\" >84.731528</td>\n",
       "    </tr>\n",
       "    <tr>\n",
       "      <th id=\"T_56528_level0_row1\" class=\"row_heading level0 row1\" >network_username</th>\n",
       "      <td id=\"T_56528_row1_col0\" class=\"data row1 col0\" >187842</td>\n",
       "      <td id=\"T_56528_row1_col1\" class=\"data row1 col1\" >82.855996</td>\n",
       "    </tr>\n",
       "    <tr>\n",
       "      <th id=\"T_56528_level0_row2\" class=\"row_heading level0 row2\" >first_name</th>\n",
       "      <td id=\"T_56528_row2_col0\" class=\"data row2 col0\" >9</td>\n",
       "      <td id=\"T_56528_row2_col1\" class=\"data row2 col1\" >0.003970</td>\n",
       "    </tr>\n",
       "    <tr>\n",
       "      <th id=\"T_56528_level0_row3\" class=\"row_heading level0 row3\" >last_name</th>\n",
       "      <td id=\"T_56528_row3_col0\" class=\"data row3 col0\" >4</td>\n",
       "      <td id=\"T_56528_row3_col1\" class=\"data row3 col1\" >0.001764</td>\n",
       "    </tr>\n",
       "    <tr>\n",
       "      <th id=\"T_56528_level0_row4\" class=\"row_heading level0 row4\" >id</th>\n",
       "      <td id=\"T_56528_row4_col0\" class=\"data row4 col0\" >0</td>\n",
       "      <td id=\"T_56528_row4_col1\" class=\"data row4 col1\" >0.000000</td>\n",
       "    </tr>\n",
       "  </tbody>\n",
       "</table>\n"
      ],
      "text/plain": [
       "<pandas.io.formats.style.Styler at 0x1bd28044a70>"
      ]
     },
     "execution_count": 17,
     "metadata": {},
     "output_type": "execute_result"
    }
   ],
   "source": [
    "print('Пропуски в датафрейме people')\n",
    "missing_people_abs = people.isna().sum()\n",
    "missing_people_sorted = missing_people_abs.sort_values(ascending=False)\n",
    "missing_people_perc = (missing_people_sorted / len(people))*100\n",
    "styled_people = pd.DataFrame({\n",
    "    'Количество пропусков': missing_people_sorted, \n",
    "    'Процент пропусков': missing_people_perc\n",
    "}).style.background_gradient(cmap='crest', axis=0)\n",
    "styled_people"
   ]
  },
  {
   "cell_type": "code",
   "execution_count": 18,
   "metadata": {
    "hideCode": false,
    "hidePrompt": true
   },
   "outputs": [],
   "source": [
    "# Функции, которые автоматически подбирают нужный числовой тип данных и заменяют его\n",
    "def optimize_memory_usage(x: pd.DataFrame, print_size: bool=True) -> pd.DataFrame:\n",
    "    numerics = ['int16', 'int32', 'int64', 'float16', 'float32', 'float64'] \n",
    "    # Размер занимаемой памяти до оптимизации (в Мб)\n",
    "    before_size = x.memory_usage().sum() / 1024**2    \n",
    "    for column in x.columns:\n",
    "        column_type = x[column].dtypes\n",
    "        if column_type in numerics:\n",
    "            column_min = x[column].min()\n",
    "            column_max = x[column].max()\n",
    "            if str(column_type).startswith('int'):\n",
    "                if column_min > np.iinfo(np.int8).min and column_max < np.iinfo(np.int8).max:\n",
    "                    x[column] = x[column].astype(np.int8)\n",
    "                elif column_min > np.iinfo(np.int16).min and column_max < np.iinfo(np.int16).max:\n",
    "                    x[column] = x[column].astype(np.int16)\n",
    "                elif column_min > np.iinfo(np.int32).min and column_max < np.iinfo(np.int32).max:\n",
    "                    x[column] = x[column].astype(np.int32)\n",
    "                elif column_min > np.iinfo(np.int64).min and column_max < np.iinfo(np.int64).max:\n",
    "                    x[column] = x[column].astype(np.int64)  \n",
    "            else:\n",
    "                if column_min > np.finfo(np.float32).min and column_max < np.finfo(np.float32).max:\n",
    "                    x[column] = x[column].astype(np.float32)\n",
    "                else:\n",
    "                    x[column] = x[column].astype(np.float64)    \n",
    "    # Размер занимаемой памяти после оптимизации (в Мб)\n",
    "    after_size = x.memory_usage().sum() / 1024**2\n",
    "    if print_size: print('Размер использования памяти: до {:5.2f} Mb - после {:5.2f} Mb ({:.1f}%)'\n",
    "                         .format(before_size, after_size, 100 * (before_size - after_size) / before_size))\n",
    "    return x"
   ]
  },
  {
   "cell_type": "code",
   "execution_count": 19,
   "metadata": {
    "hideCode": true,
    "hidePrompt": true
   },
   "outputs": [
    {
     "name": "stdout",
     "output_type": "stream",
     "text": [
      "Размер использования памяти: до  0.43 Mb - после  0.31 Mb (29.2%)\n",
      "<class 'pandas.core.frame.DataFrame'>\n",
      "RangeIndex: 9407 entries, 0 to 9406\n",
      "Data columns (total 6 columns):\n",
      " #   Column                Non-Null Count  Dtype \n",
      "---  ------                --------------  ----- \n",
      " 0   id                    9407 non-null   int16 \n",
      " 1   acquiring_company_id  9407 non-null   int32 \n",
      " 2   acquired_company_id   9407 non-null   int32 \n",
      " 3   term_code             1831 non-null   object\n",
      " 4   price_amount          9407 non-null   int64 \n",
      " 5   acquired_at           9378 non-null   object\n",
      "dtypes: int16(1), int32(2), int64(1), object(2)\n",
      "memory usage: 312.5+ KB\n",
      "\n",
      "\n",
      "Размер использования памяти: до 36.55 Mb - после 26.58 Mb (27.3%)\n",
      "<class 'pandas.core.frame.DataFrame'>\n",
      "RangeIndex: 217774 entries, 0 to 217773\n",
      "Data columns (total 22 columns):\n",
      " #   Column               Non-Null Count   Dtype  \n",
      "---  ------               --------------   -----  \n",
      " 0   company_ID           217472 non-null  float32\n",
      " 1   name                 217471 non-null  object \n",
      " 2   category_code        143886 non-null  object \n",
      " 3   status               217472 non-null  object \n",
      " 4   founded_at           109956 non-null  object \n",
      " 5   closed_at            3449 non-null    object \n",
      " 6   domain               147159 non-null  object \n",
      " 7   network_username     95534 non-null   object \n",
      " 8   country_code         108607 non-null  object \n",
      " 9   investment_rounds    217472 non-null  float32\n",
      " 10  funding_rounds       217472 non-null  float32\n",
      " 11  funding_total        217472 non-null  float32\n",
      " 12  milestones           217472 non-null  float32\n",
      " 13  funding_round_id     52928 non-null   float32\n",
      " 14  company_id           52928 non-null   float32\n",
      " 15  funded_at            52680 non-null   object \n",
      " 16  funding_round_type   52928 non-null   object \n",
      " 17  raised_amount        52928 non-null   float32\n",
      " 18  pre_money_valuation  52928 non-null   float32\n",
      " 19  participants         52928 non-null   float32\n",
      " 20  is_first_round       52928 non-null   float32\n",
      " 21  is_last_round        52928 non-null   float32\n",
      "dtypes: float32(12), object(10)\n",
      "memory usage: 26.6+ MB\n",
      "\n",
      "\n",
      "Размер использования памяти: до  3.35 Mb - после  2.93 Mb (12.5%)\n",
      "<class 'pandas.core.frame.DataFrame'>\n",
      "RangeIndex: 109610 entries, 0 to 109609\n",
      "Data columns (total 4 columns):\n",
      " #   Column       Non-Null Count   Dtype \n",
      "---  ------       --------------   ----- \n",
      " 0   id           109610 non-null  int32 \n",
      " 1   object_id    109610 non-null  object\n",
      " 2   degree_type  98389 non-null   object\n",
      " 3   subject      81298 non-null   object\n",
      "dtypes: int32(1), object(3)\n",
      "memory usage: 2.9+ MB\n",
      "\n",
      "\n",
      "Размер использования памяти: до  3.35 Mb - после  2.51 Mb (25.0%)\n",
      "<class 'pandas.core.frame.DataFrame'>\n",
      "RangeIndex: 109610 entries, 0 to 109609\n",
      "Data columns (total 4 columns):\n",
      " #   Column        Non-Null Count   Dtype \n",
      "---  ------        --------------   ----- \n",
      " 0   id            109610 non-null  int32 \n",
      " 1   person_id     109610 non-null  int32 \n",
      " 2   instituition  109555 non-null  object\n",
      " 3   graduated_at  58054 non-null   object\n",
      "dtypes: int32(2), object(2)\n",
      "memory usage: 2.5+ MB\n",
      "\n",
      "\n",
      "Размер использования памяти: до  0.80 Mb - после  0.52 Mb (34.7%)\n",
      "<class 'pandas.core.frame.DataFrame'>\n",
      "RangeIndex: 11652 entries, 0 to 11651\n",
      "Data columns (total 9 columns):\n",
      " #   Column              Non-Null Count  Dtype \n",
      "---  ------              --------------  ----- \n",
      " 0   id                  11652 non-null  int16 \n",
      " 1   name                11649 non-null  object\n",
      " 2   founded_at          4605 non-null   object\n",
      " 3   domain              7362 non-null   object\n",
      " 4   network_username    2149 non-null   object\n",
      " 5   country_code        7053 non-null   object\n",
      " 6   investment_rounds   11652 non-null  int16 \n",
      " 7   invested_companies  11652 non-null  int16 \n",
      " 8   milestones          11652 non-null  int8  \n",
      "dtypes: int16(3), int8(1), object(5)\n",
      "memory usage: 534.9+ KB\n",
      "\n",
      "\n",
      "Размер использования памяти: до  1.87 Mb - после  0.82 Mb (56.2%)\n",
      "<class 'pandas.core.frame.DataFrame'>\n",
      "RangeIndex: 61403 entries, 0 to 61402\n",
      "Data columns (total 4 columns):\n",
      " #   Column            Non-Null Count  Dtype\n",
      "---  ------            --------------  -----\n",
      " 0   id                61403 non-null  int32\n",
      " 1   funding_round_id  61403 non-null  int32\n",
      " 2   company_id        61403 non-null  int32\n",
      " 3   fund_id           61403 non-null  int16\n",
      "dtypes: int16(1), int32(3)\n",
      "memory usage: 839.6 KB\n",
      "\n",
      "\n",
      "Размер использования памяти: до  8.65 Mb - после  6.92 Mb (20.0%)\n",
      "<class 'pandas.core.frame.DataFrame'>\n",
      "RangeIndex: 226709 entries, 0 to 226708\n",
      "Data columns (total 5 columns):\n",
      " #   Column            Non-Null Count   Dtype  \n",
      "---  ------            --------------   -----  \n",
      " 0   id                226709 non-null  int32  \n",
      " 1   first_name        226700 non-null  object \n",
      " 2   last_name         226705 non-null  object \n",
      " 3   company_id        34615 non-null   float32\n",
      " 4   network_username  38867 non-null   object \n",
      "dtypes: float32(1), int32(1), object(3)\n",
      "memory usage: 6.9+ MB\n",
      "\n",
      "\n"
     ]
    }
   ],
   "source": [
    "# Применим функцию к каждому датафрейму и проверим информацию о каждом датасете\n",
    "datasets = [acquisition,company_and_rounds,degrees,education,fund,investment,people]\n",
    "for i, dataset in enumerate(datasets):\n",
    "    datasets[i] = optimize_memory_usage(dataset)\n",
    "    datasets[i].info()\n",
    "    print(\"\\n\")"
   ]
  },
  {
   "cell_type": "code",
   "execution_count": 20,
   "metadata": {
    "hideCode": true,
    "hidePrompt": true
   },
   "outputs": [
    {
     "name": "stdout",
     "output_type": "stream",
     "text": [
      "<class 'pandas.core.frame.DataFrame'>\n",
      "RangeIndex: 9407 entries, 0 to 9406\n",
      "Data columns (total 6 columns):\n",
      " #   Column                Non-Null Count  Dtype         \n",
      "---  ------                --------------  -----         \n",
      " 0   id                    9407 non-null   int16         \n",
      " 1   acquiring_company_id  9407 non-null   int32         \n",
      " 2   acquired_company_id   9407 non-null   int32         \n",
      " 3   term_code             1831 non-null   object        \n",
      " 4   price_amount          9407 non-null   int64         \n",
      " 5   acquired_at           9378 non-null   datetime64[ns]\n",
      "dtypes: datetime64[ns](1), int16(1), int32(2), int64(1), object(1)\n",
      "memory usage: 312.5+ KB\n",
      "<class 'pandas.core.frame.DataFrame'>\n",
      "RangeIndex: 217774 entries, 0 to 217773\n",
      "Data columns (total 22 columns):\n",
      " #   Column               Non-Null Count   Dtype         \n",
      "---  ------               --------------   -----         \n",
      " 0   company_ID           217472 non-null  float32       \n",
      " 1   name                 217471 non-null  object        \n",
      " 2   category_code        143886 non-null  object        \n",
      " 3   status               217472 non-null  object        \n",
      " 4   founded_at           109956 non-null  datetime64[ns]\n",
      " 5   closed_at            3449 non-null    datetime64[ns]\n",
      " 6   domain               147159 non-null  object        \n",
      " 7   network_username     95534 non-null   object        \n",
      " 8   country_code         108607 non-null  object        \n",
      " 9   investment_rounds    217472 non-null  float32       \n",
      " 10  funding_rounds       217472 non-null  float32       \n",
      " 11  funding_total        217472 non-null  float32       \n",
      " 12  milestones           217472 non-null  float32       \n",
      " 13  funding_round_id     52928 non-null   float32       \n",
      " 14  company_id           52928 non-null   float32       \n",
      " 15  funded_at            52680 non-null   datetime64[ns]\n",
      " 16  funding_round_type   52928 non-null   object        \n",
      " 17  raised_amount        52928 non-null   float32       \n",
      " 18  pre_money_valuation  52928 non-null   float32       \n",
      " 19  participants         52928 non-null   float32       \n",
      " 20  is_first_round       52928 non-null   float32       \n",
      " 21  is_last_round        52928 non-null   float32       \n",
      "dtypes: datetime64[ns](3), float32(12), object(7)\n",
      "memory usage: 26.6+ MB\n",
      "<class 'pandas.core.frame.DataFrame'>\n",
      "RangeIndex: 109610 entries, 0 to 109609\n",
      "Data columns (total 4 columns):\n",
      " #   Column        Non-Null Count   Dtype         \n",
      "---  ------        --------------   -----         \n",
      " 0   id            109610 non-null  int32         \n",
      " 1   person_id     109610 non-null  int32         \n",
      " 2   instituition  109555 non-null  object        \n",
      " 3   graduated_at  58054 non-null   datetime64[ns]\n",
      "dtypes: datetime64[ns](1), int32(2), object(1)\n",
      "memory usage: 2.5+ MB\n",
      "<class 'pandas.core.frame.DataFrame'>\n",
      "RangeIndex: 11652 entries, 0 to 11651\n",
      "Data columns (total 9 columns):\n",
      " #   Column              Non-Null Count  Dtype         \n",
      "---  ------              --------------  -----         \n",
      " 0   id                  11652 non-null  int16         \n",
      " 1   name                11649 non-null  object        \n",
      " 2   founded_at          4605 non-null   datetime64[ns]\n",
      " 3   domain              7362 non-null   object        \n",
      " 4   network_username    2149 non-null   object        \n",
      " 5   country_code        7053 non-null   object        \n",
      " 6   investment_rounds   11652 non-null  int16         \n",
      " 7   invested_companies  11652 non-null  int16         \n",
      " 8   milestones          11652 non-null  int8          \n",
      "dtypes: datetime64[ns](1), int16(3), int8(1), object(4)\n",
      "memory usage: 534.9+ KB\n"
     ]
    }
   ],
   "source": [
    "# Преобразуем столбцы с датами в тип datetime\n",
    "acquisition['acquired_at'] = pd.to_datetime(acquisition['acquired_at'],errors = 'coerce')\n",
    "company_and_rounds['founded_at'] = pd.to_datetime(company_and_rounds['founded_at'],errors = 'coerce')\n",
    "company_and_rounds['closed_at'] = pd.to_datetime(company_and_rounds['closed_at'],errors = 'coerce')\n",
    "company_and_rounds['funded_at'] = pd.to_datetime(company_and_rounds['funded_at'],errors = 'coerce')\n",
    "education['graduated_at'] = pd.to_datetime(education['graduated_at'],errors = 'coerce')\n",
    "fund['founded_at'] = pd.to_datetime(fund['founded_at'],errors = 'coerce')\n",
    "\n",
    "# Проверим информацию о каждом датасете\n",
    "acquisition.info()\n",
    "company_and_rounds.info()\n",
    "education.info()\n",
    "fund.info()"
   ]
  },
  {
   "cell_type": "markdown",
   "metadata": {
    "hideCode": false,
    "hidePrompt": false
   },
   "source": [
    "<div style=\"background-color:lavender; color:#black; text-align:left; padding:2%\">\n",
    "    \n",
    "#### **Комментарий:** Тут я сначала изменил названия столбцов в таблице company_and_rounds, потому что в остальных датасетах, стобцы указаны через \"_\", а в этой таблице там используется двойной пробел, поэтому для дальнейшего удобного анализа данных, я заменил пробелы на нижнее подчеркивание. Так же я вывел информацию о пропусках во всех таблицах, где сразу бросается в глаза та же таблица company_and_rounds, в которой 12 столбцов имеют выше 50 % пропусков. Еще решил изменить здесь тип данных у числовых стобцов, ранее я использовал данную функцию, которая автоматически определяет нужный размер типа данных и заменяет его. Данный код мне посоветовал использовать ревьюер, которые ранее проверял мои прошлые проекты. Был изменен тип данных столбцов, где хранилась информация о дате, ранее они были указаны в типе данных, как 'object'. "
   ]
  },
  {
   "cell_type": "markdown",
   "metadata": {
    "hideCode": false,
    "hidePrompt": false,
    "id": "u60cHsn6rJg1"
   },
   "source": [
    "## Шаг 2. Предобработка данных, предварительное исследование"
   ]
  },
  {
   "cell_type": "markdown",
   "metadata": {
    "hideCode": false,
    "hidePrompt": false,
    "id": "g2bHIIjcrJg1"
   },
   "source": [
    "\n",
    "### 2.1. Раунды финансирования по годам\n",
    "\n",
    "Задание необходимо выполнить без объединения и дополнительной предобработки на основе датасета `company_and_rounds.csv`.\n",
    "\n",
    "* Составьте сводную таблицу по годам, в которой на основании столбца `raised_amount` для каждого года указан:\n",
    "\n",
    "  * типичный размер средств, выделяемый в рамках одного раунда;\n",
    "  * общее количество раундов финансирования за этот год.\n",
    "\n",
    "* Оставьте в таблице информацию только для тех лет, для которых есть информация о более чем 50 раундах финансирования.\n",
    "\n",
    "* На основе получившейся таблицы постройте график, который будет отражать динамику типичного размера средств, которые стартапы получали в рамках одного раунда финансирования.\n",
    "\n",
    "На основе полученных данных ответьте на вопросы:\n",
    "\n",
    "* В каком году типичный размер собранных в рамках одного раунда средств был максимален?\n",
    "\n",
    "* Какая тенденция по количеству раундов и выделяемых в рамках каждого раунда средств наблюдалась в 2013 году?"
   ]
  },
  {
   "cell_type": "code",
   "execution_count": 21,
   "metadata": {
    "hideCode": true,
    "hidePrompt": true,
    "id": "ovyDibxNrJg1",
    "scrolled": false
   },
   "outputs": [
    {
     "data": {
      "image/png": "[encoded data removed]",
      "text/plain": [
       "<Figure size 1000x600 with 1 Axes>"
      ]
     },
     "metadata": {},
     "output_type": "display_data"
    },
    {
     "name": "stdout",
     "output_type": "stream",
     "text": [
      "Год с максимальным типичным размером средств: 2005.0\n",
      "Для 2013 года:\n",
      "Выделенные средства: 1200000.0\n",
      "Кол-во раундов: 11072.0\n"
     ]
    }
   ],
   "source": [
    "# Преобразуем данные по годам\n",
    "company_and_rounds['year'] = company_and_rounds['funded_at'].dt.year\n",
    "# Создадим сводную таблицу\n",
    "rounds_per_year = company_and_rounds.groupby('year').agg(\n",
    "    typical_round_size=('raised_amount', 'median'),\n",
    "    total_rounds=('raised_amount', 'count')\n",
    ")\n",
    "# Оставим только годы с более чем 50 раундами\n",
    "rounds_per_year_filtered = rounds_per_year[rounds_per_year['total_rounds'] > 50]\n",
    "# Построим график\n",
    "plt.figure(figsize=(10, 6))\n",
    "plt.plot(rounds_per_year_filtered.index, rounds_per_year_filtered['typical_round_size'], marker='o')\n",
    "plt.title('Динамика типичного размера средств, выделяемых на один раунд финансирования')\n",
    "plt.xlabel('Год')\n",
    "plt.ylabel('Типичный размер средств')\n",
    "plt.grid(True)\n",
    "plt.show()\n",
    "# Ответим на вопросы:\n",
    "max_round_year = rounds_per_year_filtered['typical_round_size'].idxmax()\n",
    "print(f'Год с максимальным типичным размером средств: {max_round_year}')\n",
    "round_2013 = rounds_per_year_filtered.loc[2013]\n",
    "print(f\"Для 2013 года:\\nВыделенные средства: {round_2013['typical_round_size']}\\nКол-во раундов: {round_2013['total_rounds']}\")"
   ]
  },
  {
   "cell_type": "markdown",
   "metadata": {
    "hideCode": false,
    "hidePrompt": false,
    "id": "HB81GTA9n04M"
   },
   "source": [
    "<div style=\"background-color:lavender; color:#black; text-align:left; padding:2%\">\n",
    "    \n",
    "#### **Комментарий:** В целом, выше видно нужный график, который показывает динамику средств, и так же есть ответы на вопросы. Тут мы видим, что в период с 2000 по 2003 года размер выделенных средств колеблтся, но после 2003 года, в промежуток с 2004 по 2006 года, мы можем видеть самые крупные выделенные средства, а в оставшиеся года все идет на спад, следующее повышение средстав произошло в 2013 году. А саму тендецию спада можно охаректирозовать, что начала вкладывать средства даже в самые малые бизнесы, и так как они малые, средст не будет выделятся очень много, поэтому и спад начал происходить"
   ]
  },
  {
   "cell_type": "markdown",
   "metadata": {
    "hideCode": false,
    "hidePrompt": false,
    "id": "45if1en1rJg2"
   },
   "source": [
    "\n",
    "### 2.2. Люди и их образование\n",
    "\n",
    "Заказчик хочет понять, зависит ли полнота сведений о сотрудниках (например, об их образовании) от размера компаний.\n",
    "\n",
    "* Оцените, насколько информация об образовании сотрудников полна. Используя датасеты `people.csv` и `education.csv`, разделите все компании на несколько групп по количеству сотрудников и оцените среднюю долю сотрудников без информации об образовании в каждой из групп. Обоснуйте выбранные границы групп.\n",
    "\n",
    "* Оцените, возможно ли для выполнения задания присоединить к этим таблицам ещё и таблицу `degrees.csv`."
   ]
  },
  {
   "cell_type": "code",
   "execution_count": 22,
   "metadata": {
    "hideCode": true,
    "hidePrompt": true
   },
   "outputs": [
    {
     "data": {
      "text/html": [
       "<div>\n",
       "<style scoped>\n",
       "    .dataframe tbody tr th:only-of-type {\n",
       "        vertical-align: middle;\n",
       "    }\n",
       "\n",
       "    .dataframe tbody tr th {\n",
       "        vertical-align: top;\n",
       "    }\n",
       "\n",
       "    .dataframe thead th {\n",
       "        text-align: right;\n",
       "    }\n",
       "</style>\n",
       "<table border=\"1\" class=\"dataframe\">\n",
       "  <thead>\n",
       "    <tr style=\"text-align: right;\">\n",
       "      <th></th>\n",
       "      <th>id</th>\n",
       "      <th>first_name</th>\n",
       "      <th>last_name</th>\n",
       "      <th>company_id</th>\n",
       "      <th>network_username</th>\n",
       "      <th>id_degree</th>\n",
       "      <th>instituition</th>\n",
       "      <th>graduated_at</th>\n",
       "    </tr>\n",
       "  </thead>\n",
       "  <tbody>\n",
       "    <tr>\n",
       "      <th>0</th>\n",
       "      <td>10</td>\n",
       "      <td>Mark</td>\n",
       "      <td>Zuckerberg</td>\n",
       "      <td>5.0</td>\n",
       "      <td>NaN</td>\n",
       "      <td>2415.0</td>\n",
       "      <td>Harvard University</td>\n",
       "      <td>NaT</td>\n",
       "    </tr>\n",
       "    <tr>\n",
       "      <th>1</th>\n",
       "      <td>100</td>\n",
       "      <td>Peter</td>\n",
       "      <td>Lester</td>\n",
       "      <td>27.0</td>\n",
       "      <td>NaN</td>\n",
       "      <td>NaN</td>\n",
       "      <td>NaN</td>\n",
       "      <td>NaT</td>\n",
       "    </tr>\n",
       "    <tr>\n",
       "      <th>2</th>\n",
       "      <td>1000</td>\n",
       "      <td>Dr. Steven</td>\n",
       "      <td>E. Saunders</td>\n",
       "      <td>292.0</td>\n",
       "      <td>NaN</td>\n",
       "      <td>NaN</td>\n",
       "      <td>NaN</td>\n",
       "      <td>NaT</td>\n",
       "    </tr>\n",
       "    <tr>\n",
       "      <th>3</th>\n",
       "      <td>10000</td>\n",
       "      <td>Neil</td>\n",
       "      <td>Capel</td>\n",
       "      <td>2526.0</td>\n",
       "      <td>NaN</td>\n",
       "      <td>NaN</td>\n",
       "      <td>NaN</td>\n",
       "      <td>NaT</td>\n",
       "    </tr>\n",
       "    <tr>\n",
       "      <th>4</th>\n",
       "      <td>100000</td>\n",
       "      <td>Sue</td>\n",
       "      <td>Pilsch</td>\n",
       "      <td>NaN</td>\n",
       "      <td>NaN</td>\n",
       "      <td>NaN</td>\n",
       "      <td>NaN</td>\n",
       "      <td>NaT</td>\n",
       "    </tr>\n",
       "    <tr>\n",
       "      <th>...</th>\n",
       "      <td>...</td>\n",
       "      <td>...</td>\n",
       "      <td>...</td>\n",
       "      <td>...</td>\n",
       "      <td>...</td>\n",
       "      <td>...</td>\n",
       "      <td>...</td>\n",
       "      <td>...</td>\n",
       "    </tr>\n",
       "    <tr>\n",
       "      <th>267689</th>\n",
       "      <td>99999</td>\n",
       "      <td>Ramon</td>\n",
       "      <td>Peypoch</td>\n",
       "      <td>NaN</td>\n",
       "      <td>NaN</td>\n",
       "      <td>NaN</td>\n",
       "      <td>NaN</td>\n",
       "      <td>NaT</td>\n",
       "    </tr>\n",
       "    <tr>\n",
       "      <th>267690</th>\n",
       "      <td>174088</td>\n",
       "      <td>Dr. Ray</td>\n",
       "      <td>Woods</td>\n",
       "      <td>188200.0</td>\n",
       "      <td>network</td>\n",
       "      <td>25958.0</td>\n",
       "      <td>Sydney University Medical School</td>\n",
       "      <td>1982-01-01</td>\n",
       "    </tr>\n",
       "    <tr>\n",
       "      <th>267691</th>\n",
       "      <td>118386</td>\n",
       "      <td>Ricardo</td>\n",
       "      <td>Durand</td>\n",
       "      <td>143419.0</td>\n",
       "      <td>itechsocialnet</td>\n",
       "      <td>18871.0</td>\n",
       "      <td>ESCS</td>\n",
       "      <td>2004-01-01</td>\n",
       "    </tr>\n",
       "    <tr>\n",
       "      <th>267692</th>\n",
       "      <td>175827</td>\n",
       "      <td>mahesh</td>\n",
       "      <td>kumar</td>\n",
       "      <td>NaN</td>\n",
       "      <td>socialnethubs</td>\n",
       "      <td>NaN</td>\n",
       "      <td>NaN</td>\n",
       "      <td>NaT</td>\n",
       "    </tr>\n",
       "    <tr>\n",
       "      <th>267693</th>\n",
       "      <td>178190</td>\n",
       "      <td>Alex</td>\n",
       "      <td>Smith</td>\n",
       "      <td>NaN</td>\n",
       "      <td>esocialnetlike</td>\n",
       "      <td>NaN</td>\n",
       "      <td>NaN</td>\n",
       "      <td>NaT</td>\n",
       "    </tr>\n",
       "  </tbody>\n",
       "</table>\n",
       "<p>267694 rows × 8 columns</p>\n",
       "</div>"
      ],
      "text/plain": [
       "            id  first_name    last_name  company_id network_username  \\\n",
       "0           10        Mark   Zuckerberg         5.0              NaN   \n",
       "1          100       Peter       Lester        27.0              NaN   \n",
       "2         1000  Dr. Steven  E. Saunders       292.0              NaN   \n",
       "3        10000        Neil        Capel      2526.0              NaN   \n",
       "4       100000         Sue       Pilsch         NaN              NaN   \n",
       "...        ...         ...          ...         ...              ...   \n",
       "267689   99999       Ramon      Peypoch         NaN              NaN   \n",
       "267690  174088     Dr. Ray        Woods    188200.0          network   \n",
       "267691  118386     Ricardo       Durand    143419.0   itechsocialnet   \n",
       "267692  175827      mahesh        kumar         NaN    socialnethubs   \n",
       "267693  178190        Alex        Smith         NaN   esocialnetlike   \n",
       "\n",
       "        id_degree                      instituition graduated_at  \n",
       "0          2415.0                Harvard University          NaT  \n",
       "1             NaN                               NaN          NaT  \n",
       "2             NaN                               NaN          NaT  \n",
       "3             NaN                               NaN          NaT  \n",
       "4             NaN                               NaN          NaT  \n",
       "...           ...                               ...          ...  \n",
       "267689        NaN                               NaN          NaT  \n",
       "267690    25958.0  Sydney University Medical School   1982-01-01  \n",
       "267691    18871.0                              ESCS   2004-01-01  \n",
       "267692        NaN                               NaN          NaT  \n",
       "267693        NaN                               NaN          NaT  \n",
       "\n",
       "[267694 rows x 8 columns]"
      ]
     },
     "metadata": {},
     "output_type": "display_data"
    },
    {
     "data": {
      "image/png": "[encoded data removed]",
      "text/plain": [
       "<Figure size 1000x500 with 1 Axes>"
      ]
     },
     "metadata": {},
     "output_type": "display_data"
    }
   ],
   "source": [
    "people_education = people.merge(education, left_on='id', right_on='person_id', how='left')\n",
    "people_education.drop(columns=['person_id'], inplace=True)\n",
    "people_education.rename(columns={'id_x':'id','id_y':'id_degree'}, inplace=True)\n",
    "display(people_education)\n",
    "bins = [1, 2, 3, 4, 5, 6, 11, 21, 31, 41, 50, float(\"inf\")]\n",
    "labels = ['1', '2', '3', '4', '5', '6-10', '11-20', '21-30','31-40','41-50','50+']\n",
    "company_sizes = people_education.groupby('company_id')['id'].count().reset_index()\n",
    "company_sizes.columns = ['company_ID==id', 'employee_count']\n",
    "company_sizes['size_category'] = pd.cut(company_sizes['employee_count'], bins=bins, labels=labels,right = False)\n",
    "company_counts = company_sizes['size_category'].value_counts().reindex(labels)\n",
    "plt.figure(figsize=(10, 5))\n",
    "bars = plt.bar(company_counts.index, company_counts.values)\n",
    "plt.xlabel('Количество сотрудников в компании')\n",
    "plt.ylabel('Количество компаний')\n",
    "plt.title('Количество компаний по интервалам количеста сотрудников')\n",
    "\n",
    "for bar in bars:\n",
    "    height = bar.get_height()\n",
    "    plt.text(bar.get_x() + bar.get_width()/2, height, str(int(height)), ha='center', va='bottom')\n",
    "plt.show()"
   ]
  },
  {
   "cell_type": "markdown",
   "metadata": {
    "hideCode": false,
    "hidePrompt": false
   },
   "source": [
    "<div style=\"background-color:lavender; color:#black; text-align:left; padding:2%\">\n",
    "    \n",
    "#### **Комментарий:** Тут мы видим, что компаний, в которых больше 20 сотрудников их меньше всего, поэтому в дальнейшем объеденим все значения под категорию 20+ в дальнейшем"
   ]
  },
  {
   "cell_type": "code",
   "execution_count": 23,
   "metadata": {
    "hideCode": false,
    "hidePrompt": true
   },
   "outputs": [
    {
     "data": {
      "image/png": "[encoded data removed]",
      "text/plain": [
       "<Figure size 1000x600 with 1 Axes>"
      ]
     },
     "metadata": {},
     "output_type": "display_data"
    }
   ],
   "source": [
    "bins = [1, 2, 3, 4, 5, 6, 11, 21, float(\"inf\")]\n",
    "labels = ['1', '2', '3', '4', '5', '6-10', '11-20', '20+']\n",
    "company_sizes_grouped = pd.cut(company_sizes['employee_count'], bins=bins, labels=labels, right=False)\n",
    "people_education['company_size_group'] = company_sizes_grouped\n",
    "people_education['missing_education'] = people_education['id_degree'].isna()\n",
    "missing_education_rate = people_education.groupby('company_size_group',observed=True)['missing_education'].mean()\n",
    "plt.figure(figsize=(10, 6))\n",
    "baars = plt.bar(missing_education_rate.index, missing_education_rate.values)\n",
    "plt.title('Средняя доля сотрудников без информации об образовании по группам компании')\n",
    "plt.xlabel('Количество сотрудников в компании')\n",
    "plt.ylabel('Средняя доля сотрудников без образования')\n",
    "plt.tight_layout()\n",
    "for bar in baars:\n",
    "    height = bar.get_height()\n",
    "    plt.text(bar.get_x() + bar.get_width()/2, height, str(round(float(height),2)), ha='center', va='bottom')\n",
    "plt.show()"
   ]
  },
  {
   "cell_type": "markdown",
   "metadata": {
    "hideCode": false,
    "hidePrompt": false,
    "id": "xdQ6H5ZSn1ZM"
   },
   "source": [
    "<div style=\"background-color:lavender; color:#black; text-align:left; padding:2%\">\n",
    "    \n",
    "#### **Комментарий:** При визуализации средней доли сотрудников без образования выбрал такие границы основываясь на количествах сотрудников в компаниях, которые указаны на графике выше, где отчетливо видно, что чаще всего в компаниях кол-во сотрудников не переваливает за 5 человек. Поэтому после 5 я решил сделать остальные части как интервал по кол-ву сотрудников.На графике видно, что самая крупная средняя доля без образования у компаний, в которых 1 сотрудник, она составляет 0.68. Самая меньшаяя доля у компаний, в которых 20+ сотрудников она равна 0.63. Присоединение таблицы degrees тут не нужно, так как можно и так выявить количество и процентное соотношение людей без образования, а если нужно было бы вывести информацию о количестве сотрудников с образованием, то эта таблица поможет получить более подробную информацию об образовании сотрудников"
   ]
  },
  {
   "cell_type": "markdown",
   "metadata": {
    "hideCode": false,
    "hidePrompt": false
   },
   "source": [
    "### 2.3. Объединять или не объединять — вот в чём вопрос\n",
    "\n",
    "Некоторые названия столбцов встречаются в датасетах чаще других. И, например, в результате предварительной проверки датасетов было выяснено, что столбец `company_id` подходит для объединения данных, так как большая часть значений встречается в разных датасетах не один, а несколько раз. Этот столбец может быть использован для объединения данных.\n",
    "\n",
    "* Установите, подходит ли для объединения данных столбец `network_username`, который встречается в нескольких датасетах. Нам необходимо понимать, дублируется ли для разных датасетов информация в столбцах с таким названием, и если да — то насколько часто.\n",
    "\n",
    "* Оцените, можно ли использовать столбцы с именем `network_username` для объединения данных."
   ]
  },
  {
   "cell_type": "code",
   "execution_count": 24,
   "metadata": {
    "hideCode": true,
    "hidePrompt": true,
    "id": "Cf5IjfOQrJg1"
   },
   "outputs": [
    {
     "name": "stdout",
     "output_type": "stream",
     "text": [
      "Датасет: people\n",
      "Всего строк: 226709\n",
      "Уникальных значений: 38421\n",
      "Дубликаты (строки с повторяющимися network_username): 188287\n",
      "\n",
      "Датасет: fund\n",
      "Всего строк: 11652\n",
      "Уникальных значений: 2098\n",
      "Дубликаты (строки с повторяющимися network_username): 9553\n",
      "\n",
      "Датасет: company_and_rounds\n",
      "Всего строк: 217774\n",
      "Уникальных значений: 79571\n",
      "Дубликаты (строки с повторяющимися network_username): 138202\n",
      "\n",
      "Совпадений между people и fund: 79\n",
      "Совпадений между people и company_and_rounds: 2199\n",
      "Совпадений между fund и company_and_rounds: 70\n",
      "Совпадений между fund и company_and_rounds и people_usernames: 7\n"
     ]
    }
   ],
   "source": [
    "df = {'people': people, 'fund': fund, 'company_and_rounds': company_and_rounds}\n",
    "for name, df in df.items():\n",
    "    if 'network_username' in df.columns:\n",
    "        print(f\"Датасет: {name}\")\n",
    "        print(f\"Всего строк: {len(df)}\")\n",
    "        print(f\"Уникальных значений: {df['network_username'].nunique()}\")\n",
    "        print(f\"Дубликаты (строки с повторяющимися network_username): {df.duplicated(subset=['network_username']).sum()}\\n\")\n",
    "people_usernames = set(people['network_username'].dropna()) if 'network_username' in people else set()\n",
    "fund_usernames = set(fund['network_username'].dropna()) if 'network_username' in fund else set()\n",
    "company_and_rounds_usernames = set(company_and_rounds['network_username'].dropna()) if 'network_username' in company_and_rounds else set()  \n",
    "print(f'Совпадений между people и fund: {len(people_usernames & fund_usernames)}')\n",
    "print(f'Совпадений между people и company_and_rounds: {len(people_usernames & company_and_rounds_usernames)}')\n",
    "print(f'Совпадений между fund и company_and_rounds: {len(fund_usernames & company_and_rounds_usernames)}')\n",
    "print(f'Совпадений между fund и company_and_rounds и people_usernames: {len(fund_usernames & company_and_rounds_usernames & people_usernames)}')"
   ]
  },
  {
   "cell_type": "markdown",
   "metadata": {
    "hideCode": false,
    "hidePrompt": false,
    "id": "CilOkz-inz37"
   },
   "source": [
    "<div style=\"background-color:lavender; color:#black; text-align:left; padding:2%\">\n",
    "    \n",
    "#### **Комментарий:** Совпадений между 3 датасетами очень мало, всего 7 строк, поэтому объединение делать не стоит, так как потеряем больше кол-во данных"
   ]
  },
  {
   "cell_type": "markdown",
   "metadata": {
    "hideCode": false,
    "hidePrompt": false,
    "id": "EHcODomVrJg1"
   },
   "source": [
    "\n",
    "### 2.4. Проблемный датасет и причина возникновения пропусков\n",
    "\n",
    "Во время собственного анализа данных у заказчика больше всего вопросов возникло к датасету `company_and_rounds.csv`. В нём много пропусков как раз в информации о раундах, которая заказчику важна. Хотя информация об общем объёме финансирования по раундам присутствует в других датасетах, заказчик считает данные `company_and_rounds.csv` о размере средств наиболее верными.\n",
    "\n",
    "* Любым удобным способом приведите данные в вид, который позволяет проводить анализ в разрезе отдельных компаний. Можно изменять форму данных, порядок их хранения. Обратите внимание на структуру датасета, порядок и названия столбцов, проанализируйте значения.\n",
    "\n",
    "По гипотезе заказчика данные по компаниям из этой таблицы раньше хранились иначе, более удобным для исследования образом.\n",
    "\n",
    "* Максимальным образом сохраняя данные, сохранив их связность и исключив возможные возникающие при этом ошибки, подготовьте данные так, чтобы удобно было отобрать компании по параметрам и рассчитать показатели из расчёта на одну компанию."
   ]
  },
  {
   "cell_type": "code",
   "execution_count": 25,
   "metadata": {
    "hideCode": true,
    "hidePrompt": true,
    "id": "tJ6Sl6MKrJg1"
   },
   "outputs": [
    {
     "name": "stdout",
     "output_type": "stream",
     "text": [
      "Кол-во дубликатов: 21220\n",
      "Датасет до удаления дубликатов\n",
      "<class 'pandas.core.frame.DataFrame'>\n",
      "RangeIndex: 217774 entries, 0 to 217773\n",
      "Data columns (total 13 columns):\n",
      " #   Column             Non-Null Count   Dtype         \n",
      "---  ------             --------------   -----         \n",
      " 0   company_ID         217472 non-null  float32       \n",
      " 1   name               217471 non-null  object        \n",
      " 2   category_code      143886 non-null  object        \n",
      " 3   status             217472 non-null  object        \n",
      " 4   founded_at         109956 non-null  datetime64[ns]\n",
      " 5   closed_at          3449 non-null    datetime64[ns]\n",
      " 6   domain             147159 non-null  object        \n",
      " 7   network_username   95534 non-null   object        \n",
      " 8   country_code       108607 non-null  object        \n",
      " 9   investment_rounds  217472 non-null  float32       \n",
      " 10  funding_rounds     217472 non-null  float32       \n",
      " 11  funding_total      217472 non-null  float32       \n",
      " 12  milestones         217472 non-null  float32       \n",
      "dtypes: datetime64[ns](2), float32(5), object(6)\n",
      "memory usage: 17.4+ MB\n"
     ]
    },
    {
     "data": {
      "text/html": [
       "<div>\n",
       "<style scoped>\n",
       "    .dataframe tbody tr th:only-of-type {\n",
       "        vertical-align: middle;\n",
       "    }\n",
       "\n",
       "    .dataframe tbody tr th {\n",
       "        vertical-align: top;\n",
       "    }\n",
       "\n",
       "    .dataframe thead th {\n",
       "        text-align: right;\n",
       "    }\n",
       "</style>\n",
       "<table border=\"1\" class=\"dataframe\">\n",
       "  <thead>\n",
       "    <tr style=\"text-align: right;\">\n",
       "      <th></th>\n",
       "      <th>company_ID</th>\n",
       "      <th>name</th>\n",
       "      <th>category_code</th>\n",
       "      <th>status</th>\n",
       "      <th>founded_at</th>\n",
       "      <th>closed_at</th>\n",
       "      <th>domain</th>\n",
       "      <th>network_username</th>\n",
       "      <th>country_code</th>\n",
       "      <th>investment_rounds</th>\n",
       "      <th>funding_rounds</th>\n",
       "      <th>funding_total</th>\n",
       "      <th>milestones</th>\n",
       "    </tr>\n",
       "  </thead>\n",
       "  <tbody>\n",
       "    <tr>\n",
       "      <th>0</th>\n",
       "      <td>1</td>\n",
       "      <td>Wetpaint</td>\n",
       "      <td>web</td>\n",
       "      <td>operating</td>\n",
       "      <td>2005-10-17</td>\n",
       "      <td>NaT</td>\n",
       "      <td>wetpaint-inc.com</td>\n",
       "      <td>BachelrWetpaint</td>\n",
       "      <td>USA</td>\n",
       "      <td>0</td>\n",
       "      <td>3</td>\n",
       "      <td>39,750,000</td>\n",
       "      <td>5</td>\n",
       "    </tr>\n",
       "    <tr>\n",
       "      <th>1</th>\n",
       "      <td>1</td>\n",
       "      <td>Wetpaint</td>\n",
       "      <td>web</td>\n",
       "      <td>operating</td>\n",
       "      <td>2005-10-17</td>\n",
       "      <td>NaT</td>\n",
       "      <td>wetpaint-inc.com</td>\n",
       "      <td>BachelrWetpaint</td>\n",
       "      <td>USA</td>\n",
       "      <td>0</td>\n",
       "      <td>3</td>\n",
       "      <td>39,750,000</td>\n",
       "      <td>5</td>\n",
       "    </tr>\n",
       "    <tr>\n",
       "      <th>2</th>\n",
       "      <td>1</td>\n",
       "      <td>Wetpaint</td>\n",
       "      <td>web</td>\n",
       "      <td>operating</td>\n",
       "      <td>2005-10-17</td>\n",
       "      <td>NaT</td>\n",
       "      <td>wetpaint-inc.com</td>\n",
       "      <td>BachelrWetpaint</td>\n",
       "      <td>USA</td>\n",
       "      <td>0</td>\n",
       "      <td>3</td>\n",
       "      <td>39,750,000</td>\n",
       "      <td>5</td>\n",
       "    </tr>\n",
       "    <tr>\n",
       "      <th>3</th>\n",
       "      <td>10</td>\n",
       "      <td>Flektor</td>\n",
       "      <td>games_video</td>\n",
       "      <td>acquired</td>\n",
       "      <td>NaT</td>\n",
       "      <td>NaT</td>\n",
       "      <td>flektor.com</td>\n",
       "      <td>NaN</td>\n",
       "      <td>USA</td>\n",
       "      <td>0</td>\n",
       "      <td>0</td>\n",
       "      <td>0</td>\n",
       "      <td>0</td>\n",
       "    </tr>\n",
       "    <tr>\n",
       "      <th>4</th>\n",
       "      <td>100</td>\n",
       "      <td>There</td>\n",
       "      <td>games_video</td>\n",
       "      <td>acquired</td>\n",
       "      <td>NaT</td>\n",
       "      <td>NaT</td>\n",
       "      <td>there.com</td>\n",
       "      <td>NaN</td>\n",
       "      <td>USA</td>\n",
       "      <td>0</td>\n",
       "      <td>0</td>\n",
       "      <td>0</td>\n",
       "      <td>4</td>\n",
       "    </tr>\n",
       "  </tbody>\n",
       "</table>\n",
       "</div>"
      ],
      "text/plain": [
       "   company_ID      name category_code     status founded_at closed_at  \\\n",
       "0           1  Wetpaint           web  operating 2005-10-17       NaT   \n",
       "1           1  Wetpaint           web  operating 2005-10-17       NaT   \n",
       "2           1  Wetpaint           web  operating 2005-10-17       NaT   \n",
       "3          10   Flektor   games_video   acquired        NaT       NaT   \n",
       "4         100     There   games_video   acquired        NaT       NaT   \n",
       "\n",
       "             domain network_username country_code  investment_rounds  \\\n",
       "0  wetpaint-inc.com  BachelrWetpaint          USA                  0   \n",
       "1  wetpaint-inc.com  BachelrWetpaint          USA                  0   \n",
       "2  wetpaint-inc.com  BachelrWetpaint          USA                  0   \n",
       "3       flektor.com              NaN          USA                  0   \n",
       "4         there.com              NaN          USA                  0   \n",
       "\n",
       "   funding_rounds  funding_total  milestones  \n",
       "0               3     39,750,000           5  \n",
       "1               3     39,750,000           5  \n",
       "2               3     39,750,000           5  \n",
       "3               0              0           0  \n",
       "4               0              0           4  "
      ]
     },
     "metadata": {},
     "output_type": "display_data"
    },
    {
     "name": "stdout",
     "output_type": "stream",
     "text": [
      "Датасет после удаления дубликатов\n",
      "<class 'pandas.core.frame.DataFrame'>\n",
      "RangeIndex: 196554 entries, 0 to 196553\n",
      "Data columns (total 13 columns):\n",
      " #   Column             Non-Null Count   Dtype         \n",
      "---  ------             --------------   -----         \n",
      " 0   company_ID         196553 non-null  float32       \n",
      " 1   name               196552 non-null  object        \n",
      " 2   category_code      123186 non-null  object        \n",
      " 3   status             196553 non-null  object        \n",
      " 4   founded_at         91227 non-null   datetime64[ns]\n",
      " 5   closed_at          2620 non-null    datetime64[ns]\n",
      " 6   domain             126545 non-null  object        \n",
      " 7   network_username   80591 non-null   object        \n",
      " 8   country_code       87990 non-null   object        \n",
      " 9   investment_rounds  196553 non-null  float32       \n",
      " 10  funding_rounds     196553 non-null  float32       \n",
      " 11  funding_total      196553 non-null  float32       \n",
      " 12  milestones         196553 non-null  float32       \n",
      "dtypes: datetime64[ns](2), float32(5), object(6)\n",
      "memory usage: 15.7+ MB\n"
     ]
    },
    {
     "data": {
      "text/html": [
       "<div>\n",
       "<style scoped>\n",
       "    .dataframe tbody tr th:only-of-type {\n",
       "        vertical-align: middle;\n",
       "    }\n",
       "\n",
       "    .dataframe tbody tr th {\n",
       "        vertical-align: top;\n",
       "    }\n",
       "\n",
       "    .dataframe thead th {\n",
       "        text-align: right;\n",
       "    }\n",
       "</style>\n",
       "<table border=\"1\" class=\"dataframe\">\n",
       "  <thead>\n",
       "    <tr style=\"text-align: right;\">\n",
       "      <th></th>\n",
       "      <th>company_ID</th>\n",
       "      <th>name</th>\n",
       "      <th>category_code</th>\n",
       "      <th>status</th>\n",
       "      <th>founded_at</th>\n",
       "      <th>closed_at</th>\n",
       "      <th>domain</th>\n",
       "      <th>network_username</th>\n",
       "      <th>country_code</th>\n",
       "      <th>investment_rounds</th>\n",
       "      <th>funding_rounds</th>\n",
       "      <th>funding_total</th>\n",
       "      <th>milestones</th>\n",
       "    </tr>\n",
       "  </thead>\n",
       "  <tbody>\n",
       "    <tr>\n",
       "      <th>0</th>\n",
       "      <td>1</td>\n",
       "      <td>Wetpaint</td>\n",
       "      <td>web</td>\n",
       "      <td>operating</td>\n",
       "      <td>2005-10-17</td>\n",
       "      <td>NaT</td>\n",
       "      <td>wetpaint-inc.com</td>\n",
       "      <td>BachelrWetpaint</td>\n",
       "      <td>USA</td>\n",
       "      <td>0</td>\n",
       "      <td>3</td>\n",
       "      <td>39,750,000</td>\n",
       "      <td>5</td>\n",
       "    </tr>\n",
       "    <tr>\n",
       "      <th>1</th>\n",
       "      <td>10</td>\n",
       "      <td>Flektor</td>\n",
       "      <td>games_video</td>\n",
       "      <td>acquired</td>\n",
       "      <td>NaT</td>\n",
       "      <td>NaT</td>\n",
       "      <td>flektor.com</td>\n",
       "      <td>NaN</td>\n",
       "      <td>USA</td>\n",
       "      <td>0</td>\n",
       "      <td>0</td>\n",
       "      <td>0</td>\n",
       "      <td>0</td>\n",
       "    </tr>\n",
       "    <tr>\n",
       "      <th>2</th>\n",
       "      <td>100</td>\n",
       "      <td>There</td>\n",
       "      <td>games_video</td>\n",
       "      <td>acquired</td>\n",
       "      <td>NaT</td>\n",
       "      <td>NaT</td>\n",
       "      <td>there.com</td>\n",
       "      <td>NaN</td>\n",
       "      <td>USA</td>\n",
       "      <td>0</td>\n",
       "      <td>0</td>\n",
       "      <td>0</td>\n",
       "      <td>4</td>\n",
       "    </tr>\n",
       "    <tr>\n",
       "      <th>3</th>\n",
       "      <td>10,000</td>\n",
       "      <td>MYWEBBO</td>\n",
       "      <td>network_hosting</td>\n",
       "      <td>operating</td>\n",
       "      <td>2008-07-26</td>\n",
       "      <td>NaT</td>\n",
       "      <td>mywebbo.com</td>\n",
       "      <td>NaN</td>\n",
       "      <td>NaN</td>\n",
       "      <td>0</td>\n",
       "      <td>0</td>\n",
       "      <td>0</td>\n",
       "      <td>0</td>\n",
       "    </tr>\n",
       "    <tr>\n",
       "      <th>4</th>\n",
       "      <td>10,001</td>\n",
       "      <td>THE Movie Streamer</td>\n",
       "      <td>games_video</td>\n",
       "      <td>operating</td>\n",
       "      <td>2008-07-26</td>\n",
       "      <td>NaT</td>\n",
       "      <td>themoviestreamer.com</td>\n",
       "      <td>NaN</td>\n",
       "      <td>NaN</td>\n",
       "      <td>0</td>\n",
       "      <td>0</td>\n",
       "      <td>0</td>\n",
       "      <td>0</td>\n",
       "    </tr>\n",
       "  </tbody>\n",
       "</table>\n",
       "</div>"
      ],
      "text/plain": [
       "   company_ID                name    category_code     status founded_at  \\\n",
       "0           1            Wetpaint              web  operating 2005-10-17   \n",
       "1          10             Flektor      games_video   acquired        NaT   \n",
       "2         100               There      games_video   acquired        NaT   \n",
       "3      10,000             MYWEBBO  network_hosting  operating 2008-07-26   \n",
       "4      10,001  THE Movie Streamer      games_video  operating 2008-07-26   \n",
       "\n",
       "  closed_at                domain network_username country_code  \\\n",
       "0       NaT      wetpaint-inc.com  BachelrWetpaint          USA   \n",
       "1       NaT           flektor.com              NaN          USA   \n",
       "2       NaT             there.com              NaN          USA   \n",
       "3       NaT           mywebbo.com              NaN          NaN   \n",
       "4       NaT  themoviestreamer.com              NaN          NaN   \n",
       "\n",
       "   investment_rounds  funding_rounds  funding_total  milestones  \n",
       "0                  0               3     39,750,000           5  \n",
       "1                  0               0              0           0  \n",
       "2                  0               0              0           4  \n",
       "3                  0               0              0           0  \n",
       "4                  0               0              0           0  "
      ]
     },
     "metadata": {},
     "output_type": "display_data"
    }
   ],
   "source": [
    "company_and_rounds_cleaned = company_and_rounds.copy()\n",
    "company_and_rounds_cleaned = company_and_rounds_cleaned[['company_ID','name','category_code','status','founded_at','closed_at',\n",
    "                               'domain','network_username','country_code','investment_rounds','funding_rounds',\n",
    "                               'funding_total','milestones']]\n",
    "duplicate=company_and_rounds_cleaned.duplicated().sum()\n",
    "pd.options.display.float_format = '{:,.0f}'.format\n",
    "print(f'Кол-во дубликатов: {duplicate}')\n",
    "print('Датасет до удаления дубликатов')\n",
    "company_and_rounds_cleaned.info()\n",
    "display(company_and_rounds_cleaned.head())\n",
    "print('Датасет после удаления дубликатов')\n",
    "company_and_rounds_cleaned = company_and_rounds_cleaned.drop_duplicates()\n",
    "company_and_rounds_cleaned = company_and_rounds_cleaned.reset_index()\n",
    "company_and_rounds_cleaned.drop(columns = ['index'], inplace = True)\n",
    "company_and_rounds_cleaned.info()\n",
    "display(company_and_rounds_cleaned.head())"
   ]
  },
  {
   "cell_type": "markdown",
   "metadata": {
    "hideCode": false,
    "hidePrompt": false,
    "id": "SFfUmzron0Tc"
   },
   "source": [
    "<div style=\"background-color:lavender; color:#black; text-align:left; padding:2%\">\n",
    "    \n",
    "#### **Комментарий:** Выбрал такие столбцы для копии таблицы company_and_rounds потому что в них будет доступна основная информация о самих компаниях и о рауднах финансирования. Были удалены дубликаты, дабы информация о компаниях помещалась в одну строчку"
   ]
  },
  {
   "cell_type": "markdown",
   "metadata": {
    "hideCode": false,
    "hidePrompt": false,
    "id": "bmVYhphNrJg2"
   },
   "source": [
    "\n",
    "## Шаг 3. Исследовательский анализ объединённых таблиц\n",
    "\n",
    "<big>Приступите к шагу 3 после проверки ревьюера.</big>"
   ]
  },
  {
   "cell_type": "markdown",
   "metadata": {
    "hideCode": false,
    "hidePrompt": false,
    "id": "3Di6tCT3rJg2"
   },
   "source": [
    "\n",
    "### 3.1. Объединение данных\n",
    "\n",
    "Объедините данные для ответа на вопросы заказчика, которые касаются интересующих его компаний.\n",
    "\n",
    "В качестве основы для объединённой таблицы возьмите данные из обработанного датасета `company_and_rounds.csv` — выберите только те компании, у которых указаны значения `funding_rounds` или `investment_rounds` больше нуля, и те, у которых в колонке `status` указано `acquired`.\n",
    "\n",
    "Далее работайте только с этими данными."
   ]
  },
  {
   "cell_type": "code",
   "execution_count": 26,
   "metadata": {
    "hideCode": true,
    "hidePrompt": true,
    "id": "mGYqoHS7rJg2"
   },
   "outputs": [
    {
     "name": "stdout",
     "output_type": "stream",
     "text": [
      "<class 'pandas.core.frame.DataFrame'>\n",
      "Index: 40747 entries, 0 to 196552\n",
      "Data columns (total 13 columns):\n",
      " #   Column             Non-Null Count  Dtype         \n",
      "---  ------             --------------  -----         \n",
      " 0   company_ID         40747 non-null  float32       \n",
      " 1   name               40747 non-null  object        \n",
      " 2   category_code      35315 non-null  object        \n",
      " 3   status             40747 non-null  object        \n",
      " 4   founded_at         27807 non-null  datetime64[ns]\n",
      " 5   closed_at          2128 non-null   datetime64[ns]\n",
      " 6   domain             35754 non-null  object        \n",
      " 7   network_username   20850 non-null  object        \n",
      " 8   country_code       34742 non-null  object        \n",
      " 9   investment_rounds  40747 non-null  float32       \n",
      " 10  funding_rounds     40747 non-null  float32       \n",
      " 11  funding_total      40747 non-null  float32       \n",
      " 12  milestones         40747 non-null  float32       \n",
      "dtypes: datetime64[ns](2), float32(5), object(6)\n",
      "memory usage: 3.6+ MB\n"
     ]
    },
    {
     "data": {
      "text/html": [
       "<div>\n",
       "<style scoped>\n",
       "    .dataframe tbody tr th:only-of-type {\n",
       "        vertical-align: middle;\n",
       "    }\n",
       "\n",
       "    .dataframe tbody tr th {\n",
       "        vertical-align: top;\n",
       "    }\n",
       "\n",
       "    .dataframe thead th {\n",
       "        text-align: right;\n",
       "    }\n",
       "</style>\n",
       "<table border=\"1\" class=\"dataframe\">\n",
       "  <thead>\n",
       "    <tr style=\"text-align: right;\">\n",
       "      <th></th>\n",
       "      <th>company_ID</th>\n",
       "      <th>name</th>\n",
       "      <th>category_code</th>\n",
       "      <th>status</th>\n",
       "      <th>founded_at</th>\n",
       "      <th>closed_at</th>\n",
       "      <th>domain</th>\n",
       "      <th>network_username</th>\n",
       "      <th>country_code</th>\n",
       "      <th>investment_rounds</th>\n",
       "      <th>funding_rounds</th>\n",
       "      <th>funding_total</th>\n",
       "      <th>milestones</th>\n",
       "    </tr>\n",
       "  </thead>\n",
       "  <tbody>\n",
       "    <tr>\n",
       "      <th>0</th>\n",
       "      <td>1</td>\n",
       "      <td>Wetpaint</td>\n",
       "      <td>web</td>\n",
       "      <td>operating</td>\n",
       "      <td>2005-10-17</td>\n",
       "      <td>NaT</td>\n",
       "      <td>wetpaint-inc.com</td>\n",
       "      <td>BachelrWetpaint</td>\n",
       "      <td>USA</td>\n",
       "      <td>0</td>\n",
       "      <td>3</td>\n",
       "      <td>39,750,000</td>\n",
       "      <td>5</td>\n",
       "    </tr>\n",
       "    <tr>\n",
       "      <th>1</th>\n",
       "      <td>10</td>\n",
       "      <td>Flektor</td>\n",
       "      <td>games_video</td>\n",
       "      <td>acquired</td>\n",
       "      <td>NaT</td>\n",
       "      <td>NaT</td>\n",
       "      <td>flektor.com</td>\n",
       "      <td>NaN</td>\n",
       "      <td>USA</td>\n",
       "      <td>0</td>\n",
       "      <td>0</td>\n",
       "      <td>0</td>\n",
       "      <td>0</td>\n",
       "    </tr>\n",
       "    <tr>\n",
       "      <th>2</th>\n",
       "      <td>100</td>\n",
       "      <td>There</td>\n",
       "      <td>games_video</td>\n",
       "      <td>acquired</td>\n",
       "      <td>NaT</td>\n",
       "      <td>NaT</td>\n",
       "      <td>there.com</td>\n",
       "      <td>NaN</td>\n",
       "      <td>USA</td>\n",
       "      <td>0</td>\n",
       "      <td>0</td>\n",
       "      <td>0</td>\n",
       "      <td>4</td>\n",
       "    </tr>\n",
       "    <tr>\n",
       "      <th>13</th>\n",
       "      <td>1,001</td>\n",
       "      <td>FriendFeed</td>\n",
       "      <td>web</td>\n",
       "      <td>acquired</td>\n",
       "      <td>2007-10-01</td>\n",
       "      <td>NaT</td>\n",
       "      <td>friendfeed.com</td>\n",
       "      <td>friendfeed</td>\n",
       "      <td>USA</td>\n",
       "      <td>0</td>\n",
       "      <td>1</td>\n",
       "      <td>5,000,000</td>\n",
       "      <td>3</td>\n",
       "    </tr>\n",
       "    <tr>\n",
       "      <th>18</th>\n",
       "      <td>10,014</td>\n",
       "      <td>Mobclix</td>\n",
       "      <td>mobile</td>\n",
       "      <td>acquired</td>\n",
       "      <td>2008-03-01</td>\n",
       "      <td>NaT</td>\n",
       "      <td>mobclix.com</td>\n",
       "      <td>mobclix</td>\n",
       "      <td>USA</td>\n",
       "      <td>0</td>\n",
       "      <td>1</td>\n",
       "      <td>0</td>\n",
       "      <td>4</td>\n",
       "    </tr>\n",
       "  </tbody>\n",
       "</table>\n",
       "</div>"
      ],
      "text/plain": [
       "    company_ID        name category_code     status founded_at closed_at  \\\n",
       "0            1    Wetpaint           web  operating 2005-10-17       NaT   \n",
       "1           10     Flektor   games_video   acquired        NaT       NaT   \n",
       "2          100       There   games_video   acquired        NaT       NaT   \n",
       "13       1,001  FriendFeed           web   acquired 2007-10-01       NaT   \n",
       "18      10,014     Mobclix        mobile   acquired 2008-03-01       NaT   \n",
       "\n",
       "              domain network_username country_code  investment_rounds  \\\n",
       "0   wetpaint-inc.com  BachelrWetpaint          USA                  0   \n",
       "1        flektor.com              NaN          USA                  0   \n",
       "2          there.com              NaN          USA                  0   \n",
       "13    friendfeed.com       friendfeed          USA                  0   \n",
       "18       mobclix.com          mobclix          USA                  0   \n",
       "\n",
       "    funding_rounds  funding_total  milestones  \n",
       "0                3     39,750,000           5  \n",
       "1                0              0           0  \n",
       "2                0              0           4  \n",
       "13               1      5,000,000           3  \n",
       "18               1              0           4  "
      ]
     },
     "metadata": {},
     "output_type": "display_data"
    }
   ],
   "source": [
    "filtered_df = company_and_rounds_cleaned[\n",
    "    ((company_and_rounds_cleaned[\"funding_rounds\"] > 0) | (company_and_rounds_cleaned[\"investment_rounds\"] > 0)) | \n",
    "    (company_and_rounds_cleaned[\"status\"] == \"acquired\")\n",
    "]\n",
    "filtered_df.info()\n",
    "display(filtered_df.head(5))"
   ]
  },
  {
   "cell_type": "markdown",
   "metadata": {
    "hideCode": false,
    "hidePrompt": false,
    "id": "vJZ4mO2Un1yt"
   },
   "source": [
    "<div style=\"background-color:lavender; color:#black; text-align:left; padding:2%\">\n",
    "    \n",
    "#### **Комментарий:** Видим, что результатом выполнения стала таблица размером 40747 строк. В которой выделяется столбец closed_at своими пропусками, непустых значений всего 2128 из 40747 строк"
   ]
  },
  {
   "cell_type": "markdown",
   "metadata": {
    "hideCode": false,
    "hidePrompt": false,
    "id": "DFHINkV3rJg2"
   },
   "source": [
    "\n",
    "### 3.2. Анализ выбросов\n",
    "\n",
    "Заказчика интересует обычный для рассматриваемого периода размер средств, который предоставлялся компаниям.\n",
    "\n",
    "* По предобработанному столбцу `funding_total` графическим способом оцените, какой размер общего финансирования для одной компании будет типичным, а какой — выбивающимся.\n",
    "\n",
    "* В процессе расчёта значений обратите внимание, например, на показатели, возвращаемые методом `.describe()`, — объясните их. Применимы ли к таким данным обычные способы нахождения типичных значений?"
   ]
  },
  {
   "cell_type": "code",
   "execution_count": 27,
   "metadata": {
    "hideCode": true,
    "hidePrompt": true,
    "id": "8jm75fKXrJg2"
   },
   "outputs": [
    {
     "data": {
      "text/plain": [
       "count          40,747\n",
       "mean       10,135,610\n",
       "std        56,465,432\n",
       "min                 0\n",
       "25%                 0\n",
       "50%           600,000\n",
       "75%         5,650,650\n",
       "max     5,699,999,744\n",
       "Name: funding_total, dtype: float64"
      ]
     },
     "execution_count": 27,
     "metadata": {},
     "output_type": "execute_result"
    }
   ],
   "source": [
    "funding_total = filtered_df['funding_total']\n",
    "funding_total.describe()"
   ]
  },
  {
   "cell_type": "code",
   "execution_count": 28,
   "metadata": {
    "hideCode": true,
    "hidePrompt": true,
    "id": "dIWqyEomn2MU"
   },
   "outputs": [
    {
     "data": {
      "image/png": "[encoded data removed]",
      "text/plain": [
       "<Figure size 1400x200 with 1 Axes>"
      ]
     },
     "metadata": {},
     "output_type": "display_data"
    }
   ],
   "source": [
    "Q1 = filtered_df['funding_total'].quantile(0.25)\n",
    "Q3 = filtered_df['funding_total'].quantile(0.75)\n",
    "IQR = Q3 - Q1\n",
    "lower_bound = 0\n",
    "upper_bound = Q3 + 1.5 * IQR\n",
    "plt.figure(figsize=(14, 2))\n",
    "filtered_df.boxplot(column='funding_total',vert = False,showfliers=False)\n",
    "plt.title(\"Ящик с усами для общего финансирования\")\n",
    "plt.xlabel(\"Общее финансирование (млрд)\")\n",
    "plt.axvline(x=lower_bound, color='r', linestyle='--', label=f'Нижняя граница выбросов ({lower_bound:,.0f})')\n",
    "plt.axvline(x=upper_bound, color='r', linestyle='--', label=f'Верхняя граница выбросов ({upper_bound:,.0f})')\n",
    "plt.legend()\n",
    "plt.show()"
   ]
  },
  {
   "cell_type": "markdown",
   "metadata": {
    "hideCode": false,
    "hidePrompt": false
   },
   "source": [
    "<div style=\"background-color:lavender; color:#black; text-align:left; padding:2%\">\n",
    "    \n",
    "#### **Комментарий:** Тут мы видим, что среднее значение mean искажено выброрсами, а выбросами будут считаться значения больше  2 млрд. Со стандратным отклонением похожая история, оно велико из-за крупных выбросов. Значеие min и 25% говорит нам, о том, чо 25 процентов компаний имеют финансирование равное 0. Начиная с медианы, со значения 50% мы видим значение 600000. Оно нам говорит, что половина компаний имеет финансирование менее 600000. 75% значения значительно отличающее от медианы, оно равно   5650650, это означает, что 75% компаний получили финансирование на сумму менее 5.65 млн. Максимальное значение очевидно является выбросом, так как его значение составляет почти 5.7 млрд. К типичным значениям можно отнести медиану (50%) и межквартильный размах (между 25% и 75%). Выбивающиеся значения  - это экстремально большие суммы финансирования, которые соответствуют выбросам, и их влияние на среднее значение сильно искажает представление о типичных размерах. Сильную разницу между медианой и средним можно объяснить тем, что на среднее крупные выбросы сильно искажают значение, и на него не стоит ориентироваться, а медиана даже в случае наличия выбросов, она не так сильно чувствительна к ним, поэтому медиану можно использовать для поиска типичных значений"
   ]
  },
  {
   "cell_type": "markdown",
   "metadata": {
    "hideCode": false,
    "hidePrompt": false,
    "id": "JqkRAQrIrJg2"
   },
   "source": [
    "\n",
    "### 3.3. Куплены забесплатно?\n",
    "\n",
    "* Исследуйте компании, которые были проданы за ноль или за один доллар, и при этом известно, что у них был ненулевой общий объём финансирования.\n",
    "\n",
    "* Рассчитайте аналитически верхнюю и нижнюю границу выбросов для столбца `funding_total` и укажите, каким процентилям границы соответствуют. Учитывая озвученные выше предпосылки и собственные соображения, сделайте выводы о корректности планируемой заказчиком замены нижней и верхней границы выбросов на значения, рассчитанные по процентилям."
   ]
  },
  {
   "cell_type": "code",
   "execution_count": 29,
   "metadata": {
    "hideCode": true,
    "hidePrompt": true,
    "id": "wJHXCBwwrJg2"
   },
   "outputs": [
    {
     "name": "stdout",
     "output_type": "stream",
     "text": [
      "Кол-во явных дубликатов: 0\n",
      "Кол-во неявных дубликатов: 143\n",
      "\n",
      "Датасет до удаления дубликатов и сортировки по условию\n",
      "<class 'pandas.core.frame.DataFrame'>\n",
      "RangeIndex: 40890 entries, 0 to 40889\n",
      "Data columns (total 19 columns):\n",
      " #   Column                Non-Null Count  Dtype         \n",
      "---  ------                --------------  -----         \n",
      " 0   company_ID            40890 non-null  float32       \n",
      " 1   name                  40890 non-null  object        \n",
      " 2   category_code         35436 non-null  object        \n",
      " 3   status                40890 non-null  object        \n",
      " 4   founded_at            27911 non-null  datetime64[ns]\n",
      " 5   closed_at             2128 non-null   datetime64[ns]\n",
      " 6   domain                35883 non-null  object        \n",
      " 7   network_username      20938 non-null  object        \n",
      " 8   country_code          34858 non-null  object        \n",
      " 9   investment_rounds     40890 non-null  float32       \n",
      " 10  funding_rounds        40890 non-null  float32       \n",
      " 11  funding_total         40890 non-null  float32       \n",
      " 12  milestones            40890 non-null  float32       \n",
      " 13  id                    9390 non-null   float64       \n",
      " 14  acquiring_company_id  9390 non-null   float64       \n",
      " 15  acquired_company_id   9390 non-null   float64       \n",
      " 16  term_code             1830 non-null   object        \n",
      " 17  price_amount          9390 non-null   float64       \n",
      " 18  acquired_at           9361 non-null   datetime64[ns]\n",
      "dtypes: datetime64[ns](3), float32(5), float64(4), object(7)\n",
      "memory usage: 5.1+ MB\n",
      "\n",
      "Датасет после удаления дубликатов и сортировки по условию\n",
      "<class 'pandas.core.frame.DataFrame'>\n",
      "Index: 1584 entries, 25 to 40872\n",
      "Data columns (total 19 columns):\n",
      " #   Column                Non-Null Count  Dtype         \n",
      "---  ------                --------------  -----         \n",
      " 0   company_ID            1584 non-null   float32       \n",
      " 1   name                  1584 non-null   object        \n",
      " 2   category_code         1519 non-null   object        \n",
      " 3   status                1584 non-null   object        \n",
      " 4   founded_at            1257 non-null   datetime64[ns]\n",
      " 5   closed_at             13 non-null     datetime64[ns]\n",
      " 6   domain                1512 non-null   object        \n",
      " 7   network_username      788 non-null    object        \n",
      " 8   country_code          1503 non-null   object        \n",
      " 9   investment_rounds     1584 non-null   float32       \n",
      " 10  funding_rounds        1584 non-null   float32       \n",
      " 11  funding_total         1584 non-null   float32       \n",
      " 12  milestones            1584 non-null   float32       \n",
      " 13  id                    1584 non-null   float64       \n",
      " 14  acquiring_company_id  1584 non-null   float64       \n",
      " 15  acquired_company_id   1584 non-null   float64       \n",
      " 16  term_code             116 non-null    object        \n",
      " 17  price_amount          1584 non-null   float64       \n",
      " 18  acquired_at           1580 non-null   datetime64[ns]\n",
      "dtypes: datetime64[ns](3), float32(5), float64(4), object(7)\n",
      "memory usage: 216.6+ KB\n"
     ]
    }
   ],
   "source": [
    "new_df = filtered_df.merge(acquisition, left_on='company_ID', right_on='acquired_company_id', how='left')\n",
    "duplic=new_df.duplicated().sum()\n",
    "dupliccc = new_df.duplicated(subset = ['company_ID']).sum()\n",
    "print(f'Кол-во явных дубликатов: {duplic}')\n",
    "print(f'Кол-во неявных дубликатов: {dupliccc}')\n",
    "print('\\nДатасет до удаления дубликатов и сортировки по условию')\n",
    "new_df.info()\n",
    "new_df = new_df.drop_duplicates()\n",
    "new_df = new_df.drop_duplicates(subset = ['company_ID'],keep ='first')\n",
    "neww_df = new_df[\n",
    "    ((new_df[\"price_amount\"] == 0) | (new_df[\"price_amount\"] == 1)) &\n",
    "    (new_df[\"funding_total\"] > 0)\n",
    "]\n",
    "print('\\nДатасет после удаления дубликатов и сортировки по условию')\n",
    "neww_df.info()"
   ]
  },
  {
   "cell_type": "markdown",
   "metadata": {
    "hideCode": false,
    "hidePrompt": false
   },
   "source": [
    "<div style=\"background-color:lavender; color:#black; text-align:left; padding:2%\">\n",
    "    \n",
    "#### **Комментарий:** Тут присоединили датасет acquisition по столюцу покупаемой компании, мы видели, что в результат объединения, добавилось всего 143 строки, которые в последствии оказались неявными дубликатами, поэтому мы их удалили и применили условие, которое давалось выше, получился датасет всегов  1593 строки, со всеми выполненными условиями. Можно все так же подметить столбец closed_at, в нем всего 13 значений"
   ]
  },
  {
   "cell_type": "code",
   "execution_count": 30,
   "metadata": {
    "hideCode": true,
    "hidePrompt": true,
    "id": "-kA4CO27n2ql"
   },
   "outputs": [
    {
     "name": "stdout",
     "output_type": "stream",
     "text": [
      "Нижняя граница выбросов: 0\n",
      "Верхняя граница выбросов(IQR): 14126625.0\n",
      "Верхняя граница выбросов(90%): 22391380.0\n",
      "Верхняя граница выбросов(95%): 43500000.0\n",
      "Верхняя граница выбросов(99%): 133948660.0\n"
     ]
    }
   ],
   "source": [
    "Q1 = filtered_df[\"funding_total\"].quantile(0.25)\n",
    "Q3 = filtered_df[\"funding_total\"].quantile(0.75)\n",
    "Q4 = filtered_df[\"funding_total\"].quantile(0.90)\n",
    "Q5 = filtered_df[\"funding_total\"].quantile(0.95)\n",
    "Q6 = filtered_df[\"funding_total\"].quantile(0.99)\n",
    "IQR = Q3 - Q1\n",
    "lower_bound = max(lower_bound, 0)\n",
    "upper_bound = Q3 + 1.5 * IQR\n",
    "\n",
    "print(f\"Нижняя граница выбросов: {round(lower_bound,2)}\")\n",
    "print(f\"Верхняя граница выбросов(IQR): {round(upper_bound,2)}\")\n",
    "print(f\"Верхняя граница выбросов(90%): {round(Q4,2)}\")\n",
    "print(f\"Верхняя граница выбросов(95%): {round(Q5,2)}\")\n",
    "print(f\"Верхняя граница выбросов(99%): {round(Q6,2)}\")\n"
   ]
  },
  {
   "cell_type": "markdown",
   "metadata": {
    "hideCode": false,
    "hidePrompt": false
   },
   "source": [
    "<div style=\"background-color:lavender; color:#black; text-align:left; padding:2%\">\n",
    "    \n",
    "#### **Комментарий:** Выше мы выяснили, что минимальным значением является 0, поэтому тут не нужно вести какой-либо подсчет. Замена нижней границы не нужна, так как 0 является нормой. Использование IQR для верхней границы выбросов, так как это соответсвует значению, выше которго начинаются редкие или крупные инвестиции. При этом использование 90-го процентиля или 95-го процентиля может быть более подходящим для фильтрации крупных выбросов, не исключая слишком много данных с реальными крупными инвестициями.99-й процентиль — это уже редкие, возможно, исключительные случаи, и решение о замене таких значений стоит принимать с осторожностью. Так что, если нам нужно анализировать типичные значения, то надо использовать IQR. Если захотеть минимализировать влияние болших выбросов, то можно использовать 90-ый процентиль. А если надо заменить выбросы на значения, тоесть исключить редкие случаи (типо единичных сделок на миллиард), то стоит использовать 95 или 99 процентиль."
   ]
  },
  {
   "cell_type": "markdown",
   "metadata": {
    "hideCode": false,
    "hidePrompt": false,
    "id": "mEiWpROjrJg2"
   },
   "source": [
    "\n",
    "### 3.4. Цены стартапов по категориям\n",
    "\n",
    "Категории стартапов с наибольшими ценами и значительным разбросом цен могут быть наиболее привлекательными для крупных инвесторов, которые готовы к высоким рискам ради потенциально больших доходов. Среди категорий стартапов выделите категории стартапов, характеризующиеся:\n",
    "\n",
    "* наибольшими ценами;\n",
    "* и наибольшим разбросом цен за стартап.\n",
    "\n",
    "Объясните, почему решили составить топ именно из такого числа категорий и почему рассчитывали именно так."
   ]
  },
  {
   "cell_type": "code",
   "execution_count": 31,
   "metadata": {
    "hideCode": true,
    "hidePrompt": true,
    "id": "jQ09dYUWrJg2"
   },
   "outputs": [
    {
     "data": {
      "image/png": "[encoded data removed]",
      "text/plain": [
       "<Figure size 1600x800 with 2 Axes>"
      ]
     },
     "metadata": {},
     "output_type": "display_data"
    },
    {
     "name": "stdout",
     "output_type": "stream",
     "text": [
      "Топ категорий с наибольшими ценами:\n",
      "                  company_count  median_price     std_price\n",
      "category_code                                              \n",
      "biotech                     262   200,000,000 1,971,954,950\n",
      "public_relations             72   110,000,000 6,944,050,971\n",
      "network_hosting              64   102,500,000   676,956,798\n",
      "semiconductor                71   100,000,000 1,122,024,808\n",
      "hardware                     78    76,000,000   645,087,366\n",
      "other                        81    70,000,000 2,097,598,454\n",
      "advertising                  82    58,500,000   491,459,531\n",
      "enterprise                  113    56,500,000 1,614,921,635\n",
      "mobile                      117    56,000,000 1,319,471,637\n",
      "games_video                  85    51,500,000 1,487,437,889\n",
      "\n",
      "Топ категорий с наибольшим разбросом цен:\n",
      "                  company_count  median_price     std_price\n",
      "category_code                                              \n",
      "public_relations             72   110,000,000 6,944,050,971\n",
      "other                        81    70,000,000 2,097,598,454\n",
      "biotech                     262   200,000,000 1,971,954,950\n",
      "enterprise                  113    56,500,000 1,614,921,635\n",
      "games_video                  85    51,500,000 1,487,437,889\n",
      "mobile                      117    56,000,000 1,319,471,637\n",
      "software                    398    48,070,000 1,193,245,393\n",
      "semiconductor                71   100,000,000 1,122,024,808\n",
      "network_hosting              64   102,500,000   676,956,798\n",
      "hardware                     78    76,000,000   645,087,366\n"
     ]
    }
   ],
   "source": [
    "new_filtered_df = filtered_df.merge(acquisition, left_on='company_ID', right_on='acquired_company_id', how='left')\n",
    "new_filtered_df = new_filtered_df.drop_duplicates(subset = ['company_ID'],keep ='first')\n",
    "new_filtered_df = new_filtered_df[new_filtered_df['price_amount']>0]\n",
    "category_stats = new_filtered_df.groupby('category_code')['price_amount'].agg(\n",
    "    company_count = 'count',\n",
    "    median_price ='median',\n",
    "    std_price ='std'\n",
    ")\n",
    "category_stats = category_stats[category_stats['company_count'] > 50]\n",
    "top_categories_by_mean = category_stats.sort_values(by='median_price', ascending=False).head(10)\n",
    "top_categories_by_std = category_stats.sort_values(by='std_price', ascending=False).head(10)\n",
    "\n",
    "fig, axes = plt.subplots(1, 2, figsize=(16, 8))\n",
    "sns.barplot(x=top_categories_by_mean.index, y=top_categories_by_mean['median_price'], ax=axes[0])\n",
    "axes[0].set_title('Топ 10 категорий с наибольшими ценами')\n",
    "axes[0].set_xlabel('Категория')\n",
    "axes[0].set_ylabel('Средняя сумма финансирования')\n",
    "\n",
    "sns.barplot(x=top_categories_by_std.index, y=top_categories_by_std['std_price'], ax=axes[1])\n",
    "axes[1].set_title('Топ 10 категорий с наибольшим разбросом цен')\n",
    "axes[1].set_xlabel('Категория')\n",
    "axes[1].set_ylabel('Стандартное отклонение')\n",
    "\n",
    "for ax in axes:\n",
    "    ax.set_xticks(range(len(ax.get_xticklabels())))\n",
    "    ax.set_xticklabels(ax.get_xticklabels(), rotation=90)\n",
    "plt.show()\n",
    "\n",
    "print(\"Топ категорий с наибольшими ценами:\")\n",
    "print(top_categories_by_mean)\n",
    "print(\"\\nТоп категорий с наибольшим разбросом цен:\")\n",
    "print(top_categories_by_std)"
   ]
  },
  {
   "cell_type": "markdown",
   "metadata": {
    "hideCode": false,
    "hidePrompt": false,
    "id": "MFONscXPn29F"
   },
   "source": [
    "<div style=\"background-color:lavender; color:#black; text-align:left; padding:2%\">\n",
    "    \n",
    "#### **Комментарий:** На графиках можно увидеть категории стартапов с наибольшими инвестициями и с наибольшим разбросом. Это позволит определить, какие области требуют более тщательного анализа при принятии решений о крупных инвестициях. График для средней цены покажет, какие категории стартапов в среднем получают наибольшее сумму денег.График для стандартного отклонения покажет, в каких категориях разброс сумм инвестиций наиболее велик, что может свидетельствовать о рисках для инвесторов. Оценка топ-10 категорий помогает сосредоточиться на наиболее значимых данных, которые дают четкое представление о перспективных секторах для инвестировани"
   ]
  },
  {
   "cell_type": "markdown",
   "metadata": {
    "hideCode": false,
    "hidePrompt": false,
    "id": "ADOfyVY_rJg3"
   },
   "source": [
    "\n",
    "### 3.5. Сколько раундов продержится стартап перед покупкой\n",
    "\n",
    "* Необходимо проанализировать столбец `funding_rounds`. Исследуйте значения столбца. Заказчика интересует типичное значение количества раундов для каждого возможного статуса стартапа.\n",
    "\n",
    "* Постройте график, который отображает, сколько в среднем раундов финансирования проходило для стартапов из каждой группы. Сделайте выводы."
   ]
  },
  {
   "cell_type": "code",
   "execution_count": 32,
   "metadata": {
    "hideCode": true,
    "hidePrompt": true,
    "id": "hgXMPC4WrJg3"
   },
   "outputs": [
    {
     "name": "stdout",
     "output_type": "stream",
     "text": [
      "Уникальные значения столбца 'funding_rounds':\n",
      "[ 3.  0.  1.  5.  2.  7.  4.  6.  8. 10.  9. 13. 11. 15. 14. 12.]\n",
      "\n",
      "Статистика по столбцу 'funding_rounds':\n",
      "count   40,747\n",
      "mean         1\n",
      "std          1\n",
      "min          0\n",
      "25%          1\n",
      "50%          1\n",
      "75%          2\n",
      "max         15\n",
      "Name: funding_rounds, dtype: float64\n"
     ]
    },
    {
     "data": {
      "image/png": "[encoded data removed]",
      "text/plain": [
       "<Figure size 1000x600 with 1 Axes>"
      ]
     },
     "metadata": {},
     "output_type": "display_data"
    }
   ],
   "source": [
    "print(\"Уникальные значения столбца 'funding_rounds':\")\n",
    "print(filtered_df['funding_rounds'].unique())\n",
    "print(\"\\nСтатистика по столбцу 'funding_rounds':\")\n",
    "print(filtered_df['funding_rounds'].describe())\n",
    "status_rounds = filtered_df.groupby('status')['funding_rounds'].mean().reset_index()\n",
    "\n",
    "plt.figure(figsize=(10, 6))\n",
    "sns.barplot(x='status', y='funding_rounds', data=status_rounds,hue = 'status', palette='viridis')\n",
    "plt.title('Среднее количество раундов финансирования для стартапов по статусу')\n",
    "plt.xlabel('Статус стартапа')\n",
    "plt.ylabel('Среднее количество раундов')\n",
    "plt.xticks(rotation=45)\n",
    "plt.tight_layout()\n",
    "plt.show()"
   ]
  },
  {
   "cell_type": "markdown",
   "metadata": {
    "hideCode": false,
    "hidePrompt": false
   },
   "source": [
    "<div style=\"background-color:lavender; color:#black; text-align:left; padding:2%\">\n",
    "    \n",
    "#### **Комментарий:** Закрытые (closed) и приобретённые (acquired) стартапы обычно имеют меньшее количество раундов финансирования, что связано с завершением их жизненного цикла или поглощением более крупными компаниями. Стартапы на стадии IPO имеют наибольшее среднее количество раундов финансирования, что логично, учитывая сложность и долгий процесс подготовки к публичному размещению. Стартапы с текущим статусом актвные (operating) также привлекают значительные суммы через несколько раундов."
   ]
  },
  {
   "cell_type": "markdown",
   "metadata": {
    "hideCode": false,
    "hidePrompt": false,
    "id": "VAFEZ2HBrJg3"
   },
   "source": [
    "\n",
    "## Шаг 4. Итоговый вывод и рекомендации\n",
    "\n",
    "По мери выполнения проекта было создано несколько доп. датасетов, которые нужны были для расчета нужной информации. Были обратотаны начальные таблицы, в некоторых столбцах изменил тип данных у чсиловых, дабы датасеты занимали меньше места, были также изменены типы данных в столбцах с датой. Так же было выявлено количество и процентное соотношение пропусков в каждом из датасетов. Производился просмотр количества сотрудников в компаниях и их образования, анализ дубликатов в разных датасетах и обработка датасета company_and_rounds, который включал себя большое кол-во информации. Были выявлены выбросы, так же узнали, сколько компаний было продано за 0 или за 1 доллар. Были найдены нижние и верхние границы выбросов, описывая какая из границ подойдет для решения нужной задачи. Мы увидели топ10 категорий с наибольшей ценой и наибольшим разбросом цен. И последнее что было сделано - это графически было показано, сколько в среднем требуется раундов финансирования для каждого из статусов.\n",
    "Рекомендация будет такая, категория biotech является самой дорогой по цене, но и риск потери средств достаточно велик, хотя если говорить про 2 ближайшие категории, то та, которая занимает 2 место - public_relations, ее риск потерь больше biotech в 2.5 раза, а вот следующая категория network_hosting имеет в 1.5 раза меньше риск потери, но и в 2 раза меньше цена. Хотите рискнуть? то выбирайте стартап категории biotech или public_relations, если хотите меньше рисков и больше финансирования, то выбирайте стартап категории nnetwork_hosting."
   ]
  }
 ],
 "metadata": {
  "ExecuteTimeLog": [
   {
    "duration": 46,
    "start_time": "2025-01-11T15:35:34.137Z"
   },
   {
    "duration": 370,
    "start_time": "2025-01-11T15:35:45.748Z"
   },
   {
    "duration": 29,
    "start_time": "2025-01-11T15:35:46.918Z"
   },
   {
    "duration": 121,
    "start_time": "2025-01-11T15:37:08.592Z"
   },
   {
    "duration": 226,
    "start_time": "2025-01-11T15:37:24.941Z"
   },
   {
    "duration": 1672,
    "start_time": "2025-01-11T15:38:18.528Z"
   },
   {
    "duration": 1452,
    "start_time": "2025-01-11T15:38:34.509Z"
   },
   {
    "duration": 1442,
    "start_time": "2025-01-11T15:38:39.300Z"
   },
   {
    "duration": 364,
    "start_time": "2025-01-11T15:38:45.764Z"
   },
   {
    "duration": 1516,
    "start_time": "2025-01-11T15:38:46.129Z"
   },
   {
    "duration": 1833,
    "start_time": "2025-01-11T15:39:05.993Z"
   },
   {
    "duration": 1832,
    "start_time": "2025-01-11T15:39:20.889Z"
   },
   {
    "duration": 1657,
    "start_time": "2025-01-11T15:39:23.888Z"
   },
   {
    "duration": 1666,
    "start_time": "2025-01-11T15:39:47.661Z"
   },
   {
    "duration": 8,
    "start_time": "2025-01-11T15:40:09.069Z"
   },
   {
    "duration": 8,
    "start_time": "2025-01-11T15:40:16.858Z"
   },
   {
    "duration": 24,
    "start_time": "2025-01-11T15:40:25.262Z"
   },
   {
    "duration": 419,
    "start_time": "2025-01-11T15:40:40.200Z"
   },
   {
    "duration": 2244,
    "start_time": "2025-01-11T15:40:40.621Z"
   },
   {
    "duration": 14,
    "start_time": "2025-01-11T15:40:42.866Z"
   },
   {
    "duration": 21,
    "start_time": "2025-01-11T15:40:42.882Z"
   },
   {
    "duration": 7,
    "start_time": "2025-01-11T15:40:42.921Z"
   },
   {
    "duration": 7,
    "start_time": "2025-01-11T15:40:42.930Z"
   },
   {
    "duration": 9,
    "start_time": "2025-01-11T15:40:42.938Z"
   },
   {
    "duration": 10,
    "start_time": "2025-01-11T15:40:42.949Z"
   },
   {
    "duration": 16,
    "start_time": "2025-01-11T15:40:42.961Z"
   },
   {
    "duration": 371,
    "start_time": "2025-01-11T15:43:49.951Z"
   },
   {
    "duration": 2557,
    "start_time": "2025-01-11T15:43:50.324Z"
   },
   {
    "duration": 11,
    "start_time": "2025-01-11T15:43:52.883Z"
   },
   {
    "duration": 128,
    "start_time": "2025-01-11T15:43:52.895Z"
   },
   {
    "duration": 22,
    "start_time": "2025-01-11T15:43:53.025Z"
   },
   {
    "duration": 63,
    "start_time": "2025-01-11T15:43:53.048Z"
   },
   {
    "duration": 14,
    "start_time": "2025-01-11T15:43:53.113Z"
   },
   {
    "duration": 33,
    "start_time": "2025-01-11T15:43:53.129Z"
   },
   {
    "duration": 64,
    "start_time": "2025-01-11T15:43:53.163Z"
   },
   {
    "duration": 21,
    "start_time": "2025-01-11T15:45:47.280Z"
   },
   {
    "duration": 388,
    "start_time": "2025-01-11T15:46:34.735Z"
   },
   {
    "duration": 63,
    "start_time": "2025-01-11T15:46:35.125Z"
   },
   {
    "duration": 0,
    "start_time": "2025-01-11T15:46:35.190Z"
   },
   {
    "duration": 0,
    "start_time": "2025-01-11T15:46:35.192Z"
   },
   {
    "duration": 0,
    "start_time": "2025-01-11T15:46:35.193Z"
   },
   {
    "duration": 0,
    "start_time": "2025-01-11T15:46:35.194Z"
   },
   {
    "duration": 0,
    "start_time": "2025-01-11T15:46:35.196Z"
   },
   {
    "duration": 0,
    "start_time": "2025-01-11T15:46:35.197Z"
   },
   {
    "duration": 0,
    "start_time": "2025-01-11T15:46:35.198Z"
   },
   {
    "duration": 417,
    "start_time": "2025-01-11T15:46:47.111Z"
   },
   {
    "duration": 2185,
    "start_time": "2025-01-11T15:46:47.530Z"
   },
   {
    "duration": 23,
    "start_time": "2025-01-11T15:46:49.716Z"
   },
   {
    "duration": 124,
    "start_time": "2025-01-11T15:46:49.741Z"
   },
   {
    "duration": 27,
    "start_time": "2025-01-11T15:46:49.868Z"
   },
   {
    "duration": 36,
    "start_time": "2025-01-11T15:46:49.897Z"
   },
   {
    "duration": 48,
    "start_time": "2025-01-11T15:46:49.935Z"
   },
   {
    "duration": 13,
    "start_time": "2025-01-11T15:46:49.984Z"
   },
   {
    "duration": 59,
    "start_time": "2025-01-11T15:46:49.999Z"
   },
   {
    "duration": 411,
    "start_time": "2025-01-12T09:43:12.931Z"
   },
   {
    "duration": 2450,
    "start_time": "2025-01-12T09:43:13.344Z"
   },
   {
    "duration": 23,
    "start_time": "2025-01-12T09:43:15.796Z"
   },
   {
    "duration": 118,
    "start_time": "2025-01-12T09:43:15.830Z"
   },
   {
    "duration": 28,
    "start_time": "2025-01-12T09:43:15.951Z"
   },
   {
    "duration": 51,
    "start_time": "2025-01-12T09:43:15.981Z"
   },
   {
    "duration": 28,
    "start_time": "2025-01-12T09:43:16.034Z"
   },
   {
    "duration": 20,
    "start_time": "2025-01-12T09:43:16.064Z"
   },
   {
    "duration": 97,
    "start_time": "2025-01-12T09:43:16.086Z"
   },
   {
    "duration": 152,
    "start_time": "2025-01-12T09:44:02.135Z"
   },
   {
    "duration": 155,
    "start_time": "2025-01-12T09:45:22.241Z"
   },
   {
    "duration": 79,
    "start_time": "2025-01-12T09:45:31.366Z"
   },
   {
    "duration": 153,
    "start_time": "2025-01-12T09:45:33.786Z"
   },
   {
    "duration": 156,
    "start_time": "2025-01-12T09:45:41.108Z"
   },
   {
    "duration": 157,
    "start_time": "2025-01-12T09:45:58.201Z"
   },
   {
    "duration": 165,
    "start_time": "2025-01-12T09:47:15.528Z"
   },
   {
    "duration": 66,
    "start_time": "2025-01-12T09:49:00.836Z"
   },
   {
    "duration": 620,
    "start_time": "2025-01-12T09:49:10.458Z"
   },
   {
    "duration": 29,
    "start_time": "2025-01-12T09:49:41.968Z"
   },
   {
    "duration": 1236,
    "start_time": "2025-01-12T09:50:03.950Z"
   },
   {
    "duration": 0,
    "start_time": "2025-01-12T09:50:05.188Z"
   },
   {
    "duration": 0,
    "start_time": "2025-01-12T09:50:05.190Z"
   },
   {
    "duration": 0,
    "start_time": "2025-01-12T09:50:05.191Z"
   },
   {
    "duration": 0,
    "start_time": "2025-01-12T09:50:05.192Z"
   },
   {
    "duration": 0,
    "start_time": "2025-01-12T09:50:05.193Z"
   },
   {
    "duration": 0,
    "start_time": "2025-01-12T09:50:05.194Z"
   },
   {
    "duration": 0,
    "start_time": "2025-01-12T09:50:05.195Z"
   },
   {
    "duration": 0,
    "start_time": "2025-01-12T09:50:05.196Z"
   },
   {
    "duration": 0,
    "start_time": "2025-01-12T09:50:05.197Z"
   },
   {
    "duration": 0,
    "start_time": "2025-01-12T09:50:05.198Z"
   },
   {
    "duration": 4560,
    "start_time": "2025-01-12T09:50:28.456Z"
   },
   {
    "duration": 2112,
    "start_time": "2025-01-12T09:50:33.018Z"
   },
   {
    "duration": 20,
    "start_time": "2025-01-12T09:50:35.132Z"
   },
   {
    "duration": 126,
    "start_time": "2025-01-12T09:50:35.153Z"
   },
   {
    "duration": 29,
    "start_time": "2025-01-12T09:50:35.281Z"
   },
   {
    "duration": 39,
    "start_time": "2025-01-12T09:50:35.312Z"
   },
   {
    "duration": 19,
    "start_time": "2025-01-12T09:50:35.353Z"
   },
   {
    "duration": 20,
    "start_time": "2025-01-12T09:50:35.374Z"
   },
   {
    "duration": 67,
    "start_time": "2025-01-12T09:50:35.395Z"
   },
   {
    "duration": 55,
    "start_time": "2025-01-12T09:50:35.463Z"
   },
   {
    "duration": 167,
    "start_time": "2025-01-12T09:50:35.530Z"
   },
   {
    "duration": 15,
    "start_time": "2025-01-12T09:51:39.386Z"
   },
   {
    "duration": 3838,
    "start_time": "2025-01-12T09:52:35.670Z"
   },
   {
    "duration": 2029,
    "start_time": "2025-01-12T09:52:39.510Z"
   },
   {
    "duration": 22,
    "start_time": "2025-01-12T09:52:41.540Z"
   },
   {
    "duration": 127,
    "start_time": "2025-01-12T09:52:41.564Z"
   },
   {
    "duration": 45,
    "start_time": "2025-01-12T09:52:41.693Z"
   },
   {
    "duration": 24,
    "start_time": "2025-01-12T09:52:41.739Z"
   },
   {
    "duration": 19,
    "start_time": "2025-01-12T09:52:41.765Z"
   },
   {
    "duration": 13,
    "start_time": "2025-01-12T09:52:41.785Z"
   },
   {
    "duration": 73,
    "start_time": "2025-01-12T09:52:41.799Z"
   },
   {
    "duration": 174,
    "start_time": "2025-01-12T09:52:41.873Z"
   },
   {
    "duration": 170,
    "start_time": "2025-01-12T09:52:42.051Z"
   },
   {
    "duration": 108,
    "start_time": "2025-01-12T09:53:04.968Z"
   },
   {
    "duration": 105,
    "start_time": "2025-01-12T09:53:15.044Z"
   },
   {
    "duration": 256,
    "start_time": "2025-01-12T09:53:31.998Z"
   },
   {
    "duration": 97,
    "start_time": "2025-01-12T09:53:46.146Z"
   },
   {
    "duration": 3745,
    "start_time": "2025-01-12T09:54:03.388Z"
   },
   {
    "duration": 1980,
    "start_time": "2025-01-12T09:54:07.135Z"
   },
   {
    "duration": 23,
    "start_time": "2025-01-12T09:54:09.116Z"
   },
   {
    "duration": 120,
    "start_time": "2025-01-12T09:54:09.141Z"
   },
   {
    "duration": 28,
    "start_time": "2025-01-12T09:54:09.263Z"
   },
   {
    "duration": 38,
    "start_time": "2025-01-12T09:54:09.293Z"
   },
   {
    "duration": 18,
    "start_time": "2025-01-12T09:54:09.332Z"
   },
   {
    "duration": 12,
    "start_time": "2025-01-12T09:54:09.352Z"
   },
   {
    "duration": 68,
    "start_time": "2025-01-12T09:54:09.366Z"
   },
   {
    "duration": 164,
    "start_time": "2025-01-12T09:54:09.435Z"
   },
   {
    "duration": 169,
    "start_time": "2025-01-12T09:54:09.600Z"
   },
   {
    "duration": 3941,
    "start_time": "2025-01-12T09:54:25.079Z"
   },
   {
    "duration": 1817,
    "start_time": "2025-01-12T09:54:29.022Z"
   },
   {
    "duration": 21,
    "start_time": "2025-01-12T09:54:30.840Z"
   },
   {
    "duration": 150,
    "start_time": "2025-01-12T09:54:30.863Z"
   },
   {
    "duration": 37,
    "start_time": "2025-01-12T09:54:31.015Z"
   },
   {
    "duration": 24,
    "start_time": "2025-01-12T09:54:31.053Z"
   },
   {
    "duration": 20,
    "start_time": "2025-01-12T09:54:31.079Z"
   },
   {
    "duration": 41,
    "start_time": "2025-01-12T09:54:31.101Z"
   },
   {
    "duration": 47,
    "start_time": "2025-01-12T09:54:31.144Z"
   },
   {
    "duration": 64,
    "start_time": "2025-01-12T09:54:31.192Z"
   },
   {
    "duration": 113,
    "start_time": "2025-01-12T09:54:31.258Z"
   },
   {
    "duration": 176,
    "start_time": "2025-01-12T09:54:31.373Z"
   },
   {
    "duration": 10,
    "start_time": "2025-01-12T09:54:37.256Z"
   },
   {
    "duration": 9,
    "start_time": "2025-01-12T09:54:37.920Z"
   },
   {
    "duration": 101,
    "start_time": "2025-01-12T09:55:10.361Z"
   },
   {
    "duration": 10,
    "start_time": "2025-01-12T09:55:14.846Z"
   },
   {
    "duration": 101,
    "start_time": "2025-01-12T09:55:15.347Z"
   },
   {
    "duration": 10,
    "start_time": "2025-01-12T09:55:27.097Z"
   },
   {
    "duration": 9,
    "start_time": "2025-01-12T09:55:27.438Z"
   },
   {
    "duration": 8,
    "start_time": "2025-01-12T09:57:06.672Z"
   },
   {
    "duration": 15,
    "start_time": "2025-01-12T09:57:23.100Z"
   },
   {
    "duration": 3898,
    "start_time": "2025-01-12T09:57:29.623Z"
   },
   {
    "duration": 1860,
    "start_time": "2025-01-12T09:57:33.523Z"
   },
   {
    "duration": 20,
    "start_time": "2025-01-12T09:57:35.385Z"
   },
   {
    "duration": 132,
    "start_time": "2025-01-12T09:57:35.407Z"
   },
   {
    "duration": 28,
    "start_time": "2025-01-12T09:57:35.541Z"
   },
   {
    "duration": 24,
    "start_time": "2025-01-12T09:57:35.571Z"
   },
   {
    "duration": 46,
    "start_time": "2025-01-12T09:57:35.597Z"
   },
   {
    "duration": 14,
    "start_time": "2025-01-12T09:57:35.645Z"
   },
   {
    "duration": 69,
    "start_time": "2025-01-12T09:57:35.661Z"
   },
   {
    "duration": 57,
    "start_time": "2025-01-12T09:57:35.731Z"
   },
   {
    "duration": 183,
    "start_time": "2025-01-12T09:57:35.790Z"
   },
   {
    "duration": 104,
    "start_time": "2025-01-12T09:57:45.007Z"
   },
   {
    "duration": 4060,
    "start_time": "2025-01-12T09:57:55.059Z"
   },
   {
    "duration": 2003,
    "start_time": "2025-01-12T09:57:59.121Z"
   },
   {
    "duration": 22,
    "start_time": "2025-01-12T09:58:01.126Z"
   },
   {
    "duration": 134,
    "start_time": "2025-01-12T09:58:01.150Z"
   },
   {
    "duration": 29,
    "start_time": "2025-01-12T09:58:01.286Z"
   },
   {
    "duration": 24,
    "start_time": "2025-01-12T09:58:01.329Z"
   },
   {
    "duration": 50,
    "start_time": "2025-01-12T09:58:01.355Z"
   },
   {
    "duration": 34,
    "start_time": "2025-01-12T09:58:01.407Z"
   },
   {
    "duration": 48,
    "start_time": "2025-01-12T09:58:01.442Z"
   },
   {
    "duration": 71,
    "start_time": "2025-01-12T09:58:01.492Z"
   },
   {
    "duration": 107,
    "start_time": "2025-01-12T09:58:01.564Z"
   },
   {
    "duration": 180,
    "start_time": "2025-01-12T09:58:01.673Z"
   },
   {
    "duration": 3855,
    "start_time": "2025-01-12T09:58:10.594Z"
   },
   {
    "duration": 1841,
    "start_time": "2025-01-12T09:58:14.451Z"
   },
   {
    "duration": 21,
    "start_time": "2025-01-12T09:58:16.295Z"
   },
   {
    "duration": 125,
    "start_time": "2025-01-12T09:58:16.330Z"
   },
   {
    "duration": 27,
    "start_time": "2025-01-12T09:58:16.457Z"
   },
   {
    "duration": 63,
    "start_time": "2025-01-12T09:58:16.486Z"
   },
   {
    "duration": 18,
    "start_time": "2025-01-12T09:58:16.551Z"
   },
   {
    "duration": 12,
    "start_time": "2025-01-12T09:58:16.571Z"
   },
   {
    "duration": 63,
    "start_time": "2025-01-12T09:58:16.584Z"
   },
   {
    "duration": 54,
    "start_time": "2025-01-12T09:58:16.649Z"
   },
   {
    "duration": 126,
    "start_time": "2025-01-12T09:58:16.704Z"
   },
   {
    "duration": 168,
    "start_time": "2025-01-12T09:58:16.831Z"
   },
   {
    "duration": 3830,
    "start_time": "2025-01-12T09:58:26.084Z"
   },
   {
    "duration": 1846,
    "start_time": "2025-01-12T09:58:29.916Z"
   },
   {
    "duration": 21,
    "start_time": "2025-01-12T09:58:31.765Z"
   },
   {
    "duration": 142,
    "start_time": "2025-01-12T09:58:31.788Z"
   },
   {
    "duration": 30,
    "start_time": "2025-01-12T09:58:31.932Z"
   },
   {
    "duration": 30,
    "start_time": "2025-01-12T09:58:31.964Z"
   },
   {
    "duration": 45,
    "start_time": "2025-01-12T09:58:31.996Z"
   },
   {
    "duration": 17,
    "start_time": "2025-01-12T09:58:32.044Z"
   },
   {
    "duration": 76,
    "start_time": "2025-01-12T09:58:32.063Z"
   },
   {
    "duration": 55,
    "start_time": "2025-01-12T09:58:32.140Z"
   },
   {
    "duration": 117,
    "start_time": "2025-01-12T09:58:32.197Z"
   },
   {
    "duration": 167,
    "start_time": "2025-01-12T09:58:32.315Z"
   },
   {
    "duration": 99,
    "start_time": "2025-01-12T09:58:56.865Z"
   },
   {
    "duration": 110,
    "start_time": "2025-01-12T09:59:29.136Z"
   },
   {
    "duration": 18,
    "start_time": "2025-01-12T09:59:35.432Z"
   },
   {
    "duration": 27,
    "start_time": "2025-01-12T10:00:17.370Z"
   },
   {
    "duration": 114,
    "start_time": "2025-01-12T10:00:52.936Z"
   },
   {
    "duration": 25,
    "start_time": "2025-01-12T10:00:56.917Z"
   },
   {
    "duration": 26,
    "start_time": "2025-01-12T10:01:53.104Z"
   },
   {
    "duration": 26,
    "start_time": "2025-01-12T10:02:17.125Z"
   },
   {
    "duration": 20,
    "start_time": "2025-01-12T10:02:37.267Z"
   },
   {
    "duration": 15,
    "start_time": "2025-01-12T10:02:47.426Z"
   },
   {
    "duration": 72,
    "start_time": "2025-01-12T10:03:32.675Z"
   },
   {
    "duration": 46,
    "start_time": "2025-01-12T10:03:35.151Z"
   },
   {
    "duration": 3852,
    "start_time": "2025-01-12T10:03:55.772Z"
   },
   {
    "duration": 1840,
    "start_time": "2025-01-12T10:03:59.626Z"
   },
   {
    "duration": 22,
    "start_time": "2025-01-12T10:04:01.468Z"
   },
   {
    "duration": 138,
    "start_time": "2025-01-12T10:04:01.492Z"
   },
   {
    "duration": 28,
    "start_time": "2025-01-12T10:04:01.631Z"
   },
   {
    "duration": 24,
    "start_time": "2025-01-12T10:04:01.661Z"
   },
   {
    "duration": 45,
    "start_time": "2025-01-12T10:04:01.686Z"
   },
   {
    "duration": 13,
    "start_time": "2025-01-12T10:04:01.733Z"
   },
   {
    "duration": 47,
    "start_time": "2025-01-12T10:04:01.748Z"
   },
   {
    "duration": 79,
    "start_time": "2025-01-12T10:04:01.797Z"
   },
   {
    "duration": 121,
    "start_time": "2025-01-12T10:04:01.878Z"
   },
   {
    "duration": 41,
    "start_time": "2025-01-12T10:04:02.000Z"
   },
   {
    "duration": 32,
    "start_time": "2025-01-12T10:04:02.043Z"
   },
   {
    "duration": 23,
    "start_time": "2025-01-12T10:04:02.077Z"
   },
   {
    "duration": 40,
    "start_time": "2025-01-12T10:04:02.102Z"
   },
   {
    "duration": 44,
    "start_time": "2025-01-12T10:04:02.143Z"
   },
   {
    "duration": 11,
    "start_time": "2025-01-12T10:06:18.303Z"
   },
   {
    "duration": 14,
    "start_time": "2025-01-12T10:07:18.193Z"
   },
   {
    "duration": 26,
    "start_time": "2025-01-12T10:07:25.957Z"
   },
   {
    "duration": 19,
    "start_time": "2025-01-12T10:07:42.365Z"
   },
   {
    "duration": 22,
    "start_time": "2025-01-12T10:07:42.541Z"
   },
   {
    "duration": 0,
    "start_time": "2025-01-12T10:10:14.210Z"
   },
   {
    "duration": 151,
    "start_time": "2025-01-12T10:10:38.700Z"
   },
   {
    "duration": 169,
    "start_time": "2025-01-12T10:11:07.755Z"
   },
   {
    "duration": 149,
    "start_time": "2025-01-12T10:11:28.446Z"
   },
   {
    "duration": 16,
    "start_time": "2025-01-12T10:12:45.008Z"
   },
   {
    "duration": 14,
    "start_time": "2025-01-12T10:12:49.617Z"
   },
   {
    "duration": 14,
    "start_time": "2025-01-12T10:12:54.195Z"
   },
   {
    "duration": 14,
    "start_time": "2025-01-12T10:12:59.919Z"
   },
   {
    "duration": 18,
    "start_time": "2025-01-12T10:13:17.958Z"
   },
   {
    "duration": 19,
    "start_time": "2025-01-12T10:13:32.391Z"
   },
   {
    "duration": 23,
    "start_time": "2025-01-12T10:13:46.743Z"
   },
   {
    "duration": 21,
    "start_time": "2025-01-12T10:13:53.800Z"
   },
   {
    "duration": 21,
    "start_time": "2025-01-12T10:14:25.531Z"
   },
   {
    "duration": 179,
    "start_time": "2025-01-12T10:15:59.527Z"
   },
   {
    "duration": 256,
    "start_time": "2025-01-12T10:21:18.087Z"
   },
   {
    "duration": 320,
    "start_time": "2025-01-12T10:21:49.496Z"
   },
   {
    "duration": 3871,
    "start_time": "2025-01-12T10:21:52.950Z"
   },
   {
    "duration": 2254,
    "start_time": "2025-01-12T10:21:56.823Z"
   },
   {
    "duration": 21,
    "start_time": "2025-01-12T10:21:59.081Z"
   },
   {
    "duration": 136,
    "start_time": "2025-01-12T10:21:59.104Z"
   },
   {
    "duration": 29,
    "start_time": "2025-01-12T10:21:59.241Z"
   },
   {
    "duration": 22,
    "start_time": "2025-01-12T10:21:59.272Z"
   },
   {
    "duration": 44,
    "start_time": "2025-01-12T10:21:59.296Z"
   },
   {
    "duration": 13,
    "start_time": "2025-01-12T10:21:59.343Z"
   },
   {
    "duration": 46,
    "start_time": "2025-01-12T10:21:59.358Z"
   },
   {
    "duration": 59,
    "start_time": "2025-01-12T10:21:59.430Z"
   },
   {
    "duration": 125,
    "start_time": "2025-01-12T10:21:59.491Z"
   },
   {
    "duration": 33,
    "start_time": "2025-01-12T10:21:59.618Z"
   },
   {
    "duration": 24,
    "start_time": "2025-01-12T10:21:59.654Z"
   },
   {
    "duration": 20,
    "start_time": "2025-01-12T10:21:59.680Z"
   },
   {
    "duration": 16,
    "start_time": "2025-01-12T10:21:59.731Z"
   },
   {
    "duration": 46,
    "start_time": "2025-01-12T10:21:59.749Z"
   },
   {
    "duration": 381,
    "start_time": "2025-01-12T10:21:59.797Z"
   },
   {
    "duration": 274,
    "start_time": "2025-01-12T10:22:00.180Z"
   },
   {
    "duration": 3882,
    "start_time": "2025-01-12T10:23:50.940Z"
   },
   {
    "duration": 1828,
    "start_time": "2025-01-12T10:23:54.824Z"
   },
   {
    "duration": 21,
    "start_time": "2025-01-12T10:23:56.657Z"
   },
   {
    "duration": 141,
    "start_time": "2025-01-12T10:23:56.681Z"
   },
   {
    "duration": 34,
    "start_time": "2025-01-12T10:23:56.824Z"
   },
   {
    "duration": 37,
    "start_time": "2025-01-12T10:23:56.859Z"
   },
   {
    "duration": 68,
    "start_time": "2025-01-12T10:23:56.897Z"
   },
   {
    "duration": 17,
    "start_time": "2025-01-12T10:23:56.967Z"
   },
   {
    "duration": 48,
    "start_time": "2025-01-12T10:23:56.985Z"
   },
   {
    "duration": 56,
    "start_time": "2025-01-12T10:23:57.034Z"
   },
   {
    "duration": 115,
    "start_time": "2025-01-12T10:23:57.091Z"
   },
   {
    "duration": 37,
    "start_time": "2025-01-12T10:23:57.207Z"
   },
   {
    "duration": 37,
    "start_time": "2025-01-12T10:23:57.247Z"
   },
   {
    "duration": 18,
    "start_time": "2025-01-12T10:23:57.286Z"
   },
   {
    "duration": 29,
    "start_time": "2025-01-12T10:23:57.305Z"
   },
   {
    "duration": 49,
    "start_time": "2025-01-12T10:23:57.336Z"
   },
   {
    "duration": 43,
    "start_time": "2025-01-12T10:23:57.387Z"
   },
   {
    "duration": 333,
    "start_time": "2025-01-12T10:23:57.432Z"
   },
   {
    "duration": 241,
    "start_time": "2025-01-12T10:23:57.766Z"
   },
   {
    "duration": 8,
    "start_time": "2025-01-12T10:24:59.762Z"
   },
   {
    "duration": 223,
    "start_time": "2025-01-12T10:25:28.665Z"
   },
   {
    "duration": 203,
    "start_time": "2025-01-12T10:27:32.333Z"
   },
   {
    "duration": 106,
    "start_time": "2025-01-12T10:27:43.858Z"
   },
   {
    "duration": 3940,
    "start_time": "2025-01-12T10:28:24.137Z"
   },
   {
    "duration": 1939,
    "start_time": "2025-01-12T10:28:28.080Z"
   },
   {
    "duration": 24,
    "start_time": "2025-01-12T10:28:30.020Z"
   },
   {
    "duration": 136,
    "start_time": "2025-01-12T10:28:30.046Z"
   },
   {
    "duration": 30,
    "start_time": "2025-01-12T10:28:30.184Z"
   },
   {
    "duration": 25,
    "start_time": "2025-01-12T10:28:30.229Z"
   },
   {
    "duration": 24,
    "start_time": "2025-01-12T10:28:30.256Z"
   },
   {
    "duration": 13,
    "start_time": "2025-01-12T10:28:30.281Z"
   },
   {
    "duration": 75,
    "start_time": "2025-01-12T10:28:30.296Z"
   },
   {
    "duration": 66,
    "start_time": "2025-01-12T10:28:30.372Z"
   },
   {
    "duration": 111,
    "start_time": "2025-01-12T10:28:30.440Z"
   },
   {
    "duration": 27,
    "start_time": "2025-01-12T10:28:30.553Z"
   },
   {
    "duration": 99,
    "start_time": "2025-01-12T10:28:30.582Z"
   },
   {
    "duration": 17,
    "start_time": "2025-01-12T10:28:30.683Z"
   },
   {
    "duration": 13,
    "start_time": "2025-01-12T10:28:30.702Z"
   },
   {
    "duration": 44,
    "start_time": "2025-01-12T10:28:30.716Z"
   },
   {
    "duration": 40,
    "start_time": "2025-01-12T10:28:30.761Z"
   },
   {
    "duration": 308,
    "start_time": "2025-01-12T10:28:30.803Z"
   },
   {
    "duration": 258,
    "start_time": "2025-01-12T10:28:31.113Z"
   },
   {
    "duration": 1501,
    "start_time": "2025-01-12T10:32:22.113Z"
   },
   {
    "duration": 1448,
    "start_time": "2025-01-12T10:32:30.938Z"
   },
   {
    "duration": 22,
    "start_time": "2025-01-12T10:32:44.336Z"
   },
   {
    "duration": 32,
    "start_time": "2025-01-12T10:44:33.818Z"
   },
   {
    "duration": 23,
    "start_time": "2025-01-12T10:45:05.773Z"
   },
   {
    "duration": 30,
    "start_time": "2025-01-12T10:45:25.079Z"
   },
   {
    "duration": 26,
    "start_time": "2025-01-12T10:45:27.866Z"
   },
   {
    "duration": 23,
    "start_time": "2025-01-12T10:45:48.346Z"
   },
   {
    "duration": 176,
    "start_time": "2025-01-12T10:46:18.155Z"
   },
   {
    "duration": 158,
    "start_time": "2025-01-12T10:46:51.225Z"
   },
   {
    "duration": 165,
    "start_time": "2025-01-12T10:46:56.884Z"
   },
   {
    "duration": 166,
    "start_time": "2025-01-12T10:47:03.310Z"
   },
   {
    "duration": 166,
    "start_time": "2025-01-12T10:47:08.582Z"
   },
   {
    "duration": 232,
    "start_time": "2025-01-12T10:47:19.380Z"
   },
   {
    "duration": 172,
    "start_time": "2025-01-12T10:47:26.024Z"
   },
   {
    "duration": 165,
    "start_time": "2025-01-12T10:48:28.113Z"
   },
   {
    "duration": 161,
    "start_time": "2025-01-12T10:48:59.399Z"
   },
   {
    "duration": 94,
    "start_time": "2025-01-12T10:49:18.837Z"
   },
   {
    "duration": 167,
    "start_time": "2025-01-12T10:49:21.030Z"
   },
   {
    "duration": 119,
    "start_time": "2025-01-12T10:50:06.477Z"
   },
   {
    "duration": 84,
    "start_time": "2025-01-12T10:50:26.307Z"
   },
   {
    "duration": 88,
    "start_time": "2025-01-12T10:50:43.010Z"
   },
   {
    "duration": 87,
    "start_time": "2025-01-12T10:50:51.931Z"
   },
   {
    "duration": 160,
    "start_time": "2025-01-12T10:50:54.092Z"
   },
   {
    "duration": 82,
    "start_time": "2025-01-12T10:51:17.850Z"
   },
   {
    "duration": 88,
    "start_time": "2025-01-12T10:51:25.336Z"
   },
   {
    "duration": 179,
    "start_time": "2025-01-12T10:51:42.329Z"
   },
   {
    "duration": 82,
    "start_time": "2025-01-12T10:51:54.511Z"
   },
   {
    "duration": 91,
    "start_time": "2025-01-12T10:52:01.472Z"
   },
   {
    "duration": 87,
    "start_time": "2025-01-12T10:52:15.497Z"
   },
   {
    "duration": 168,
    "start_time": "2025-01-12T10:52:29.497Z"
   },
   {
    "duration": 254,
    "start_time": "2025-01-12T10:52:46.829Z"
   },
   {
    "duration": 164,
    "start_time": "2025-01-12T10:52:49.062Z"
   },
   {
    "duration": 165,
    "start_time": "2025-01-12T10:53:03.087Z"
   },
   {
    "duration": 150,
    "start_time": "2025-01-12T10:53:21.100Z"
   },
   {
    "duration": 154,
    "start_time": "2025-01-12T10:54:00.579Z"
   },
   {
    "duration": 168,
    "start_time": "2025-01-12T10:54:52.365Z"
   },
   {
    "duration": 158,
    "start_time": "2025-01-12T10:58:18.403Z"
   },
   {
    "duration": 153,
    "start_time": "2025-01-12T10:58:37.255Z"
   },
   {
    "duration": 169,
    "start_time": "2025-01-12T10:58:50.337Z"
   },
   {
    "duration": 3921,
    "start_time": "2025-01-12T10:58:54.000Z"
   },
   {
    "duration": 2073,
    "start_time": "2025-01-12T10:58:57.923Z"
   },
   {
    "duration": 37,
    "start_time": "2025-01-12T10:58:59.998Z"
   },
   {
    "duration": 163,
    "start_time": "2025-01-12T10:59:00.037Z"
   },
   {
    "duration": 43,
    "start_time": "2025-01-12T10:59:00.203Z"
   },
   {
    "duration": 25,
    "start_time": "2025-01-12T10:59:00.248Z"
   },
   {
    "duration": 42,
    "start_time": "2025-01-12T10:59:00.275Z"
   },
   {
    "duration": 22,
    "start_time": "2025-01-12T10:59:00.319Z"
   },
   {
    "duration": 45,
    "start_time": "2025-01-12T10:59:00.344Z"
   },
   {
    "duration": 80,
    "start_time": "2025-01-12T10:59:00.391Z"
   },
   {
    "duration": 114,
    "start_time": "2025-01-12T10:59:00.472Z"
   },
   {
    "duration": 42,
    "start_time": "2025-01-12T10:59:00.588Z"
   },
   {
    "duration": 82,
    "start_time": "2025-01-12T10:59:00.631Z"
   },
   {
    "duration": 135,
    "start_time": "2025-01-12T10:59:00.715Z"
   },
   {
    "duration": 14,
    "start_time": "2025-01-12T10:59:00.851Z"
   },
   {
    "duration": 59,
    "start_time": "2025-01-12T10:59:00.867Z"
   },
   {
    "duration": 40,
    "start_time": "2025-01-12T10:59:00.928Z"
   },
   {
    "duration": 311,
    "start_time": "2025-01-12T10:59:00.970Z"
   },
   {
    "duration": 255,
    "start_time": "2025-01-12T10:59:01.282Z"
   },
   {
    "duration": 197,
    "start_time": "2025-01-12T10:59:01.538Z"
   },
   {
    "duration": 106,
    "start_time": "2025-01-12T11:00:44.655Z"
   },
   {
    "duration": 1448,
    "start_time": "2025-01-12T11:08:11.151Z"
   },
   {
    "duration": 1523,
    "start_time": "2025-01-12T11:08:48.888Z"
   },
   {
    "duration": 108,
    "start_time": "2025-01-12T11:08:52.793Z"
   },
   {
    "duration": 4,
    "start_time": "2025-01-12T11:16:29.093Z"
   },
   {
    "duration": 3862,
    "start_time": "2025-01-12T11:16:32.765Z"
   },
   {
    "duration": 2241,
    "start_time": "2025-01-12T11:16:36.629Z"
   },
   {
    "duration": 22,
    "start_time": "2025-01-12T11:16:38.872Z"
   },
   {
    "duration": 137,
    "start_time": "2025-01-12T11:16:38.896Z"
   },
   {
    "duration": 27,
    "start_time": "2025-01-12T11:16:39.035Z"
   },
   {
    "duration": 119,
    "start_time": "2025-01-12T11:16:39.063Z"
   },
   {
    "duration": 19,
    "start_time": "2025-01-12T11:16:39.183Z"
   },
   {
    "duration": 13,
    "start_time": "2025-01-12T11:16:39.203Z"
   },
   {
    "duration": 47,
    "start_time": "2025-01-12T11:16:39.217Z"
   },
   {
    "duration": 3,
    "start_time": "2025-01-12T11:16:39.265Z"
   },
   {
    "duration": 61,
    "start_time": "2025-01-12T11:16:39.270Z"
   },
   {
    "duration": 110,
    "start_time": "2025-01-12T11:16:39.332Z"
   },
   {
    "duration": 29,
    "start_time": "2025-01-12T11:16:39.443Z"
   },
   {
    "duration": 24,
    "start_time": "2025-01-12T11:16:39.474Z"
   },
   {
    "duration": 44,
    "start_time": "2025-01-12T11:16:39.500Z"
   },
   {
    "duration": 14,
    "start_time": "2025-01-12T11:16:39.545Z"
   },
   {
    "duration": 44,
    "start_time": "2025-01-12T11:16:39.561Z"
   },
   {
    "duration": 39,
    "start_time": "2025-01-12T11:16:39.631Z"
   },
   {
    "duration": 314,
    "start_time": "2025-01-12T11:16:39.672Z"
   },
   {
    "duration": 1592,
    "start_time": "2025-01-12T11:16:39.988Z"
   },
   {
    "duration": 0,
    "start_time": "2025-01-12T11:16:41.583Z"
   },
   {
    "duration": 0,
    "start_time": "2025-01-12T11:16:41.584Z"
   },
   {
    "duration": 3777,
    "start_time": "2025-01-12T11:17:13.039Z"
   },
   {
    "duration": 1940,
    "start_time": "2025-01-12T11:17:16.818Z"
   },
   {
    "duration": 20,
    "start_time": "2025-01-12T11:17:18.760Z"
   },
   {
    "duration": 137,
    "start_time": "2025-01-12T11:17:18.782Z"
   },
   {
    "duration": 33,
    "start_time": "2025-01-12T11:17:18.921Z"
   },
   {
    "duration": 23,
    "start_time": "2025-01-12T11:17:18.955Z"
   },
   {
    "duration": 21,
    "start_time": "2025-01-12T11:17:18.980Z"
   },
   {
    "duration": 12,
    "start_time": "2025-01-12T11:17:19.030Z"
   },
   {
    "duration": 44,
    "start_time": "2025-01-12T11:17:19.044Z"
   },
   {
    "duration": 4,
    "start_time": "2025-01-12T11:17:19.090Z"
   },
   {
    "duration": 98,
    "start_time": "2025-01-12T11:17:19.095Z"
   },
   {
    "duration": 98,
    "start_time": "2025-01-12T11:17:19.195Z"
   },
   {
    "duration": 36,
    "start_time": "2025-01-12T11:17:19.295Z"
   },
   {
    "duration": 25,
    "start_time": "2025-01-12T11:17:19.333Z"
   },
   {
    "duration": 17,
    "start_time": "2025-01-12T11:17:19.359Z"
   },
   {
    "duration": 15,
    "start_time": "2025-01-12T11:17:19.377Z"
   },
   {
    "duration": 76,
    "start_time": "2025-01-12T11:17:19.393Z"
   },
   {
    "duration": 38,
    "start_time": "2025-01-12T11:17:19.470Z"
   },
   {
    "duration": 308,
    "start_time": "2025-01-12T11:17:19.510Z"
   },
   {
    "duration": 247,
    "start_time": "2025-01-12T11:17:19.820Z"
   },
   {
    "duration": 183,
    "start_time": "2025-01-12T11:17:20.069Z"
   },
   {
    "duration": 108,
    "start_time": "2025-01-12T11:17:20.254Z"
   },
   {
    "duration": 117,
    "start_time": "2025-01-12T11:46:58.814Z"
   },
   {
    "duration": 3943,
    "start_time": "2025-01-12T11:47:41.091Z"
   },
   {
    "duration": 2495,
    "start_time": "2025-01-12T11:47:45.036Z"
   },
   {
    "duration": 21,
    "start_time": "2025-01-12T11:47:47.533Z"
   },
   {
    "duration": 139,
    "start_time": "2025-01-12T11:47:47.555Z"
   },
   {
    "duration": 35,
    "start_time": "2025-01-12T11:47:47.697Z"
   },
   {
    "duration": 24,
    "start_time": "2025-01-12T11:47:47.733Z"
   },
   {
    "duration": 19,
    "start_time": "2025-01-12T11:47:47.758Z"
   },
   {
    "duration": 13,
    "start_time": "2025-01-12T11:47:47.778Z"
   },
   {
    "duration": 78,
    "start_time": "2025-01-12T11:47:47.793Z"
   },
   {
    "duration": 4,
    "start_time": "2025-01-12T11:47:47.873Z"
   },
   {
    "duration": 72,
    "start_time": "2025-01-12T11:47:47.879Z"
   },
   {
    "duration": 118,
    "start_time": "2025-01-12T11:47:47.953Z"
   },
   {
    "duration": 31,
    "start_time": "2025-01-12T11:47:48.074Z"
   },
   {
    "duration": 44,
    "start_time": "2025-01-12T11:47:48.109Z"
   },
   {
    "duration": 19,
    "start_time": "2025-01-12T11:47:48.155Z"
   },
   {
    "duration": 14,
    "start_time": "2025-01-12T11:47:48.175Z"
   },
   {
    "duration": 77,
    "start_time": "2025-01-12T11:47:48.191Z"
   },
   {
    "duration": 40,
    "start_time": "2025-01-12T11:47:48.270Z"
   },
   {
    "duration": 326,
    "start_time": "2025-01-12T11:47:48.311Z"
   },
   {
    "duration": 252,
    "start_time": "2025-01-12T11:47:48.638Z"
   },
   {
    "duration": 182,
    "start_time": "2025-01-12T11:47:48.892Z"
   },
   {
    "duration": 165,
    "start_time": "2025-01-12T11:47:49.075Z"
   },
   {
    "duration": 161,
    "start_time": "2025-01-12T11:50:18.147Z"
   },
   {
    "duration": 162,
    "start_time": "2025-01-12T11:50:57.773Z"
   },
   {
    "duration": 171,
    "start_time": "2025-01-12T11:51:08.038Z"
   },
   {
    "duration": 160,
    "start_time": "2025-01-12T11:51:50.695Z"
   },
   {
    "duration": 184,
    "start_time": "2025-01-12T11:51:55.037Z"
   },
   {
    "duration": 157,
    "start_time": "2025-01-12T11:51:58.401Z"
   },
   {
    "duration": 114,
    "start_time": "2025-01-12T11:55:59.550Z"
   },
   {
    "duration": 194,
    "start_time": "2025-01-12T11:56:02.459Z"
   },
   {
    "duration": 186,
    "start_time": "2025-01-12T11:56:51.410Z"
   },
   {
    "duration": 271,
    "start_time": "2025-01-12T11:57:53.442Z"
   },
   {
    "duration": 176,
    "start_time": "2025-01-12T11:57:57.915Z"
   },
   {
    "duration": 244,
    "start_time": "2025-01-12T12:00:02.994Z"
   },
   {
    "duration": 186,
    "start_time": "2025-01-12T12:00:15.826Z"
   },
   {
    "duration": 204,
    "start_time": "2025-01-12T12:01:14.049Z"
   },
   {
    "duration": 203,
    "start_time": "2025-01-12T12:01:20.604Z"
   },
   {
    "duration": 187,
    "start_time": "2025-01-12T12:01:36.548Z"
   },
   {
    "duration": 178,
    "start_time": "2025-01-12T12:01:56.079Z"
   },
   {
    "duration": 199,
    "start_time": "2025-01-12T12:02:05.054Z"
   },
   {
    "duration": 188,
    "start_time": "2025-01-12T12:02:13.916Z"
   },
   {
    "duration": 197,
    "start_time": "2025-01-12T12:02:22.499Z"
   },
   {
    "duration": 189,
    "start_time": "2025-01-12T12:02:25.806Z"
   },
   {
    "duration": 184,
    "start_time": "2025-01-12T12:02:29.469Z"
   },
   {
    "duration": 85,
    "start_time": "2025-01-12T12:02:36.939Z"
   },
   {
    "duration": 110,
    "start_time": "2025-01-12T12:02:44.614Z"
   },
   {
    "duration": 86,
    "start_time": "2025-01-12T12:02:47.088Z"
   },
   {
    "duration": 186,
    "start_time": "2025-01-12T12:02:49.968Z"
   },
   {
    "duration": 202,
    "start_time": "2025-01-12T12:03:04.443Z"
   },
   {
    "duration": 187,
    "start_time": "2025-01-12T12:03:09.394Z"
   },
   {
    "duration": 171,
    "start_time": "2025-01-12T12:03:18.476Z"
   },
   {
    "duration": 190,
    "start_time": "2025-01-12T12:03:20.598Z"
   },
   {
    "duration": 183,
    "start_time": "2025-01-12T12:03:24.439Z"
   },
   {
    "duration": 192,
    "start_time": "2025-01-12T12:03:27.031Z"
   },
   {
    "duration": 189,
    "start_time": "2025-01-12T12:03:29.681Z"
   },
   {
    "duration": 185,
    "start_time": "2025-01-12T12:03:58.311Z"
   },
   {
    "duration": 193,
    "start_time": "2025-01-12T12:04:01.192Z"
   },
   {
    "duration": 188,
    "start_time": "2025-01-12T12:04:03.967Z"
   },
   {
    "duration": 196,
    "start_time": "2025-01-12T12:04:06.054Z"
   },
   {
    "duration": 192,
    "start_time": "2025-01-12T12:04:08.107Z"
   },
   {
    "duration": 193,
    "start_time": "2025-01-12T12:04:10.839Z"
   },
   {
    "duration": 186,
    "start_time": "2025-01-12T12:04:13.053Z"
   },
   {
    "duration": 180,
    "start_time": "2025-01-12T12:04:18.638Z"
   },
   {
    "duration": 196,
    "start_time": "2025-01-12T12:04:21.965Z"
   },
   {
    "duration": 179,
    "start_time": "2025-01-12T12:04:24.618Z"
   },
   {
    "duration": 179,
    "start_time": "2025-01-12T12:04:27.561Z"
   },
   {
    "duration": 182,
    "start_time": "2025-01-12T12:04:29.622Z"
   },
   {
    "duration": 187,
    "start_time": "2025-01-12T12:04:33.762Z"
   },
   {
    "duration": 180,
    "start_time": "2025-01-12T12:04:37.274Z"
   },
   {
    "duration": 172,
    "start_time": "2025-01-12T12:05:14.517Z"
   },
   {
    "duration": 45,
    "start_time": "2025-01-12T12:47:00.710Z"
   },
   {
    "duration": 44,
    "start_time": "2025-01-12T12:47:45.163Z"
   },
   {
    "duration": 92,
    "start_time": "2025-01-12T12:48:17.483Z"
   },
   {
    "duration": 135,
    "start_time": "2025-01-12T12:49:38.163Z"
   },
   {
    "duration": 142,
    "start_time": "2025-01-12T12:50:27.432Z"
   },
   {
    "duration": 45,
    "start_time": "2025-01-12T12:53:18.652Z"
   },
   {
    "duration": 47,
    "start_time": "2025-01-12T12:53:31.407Z"
   },
   {
    "duration": 44,
    "start_time": "2025-01-12T12:53:38.195Z"
   },
   {
    "duration": 123,
    "start_time": "2025-01-12T12:53:42.983Z"
   },
   {
    "duration": 99,
    "start_time": "2025-01-12T12:53:50.160Z"
   },
   {
    "duration": 254,
    "start_time": "2025-01-12T13:07:38.038Z"
   },
   {
    "duration": 248,
    "start_time": "2025-01-12T13:08:22.299Z"
   },
   {
    "duration": 241,
    "start_time": "2025-01-12T13:08:26.202Z"
   },
   {
    "duration": 302,
    "start_time": "2025-01-12T13:10:59.348Z"
   },
   {
    "duration": 264,
    "start_time": "2025-01-12T13:12:02.955Z"
   },
   {
    "duration": 258,
    "start_time": "2025-01-12T13:12:18.594Z"
   },
   {
    "duration": 181,
    "start_time": "2025-01-12T13:14:52.057Z"
   },
   {
    "duration": 172,
    "start_time": "2025-01-12T13:14:59.593Z"
   },
   {
    "duration": 192,
    "start_time": "2025-01-12T13:15:05.629Z"
   },
   {
    "duration": 175,
    "start_time": "2025-01-12T13:15:16.426Z"
   },
   {
    "duration": 175,
    "start_time": "2025-01-12T13:15:19.312Z"
   },
   {
    "duration": 191,
    "start_time": "2025-01-12T13:15:26.020Z"
   },
   {
    "duration": 169,
    "start_time": "2025-01-12T13:15:27.797Z"
   },
   {
    "duration": 181,
    "start_time": "2025-01-12T13:15:30.953Z"
   },
   {
    "duration": 3874,
    "start_time": "2025-01-12T13:15:34.170Z"
   },
   {
    "duration": 2439,
    "start_time": "2025-01-12T13:15:38.046Z"
   },
   {
    "duration": 20,
    "start_time": "2025-01-12T13:15:40.487Z"
   },
   {
    "duration": 129,
    "start_time": "2025-01-12T13:15:40.509Z"
   },
   {
    "duration": 28,
    "start_time": "2025-01-12T13:15:40.639Z"
   },
   {
    "duration": 23,
    "start_time": "2025-01-12T13:15:40.669Z"
   },
   {
    "duration": 45,
    "start_time": "2025-01-12T13:15:40.694Z"
   },
   {
    "duration": 14,
    "start_time": "2025-01-12T13:15:40.741Z"
   },
   {
    "duration": 47,
    "start_time": "2025-01-12T13:15:40.756Z"
   },
   {
    "duration": 26,
    "start_time": "2025-01-12T13:15:40.805Z"
   },
   {
    "duration": 84,
    "start_time": "2025-01-12T13:15:40.833Z"
   },
   {
    "duration": 100,
    "start_time": "2025-01-12T13:15:40.918Z"
   },
   {
    "duration": 36,
    "start_time": "2025-01-12T13:15:41.020Z"
   },
   {
    "duration": 23,
    "start_time": "2025-01-12T13:15:41.058Z"
   },
   {
    "duration": 16,
    "start_time": "2025-01-12T13:15:41.083Z"
   },
   {
    "duration": 15,
    "start_time": "2025-01-12T13:15:41.130Z"
   },
   {
    "duration": 97,
    "start_time": "2025-01-12T13:15:41.146Z"
   },
   {
    "duration": 39,
    "start_time": "2025-01-12T13:15:41.244Z"
   },
   {
    "duration": 326,
    "start_time": "2025-01-12T13:15:41.285Z"
   },
   {
    "duration": 254,
    "start_time": "2025-01-12T13:15:41.613Z"
   },
   {
    "duration": 219,
    "start_time": "2025-01-12T13:15:41.869Z"
   },
   {
    "duration": 309,
    "start_time": "2025-01-12T13:15:42.089Z"
   },
   {
    "duration": 0,
    "start_time": "2025-01-12T13:15:42.400Z"
   },
   {
    "duration": 0,
    "start_time": "2025-01-12T13:15:42.401Z"
   },
   {
    "duration": 203,
    "start_time": "2025-01-12T13:16:06.867Z"
   },
   {
    "duration": 158,
    "start_time": "2025-01-12T13:17:58.700Z"
   },
   {
    "duration": 3893,
    "start_time": "2025-01-12T13:23:09.230Z"
   },
   {
    "duration": 2167,
    "start_time": "2025-01-12T13:23:13.125Z"
   },
   {
    "duration": 22,
    "start_time": "2025-01-12T13:23:15.294Z"
   },
   {
    "duration": 151,
    "start_time": "2025-01-12T13:23:15.318Z"
   },
   {
    "duration": 30,
    "start_time": "2025-01-12T13:23:15.472Z"
   },
   {
    "duration": 110,
    "start_time": "2025-01-12T13:23:15.504Z"
   },
   {
    "duration": 22,
    "start_time": "2025-01-12T13:23:15.616Z"
   },
   {
    "duration": 13,
    "start_time": "2025-01-12T13:23:15.641Z"
   },
   {
    "duration": 44,
    "start_time": "2025-01-12T13:23:15.656Z"
   },
   {
    "duration": 3,
    "start_time": "2025-01-12T13:23:15.702Z"
   },
   {
    "duration": 130,
    "start_time": "2025-01-12T13:23:15.707Z"
   },
   {
    "duration": 0,
    "start_time": "2025-01-12T13:23:15.839Z"
   },
   {
    "duration": 0,
    "start_time": "2025-01-12T13:23:15.840Z"
   },
   {
    "duration": 0,
    "start_time": "2025-01-12T13:23:15.842Z"
   },
   {
    "duration": 0,
    "start_time": "2025-01-12T13:23:15.843Z"
   },
   {
    "duration": 0,
    "start_time": "2025-01-12T13:23:15.844Z"
   },
   {
    "duration": 0,
    "start_time": "2025-01-12T13:23:15.845Z"
   },
   {
    "duration": 0,
    "start_time": "2025-01-12T13:23:15.847Z"
   },
   {
    "duration": 0,
    "start_time": "2025-01-12T13:23:15.848Z"
   },
   {
    "duration": 0,
    "start_time": "2025-01-12T13:23:15.849Z"
   },
   {
    "duration": 0,
    "start_time": "2025-01-12T13:23:15.850Z"
   },
   {
    "duration": 0,
    "start_time": "2025-01-12T13:23:15.851Z"
   },
   {
    "duration": 0,
    "start_time": "2025-01-12T13:23:15.853Z"
   },
   {
    "duration": 1,
    "start_time": "2025-01-12T13:23:15.853Z"
   },
   {
    "duration": 4641,
    "start_time": "2025-01-12T13:24:14.515Z"
   },
   {
    "duration": 2065,
    "start_time": "2025-01-12T13:24:19.158Z"
   },
   {
    "duration": 19,
    "start_time": "2025-01-12T13:24:21.225Z"
   },
   {
    "duration": 125,
    "start_time": "2025-01-12T13:24:21.246Z"
   },
   {
    "duration": 29,
    "start_time": "2025-01-12T13:24:21.374Z"
   },
   {
    "duration": 41,
    "start_time": "2025-01-12T13:24:21.404Z"
   },
   {
    "duration": 23,
    "start_time": "2025-01-12T13:24:21.448Z"
   },
   {
    "duration": 104,
    "start_time": "2025-01-12T13:24:21.473Z"
   },
   {
    "duration": 46,
    "start_time": "2025-01-12T13:24:21.579Z"
   },
   {
    "duration": 3,
    "start_time": "2025-01-12T13:24:21.627Z"
   },
   {
    "duration": 54,
    "start_time": "2025-01-12T13:24:21.632Z"
   },
   {
    "duration": 116,
    "start_time": "2025-01-12T13:24:21.688Z"
   },
   {
    "duration": 36,
    "start_time": "2025-01-12T13:24:21.806Z"
   },
   {
    "duration": 24,
    "start_time": "2025-01-12T13:24:21.844Z"
   },
   {
    "duration": 17,
    "start_time": "2025-01-12T13:24:21.870Z"
   },
   {
    "duration": 42,
    "start_time": "2025-01-12T13:24:21.889Z"
   },
   {
    "duration": 48,
    "start_time": "2025-01-12T13:24:21.933Z"
   },
   {
    "duration": 64,
    "start_time": "2025-01-12T13:24:21.983Z"
   },
   {
    "duration": 309,
    "start_time": "2025-01-12T13:24:22.048Z"
   },
   {
    "duration": 255,
    "start_time": "2025-01-12T13:24:22.358Z"
   },
   {
    "duration": 174,
    "start_time": "2025-01-12T13:24:22.615Z"
   },
   {
    "duration": 233,
    "start_time": "2025-01-12T13:24:22.791Z"
   },
   {
    "duration": 152,
    "start_time": "2025-01-12T13:24:23.026Z"
   },
   {
    "duration": 270,
    "start_time": "2025-01-12T13:24:23.180Z"
   },
   {
    "duration": 190,
    "start_time": "2025-01-12T13:24:53.496Z"
   },
   {
    "duration": 87,
    "start_time": "2025-01-12T13:26:01.139Z"
   },
   {
    "duration": 83,
    "start_time": "2025-01-12T13:26:34.909Z"
   },
   {
    "duration": 146,
    "start_time": "2025-01-12T13:26:52.515Z"
   },
   {
    "duration": 3889,
    "start_time": "2025-01-12T13:27:47.249Z"
   },
   {
    "duration": 1790,
    "start_time": "2025-01-12T13:27:51.140Z"
   },
   {
    "duration": 21,
    "start_time": "2025-01-12T13:27:52.931Z"
   },
   {
    "duration": 131,
    "start_time": "2025-01-12T13:27:52.954Z"
   },
   {
    "duration": 28,
    "start_time": "2025-01-12T13:27:53.088Z"
   },
   {
    "duration": 24,
    "start_time": "2025-01-12T13:27:53.130Z"
   },
   {
    "duration": 98,
    "start_time": "2025-01-12T13:27:53.156Z"
   },
   {
    "duration": 17,
    "start_time": "2025-01-12T13:27:53.255Z"
   },
   {
    "duration": 45,
    "start_time": "2025-01-12T13:27:53.274Z"
   },
   {
    "duration": 12,
    "start_time": "2025-01-12T13:27:53.321Z"
   },
   {
    "duration": 59,
    "start_time": "2025-01-12T13:27:53.335Z"
   },
   {
    "duration": 115,
    "start_time": "2025-01-12T13:27:53.396Z"
   },
   {
    "duration": 31,
    "start_time": "2025-01-12T13:27:53.512Z"
   },
   {
    "duration": 63,
    "start_time": "2025-01-12T13:27:53.545Z"
   },
   {
    "duration": 17,
    "start_time": "2025-01-12T13:27:53.609Z"
   },
   {
    "duration": 14,
    "start_time": "2025-01-12T13:27:53.627Z"
   },
   {
    "duration": 52,
    "start_time": "2025-01-12T13:27:53.643Z"
   },
   {
    "duration": 44,
    "start_time": "2025-01-12T13:27:53.697Z"
   },
   {
    "duration": 316,
    "start_time": "2025-01-12T13:27:53.743Z"
   },
   {
    "duration": 259,
    "start_time": "2025-01-12T13:27:54.062Z"
   },
   {
    "duration": 94,
    "start_time": "2025-01-12T13:27:54.323Z"
   },
   {
    "duration": 0,
    "start_time": "2025-01-12T13:27:54.419Z"
   },
   {
    "duration": 0,
    "start_time": "2025-01-12T13:27:54.420Z"
   },
   {
    "duration": 0,
    "start_time": "2025-01-12T13:27:54.421Z"
   },
   {
    "duration": 3809,
    "start_time": "2025-01-12T13:28:59.535Z"
   },
   {
    "duration": 1956,
    "start_time": "2025-01-12T13:29:03.346Z"
   },
   {
    "duration": 26,
    "start_time": "2025-01-12T13:29:05.304Z"
   },
   {
    "duration": 121,
    "start_time": "2025-01-12T13:29:05.331Z"
   },
   {
    "duration": 29,
    "start_time": "2025-01-12T13:29:05.455Z"
   },
   {
    "duration": 29,
    "start_time": "2025-01-12T13:29:05.486Z"
   },
   {
    "duration": 32,
    "start_time": "2025-01-12T13:29:05.516Z"
   },
   {
    "duration": 12,
    "start_time": "2025-01-12T13:29:05.550Z"
   },
   {
    "duration": 69,
    "start_time": "2025-01-12T13:29:05.564Z"
   },
   {
    "duration": 3,
    "start_time": "2025-01-12T13:29:05.635Z"
   },
   {
    "duration": 53,
    "start_time": "2025-01-12T13:29:05.640Z"
   },
   {
    "duration": 122,
    "start_time": "2025-01-12T13:29:05.695Z"
   },
   {
    "duration": 38,
    "start_time": "2025-01-12T13:29:05.819Z"
   },
   {
    "duration": 26,
    "start_time": "2025-01-12T13:29:05.859Z"
   },
   {
    "duration": 19,
    "start_time": "2025-01-12T13:29:05.886Z"
   },
   {
    "duration": 20,
    "start_time": "2025-01-12T13:29:05.930Z"
   },
   {
    "duration": 44,
    "start_time": "2025-01-12T13:29:05.951Z"
   },
   {
    "duration": 73,
    "start_time": "2025-01-12T13:29:05.997Z"
   },
   {
    "duration": 316,
    "start_time": "2025-01-12T13:29:06.072Z"
   },
   {
    "duration": 263,
    "start_time": "2025-01-12T13:29:06.390Z"
   },
   {
    "duration": 211,
    "start_time": "2025-01-12T13:29:06.654Z"
   },
   {
    "duration": 0,
    "start_time": "2025-01-12T13:29:06.866Z"
   },
   {
    "duration": 0,
    "start_time": "2025-01-12T13:29:06.868Z"
   },
   {
    "duration": 0,
    "start_time": "2025-01-12T13:29:06.869Z"
   },
   {
    "duration": 173,
    "start_time": "2025-01-12T13:29:59.401Z"
   },
   {
    "duration": 3929,
    "start_time": "2025-01-12T13:30:06.325Z"
   },
   {
    "duration": 2181,
    "start_time": "2025-01-12T13:30:10.256Z"
   },
   {
    "duration": 22,
    "start_time": "2025-01-12T13:30:12.439Z"
   },
   {
    "duration": 132,
    "start_time": "2025-01-12T13:30:12.463Z"
   },
   {
    "duration": 41,
    "start_time": "2025-01-12T13:30:12.596Z"
   },
   {
    "duration": 23,
    "start_time": "2025-01-12T13:30:12.639Z"
   },
   {
    "duration": 19,
    "start_time": "2025-01-12T13:30:12.663Z"
   },
   {
    "duration": 13,
    "start_time": "2025-01-12T13:30:12.683Z"
   },
   {
    "duration": 74,
    "start_time": "2025-01-12T13:30:12.698Z"
   },
   {
    "duration": 4,
    "start_time": "2025-01-12T13:30:12.774Z"
   },
   {
    "duration": 70,
    "start_time": "2025-01-12T13:30:12.779Z"
   },
   {
    "duration": 113,
    "start_time": "2025-01-12T13:30:12.851Z"
   },
   {
    "duration": 28,
    "start_time": "2025-01-12T13:30:12.965Z"
   },
   {
    "duration": 44,
    "start_time": "2025-01-12T13:30:12.994Z"
   },
   {
    "duration": 17,
    "start_time": "2025-01-12T13:30:13.040Z"
   },
   {
    "duration": 14,
    "start_time": "2025-01-12T13:30:13.058Z"
   },
   {
    "duration": 69,
    "start_time": "2025-01-12T13:30:13.074Z"
   },
   {
    "duration": 38,
    "start_time": "2025-01-12T13:30:13.144Z"
   },
   {
    "duration": 359,
    "start_time": "2025-01-12T13:30:13.184Z"
   },
   {
    "duration": 251,
    "start_time": "2025-01-12T13:30:13.545Z"
   },
   {
    "duration": 193,
    "start_time": "2025-01-12T13:30:13.798Z"
   },
   {
    "duration": 212,
    "start_time": "2025-01-12T13:30:13.993Z"
   },
   {
    "duration": 146,
    "start_time": "2025-01-12T13:30:14.207Z"
   },
   {
    "duration": 268,
    "start_time": "2025-01-12T13:30:14.355Z"
   },
   {
    "duration": 3883,
    "start_time": "2025-01-12T13:31:49.879Z"
   },
   {
    "duration": 1911,
    "start_time": "2025-01-12T13:31:53.764Z"
   },
   {
    "duration": 21,
    "start_time": "2025-01-12T13:31:55.677Z"
   },
   {
    "duration": 131,
    "start_time": "2025-01-12T13:31:55.701Z"
   },
   {
    "duration": 32,
    "start_time": "2025-01-12T13:31:55.834Z"
   },
   {
    "duration": 26,
    "start_time": "2025-01-12T13:31:55.868Z"
   },
   {
    "duration": 49,
    "start_time": "2025-01-12T13:31:55.896Z"
   },
   {
    "duration": 13,
    "start_time": "2025-01-12T13:31:55.947Z"
   },
   {
    "duration": 70,
    "start_time": "2025-01-12T13:31:55.962Z"
   },
   {
    "duration": 4,
    "start_time": "2025-01-12T13:31:56.036Z"
   },
   {
    "duration": 93,
    "start_time": "2025-01-12T13:31:56.042Z"
   },
   {
    "duration": 116,
    "start_time": "2025-01-12T13:31:56.137Z"
   },
   {
    "duration": 30,
    "start_time": "2025-01-12T13:31:56.255Z"
   },
   {
    "duration": 46,
    "start_time": "2025-01-12T13:31:56.287Z"
   },
   {
    "duration": 20,
    "start_time": "2025-01-12T13:31:56.335Z"
   },
   {
    "duration": 15,
    "start_time": "2025-01-12T13:31:56.357Z"
   },
   {
    "duration": 73,
    "start_time": "2025-01-12T13:31:56.374Z"
   },
   {
    "duration": 39,
    "start_time": "2025-01-12T13:31:56.448Z"
   },
   {
    "duration": 318,
    "start_time": "2025-01-12T13:31:56.489Z"
   },
   {
    "duration": 266,
    "start_time": "2025-01-12T13:31:56.808Z"
   },
   {
    "duration": 201,
    "start_time": "2025-01-12T13:31:57.075Z"
   },
   {
    "duration": 215,
    "start_time": "2025-01-12T13:31:57.278Z"
   },
   {
    "duration": 151,
    "start_time": "2025-01-12T13:31:57.494Z"
   },
   {
    "duration": 284,
    "start_time": "2025-01-12T13:31:57.647Z"
   },
   {
    "duration": 238,
    "start_time": "2025-01-12T13:32:12.754Z"
   },
   {
    "duration": 3956,
    "start_time": "2025-01-12T13:32:16.767Z"
   },
   {
    "duration": 2316,
    "start_time": "2025-01-12T13:32:20.725Z"
   },
   {
    "duration": 21,
    "start_time": "2025-01-12T13:32:23.045Z"
   },
   {
    "duration": 128,
    "start_time": "2025-01-12T13:32:23.068Z"
   },
   {
    "duration": 41,
    "start_time": "2025-01-12T13:32:23.198Z"
   },
   {
    "duration": 56,
    "start_time": "2025-01-12T13:32:23.240Z"
   },
   {
    "duration": 19,
    "start_time": "2025-01-12T13:32:23.297Z"
   },
   {
    "duration": 13,
    "start_time": "2025-01-12T13:32:23.318Z"
   },
   {
    "duration": 45,
    "start_time": "2025-01-12T13:32:23.333Z"
   },
   {
    "duration": 4,
    "start_time": "2025-01-12T13:32:23.379Z"
   },
   {
    "duration": 77,
    "start_time": "2025-01-12T13:32:23.385Z"
   },
   {
    "duration": 122,
    "start_time": "2025-01-12T13:32:23.464Z"
   },
   {
    "duration": 43,
    "start_time": "2025-01-12T13:32:23.588Z"
   },
   {
    "duration": 25,
    "start_time": "2025-01-12T13:32:23.633Z"
   },
   {
    "duration": 18,
    "start_time": "2025-01-12T13:32:23.659Z"
   },
   {
    "duration": 16,
    "start_time": "2025-01-12T13:32:23.679Z"
   },
   {
    "duration": 74,
    "start_time": "2025-01-12T13:32:23.696Z"
   },
   {
    "duration": 39,
    "start_time": "2025-01-12T13:32:23.771Z"
   },
   {
    "duration": 349,
    "start_time": "2025-01-12T13:32:23.829Z"
   },
   {
    "duration": 264,
    "start_time": "2025-01-12T13:32:24.180Z"
   },
   {
    "duration": 182,
    "start_time": "2025-01-12T13:32:24.446Z"
   },
   {
    "duration": 200,
    "start_time": "2025-01-12T13:32:24.629Z"
   },
   {
    "duration": 145,
    "start_time": "2025-01-12T13:32:24.831Z"
   },
   {
    "duration": 299,
    "start_time": "2025-01-12T13:32:24.977Z"
   },
   {
    "duration": 244,
    "start_time": "2025-01-12T13:32:43.187Z"
   },
   {
    "duration": 4556,
    "start_time": "2025-01-12T13:38:24.477Z"
   },
   {
    "duration": 1976,
    "start_time": "2025-01-12T13:38:29.035Z"
   },
   {
    "duration": 30,
    "start_time": "2025-01-12T13:38:31.013Z"
   },
   {
    "duration": 129,
    "start_time": "2025-01-12T13:38:31.045Z"
   },
   {
    "duration": 30,
    "start_time": "2025-01-12T13:38:31.176Z"
   },
   {
    "duration": 52,
    "start_time": "2025-01-12T13:38:31.208Z"
   },
   {
    "duration": 21,
    "start_time": "2025-01-12T13:38:31.262Z"
   },
   {
    "duration": 14,
    "start_time": "2025-01-12T13:38:31.285Z"
   },
   {
    "duration": 62,
    "start_time": "2025-01-12T13:38:31.300Z"
   },
   {
    "duration": 3,
    "start_time": "2025-01-12T13:38:31.365Z"
   },
   {
    "duration": 76,
    "start_time": "2025-01-12T13:38:31.370Z"
   },
   {
    "duration": 112,
    "start_time": "2025-01-12T13:38:31.447Z"
   },
   {
    "duration": 28,
    "start_time": "2025-01-12T13:38:31.561Z"
   },
   {
    "duration": 75,
    "start_time": "2025-01-12T13:38:31.590Z"
   },
   {
    "duration": 18,
    "start_time": "2025-01-12T13:38:31.667Z"
   },
   {
    "duration": 28,
    "start_time": "2025-01-12T13:38:31.686Z"
   },
   {
    "duration": 44,
    "start_time": "2025-01-12T13:38:31.716Z"
   },
   {
    "duration": 39,
    "start_time": "2025-01-12T13:38:31.762Z"
   },
   {
    "duration": 349,
    "start_time": "2025-01-12T13:38:31.803Z"
   },
   {
    "duration": 251,
    "start_time": "2025-01-12T13:38:32.153Z"
   },
   {
    "duration": 179,
    "start_time": "2025-01-12T13:38:32.405Z"
   },
   {
    "duration": 211,
    "start_time": "2025-01-12T13:38:32.585Z"
   },
   {
    "duration": 144,
    "start_time": "2025-01-12T13:38:32.798Z"
   },
   {
    "duration": 283,
    "start_time": "2025-01-12T13:38:32.943Z"
   },
   {
    "duration": 184,
    "start_time": "2025-01-12T13:42:12.955Z"
   },
   {
    "duration": 186,
    "start_time": "2025-01-12T13:42:27.404Z"
   },
   {
    "duration": 179,
    "start_time": "2025-01-12T13:42:42.860Z"
   },
   {
    "duration": 185,
    "start_time": "2025-01-12T13:45:53.107Z"
   },
   {
    "duration": 170,
    "start_time": "2025-01-12T13:45:56.678Z"
   },
   {
    "duration": 176,
    "start_time": "2025-01-12T13:46:00.969Z"
   },
   {
    "duration": 176,
    "start_time": "2025-01-12T13:48:27.244Z"
   },
   {
    "duration": 166,
    "start_time": "2025-01-12T13:52:26.477Z"
   },
   {
    "duration": 168,
    "start_time": "2025-01-12T13:52:29.027Z"
   },
   {
    "duration": 182,
    "start_time": "2025-01-12T13:52:30.931Z"
   },
   {
    "duration": 173,
    "start_time": "2025-01-12T13:53:01.151Z"
   },
   {
    "duration": 171,
    "start_time": "2025-01-12T13:53:07.409Z"
   },
   {
    "duration": 174,
    "start_time": "2025-01-12T13:53:11.419Z"
   },
   {
    "duration": 157,
    "start_time": "2025-01-12T13:59:39.289Z"
   },
   {
    "duration": 5119,
    "start_time": "2025-01-12T13:59:46.400Z"
   },
   {
    "duration": 2293,
    "start_time": "2025-01-12T13:59:51.521Z"
   },
   {
    "duration": 24,
    "start_time": "2025-01-12T13:59:53.815Z"
   },
   {
    "duration": 129,
    "start_time": "2025-01-12T13:59:53.841Z"
   },
   {
    "duration": 30,
    "start_time": "2025-01-12T13:59:53.973Z"
   },
   {
    "duration": 40,
    "start_time": "2025-01-12T13:59:54.005Z"
   },
   {
    "duration": 21,
    "start_time": "2025-01-12T13:59:54.046Z"
   },
   {
    "duration": 14,
    "start_time": "2025-01-12T13:59:54.068Z"
   },
   {
    "duration": 87,
    "start_time": "2025-01-12T13:59:54.084Z"
   },
   {
    "duration": 3,
    "start_time": "2025-01-12T13:59:54.173Z"
   },
   {
    "duration": 76,
    "start_time": "2025-01-12T13:59:54.177Z"
   },
   {
    "duration": 107,
    "start_time": "2025-01-12T13:59:54.255Z"
   },
   {
    "duration": 28,
    "start_time": "2025-01-12T13:59:54.364Z"
   },
   {
    "duration": 44,
    "start_time": "2025-01-12T13:59:54.395Z"
   },
   {
    "duration": 19,
    "start_time": "2025-01-12T13:59:54.440Z"
   },
   {
    "duration": 24,
    "start_time": "2025-01-12T13:59:54.460Z"
   },
   {
    "duration": 64,
    "start_time": "2025-01-12T13:59:54.486Z"
   },
   {
    "duration": 38,
    "start_time": "2025-01-12T13:59:54.552Z"
   },
   {
    "duration": 319,
    "start_time": "2025-01-12T13:59:54.592Z"
   },
   {
    "duration": 249,
    "start_time": "2025-01-12T13:59:54.913Z"
   },
   {
    "duration": 178,
    "start_time": "2025-01-12T13:59:55.164Z"
   },
   {
    "duration": 207,
    "start_time": "2025-01-12T13:59:55.343Z"
   },
   {
    "duration": 149,
    "start_time": "2025-01-12T13:59:55.552Z"
   },
   {
    "duration": 265,
    "start_time": "2025-01-12T13:59:55.703Z"
   },
   {
    "duration": 3827,
    "start_time": "2025-01-12T14:20:18.407Z"
   },
   {
    "duration": 2155,
    "start_time": "2025-01-12T14:20:22.236Z"
   },
   {
    "duration": 21,
    "start_time": "2025-01-12T14:20:24.392Z"
   },
   {
    "duration": 129,
    "start_time": "2025-01-12T14:20:24.415Z"
   },
   {
    "duration": 28,
    "start_time": "2025-01-12T14:20:24.545Z"
   },
   {
    "duration": 22,
    "start_time": "2025-01-12T14:20:24.575Z"
   },
   {
    "duration": 44,
    "start_time": "2025-01-12T14:20:24.598Z"
   },
   {
    "duration": 12,
    "start_time": "2025-01-12T14:20:24.643Z"
   },
   {
    "duration": 44,
    "start_time": "2025-01-12T14:20:24.657Z"
   },
   {
    "duration": 4,
    "start_time": "2025-01-12T14:20:24.729Z"
   },
   {
    "duration": 52,
    "start_time": "2025-01-12T14:20:24.735Z"
   },
   {
    "duration": 119,
    "start_time": "2025-01-12T14:20:24.788Z"
   },
   {
    "duration": 37,
    "start_time": "2025-01-12T14:20:24.909Z"
   },
   {
    "duration": 23,
    "start_time": "2025-01-12T14:20:24.947Z"
   },
   {
    "duration": 17,
    "start_time": "2025-01-12T14:20:24.971Z"
   },
   {
    "duration": 44,
    "start_time": "2025-01-12T14:20:24.990Z"
   },
   {
    "duration": 45,
    "start_time": "2025-01-12T14:20:25.035Z"
   },
   {
    "duration": 56,
    "start_time": "2025-01-12T14:20:25.081Z"
   },
   {
    "duration": 310,
    "start_time": "2025-01-12T14:20:25.139Z"
   },
   {
    "duration": 254,
    "start_time": "2025-01-12T14:20:25.450Z"
   },
   {
    "duration": 181,
    "start_time": "2025-01-12T14:20:25.705Z"
   },
   {
    "duration": 212,
    "start_time": "2025-01-12T14:20:25.888Z"
   },
   {
    "duration": 154,
    "start_time": "2025-01-12T14:20:26.101Z"
   },
   {
    "duration": 254,
    "start_time": "2025-01-12T14:20:26.256Z"
   },
   {
    "duration": 239,
    "start_time": "2025-01-12T14:20:59.670Z"
   },
   {
    "duration": 331,
    "start_time": "2025-01-12T14:21:05.640Z"
   },
   {
    "duration": 9215,
    "start_time": "2025-01-13T10:10:52.040Z"
   },
   {
    "duration": 2449,
    "start_time": "2025-01-13T10:11:01.257Z"
   },
   {
    "duration": 32,
    "start_time": "2025-01-13T10:11:03.707Z"
   },
   {
    "duration": 137,
    "start_time": "2025-01-13T10:11:03.742Z"
   },
   {
    "duration": 29,
    "start_time": "2025-01-13T10:11:03.880Z"
   },
   {
    "duration": 36,
    "start_time": "2025-01-13T10:11:03.910Z"
   },
   {
    "duration": 27,
    "start_time": "2025-01-13T10:11:03.947Z"
   },
   {
    "duration": 13,
    "start_time": "2025-01-13T10:11:03.976Z"
   },
   {
    "duration": 71,
    "start_time": "2025-01-13T10:11:03.990Z"
   },
   {
    "duration": 4,
    "start_time": "2025-01-13T10:11:04.063Z"
   },
   {
    "duration": 85,
    "start_time": "2025-01-13T10:11:04.069Z"
   },
   {
    "duration": 120,
    "start_time": "2025-01-13T10:11:04.155Z"
   },
   {
    "duration": 30,
    "start_time": "2025-01-13T10:11:04.278Z"
   },
   {
    "duration": 44,
    "start_time": "2025-01-13T10:11:04.309Z"
   },
   {
    "duration": 20,
    "start_time": "2025-01-13T10:11:04.354Z"
   },
   {
    "duration": 14,
    "start_time": "2025-01-13T10:11:04.375Z"
   },
   {
    "duration": 68,
    "start_time": "2025-01-13T10:11:04.391Z"
   },
   {
    "duration": 38,
    "start_time": "2025-01-13T10:11:04.461Z"
   },
   {
    "duration": 374,
    "start_time": "2025-01-13T10:11:04.501Z"
   },
   {
    "duration": 258,
    "start_time": "2025-01-13T10:11:04.876Z"
   },
   {
    "duration": 184,
    "start_time": "2025-01-13T10:11:05.135Z"
   },
   {
    "duration": 175,
    "start_time": "2025-01-13T10:11:21.762Z"
   },
   {
    "duration": 6,
    "start_time": "2025-01-13T10:11:32.586Z"
   },
   {
    "duration": 8,
    "start_time": "2025-01-13T10:12:38.602Z"
   },
   {
    "duration": 6,
    "start_time": "2025-01-13T10:13:35.163Z"
   },
   {
    "duration": 168,
    "start_time": "2025-01-13T10:14:46.004Z"
   },
   {
    "duration": 8,
    "start_time": "2025-01-13T10:14:48.402Z"
   },
   {
    "duration": 2633,
    "start_time": "2025-01-13T10:22:38.380Z"
   },
   {
    "duration": 2438,
    "start_time": "2025-01-13T10:22:41.016Z"
   },
   {
    "duration": 20,
    "start_time": "2025-01-13T10:22:43.455Z"
   },
   {
    "duration": 135,
    "start_time": "2025-01-13T10:22:43.476Z"
   },
   {
    "duration": 33,
    "start_time": "2025-01-13T10:22:43.612Z"
   },
   {
    "duration": 25,
    "start_time": "2025-01-13T10:22:43.646Z"
   },
   {
    "duration": 24,
    "start_time": "2025-01-13T10:22:43.672Z"
   },
   {
    "duration": 42,
    "start_time": "2025-01-13T10:22:43.698Z"
   },
   {
    "duration": 45,
    "start_time": "2025-01-13T10:22:43.742Z"
   },
   {
    "duration": 14,
    "start_time": "2025-01-13T10:22:43.789Z"
   },
   {
    "duration": 43,
    "start_time": "2025-01-13T10:22:43.804Z"
   },
   {
    "duration": 107,
    "start_time": "2025-01-13T10:22:43.848Z"
   },
   {
    "duration": 29,
    "start_time": "2025-01-13T10:22:43.957Z"
   },
   {
    "duration": 44,
    "start_time": "2025-01-13T10:22:43.988Z"
   },
   {
    "duration": 18,
    "start_time": "2025-01-13T10:22:44.034Z"
   },
   {
    "duration": 21,
    "start_time": "2025-01-13T10:22:44.054Z"
   },
   {
    "duration": 61,
    "start_time": "2025-01-13T10:22:44.077Z"
   },
   {
    "duration": 39,
    "start_time": "2025-01-13T10:22:44.139Z"
   },
   {
    "duration": 314,
    "start_time": "2025-01-13T10:22:44.179Z"
   },
   {
    "duration": 286,
    "start_time": "2025-01-13T10:22:44.495Z"
   },
   {
    "duration": 184,
    "start_time": "2025-01-13T10:22:44.783Z"
   },
   {
    "duration": 196,
    "start_time": "2025-01-13T10:22:44.968Z"
   },
   {
    "duration": 159,
    "start_time": "2025-01-13T10:22:45.166Z"
   },
   {
    "duration": 414,
    "start_time": "2025-01-13T10:22:45.329Z"
   },
   {
    "duration": 10,
    "start_time": "2025-01-13T10:22:49.570Z"
   },
   {
    "duration": 102,
    "start_time": "2025-01-13T10:23:54.778Z"
   },
   {
    "duration": 5707,
    "start_time": "2025-01-13T11:59:03.250Z"
   },
   {
    "duration": 2668,
    "start_time": "2025-01-13T11:59:08.959Z"
   },
   {
    "duration": 22,
    "start_time": "2025-01-13T11:59:11.629Z"
   },
   {
    "duration": 239,
    "start_time": "2025-01-13T11:59:11.652Z"
   },
   {
    "duration": 39,
    "start_time": "2025-01-13T11:59:11.893Z"
   },
   {
    "duration": 143,
    "start_time": "2025-01-13T11:59:11.933Z"
   },
   {
    "duration": 48,
    "start_time": "2025-01-13T11:59:12.078Z"
   },
   {
    "duration": 77,
    "start_time": "2025-01-13T11:59:12.127Z"
   },
   {
    "duration": 43,
    "start_time": "2025-01-13T11:59:12.206Z"
   },
   {
    "duration": 59,
    "start_time": "2025-01-13T11:59:12.251Z"
   },
   {
    "duration": 93,
    "start_time": "2025-01-13T11:59:12.312Z"
   },
   {
    "duration": 126,
    "start_time": "2025-01-13T11:59:12.407Z"
   },
   {
    "duration": 34,
    "start_time": "2025-01-13T11:59:12.535Z"
   },
   {
    "duration": 51,
    "start_time": "2025-01-13T11:59:12.573Z"
   },
   {
    "duration": 19,
    "start_time": "2025-01-13T11:59:12.626Z"
   },
   {
    "duration": 23,
    "start_time": "2025-01-13T11:59:12.648Z"
   },
   {
    "duration": 66,
    "start_time": "2025-01-13T11:59:12.673Z"
   },
   {
    "duration": 42,
    "start_time": "2025-01-13T11:59:12.741Z"
   },
   {
    "duration": 341,
    "start_time": "2025-01-13T11:59:12.785Z"
   },
   {
    "duration": 268,
    "start_time": "2025-01-13T11:59:13.128Z"
   },
   {
    "duration": 193,
    "start_time": "2025-01-13T11:59:13.398Z"
   },
   {
    "duration": 208,
    "start_time": "2025-01-13T11:59:13.592Z"
   },
   {
    "duration": 154,
    "start_time": "2025-01-13T11:59:13.802Z"
   },
   {
    "duration": 360,
    "start_time": "2025-01-13T11:59:13.957Z"
   },
   {
    "duration": 126,
    "start_time": "2025-01-13T11:59:14.322Z"
   },
   {
    "duration": 4919,
    "start_time": "2025-01-13T11:59:36.421Z"
   },
   {
    "duration": 2134,
    "start_time": "2025-01-13T11:59:41.342Z"
   },
   {
    "duration": 21,
    "start_time": "2025-01-13T11:59:43.478Z"
   },
   {
    "duration": 152,
    "start_time": "2025-01-13T11:59:43.501Z"
   },
   {
    "duration": 30,
    "start_time": "2025-01-13T11:59:43.655Z"
   },
   {
    "duration": 50,
    "start_time": "2025-01-13T11:59:43.686Z"
   },
   {
    "duration": 103,
    "start_time": "2025-01-13T11:59:43.738Z"
   },
   {
    "duration": 54,
    "start_time": "2025-01-13T11:59:43.843Z"
   },
   {
    "duration": 137,
    "start_time": "2025-01-13T11:59:43.899Z"
   },
   {
    "duration": 5,
    "start_time": "2025-01-13T11:59:44.037Z"
   },
   {
    "duration": 73,
    "start_time": "2025-01-13T11:59:44.043Z"
   },
   {
    "duration": 110,
    "start_time": "2025-01-13T11:59:44.118Z"
   },
   {
    "duration": 32,
    "start_time": "2025-01-13T11:59:44.229Z"
   },
   {
    "duration": 32,
    "start_time": "2025-01-13T11:59:44.265Z"
   },
   {
    "duration": 39,
    "start_time": "2025-01-13T11:59:44.299Z"
   },
   {
    "duration": 22,
    "start_time": "2025-01-13T11:59:44.340Z"
   },
   {
    "duration": 62,
    "start_time": "2025-01-13T11:59:44.363Z"
   },
   {
    "duration": 40,
    "start_time": "2025-01-13T11:59:44.426Z"
   },
   {
    "duration": 338,
    "start_time": "2025-01-13T11:59:44.468Z"
   },
   {
    "duration": 257,
    "start_time": "2025-01-13T11:59:44.808Z"
   },
   {
    "duration": 193,
    "start_time": "2025-01-13T11:59:45.067Z"
   },
   {
    "duration": 232,
    "start_time": "2025-01-13T11:59:45.262Z"
   },
   {
    "duration": 163,
    "start_time": "2025-01-13T11:59:45.496Z"
   },
   {
    "duration": 343,
    "start_time": "2025-01-13T11:59:45.660Z"
   },
   {
    "duration": 122,
    "start_time": "2025-01-13T11:59:46.004Z"
   },
   {
    "duration": 4884,
    "start_time": "2025-01-13T12:00:15.258Z"
   },
   {
    "duration": 2008,
    "start_time": "2025-01-13T12:00:20.144Z"
   },
   {
    "duration": 22,
    "start_time": "2025-01-13T12:00:22.154Z"
   },
   {
    "duration": 137,
    "start_time": "2025-01-13T12:00:22.177Z"
   },
   {
    "duration": 30,
    "start_time": "2025-01-13T12:00:22.321Z"
   },
   {
    "duration": 26,
    "start_time": "2025-01-13T12:00:22.353Z"
   },
   {
    "duration": 55,
    "start_time": "2025-01-13T12:00:22.381Z"
   },
   {
    "duration": 15,
    "start_time": "2025-01-13T12:00:22.439Z"
   },
   {
    "duration": 77,
    "start_time": "2025-01-13T12:00:22.456Z"
   },
   {
    "duration": 4,
    "start_time": "2025-01-13T12:00:22.535Z"
   },
   {
    "duration": 60,
    "start_time": "2025-01-13T12:00:22.540Z"
   },
   {
    "duration": 115,
    "start_time": "2025-01-13T12:00:22.621Z"
   },
   {
    "duration": 30,
    "start_time": "2025-01-13T12:00:22.737Z"
   },
   {
    "duration": 26,
    "start_time": "2025-01-13T12:00:22.770Z"
   },
   {
    "duration": 19,
    "start_time": "2025-01-13T12:00:22.822Z"
   },
   {
    "duration": 14,
    "start_time": "2025-01-13T12:00:22.843Z"
   },
   {
    "duration": 71,
    "start_time": "2025-01-13T12:00:22.859Z"
   },
   {
    "duration": 9,
    "start_time": "2025-01-13T12:00:22.931Z"
   },
   {
    "duration": 328,
    "start_time": "2025-01-13T12:00:22.941Z"
   },
   {
    "duration": 271,
    "start_time": "2025-01-13T12:00:23.271Z"
   },
   {
    "duration": 193,
    "start_time": "2025-01-13T12:00:23.543Z"
   },
   {
    "duration": 213,
    "start_time": "2025-01-13T12:00:23.737Z"
   },
   {
    "duration": 158,
    "start_time": "2025-01-13T12:00:23.952Z"
   },
   {
    "duration": 357,
    "start_time": "2025-01-13T12:00:24.112Z"
   },
   {
    "duration": 131,
    "start_time": "2025-01-13T12:00:24.473Z"
   },
   {
    "duration": 129,
    "start_time": "2025-01-13T12:03:38.368Z"
   },
   {
    "duration": 235,
    "start_time": "2025-01-13T12:04:34.321Z"
   },
   {
    "duration": 4181,
    "start_time": "2025-01-13T12:04:46.177Z"
   },
   {
    "duration": 3204,
    "start_time": "2025-01-13T12:04:50.360Z"
   },
   {
    "duration": 21,
    "start_time": "2025-01-13T12:04:53.566Z"
   },
   {
    "duration": 161,
    "start_time": "2025-01-13T12:04:53.589Z"
   },
   {
    "duration": 32,
    "start_time": "2025-01-13T12:04:53.752Z"
   },
   {
    "duration": 204,
    "start_time": "2025-01-13T12:04:53.786Z"
   },
   {
    "duration": 122,
    "start_time": "2025-01-13T12:04:53.992Z"
   },
   {
    "duration": 118,
    "start_time": "2025-01-13T12:04:54.116Z"
   },
   {
    "duration": 99,
    "start_time": "2025-01-13T12:04:54.235Z"
   },
   {
    "duration": 59,
    "start_time": "2025-01-13T12:04:54.335Z"
   },
   {
    "duration": 145,
    "start_time": "2025-01-13T12:04:54.396Z"
   },
   {
    "duration": 109,
    "start_time": "2025-01-13T12:04:54.543Z"
   },
   {
    "duration": 30,
    "start_time": "2025-01-13T12:04:54.654Z"
   },
   {
    "duration": 139,
    "start_time": "2025-01-13T12:04:54.687Z"
   },
   {
    "duration": 142,
    "start_time": "2025-01-13T12:04:54.828Z"
   },
   {
    "duration": 48,
    "start_time": "2025-01-13T12:04:54.972Z"
   },
   {
    "duration": 96,
    "start_time": "2025-01-13T12:04:55.022Z"
   },
   {
    "duration": 9,
    "start_time": "2025-01-13T12:04:55.120Z"
   },
   {
    "duration": 381,
    "start_time": "2025-01-13T12:04:55.131Z"
   },
   {
    "duration": 286,
    "start_time": "2025-01-13T12:04:55.514Z"
   },
   {
    "duration": 191,
    "start_time": "2025-01-13T12:04:55.802Z"
   },
   {
    "duration": 213,
    "start_time": "2025-01-13T12:04:55.994Z"
   },
   {
    "duration": 162,
    "start_time": "2025-01-13T12:04:56.208Z"
   },
   {
    "duration": 357,
    "start_time": "2025-01-13T12:04:56.372Z"
   },
   {
    "duration": 127,
    "start_time": "2025-01-13T12:04:56.730Z"
   },
   {
    "duration": 234,
    "start_time": "2025-01-13T12:05:38.771Z"
   },
   {
    "duration": 4880,
    "start_time": "2025-01-13T12:05:43.252Z"
   },
   {
    "duration": 2192,
    "start_time": "2025-01-13T12:05:48.135Z"
   },
   {
    "duration": 22,
    "start_time": "2025-01-13T12:05:50.329Z"
   },
   {
    "duration": 160,
    "start_time": "2025-01-13T12:05:50.353Z"
   },
   {
    "duration": 35,
    "start_time": "2025-01-13T12:05:50.516Z"
   },
   {
    "duration": 24,
    "start_time": "2025-01-13T12:05:50.553Z"
   },
   {
    "duration": 44,
    "start_time": "2025-01-13T12:05:50.579Z"
   },
   {
    "duration": 14,
    "start_time": "2025-01-13T12:05:50.625Z"
   },
   {
    "duration": 46,
    "start_time": "2025-01-13T12:05:50.640Z"
   },
   {
    "duration": 4,
    "start_time": "2025-01-13T12:05:50.688Z"
   },
   {
    "duration": 64,
    "start_time": "2025-01-13T12:05:50.721Z"
   },
   {
    "duration": 124,
    "start_time": "2025-01-13T12:05:50.787Z"
   },
   {
    "duration": 37,
    "start_time": "2025-01-13T12:05:50.913Z"
   },
   {
    "duration": 26,
    "start_time": "2025-01-13T12:05:50.954Z"
   },
   {
    "duration": 52,
    "start_time": "2025-01-13T12:05:50.982Z"
   },
   {
    "duration": 19,
    "start_time": "2025-01-13T12:05:51.036Z"
   },
   {
    "duration": 73,
    "start_time": "2025-01-13T12:05:51.057Z"
   },
   {
    "duration": 8,
    "start_time": "2025-01-13T12:05:51.132Z"
   },
   {
    "duration": 330,
    "start_time": "2025-01-13T12:05:51.142Z"
   },
   {
    "duration": 275,
    "start_time": "2025-01-13T12:05:51.474Z"
   },
   {
    "duration": 198,
    "start_time": "2025-01-13T12:05:51.750Z"
   },
   {
    "duration": 204,
    "start_time": "2025-01-13T12:05:51.950Z"
   },
   {
    "duration": 153,
    "start_time": "2025-01-13T12:05:52.156Z"
   },
   {
    "duration": 379,
    "start_time": "2025-01-13T12:05:52.310Z"
   },
   {
    "duration": 136,
    "start_time": "2025-01-13T12:05:52.691Z"
   },
   {
    "duration": 52,
    "start_time": "2025-01-15T20:48:01.472Z"
   },
   {
    "duration": 9,
    "start_time": "2025-01-15T20:48:10.670Z"
   },
   {
    "duration": 1463,
    "start_time": "2025-01-15T20:48:15.570Z"
   },
   {
    "duration": 2923,
    "start_time": "2025-01-15T20:48:17.035Z"
   },
   {
    "duration": 25,
    "start_time": "2025-01-15T20:48:19.960Z"
   },
   {
    "duration": 132,
    "start_time": "2025-01-15T20:48:19.986Z"
   },
   {
    "duration": 29,
    "start_time": "2025-01-15T20:48:20.120Z"
   },
   {
    "duration": 42,
    "start_time": "2025-01-15T20:48:20.151Z"
   },
   {
    "duration": 19,
    "start_time": "2025-01-15T20:48:20.194Z"
   },
   {
    "duration": 14,
    "start_time": "2025-01-15T20:48:20.214Z"
   },
   {
    "duration": 75,
    "start_time": "2025-01-15T20:48:20.230Z"
   },
   {
    "duration": 4,
    "start_time": "2025-01-15T20:48:20.307Z"
   },
   {
    "duration": 73,
    "start_time": "2025-01-15T20:48:20.312Z"
   },
   {
    "duration": 115,
    "start_time": "2025-01-15T20:48:20.386Z"
   },
   {
    "duration": 29,
    "start_time": "2025-01-15T20:48:20.503Z"
   },
   {
    "duration": 47,
    "start_time": "2025-01-15T20:48:20.535Z"
   },
   {
    "duration": 19,
    "start_time": "2025-01-15T20:48:20.584Z"
   },
   {
    "duration": 14,
    "start_time": "2025-01-15T20:48:20.604Z"
   },
   {
    "duration": 73,
    "start_time": "2025-01-15T20:48:20.620Z"
   },
   {
    "duration": 8,
    "start_time": "2025-01-15T20:48:20.695Z"
   },
   {
    "duration": 323,
    "start_time": "2025-01-15T20:48:20.704Z"
   },
   {
    "duration": 272,
    "start_time": "2025-01-15T20:48:21.029Z"
   },
   {
    "duration": 195,
    "start_time": "2025-01-15T20:48:21.303Z"
   },
   {
    "duration": 192,
    "start_time": "2025-01-15T20:48:21.500Z"
   },
   {
    "duration": 156,
    "start_time": "2025-01-15T20:48:21.694Z"
   },
   {
    "duration": 368,
    "start_time": "2025-01-15T20:48:21.851Z"
   },
   {
    "duration": 125,
    "start_time": "2025-01-15T20:48:22.221Z"
   },
   {
    "duration": 184,
    "start_time": "2025-01-15T20:48:56.616Z"
   },
   {
    "duration": 171,
    "start_time": "2025-01-15T20:49:07.121Z"
   },
   {
    "duration": 169,
    "start_time": "2025-01-15T20:49:17.920Z"
   },
   {
    "duration": 177,
    "start_time": "2025-01-15T20:49:26.341Z"
   },
   {
    "duration": 182,
    "start_time": "2025-01-15T20:49:55.170Z"
   },
   {
    "duration": 183,
    "start_time": "2025-01-15T20:52:58.797Z"
   },
   {
    "duration": 175,
    "start_time": "2025-01-15T20:53:12.375Z"
   },
   {
    "duration": 250,
    "start_time": "2025-01-15T20:53:16.880Z"
   },
   {
    "duration": 1152,
    "start_time": "2025-01-15T20:53:20.282Z"
   },
   {
    "duration": 3568,
    "start_time": "2025-01-15T20:53:21.436Z"
   },
   {
    "duration": 22,
    "start_time": "2025-01-15T20:53:25.006Z"
   },
   {
    "duration": 145,
    "start_time": "2025-01-15T20:53:25.030Z"
   },
   {
    "duration": 31,
    "start_time": "2025-01-15T20:53:25.176Z"
   },
   {
    "duration": 23,
    "start_time": "2025-01-15T20:53:25.209Z"
   },
   {
    "duration": 53,
    "start_time": "2025-01-15T20:53:25.233Z"
   },
   {
    "duration": 75,
    "start_time": "2025-01-15T20:53:25.287Z"
   },
   {
    "duration": 179,
    "start_time": "2025-01-15T20:53:25.364Z"
   },
   {
    "duration": 4,
    "start_time": "2025-01-15T20:53:25.545Z"
   },
   {
    "duration": 55,
    "start_time": "2025-01-15T20:53:25.551Z"
   },
   {
    "duration": 113,
    "start_time": "2025-01-15T20:53:25.608Z"
   },
   {
    "duration": 60,
    "start_time": "2025-01-15T20:53:25.723Z"
   },
   {
    "duration": 29,
    "start_time": "2025-01-15T20:53:25.785Z"
   },
   {
    "duration": 31,
    "start_time": "2025-01-15T20:53:25.815Z"
   },
   {
    "duration": 27,
    "start_time": "2025-01-15T20:53:25.847Z"
   },
   {
    "duration": 46,
    "start_time": "2025-01-15T20:53:25.875Z"
   },
   {
    "duration": 8,
    "start_time": "2025-01-15T20:53:25.922Z"
   },
   {
    "duration": 338,
    "start_time": "2025-01-15T20:53:25.932Z"
   },
   {
    "duration": 261,
    "start_time": "2025-01-15T20:53:26.272Z"
   },
   {
    "duration": 187,
    "start_time": "2025-01-15T20:53:26.534Z"
   },
   {
    "duration": 192,
    "start_time": "2025-01-15T20:53:26.723Z"
   },
   {
    "duration": 145,
    "start_time": "2025-01-15T20:53:26.917Z"
   },
   {
    "duration": 352,
    "start_time": "2025-01-15T20:53:27.063Z"
   },
   {
    "duration": 119,
    "start_time": "2025-01-15T20:53:27.417Z"
   },
   {
    "duration": 785,
    "start_time": "2025-01-15T20:55:59.575Z"
   },
   {
    "duration": 1185,
    "start_time": "2025-01-15T20:56:14.052Z"
   },
   {
    "duration": 2063,
    "start_time": "2025-01-15T20:56:15.239Z"
   },
   {
    "duration": 20,
    "start_time": "2025-01-15T20:56:17.304Z"
   },
   {
    "duration": 135,
    "start_time": "2025-01-15T20:56:17.327Z"
   },
   {
    "duration": 36,
    "start_time": "2025-01-15T20:56:17.463Z"
   },
   {
    "duration": 26,
    "start_time": "2025-01-15T20:56:17.501Z"
   },
   {
    "duration": 44,
    "start_time": "2025-01-15T20:56:17.529Z"
   },
   {
    "duration": 14,
    "start_time": "2025-01-15T20:56:17.574Z"
   },
   {
    "duration": 45,
    "start_time": "2025-01-15T20:56:17.590Z"
   },
   {
    "duration": 3,
    "start_time": "2025-01-15T20:56:17.638Z"
   },
   {
    "duration": 83,
    "start_time": "2025-01-15T20:56:17.643Z"
   },
   {
    "duration": 129,
    "start_time": "2025-01-15T20:56:17.728Z"
   },
   {
    "duration": 34,
    "start_time": "2025-01-15T20:56:17.859Z"
   },
   {
    "duration": 25,
    "start_time": "2025-01-15T20:56:17.895Z"
   },
   {
    "duration": 17,
    "start_time": "2025-01-15T20:56:17.922Z"
   },
   {
    "duration": 16,
    "start_time": "2025-01-15T20:56:17.970Z"
   },
   {
    "duration": 45,
    "start_time": "2025-01-15T20:56:17.988Z"
   },
   {
    "duration": 7,
    "start_time": "2025-01-15T20:56:18.035Z"
   },
   {
    "duration": 336,
    "start_time": "2025-01-15T20:56:18.044Z"
   },
   {
    "duration": 262,
    "start_time": "2025-01-15T20:56:18.381Z"
   },
   {
    "duration": 191,
    "start_time": "2025-01-15T20:56:18.644Z"
   },
   {
    "duration": 204,
    "start_time": "2025-01-15T20:56:18.836Z"
   },
   {
    "duration": 149,
    "start_time": "2025-01-15T20:56:19.042Z"
   },
   {
    "duration": 350,
    "start_time": "2025-01-15T20:56:19.193Z"
   },
   {
    "duration": 118,
    "start_time": "2025-01-15T20:56:19.544Z"
   },
   {
    "duration": 1501,
    "start_time": "2025-01-15T21:06:26.810Z"
   },
   {
    "duration": 3125,
    "start_time": "2025-01-15T21:06:28.313Z"
   },
   {
    "duration": 32,
    "start_time": "2025-01-15T21:06:31.439Z"
   },
   {
    "duration": 174,
    "start_time": "2025-01-15T21:06:31.473Z"
   },
   {
    "duration": 30,
    "start_time": "2025-01-15T21:06:31.648Z"
   },
   {
    "duration": 32,
    "start_time": "2025-01-15T21:06:31.679Z"
   },
   {
    "duration": 42,
    "start_time": "2025-01-15T21:06:31.713Z"
   },
   {
    "duration": 12,
    "start_time": "2025-01-15T21:06:31.757Z"
   },
   {
    "duration": 128,
    "start_time": "2025-01-15T21:06:31.771Z"
   },
   {
    "duration": 25,
    "start_time": "2025-01-15T21:06:31.902Z"
   },
   {
    "duration": 58,
    "start_time": "2025-01-15T21:06:31.929Z"
   },
   {
    "duration": 108,
    "start_time": "2025-01-15T21:06:31.988Z"
   },
   {
    "duration": 29,
    "start_time": "2025-01-15T21:06:32.098Z"
   },
   {
    "duration": 43,
    "start_time": "2025-01-15T21:06:32.129Z"
   },
   {
    "duration": 17,
    "start_time": "2025-01-15T21:06:32.173Z"
   },
   {
    "duration": 48,
    "start_time": "2025-01-15T21:06:32.192Z"
   },
   {
    "duration": 50,
    "start_time": "2025-01-15T21:06:32.242Z"
   },
   {
    "duration": 7,
    "start_time": "2025-01-15T21:06:32.294Z"
   },
   {
    "duration": 335,
    "start_time": "2025-01-15T21:06:32.303Z"
   },
   {
    "duration": 264,
    "start_time": "2025-01-15T21:06:32.640Z"
   },
   {
    "duration": 188,
    "start_time": "2025-01-15T21:06:32.906Z"
   },
   {
    "duration": 205,
    "start_time": "2025-01-15T21:06:33.095Z"
   },
   {
    "duration": 0,
    "start_time": "2025-01-15T21:06:33.301Z"
   },
   {
    "duration": 0,
    "start_time": "2025-01-15T21:06:33.303Z"
   },
   {
    "duration": 0,
    "start_time": "2025-01-15T21:06:33.304Z"
   },
   {
    "duration": 0,
    "start_time": "2025-01-15T21:06:33.305Z"
   },
   {
    "duration": 2042,
    "start_time": "2025-01-15T21:12:21.175Z"
   },
   {
    "duration": 1301,
    "start_time": "2025-01-15T21:12:35.469Z"
   },
   {
    "duration": 2276,
    "start_time": "2025-01-15T21:12:36.772Z"
   },
   {
    "duration": 34,
    "start_time": "2025-01-15T21:12:39.050Z"
   },
   {
    "duration": 145,
    "start_time": "2025-01-15T21:12:39.087Z"
   },
   {
    "duration": 38,
    "start_time": "2025-01-15T21:12:39.233Z"
   },
   {
    "duration": 29,
    "start_time": "2025-01-15T21:12:39.273Z"
   },
   {
    "duration": 20,
    "start_time": "2025-01-15T21:12:39.304Z"
   },
   {
    "duration": 13,
    "start_time": "2025-01-15T21:12:39.325Z"
   },
   {
    "duration": 84,
    "start_time": "2025-01-15T21:12:39.339Z"
   },
   {
    "duration": 48,
    "start_time": "2025-01-15T21:12:39.425Z"
   },
   {
    "duration": 103,
    "start_time": "2025-01-15T21:12:39.476Z"
   },
   {
    "duration": 124,
    "start_time": "2025-01-15T21:12:39.581Z"
   },
   {
    "duration": 31,
    "start_time": "2025-01-15T21:12:39.707Z"
   },
   {
    "duration": 47,
    "start_time": "2025-01-15T21:12:39.740Z"
   },
   {
    "duration": 74,
    "start_time": "2025-01-15T21:12:39.789Z"
   },
   {
    "duration": 45,
    "start_time": "2025-01-15T21:12:39.865Z"
   },
   {
    "duration": 44,
    "start_time": "2025-01-15T21:12:39.912Z"
   },
   {
    "duration": 8,
    "start_time": "2025-01-15T21:12:39.958Z"
   },
   {
    "duration": 355,
    "start_time": "2025-01-15T21:12:39.967Z"
   },
   {
    "duration": 285,
    "start_time": "2025-01-15T21:12:40.324Z"
   },
   {
    "duration": 203,
    "start_time": "2025-01-15T21:12:40.611Z"
   },
   {
    "duration": 1935,
    "start_time": "2025-01-15T21:12:40.815Z"
   },
   {
    "duration": 0,
    "start_time": "2025-01-15T21:12:42.752Z"
   },
   {
    "duration": 0,
    "start_time": "2025-01-15T21:12:42.753Z"
   },
   {
    "duration": 0,
    "start_time": "2025-01-15T21:12:42.754Z"
   },
   {
    "duration": 0,
    "start_time": "2025-01-15T21:12:42.756Z"
   },
   {
    "duration": 195,
    "start_time": "2025-01-15T21:13:05.390Z"
   },
   {
    "duration": 1841,
    "start_time": "2025-01-15T21:13:27.404Z"
   },
   {
    "duration": 1830,
    "start_time": "2025-01-15T21:13:34.831Z"
   },
   {
    "duration": 1815,
    "start_time": "2025-01-15T21:13:44.148Z"
   },
   {
    "duration": 1809,
    "start_time": "2025-01-15T21:14:17.524Z"
   },
   {
    "duration": 1833,
    "start_time": "2025-01-15T21:14:58.185Z"
   },
   {
    "duration": 18,
    "start_time": "2025-01-15T21:17:00.205Z"
   },
   {
    "duration": 1786,
    "start_time": "2025-01-15T21:17:11.414Z"
   },
   {
    "duration": 1168,
    "start_time": "2025-01-15T21:19:43.983Z"
   },
   {
    "duration": 2136,
    "start_time": "2025-01-15T21:19:45.153Z"
   },
   {
    "duration": 20,
    "start_time": "2025-01-15T21:19:47.291Z"
   },
   {
    "duration": 131,
    "start_time": "2025-01-15T21:19:47.313Z"
   },
   {
    "duration": 34,
    "start_time": "2025-01-15T21:19:47.445Z"
   },
   {
    "duration": 24,
    "start_time": "2025-01-15T21:19:47.481Z"
   },
   {
    "duration": 95,
    "start_time": "2025-01-15T21:19:47.507Z"
   },
   {
    "duration": 13,
    "start_time": "2025-01-15T21:19:47.603Z"
   },
   {
    "duration": 46,
    "start_time": "2025-01-15T21:19:47.618Z"
   },
   {
    "duration": 3,
    "start_time": "2025-01-15T21:19:47.671Z"
   },
   {
    "duration": 56,
    "start_time": "2025-01-15T21:19:47.675Z"
   },
   {
    "duration": 120,
    "start_time": "2025-01-15T21:19:47.733Z"
   },
   {
    "duration": 36,
    "start_time": "2025-01-15T21:19:47.855Z"
   },
   {
    "duration": 60,
    "start_time": "2025-01-15T21:19:47.892Z"
   },
   {
    "duration": 16,
    "start_time": "2025-01-15T21:19:47.954Z"
   },
   {
    "duration": 20,
    "start_time": "2025-01-15T21:19:47.972Z"
   },
   {
    "duration": 45,
    "start_time": "2025-01-15T21:19:47.994Z"
   },
   {
    "duration": 7,
    "start_time": "2025-01-15T21:19:48.041Z"
   },
   {
    "duration": 316,
    "start_time": "2025-01-15T21:19:48.070Z"
   },
   {
    "duration": 266,
    "start_time": "2025-01-15T21:19:48.387Z"
   },
   {
    "duration": 194,
    "start_time": "2025-01-15T21:19:48.654Z"
   },
   {
    "duration": 198,
    "start_time": "2025-01-15T21:19:48.850Z"
   },
   {
    "duration": 155,
    "start_time": "2025-01-15T21:19:49.050Z"
   },
   {
    "duration": 363,
    "start_time": "2025-01-15T21:19:49.207Z"
   },
   {
    "duration": 124,
    "start_time": "2025-01-15T21:19:49.572Z"
   },
   {
    "duration": 222,
    "start_time": "2025-01-15T21:22:14.943Z"
   },
   {
    "duration": 125,
    "start_time": "2025-01-15T21:22:39.241Z"
   },
   {
    "duration": 144,
    "start_time": "2025-01-15T21:22:46.656Z"
   },
   {
    "duration": 161,
    "start_time": "2025-01-15T21:23:00.453Z"
   },
   {
    "duration": 160,
    "start_time": "2025-01-15T21:23:13.286Z"
   },
   {
    "duration": 131,
    "start_time": "2025-01-15T21:23:18.497Z"
   },
   {
    "duration": 130,
    "start_time": "2025-01-15T21:24:08.393Z"
   },
   {
    "duration": 137,
    "start_time": "2025-01-15T21:25:54.544Z"
   },
   {
    "duration": 128,
    "start_time": "2025-01-15T21:25:58.209Z"
   },
   {
    "duration": 204,
    "start_time": "2025-01-15T21:26:48.593Z"
   },
   {
    "duration": 212,
    "start_time": "2025-01-15T21:26:56.330Z"
   },
   {
    "duration": 198,
    "start_time": "2025-01-15T21:27:03.915Z"
   },
   {
    "duration": 127,
    "start_time": "2025-01-15T21:27:09.084Z"
   },
   {
    "duration": 149,
    "start_time": "2025-01-15T21:27:11.905Z"
   },
   {
    "duration": 104,
    "start_time": "2025-01-15T21:27:23.804Z"
   },
   {
    "duration": 138,
    "start_time": "2025-01-15T21:27:29.583Z"
   },
   {
    "duration": 135,
    "start_time": "2025-01-15T21:27:50.620Z"
   },
   {
    "duration": 146,
    "start_time": "2025-01-15T21:28:04.125Z"
   },
   {
    "duration": 141,
    "start_time": "2025-01-15T21:29:37.071Z"
   },
   {
    "duration": 142,
    "start_time": "2025-01-15T21:29:44.933Z"
   },
   {
    "duration": 145,
    "start_time": "2025-01-15T21:29:53.953Z"
   },
   {
    "duration": 141,
    "start_time": "2025-01-15T21:32:17.342Z"
   },
   {
    "duration": 144,
    "start_time": "2025-01-15T21:32:21.548Z"
   },
   {
    "duration": 144,
    "start_time": "2025-01-15T21:33:14.298Z"
   },
   {
    "duration": 145,
    "start_time": "2025-01-15T21:33:16.191Z"
   },
   {
    "duration": 234,
    "start_time": "2025-01-15T21:34:29.731Z"
   },
   {
    "duration": 158,
    "start_time": "2025-01-15T21:34:58.774Z"
   },
   {
    "duration": 158,
    "start_time": "2025-01-15T21:35:29.399Z"
   },
   {
    "duration": 146,
    "start_time": "2025-01-15T21:35:35.554Z"
   },
   {
    "duration": 144,
    "start_time": "2025-01-15T21:35:47.053Z"
   },
   {
    "duration": 148,
    "start_time": "2025-01-15T21:35:48.868Z"
   },
   {
    "duration": 312,
    "start_time": "2025-01-15T21:38:58.382Z"
   },
   {
    "duration": 343,
    "start_time": "2025-01-15T21:39:04.773Z"
   },
   {
    "duration": 295,
    "start_time": "2025-01-15T21:39:10.791Z"
   },
   {
    "duration": 296,
    "start_time": "2025-01-15T21:39:19.175Z"
   },
   {
    "duration": 282,
    "start_time": "2025-01-15T21:39:27.666Z"
   },
   {
    "duration": 93,
    "start_time": "2025-01-15T21:39:37.535Z"
   },
   {
    "duration": 284,
    "start_time": "2025-01-15T21:39:39.792Z"
   },
   {
    "duration": 375,
    "start_time": "2025-01-15T21:39:43.787Z"
   },
   {
    "duration": 153,
    "start_time": "2025-01-15T21:40:32.974Z"
   },
   {
    "duration": 33899,
    "start_time": "2025-01-15T21:41:12.772Z"
   },
   {
    "duration": 927,
    "start_time": "2025-01-15T21:42:31.691Z"
   },
   {
    "duration": 4205,
    "start_time": "2025-01-15T21:42:49.214Z"
   },
   {
    "duration": 859,
    "start_time": "2025-01-15T21:43:00.494Z"
   },
   {
    "duration": 83,
    "start_time": "2025-01-15T21:43:11.127Z"
   },
   {
    "duration": 155,
    "start_time": "2025-01-15T21:43:20.506Z"
   },
   {
    "duration": 849,
    "start_time": "2025-01-15T21:43:31.021Z"
   },
   {
    "duration": 1104,
    "start_time": "2025-01-15T21:45:36.223Z"
   },
   {
    "duration": 3321,
    "start_time": "2025-01-15T21:45:37.329Z"
   },
   {
    "duration": 27,
    "start_time": "2025-01-15T21:45:40.651Z"
   },
   {
    "duration": 133,
    "start_time": "2025-01-15T21:45:40.679Z"
   },
   {
    "duration": 31,
    "start_time": "2025-01-15T21:45:40.814Z"
   },
   {
    "duration": 37,
    "start_time": "2025-01-15T21:45:40.846Z"
   },
   {
    "duration": 21,
    "start_time": "2025-01-15T21:45:40.885Z"
   },
   {
    "duration": 16,
    "start_time": "2025-01-15T21:45:40.908Z"
   },
   {
    "duration": 81,
    "start_time": "2025-01-15T21:45:40.926Z"
   },
   {
    "duration": 3,
    "start_time": "2025-01-15T21:45:41.009Z"
   },
   {
    "duration": 80,
    "start_time": "2025-01-15T21:45:41.014Z"
   },
   {
    "duration": 116,
    "start_time": "2025-01-15T21:45:41.096Z"
   },
   {
    "duration": 32,
    "start_time": "2025-01-15T21:45:41.214Z"
   },
   {
    "duration": 26,
    "start_time": "2025-01-15T21:45:41.270Z"
   },
   {
    "duration": 19,
    "start_time": "2025-01-15T21:45:41.298Z"
   },
   {
    "duration": 16,
    "start_time": "2025-01-15T21:45:41.319Z"
   },
   {
    "duration": 47,
    "start_time": "2025-01-15T21:45:41.369Z"
   },
   {
    "duration": 8,
    "start_time": "2025-01-15T21:45:41.418Z"
   },
   {
    "duration": 335,
    "start_time": "2025-01-15T21:45:41.428Z"
   },
   {
    "duration": 265,
    "start_time": "2025-01-15T21:45:41.771Z"
   },
   {
    "duration": 189,
    "start_time": "2025-01-15T21:45:42.038Z"
   },
   {
    "duration": 1174,
    "start_time": "2025-01-15T21:49:28.560Z"
   },
   {
    "duration": 1965,
    "start_time": "2025-01-15T21:49:29.736Z"
   },
   {
    "duration": 21,
    "start_time": "2025-01-15T21:49:31.703Z"
   },
   {
    "duration": 141,
    "start_time": "2025-01-15T21:49:31.726Z"
   },
   {
    "duration": 30,
    "start_time": "2025-01-15T21:49:31.870Z"
   },
   {
    "duration": 22,
    "start_time": "2025-01-15T21:49:31.902Z"
   },
   {
    "duration": 44,
    "start_time": "2025-01-15T21:49:31.926Z"
   },
   {
    "duration": 14,
    "start_time": "2025-01-15T21:49:31.972Z"
   },
   {
    "duration": 62,
    "start_time": "2025-01-15T21:49:31.987Z"
   },
   {
    "duration": 4,
    "start_time": "2025-01-15T21:49:32.051Z"
   },
   {
    "duration": 68,
    "start_time": "2025-01-15T21:49:32.056Z"
   },
   {
    "duration": 119,
    "start_time": "2025-01-15T21:49:32.125Z"
   },
   {
    "duration": 38,
    "start_time": "2025-01-15T21:49:32.245Z"
   },
   {
    "duration": 24,
    "start_time": "2025-01-15T21:49:32.284Z"
   },
   {
    "duration": 17,
    "start_time": "2025-01-15T21:49:32.309Z"
   },
   {
    "duration": 44,
    "start_time": "2025-01-15T21:49:32.327Z"
   },
   {
    "duration": 43,
    "start_time": "2025-01-15T21:49:32.373Z"
   },
   {
    "duration": 8,
    "start_time": "2025-01-15T21:49:32.417Z"
   },
   {
    "duration": 325,
    "start_time": "2025-01-15T21:49:32.427Z"
   },
   {
    "duration": 269,
    "start_time": "2025-01-15T21:49:32.754Z"
   },
   {
    "duration": 194,
    "start_time": "2025-01-15T21:49:33.024Z"
   },
   {
    "duration": 2001,
    "start_time": "2025-01-15T21:49:33.219Z"
   },
   {
    "duration": 0,
    "start_time": "2025-01-15T21:49:35.221Z"
   },
   {
    "duration": 0,
    "start_time": "2025-01-15T21:49:35.222Z"
   },
   {
    "duration": 0,
    "start_time": "2025-01-15T21:49:35.223Z"
   },
   {
    "duration": 0,
    "start_time": "2025-01-15T21:49:35.224Z"
   },
   {
    "duration": 2344,
    "start_time": "2025-01-15T21:50:52.055Z"
   },
   {
    "duration": 159,
    "start_time": "2025-01-15T21:51:32.521Z"
   },
   {
    "duration": 157,
    "start_time": "2025-01-15T21:51:37.360Z"
   },
   {
    "duration": 168,
    "start_time": "2025-01-15T21:51:58.974Z"
   },
   {
    "duration": 83,
    "start_time": "2025-01-15T21:52:15.480Z"
   },
   {
    "duration": 35479,
    "start_time": "2025-01-15T21:52:17.654Z"
   },
   {
    "duration": 1223,
    "start_time": "2025-01-15T21:53:58.020Z"
   },
   {
    "duration": 2268,
    "start_time": "2025-01-15T21:53:59.245Z"
   },
   {
    "duration": 22,
    "start_time": "2025-01-15T21:54:01.515Z"
   },
   {
    "duration": 136,
    "start_time": "2025-01-15T21:54:01.539Z"
   },
   {
    "duration": 31,
    "start_time": "2025-01-15T21:54:01.676Z"
   },
   {
    "duration": 31,
    "start_time": "2025-01-15T21:54:01.708Z"
   },
   {
    "duration": 43,
    "start_time": "2025-01-15T21:54:01.740Z"
   },
   {
    "duration": 14,
    "start_time": "2025-01-15T21:54:01.784Z"
   },
   {
    "duration": 56,
    "start_time": "2025-01-15T21:54:01.799Z"
   },
   {
    "duration": 14,
    "start_time": "2025-01-15T21:54:01.857Z"
   },
   {
    "duration": 77,
    "start_time": "2025-01-15T21:54:01.872Z"
   },
   {
    "duration": 104,
    "start_time": "2025-01-15T21:54:01.950Z"
   },
   {
    "duration": 36,
    "start_time": "2025-01-15T21:54:02.056Z"
   },
   {
    "duration": 44,
    "start_time": "2025-01-15T21:54:02.094Z"
   },
   {
    "duration": 18,
    "start_time": "2025-01-15T21:54:02.140Z"
   },
   {
    "duration": 22,
    "start_time": "2025-01-15T21:54:02.160Z"
   },
   {
    "duration": 84,
    "start_time": "2025-01-15T21:54:02.183Z"
   },
   {
    "duration": 10,
    "start_time": "2025-01-15T21:54:02.268Z"
   },
   {
    "duration": 531,
    "start_time": "2025-01-15T21:54:02.280Z"
   },
   {
    "duration": 571,
    "start_time": "2025-01-15T21:54:02.813Z"
   },
   {
    "duration": 389,
    "start_time": "2025-01-15T21:54:03.386Z"
   },
   {
    "duration": 33599,
    "start_time": "2025-01-15T21:54:03.776Z"
   },
   {
    "duration": 210,
    "start_time": "2025-01-15T21:54:37.378Z"
   },
   {
    "duration": 154,
    "start_time": "2025-01-15T21:54:37.590Z"
   },
   {
    "duration": 347,
    "start_time": "2025-01-15T21:54:37.746Z"
   },
   {
    "duration": 123,
    "start_time": "2025-01-15T21:54:38.095Z"
   },
   {
    "duration": 36902,
    "start_time": "2025-01-15T21:55:18.752Z"
   },
   {
    "duration": 36718,
    "start_time": "2025-01-15T21:56:35.927Z"
   },
   {
    "duration": 81,
    "start_time": "2025-01-15T21:57:34.884Z"
   },
   {
    "duration": 37795,
    "start_time": "2025-01-15T21:57:43.853Z"
   },
   {
    "duration": 274,
    "start_time": "2025-01-15T21:59:05.546Z"
   },
   {
    "duration": 36578,
    "start_time": "2025-01-15T21:59:12.805Z"
   },
   {
    "duration": 323,
    "start_time": "2025-01-15T22:03:37.218Z"
   },
   {
    "duration": 340,
    "start_time": "2025-01-15T22:04:54.313Z"
   },
   {
    "duration": 353,
    "start_time": "2025-01-15T22:05:17.923Z"
   },
   {
    "duration": 3813,
    "start_time": "2025-01-15T22:05:28.701Z"
   },
   {
    "duration": 340,
    "start_time": "2025-01-15T22:05:48.459Z"
   },
   {
    "duration": 1263,
    "start_time": "2025-01-15T22:05:55.341Z"
   },
   {
    "duration": 2084,
    "start_time": "2025-01-15T22:05:56.605Z"
   },
   {
    "duration": 22,
    "start_time": "2025-01-15T22:05:58.691Z"
   },
   {
    "duration": 135,
    "start_time": "2025-01-15T22:05:58.716Z"
   },
   {
    "duration": 33,
    "start_time": "2025-01-15T22:05:58.853Z"
   },
   {
    "duration": 23,
    "start_time": "2025-01-15T22:05:58.888Z"
   },
   {
    "duration": 21,
    "start_time": "2025-01-15T22:05:58.912Z"
   },
   {
    "duration": 42,
    "start_time": "2025-01-15T22:05:58.934Z"
   },
   {
    "duration": 48,
    "start_time": "2025-01-15T22:05:58.978Z"
   },
   {
    "duration": 3,
    "start_time": "2025-01-15T22:05:59.029Z"
   },
   {
    "duration": 83,
    "start_time": "2025-01-15T22:05:59.034Z"
   },
   {
    "duration": 118,
    "start_time": "2025-01-15T22:05:59.118Z"
   },
   {
    "duration": 42,
    "start_time": "2025-01-15T22:05:59.238Z"
   },
   {
    "duration": 24,
    "start_time": "2025-01-15T22:05:59.282Z"
   },
   {
    "duration": 18,
    "start_time": "2025-01-15T22:05:59.308Z"
   },
   {
    "duration": 43,
    "start_time": "2025-01-15T22:05:59.328Z"
   },
   {
    "duration": 48,
    "start_time": "2025-01-15T22:05:59.373Z"
   },
   {
    "duration": 10,
    "start_time": "2025-01-15T22:05:59.423Z"
   },
   {
    "duration": 350,
    "start_time": "2025-01-15T22:05:59.434Z"
   },
   {
    "duration": 270,
    "start_time": "2025-01-15T22:05:59.786Z"
   },
   {
    "duration": 201,
    "start_time": "2025-01-15T22:06:00.058Z"
   },
   {
    "duration": 389,
    "start_time": "2025-01-15T22:06:00.260Z"
   },
   {
    "duration": 183,
    "start_time": "2025-01-15T22:06:00.651Z"
   },
   {
    "duration": 154,
    "start_time": "2025-01-15T22:06:00.836Z"
   },
   {
    "duration": 356,
    "start_time": "2025-01-15T22:06:00.992Z"
   },
   {
    "duration": 122,
    "start_time": "2025-01-15T22:06:01.349Z"
   },
   {
    "duration": 342,
    "start_time": "2025-01-15T22:06:34.310Z"
   },
   {
    "duration": 344,
    "start_time": "2025-01-15T22:06:58.475Z"
   },
   {
    "duration": 336,
    "start_time": "2025-01-15T22:10:43.042Z"
   },
   {
    "duration": 356,
    "start_time": "2025-01-15T22:11:00.922Z"
   },
   {
    "duration": 251,
    "start_time": "2025-01-15T22:11:12.936Z"
   },
   {
    "duration": 341,
    "start_time": "2025-01-15T22:11:14.919Z"
   },
   {
    "duration": 338,
    "start_time": "2025-01-15T22:11:23.944Z"
   },
   {
    "duration": 426,
    "start_time": "2025-01-15T22:11:31.486Z"
   },
   {
    "duration": 314,
    "start_time": "2025-01-15T22:11:39.207Z"
   },
   {
    "duration": 326,
    "start_time": "2025-01-15T22:11:42.807Z"
   },
   {
    "duration": 320,
    "start_time": "2025-01-15T22:12:13.522Z"
   },
   {
    "duration": 658,
    "start_time": "2025-01-15T22:19:38.233Z"
   },
   {
    "duration": 604,
    "start_time": "2025-01-15T22:19:52.798Z"
   },
   {
    "duration": 351,
    "start_time": "2025-01-15T22:20:01.389Z"
   },
   {
    "duration": 377,
    "start_time": "2025-01-15T22:20:38.862Z"
   },
   {
    "duration": 485,
    "start_time": "2025-01-15T22:20:56.081Z"
   },
   {
    "duration": 386,
    "start_time": "2025-01-15T22:21:04.892Z"
   },
   {
    "duration": 335,
    "start_time": "2025-01-15T22:24:31.850Z"
   },
   {
    "duration": 351,
    "start_time": "2025-01-15T22:24:51.232Z"
   },
   {
    "duration": 359,
    "start_time": "2025-01-15T22:25:36.512Z"
   },
   {
    "duration": 354,
    "start_time": "2025-01-15T22:26:10.748Z"
   },
   {
    "duration": 336,
    "start_time": "2025-01-15T22:26:26.438Z"
   },
   {
    "duration": 337,
    "start_time": "2025-01-15T22:26:41.264Z"
   },
   {
    "duration": 514,
    "start_time": "2025-01-15T22:28:15.117Z"
   },
   {
    "duration": 326,
    "start_time": "2025-01-15T22:28:29.428Z"
   },
   {
    "duration": 324,
    "start_time": "2025-01-15T22:31:07.546Z"
   },
   {
    "duration": 338,
    "start_time": "2025-01-15T22:33:29.635Z"
   },
   {
    "duration": 336,
    "start_time": "2025-01-15T22:33:38.462Z"
   },
   {
    "duration": 451,
    "start_time": "2025-01-15T22:33:57.732Z"
   },
   {
    "duration": 313,
    "start_time": "2025-01-15T22:34:08.087Z"
   },
   {
    "duration": 325,
    "start_time": "2025-01-15T22:34:14.784Z"
   },
   {
    "duration": 148,
    "start_time": "2025-01-15T22:38:01.005Z"
   },
   {
    "duration": 335,
    "start_time": "2025-01-15T22:38:05.868Z"
   },
   {
    "duration": 144,
    "start_time": "2025-01-15T22:38:20.497Z"
   },
   {
    "duration": 337,
    "start_time": "2025-01-15T22:38:24.371Z"
   },
   {
    "duration": 314,
    "start_time": "2025-01-15T22:38:54.322Z"
   },
   {
    "duration": 331,
    "start_time": "2025-01-15T22:38:59.694Z"
   },
   {
    "duration": 338,
    "start_time": "2025-01-15T22:39:33.461Z"
   },
   {
    "duration": 137,
    "start_time": "2025-01-15T22:39:44.236Z"
   },
   {
    "duration": 324,
    "start_time": "2025-01-15T22:39:49.486Z"
   },
   {
    "duration": 330,
    "start_time": "2025-01-15T22:40:08.940Z"
   },
   {
    "duration": 332,
    "start_time": "2025-01-15T22:42:08.030Z"
   },
   {
    "duration": 444,
    "start_time": "2025-01-15T22:42:11.206Z"
   },
   {
    "duration": 162,
    "start_time": "2025-01-15T22:42:54.573Z"
   },
   {
    "duration": 1117,
    "start_time": "2025-01-15T22:43:31.318Z"
   },
   {
    "duration": 2149,
    "start_time": "2025-01-15T22:43:32.437Z"
   },
   {
    "duration": 21,
    "start_time": "2025-01-15T22:43:34.587Z"
   },
   {
    "duration": 140,
    "start_time": "2025-01-15T22:43:34.610Z"
   },
   {
    "duration": 37,
    "start_time": "2025-01-15T22:43:34.751Z"
   },
   {
    "duration": 34,
    "start_time": "2025-01-15T22:43:34.790Z"
   },
   {
    "duration": 28,
    "start_time": "2025-01-15T22:43:34.825Z"
   },
   {
    "duration": 22,
    "start_time": "2025-01-15T22:43:34.854Z"
   },
   {
    "duration": 63,
    "start_time": "2025-01-15T22:43:34.878Z"
   },
   {
    "duration": 3,
    "start_time": "2025-01-15T22:43:34.944Z"
   },
   {
    "duration": 69,
    "start_time": "2025-01-15T22:43:34.949Z"
   },
   {
    "duration": 117,
    "start_time": "2025-01-15T22:43:35.020Z"
   },
   {
    "duration": 37,
    "start_time": "2025-01-15T22:43:35.138Z"
   },
   {
    "duration": 23,
    "start_time": "2025-01-15T22:43:35.177Z"
   },
   {
    "duration": 17,
    "start_time": "2025-01-15T22:43:35.201Z"
   },
   {
    "duration": 51,
    "start_time": "2025-01-15T22:43:35.220Z"
   },
   {
    "duration": 57,
    "start_time": "2025-01-15T22:43:35.273Z"
   },
   {
    "duration": 8,
    "start_time": "2025-01-15T22:43:35.332Z"
   },
   {
    "duration": 371,
    "start_time": "2025-01-15T22:43:35.341Z"
   },
   {
    "duration": 288,
    "start_time": "2025-01-15T22:43:35.713Z"
   },
   {
    "duration": 202,
    "start_time": "2025-01-15T22:43:36.003Z"
   },
   {
    "duration": 84,
    "start_time": "2025-01-15T22:43:36.207Z"
   },
   {
    "duration": 0,
    "start_time": "2025-01-15T22:43:36.293Z"
   },
   {
    "duration": 0,
    "start_time": "2025-01-15T22:43:36.294Z"
   },
   {
    "duration": 0,
    "start_time": "2025-01-15T22:43:36.295Z"
   },
   {
    "duration": 0,
    "start_time": "2025-01-15T22:43:36.296Z"
   },
   {
    "duration": 1128,
    "start_time": "2025-01-15T22:43:44.010Z"
   },
   {
    "duration": 2094,
    "start_time": "2025-01-15T22:43:45.141Z"
   },
   {
    "duration": 30,
    "start_time": "2025-01-15T22:43:47.240Z"
   },
   {
    "duration": 125,
    "start_time": "2025-01-15T22:43:47.273Z"
   },
   {
    "duration": 29,
    "start_time": "2025-01-15T22:43:47.399Z"
   },
   {
    "duration": 41,
    "start_time": "2025-01-15T22:43:47.430Z"
   },
   {
    "duration": 20,
    "start_time": "2025-01-15T22:43:47.473Z"
   },
   {
    "duration": 14,
    "start_time": "2025-01-15T22:43:47.495Z"
   },
   {
    "duration": 73,
    "start_time": "2025-01-15T22:43:47.510Z"
   },
   {
    "duration": 3,
    "start_time": "2025-01-15T22:43:47.585Z"
   },
   {
    "duration": 62,
    "start_time": "2025-01-15T22:43:47.590Z"
   },
   {
    "duration": 125,
    "start_time": "2025-01-15T22:43:47.653Z"
   },
   {
    "duration": 28,
    "start_time": "2025-01-15T22:43:47.781Z"
   },
   {
    "duration": 46,
    "start_time": "2025-01-15T22:43:47.811Z"
   },
   {
    "duration": 22,
    "start_time": "2025-01-15T22:43:47.859Z"
   },
   {
    "duration": 16,
    "start_time": "2025-01-15T22:43:47.882Z"
   },
   {
    "duration": 43,
    "start_time": "2025-01-15T22:43:47.899Z"
   },
   {
    "duration": 27,
    "start_time": "2025-01-15T22:43:47.944Z"
   },
   {
    "duration": 315,
    "start_time": "2025-01-15T22:43:47.973Z"
   },
   {
    "duration": 257,
    "start_time": "2025-01-15T22:43:48.290Z"
   },
   {
    "duration": 187,
    "start_time": "2025-01-15T22:43:48.548Z"
   },
   {
    "duration": 3,
    "start_time": "2025-01-15T22:43:48.736Z"
   },
   {
    "duration": 193,
    "start_time": "2025-01-15T22:43:48.741Z"
   },
   {
    "duration": 148,
    "start_time": "2025-01-15T22:43:48.936Z"
   },
   {
    "duration": 347,
    "start_time": "2025-01-15T22:43:49.086Z"
   },
   {
    "duration": 122,
    "start_time": "2025-01-15T22:43:49.434Z"
   },
   {
    "duration": 166,
    "start_time": "2025-01-15T22:44:11.696Z"
   },
   {
    "duration": 158,
    "start_time": "2025-01-15T22:44:20.005Z"
   },
   {
    "duration": 1138,
    "start_time": "2025-01-15T22:44:25.207Z"
   },
   {
    "duration": 2777,
    "start_time": "2025-01-15T22:44:26.347Z"
   },
   {
    "duration": 22,
    "start_time": "2025-01-15T22:44:29.126Z"
   },
   {
    "duration": 141,
    "start_time": "2025-01-15T22:44:29.150Z"
   },
   {
    "duration": 30,
    "start_time": "2025-01-15T22:44:29.292Z"
   },
   {
    "duration": 23,
    "start_time": "2025-01-15T22:44:29.324Z"
   },
   {
    "duration": 40,
    "start_time": "2025-01-15T22:44:29.349Z"
   },
   {
    "duration": 14,
    "start_time": "2025-01-15T22:44:29.390Z"
   },
   {
    "duration": 66,
    "start_time": "2025-01-15T22:44:29.405Z"
   },
   {
    "duration": 3,
    "start_time": "2025-01-15T22:44:29.474Z"
   },
   {
    "duration": 58,
    "start_time": "2025-01-15T22:44:29.479Z"
   },
   {
    "duration": 134,
    "start_time": "2025-01-15T22:44:29.539Z"
   },
   {
    "duration": 30,
    "start_time": "2025-01-15T22:44:29.675Z"
   },
   {
    "duration": 153,
    "start_time": "2025-01-15T22:44:29.706Z"
   },
   {
    "duration": 19,
    "start_time": "2025-01-15T22:44:29.861Z"
   },
   {
    "duration": 15,
    "start_time": "2025-01-15T22:44:29.881Z"
   },
   {
    "duration": 47,
    "start_time": "2025-01-15T22:44:29.898Z"
   },
   {
    "duration": 9,
    "start_time": "2025-01-15T22:44:29.970Z"
   },
   {
    "duration": 338,
    "start_time": "2025-01-15T22:44:29.981Z"
   },
   {
    "duration": 278,
    "start_time": "2025-01-15T22:44:30.320Z"
   },
   {
    "duration": 200,
    "start_time": "2025-01-15T22:44:30.600Z"
   },
   {
    "duration": 3,
    "start_time": "2025-01-15T22:44:30.802Z"
   },
   {
    "duration": 252,
    "start_time": "2025-01-15T22:44:30.806Z"
   },
   {
    "duration": 150,
    "start_time": "2025-01-15T22:44:31.059Z"
   },
   {
    "duration": 356,
    "start_time": "2025-01-15T22:44:31.210Z"
   },
   {
    "duration": 127,
    "start_time": "2025-01-15T22:44:31.570Z"
   },
   {
    "duration": 1162,
    "start_time": "2025-01-15T22:44:44.472Z"
   },
   {
    "duration": 1848,
    "start_time": "2025-01-15T22:44:45.636Z"
   },
   {
    "duration": 21,
    "start_time": "2025-01-15T22:44:47.486Z"
   },
   {
    "duration": 128,
    "start_time": "2025-01-15T22:44:47.510Z"
   },
   {
    "duration": 41,
    "start_time": "2025-01-15T22:44:47.640Z"
   },
   {
    "duration": 23,
    "start_time": "2025-01-15T22:44:47.682Z"
   },
   {
    "duration": 21,
    "start_time": "2025-01-15T22:44:47.707Z"
   },
   {
    "duration": 26,
    "start_time": "2025-01-15T22:44:47.730Z"
   },
   {
    "duration": 56,
    "start_time": "2025-01-15T22:44:47.757Z"
   },
   {
    "duration": 18,
    "start_time": "2025-01-15T22:44:47.816Z"
   },
   {
    "duration": 54,
    "start_time": "2025-01-15T22:44:47.836Z"
   },
   {
    "duration": 115,
    "start_time": "2025-01-15T22:44:47.892Z"
   },
   {
    "duration": 28,
    "start_time": "2025-01-15T22:44:48.009Z"
   },
   {
    "duration": 44,
    "start_time": "2025-01-15T22:44:48.038Z"
   },
   {
    "duration": 17,
    "start_time": "2025-01-15T22:44:48.083Z"
   },
   {
    "duration": 13,
    "start_time": "2025-01-15T22:44:48.102Z"
   },
   {
    "duration": 69,
    "start_time": "2025-01-15T22:44:48.116Z"
   },
   {
    "duration": 53,
    "start_time": "2025-01-15T22:44:48.187Z"
   },
   {
    "duration": 326,
    "start_time": "2025-01-15T22:44:48.242Z"
   },
   {
    "duration": 258,
    "start_time": "2025-01-15T22:44:48.570Z"
   },
   {
    "duration": 188,
    "start_time": "2025-01-15T22:44:48.829Z"
   },
   {
    "duration": 3,
    "start_time": "2025-01-15T22:44:49.019Z"
   },
   {
    "duration": 193,
    "start_time": "2025-01-15T22:44:49.024Z"
   },
   {
    "duration": 153,
    "start_time": "2025-01-15T22:44:49.219Z"
   },
   {
    "duration": 353,
    "start_time": "2025-01-15T22:44:49.374Z"
   },
   {
    "duration": 121,
    "start_time": "2025-01-15T22:44:49.729Z"
   },
   {
    "duration": 1123,
    "start_time": "2025-01-15T22:47:58.912Z"
   },
   {
    "duration": 1862,
    "start_time": "2025-01-15T22:48:00.037Z"
   },
   {
    "duration": 21,
    "start_time": "2025-01-15T22:48:01.901Z"
   },
   {
    "duration": 140,
    "start_time": "2025-01-15T22:48:01.924Z"
   },
   {
    "duration": 29,
    "start_time": "2025-01-15T22:48:02.066Z"
   },
   {
    "duration": 40,
    "start_time": "2025-01-15T22:48:02.097Z"
   },
   {
    "duration": 29,
    "start_time": "2025-01-15T22:48:02.139Z"
   },
   {
    "duration": 18,
    "start_time": "2025-01-15T22:48:02.169Z"
   },
   {
    "duration": 147,
    "start_time": "2025-01-15T22:48:02.189Z"
   },
   {
    "duration": 3,
    "start_time": "2025-01-15T22:48:02.338Z"
   },
   {
    "duration": 61,
    "start_time": "2025-01-15T22:48:02.342Z"
   },
   {
    "duration": 109,
    "start_time": "2025-01-15T22:48:02.404Z"
   },
   {
    "duration": 29,
    "start_time": "2025-01-15T22:48:02.515Z"
   },
   {
    "duration": 45,
    "start_time": "2025-01-15T22:48:02.546Z"
   },
   {
    "duration": 68,
    "start_time": "2025-01-15T22:48:02.592Z"
   },
   {
    "duration": 17,
    "start_time": "2025-01-15T22:48:02.662Z"
   },
   {
    "duration": 123,
    "start_time": "2025-01-15T22:48:02.680Z"
   },
   {
    "duration": 88,
    "start_time": "2025-01-15T22:48:02.804Z"
   },
   {
    "duration": 317,
    "start_time": "2025-01-15T22:48:02.894Z"
   },
   {
    "duration": 264,
    "start_time": "2025-01-15T22:48:03.213Z"
   },
   {
    "duration": 185,
    "start_time": "2025-01-15T22:48:03.478Z"
   },
   {
    "duration": 5,
    "start_time": "2025-01-15T22:48:03.665Z"
   },
   {
    "duration": 1627,
    "start_time": "2025-01-15T22:48:03.672Z"
   },
   {
    "duration": 0,
    "start_time": "2025-01-15T22:48:05.300Z"
   },
   {
    "duration": 0,
    "start_time": "2025-01-15T22:48:05.302Z"
   },
   {
    "duration": 0,
    "start_time": "2025-01-15T22:48:05.302Z"
   },
   {
    "duration": 1120,
    "start_time": "2025-01-15T22:48:16.806Z"
   },
   {
    "duration": 1985,
    "start_time": "2025-01-15T22:48:17.928Z"
   },
   {
    "duration": 21,
    "start_time": "2025-01-15T22:48:19.915Z"
   },
   {
    "duration": 143,
    "start_time": "2025-01-15T22:48:19.938Z"
   },
   {
    "duration": 29,
    "start_time": "2025-01-15T22:48:20.084Z"
   },
   {
    "duration": 24,
    "start_time": "2025-01-15T22:48:20.114Z"
   },
   {
    "duration": 46,
    "start_time": "2025-01-15T22:48:20.139Z"
   },
   {
    "duration": 13,
    "start_time": "2025-01-15T22:48:20.187Z"
   },
   {
    "duration": 47,
    "start_time": "2025-01-15T22:48:20.201Z"
   },
   {
    "duration": 4,
    "start_time": "2025-01-15T22:48:20.270Z"
   },
   {
    "duration": 61,
    "start_time": "2025-01-15T22:48:20.276Z"
   },
   {
    "duration": 126,
    "start_time": "2025-01-15T22:48:20.339Z"
   },
   {
    "duration": 30,
    "start_time": "2025-01-15T22:48:20.466Z"
   },
   {
    "duration": 23,
    "start_time": "2025-01-15T22:48:20.499Z"
   },
   {
    "duration": 16,
    "start_time": "2025-01-15T22:48:20.524Z"
   },
   {
    "duration": 41,
    "start_time": "2025-01-15T22:48:20.542Z"
   },
   {
    "duration": 60,
    "start_time": "2025-01-15T22:48:20.584Z"
   },
   {
    "duration": 8,
    "start_time": "2025-01-15T22:48:20.646Z"
   },
   {
    "duration": 328,
    "start_time": "2025-01-15T22:48:20.655Z"
   },
   {
    "duration": 273,
    "start_time": "2025-01-15T22:48:20.985Z"
   },
   {
    "duration": 189,
    "start_time": "2025-01-15T22:48:21.260Z"
   },
   {
    "duration": 3,
    "start_time": "2025-01-15T22:48:21.450Z"
   },
   {
    "duration": 1611,
    "start_time": "2025-01-15T22:48:21.470Z"
   },
   {
    "duration": 0,
    "start_time": "2025-01-15T22:48:23.082Z"
   },
   {
    "duration": 0,
    "start_time": "2025-01-15T22:48:23.084Z"
   },
   {
    "duration": 0,
    "start_time": "2025-01-15T22:48:23.084Z"
   },
   {
    "duration": 1163,
    "start_time": "2025-01-15T22:48:31.464Z"
   },
   {
    "duration": 1993,
    "start_time": "2025-01-15T22:48:32.629Z"
   },
   {
    "duration": 21,
    "start_time": "2025-01-15T22:48:34.624Z"
   },
   {
    "duration": 134,
    "start_time": "2025-01-15T22:48:34.646Z"
   },
   {
    "duration": 28,
    "start_time": "2025-01-15T22:48:34.783Z"
   },
   {
    "duration": 22,
    "start_time": "2025-01-15T22:48:34.813Z"
   },
   {
    "duration": 40,
    "start_time": "2025-01-15T22:48:34.837Z"
   },
   {
    "duration": 14,
    "start_time": "2025-01-15T22:48:34.879Z"
   },
   {
    "duration": 55,
    "start_time": "2025-01-15T22:48:34.895Z"
   },
   {
    "duration": 19,
    "start_time": "2025-01-15T22:48:34.952Z"
   },
   {
    "duration": 72,
    "start_time": "2025-01-15T22:48:34.973Z"
   },
   {
    "duration": 114,
    "start_time": "2025-01-15T22:48:35.047Z"
   },
   {
    "duration": 30,
    "start_time": "2025-01-15T22:48:35.171Z"
   },
   {
    "duration": 24,
    "start_time": "2025-01-15T22:48:35.205Z"
   },
   {
    "duration": 44,
    "start_time": "2025-01-15T22:48:35.231Z"
   },
   {
    "duration": 18,
    "start_time": "2025-01-15T22:48:35.277Z"
   },
   {
    "duration": 46,
    "start_time": "2025-01-15T22:48:35.297Z"
   },
   {
    "duration": 9,
    "start_time": "2025-01-15T22:48:35.370Z"
   },
   {
    "duration": 327,
    "start_time": "2025-01-15T22:48:35.381Z"
   },
   {
    "duration": 289,
    "start_time": "2025-01-15T22:48:35.710Z"
   },
   {
    "duration": 182,
    "start_time": "2025-01-15T22:48:36.001Z"
   },
   {
    "duration": 3,
    "start_time": "2025-01-15T22:48:36.184Z"
   },
   {
    "duration": 313,
    "start_time": "2025-01-15T22:48:36.188Z"
   },
   {
    "duration": 148,
    "start_time": "2025-01-15T22:48:36.503Z"
   },
   {
    "duration": 354,
    "start_time": "2025-01-15T22:48:36.652Z"
   },
   {
    "duration": 119,
    "start_time": "2025-01-15T22:48:37.008Z"
   },
   {
    "duration": 84,
    "start_time": "2025-01-15T22:51:03.600Z"
   },
   {
    "duration": 1235,
    "start_time": "2025-01-15T22:51:13.922Z"
   },
   {
    "duration": 2160,
    "start_time": "2025-01-15T22:51:15.159Z"
   },
   {
    "duration": 22,
    "start_time": "2025-01-15T22:51:17.321Z"
   },
   {
    "duration": 138,
    "start_time": "2025-01-15T22:51:17.344Z"
   },
   {
    "duration": 30,
    "start_time": "2025-01-15T22:51:17.484Z"
   },
   {
    "duration": 28,
    "start_time": "2025-01-15T22:51:17.515Z"
   },
   {
    "duration": 40,
    "start_time": "2025-01-15T22:51:17.544Z"
   },
   {
    "duration": 12,
    "start_time": "2025-01-15T22:51:17.586Z"
   },
   {
    "duration": 75,
    "start_time": "2025-01-15T22:51:17.600Z"
   },
   {
    "duration": 3,
    "start_time": "2025-01-15T22:51:17.677Z"
   },
   {
    "duration": 61,
    "start_time": "2025-01-15T22:51:17.681Z"
   },
   {
    "duration": 145,
    "start_time": "2025-01-15T22:51:17.744Z"
   },
   {
    "duration": 29,
    "start_time": "2025-01-15T22:51:17.891Z"
   },
   {
    "duration": 24,
    "start_time": "2025-01-15T22:51:17.923Z"
   },
   {
    "duration": 18,
    "start_time": "2025-01-15T22:51:17.970Z"
   },
   {
    "duration": 14,
    "start_time": "2025-01-15T22:51:17.990Z"
   },
   {
    "duration": 71,
    "start_time": "2025-01-15T22:51:18.006Z"
   },
   {
    "duration": 8,
    "start_time": "2025-01-15T22:51:18.079Z"
   },
   {
    "duration": 330,
    "start_time": "2025-01-15T22:51:18.089Z"
   },
   {
    "duration": 281,
    "start_time": "2025-01-15T22:51:18.421Z"
   },
   {
    "duration": 192,
    "start_time": "2025-01-15T22:51:18.704Z"
   },
   {
    "duration": 75,
    "start_time": "2025-01-15T22:51:18.898Z"
   },
   {
    "duration": 0,
    "start_time": "2025-01-15T22:51:18.974Z"
   },
   {
    "duration": 0,
    "start_time": "2025-01-15T22:51:18.976Z"
   },
   {
    "duration": 0,
    "start_time": "2025-01-15T22:51:18.977Z"
   },
   {
    "duration": 0,
    "start_time": "2025-01-15T22:51:18.980Z"
   },
   {
    "duration": 427,
    "start_time": "2025-01-15T22:51:33.676Z"
   },
   {
    "duration": 1249,
    "start_time": "2025-01-15T22:51:49.828Z"
   },
   {
    "duration": 1723,
    "start_time": "2025-01-15T22:51:51.079Z"
   },
   {
    "duration": 23,
    "start_time": "2025-01-15T22:51:52.804Z"
   },
   {
    "duration": 190,
    "start_time": "2025-01-15T22:51:52.828Z"
   },
   {
    "duration": 30,
    "start_time": "2025-01-15T22:51:53.020Z"
   },
   {
    "duration": 34,
    "start_time": "2025-01-15T22:51:53.051Z"
   },
   {
    "duration": 25,
    "start_time": "2025-01-15T22:51:53.087Z"
   },
   {
    "duration": 15,
    "start_time": "2025-01-15T22:51:53.114Z"
   },
   {
    "duration": 96,
    "start_time": "2025-01-15T22:51:53.130Z"
   },
   {
    "duration": 4,
    "start_time": "2025-01-15T22:51:53.227Z"
   },
   {
    "duration": 73,
    "start_time": "2025-01-15T22:51:53.232Z"
   },
   {
    "duration": 119,
    "start_time": "2025-01-15T22:51:53.307Z"
   },
   {
    "duration": 29,
    "start_time": "2025-01-15T22:51:53.428Z"
   },
   {
    "duration": 28,
    "start_time": "2025-01-15T22:51:53.471Z"
   },
   {
    "duration": 19,
    "start_time": "2025-01-15T22:51:53.500Z"
   },
   {
    "duration": 35,
    "start_time": "2025-01-15T22:51:53.521Z"
   },
   {
    "duration": 55,
    "start_time": "2025-01-15T22:51:53.558Z"
   },
   {
    "duration": 8,
    "start_time": "2025-01-15T22:51:53.616Z"
   },
   {
    "duration": 354,
    "start_time": "2025-01-15T22:51:53.626Z"
   },
   {
    "duration": 332,
    "start_time": "2025-01-15T22:51:53.981Z"
   },
   {
    "duration": 200,
    "start_time": "2025-01-15T22:51:54.315Z"
   },
   {
    "duration": 444,
    "start_time": "2025-01-15T22:51:54.517Z"
   },
   {
    "duration": 374,
    "start_time": "2025-01-15T22:51:54.963Z"
   },
   {
    "duration": 0,
    "start_time": "2025-01-15T22:51:55.338Z"
   },
   {
    "duration": 0,
    "start_time": "2025-01-15T22:51:55.340Z"
   },
   {
    "duration": 0,
    "start_time": "2025-01-15T22:51:55.341Z"
   },
   {
    "duration": 1178,
    "start_time": "2025-01-15T22:52:26.479Z"
   },
   {
    "duration": 2198,
    "start_time": "2025-01-15T22:52:27.659Z"
   },
   {
    "duration": 32,
    "start_time": "2025-01-15T22:52:29.858Z"
   },
   {
    "duration": 135,
    "start_time": "2025-01-15T22:52:29.892Z"
   },
   {
    "duration": 42,
    "start_time": "2025-01-15T22:52:30.029Z"
   },
   {
    "duration": 39,
    "start_time": "2025-01-15T22:52:30.073Z"
   },
   {
    "duration": 55,
    "start_time": "2025-01-15T22:52:30.114Z"
   },
   {
    "duration": 21,
    "start_time": "2025-01-15T22:52:30.171Z"
   },
   {
    "duration": 74,
    "start_time": "2025-01-15T22:52:30.194Z"
   },
   {
    "duration": 41,
    "start_time": "2025-01-15T22:52:30.272Z"
   },
   {
    "duration": 98,
    "start_time": "2025-01-15T22:52:30.315Z"
   },
   {
    "duration": 121,
    "start_time": "2025-01-15T22:52:30.415Z"
   },
   {
    "duration": 40,
    "start_time": "2025-01-15T22:52:30.538Z"
   },
   {
    "duration": 26,
    "start_time": "2025-01-15T22:52:30.580Z"
   },
   {
    "duration": 20,
    "start_time": "2025-01-15T22:52:30.608Z"
   },
   {
    "duration": 52,
    "start_time": "2025-01-15T22:52:30.630Z"
   },
   {
    "duration": 57,
    "start_time": "2025-01-15T22:52:30.683Z"
   },
   {
    "duration": 8,
    "start_time": "2025-01-15T22:52:30.742Z"
   },
   {
    "duration": 342,
    "start_time": "2025-01-15T22:52:30.751Z"
   },
   {
    "duration": 275,
    "start_time": "2025-01-15T22:52:31.095Z"
   },
   {
    "duration": 205,
    "start_time": "2025-01-15T22:52:31.373Z"
   },
   {
    "duration": 543,
    "start_time": "2025-01-15T22:52:31.580Z"
   },
   {
    "duration": 0,
    "start_time": "2025-01-15T22:52:32.125Z"
   },
   {
    "duration": 0,
    "start_time": "2025-01-15T22:52:32.126Z"
   },
   {
    "duration": 0,
    "start_time": "2025-01-15T22:52:32.128Z"
   },
   {
    "duration": 0,
    "start_time": "2025-01-15T22:52:32.128Z"
   },
   {
    "duration": 610,
    "start_time": "2025-01-15T22:55:36.061Z"
   },
   {
    "duration": 630,
    "start_time": "2025-01-15T22:56:31.232Z"
   },
   {
    "duration": 662,
    "start_time": "2025-01-15T22:56:34.090Z"
   },
   {
    "duration": 1311,
    "start_time": "2025-01-15T22:56:43.553Z"
   },
   {
    "duration": 1218,
    "start_time": "2025-01-15T22:57:11.196Z"
   },
   {
    "duration": 2181,
    "start_time": "2025-01-15T22:57:12.416Z"
   },
   {
    "duration": 22,
    "start_time": "2025-01-15T22:57:14.598Z"
   },
   {
    "duration": 136,
    "start_time": "2025-01-15T22:57:14.622Z"
   },
   {
    "duration": 36,
    "start_time": "2025-01-15T22:57:14.759Z"
   },
   {
    "duration": 28,
    "start_time": "2025-01-15T22:57:14.797Z"
   },
   {
    "duration": 49,
    "start_time": "2025-01-15T22:57:14.827Z"
   },
   {
    "duration": 14,
    "start_time": "2025-01-15T22:57:14.878Z"
   },
   {
    "duration": 47,
    "start_time": "2025-01-15T22:57:14.893Z"
   },
   {
    "duration": 28,
    "start_time": "2025-01-15T22:57:14.942Z"
   },
   {
    "duration": 58,
    "start_time": "2025-01-15T22:57:14.972Z"
   },
   {
    "duration": 141,
    "start_time": "2025-01-15T22:57:15.031Z"
   },
   {
    "duration": 33,
    "start_time": "2025-01-15T22:57:15.174Z"
   },
   {
    "duration": 34,
    "start_time": "2025-01-15T22:57:15.209Z"
   },
   {
    "duration": 41,
    "start_time": "2025-01-15T22:57:15.245Z"
   },
   {
    "duration": 26,
    "start_time": "2025-01-15T22:57:15.288Z"
   },
   {
    "duration": 59,
    "start_time": "2025-01-15T22:57:15.316Z"
   },
   {
    "duration": 9,
    "start_time": "2025-01-15T22:57:15.376Z"
   },
   {
    "duration": 350,
    "start_time": "2025-01-15T22:57:15.387Z"
   },
   {
    "duration": 288,
    "start_time": "2025-01-15T22:57:15.739Z"
   },
   {
    "duration": 208,
    "start_time": "2025-01-15T22:57:16.029Z"
   },
   {
    "duration": 787,
    "start_time": "2025-01-15T22:57:16.239Z"
   },
   {
    "duration": 0,
    "start_time": "2025-01-15T22:57:17.027Z"
   },
   {
    "duration": 0,
    "start_time": "2025-01-15T22:57:17.029Z"
   },
   {
    "duration": 0,
    "start_time": "2025-01-15T22:57:17.030Z"
   },
   {
    "duration": 0,
    "start_time": "2025-01-15T22:57:17.031Z"
   },
   {
    "duration": 691,
    "start_time": "2025-01-15T22:57:38.692Z"
   },
   {
    "duration": 646,
    "start_time": "2025-01-15T22:57:49.399Z"
   },
   {
    "duration": 725,
    "start_time": "2025-01-15T22:58:14.257Z"
   },
   {
    "duration": 1191,
    "start_time": "2025-01-15T22:59:58.636Z"
   },
   {
    "duration": 2613,
    "start_time": "2025-01-15T22:59:59.829Z"
   },
   {
    "duration": 32,
    "start_time": "2025-01-15T23:00:02.444Z"
   },
   {
    "duration": 139,
    "start_time": "2025-01-15T23:00:02.478Z"
   },
   {
    "duration": 31,
    "start_time": "2025-01-15T23:00:02.620Z"
   },
   {
    "duration": 69,
    "start_time": "2025-01-15T23:00:02.652Z"
   },
   {
    "duration": 58,
    "start_time": "2025-01-15T23:00:02.722Z"
   },
   {
    "duration": 228,
    "start_time": "2025-01-15T23:00:02.782Z"
   },
   {
    "duration": 115,
    "start_time": "2025-01-15T23:00:03.012Z"
   },
   {
    "duration": 4,
    "start_time": "2025-01-15T23:00:03.130Z"
   },
   {
    "duration": 87,
    "start_time": "2025-01-15T23:00:03.136Z"
   },
   {
    "duration": 197,
    "start_time": "2025-01-15T23:00:03.225Z"
   },
   {
    "duration": 31,
    "start_time": "2025-01-15T23:00:03.424Z"
   },
   {
    "duration": 27,
    "start_time": "2025-01-15T23:00:03.473Z"
   },
   {
    "duration": 40,
    "start_time": "2025-01-15T23:00:03.503Z"
   },
   {
    "duration": 34,
    "start_time": "2025-01-15T23:00:03.545Z"
   },
   {
    "duration": 52,
    "start_time": "2025-01-15T23:00:03.581Z"
   },
   {
    "duration": 32,
    "start_time": "2025-01-15T23:00:03.635Z"
   },
   {
    "duration": 369,
    "start_time": "2025-01-15T23:00:03.669Z"
   },
   {
    "duration": 298,
    "start_time": "2025-01-15T23:00:04.040Z"
   },
   {
    "duration": 199,
    "start_time": "2025-01-15T23:00:04.339Z"
   },
   {
    "duration": 2341,
    "start_time": "2025-01-15T23:00:04.541Z"
   },
   {
    "duration": 0,
    "start_time": "2025-01-15T23:00:06.885Z"
   },
   {
    "duration": 0,
    "start_time": "2025-01-15T23:00:06.886Z"
   },
   {
    "duration": 0,
    "start_time": "2025-01-15T23:00:06.887Z"
   },
   {
    "duration": 0,
    "start_time": "2025-01-15T23:00:06.888Z"
   },
   {
    "duration": 421,
    "start_time": "2025-01-15T23:04:21.516Z"
   },
   {
    "duration": 334,
    "start_time": "2025-01-15T23:04:58.923Z"
   },
   {
    "duration": 337,
    "start_time": "2025-01-15T23:05:08.468Z"
   },
   {
    "duration": 1640,
    "start_time": "2025-01-15T23:05:27.981Z"
   },
   {
    "duration": 436,
    "start_time": "2025-01-15T23:06:05.954Z"
   },
   {
    "duration": 338,
    "start_time": "2025-01-15T23:06:16.125Z"
   },
   {
    "duration": 412,
    "start_time": "2025-01-15T23:07:56.295Z"
   },
   {
    "duration": 366,
    "start_time": "2025-01-15T23:08:13.916Z"
   },
   {
    "duration": 321,
    "start_time": "2025-01-15T23:08:20.084Z"
   },
   {
    "duration": 321,
    "start_time": "2025-01-15T23:08:27.445Z"
   },
   {
    "duration": 327,
    "start_time": "2025-01-15T23:08:33.277Z"
   },
   {
    "duration": 333,
    "start_time": "2025-01-15T23:08:58.531Z"
   },
   {
    "duration": 365,
    "start_time": "2025-01-15T23:09:25.679Z"
   },
   {
    "duration": 340,
    "start_time": "2025-01-15T23:09:51.099Z"
   },
   {
    "duration": 343,
    "start_time": "2025-01-15T23:09:58.161Z"
   },
   {
    "duration": 355,
    "start_time": "2025-01-15T23:10:13.152Z"
   },
   {
    "duration": 343,
    "start_time": "2025-01-15T23:10:31.977Z"
   },
   {
    "duration": 448,
    "start_time": "2025-01-15T23:10:42.661Z"
   },
   {
    "duration": 328,
    "start_time": "2025-01-15T23:10:57.258Z"
   },
   {
    "duration": 350,
    "start_time": "2025-01-15T23:11:17.925Z"
   },
   {
    "duration": 332,
    "start_time": "2025-01-15T23:11:26.391Z"
   },
   {
    "duration": 337,
    "start_time": "2025-01-15T23:11:32.533Z"
   },
   {
    "duration": 61,
    "start_time": "2025-01-16T09:20:10.049Z"
   },
   {
    "duration": 1441,
    "start_time": "2025-01-16T09:20:15.991Z"
   },
   {
    "duration": 2277,
    "start_time": "2025-01-16T09:20:17.434Z"
   },
   {
    "duration": 29,
    "start_time": "2025-01-16T09:20:19.714Z"
   },
   {
    "duration": 144,
    "start_time": "2025-01-16T09:20:19.745Z"
   },
   {
    "duration": 49,
    "start_time": "2025-01-16T09:20:19.892Z"
   },
   {
    "duration": 26,
    "start_time": "2025-01-16T09:20:19.943Z"
   },
   {
    "duration": 25,
    "start_time": "2025-01-16T09:20:19.971Z"
   },
   {
    "duration": 39,
    "start_time": "2025-01-16T09:20:19.997Z"
   },
   {
    "duration": 50,
    "start_time": "2025-01-16T09:20:20.037Z"
   },
   {
    "duration": 4,
    "start_time": "2025-01-16T09:20:20.088Z"
   },
   {
    "duration": 83,
    "start_time": "2025-01-16T09:20:20.093Z"
   },
   {
    "duration": 124,
    "start_time": "2025-01-16T09:20:20.178Z"
   },
   {
    "duration": 38,
    "start_time": "2025-01-16T09:20:20.304Z"
   },
   {
    "duration": 31,
    "start_time": "2025-01-16T09:20:20.345Z"
   },
   {
    "duration": 43,
    "start_time": "2025-01-16T09:20:20.377Z"
   },
   {
    "duration": 22,
    "start_time": "2025-01-16T09:20:20.422Z"
   },
   {
    "duration": 49,
    "start_time": "2025-01-16T09:20:20.446Z"
   },
   {
    "duration": 8,
    "start_time": "2025-01-16T09:20:20.496Z"
   },
   {
    "duration": 344,
    "start_time": "2025-01-16T09:20:20.506Z"
   },
   {
    "duration": 275,
    "start_time": "2025-01-16T09:20:20.851Z"
   },
   {
    "duration": 206,
    "start_time": "2025-01-16T09:20:21.129Z"
   },
   {
    "duration": 390,
    "start_time": "2025-01-16T09:20:21.337Z"
   },
   {
    "duration": 3,
    "start_time": "2025-01-16T09:20:21.729Z"
   },
   {
    "duration": 167,
    "start_time": "2025-01-16T09:20:21.733Z"
   },
   {
    "duration": 366,
    "start_time": "2025-01-16T09:20:21.902Z"
   },
   {
    "duration": 113,
    "start_time": "2025-01-16T09:20:22.270Z"
   },
   {
    "duration": 1245,
    "start_time": "2025-01-16T09:22:45.975Z"
   },
   {
    "duration": 1888,
    "start_time": "2025-01-16T09:22:47.223Z"
   },
   {
    "duration": 25,
    "start_time": "2025-01-16T09:22:49.113Z"
   },
   {
    "duration": 143,
    "start_time": "2025-01-16T09:22:49.141Z"
   },
   {
    "duration": 31,
    "start_time": "2025-01-16T09:22:49.286Z"
   },
   {
    "duration": 28,
    "start_time": "2025-01-16T09:22:49.331Z"
   },
   {
    "duration": 30,
    "start_time": "2025-01-16T09:22:49.361Z"
   },
   {
    "duration": 15,
    "start_time": "2025-01-16T09:22:49.393Z"
   },
   {
    "duration": 51,
    "start_time": "2025-01-16T09:22:49.430Z"
   },
   {
    "duration": 15,
    "start_time": "2025-01-16T09:22:49.484Z"
   },
   {
    "duration": 77,
    "start_time": "2025-01-16T09:22:49.501Z"
   },
   {
    "duration": 123,
    "start_time": "2025-01-16T09:22:49.580Z"
   },
   {
    "duration": 38,
    "start_time": "2025-01-16T09:22:49.705Z"
   },
   {
    "duration": 41,
    "start_time": "2025-01-16T09:22:49.745Z"
   },
   {
    "duration": 21,
    "start_time": "2025-01-16T09:22:49.787Z"
   },
   {
    "duration": 96,
    "start_time": "2025-01-16T09:22:49.810Z"
   },
   {
    "duration": 53,
    "start_time": "2025-01-16T09:22:49.908Z"
   },
   {
    "duration": 11,
    "start_time": "2025-01-16T09:22:49.962Z"
   },
   {
    "duration": 342,
    "start_time": "2025-01-16T09:22:49.974Z"
   },
   {
    "duration": 295,
    "start_time": "2025-01-16T09:22:50.318Z"
   },
   {
    "duration": 207,
    "start_time": "2025-01-16T09:22:50.615Z"
   },
   {
    "duration": 412,
    "start_time": "2025-01-16T09:22:50.824Z"
   },
   {
    "duration": 4,
    "start_time": "2025-01-16T09:22:51.238Z"
   },
   {
    "duration": 173,
    "start_time": "2025-01-16T09:22:51.244Z"
   },
   {
    "duration": 381,
    "start_time": "2025-01-16T09:22:51.419Z"
   },
   {
    "duration": 116,
    "start_time": "2025-01-16T09:22:51.801Z"
   },
   {
    "duration": 480,
    "start_time": "2025-01-16T09:26:13.989Z"
   },
   {
    "duration": 1816,
    "start_time": "2025-01-16T09:28:27.896Z"
   },
   {
    "duration": 409,
    "start_time": "2025-01-16T09:29:24.640Z"
   },
   {
    "duration": 1299,
    "start_time": "2025-01-16T09:29:59.532Z"
   },
   {
    "duration": 2273,
    "start_time": "2025-01-16T09:30:00.833Z"
   },
   {
    "duration": 30,
    "start_time": "2025-01-16T09:30:03.111Z"
   },
   {
    "duration": 152,
    "start_time": "2025-01-16T09:30:03.143Z"
   },
   {
    "duration": 36,
    "start_time": "2025-01-16T09:30:03.297Z"
   },
   {
    "duration": 27,
    "start_time": "2025-01-16T09:30:03.335Z"
   },
   {
    "duration": 27,
    "start_time": "2025-01-16T09:30:03.364Z"
   },
   {
    "duration": 39,
    "start_time": "2025-01-16T09:30:03.393Z"
   },
   {
    "duration": 50,
    "start_time": "2025-01-16T09:30:03.435Z"
   },
   {
    "duration": 3,
    "start_time": "2025-01-16T09:30:03.487Z"
   },
   {
    "duration": 124,
    "start_time": "2025-01-16T09:30:03.492Z"
   },
   {
    "duration": 114,
    "start_time": "2025-01-16T09:30:03.617Z"
   },
   {
    "duration": 31,
    "start_time": "2025-01-16T09:30:03.733Z"
   },
   {
    "duration": 26,
    "start_time": "2025-01-16T09:30:03.765Z"
   },
   {
    "duration": 47,
    "start_time": "2025-01-16T09:30:03.793Z"
   },
   {
    "duration": 59,
    "start_time": "2025-01-16T09:30:03.841Z"
   },
   {
    "duration": 73,
    "start_time": "2025-01-16T09:30:03.901Z"
   },
   {
    "duration": 79,
    "start_time": "2025-01-16T09:30:03.975Z"
   },
   {
    "duration": 351,
    "start_time": "2025-01-16T09:30:04.056Z"
   },
   {
    "duration": 309,
    "start_time": "2025-01-16T09:30:04.409Z"
   },
   {
    "duration": 215,
    "start_time": "2025-01-16T09:30:04.721Z"
   },
   {
    "duration": 1750,
    "start_time": "2025-01-16T09:30:04.937Z"
   },
   {
    "duration": 0,
    "start_time": "2025-01-16T09:30:06.690Z"
   },
   {
    "duration": 0,
    "start_time": "2025-01-16T09:30:06.691Z"
   },
   {
    "duration": 0,
    "start_time": "2025-01-16T09:30:06.693Z"
   },
   {
    "duration": 0,
    "start_time": "2025-01-16T09:30:06.695Z"
   },
   {
    "duration": 0,
    "start_time": "2025-01-16T09:30:06.697Z"
   },
   {
    "duration": 1204,
    "start_time": "2025-01-16T09:30:46.130Z"
   },
   {
    "duration": 2531,
    "start_time": "2025-01-16T09:30:47.336Z"
   },
   {
    "duration": 22,
    "start_time": "2025-01-16T09:30:49.869Z"
   },
   {
    "duration": 141,
    "start_time": "2025-01-16T09:30:49.893Z"
   },
   {
    "duration": 31,
    "start_time": "2025-01-16T09:30:50.036Z"
   },
   {
    "duration": 38,
    "start_time": "2025-01-16T09:30:50.069Z"
   },
   {
    "duration": 42,
    "start_time": "2025-01-16T09:30:50.108Z"
   },
   {
    "duration": 13,
    "start_time": "2025-01-16T09:30:50.152Z"
   },
   {
    "duration": 73,
    "start_time": "2025-01-16T09:30:50.167Z"
   },
   {
    "duration": 3,
    "start_time": "2025-01-16T09:30:50.242Z"
   },
   {
    "duration": 64,
    "start_time": "2025-01-16T09:30:50.247Z"
   },
   {
    "duration": 133,
    "start_time": "2025-01-16T09:30:50.313Z"
   },
   {
    "duration": 30,
    "start_time": "2025-01-16T09:30:50.448Z"
   },
   {
    "duration": 49,
    "start_time": "2025-01-16T09:30:50.481Z"
   },
   {
    "duration": 29,
    "start_time": "2025-01-16T09:30:50.533Z"
   },
   {
    "duration": 21,
    "start_time": "2025-01-16T09:30:50.564Z"
   },
   {
    "duration": 72,
    "start_time": "2025-01-16T09:30:50.587Z"
   },
   {
    "duration": 13,
    "start_time": "2025-01-16T09:30:50.661Z"
   },
   {
    "duration": 355,
    "start_time": "2025-01-16T09:30:50.675Z"
   },
   {
    "duration": 280,
    "start_time": "2025-01-16T09:30:51.032Z"
   },
   {
    "duration": 199,
    "start_time": "2025-01-16T09:30:51.314Z"
   },
   {
    "duration": 569,
    "start_time": "2025-01-16T09:30:51.515Z"
   },
   {
    "duration": 412,
    "start_time": "2025-01-16T09:30:52.086Z"
   },
   {
    "duration": 4,
    "start_time": "2025-01-16T09:30:52.500Z"
   },
   {
    "duration": 167,
    "start_time": "2025-01-16T09:30:52.506Z"
   },
   {
    "duration": 371,
    "start_time": "2025-01-16T09:30:52.675Z"
   },
   {
    "duration": 119,
    "start_time": "2025-01-16T09:30:53.048Z"
   },
   {
    "duration": 322,
    "start_time": "2025-01-16T09:31:55.712Z"
   },
   {
    "duration": 338,
    "start_time": "2025-01-16T09:32:06.258Z"
   },
   {
    "duration": 102,
    "start_time": "2025-01-16T09:32:09.290Z"
   },
   {
    "duration": 499,
    "start_time": "2025-01-16T09:32:11.312Z"
   },
   {
    "duration": 529,
    "start_time": "2025-01-16T09:32:48.472Z"
   },
   {
    "duration": 1283,
    "start_time": "2025-01-16T09:33:28.765Z"
   },
   {
    "duration": 2516,
    "start_time": "2025-01-16T09:33:30.050Z"
   },
   {
    "duration": 21,
    "start_time": "2025-01-16T09:33:32.568Z"
   },
   {
    "duration": 144,
    "start_time": "2025-01-16T09:33:32.590Z"
   },
   {
    "duration": 32,
    "start_time": "2025-01-16T09:33:32.736Z"
   },
   {
    "duration": 41,
    "start_time": "2025-01-16T09:33:32.770Z"
   },
   {
    "duration": 42,
    "start_time": "2025-01-16T09:33:32.813Z"
   },
   {
    "duration": 19,
    "start_time": "2025-01-16T09:33:32.857Z"
   },
   {
    "duration": 59,
    "start_time": "2025-01-16T09:33:32.878Z"
   },
   {
    "duration": 4,
    "start_time": "2025-01-16T09:33:32.939Z"
   },
   {
    "duration": 93,
    "start_time": "2025-01-16T09:33:32.945Z"
   },
   {
    "duration": 123,
    "start_time": "2025-01-16T09:33:33.040Z"
   },
   {
    "duration": 33,
    "start_time": "2025-01-16T09:33:33.166Z"
   },
   {
    "duration": 47,
    "start_time": "2025-01-16T09:33:33.202Z"
   },
   {
    "duration": 29,
    "start_time": "2025-01-16T09:33:33.251Z"
   },
   {
    "duration": 18,
    "start_time": "2025-01-16T09:33:33.282Z"
   },
   {
    "duration": 61,
    "start_time": "2025-01-16T09:33:33.307Z"
   },
   {
    "duration": 8,
    "start_time": "2025-01-16T09:33:33.371Z"
   },
   {
    "duration": 354,
    "start_time": "2025-01-16T09:33:33.382Z"
   },
   {
    "duration": 276,
    "start_time": "2025-01-16T09:33:33.738Z"
   },
   {
    "duration": 207,
    "start_time": "2025-01-16T09:33:34.016Z"
   },
   {
    "duration": 409,
    "start_time": "2025-01-16T09:33:34.229Z"
   },
   {
    "duration": 596,
    "start_time": "2025-01-16T09:33:34.640Z"
   },
   {
    "duration": 3,
    "start_time": "2025-01-16T09:33:35.238Z"
   },
   {
    "duration": 183,
    "start_time": "2025-01-16T09:33:35.242Z"
   },
   {
    "duration": 382,
    "start_time": "2025-01-16T09:33:35.429Z"
   },
   {
    "duration": 127,
    "start_time": "2025-01-16T09:33:35.813Z"
   },
   {
    "duration": 571,
    "start_time": "2025-01-16T09:33:45.534Z"
   },
   {
    "duration": 526,
    "start_time": "2025-01-16T09:34:06.075Z"
   },
   {
    "duration": 506,
    "start_time": "2025-01-16T09:34:28.524Z"
   },
   {
    "duration": 532,
    "start_time": "2025-01-16T09:34:39.646Z"
   },
   {
    "duration": 500,
    "start_time": "2025-01-16T09:35:15.554Z"
   },
   {
    "duration": 495,
    "start_time": "2025-01-16T09:36:09.194Z"
   },
   {
    "duration": 1310,
    "start_time": "2025-01-16T09:36:13.928Z"
   },
   {
    "duration": 2700,
    "start_time": "2025-01-16T09:36:15.240Z"
   },
   {
    "duration": 23,
    "start_time": "2025-01-16T09:36:17.942Z"
   },
   {
    "duration": 152,
    "start_time": "2025-01-16T09:36:17.967Z"
   },
   {
    "duration": 33,
    "start_time": "2025-01-16T09:36:18.120Z"
   },
   {
    "duration": 36,
    "start_time": "2025-01-16T09:36:18.154Z"
   },
   {
    "duration": 39,
    "start_time": "2025-01-16T09:36:18.192Z"
   },
   {
    "duration": 15,
    "start_time": "2025-01-16T09:36:18.233Z"
   },
   {
    "duration": 51,
    "start_time": "2025-01-16T09:36:18.250Z"
   },
   {
    "duration": 5,
    "start_time": "2025-01-16T09:36:18.333Z"
   },
   {
    "duration": 91,
    "start_time": "2025-01-16T09:36:18.340Z"
   },
   {
    "duration": 125,
    "start_time": "2025-01-16T09:36:18.433Z"
   },
   {
    "duration": 31,
    "start_time": "2025-01-16T09:36:18.559Z"
   },
   {
    "duration": 51,
    "start_time": "2025-01-16T09:36:18.592Z"
   },
   {
    "duration": 19,
    "start_time": "2025-01-16T09:36:18.645Z"
   },
   {
    "duration": 29,
    "start_time": "2025-01-16T09:36:18.666Z"
   },
   {
    "duration": 60,
    "start_time": "2025-01-16T09:36:18.697Z"
   },
   {
    "duration": 10,
    "start_time": "2025-01-16T09:36:18.758Z"
   },
   {
    "duration": 350,
    "start_time": "2025-01-16T09:36:18.769Z"
   },
   {
    "duration": 281,
    "start_time": "2025-01-16T09:36:19.120Z"
   },
   {
    "duration": 201,
    "start_time": "2025-01-16T09:36:19.402Z"
   },
   {
    "duration": 389,
    "start_time": "2025-01-16T09:36:19.605Z"
   },
   {
    "duration": 396,
    "start_time": "2025-01-16T09:36:19.995Z"
   },
   {
    "duration": 3,
    "start_time": "2025-01-16T09:36:20.393Z"
   },
   {
    "duration": 160,
    "start_time": "2025-01-16T09:36:20.397Z"
   },
   {
    "duration": 375,
    "start_time": "2025-01-16T09:36:20.559Z"
   },
   {
    "duration": 118,
    "start_time": "2025-01-16T09:36:20.936Z"
   },
   {
    "duration": 375,
    "start_time": "2025-01-16T09:36:41.237Z"
   },
   {
    "duration": 191,
    "start_time": "2025-01-16T09:36:51.359Z"
   },
   {
    "duration": 395,
    "start_time": "2025-01-16T09:36:54.479Z"
   },
   {
    "duration": 88,
    "start_time": "2025-01-16T09:38:20.010Z"
   },
   {
    "duration": 410,
    "start_time": "2025-01-16T09:38:33.274Z"
   },
   {
    "duration": 419,
    "start_time": "2025-01-16T09:38:48.070Z"
   },
   {
    "duration": 1274,
    "start_time": "2025-01-16T09:39:26.856Z"
   },
   {
    "duration": 2896,
    "start_time": "2025-01-16T09:39:28.132Z"
   },
   {
    "duration": 23,
    "start_time": "2025-01-16T09:39:31.029Z"
   },
   {
    "duration": 143,
    "start_time": "2025-01-16T09:39:31.054Z"
   },
   {
    "duration": 40,
    "start_time": "2025-01-16T09:39:31.200Z"
   },
   {
    "duration": 28,
    "start_time": "2025-01-16T09:39:31.242Z"
   },
   {
    "duration": 32,
    "start_time": "2025-01-16T09:39:31.272Z"
   },
   {
    "duration": 27,
    "start_time": "2025-01-16T09:39:31.306Z"
   },
   {
    "duration": 55,
    "start_time": "2025-01-16T09:39:31.334Z"
   },
   {
    "duration": 3,
    "start_time": "2025-01-16T09:39:31.391Z"
   },
   {
    "duration": 87,
    "start_time": "2025-01-16T09:39:31.396Z"
   },
   {
    "duration": 118,
    "start_time": "2025-01-16T09:39:31.485Z"
   },
   {
    "duration": 40,
    "start_time": "2025-01-16T09:39:31.605Z"
   },
   {
    "duration": 26,
    "start_time": "2025-01-16T09:39:31.647Z"
   },
   {
    "duration": 27,
    "start_time": "2025-01-16T09:39:31.675Z"
   },
   {
    "duration": 42,
    "start_time": "2025-01-16T09:39:31.704Z"
   },
   {
    "duration": 48,
    "start_time": "2025-01-16T09:39:31.747Z"
   },
   {
    "duration": 8,
    "start_time": "2025-01-16T09:39:31.797Z"
   },
   {
    "duration": 397,
    "start_time": "2025-01-16T09:39:31.807Z"
   },
   {
    "duration": 292,
    "start_time": "2025-01-16T09:39:32.205Z"
   },
   {
    "duration": 200,
    "start_time": "2025-01-16T09:39:32.499Z"
   },
   {
    "duration": 389,
    "start_time": "2025-01-16T09:39:32.700Z"
   },
   {
    "duration": 432,
    "start_time": "2025-01-16T09:39:33.090Z"
   },
   {
    "duration": 169,
    "start_time": "2025-01-16T09:39:33.524Z"
   },
   {
    "duration": 390,
    "start_time": "2025-01-16T09:39:33.694Z"
   },
   {
    "duration": 115,
    "start_time": "2025-01-16T09:39:34.086Z"
   },
   {
    "duration": 442,
    "start_time": "2025-01-16T09:40:49.099Z"
   },
   {
    "duration": 1844,
    "start_time": "2025-01-16T09:40:57.790Z"
   },
   {
    "duration": 2082,
    "start_time": "2025-01-16T09:40:59.636Z"
   },
   {
    "duration": 26,
    "start_time": "2025-01-16T09:41:01.720Z"
   },
   {
    "duration": 194,
    "start_time": "2025-01-16T09:41:01.747Z"
   },
   {
    "duration": 31,
    "start_time": "2025-01-16T09:41:01.944Z"
   },
   {
    "duration": 26,
    "start_time": "2025-01-16T09:41:01.977Z"
   },
   {
    "duration": 45,
    "start_time": "2025-01-16T09:41:02.004Z"
   },
   {
    "duration": 15,
    "start_time": "2025-01-16T09:41:02.051Z"
   },
   {
    "duration": 103,
    "start_time": "2025-01-16T09:41:02.068Z"
   },
   {
    "duration": 4,
    "start_time": "2025-01-16T09:41:02.172Z"
   },
   {
    "duration": 83,
    "start_time": "2025-01-16T09:41:02.178Z"
   },
   {
    "duration": 118,
    "start_time": "2025-01-16T09:41:02.263Z"
   },
   {
    "duration": 31,
    "start_time": "2025-01-16T09:41:02.383Z"
   },
   {
    "duration": 28,
    "start_time": "2025-01-16T09:41:02.432Z"
   },
   {
    "duration": 41,
    "start_time": "2025-01-16T09:41:02.462Z"
   },
   {
    "duration": 32,
    "start_time": "2025-01-16T09:41:02.505Z"
   },
   {
    "duration": 72,
    "start_time": "2025-01-16T09:41:02.539Z"
   },
   {
    "duration": 14,
    "start_time": "2025-01-16T09:41:02.613Z"
   },
   {
    "duration": 347,
    "start_time": "2025-01-16T09:41:02.629Z"
   },
   {
    "duration": 300,
    "start_time": "2025-01-16T09:41:02.977Z"
   },
   {
    "duration": 209,
    "start_time": "2025-01-16T09:41:03.278Z"
   },
   {
    "duration": 403,
    "start_time": "2025-01-16T09:41:03.489Z"
   },
   {
    "duration": 462,
    "start_time": "2025-01-16T09:41:03.894Z"
   },
   {
    "duration": 163,
    "start_time": "2025-01-16T09:41:04.358Z"
   },
   {
    "duration": 407,
    "start_time": "2025-01-16T09:41:04.523Z"
   },
   {
    "duration": 116,
    "start_time": "2025-01-16T09:41:04.932Z"
   },
   {
    "duration": 87,
    "start_time": "2025-01-16T09:45:39.940Z"
   },
   {
    "duration": 418,
    "start_time": "2025-01-16T09:45:45.943Z"
   },
   {
    "duration": 98,
    "start_time": "2025-01-16T09:46:11.831Z"
   },
   {
    "duration": 408,
    "start_time": "2025-01-16T09:46:14.395Z"
   },
   {
    "duration": 1243,
    "start_time": "2025-01-16T09:49:07.197Z"
   },
   {
    "duration": 2652,
    "start_time": "2025-01-16T09:49:08.443Z"
   },
   {
    "duration": 31,
    "start_time": "2025-01-16T09:49:11.100Z"
   },
   {
    "duration": 147,
    "start_time": "2025-01-16T09:49:11.132Z"
   },
   {
    "duration": 31,
    "start_time": "2025-01-16T09:49:11.281Z"
   },
   {
    "duration": 28,
    "start_time": "2025-01-16T09:49:11.329Z"
   },
   {
    "duration": 21,
    "start_time": "2025-01-16T09:49:11.358Z"
   },
   {
    "duration": 15,
    "start_time": "2025-01-16T09:49:11.381Z"
   },
   {
    "duration": 92,
    "start_time": "2025-01-16T09:49:11.398Z"
   },
   {
    "duration": 4,
    "start_time": "2025-01-16T09:49:11.491Z"
   },
   {
    "duration": 77,
    "start_time": "2025-01-16T09:49:11.496Z"
   },
   {
    "duration": 115,
    "start_time": "2025-01-16T09:49:11.575Z"
   },
   {
    "duration": 44,
    "start_time": "2025-01-16T09:49:11.691Z"
   },
   {
    "duration": 28,
    "start_time": "2025-01-16T09:49:11.737Z"
   },
   {
    "duration": 22,
    "start_time": "2025-01-16T09:49:11.766Z"
   },
   {
    "duration": 42,
    "start_time": "2025-01-16T09:49:11.790Z"
   },
   {
    "duration": 48,
    "start_time": "2025-01-16T09:49:11.834Z"
   },
   {
    "duration": 49,
    "start_time": "2025-01-16T09:49:11.884Z"
   },
   {
    "duration": 330,
    "start_time": "2025-01-16T09:49:11.935Z"
   },
   {
    "duration": 273,
    "start_time": "2025-01-16T09:49:12.267Z"
   },
   {
    "duration": 200,
    "start_time": "2025-01-16T09:49:12.542Z"
   },
   {
    "duration": 401,
    "start_time": "2025-01-16T09:49:12.744Z"
   },
   {
    "duration": 131,
    "start_time": "2025-01-16T09:49:13.147Z"
   },
   {
    "duration": 0,
    "start_time": "2025-01-16T09:49:13.280Z"
   },
   {
    "duration": 0,
    "start_time": "2025-01-16T09:49:13.281Z"
   },
   {
    "duration": 0,
    "start_time": "2025-01-16T09:49:13.282Z"
   },
   {
    "duration": 388,
    "start_time": "2025-01-16T09:49:43.573Z"
   },
   {
    "duration": 376,
    "start_time": "2025-01-16T09:50:22.059Z"
   },
   {
    "duration": 173,
    "start_time": "2025-01-16T09:50:36.823Z"
   },
   {
    "duration": 177,
    "start_time": "2025-01-16T09:50:41.058Z"
   },
   {
    "duration": 391,
    "start_time": "2025-01-16T09:50:44.570Z"
   },
   {
    "duration": 405,
    "start_time": "2025-01-16T09:51:04.464Z"
   },
   {
    "duration": 173,
    "start_time": "2025-01-16T09:51:26.175Z"
   },
   {
    "duration": 168,
    "start_time": "2025-01-16T09:51:30.752Z"
   },
   {
    "duration": 315,
    "start_time": "2025-01-16T09:51:36.324Z"
   },
   {
    "duration": 367,
    "start_time": "2025-01-16T09:51:39.590Z"
   },
   {
    "duration": 460,
    "start_time": "2025-01-16T09:52:30.637Z"
   },
   {
    "duration": 118,
    "start_time": "2025-01-16T09:54:00.277Z"
   },
   {
    "duration": 377,
    "start_time": "2025-01-16T09:54:02.599Z"
   },
   {
    "duration": 394,
    "start_time": "2025-01-16T09:54:17.006Z"
   },
   {
    "duration": 397,
    "start_time": "2025-01-16T09:54:35.966Z"
   },
   {
    "duration": 395,
    "start_time": "2025-01-16T09:55:10.846Z"
   },
   {
    "duration": 97,
    "start_time": "2025-01-16T09:55:34.947Z"
   },
   {
    "duration": 448,
    "start_time": "2025-01-16T09:55:45.503Z"
   },
   {
    "duration": 398,
    "start_time": "2025-01-16T09:55:50.564Z"
   },
   {
    "duration": 412,
    "start_time": "2025-01-16T09:56:21.733Z"
   },
   {
    "duration": 446,
    "start_time": "2025-01-16T09:56:24.102Z"
   },
   {
    "duration": 401,
    "start_time": "2025-01-16T09:56:38.487Z"
   },
   {
    "duration": 391,
    "start_time": "2025-01-16T09:56:52.041Z"
   },
   {
    "duration": 505,
    "start_time": "2025-01-16T09:57:53.336Z"
   },
   {
    "duration": 418,
    "start_time": "2025-01-16T09:58:00.799Z"
   },
   {
    "duration": 1267,
    "start_time": "2025-01-16T10:03:10.255Z"
   },
   {
    "duration": 2067,
    "start_time": "2025-01-16T10:03:11.524Z"
   },
   {
    "duration": 40,
    "start_time": "2025-01-16T10:03:13.592Z"
   },
   {
    "duration": 230,
    "start_time": "2025-01-16T10:03:13.634Z"
   },
   {
    "duration": 89,
    "start_time": "2025-01-16T10:03:13.866Z"
   },
   {
    "duration": 96,
    "start_time": "2025-01-16T10:03:13.957Z"
   },
   {
    "duration": 75,
    "start_time": "2025-01-16T10:03:14.055Z"
   },
   {
    "duration": 14,
    "start_time": "2025-01-16T10:03:14.132Z"
   },
   {
    "duration": 101,
    "start_time": "2025-01-16T10:03:14.148Z"
   },
   {
    "duration": 3,
    "start_time": "2025-01-16T10:03:14.251Z"
   },
   {
    "duration": 119,
    "start_time": "2025-01-16T10:03:14.256Z"
   },
   {
    "duration": 263,
    "start_time": "2025-01-16T10:03:14.377Z"
   },
   {
    "duration": 32,
    "start_time": "2025-01-16T10:03:14.642Z"
   },
   {
    "duration": 30,
    "start_time": "2025-01-16T10:03:14.733Z"
   },
   {
    "duration": 73,
    "start_time": "2025-01-16T10:03:14.765Z"
   },
   {
    "duration": 16,
    "start_time": "2025-01-16T10:03:14.840Z"
   },
   {
    "duration": 98,
    "start_time": "2025-01-16T10:03:14.858Z"
   },
   {
    "duration": 9,
    "start_time": "2025-01-16T10:03:14.957Z"
   },
   {
    "duration": 552,
    "start_time": "2025-01-16T10:03:14.967Z"
   },
   {
    "duration": 292,
    "start_time": "2025-01-16T10:03:15.521Z"
   },
   {
    "duration": 201,
    "start_time": "2025-01-16T10:03:15.814Z"
   },
   {
    "duration": 409,
    "start_time": "2025-01-16T10:03:16.016Z"
   },
   {
    "duration": 121,
    "start_time": "2025-01-16T10:03:16.427Z"
   },
   {
    "duration": 0,
    "start_time": "2025-01-16T10:03:16.550Z"
   },
   {
    "duration": 0,
    "start_time": "2025-01-16T10:03:16.551Z"
   },
   {
    "duration": 0,
    "start_time": "2025-01-16T10:03:16.552Z"
   },
   {
    "duration": 15,
    "start_time": "2025-01-16T10:04:00.412Z"
   },
   {
    "duration": 15,
    "start_time": "2025-01-16T10:04:49.014Z"
   },
   {
    "duration": 21,
    "start_time": "2025-01-16T10:05:05.687Z"
   },
   {
    "duration": 19,
    "start_time": "2025-01-16T10:05:18.637Z"
   },
   {
    "duration": 15,
    "start_time": "2025-01-16T10:05:21.698Z"
   },
   {
    "duration": 27,
    "start_time": "2025-01-16T10:05:39.168Z"
   },
   {
    "duration": 27,
    "start_time": "2025-01-16T10:05:48.332Z"
   },
   {
    "duration": 26,
    "start_time": "2025-01-16T10:05:51.248Z"
   },
   {
    "duration": 1286,
    "start_time": "2025-01-16T10:05:58.147Z"
   },
   {
    "duration": 2043,
    "start_time": "2025-01-16T10:05:59.436Z"
   },
   {
    "duration": 23,
    "start_time": "2025-01-16T10:06:01.483Z"
   },
   {
    "duration": 152,
    "start_time": "2025-01-16T10:06:01.508Z"
   },
   {
    "duration": 30,
    "start_time": "2025-01-16T10:06:01.661Z"
   },
   {
    "duration": 40,
    "start_time": "2025-01-16T10:06:01.693Z"
   },
   {
    "duration": 41,
    "start_time": "2025-01-16T10:06:01.735Z"
   },
   {
    "duration": 37,
    "start_time": "2025-01-16T10:06:01.778Z"
   },
   {
    "duration": 107,
    "start_time": "2025-01-16T10:06:01.817Z"
   },
   {
    "duration": 39,
    "start_time": "2025-01-16T10:06:01.925Z"
   },
   {
    "duration": 109,
    "start_time": "2025-01-16T10:06:01.965Z"
   },
   {
    "duration": 118,
    "start_time": "2025-01-16T10:06:02.076Z"
   },
   {
    "duration": 43,
    "start_time": "2025-01-16T10:06:02.197Z"
   },
   {
    "duration": 57,
    "start_time": "2025-01-16T10:06:02.242Z"
   },
   {
    "duration": 37,
    "start_time": "2025-01-16T10:06:02.301Z"
   },
   {
    "duration": 20,
    "start_time": "2025-01-16T10:06:02.340Z"
   },
   {
    "duration": 54,
    "start_time": "2025-01-16T10:06:02.361Z"
   },
   {
    "duration": 13,
    "start_time": "2025-01-16T10:06:02.429Z"
   },
   {
    "duration": 365,
    "start_time": "2025-01-16T10:06:02.443Z"
   },
   {
    "duration": 291,
    "start_time": "2025-01-16T10:06:02.811Z"
   },
   {
    "duration": 203,
    "start_time": "2025-01-16T10:06:03.104Z"
   },
   {
    "duration": 414,
    "start_time": "2025-01-16T10:06:03.309Z"
   },
   {
    "duration": 129,
    "start_time": "2025-01-16T10:06:03.729Z"
   },
   {
    "duration": 0,
    "start_time": "2025-01-16T10:06:03.859Z"
   },
   {
    "duration": 0,
    "start_time": "2025-01-16T10:06:03.861Z"
   },
   {
    "duration": 0,
    "start_time": "2025-01-16T10:06:03.862Z"
   },
   {
    "duration": 24,
    "start_time": "2025-01-16T10:06:14.341Z"
   },
   {
    "duration": 1288,
    "start_time": "2025-01-16T10:06:17.745Z"
   },
   {
    "duration": 1950,
    "start_time": "2025-01-16T10:06:19.035Z"
   },
   {
    "duration": 24,
    "start_time": "2025-01-16T10:06:20.986Z"
   },
   {
    "duration": 148,
    "start_time": "2025-01-16T10:06:21.012Z"
   },
   {
    "duration": 30,
    "start_time": "2025-01-16T10:06:21.162Z"
   },
   {
    "duration": 158,
    "start_time": "2025-01-16T10:06:21.194Z"
   },
   {
    "duration": 23,
    "start_time": "2025-01-16T10:06:21.354Z"
   },
   {
    "duration": 19,
    "start_time": "2025-01-16T10:06:21.379Z"
   },
   {
    "duration": 77,
    "start_time": "2025-01-16T10:06:21.400Z"
   },
   {
    "duration": 4,
    "start_time": "2025-01-16T10:06:21.479Z"
   },
   {
    "duration": 90,
    "start_time": "2025-01-16T10:06:21.484Z"
   },
   {
    "duration": 115,
    "start_time": "2025-01-16T10:06:21.575Z"
   },
   {
    "duration": 43,
    "start_time": "2025-01-16T10:06:21.692Z"
   },
   {
    "duration": 26,
    "start_time": "2025-01-16T10:06:21.738Z"
   },
   {
    "duration": 19,
    "start_time": "2025-01-16T10:06:21.766Z"
   },
   {
    "duration": 45,
    "start_time": "2025-01-16T10:06:21.787Z"
   },
   {
    "duration": 51,
    "start_time": "2025-01-16T10:06:21.834Z"
   },
   {
    "duration": 9,
    "start_time": "2025-01-16T10:06:21.886Z"
   },
   {
    "duration": 355,
    "start_time": "2025-01-16T10:06:21.897Z"
   },
   {
    "duration": 283,
    "start_time": "2025-01-16T10:06:22.254Z"
   },
   {
    "duration": 206,
    "start_time": "2025-01-16T10:06:22.538Z"
   },
   {
    "duration": 396,
    "start_time": "2025-01-16T10:06:22.746Z"
   },
   {
    "duration": 131,
    "start_time": "2025-01-16T10:06:23.143Z"
   },
   {
    "duration": 0,
    "start_time": "2025-01-16T10:06:23.275Z"
   },
   {
    "duration": 0,
    "start_time": "2025-01-16T10:06:23.277Z"
   },
   {
    "duration": 0,
    "start_time": "2025-01-16T10:06:23.278Z"
   },
   {
    "duration": 417,
    "start_time": "2025-01-16T10:06:27.600Z"
   },
   {
    "duration": 1315,
    "start_time": "2025-01-16T10:06:32.203Z"
   },
   {
    "duration": 1995,
    "start_time": "2025-01-16T10:06:33.520Z"
   },
   {
    "duration": 29,
    "start_time": "2025-01-16T10:06:35.517Z"
   },
   {
    "duration": 142,
    "start_time": "2025-01-16T10:06:35.548Z"
   },
   {
    "duration": 44,
    "start_time": "2025-01-16T10:06:35.692Z"
   },
   {
    "duration": 45,
    "start_time": "2025-01-16T10:06:35.738Z"
   },
   {
    "duration": 56,
    "start_time": "2025-01-16T10:06:35.785Z"
   },
   {
    "duration": 30,
    "start_time": "2025-01-16T10:06:35.843Z"
   },
   {
    "duration": 80,
    "start_time": "2025-01-16T10:06:35.875Z"
   },
   {
    "duration": 44,
    "start_time": "2025-01-16T10:06:35.957Z"
   },
   {
    "duration": 66,
    "start_time": "2025-01-16T10:06:36.003Z"
   },
   {
    "duration": 124,
    "start_time": "2025-01-16T10:06:36.071Z"
   },
   {
    "duration": 41,
    "start_time": "2025-01-16T10:06:36.196Z"
   },
   {
    "duration": 33,
    "start_time": "2025-01-16T10:06:36.240Z"
   },
   {
    "duration": 35,
    "start_time": "2025-01-16T10:06:36.275Z"
   },
   {
    "duration": 25,
    "start_time": "2025-01-16T10:06:36.312Z"
   },
   {
    "duration": 49,
    "start_time": "2025-01-16T10:06:36.339Z"
   },
   {
    "duration": 38,
    "start_time": "2025-01-16T10:06:36.390Z"
   },
   {
    "duration": 355,
    "start_time": "2025-01-16T10:06:36.430Z"
   },
   {
    "duration": 284,
    "start_time": "2025-01-16T10:06:36.787Z"
   },
   {
    "duration": 202,
    "start_time": "2025-01-16T10:06:37.073Z"
   },
   {
    "duration": 401,
    "start_time": "2025-01-16T10:06:37.277Z"
   },
   {
    "duration": 427,
    "start_time": "2025-01-16T10:06:37.680Z"
   },
   {
    "duration": 167,
    "start_time": "2025-01-16T10:06:38.109Z"
   },
   {
    "duration": 389,
    "start_time": "2025-01-16T10:06:38.277Z"
   },
   {
    "duration": 115,
    "start_time": "2025-01-16T10:06:38.668Z"
   },
   {
    "duration": 129,
    "start_time": "2025-01-16T10:19:45.931Z"
   },
   {
    "duration": 27,
    "start_time": "2025-01-16T10:20:24.226Z"
   },
   {
    "duration": 29,
    "start_time": "2025-01-16T10:20:33.905Z"
   },
   {
    "duration": 232,
    "start_time": "2025-01-16T10:20:38.518Z"
   },
   {
    "duration": 58,
    "start_time": "2025-01-16T10:20:57.845Z"
   },
   {
    "duration": 135,
    "start_time": "2025-01-16T10:21:02.280Z"
   },
   {
    "duration": 19,
    "start_time": "2025-01-16T10:22:22.163Z"
   },
   {
    "duration": 451,
    "start_time": "2025-01-16T10:23:41.969Z"
   },
   {
    "duration": 344,
    "start_time": "2025-01-16T10:26:10.638Z"
   },
   {
    "duration": 17,
    "start_time": "2025-01-16T10:52:19.570Z"
   },
   {
    "duration": 38,
    "start_time": "2025-01-16T10:57:01.104Z"
   },
   {
    "duration": 34,
    "start_time": "2025-01-16T10:57:28.217Z"
   },
   {
    "duration": 38,
    "start_time": "2025-01-16T10:57:31.210Z"
   },
   {
    "duration": 35,
    "start_time": "2025-01-16T11:00:00.468Z"
   },
   {
    "duration": 37,
    "start_time": "2025-01-16T11:00:04.135Z"
   },
   {
    "duration": 44,
    "start_time": "2025-01-16T11:00:07.563Z"
   },
   {
    "duration": 40,
    "start_time": "2025-01-16T11:00:10.055Z"
   },
   {
    "duration": 280,
    "start_time": "2025-01-16T11:00:46.009Z"
   },
   {
    "duration": 1310,
    "start_time": "2025-01-16T11:00:56.023Z"
   },
   {
    "duration": 2588,
    "start_time": "2025-01-16T11:00:57.335Z"
   },
   {
    "duration": 27,
    "start_time": "2025-01-16T11:00:59.924Z"
   },
   {
    "duration": 144,
    "start_time": "2025-01-16T11:00:59.953Z"
   },
   {
    "duration": 42,
    "start_time": "2025-01-16T11:01:00.099Z"
   },
   {
    "duration": 94,
    "start_time": "2025-01-16T11:01:00.143Z"
   },
   {
    "duration": 107,
    "start_time": "2025-01-16T11:01:00.239Z"
   },
   {
    "duration": 66,
    "start_time": "2025-01-16T11:01:00.347Z"
   },
   {
    "duration": 137,
    "start_time": "2025-01-16T11:01:00.415Z"
   },
   {
    "duration": 4,
    "start_time": "2025-01-16T11:01:00.555Z"
   },
   {
    "duration": 84,
    "start_time": "2025-01-16T11:01:00.560Z"
   },
   {
    "duration": 121,
    "start_time": "2025-01-16T11:01:00.646Z"
   },
   {
    "duration": 31,
    "start_time": "2025-01-16T11:01:00.768Z"
   },
   {
    "duration": 47,
    "start_time": "2025-01-16T11:01:00.801Z"
   },
   {
    "duration": 28,
    "start_time": "2025-01-16T11:01:00.850Z"
   },
   {
    "duration": 23,
    "start_time": "2025-01-16T11:01:00.880Z"
   },
   {
    "duration": 57,
    "start_time": "2025-01-16T11:01:00.904Z"
   },
   {
    "duration": 9,
    "start_time": "2025-01-16T11:01:00.963Z"
   },
   {
    "duration": 365,
    "start_time": "2025-01-16T11:01:00.973Z"
   },
   {
    "duration": 283,
    "start_time": "2025-01-16T11:01:01.340Z"
   },
   {
    "duration": 202,
    "start_time": "2025-01-16T11:01:01.625Z"
   },
   {
    "duration": 416,
    "start_time": "2025-01-16T11:01:01.830Z"
   },
   {
    "duration": 398,
    "start_time": "2025-01-16T11:01:02.248Z"
   },
   {
    "duration": 164,
    "start_time": "2025-01-16T11:01:02.647Z"
   },
   {
    "duration": 531,
    "start_time": "2025-01-16T11:01:02.814Z"
   },
   {
    "duration": 0,
    "start_time": "2025-01-16T11:01:03.346Z"
   },
   {
    "duration": 0,
    "start_time": "2025-01-16T11:01:03.348Z"
   },
   {
    "duration": 1204,
    "start_time": "2025-01-16T11:01:16.450Z"
   },
   {
    "duration": 2068,
    "start_time": "2025-01-16T11:01:17.657Z"
   },
   {
    "duration": 23,
    "start_time": "2025-01-16T11:01:19.727Z"
   },
   {
    "duration": 144,
    "start_time": "2025-01-16T11:01:19.751Z"
   },
   {
    "duration": 39,
    "start_time": "2025-01-16T11:01:19.897Z"
   },
   {
    "duration": 25,
    "start_time": "2025-01-16T11:01:19.938Z"
   },
   {
    "duration": 20,
    "start_time": "2025-01-16T11:01:19.965Z"
   },
   {
    "duration": 44,
    "start_time": "2025-01-16T11:01:19.987Z"
   },
   {
    "duration": 49,
    "start_time": "2025-01-16T11:01:20.032Z"
   },
   {
    "duration": 14,
    "start_time": "2025-01-16T11:01:20.083Z"
   },
   {
    "duration": 72,
    "start_time": "2025-01-16T11:01:20.099Z"
   },
   {
    "duration": 122,
    "start_time": "2025-01-16T11:01:20.173Z"
   },
   {
    "duration": 41,
    "start_time": "2025-01-16T11:01:20.297Z"
   },
   {
    "duration": 27,
    "start_time": "2025-01-16T11:01:20.343Z"
   },
   {
    "duration": 20,
    "start_time": "2025-01-16T11:01:20.372Z"
   },
   {
    "duration": 50,
    "start_time": "2025-01-16T11:01:20.394Z"
   },
   {
    "duration": 61,
    "start_time": "2025-01-16T11:01:20.446Z"
   },
   {
    "duration": 22,
    "start_time": "2025-01-16T11:01:20.510Z"
   },
   {
    "duration": 358,
    "start_time": "2025-01-16T11:01:20.534Z"
   },
   {
    "duration": 286,
    "start_time": "2025-01-16T11:01:20.894Z"
   },
   {
    "duration": 199,
    "start_time": "2025-01-16T11:01:21.182Z"
   },
   {
    "duration": 410,
    "start_time": "2025-01-16T11:01:21.383Z"
   },
   {
    "duration": 424,
    "start_time": "2025-01-16T11:01:21.796Z"
   },
   {
    "duration": 165,
    "start_time": "2025-01-16T11:01:22.222Z"
   },
   {
    "duration": 404,
    "start_time": "2025-01-16T11:01:22.389Z"
   },
   {
    "duration": 20,
    "start_time": "2025-01-16T11:01:22.795Z"
   },
   {
    "duration": 37,
    "start_time": "2025-01-16T11:01:22.831Z"
   },
   {
    "duration": 35,
    "start_time": "2025-01-16T11:11:02.030Z"
   },
   {
    "duration": 87,
    "start_time": "2025-01-16T11:23:59.553Z"
   },
   {
    "duration": 1262,
    "start_time": "2025-01-16T11:24:33.884Z"
   },
   {
    "duration": 2628,
    "start_time": "2025-01-16T11:24:35.148Z"
   },
   {
    "duration": 25,
    "start_time": "2025-01-16T11:24:37.778Z"
   },
   {
    "duration": 155,
    "start_time": "2025-01-16T11:24:37.805Z"
   },
   {
    "duration": 31,
    "start_time": "2025-01-16T11:24:37.962Z"
   },
   {
    "duration": 39,
    "start_time": "2025-01-16T11:24:37.995Z"
   },
   {
    "duration": 22,
    "start_time": "2025-01-16T11:24:38.035Z"
   },
   {
    "duration": 24,
    "start_time": "2025-01-16T11:24:38.058Z"
   },
   {
    "duration": 70,
    "start_time": "2025-01-16T11:24:38.083Z"
   },
   {
    "duration": 12,
    "start_time": "2025-01-16T11:24:38.154Z"
   },
   {
    "duration": 104,
    "start_time": "2025-01-16T11:24:38.168Z"
   },
   {
    "duration": 140,
    "start_time": "2025-01-16T11:24:38.273Z"
   },
   {
    "duration": 45,
    "start_time": "2025-01-16T11:24:38.415Z"
   },
   {
    "duration": 31,
    "start_time": "2025-01-16T11:24:38.464Z"
   },
   {
    "duration": 41,
    "start_time": "2025-01-16T11:24:38.498Z"
   },
   {
    "duration": 45,
    "start_time": "2025-01-16T11:24:38.541Z"
   },
   {
    "duration": 47,
    "start_time": "2025-01-16T11:24:38.587Z"
   },
   {
    "duration": 8,
    "start_time": "2025-01-16T11:24:38.636Z"
   },
   {
    "duration": 353,
    "start_time": "2025-01-16T11:24:38.645Z"
   },
   {
    "duration": 285,
    "start_time": "2025-01-16T11:24:39.000Z"
   },
   {
    "duration": 206,
    "start_time": "2025-01-16T11:24:39.287Z"
   },
   {
    "duration": 402,
    "start_time": "2025-01-16T11:24:39.495Z"
   },
   {
    "duration": 436,
    "start_time": "2025-01-16T11:24:39.898Z"
   },
   {
    "duration": 170,
    "start_time": "2025-01-16T11:24:40.335Z"
   },
   {
    "duration": 92,
    "start_time": "2025-01-16T11:24:40.506Z"
   },
   {
    "duration": 0,
    "start_time": "2025-01-16T11:24:40.600Z"
   },
   {
    "duration": 92,
    "start_time": "2025-01-16T11:25:21.410Z"
   },
   {
    "duration": 98,
    "start_time": "2025-01-16T11:26:09.334Z"
   },
   {
    "duration": 422,
    "start_time": "2025-01-16T11:29:15.685Z"
   },
   {
    "duration": 147,
    "start_time": "2025-01-16T11:32:18.074Z"
   },
   {
    "duration": 1269,
    "start_time": "2025-01-16T11:35:54.972Z"
   },
   {
    "duration": 2396,
    "start_time": "2025-01-16T11:35:56.243Z"
   },
   {
    "duration": 22,
    "start_time": "2025-01-16T11:35:58.641Z"
   },
   {
    "duration": 144,
    "start_time": "2025-01-16T11:35:58.666Z"
   },
   {
    "duration": 36,
    "start_time": "2025-01-16T11:35:58.811Z"
   },
   {
    "duration": 26,
    "start_time": "2025-01-16T11:35:58.850Z"
   },
   {
    "duration": 20,
    "start_time": "2025-01-16T11:35:58.878Z"
   },
   {
    "duration": 14,
    "start_time": "2025-01-16T11:35:58.931Z"
   },
   {
    "duration": 48,
    "start_time": "2025-01-16T11:35:58.947Z"
   },
   {
    "duration": 4,
    "start_time": "2025-01-16T11:35:58.998Z"
   },
   {
    "duration": 84,
    "start_time": "2025-01-16T11:35:59.003Z"
   },
   {
    "duration": 129,
    "start_time": "2025-01-16T11:35:59.089Z"
   },
   {
    "duration": 36,
    "start_time": "2025-01-16T11:35:59.220Z"
   },
   {
    "duration": 28,
    "start_time": "2025-01-16T11:35:59.258Z"
   },
   {
    "duration": 51,
    "start_time": "2025-01-16T11:35:59.288Z"
   },
   {
    "duration": 17,
    "start_time": "2025-01-16T11:35:59.341Z"
   },
   {
    "duration": 72,
    "start_time": "2025-01-16T11:35:59.359Z"
   },
   {
    "duration": 10,
    "start_time": "2025-01-16T11:35:59.433Z"
   },
   {
    "duration": 353,
    "start_time": "2025-01-16T11:35:59.445Z"
   },
   {
    "duration": 287,
    "start_time": "2025-01-16T11:35:59.799Z"
   },
   {
    "duration": 213,
    "start_time": "2025-01-16T11:36:00.088Z"
   },
   {
    "duration": 418,
    "start_time": "2025-01-16T11:36:00.303Z"
   },
   {
    "duration": 413,
    "start_time": "2025-01-16T11:36:00.723Z"
   },
   {
    "duration": 171,
    "start_time": "2025-01-16T11:36:01.138Z"
   },
   {
    "duration": 160,
    "start_time": "2025-01-16T11:36:01.310Z"
   },
   {
    "duration": 72,
    "start_time": "2025-01-16T11:39:14.871Z"
   },
   {
    "duration": 80,
    "start_time": "2025-01-16T11:39:23.229Z"
   },
   {
    "duration": 85,
    "start_time": "2025-01-16T11:41:33.131Z"
   },
   {
    "duration": 90,
    "start_time": "2025-01-16T11:42:01.566Z"
   },
   {
    "duration": 81,
    "start_time": "2025-01-16T11:42:16.285Z"
   },
   {
    "duration": 308,
    "start_time": "2025-01-16T12:15:13.301Z"
   },
   {
    "duration": 432,
    "start_time": "2025-01-16T12:15:18.642Z"
   },
   {
    "duration": 1272,
    "start_time": "2025-01-16T12:15:57.202Z"
   },
   {
    "duration": 2802,
    "start_time": "2025-01-16T12:15:58.476Z"
   },
   {
    "duration": 22,
    "start_time": "2025-01-16T12:16:01.280Z"
   },
   {
    "duration": 159,
    "start_time": "2025-01-16T12:16:01.305Z"
   },
   {
    "duration": 31,
    "start_time": "2025-01-16T12:16:01.466Z"
   },
   {
    "duration": 46,
    "start_time": "2025-01-16T12:16:01.499Z"
   },
   {
    "duration": 47,
    "start_time": "2025-01-16T12:16:01.547Z"
   },
   {
    "duration": 15,
    "start_time": "2025-01-16T12:16:01.595Z"
   },
   {
    "duration": 91,
    "start_time": "2025-01-16T12:16:01.612Z"
   },
   {
    "duration": 4,
    "start_time": "2025-01-16T12:16:01.706Z"
   },
   {
    "duration": 77,
    "start_time": "2025-01-16T12:16:01.711Z"
   },
   {
    "duration": 126,
    "start_time": "2025-01-16T12:16:01.790Z"
   },
   {
    "duration": 49,
    "start_time": "2025-01-16T12:16:01.917Z"
   },
   {
    "duration": 45,
    "start_time": "2025-01-16T12:16:01.968Z"
   },
   {
    "duration": 66,
    "start_time": "2025-01-16T12:16:02.014Z"
   },
   {
    "duration": 24,
    "start_time": "2025-01-16T12:16:02.081Z"
   },
   {
    "duration": 74,
    "start_time": "2025-01-16T12:16:02.107Z"
   },
   {
    "duration": 20,
    "start_time": "2025-01-16T12:16:02.182Z"
   },
   {
    "duration": 381,
    "start_time": "2025-01-16T12:16:02.203Z"
   },
   {
    "duration": 294,
    "start_time": "2025-01-16T12:16:02.585Z"
   },
   {
    "duration": 212,
    "start_time": "2025-01-16T12:16:02.881Z"
   },
   {
    "duration": 328,
    "start_time": "2025-01-16T12:16:03.095Z"
   },
   {
    "duration": 0,
    "start_time": "2025-01-16T12:16:03.425Z"
   },
   {
    "duration": 0,
    "start_time": "2025-01-16T12:16:03.430Z"
   },
   {
    "duration": 0,
    "start_time": "2025-01-16T12:16:03.431Z"
   },
   {
    "duration": 1310,
    "start_time": "2025-01-16T12:16:24.446Z"
   },
   {
    "duration": 2304,
    "start_time": "2025-01-16T12:16:25.758Z"
   },
   {
    "duration": 22,
    "start_time": "2025-01-16T12:16:28.064Z"
   },
   {
    "duration": 157,
    "start_time": "2025-01-16T12:16:28.088Z"
   },
   {
    "duration": 33,
    "start_time": "2025-01-16T12:16:28.247Z"
   },
   {
    "duration": 56,
    "start_time": "2025-01-16T12:16:28.282Z"
   },
   {
    "duration": 29,
    "start_time": "2025-01-16T12:16:28.340Z"
   },
   {
    "duration": 21,
    "start_time": "2025-01-16T12:16:28.371Z"
   },
   {
    "duration": 81,
    "start_time": "2025-01-16T12:16:28.394Z"
   },
   {
    "duration": 3,
    "start_time": "2025-01-16T12:16:28.478Z"
   },
   {
    "duration": 86,
    "start_time": "2025-01-16T12:16:28.483Z"
   },
   {
    "duration": 131,
    "start_time": "2025-01-16T12:16:28.571Z"
   },
   {
    "duration": 52,
    "start_time": "2025-01-16T12:16:28.704Z"
   },
   {
    "duration": 29,
    "start_time": "2025-01-16T12:16:28.758Z"
   },
   {
    "duration": 56,
    "start_time": "2025-01-16T12:16:28.790Z"
   },
   {
    "duration": 18,
    "start_time": "2025-01-16T12:16:28.849Z"
   },
   {
    "duration": 74,
    "start_time": "2025-01-16T12:16:28.868Z"
   },
   {
    "duration": 9,
    "start_time": "2025-01-16T12:16:28.944Z"
   },
   {
    "duration": 352,
    "start_time": "2025-01-16T12:16:28.954Z"
   },
   {
    "duration": 306,
    "start_time": "2025-01-16T12:16:29.307Z"
   },
   {
    "duration": 416,
    "start_time": "2025-01-16T12:16:29.615Z"
   },
   {
    "duration": 911,
    "start_time": "2025-01-16T12:16:30.034Z"
   },
   {
    "duration": 661,
    "start_time": "2025-01-16T12:16:30.947Z"
   },
   {
    "duration": 172,
    "start_time": "2025-01-16T12:16:31.610Z"
   },
   {
    "duration": 103,
    "start_time": "2025-01-16T12:16:31.784Z"
   },
   {
    "duration": 175,
    "start_time": "2025-01-16T12:16:55.768Z"
   },
   {
    "duration": 120,
    "start_time": "2025-01-16T12:16:58.551Z"
   },
   {
    "duration": 1254,
    "start_time": "2025-01-16T12:17:28.601Z"
   },
   {
    "duration": 2458,
    "start_time": "2025-01-16T12:17:29.857Z"
   },
   {
    "duration": 34,
    "start_time": "2025-01-16T12:17:32.316Z"
   },
   {
    "duration": 154,
    "start_time": "2025-01-16T12:17:32.352Z"
   },
   {
    "duration": 48,
    "start_time": "2025-01-16T12:17:32.507Z"
   },
   {
    "duration": 50,
    "start_time": "2025-01-16T12:17:32.557Z"
   },
   {
    "duration": 33,
    "start_time": "2025-01-16T12:17:32.609Z"
   },
   {
    "duration": 15,
    "start_time": "2025-01-16T12:17:32.643Z"
   },
   {
    "duration": 84,
    "start_time": "2025-01-16T12:17:32.659Z"
   },
   {
    "duration": 4,
    "start_time": "2025-01-16T12:17:32.746Z"
   },
   {
    "duration": 100,
    "start_time": "2025-01-16T12:17:32.751Z"
   },
   {
    "duration": 121,
    "start_time": "2025-01-16T12:17:32.853Z"
   },
   {
    "duration": 85,
    "start_time": "2025-01-16T12:17:32.975Z"
   },
   {
    "duration": 111,
    "start_time": "2025-01-16T12:17:33.062Z"
   },
   {
    "duration": 73,
    "start_time": "2025-01-16T12:17:33.175Z"
   },
   {
    "duration": 16,
    "start_time": "2025-01-16T12:17:33.249Z"
   },
   {
    "duration": 178,
    "start_time": "2025-01-16T12:17:33.267Z"
   },
   {
    "duration": 8,
    "start_time": "2025-01-16T12:17:33.446Z"
   },
   {
    "duration": 789,
    "start_time": "2025-01-16T12:17:33.456Z"
   },
   {
    "duration": 529,
    "start_time": "2025-01-16T12:17:34.247Z"
   },
   {
    "duration": 225,
    "start_time": "2025-01-16T12:17:34.780Z"
   },
   {
    "duration": 445,
    "start_time": "2025-01-16T12:17:35.007Z"
   },
   {
    "duration": 443,
    "start_time": "2025-01-16T12:17:35.454Z"
   },
   {
    "duration": 185,
    "start_time": "2025-01-16T12:17:35.900Z"
   },
   {
    "duration": 142,
    "start_time": "2025-01-16T12:17:36.086Z"
   },
   {
    "duration": 167,
    "start_time": "2025-01-16T12:18:00.482Z"
   },
   {
    "duration": 85,
    "start_time": "2025-01-16T12:18:04.866Z"
   },
   {
    "duration": 1288,
    "start_time": "2025-01-16T12:18:11.168Z"
   },
   {
    "duration": 2856,
    "start_time": "2025-01-16T12:18:12.458Z"
   },
   {
    "duration": 42,
    "start_time": "2025-01-16T12:18:15.315Z"
   },
   {
    "duration": 148,
    "start_time": "2025-01-16T12:18:15.358Z"
   },
   {
    "duration": 44,
    "start_time": "2025-01-16T12:18:15.508Z"
   },
   {
    "duration": 27,
    "start_time": "2025-01-16T12:18:15.554Z"
   },
   {
    "duration": 51,
    "start_time": "2025-01-16T12:18:15.583Z"
   },
   {
    "duration": 15,
    "start_time": "2025-01-16T12:18:15.636Z"
   },
   {
    "duration": 57,
    "start_time": "2025-01-16T12:18:15.653Z"
   },
   {
    "duration": 21,
    "start_time": "2025-01-16T12:18:15.711Z"
   },
   {
    "duration": 87,
    "start_time": "2025-01-16T12:18:15.734Z"
   },
   {
    "duration": 141,
    "start_time": "2025-01-16T12:18:15.823Z"
   },
   {
    "duration": 31,
    "start_time": "2025-01-16T12:18:15.966Z"
   },
   {
    "duration": 55,
    "start_time": "2025-01-16T12:18:16.000Z"
   },
   {
    "duration": 19,
    "start_time": "2025-01-16T12:18:16.057Z"
   },
   {
    "duration": 28,
    "start_time": "2025-01-16T12:18:16.078Z"
   },
   {
    "duration": 71,
    "start_time": "2025-01-16T12:18:16.108Z"
   },
   {
    "duration": 9,
    "start_time": "2025-01-16T12:18:16.181Z"
   },
   {
    "duration": 369,
    "start_time": "2025-01-16T12:18:16.192Z"
   },
   {
    "duration": 301,
    "start_time": "2025-01-16T12:18:16.562Z"
   },
   {
    "duration": 218,
    "start_time": "2025-01-16T12:18:16.865Z"
   },
   {
    "duration": 434,
    "start_time": "2025-01-16T12:18:17.085Z"
   },
   {
    "duration": 442,
    "start_time": "2025-01-16T12:18:17.521Z"
   },
   {
    "duration": 184,
    "start_time": "2025-01-16T12:18:17.965Z"
   },
   {
    "duration": 106,
    "start_time": "2025-01-16T12:18:18.151Z"
   },
   {
    "duration": 1382,
    "start_time": "2025-01-16T12:18:42.113Z"
   },
   {
    "duration": 3573,
    "start_time": "2025-01-16T12:18:43.498Z"
   },
   {
    "duration": 22,
    "start_time": "2025-01-16T12:18:47.073Z"
   },
   {
    "duration": 154,
    "start_time": "2025-01-16T12:18:47.098Z"
   },
   {
    "duration": 31,
    "start_time": "2025-01-16T12:18:47.254Z"
   },
   {
    "duration": 59,
    "start_time": "2025-01-16T12:18:47.287Z"
   },
   {
    "duration": 22,
    "start_time": "2025-01-16T12:18:47.348Z"
   },
   {
    "duration": 65,
    "start_time": "2025-01-16T12:18:47.372Z"
   },
   {
    "duration": 111,
    "start_time": "2025-01-16T12:18:47.441Z"
   },
   {
    "duration": 3,
    "start_time": "2025-01-16T12:18:47.555Z"
   },
   {
    "duration": 175,
    "start_time": "2025-01-16T12:18:47.559Z"
   },
   {
    "duration": 232,
    "start_time": "2025-01-16T12:18:47.736Z"
   },
   {
    "duration": 98,
    "start_time": "2025-01-16T12:18:47.970Z"
   },
   {
    "duration": 90,
    "start_time": "2025-01-16T12:18:48.069Z"
   },
   {
    "duration": 72,
    "start_time": "2025-01-16T12:18:48.161Z"
   },
   {
    "duration": 20,
    "start_time": "2025-01-16T12:18:48.235Z"
   },
   {
    "duration": 117,
    "start_time": "2025-01-16T12:18:48.257Z"
   },
   {
    "duration": 59,
    "start_time": "2025-01-16T12:18:48.376Z"
   },
   {
    "duration": 734,
    "start_time": "2025-01-16T12:18:48.438Z"
   },
   {
    "duration": 623,
    "start_time": "2025-01-16T12:18:49.230Z"
   },
   {
    "duration": 419,
    "start_time": "2025-01-16T12:18:49.855Z"
   },
   {
    "duration": 877,
    "start_time": "2025-01-16T12:18:50.275Z"
   },
   {
    "duration": 780,
    "start_time": "2025-01-16T12:18:51.154Z"
   },
   {
    "duration": 329,
    "start_time": "2025-01-16T12:18:51.939Z"
   },
   {
    "duration": 202,
    "start_time": "2025-01-16T12:18:52.270Z"
   },
   {
    "duration": 1283,
    "start_time": "2025-01-16T19:13:45.329Z"
   },
   {
    "duration": 2520,
    "start_time": "2025-01-16T19:13:46.614Z"
   },
   {
    "duration": 25,
    "start_time": "2025-01-16T19:13:49.136Z"
   },
   {
    "duration": 142,
    "start_time": "2025-01-16T19:13:49.163Z"
   },
   {
    "duration": 39,
    "start_time": "2025-01-16T19:13:49.307Z"
   },
   {
    "duration": 26,
    "start_time": "2025-01-16T19:13:49.348Z"
   },
   {
    "duration": 21,
    "start_time": "2025-01-16T19:13:49.376Z"
   },
   {
    "duration": 43,
    "start_time": "2025-01-16T19:13:49.399Z"
   },
   {
    "duration": 51,
    "start_time": "2025-01-16T19:13:49.444Z"
   },
   {
    "duration": 3,
    "start_time": "2025-01-16T19:13:49.498Z"
   },
   {
    "duration": 84,
    "start_time": "2025-01-16T19:13:49.502Z"
   },
   {
    "duration": 129,
    "start_time": "2025-01-16T19:13:49.587Z"
   },
   {
    "duration": 42,
    "start_time": "2025-01-16T19:13:49.718Z"
   },
   {
    "duration": 28,
    "start_time": "2025-01-16T19:13:49.762Z"
   },
   {
    "duration": 48,
    "start_time": "2025-01-16T19:13:49.792Z"
   },
   {
    "duration": 16,
    "start_time": "2025-01-16T19:13:49.842Z"
   },
   {
    "duration": 72,
    "start_time": "2025-01-16T19:13:49.860Z"
   },
   {
    "duration": 10,
    "start_time": "2025-01-16T19:13:49.934Z"
   },
   {
    "duration": 339,
    "start_time": "2025-01-16T19:13:49.947Z"
   },
   {
    "duration": 275,
    "start_time": "2025-01-16T19:13:50.288Z"
   },
   {
    "duration": 203,
    "start_time": "2025-01-16T19:13:50.565Z"
   },
   {
    "duration": 404,
    "start_time": "2025-01-16T19:13:50.770Z"
   },
   {
    "duration": 421,
    "start_time": "2025-01-16T19:13:51.176Z"
   },
   {
    "duration": 158,
    "start_time": "2025-01-16T19:13:51.599Z"
   },
   {
    "duration": 109,
    "start_time": "2025-01-16T19:13:51.758Z"
   },
   {
    "duration": 1303,
    "start_time": "2025-01-16T19:21:28.431Z"
   },
   {
    "duration": 2313,
    "start_time": "2025-01-16T19:21:29.736Z"
   },
   {
    "duration": 23,
    "start_time": "2025-01-16T19:21:32.050Z"
   },
   {
    "duration": 135,
    "start_time": "2025-01-16T19:21:32.075Z"
   },
   {
    "duration": 36,
    "start_time": "2025-01-16T19:21:32.212Z"
   },
   {
    "duration": 29,
    "start_time": "2025-01-16T19:21:32.250Z"
   },
   {
    "duration": 25,
    "start_time": "2025-01-16T19:21:32.281Z"
   },
   {
    "duration": 34,
    "start_time": "2025-01-16T19:21:32.308Z"
   },
   {
    "duration": 52,
    "start_time": "2025-01-16T19:21:32.344Z"
   },
   {
    "duration": 4,
    "start_time": "2025-01-16T19:21:32.397Z"
   },
   {
    "duration": 104,
    "start_time": "2025-01-16T19:21:32.402Z"
   },
   {
    "duration": 110,
    "start_time": "2025-01-16T19:21:32.508Z"
   },
   {
    "duration": 35,
    "start_time": "2025-01-16T19:21:32.619Z"
   },
   {
    "duration": 27,
    "start_time": "2025-01-16T19:21:32.656Z"
   },
   {
    "duration": 20,
    "start_time": "2025-01-16T19:21:32.685Z"
   },
   {
    "duration": 18,
    "start_time": "2025-01-16T19:21:32.731Z"
   },
   {
    "duration": 48,
    "start_time": "2025-01-16T19:21:32.751Z"
   },
   {
    "duration": 29,
    "start_time": "2025-01-16T19:21:32.801Z"
   },
   {
    "duration": 336,
    "start_time": "2025-01-16T19:21:32.832Z"
   },
   {
    "duration": 277,
    "start_time": "2025-01-16T19:21:33.170Z"
   },
   {
    "duration": 205,
    "start_time": "2025-01-16T19:21:33.448Z"
   },
   {
    "duration": 405,
    "start_time": "2025-01-16T19:21:33.654Z"
   },
   {
    "duration": 419,
    "start_time": "2025-01-16T19:21:34.061Z"
   },
   {
    "duration": 163,
    "start_time": "2025-01-16T19:21:34.482Z"
   },
   {
    "duration": 115,
    "start_time": "2025-01-16T19:21:34.647Z"
   },
   {
    "duration": 160,
    "start_time": "2025-01-16T19:29:15.968Z"
   },
   {
    "duration": 20,
    "start_time": "2025-01-16T19:29:26.796Z"
   },
   {
    "duration": 27,
    "start_time": "2025-01-16T19:29:29.355Z"
   },
   {
    "duration": 1316,
    "start_time": "2025-01-16T19:30:01.874Z"
   },
   {
    "duration": 3526,
    "start_time": "2025-01-16T19:30:03.193Z"
   },
   {
    "duration": 27,
    "start_time": "2025-01-16T19:30:06.721Z"
   },
   {
    "duration": 165,
    "start_time": "2025-01-16T19:30:06.751Z"
   },
   {
    "duration": 53,
    "start_time": "2025-01-16T19:30:06.918Z"
   },
   {
    "duration": 50,
    "start_time": "2025-01-16T19:30:06.973Z"
   },
   {
    "duration": 46,
    "start_time": "2025-01-16T19:30:07.025Z"
   },
   {
    "duration": 18,
    "start_time": "2025-01-16T19:30:07.073Z"
   },
   {
    "duration": 103,
    "start_time": "2025-01-16T19:30:07.093Z"
   },
   {
    "duration": 36,
    "start_time": "2025-01-16T19:30:07.200Z"
   },
   {
    "duration": 115,
    "start_time": "2025-01-16T19:30:07.238Z"
   },
   {
    "duration": 128,
    "start_time": "2025-01-16T19:30:07.355Z"
   },
   {
    "duration": 46,
    "start_time": "2025-01-16T19:30:07.486Z"
   },
   {
    "duration": 35,
    "start_time": "2025-01-16T19:30:07.535Z"
   },
   {
    "duration": 21,
    "start_time": "2025-01-16T19:30:07.571Z"
   },
   {
    "duration": 58,
    "start_time": "2025-01-16T19:30:07.594Z"
   },
   {
    "duration": 99,
    "start_time": "2025-01-16T19:30:07.656Z"
   },
   {
    "duration": 8,
    "start_time": "2025-01-16T19:30:07.757Z"
   },
   {
    "duration": 367,
    "start_time": "2025-01-16T19:30:07.767Z"
   },
   {
    "duration": 351,
    "start_time": "2025-01-16T19:30:08.136Z"
   },
   {
    "duration": 214,
    "start_time": "2025-01-16T19:30:08.489Z"
   },
   {
    "duration": 481,
    "start_time": "2025-01-16T19:30:08.705Z"
   },
   {
    "duration": 139,
    "start_time": "2025-01-16T19:30:09.188Z"
   },
   {
    "duration": 0,
    "start_time": "2025-01-16T19:30:09.329Z"
   },
   {
    "duration": 0,
    "start_time": "2025-01-16T19:30:09.332Z"
   },
   {
    "duration": 19,
    "start_time": "2025-01-16T19:32:06.114Z"
   },
   {
    "duration": 409,
    "start_time": "2025-01-16T19:32:24.161Z"
   },
   {
    "duration": 1379,
    "start_time": "2025-01-16T19:33:30.327Z"
   },
   {
    "duration": 3879,
    "start_time": "2025-01-16T19:33:31.708Z"
   },
   {
    "duration": 22,
    "start_time": "2025-01-16T19:33:35.589Z"
   },
   {
    "duration": 178,
    "start_time": "2025-01-16T19:33:35.614Z"
   },
   {
    "duration": 49,
    "start_time": "2025-01-16T19:33:35.794Z"
   },
   {
    "duration": 29,
    "start_time": "2025-01-16T19:33:35.850Z"
   },
   {
    "duration": 46,
    "start_time": "2025-01-16T19:33:35.881Z"
   },
   {
    "duration": 39,
    "start_time": "2025-01-16T19:33:35.928Z"
   },
   {
    "duration": 72,
    "start_time": "2025-01-16T19:33:35.969Z"
   },
   {
    "duration": 7,
    "start_time": "2025-01-16T19:33:36.046Z"
   },
   {
    "duration": 98,
    "start_time": "2025-01-16T19:33:36.059Z"
   },
   {
    "duration": 142,
    "start_time": "2025-01-16T19:33:36.161Z"
   },
   {
    "duration": 55,
    "start_time": "2025-01-16T19:33:36.304Z"
   },
   {
    "duration": 29,
    "start_time": "2025-01-16T19:33:36.360Z"
   },
   {
    "duration": 70,
    "start_time": "2025-01-16T19:33:36.391Z"
   },
   {
    "duration": 17,
    "start_time": "2025-01-16T19:33:36.463Z"
   },
   {
    "duration": 85,
    "start_time": "2025-01-16T19:33:36.482Z"
   },
   {
    "duration": 8,
    "start_time": "2025-01-16T19:33:36.569Z"
   },
   {
    "duration": 404,
    "start_time": "2025-01-16T19:33:36.579Z"
   },
   {
    "duration": 313,
    "start_time": "2025-01-16T19:33:36.985Z"
   },
   {
    "duration": 260,
    "start_time": "2025-01-16T19:33:37.300Z"
   },
   {
    "duration": 493,
    "start_time": "2025-01-16T19:33:37.564Z"
   },
   {
    "duration": 433,
    "start_time": "2025-01-16T19:33:38.060Z"
   },
   {
    "duration": 200,
    "start_time": "2025-01-16T19:33:38.495Z"
   },
   {
    "duration": 99,
    "start_time": "2025-01-16T19:33:38.696Z"
   },
   {
    "duration": 1557,
    "start_time": "2025-01-16T19:33:59.422Z"
   },
   {
    "duration": 3564,
    "start_time": "2025-01-16T19:34:00.981Z"
   },
   {
    "duration": 31,
    "start_time": "2025-01-16T19:34:04.548Z"
   },
   {
    "duration": 195,
    "start_time": "2025-01-16T19:34:04.581Z"
   },
   {
    "duration": 57,
    "start_time": "2025-01-16T19:34:04.779Z"
   },
   {
    "duration": 64,
    "start_time": "2025-01-16T19:34:04.838Z"
   },
   {
    "duration": 22,
    "start_time": "2025-01-16T19:34:04.904Z"
   },
   {
    "duration": 34,
    "start_time": "2025-01-16T19:34:04.927Z"
   },
   {
    "duration": 90,
    "start_time": "2025-01-16T19:34:04.963Z"
   },
   {
    "duration": 4,
    "start_time": "2025-01-16T19:34:05.058Z"
   },
   {
    "duration": 108,
    "start_time": "2025-01-16T19:34:05.064Z"
   },
   {
    "duration": 124,
    "start_time": "2025-01-16T19:34:05.174Z"
   },
   {
    "duration": 59,
    "start_time": "2025-01-16T19:34:05.299Z"
   },
   {
    "duration": 26,
    "start_time": "2025-01-16T19:34:05.361Z"
   },
   {
    "duration": 68,
    "start_time": "2025-01-16T19:34:05.389Z"
   },
   {
    "duration": 19,
    "start_time": "2025-01-16T19:34:05.459Z"
   },
   {
    "duration": 76,
    "start_time": "2025-01-16T19:34:05.479Z"
   },
   {
    "duration": 10,
    "start_time": "2025-01-16T19:34:05.560Z"
   },
   {
    "duration": 422,
    "start_time": "2025-01-16T19:34:05.572Z"
   },
   {
    "duration": 319,
    "start_time": "2025-01-16T19:34:05.996Z"
   },
   {
    "duration": 246,
    "start_time": "2025-01-16T19:34:06.317Z"
   },
   {
    "duration": 489,
    "start_time": "2025-01-16T19:34:06.565Z"
   },
   {
    "duration": 411,
    "start_time": "2025-01-16T19:34:07.058Z"
   },
   {
    "duration": 194,
    "start_time": "2025-01-16T19:34:07.471Z"
   },
   {
    "duration": 121,
    "start_time": "2025-01-16T19:34:07.667Z"
   },
   {
    "duration": 388,
    "start_time": "2025-01-16T19:38:24.005Z"
   },
   {
    "duration": 154,
    "start_time": "2025-01-16T19:38:40.073Z"
   },
   {
    "duration": 22,
    "start_time": "2025-01-16T19:38:58.172Z"
   },
   {
    "duration": 403,
    "start_time": "2025-01-16T19:39:49.477Z"
   },
   {
    "duration": 443,
    "start_time": "2025-01-16T19:40:04.568Z"
   },
   {
    "duration": 398,
    "start_time": "2025-01-16T19:40:38.619Z"
   },
   {
    "duration": 452,
    "start_time": "2025-01-16T19:40:44.820Z"
   },
   {
    "duration": 497,
    "start_time": "2025-01-16T19:41:52.473Z"
   },
   {
    "duration": 399,
    "start_time": "2025-01-16T19:41:59.367Z"
   },
   {
    "duration": 478,
    "start_time": "2025-01-16T19:42:20.287Z"
   },
   {
    "duration": 437,
    "start_time": "2025-01-16T19:44:01.421Z"
   },
   {
    "duration": 423,
    "start_time": "2025-01-16T19:44:17.462Z"
   },
   {
    "duration": 432,
    "start_time": "2025-01-16T19:44:27.321Z"
   },
   {
    "duration": 426,
    "start_time": "2025-01-16T19:44:52.795Z"
   },
   {
    "duration": 473,
    "start_time": "2025-01-16T19:46:03.909Z"
   },
   {
    "duration": 519,
    "start_time": "2025-01-16T19:46:15.856Z"
   },
   {
    "duration": 1429,
    "start_time": "2025-01-16T19:46:38.476Z"
   },
   {
    "duration": 1379,
    "start_time": "2025-01-16T19:46:57.148Z"
   },
   {
    "duration": 2650,
    "start_time": "2025-01-16T19:46:58.530Z"
   },
   {
    "duration": 24,
    "start_time": "2025-01-16T19:47:01.182Z"
   },
   {
    "duration": 181,
    "start_time": "2025-01-16T19:47:01.208Z"
   },
   {
    "duration": 58,
    "start_time": "2025-01-16T19:47:01.391Z"
   },
   {
    "duration": 31,
    "start_time": "2025-01-16T19:47:01.452Z"
   },
   {
    "duration": 73,
    "start_time": "2025-01-16T19:47:01.484Z"
   },
   {
    "duration": 16,
    "start_time": "2025-01-16T19:47:01.560Z"
   },
   {
    "duration": 57,
    "start_time": "2025-01-16T19:47:01.577Z"
   },
   {
    "duration": 9,
    "start_time": "2025-01-16T19:47:01.638Z"
   },
   {
    "duration": 113,
    "start_time": "2025-01-16T19:47:01.650Z"
   },
   {
    "duration": 139,
    "start_time": "2025-01-16T19:47:01.765Z"
   },
   {
    "duration": 54,
    "start_time": "2025-01-16T19:47:01.906Z"
   },
   {
    "duration": 31,
    "start_time": "2025-01-16T19:47:01.963Z"
   },
   {
    "duration": 89,
    "start_time": "2025-01-16T19:47:01.996Z"
   },
   {
    "duration": 15,
    "start_time": "2025-01-16T19:47:02.087Z"
   },
   {
    "duration": 108,
    "start_time": "2025-01-16T19:47:02.104Z"
   },
   {
    "duration": 8,
    "start_time": "2025-01-16T19:47:02.214Z"
   },
   {
    "duration": 446,
    "start_time": "2025-01-16T19:47:02.224Z"
   },
   {
    "duration": 321,
    "start_time": "2025-01-16T19:47:02.673Z"
   },
   {
    "duration": 230,
    "start_time": "2025-01-16T19:47:02.995Z"
   },
   {
    "duration": 473,
    "start_time": "2025-01-16T19:47:03.227Z"
   },
   {
    "duration": 377,
    "start_time": "2025-01-16T19:47:03.702Z"
   },
   {
    "duration": 190,
    "start_time": "2025-01-16T19:47:04.081Z"
   },
   {
    "duration": 118,
    "start_time": "2025-01-16T19:47:04.274Z"
   },
   {
    "duration": 450,
    "start_time": "2025-01-16T19:47:08.047Z"
   },
   {
    "duration": 394,
    "start_time": "2025-01-16T19:47:19.105Z"
   },
   {
    "duration": 397,
    "start_time": "2025-01-16T19:50:28.643Z"
   },
   {
    "duration": 419,
    "start_time": "2025-01-16T19:50:37.970Z"
   },
   {
    "duration": 449,
    "start_time": "2025-01-16T19:51:14.028Z"
   },
   {
    "duration": 1317,
    "start_time": "2025-01-16T19:51:30.086Z"
   },
   {
    "duration": 4216,
    "start_time": "2025-01-16T19:51:31.405Z"
   },
   {
    "duration": 47,
    "start_time": "2025-01-16T19:51:35.623Z"
   },
   {
    "duration": 184,
    "start_time": "2025-01-16T19:51:35.672Z"
   },
   {
    "duration": 32,
    "start_time": "2025-01-16T19:51:35.859Z"
   },
   {
    "duration": 52,
    "start_time": "2025-01-16T19:51:35.893Z"
   },
   {
    "duration": 29,
    "start_time": "2025-01-16T19:51:35.947Z"
   },
   {
    "duration": 17,
    "start_time": "2025-01-16T19:51:35.978Z"
   },
   {
    "duration": 88,
    "start_time": "2025-01-16T19:51:35.996Z"
   },
   {
    "duration": 3,
    "start_time": "2025-01-16T19:51:36.087Z"
   },
   {
    "duration": 165,
    "start_time": "2025-01-16T19:51:36.092Z"
   },
   {
    "duration": 129,
    "start_time": "2025-01-16T19:51:36.259Z"
   },
   {
    "duration": 62,
    "start_time": "2025-01-16T19:51:36.390Z"
   },
   {
    "duration": 53,
    "start_time": "2025-01-16T19:51:36.456Z"
   },
   {
    "duration": 72,
    "start_time": "2025-01-16T19:51:36.511Z"
   },
   {
    "duration": 30,
    "start_time": "2025-01-16T19:51:36.585Z"
   },
   {
    "duration": 94,
    "start_time": "2025-01-16T19:51:36.617Z"
   },
   {
    "duration": 9,
    "start_time": "2025-01-16T19:51:36.712Z"
   },
   {
    "duration": 391,
    "start_time": "2025-01-16T19:51:36.723Z"
   },
   {
    "duration": 367,
    "start_time": "2025-01-16T19:51:37.116Z"
   },
   {
    "duration": 227,
    "start_time": "2025-01-16T19:51:37.485Z"
   },
   {
    "duration": 484,
    "start_time": "2025-01-16T19:51:37.713Z"
   },
   {
    "duration": 384,
    "start_time": "2025-01-16T19:51:38.199Z"
   },
   {
    "duration": 191,
    "start_time": "2025-01-16T19:51:38.584Z"
   },
   {
    "duration": 113,
    "start_time": "2025-01-16T19:51:38.777Z"
   },
   {
    "duration": 449,
    "start_time": "2025-01-16T20:10:54.704Z"
   },
   {
    "duration": 383,
    "start_time": "2025-01-16T20:10:59.603Z"
   },
   {
    "duration": 352,
    "start_time": "2025-01-16T20:11:16.327Z"
   },
   {
    "duration": 1299,
    "start_time": "2025-01-16T20:11:30.849Z"
   },
   {
    "duration": 3895,
    "start_time": "2025-01-16T20:11:32.150Z"
   },
   {
    "duration": 87,
    "start_time": "2025-01-16T20:11:36.048Z"
   },
   {
    "duration": 329,
    "start_time": "2025-01-16T20:11:36.140Z"
   },
   {
    "duration": 100,
    "start_time": "2025-01-16T20:11:36.471Z"
   },
   {
    "duration": 91,
    "start_time": "2025-01-16T20:11:36.572Z"
   },
   {
    "duration": 85,
    "start_time": "2025-01-16T20:11:36.665Z"
   },
   {
    "duration": 16,
    "start_time": "2025-01-16T20:11:36.753Z"
   },
   {
    "duration": 182,
    "start_time": "2025-01-16T20:11:36.771Z"
   },
   {
    "duration": 3,
    "start_time": "2025-01-16T20:11:36.956Z"
   },
   {
    "duration": 200,
    "start_time": "2025-01-16T20:11:36.961Z"
   },
   {
    "duration": 297,
    "start_time": "2025-01-16T20:11:37.162Z"
   },
   {
    "duration": 90,
    "start_time": "2025-01-16T20:11:37.461Z"
   },
   {
    "duration": 92,
    "start_time": "2025-01-16T20:11:37.554Z"
   },
   {
    "duration": 81,
    "start_time": "2025-01-16T20:11:37.649Z"
   },
   {
    "duration": 20,
    "start_time": "2025-01-16T20:11:37.734Z"
   },
   {
    "duration": 200,
    "start_time": "2025-01-16T20:11:37.756Z"
   },
   {
    "duration": 76,
    "start_time": "2025-01-16T20:11:37.958Z"
   },
   {
    "duration": 728,
    "start_time": "2025-01-16T20:11:38.037Z"
   },
   {
    "duration": 689,
    "start_time": "2025-01-16T20:11:38.767Z"
   },
   {
    "duration": 417,
    "start_time": "2025-01-16T20:11:39.458Z"
   },
   {
    "duration": 1090,
    "start_time": "2025-01-16T20:11:39.876Z"
   },
   {
    "duration": 639,
    "start_time": "2025-01-16T20:11:40.968Z"
   },
   {
    "duration": 203,
    "start_time": "2025-01-16T20:11:41.609Z"
   },
   {
    "duration": 430,
    "start_time": "2025-01-16T20:11:41.814Z"
   },
   {
    "duration": 433,
    "start_time": "2025-01-16T20:13:08.627Z"
   },
   {
    "duration": 457,
    "start_time": "2025-01-16T20:15:25.068Z"
   },
   {
    "duration": 341,
    "start_time": "2025-01-16T20:15:31.463Z"
   },
   {
    "duration": 345,
    "start_time": "2025-01-16T20:15:39.442Z"
   },
   {
    "duration": 353,
    "start_time": "2025-01-16T20:15:43.232Z"
   },
   {
    "duration": 336,
    "start_time": "2025-01-16T20:16:28.125Z"
   },
   {
    "duration": 465,
    "start_time": "2025-01-16T20:16:32.142Z"
   },
   {
    "duration": 1323,
    "start_time": "2025-01-16T20:18:42.181Z"
   },
   {
    "duration": 2399,
    "start_time": "2025-01-16T20:18:43.506Z"
   },
   {
    "duration": 31,
    "start_time": "2025-01-16T20:18:45.907Z"
   },
   {
    "duration": 168,
    "start_time": "2025-01-16T20:18:45.943Z"
   },
   {
    "duration": 49,
    "start_time": "2025-01-16T20:18:46.113Z"
   },
   {
    "duration": 37,
    "start_time": "2025-01-16T20:18:46.164Z"
   },
   {
    "duration": 60,
    "start_time": "2025-01-16T20:18:46.203Z"
   },
   {
    "duration": 17,
    "start_time": "2025-01-16T20:18:46.265Z"
   },
   {
    "duration": 97,
    "start_time": "2025-01-16T20:18:46.285Z"
   },
   {
    "duration": 4,
    "start_time": "2025-01-16T20:18:46.386Z"
   },
   {
    "duration": 103,
    "start_time": "2025-01-16T20:18:46.392Z"
   },
   {
    "duration": 141,
    "start_time": "2025-01-16T20:18:46.496Z"
   },
   {
    "duration": 42,
    "start_time": "2025-01-16T20:18:46.640Z"
   },
   {
    "duration": 66,
    "start_time": "2025-01-16T20:18:46.684Z"
   },
   {
    "duration": 22,
    "start_time": "2025-01-16T20:18:46.752Z"
   },
   {
    "duration": 28,
    "start_time": "2025-01-16T20:18:46.776Z"
   },
   {
    "duration": 80,
    "start_time": "2025-01-16T20:18:46.805Z"
   },
   {
    "duration": 9,
    "start_time": "2025-01-16T20:18:46.887Z"
   },
   {
    "duration": 388,
    "start_time": "2025-01-16T20:18:46.930Z"
   },
   {
    "duration": 339,
    "start_time": "2025-01-16T20:18:47.320Z"
   },
   {
    "duration": 226,
    "start_time": "2025-01-16T20:18:47.662Z"
   },
   {
    "duration": 455,
    "start_time": "2025-01-16T20:18:47.890Z"
   },
   {
    "duration": 425,
    "start_time": "2025-01-16T20:18:48.346Z"
   },
   {
    "duration": 194,
    "start_time": "2025-01-16T20:18:48.774Z"
   },
   {
    "duration": 510,
    "start_time": "2025-01-16T20:18:48.970Z"
   },
   {
    "duration": 479,
    "start_time": "2025-01-16T20:19:44.534Z"
   },
   {
    "duration": 344,
    "start_time": "2025-01-16T20:19:58.837Z"
   },
   {
    "duration": 1292,
    "start_time": "2025-01-16T20:20:06.847Z"
   },
   {
    "duration": 2233,
    "start_time": "2025-01-16T20:20:08.141Z"
   },
   {
    "duration": 26,
    "start_time": "2025-01-16T20:20:10.375Z"
   },
   {
    "duration": 175,
    "start_time": "2025-01-16T20:20:10.404Z"
   },
   {
    "duration": 52,
    "start_time": "2025-01-16T20:20:10.581Z"
   },
   {
    "duration": 36,
    "start_time": "2025-01-16T20:20:10.635Z"
   },
   {
    "duration": 26,
    "start_time": "2025-01-16T20:20:10.672Z"
   },
   {
    "duration": 50,
    "start_time": "2025-01-16T20:20:10.700Z"
   },
   {
    "duration": 87,
    "start_time": "2025-01-16T20:20:10.752Z"
   },
   {
    "duration": 9,
    "start_time": "2025-01-16T20:20:10.843Z"
   },
   {
    "duration": 90,
    "start_time": "2025-01-16T20:20:10.854Z"
   },
   {
    "duration": 131,
    "start_time": "2025-01-16T20:20:10.946Z"
   },
   {
    "duration": 33,
    "start_time": "2025-01-16T20:20:11.079Z"
   },
   {
    "duration": 32,
    "start_time": "2025-01-16T20:20:11.130Z"
   },
   {
    "duration": 20,
    "start_time": "2025-01-16T20:20:11.164Z"
   },
   {
    "duration": 57,
    "start_time": "2025-01-16T20:20:11.187Z"
   },
   {
    "duration": 54,
    "start_time": "2025-01-16T20:20:11.247Z"
   },
   {
    "duration": 30,
    "start_time": "2025-01-16T20:20:11.303Z"
   },
   {
    "duration": 387,
    "start_time": "2025-01-16T20:20:11.338Z"
   },
   {
    "duration": 326,
    "start_time": "2025-01-16T20:20:11.729Z"
   },
   {
    "duration": 241,
    "start_time": "2025-01-16T20:20:12.057Z"
   },
   {
    "duration": 466,
    "start_time": "2025-01-16T20:20:12.300Z"
   },
   {
    "duration": 404,
    "start_time": "2025-01-16T20:20:12.768Z"
   },
   {
    "duration": 207,
    "start_time": "2025-01-16T20:20:13.175Z"
   },
   {
    "duration": 533,
    "start_time": "2025-01-16T20:20:13.385Z"
   },
   {
    "duration": 1388,
    "start_time": "2025-01-16T20:20:37.066Z"
   },
   {
    "duration": 2252,
    "start_time": "2025-01-16T20:20:38.456Z"
   },
   {
    "duration": 32,
    "start_time": "2025-01-16T20:20:40.710Z"
   },
   {
    "duration": 150,
    "start_time": "2025-01-16T20:20:40.744Z"
   },
   {
    "duration": 45,
    "start_time": "2025-01-16T20:20:40.895Z"
   },
   {
    "duration": 26,
    "start_time": "2025-01-16T20:20:40.942Z"
   },
   {
    "duration": 22,
    "start_time": "2025-01-16T20:20:40.969Z"
   },
   {
    "duration": 71,
    "start_time": "2025-01-16T20:20:40.992Z"
   },
   {
    "duration": 48,
    "start_time": "2025-01-16T20:20:41.065Z"
   },
   {
    "duration": 4,
    "start_time": "2025-01-16T20:20:41.131Z"
   },
   {
    "duration": 71,
    "start_time": "2025-01-16T20:20:41.137Z"
   },
   {
    "duration": 137,
    "start_time": "2025-01-16T20:20:41.210Z"
   },
   {
    "duration": 43,
    "start_time": "2025-01-16T20:20:41.350Z"
   },
   {
    "duration": 54,
    "start_time": "2025-01-16T20:20:41.395Z"
   },
   {
    "duration": 23,
    "start_time": "2025-01-16T20:20:41.451Z"
   },
   {
    "duration": 17,
    "start_time": "2025-01-16T20:20:41.476Z"
   },
   {
    "duration": 49,
    "start_time": "2025-01-16T20:20:41.529Z"
   },
   {
    "duration": 9,
    "start_time": "2025-01-16T20:20:41.579Z"
   },
   {
    "duration": 367,
    "start_time": "2025-01-16T20:20:41.590Z"
   },
   {
    "duration": 314,
    "start_time": "2025-01-16T20:20:41.959Z"
   },
   {
    "duration": 216,
    "start_time": "2025-01-16T20:20:42.275Z"
   },
   {
    "duration": 445,
    "start_time": "2025-01-16T20:20:42.493Z"
   },
   {
    "duration": 408,
    "start_time": "2025-01-16T20:20:42.941Z"
   },
   {
    "duration": 174,
    "start_time": "2025-01-16T20:20:43.351Z"
   },
   {
    "duration": 461,
    "start_time": "2025-01-16T20:20:43.527Z"
   },
   {
    "duration": 739,
    "start_time": "2025-01-16T20:24:06.941Z"
   },
   {
    "duration": 719,
    "start_time": "2025-01-16T20:24:56.051Z"
   },
   {
    "duration": 758,
    "start_time": "2025-01-16T20:25:06.331Z"
   },
   {
    "duration": 1294,
    "start_time": "2025-01-16T20:25:26.204Z"
   },
   {
    "duration": 1945,
    "start_time": "2025-01-16T20:25:27.501Z"
   },
   {
    "duration": 24,
    "start_time": "2025-01-16T20:25:29.448Z"
   },
   {
    "duration": 149,
    "start_time": "2025-01-16T20:25:29.475Z"
   },
   {
    "duration": 33,
    "start_time": "2025-01-16T20:25:29.630Z"
   },
   {
    "duration": 29,
    "start_time": "2025-01-16T20:25:29.666Z"
   },
   {
    "duration": 52,
    "start_time": "2025-01-16T20:25:29.697Z"
   },
   {
    "duration": 19,
    "start_time": "2025-01-16T20:25:29.751Z"
   },
   {
    "duration": 78,
    "start_time": "2025-01-16T20:25:29.772Z"
   },
   {
    "duration": 13,
    "start_time": "2025-01-16T20:25:29.854Z"
   },
   {
    "duration": 74,
    "start_time": "2025-01-16T20:25:29.868Z"
   },
   {
    "duration": 124,
    "start_time": "2025-01-16T20:25:29.944Z"
   },
   {
    "duration": 32,
    "start_time": "2025-01-16T20:25:30.070Z"
   },
   {
    "duration": 58,
    "start_time": "2025-01-16T20:25:30.104Z"
   },
   {
    "duration": 36,
    "start_time": "2025-01-16T20:25:30.164Z"
   },
   {
    "duration": 52,
    "start_time": "2025-01-16T20:25:30.202Z"
   },
   {
    "duration": 95,
    "start_time": "2025-01-16T20:25:30.256Z"
   },
   {
    "duration": 8,
    "start_time": "2025-01-16T20:25:30.354Z"
   },
   {
    "duration": 386,
    "start_time": "2025-01-16T20:25:30.364Z"
   },
   {
    "duration": 287,
    "start_time": "2025-01-16T20:25:30.752Z"
   },
   {
    "duration": 217,
    "start_time": "2025-01-16T20:25:31.041Z"
   },
   {
    "duration": 436,
    "start_time": "2025-01-16T20:25:31.260Z"
   },
   {
    "duration": 342,
    "start_time": "2025-01-16T20:25:31.698Z"
   },
   {
    "duration": 176,
    "start_time": "2025-01-16T20:25:32.042Z"
   },
   {
    "duration": 433,
    "start_time": "2025-01-16T20:25:32.220Z"
   },
   {
    "duration": 1304,
    "start_time": "2025-01-16T20:25:48.743Z"
   },
   {
    "duration": 2176,
    "start_time": "2025-01-16T20:25:50.049Z"
   },
   {
    "duration": 25,
    "start_time": "2025-01-16T20:25:52.227Z"
   },
   {
    "duration": 148,
    "start_time": "2025-01-16T20:25:52.255Z"
   },
   {
    "duration": 47,
    "start_time": "2025-01-16T20:25:52.407Z"
   },
   {
    "duration": 30,
    "start_time": "2025-01-16T20:25:52.456Z"
   },
   {
    "duration": 56,
    "start_time": "2025-01-16T20:25:52.487Z"
   },
   {
    "duration": 15,
    "start_time": "2025-01-16T20:25:52.545Z"
   },
   {
    "duration": 80,
    "start_time": "2025-01-16T20:25:52.562Z"
   },
   {
    "duration": 4,
    "start_time": "2025-01-16T20:25:52.643Z"
   },
   {
    "duration": 94,
    "start_time": "2025-01-16T20:25:52.649Z"
   },
   {
    "duration": 125,
    "start_time": "2025-01-16T20:25:52.745Z"
   },
   {
    "duration": 30,
    "start_time": "2025-01-16T20:25:52.872Z"
   },
   {
    "duration": 27,
    "start_time": "2025-01-16T20:25:52.929Z"
   },
   {
    "duration": 19,
    "start_time": "2025-01-16T20:25:52.958Z"
   },
   {
    "duration": 52,
    "start_time": "2025-01-16T20:25:52.979Z"
   },
   {
    "duration": 49,
    "start_time": "2025-01-16T20:25:53.033Z"
   },
   {
    "duration": 9,
    "start_time": "2025-01-16T20:25:53.084Z"
   },
   {
    "duration": 347,
    "start_time": "2025-01-16T20:25:53.130Z"
   },
   {
    "duration": 302,
    "start_time": "2025-01-16T20:25:53.479Z"
   },
   {
    "duration": 213,
    "start_time": "2025-01-16T20:25:53.782Z"
   },
   {
    "duration": 423,
    "start_time": "2025-01-16T20:25:53.997Z"
   },
   {
    "duration": 365,
    "start_time": "2025-01-16T20:25:54.423Z"
   },
   {
    "duration": 173,
    "start_time": "2025-01-16T20:25:54.790Z"
   },
   {
    "duration": 778,
    "start_time": "2025-01-16T20:25:54.965Z"
   },
   {
    "duration": 754,
    "start_time": "2025-01-16T20:26:36.257Z"
   },
   {
    "duration": 1289,
    "start_time": "2025-01-16T20:26:43.168Z"
   },
   {
    "duration": 2061,
    "start_time": "2025-01-16T20:26:44.459Z"
   },
   {
    "duration": 29,
    "start_time": "2025-01-16T20:26:46.523Z"
   },
   {
    "duration": 146,
    "start_time": "2025-01-16T20:26:46.554Z"
   },
   {
    "duration": 52,
    "start_time": "2025-01-16T20:26:46.702Z"
   },
   {
    "duration": 28,
    "start_time": "2025-01-16T20:26:46.757Z"
   },
   {
    "duration": 49,
    "start_time": "2025-01-16T20:26:46.787Z"
   },
   {
    "duration": 17,
    "start_time": "2025-01-16T20:26:46.838Z"
   },
   {
    "duration": 92,
    "start_time": "2025-01-16T20:26:46.857Z"
   },
   {
    "duration": 4,
    "start_time": "2025-01-16T20:26:46.953Z"
   },
   {
    "duration": 84,
    "start_time": "2025-01-16T20:26:46.959Z"
   },
   {
    "duration": 124,
    "start_time": "2025-01-16T20:26:47.045Z"
   },
   {
    "duration": 31,
    "start_time": "2025-01-16T20:26:47.171Z"
   },
   {
    "duration": 28,
    "start_time": "2025-01-16T20:26:47.229Z"
   },
   {
    "duration": 26,
    "start_time": "2025-01-16T20:26:47.259Z"
   },
   {
    "duration": 53,
    "start_time": "2025-01-16T20:26:47.288Z"
   },
   {
    "duration": 52,
    "start_time": "2025-01-16T20:26:47.342Z"
   },
   {
    "duration": 8,
    "start_time": "2025-01-16T20:26:47.396Z"
   },
   {
    "duration": 344,
    "start_time": "2025-01-16T20:26:47.429Z"
   },
   {
    "duration": 286,
    "start_time": "2025-01-16T20:26:47.775Z"
   },
   {
    "duration": 214,
    "start_time": "2025-01-16T20:26:48.063Z"
   },
   {
    "duration": 461,
    "start_time": "2025-01-16T20:26:48.280Z"
   },
   {
    "duration": 372,
    "start_time": "2025-01-16T20:26:48.743Z"
   },
   {
    "duration": 172,
    "start_time": "2025-01-16T20:26:49.117Z"
   },
   {
    "duration": 770,
    "start_time": "2025-01-16T20:26:49.291Z"
   },
   {
    "duration": 1289,
    "start_time": "2025-01-16T20:28:02.141Z"
   },
   {
    "duration": 2153,
    "start_time": "2025-01-16T20:28:03.431Z"
   },
   {
    "duration": 24,
    "start_time": "2025-01-16T20:28:05.585Z"
   },
   {
    "duration": 137,
    "start_time": "2025-01-16T20:28:05.629Z"
   },
   {
    "duration": 33,
    "start_time": "2025-01-16T20:28:05.768Z"
   },
   {
    "duration": 70,
    "start_time": "2025-01-16T20:28:05.803Z"
   },
   {
    "duration": 21,
    "start_time": "2025-01-16T20:28:05.875Z"
   },
   {
    "duration": 42,
    "start_time": "2025-01-16T20:28:05.897Z"
   },
   {
    "duration": 90,
    "start_time": "2025-01-16T20:28:05.941Z"
   },
   {
    "duration": 4,
    "start_time": "2025-01-16T20:28:06.034Z"
   },
   {
    "duration": 99,
    "start_time": "2025-01-16T20:28:06.040Z"
   },
   {
    "duration": 122,
    "start_time": "2025-01-16T20:28:06.140Z"
   },
   {
    "duration": 30,
    "start_time": "2025-01-16T20:28:06.265Z"
   },
   {
    "duration": 53,
    "start_time": "2025-01-16T20:28:06.297Z"
   },
   {
    "duration": 45,
    "start_time": "2025-01-16T20:28:06.352Z"
   },
   {
    "duration": 70,
    "start_time": "2025-01-16T20:28:06.398Z"
   },
   {
    "duration": 78,
    "start_time": "2025-01-16T20:28:06.470Z"
   },
   {
    "duration": 8,
    "start_time": "2025-01-16T20:28:06.550Z"
   },
   {
    "duration": 375,
    "start_time": "2025-01-16T20:28:06.560Z"
   },
   {
    "duration": 286,
    "start_time": "2025-01-16T20:28:06.937Z"
   },
   {
    "duration": 205,
    "start_time": "2025-01-16T20:28:07.225Z"
   },
   {
    "duration": 421,
    "start_time": "2025-01-16T20:28:07.431Z"
   },
   {
    "duration": 385,
    "start_time": "2025-01-16T20:28:07.854Z"
   },
   {
    "duration": 190,
    "start_time": "2025-01-16T20:28:08.240Z"
   },
   {
    "duration": 754,
    "start_time": "2025-01-16T20:28:08.432Z"
   },
   {
    "duration": 838,
    "start_time": "2025-01-16T20:30:01.048Z"
   },
   {
    "duration": 773,
    "start_time": "2025-01-16T20:30:31.440Z"
   },
   {
    "duration": 316,
    "start_time": "2025-01-16T20:31:34.264Z"
   },
   {
    "duration": 287,
    "start_time": "2025-01-16T20:31:39.391Z"
   },
   {
    "duration": 305,
    "start_time": "2025-01-16T20:31:41.714Z"
   },
   {
    "duration": 735,
    "start_time": "2025-01-16T20:32:13.995Z"
   },
   {
    "duration": 760,
    "start_time": "2025-01-16T20:32:23.216Z"
   },
   {
    "duration": 753,
    "start_time": "2025-01-16T20:32:42.913Z"
   },
   {
    "duration": 741,
    "start_time": "2025-01-16T20:32:51.590Z"
   },
   {
    "duration": 766,
    "start_time": "2025-01-16T20:33:46.255Z"
   },
   {
    "duration": 29,
    "start_time": "2025-01-16T20:34:53.108Z"
   },
   {
    "duration": 45,
    "start_time": "2025-01-16T20:35:29.098Z"
   },
   {
    "duration": 30,
    "start_time": "2025-01-16T20:36:17.540Z"
   },
   {
    "duration": 26,
    "start_time": "2025-01-16T20:36:26.671Z"
   },
   {
    "duration": 50,
    "start_time": "2025-01-16T20:36:35.463Z"
   },
   {
    "duration": 65,
    "start_time": "2025-01-16T20:37:47.363Z"
   },
   {
    "duration": 50,
    "start_time": "2025-01-16T20:37:51.743Z"
   },
   {
    "duration": 1261,
    "start_time": "2025-01-16T20:38:17.981Z"
   },
   {
    "duration": 3265,
    "start_time": "2025-01-16T20:38:19.244Z"
   },
   {
    "duration": 27,
    "start_time": "2025-01-16T20:38:22.511Z"
   },
   {
    "duration": 154,
    "start_time": "2025-01-16T20:38:22.540Z"
   },
   {
    "duration": 47,
    "start_time": "2025-01-16T20:38:22.696Z"
   },
   {
    "duration": 29,
    "start_time": "2025-01-16T20:38:22.746Z"
   },
   {
    "duration": 54,
    "start_time": "2025-01-16T20:38:22.777Z"
   },
   {
    "duration": 14,
    "start_time": "2025-01-16T20:38:22.833Z"
   },
   {
    "duration": 49,
    "start_time": "2025-01-16T20:38:22.849Z"
   },
   {
    "duration": 30,
    "start_time": "2025-01-16T20:38:22.901Z"
   },
   {
    "duration": 64,
    "start_time": "2025-01-16T20:38:22.933Z"
   },
   {
    "duration": 139,
    "start_time": "2025-01-16T20:38:22.999Z"
   },
   {
    "duration": 34,
    "start_time": "2025-01-16T20:38:23.140Z"
   },
   {
    "duration": 54,
    "start_time": "2025-01-16T20:38:23.176Z"
   },
   {
    "duration": 20,
    "start_time": "2025-01-16T20:38:23.232Z"
   },
   {
    "duration": 21,
    "start_time": "2025-01-16T20:38:23.254Z"
   },
   {
    "duration": 72,
    "start_time": "2025-01-16T20:38:23.277Z"
   },
   {
    "duration": 8,
    "start_time": "2025-01-16T20:38:23.351Z"
   },
   {
    "duration": 346,
    "start_time": "2025-01-16T20:38:23.361Z"
   },
   {
    "duration": 279,
    "start_time": "2025-01-16T20:38:23.708Z"
   },
   {
    "duration": 208,
    "start_time": "2025-01-16T20:38:23.989Z"
   },
   {
    "duration": 403,
    "start_time": "2025-01-16T20:38:24.198Z"
   },
   {
    "duration": 362,
    "start_time": "2025-01-16T20:38:24.603Z"
   },
   {
    "duration": 167,
    "start_time": "2025-01-16T20:38:24.967Z"
   },
   {
    "duration": 787,
    "start_time": "2025-01-16T20:38:25.136Z"
   },
   {
    "duration": 1313,
    "start_time": "2025-01-16T20:45:45.383Z"
   },
   {
    "duration": 2406,
    "start_time": "2025-01-16T20:45:46.697Z"
   },
   {
    "duration": 35,
    "start_time": "2025-01-16T20:45:49.105Z"
   },
   {
    "duration": 166,
    "start_time": "2025-01-16T20:45:49.144Z"
   },
   {
    "duration": 42,
    "start_time": "2025-01-16T20:45:49.312Z"
   },
   {
    "duration": 27,
    "start_time": "2025-01-16T20:45:49.356Z"
   },
   {
    "duration": 72,
    "start_time": "2025-01-16T20:45:49.385Z"
   },
   {
    "duration": 18,
    "start_time": "2025-01-16T20:45:49.459Z"
   },
   {
    "duration": 82,
    "start_time": "2025-01-16T20:45:49.478Z"
   },
   {
    "duration": 4,
    "start_time": "2025-01-16T20:45:49.563Z"
   },
   {
    "duration": 98,
    "start_time": "2025-01-16T20:45:49.569Z"
   },
   {
    "duration": 139,
    "start_time": "2025-01-16T20:45:49.669Z"
   },
   {
    "duration": 50,
    "start_time": "2025-01-16T20:45:49.811Z"
   },
   {
    "duration": 53,
    "start_time": "2025-01-16T20:45:49.863Z"
   },
   {
    "duration": 21,
    "start_time": "2025-01-16T20:45:49.918Z"
   },
   {
    "duration": 18,
    "start_time": "2025-01-16T20:45:49.941Z"
   },
   {
    "duration": 92,
    "start_time": "2025-01-16T20:45:49.961Z"
   },
   {
    "duration": 9,
    "start_time": "2025-01-16T20:45:50.055Z"
   },
   {
    "duration": 413,
    "start_time": "2025-01-16T20:45:50.067Z"
   },
   {
    "duration": 283,
    "start_time": "2025-01-16T20:45:50.482Z"
   },
   {
    "duration": 214,
    "start_time": "2025-01-16T20:45:50.767Z"
   },
   {
    "duration": 419,
    "start_time": "2025-01-16T20:45:50.983Z"
   },
   {
    "duration": 352,
    "start_time": "2025-01-16T20:45:51.404Z"
   },
   {
    "duration": 182,
    "start_time": "2025-01-16T20:45:51.758Z"
   },
   {
    "duration": 824,
    "start_time": "2025-01-16T20:45:51.942Z"
   },
   {
    "duration": 882,
    "start_time": "2025-01-16T20:47:09.542Z"
   },
   {
    "duration": 1325,
    "start_time": "2025-01-16T20:47:16.173Z"
   },
   {
    "duration": 2310,
    "start_time": "2025-01-16T20:47:17.502Z"
   },
   {
    "duration": 31,
    "start_time": "2025-01-16T20:47:19.814Z"
   },
   {
    "duration": 153,
    "start_time": "2025-01-16T20:47:19.849Z"
   },
   {
    "duration": 50,
    "start_time": "2025-01-16T20:47:20.004Z"
   },
   {
    "duration": 27,
    "start_time": "2025-01-16T20:47:20.057Z"
   },
   {
    "duration": 55,
    "start_time": "2025-01-16T20:47:20.086Z"
   },
   {
    "duration": 20,
    "start_time": "2025-01-16T20:47:20.144Z"
   },
   {
    "duration": 93,
    "start_time": "2025-01-16T20:47:20.166Z"
   },
   {
    "duration": 4,
    "start_time": "2025-01-16T20:47:20.262Z"
   },
   {
    "duration": 115,
    "start_time": "2025-01-16T20:47:20.268Z"
   },
   {
    "duration": 128,
    "start_time": "2025-01-16T20:47:20.384Z"
   },
   {
    "duration": 47,
    "start_time": "2025-01-16T20:47:20.514Z"
   },
   {
    "duration": 27,
    "start_time": "2025-01-16T20:47:20.563Z"
   },
   {
    "duration": 43,
    "start_time": "2025-01-16T20:47:20.592Z"
   },
   {
    "duration": 25,
    "start_time": "2025-01-16T20:47:20.638Z"
   },
   {
    "duration": 82,
    "start_time": "2025-01-16T20:47:20.664Z"
   },
   {
    "duration": 9,
    "start_time": "2025-01-16T20:47:20.749Z"
   },
   {
    "duration": 513,
    "start_time": "2025-01-16T20:47:20.760Z"
   },
   {
    "duration": 374,
    "start_time": "2025-01-16T20:47:21.275Z"
   },
   {
    "duration": 217,
    "start_time": "2025-01-16T20:47:21.652Z"
   },
   {
    "duration": 432,
    "start_time": "2025-01-16T20:47:21.871Z"
   },
   {
    "duration": 349,
    "start_time": "2025-01-16T20:47:22.305Z"
   },
   {
    "duration": 178,
    "start_time": "2025-01-16T20:47:22.656Z"
   },
   {
    "duration": 175,
    "start_time": "2025-01-16T20:47:22.837Z"
   },
   {
    "duration": 400,
    "start_time": "2025-01-16T20:47:29.779Z"
   },
   {
    "duration": 1326,
    "start_time": "2025-01-16T20:47:35.497Z"
   },
   {
    "duration": 2069,
    "start_time": "2025-01-16T20:47:36.826Z"
   },
   {
    "duration": 50,
    "start_time": "2025-01-16T20:47:38.900Z"
   },
   {
    "duration": 152,
    "start_time": "2025-01-16T20:47:38.951Z"
   },
   {
    "duration": 51,
    "start_time": "2025-01-16T20:47:39.105Z"
   },
   {
    "duration": 44,
    "start_time": "2025-01-16T20:47:39.158Z"
   },
   {
    "duration": 46,
    "start_time": "2025-01-16T20:47:39.204Z"
   },
   {
    "duration": 15,
    "start_time": "2025-01-16T20:47:39.252Z"
   },
   {
    "duration": 75,
    "start_time": "2025-01-16T20:47:39.270Z"
   },
   {
    "duration": 6,
    "start_time": "2025-01-16T20:47:39.347Z"
   },
   {
    "duration": 89,
    "start_time": "2025-01-16T20:47:39.355Z"
   },
   {
    "duration": 128,
    "start_time": "2025-01-16T20:47:39.447Z"
   },
   {
    "duration": 32,
    "start_time": "2025-01-16T20:47:39.577Z"
   },
   {
    "duration": 38,
    "start_time": "2025-01-16T20:47:39.632Z"
   },
   {
    "duration": 19,
    "start_time": "2025-01-16T20:47:39.672Z"
   },
   {
    "duration": 22,
    "start_time": "2025-01-16T20:47:39.729Z"
   },
   {
    "duration": 78,
    "start_time": "2025-01-16T20:47:39.754Z"
   },
   {
    "duration": 15,
    "start_time": "2025-01-16T20:47:39.835Z"
   },
   {
    "duration": 455,
    "start_time": "2025-01-16T20:47:39.852Z"
   },
   {
    "duration": 343,
    "start_time": "2025-01-16T20:47:40.309Z"
   },
   {
    "duration": 232,
    "start_time": "2025-01-16T20:47:40.655Z"
   },
   {
    "duration": 422,
    "start_time": "2025-01-16T20:47:40.890Z"
   },
   {
    "duration": 380,
    "start_time": "2025-01-16T20:47:41.314Z"
   },
   {
    "duration": 195,
    "start_time": "2025-01-16T20:47:41.697Z"
   },
   {
    "duration": 198,
    "start_time": "2025-01-16T20:47:41.894Z"
   },
   {
    "duration": 1410,
    "start_time": "2025-01-16T20:48:00.978Z"
   },
   {
    "duration": 2242,
    "start_time": "2025-01-16T20:48:02.390Z"
   },
   {
    "duration": 32,
    "start_time": "2025-01-16T20:48:04.635Z"
   },
   {
    "duration": 252,
    "start_time": "2025-01-16T20:48:04.669Z"
   },
   {
    "duration": 46,
    "start_time": "2025-01-16T20:48:04.923Z"
   },
   {
    "duration": 28,
    "start_time": "2025-01-16T20:48:04.971Z"
   },
   {
    "duration": 30,
    "start_time": "2025-01-16T20:48:05.030Z"
   },
   {
    "duration": 42,
    "start_time": "2025-01-16T20:48:05.062Z"
   },
   {
    "duration": 111,
    "start_time": "2025-01-16T20:48:05.106Z"
   },
   {
    "duration": 4,
    "start_time": "2025-01-16T20:48:05.220Z"
   },
   {
    "duration": 100,
    "start_time": "2025-01-16T20:48:05.226Z"
   },
   {
    "duration": 131,
    "start_time": "2025-01-16T20:48:05.328Z"
   },
   {
    "duration": 33,
    "start_time": "2025-01-16T20:48:05.461Z"
   },
   {
    "duration": 55,
    "start_time": "2025-01-16T20:48:05.496Z"
   },
   {
    "duration": 67,
    "start_time": "2025-01-16T20:48:05.554Z"
   },
   {
    "duration": 26,
    "start_time": "2025-01-16T20:48:05.623Z"
   },
   {
    "duration": 68,
    "start_time": "2025-01-16T20:48:05.652Z"
   },
   {
    "duration": 9,
    "start_time": "2025-01-16T20:48:05.722Z"
   },
   {
    "duration": 448,
    "start_time": "2025-01-16T20:48:05.734Z"
   },
   {
    "duration": 328,
    "start_time": "2025-01-16T20:48:06.184Z"
   },
   {
    "duration": 254,
    "start_time": "2025-01-16T20:48:06.514Z"
   },
   {
    "duration": 490,
    "start_time": "2025-01-16T20:48:06.770Z"
   },
   {
    "duration": 426,
    "start_time": "2025-01-16T20:48:07.261Z"
   },
   {
    "duration": 200,
    "start_time": "2025-01-16T20:48:07.689Z"
   },
   {
    "duration": 887,
    "start_time": "2025-01-16T20:48:07.891Z"
   },
   {
    "duration": 1225,
    "start_time": "2025-01-17T06:12:58.882Z"
   },
   {
    "duration": 2664,
    "start_time": "2025-01-17T06:13:00.109Z"
   },
   {
    "duration": 24,
    "start_time": "2025-01-17T06:13:02.775Z"
   },
   {
    "duration": 167,
    "start_time": "2025-01-17T06:13:02.802Z"
   },
   {
    "duration": 32,
    "start_time": "2025-01-17T06:13:02.970Z"
   },
   {
    "duration": 55,
    "start_time": "2025-01-17T06:13:03.004Z"
   },
   {
    "duration": 21,
    "start_time": "2025-01-17T06:13:03.061Z"
   },
   {
    "duration": 20,
    "start_time": "2025-01-17T06:13:03.084Z"
   },
   {
    "duration": 54,
    "start_time": "2025-01-17T06:13:03.131Z"
   },
   {
    "duration": 35,
    "start_time": "2025-01-17T06:13:03.188Z"
   },
   {
    "duration": 76,
    "start_time": "2025-01-17T06:13:03.225Z"
   },
   {
    "duration": 114,
    "start_time": "2025-01-17T06:13:03.303Z"
   },
   {
    "duration": 45,
    "start_time": "2025-01-17T06:13:03.419Z"
   },
   {
    "duration": 28,
    "start_time": "2025-01-17T06:13:03.466Z"
   },
   {
    "duration": 60,
    "start_time": "2025-01-17T06:13:03.496Z"
   },
   {
    "duration": 103,
    "start_time": "2025-01-17T06:13:03.558Z"
   },
   {
    "duration": 46,
    "start_time": "2025-01-17T06:13:03.663Z"
   },
   {
    "duration": 8,
    "start_time": "2025-01-17T06:13:03.711Z"
   },
   {
    "duration": 327,
    "start_time": "2025-01-17T06:13:03.730Z"
   },
   {
    "duration": 319,
    "start_time": "2025-01-17T06:13:04.059Z"
   },
   {
    "duration": 201,
    "start_time": "2025-01-17T06:13:04.380Z"
   },
   {
    "duration": 414,
    "start_time": "2025-01-17T06:13:04.583Z"
   },
   {
    "duration": 353,
    "start_time": "2025-01-17T06:13:04.999Z"
   },
   {
    "duration": 166,
    "start_time": "2025-01-17T06:13:05.355Z"
   },
   {
    "duration": 821,
    "start_time": "2025-01-17T06:13:05.523Z"
   },
   {
    "duration": 21,
    "start_time": "2025-01-17T06:13:13.451Z"
   },
   {
    "duration": 166,
    "start_time": "2025-01-17T06:14:42.113Z"
   },
   {
    "duration": 2197,
    "start_time": "2025-01-17T06:14:59.548Z"
   },
   {
    "duration": 126,
    "start_time": "2025-01-17T06:15:17.740Z"
   },
   {
    "duration": 134,
    "start_time": "2025-01-17T06:15:46.700Z"
   },
   {
    "duration": 47,
    "start_time": "2025-01-17T08:16:47.920Z"
   },
   {
    "duration": 6,
    "start_time": "2025-01-17T08:16:52.905Z"
   },
   {
    "duration": 1345,
    "start_time": "2025-01-17T08:17:00.119Z"
   },
   {
    "duration": 2142,
    "start_time": "2025-01-17T08:17:01.466Z"
   },
   {
    "duration": 23,
    "start_time": "2025-01-17T08:17:03.610Z"
   },
   {
    "duration": 128,
    "start_time": "2025-01-17T08:17:03.634Z"
   },
   {
    "duration": 26,
    "start_time": "2025-01-17T08:17:03.763Z"
   },
   {
    "duration": 29,
    "start_time": "2025-01-17T08:17:03.790Z"
   },
   {
    "duration": 51,
    "start_time": "2025-01-17T08:17:03.821Z"
   },
   {
    "duration": 16,
    "start_time": "2025-01-17T08:17:03.874Z"
   },
   {
    "duration": 63,
    "start_time": "2025-01-17T08:17:03.892Z"
   },
   {
    "duration": 3,
    "start_time": "2025-01-17T08:17:03.958Z"
   },
   {
    "duration": 81,
    "start_time": "2025-01-17T08:17:03.963Z"
   },
   {
    "duration": 101,
    "start_time": "2025-01-17T08:17:04.045Z"
   },
   {
    "duration": 30,
    "start_time": "2025-01-17T08:17:04.147Z"
   },
   {
    "duration": 68,
    "start_time": "2025-01-17T08:17:04.178Z"
   },
   {
    "duration": 34,
    "start_time": "2025-01-17T08:17:04.247Z"
   },
   {
    "duration": 12,
    "start_time": "2025-01-17T08:17:04.282Z"
   },
   {
    "duration": 54,
    "start_time": "2025-01-17T08:17:04.295Z"
   },
   {
    "duration": 6,
    "start_time": "2025-01-17T08:17:04.351Z"
   },
   {
    "duration": 312,
    "start_time": "2025-01-17T08:17:04.359Z"
   },
   {
    "duration": 238,
    "start_time": "2025-01-17T08:17:04.672Z"
   },
   {
    "duration": 177,
    "start_time": "2025-01-17T08:17:04.912Z"
   },
   {
    "duration": 365,
    "start_time": "2025-01-17T08:17:05.091Z"
   },
   {
    "duration": 372,
    "start_time": "2025-01-17T08:17:05.457Z"
   },
   {
    "duration": 131,
    "start_time": "2025-01-17T08:17:05.830Z"
   },
   {
    "duration": 645,
    "start_time": "2025-01-17T08:17:05.963Z"
   },
   {
    "duration": 61,
    "start_time": "2025-01-17T08:17:06.609Z"
   },
   {
    "duration": 1142,
    "start_time": "2025-01-17T08:23:56.407Z"
   },
   {
    "duration": 2761,
    "start_time": "2025-01-17T08:23:57.551Z"
   },
   {
    "duration": 21,
    "start_time": "2025-01-17T08:24:00.314Z"
   },
   {
    "duration": 175,
    "start_time": "2025-01-17T08:24:00.337Z"
   },
   {
    "duration": 52,
    "start_time": "2025-01-17T08:24:00.514Z"
   },
   {
    "duration": 45,
    "start_time": "2025-01-17T08:24:00.568Z"
   },
   {
    "duration": 25,
    "start_time": "2025-01-17T08:24:00.615Z"
   },
   {
    "duration": 17,
    "start_time": "2025-01-17T08:24:00.642Z"
   },
   {
    "duration": 55,
    "start_time": "2025-01-17T08:24:00.661Z"
   },
   {
    "duration": 3,
    "start_time": "2025-01-17T08:24:00.718Z"
   },
   {
    "duration": 70,
    "start_time": "2025-01-17T08:24:00.723Z"
   },
   {
    "duration": 111,
    "start_time": "2025-01-17T08:24:00.795Z"
   },
   {
    "duration": 26,
    "start_time": "2025-01-17T08:24:00.908Z"
   },
   {
    "duration": 117,
    "start_time": "2025-01-17T08:24:00.935Z"
   },
   {
    "duration": 22,
    "start_time": "2025-01-17T08:24:01.053Z"
   },
   {
    "duration": 11,
    "start_time": "2025-01-17T08:24:01.077Z"
   },
   {
    "duration": 78,
    "start_time": "2025-01-17T08:24:01.089Z"
   },
   {
    "duration": 8,
    "start_time": "2025-01-17T08:24:01.168Z"
   },
   {
    "duration": 299,
    "start_time": "2025-01-17T08:24:01.177Z"
   },
   {
    "duration": 289,
    "start_time": "2025-01-17T08:24:01.478Z"
   },
   {
    "duration": 169,
    "start_time": "2025-01-17T08:24:01.769Z"
   },
   {
    "duration": 368,
    "start_time": "2025-01-17T08:24:01.940Z"
   },
   {
    "duration": 339,
    "start_time": "2025-01-17T08:24:02.310Z"
   },
   {
    "duration": 151,
    "start_time": "2025-01-17T08:24:02.655Z"
   },
   {
    "duration": 696,
    "start_time": "2025-01-17T08:24:02.807Z"
   },
   {
    "duration": 74,
    "start_time": "2025-01-17T08:24:03.504Z"
   },
   {
    "duration": 676,
    "start_time": "2025-01-17T08:27:46.592Z"
   },
   {
    "duration": 1170,
    "start_time": "2025-01-17T08:28:04.033Z"
   },
   {
    "duration": 2516,
    "start_time": "2025-01-17T08:28:05.204Z"
   },
   {
    "duration": 20,
    "start_time": "2025-01-17T08:28:07.721Z"
   },
   {
    "duration": 125,
    "start_time": "2025-01-17T08:28:07.753Z"
   },
   {
    "duration": 29,
    "start_time": "2025-01-17T08:28:07.880Z"
   },
   {
    "duration": 22,
    "start_time": "2025-01-17T08:28:07.911Z"
   },
   {
    "duration": 18,
    "start_time": "2025-01-17T08:28:07.954Z"
   },
   {
    "duration": 11,
    "start_time": "2025-01-17T08:28:07.974Z"
   },
   {
    "duration": 43,
    "start_time": "2025-01-17T08:28:07.986Z"
   },
   {
    "duration": 3,
    "start_time": "2025-01-17T08:28:08.055Z"
   },
   {
    "duration": 65,
    "start_time": "2025-01-17T08:28:08.060Z"
   },
   {
    "duration": 105,
    "start_time": "2025-01-17T08:28:08.127Z"
   },
   {
    "duration": 31,
    "start_time": "2025-01-17T08:28:08.234Z"
   },
   {
    "duration": 21,
    "start_time": "2025-01-17T08:28:08.267Z"
   },
   {
    "duration": 49,
    "start_time": "2025-01-17T08:28:08.290Z"
   },
   {
    "duration": 12,
    "start_time": "2025-01-17T08:28:08.341Z"
   },
   {
    "duration": 41,
    "start_time": "2025-01-17T08:28:08.355Z"
   },
   {
    "duration": 7,
    "start_time": "2025-01-17T08:28:08.398Z"
   },
   {
    "duration": 307,
    "start_time": "2025-01-17T08:28:08.407Z"
   },
   {
    "duration": 241,
    "start_time": "2025-01-17T08:28:08.715Z"
   },
   {
    "duration": 174,
    "start_time": "2025-01-17T08:28:08.958Z"
   },
   {
    "duration": 341,
    "start_time": "2025-01-17T08:28:09.133Z"
   },
   {
    "duration": 316,
    "start_time": "2025-01-17T08:28:09.475Z"
   },
   {
    "duration": 133,
    "start_time": "2025-01-17T08:28:09.792Z"
   },
   {
    "duration": 653,
    "start_time": "2025-01-17T08:28:09.927Z"
   },
   {
    "duration": 57,
    "start_time": "2025-01-17T08:28:10.581Z"
   },
   {
    "duration": 5,
    "start_time": "2025-01-17T08:32:02.719Z"
   },
   {
    "duration": 9,
    "start_time": "2025-01-17T08:32:16.742Z"
   },
   {
    "duration": 102,
    "start_time": "2025-01-17T08:33:04.531Z"
   },
   {
    "duration": 1089,
    "start_time": "2025-01-17T08:33:19.677Z"
   },
   {
    "duration": 2011,
    "start_time": "2025-01-17T08:33:20.768Z"
   },
   {
    "duration": 21,
    "start_time": "2025-01-17T08:33:22.781Z"
   },
   {
    "duration": 127,
    "start_time": "2025-01-17T08:33:22.804Z"
   },
   {
    "duration": 34,
    "start_time": "2025-01-17T08:33:22.933Z"
   },
   {
    "duration": 23,
    "start_time": "2025-01-17T08:33:22.969Z"
   },
   {
    "duration": 19,
    "start_time": "2025-01-17T08:33:22.993Z"
   },
   {
    "duration": 86,
    "start_time": "2025-01-17T08:33:23.014Z"
   },
   {
    "duration": 59,
    "start_time": "2025-01-17T08:33:23.102Z"
   },
   {
    "duration": 3,
    "start_time": "2025-01-17T08:33:23.165Z"
   },
   {
    "duration": 56,
    "start_time": "2025-01-17T08:33:23.170Z"
   },
   {
    "duration": 117,
    "start_time": "2025-01-17T08:33:23.228Z"
   },
   {
    "duration": 33,
    "start_time": "2025-01-17T08:33:23.347Z"
   },
   {
    "duration": 23,
    "start_time": "2025-01-17T08:33:23.382Z"
   },
   {
    "duration": 47,
    "start_time": "2025-01-17T08:33:23.407Z"
   },
   {
    "duration": 15,
    "start_time": "2025-01-17T08:33:23.456Z"
   },
   {
    "duration": 41,
    "start_time": "2025-01-17T08:33:23.473Z"
   },
   {
    "duration": 9,
    "start_time": "2025-01-17T08:33:23.516Z"
   },
   {
    "duration": 328,
    "start_time": "2025-01-17T08:33:23.526Z"
   },
   {
    "duration": 237,
    "start_time": "2025-01-17T08:33:23.855Z"
   },
   {
    "duration": 169,
    "start_time": "2025-01-17T08:33:24.093Z"
   },
   {
    "duration": 364,
    "start_time": "2025-01-17T08:33:24.263Z"
   },
   {
    "duration": 316,
    "start_time": "2025-01-17T08:33:24.629Z"
   },
   {
    "duration": 135,
    "start_time": "2025-01-17T08:33:24.953Z"
   },
   {
    "duration": 672,
    "start_time": "2025-01-17T08:33:25.090Z"
   },
   {
    "duration": 58,
    "start_time": "2025-01-17T08:33:25.764Z"
   },
   {
    "duration": 33,
    "start_time": "2025-01-17T08:33:25.824Z"
   },
   {
    "duration": 120,
    "start_time": "2025-01-17T08:33:25.861Z"
   },
   {
    "duration": 1087,
    "start_time": "2025-01-17T08:34:21.294Z"
   },
   {
    "duration": 2214,
    "start_time": "2025-01-17T08:34:22.383Z"
   },
   {
    "duration": 20,
    "start_time": "2025-01-17T08:34:24.601Z"
   },
   {
    "duration": 123,
    "start_time": "2025-01-17T08:34:24.622Z"
   },
   {
    "duration": 29,
    "start_time": "2025-01-17T08:34:24.755Z"
   },
   {
    "duration": 23,
    "start_time": "2025-01-17T08:34:24.785Z"
   },
   {
    "duration": 19,
    "start_time": "2025-01-17T08:34:24.809Z"
   },
   {
    "duration": 13,
    "start_time": "2025-01-17T08:34:24.853Z"
   },
   {
    "duration": 42,
    "start_time": "2025-01-17T08:34:24.868Z"
   },
   {
    "duration": 4,
    "start_time": "2025-01-17T08:34:24.911Z"
   },
   {
    "duration": 78,
    "start_time": "2025-01-17T08:34:24.916Z"
   },
   {
    "duration": 106,
    "start_time": "2025-01-17T08:34:24.995Z"
   },
   {
    "duration": 26,
    "start_time": "2025-01-17T08:34:25.102Z"
   },
   {
    "duration": 35,
    "start_time": "2025-01-17T08:34:25.129Z"
   },
   {
    "duration": 16,
    "start_time": "2025-01-17T08:34:25.165Z"
   },
   {
    "duration": 18,
    "start_time": "2025-01-17T08:34:25.182Z"
   },
   {
    "duration": 59,
    "start_time": "2025-01-17T08:34:25.202Z"
   },
   {
    "duration": 7,
    "start_time": "2025-01-17T08:34:25.263Z"
   },
   {
    "duration": 382,
    "start_time": "2025-01-17T08:34:25.272Z"
   },
   {
    "duration": 248,
    "start_time": "2025-01-17T08:34:25.655Z"
   },
   {
    "duration": 180,
    "start_time": "2025-01-17T08:34:25.904Z"
   },
   {
    "duration": 352,
    "start_time": "2025-01-17T08:34:26.086Z"
   },
   {
    "duration": 316,
    "start_time": "2025-01-17T08:34:26.440Z"
   },
   {
    "duration": 163,
    "start_time": "2025-01-17T08:34:26.758Z"
   },
   {
    "duration": 669,
    "start_time": "2025-01-17T08:34:26.922Z"
   },
   {
    "duration": 66,
    "start_time": "2025-01-17T08:34:27.592Z"
   },
   {
    "duration": 9,
    "start_time": "2025-01-17T08:34:27.661Z"
   },
   {
    "duration": 145,
    "start_time": "2025-01-17T08:34:27.671Z"
   },
   {
    "duration": 121,
    "start_time": "2025-01-17T08:35:04.420Z"
   },
   {
    "duration": 112,
    "start_time": "2025-01-17T08:35:12.779Z"
   },
   {
    "duration": 112,
    "start_time": "2025-01-17T08:35:15.525Z"
   },
   {
    "duration": 107,
    "start_time": "2025-01-17T08:35:18.584Z"
   },
   {
    "duration": 195,
    "start_time": "2025-01-17T08:35:56.329Z"
   },
   {
    "duration": 248,
    "start_time": "2025-01-17T08:39:00.611Z"
   },
   {
    "duration": 341,
    "start_time": "2025-01-17T08:39:20.859Z"
   },
   {
    "duration": 139,
    "start_time": "2025-01-17T08:43:19.425Z"
   },
   {
    "duration": 126,
    "start_time": "2025-01-17T08:43:38.454Z"
   },
   {
    "duration": 122,
    "start_time": "2025-01-17T08:43:58.081Z"
   },
   {
    "duration": 116,
    "start_time": "2025-01-17T08:44:14.166Z"
   },
   {
    "duration": 131,
    "start_time": "2025-01-17T08:44:22.011Z"
   },
   {
    "duration": 151,
    "start_time": "2025-01-17T08:44:33.704Z"
   },
   {
    "duration": 138,
    "start_time": "2025-01-17T08:44:40.447Z"
   },
   {
    "duration": 129,
    "start_time": "2025-01-17T08:44:52.395Z"
   },
   {
    "duration": 125,
    "start_time": "2025-01-17T08:45:01.995Z"
   },
   {
    "duration": 132,
    "start_time": "2025-01-17T08:45:17.029Z"
   },
   {
    "duration": 136,
    "start_time": "2025-01-17T08:45:25.717Z"
   },
   {
    "duration": 145,
    "start_time": "2025-01-17T08:45:29.271Z"
   },
   {
    "duration": 250,
    "start_time": "2025-01-17T08:45:32.005Z"
   },
   {
    "duration": 129,
    "start_time": "2025-01-17T08:45:38.307Z"
   },
   {
    "duration": 153,
    "start_time": "2025-01-17T08:45:42.027Z"
   },
   {
    "duration": 137,
    "start_time": "2025-01-17T08:45:44.492Z"
   },
   {
    "duration": 1187,
    "start_time": "2025-01-17T08:49:28.949Z"
   },
   {
    "duration": 2672,
    "start_time": "2025-01-17T08:49:30.138Z"
   },
   {
    "duration": 20,
    "start_time": "2025-01-17T08:49:32.811Z"
   },
   {
    "duration": 131,
    "start_time": "2025-01-17T08:49:32.833Z"
   },
   {
    "duration": 27,
    "start_time": "2025-01-17T08:49:32.965Z"
   },
   {
    "duration": 51,
    "start_time": "2025-01-17T08:49:32.993Z"
   },
   {
    "duration": 38,
    "start_time": "2025-01-17T08:49:33.046Z"
   },
   {
    "duration": 24,
    "start_time": "2025-01-17T08:49:33.086Z"
   },
   {
    "duration": 96,
    "start_time": "2025-01-17T08:49:33.112Z"
   },
   {
    "duration": 3,
    "start_time": "2025-01-17T08:49:33.211Z"
   },
   {
    "duration": 52,
    "start_time": "2025-01-17T08:49:33.216Z"
   },
   {
    "duration": 109,
    "start_time": "2025-01-17T08:49:33.270Z"
   },
   {
    "duration": 29,
    "start_time": "2025-01-17T08:49:33.381Z"
   },
   {
    "duration": 46,
    "start_time": "2025-01-17T08:49:33.411Z"
   },
   {
    "duration": 19,
    "start_time": "2025-01-17T08:49:33.458Z"
   },
   {
    "duration": 13,
    "start_time": "2025-01-17T08:49:33.478Z"
   },
   {
    "duration": 67,
    "start_time": "2025-01-17T08:49:33.492Z"
   },
   {
    "duration": 7,
    "start_time": "2025-01-17T08:49:33.561Z"
   },
   {
    "duration": 305,
    "start_time": "2025-01-17T08:49:33.570Z"
   },
   {
    "duration": 239,
    "start_time": "2025-01-17T08:49:33.876Z"
   },
   {
    "duration": 172,
    "start_time": "2025-01-17T08:49:34.116Z"
   },
   {
    "duration": 379,
    "start_time": "2025-01-17T08:49:34.289Z"
   },
   {
    "duration": 306,
    "start_time": "2025-01-17T08:49:34.669Z"
   },
   {
    "duration": 133,
    "start_time": "2025-01-17T08:49:34.977Z"
   },
   {
    "duration": 681,
    "start_time": "2025-01-17T08:49:35.112Z"
   },
   {
    "duration": 71,
    "start_time": "2025-01-17T08:49:35.794Z"
   },
   {
    "duration": 8,
    "start_time": "2025-01-17T08:49:35.866Z"
   },
   {
    "duration": 158,
    "start_time": "2025-01-17T08:49:35.878Z"
   },
   {
    "duration": 50,
    "start_time": "2025-01-17T08:49:40.582Z"
   },
   {
    "duration": 1148,
    "start_time": "2025-01-17T08:49:44.877Z"
   },
   {
    "duration": 1994,
    "start_time": "2025-01-17T08:49:46.026Z"
   },
   {
    "duration": 32,
    "start_time": "2025-01-17T08:49:48.022Z"
   },
   {
    "duration": 121,
    "start_time": "2025-01-17T08:49:48.056Z"
   },
   {
    "duration": 28,
    "start_time": "2025-01-17T08:49:48.179Z"
   },
   {
    "duration": 23,
    "start_time": "2025-01-17T08:49:48.208Z"
   },
   {
    "duration": 36,
    "start_time": "2025-01-17T08:49:48.232Z"
   },
   {
    "duration": 13,
    "start_time": "2025-01-17T08:49:48.270Z"
   },
   {
    "duration": 48,
    "start_time": "2025-01-17T08:49:48.284Z"
   },
   {
    "duration": 4,
    "start_time": "2025-01-17T08:49:48.353Z"
   },
   {
    "duration": 61,
    "start_time": "2025-01-17T08:49:48.359Z"
   },
   {
    "duration": 114,
    "start_time": "2025-01-17T08:49:48.421Z"
   },
   {
    "duration": 37,
    "start_time": "2025-01-17T08:49:48.537Z"
   },
   {
    "duration": 22,
    "start_time": "2025-01-17T08:49:48.576Z"
   },
   {
    "duration": 16,
    "start_time": "2025-01-17T08:49:48.599Z"
   },
   {
    "duration": 39,
    "start_time": "2025-01-17T08:49:48.616Z"
   },
   {
    "duration": 44,
    "start_time": "2025-01-17T08:49:48.656Z"
   },
   {
    "duration": 8,
    "start_time": "2025-01-17T08:49:48.701Z"
   },
   {
    "duration": 304,
    "start_time": "2025-01-17T08:49:48.710Z"
   },
   {
    "duration": 250,
    "start_time": "2025-01-17T08:49:49.015Z"
   },
   {
    "duration": 172,
    "start_time": "2025-01-17T08:49:49.267Z"
   },
   {
    "duration": 354,
    "start_time": "2025-01-17T08:49:49.440Z"
   },
   {
    "duration": 329,
    "start_time": "2025-01-17T08:49:49.795Z"
   },
   {
    "duration": 143,
    "start_time": "2025-01-17T08:49:50.125Z"
   },
   {
    "duration": 669,
    "start_time": "2025-01-17T08:49:50.270Z"
   },
   {
    "duration": 62,
    "start_time": "2025-01-17T08:49:50.941Z"
   },
   {
    "duration": 8,
    "start_time": "2025-01-17T08:49:51.005Z"
   },
   {
    "duration": 162,
    "start_time": "2025-01-17T08:49:51.016Z"
   },
   {
    "duration": 64,
    "start_time": "2025-01-17T08:50:29.181Z"
   },
   {
    "duration": 1155,
    "start_time": "2025-01-17T08:50:38.027Z"
   },
   {
    "duration": 1770,
    "start_time": "2025-01-17T08:50:39.183Z"
   },
   {
    "duration": 21,
    "start_time": "2025-01-17T08:50:40.955Z"
   },
   {
    "duration": 123,
    "start_time": "2025-01-17T08:50:40.977Z"
   },
   {
    "duration": 27,
    "start_time": "2025-01-17T08:50:41.101Z"
   },
   {
    "duration": 69,
    "start_time": "2025-01-17T08:50:41.130Z"
   },
   {
    "duration": 18,
    "start_time": "2025-01-17T08:50:41.201Z"
   },
   {
    "duration": 28,
    "start_time": "2025-01-17T08:50:41.222Z"
   },
   {
    "duration": 45,
    "start_time": "2025-01-17T08:50:41.251Z"
   },
   {
    "duration": 5,
    "start_time": "2025-01-17T08:50:41.298Z"
   },
   {
    "duration": 119,
    "start_time": "2025-01-17T08:50:41.305Z"
   },
   {
    "duration": 144,
    "start_time": "2025-01-17T08:50:41.426Z"
   },
   {
    "duration": 29,
    "start_time": "2025-01-17T08:50:41.572Z"
   },
   {
    "duration": 39,
    "start_time": "2025-01-17T08:50:41.603Z"
   },
   {
    "duration": 22,
    "start_time": "2025-01-17T08:50:41.644Z"
   },
   {
    "duration": 15,
    "start_time": "2025-01-17T08:50:41.668Z"
   },
   {
    "duration": 70,
    "start_time": "2025-01-17T08:50:41.685Z"
   },
   {
    "duration": 8,
    "start_time": "2025-01-17T08:50:41.757Z"
   },
   {
    "duration": 296,
    "start_time": "2025-01-17T08:50:41.766Z"
   },
   {
    "duration": 258,
    "start_time": "2025-01-17T08:50:42.063Z"
   },
   {
    "duration": 175,
    "start_time": "2025-01-17T08:50:42.323Z"
   },
   {
    "duration": 360,
    "start_time": "2025-01-17T08:50:42.500Z"
   },
   {
    "duration": 305,
    "start_time": "2025-01-17T08:50:42.863Z"
   },
   {
    "duration": 144,
    "start_time": "2025-01-17T08:50:43.169Z"
   },
   {
    "duration": 668,
    "start_time": "2025-01-17T08:50:43.314Z"
   },
   {
    "duration": 71,
    "start_time": "2025-01-17T08:50:43.983Z"
   },
   {
    "duration": 8,
    "start_time": "2025-01-17T08:50:44.055Z"
   },
   {
    "duration": 146,
    "start_time": "2025-01-17T08:50:44.064Z"
   },
   {
    "duration": 1148,
    "start_time": "2025-01-17T08:51:01.341Z"
   },
   {
    "duration": 1833,
    "start_time": "2025-01-17T08:51:02.491Z"
   },
   {
    "duration": 19,
    "start_time": "2025-01-17T08:51:04.326Z"
   },
   {
    "duration": 164,
    "start_time": "2025-01-17T08:51:04.354Z"
   },
   {
    "duration": 36,
    "start_time": "2025-01-17T08:51:04.519Z"
   },
   {
    "duration": 22,
    "start_time": "2025-01-17T08:51:04.557Z"
   },
   {
    "duration": 24,
    "start_time": "2025-01-17T08:51:04.581Z"
   },
   {
    "duration": 31,
    "start_time": "2025-01-17T08:51:04.607Z"
   },
   {
    "duration": 73,
    "start_time": "2025-01-17T08:51:04.639Z"
   },
   {
    "duration": 4,
    "start_time": "2025-01-17T08:51:04.714Z"
   },
   {
    "duration": 56,
    "start_time": "2025-01-17T08:51:04.719Z"
   },
   {
    "duration": 107,
    "start_time": "2025-01-17T08:51:04.777Z"
   },
   {
    "duration": 26,
    "start_time": "2025-01-17T08:51:04.886Z"
   },
   {
    "duration": 34,
    "start_time": "2025-01-17T08:51:04.913Z"
   },
   {
    "duration": 16,
    "start_time": "2025-01-17T08:51:04.954Z"
   },
   {
    "duration": 21,
    "start_time": "2025-01-17T08:51:04.972Z"
   },
   {
    "duration": 71,
    "start_time": "2025-01-17T08:51:04.995Z"
   },
   {
    "duration": 18,
    "start_time": "2025-01-17T08:51:05.067Z"
   },
   {
    "duration": 283,
    "start_time": "2025-01-17T08:51:05.086Z"
   },
   {
    "duration": 254,
    "start_time": "2025-01-17T08:51:05.371Z"
   },
   {
    "duration": 177,
    "start_time": "2025-01-17T08:51:05.627Z"
   },
   {
    "duration": 358,
    "start_time": "2025-01-17T08:51:05.806Z"
   },
   {
    "duration": 299,
    "start_time": "2025-01-17T08:51:06.166Z"
   },
   {
    "duration": 145,
    "start_time": "2025-01-17T08:51:06.466Z"
   },
   {
    "duration": 681,
    "start_time": "2025-01-17T08:51:06.612Z"
   },
   {
    "duration": 71,
    "start_time": "2025-01-17T08:51:07.294Z"
   },
   {
    "duration": 60,
    "start_time": "2025-01-17T08:51:07.366Z"
   },
   {
    "duration": 153,
    "start_time": "2025-01-17T08:51:07.430Z"
   },
   {
    "duration": 50,
    "start_time": "2025-01-17T08:52:04.116Z"
   },
   {
    "duration": 9,
    "start_time": "2025-01-17T08:52:07.872Z"
   },
   {
    "duration": 136,
    "start_time": "2025-01-17T08:52:09.897Z"
   },
   {
    "duration": 1110,
    "start_time": "2025-01-17T08:52:17.765Z"
   },
   {
    "duration": 2772,
    "start_time": "2025-01-17T08:52:18.876Z"
   },
   {
    "duration": 19,
    "start_time": "2025-01-17T08:52:21.653Z"
   },
   {
    "duration": 124,
    "start_time": "2025-01-17T08:52:21.674Z"
   },
   {
    "duration": 26,
    "start_time": "2025-01-17T08:52:21.799Z"
   },
   {
    "duration": 35,
    "start_time": "2025-01-17T08:52:21.826Z"
   },
   {
    "duration": 17,
    "start_time": "2025-01-17T08:52:21.862Z"
   },
   {
    "duration": 12,
    "start_time": "2025-01-17T08:52:21.881Z"
   },
   {
    "duration": 67,
    "start_time": "2025-01-17T08:52:21.894Z"
   },
   {
    "duration": 3,
    "start_time": "2025-01-17T08:52:21.963Z"
   },
   {
    "duration": 71,
    "start_time": "2025-01-17T08:52:21.967Z"
   },
   {
    "duration": 97,
    "start_time": "2025-01-17T08:52:22.039Z"
   },
   {
    "duration": 35,
    "start_time": "2025-01-17T08:52:22.138Z"
   },
   {
    "duration": 22,
    "start_time": "2025-01-17T08:52:22.175Z"
   },
   {
    "duration": 17,
    "start_time": "2025-01-17T08:52:22.198Z"
   },
   {
    "duration": 39,
    "start_time": "2025-01-17T08:52:22.216Z"
   },
   {
    "duration": 51,
    "start_time": "2025-01-17T08:52:22.256Z"
   },
   {
    "duration": 9,
    "start_time": "2025-01-17T08:52:22.309Z"
   },
   {
    "duration": 312,
    "start_time": "2025-01-17T08:52:22.319Z"
   },
   {
    "duration": 267,
    "start_time": "2025-01-17T08:52:22.633Z"
   },
   {
    "duration": 178,
    "start_time": "2025-01-17T08:52:22.902Z"
   },
   {
    "duration": 351,
    "start_time": "2025-01-17T08:52:23.082Z"
   },
   {
    "duration": 335,
    "start_time": "2025-01-17T08:52:23.435Z"
   },
   {
    "duration": 135,
    "start_time": "2025-01-17T08:52:23.772Z"
   },
   {
    "duration": 697,
    "start_time": "2025-01-17T08:52:23.909Z"
   },
   {
    "duration": 105,
    "start_time": "2025-01-17T08:52:24.608Z"
   },
   {
    "duration": 8,
    "start_time": "2025-01-17T08:52:24.715Z"
   },
   {
    "duration": 155,
    "start_time": "2025-01-17T08:52:24.725Z"
   },
   {
    "duration": 1168,
    "start_time": "2025-01-17T08:52:35.144Z"
   },
   {
    "duration": 2223,
    "start_time": "2025-01-17T08:52:36.314Z"
   },
   {
    "duration": 23,
    "start_time": "2025-01-17T08:52:38.539Z"
   },
   {
    "duration": 137,
    "start_time": "2025-01-17T08:52:38.564Z"
   },
   {
    "duration": 28,
    "start_time": "2025-01-17T08:52:38.703Z"
   },
   {
    "duration": 54,
    "start_time": "2025-01-17T08:52:38.733Z"
   },
   {
    "duration": 19,
    "start_time": "2025-01-17T08:52:38.789Z"
   },
   {
    "duration": 14,
    "start_time": "2025-01-17T08:52:38.809Z"
   },
   {
    "duration": 71,
    "start_time": "2025-01-17T08:52:38.824Z"
   },
   {
    "duration": 3,
    "start_time": "2025-01-17T08:52:38.897Z"
   },
   {
    "duration": 70,
    "start_time": "2025-01-17T08:52:38.901Z"
   },
   {
    "duration": 107,
    "start_time": "2025-01-17T08:52:38.972Z"
   },
   {
    "duration": 27,
    "start_time": "2025-01-17T08:52:39.081Z"
   },
   {
    "duration": 58,
    "start_time": "2025-01-17T08:52:39.110Z"
   },
   {
    "duration": 18,
    "start_time": "2025-01-17T08:52:39.170Z"
   },
   {
    "duration": 17,
    "start_time": "2025-01-17T08:52:39.189Z"
   },
   {
    "duration": 57,
    "start_time": "2025-01-17T08:52:39.208Z"
   },
   {
    "duration": 12,
    "start_time": "2025-01-17T08:52:39.268Z"
   },
   {
    "duration": 329,
    "start_time": "2025-01-17T08:52:39.281Z"
   },
   {
    "duration": 259,
    "start_time": "2025-01-17T08:52:39.611Z"
   },
   {
    "duration": 182,
    "start_time": "2025-01-17T08:52:39.873Z"
   },
   {
    "duration": 376,
    "start_time": "2025-01-17T08:52:40.057Z"
   },
   {
    "duration": 330,
    "start_time": "2025-01-17T08:52:40.434Z"
   },
   {
    "duration": 129,
    "start_time": "2025-01-17T08:52:40.766Z"
   },
   {
    "duration": 691,
    "start_time": "2025-01-17T08:52:40.896Z"
   },
   {
    "duration": 73,
    "start_time": "2025-01-17T08:52:41.589Z"
   },
   {
    "duration": 8,
    "start_time": "2025-01-17T08:52:41.664Z"
   },
   {
    "duration": 160,
    "start_time": "2025-01-17T08:52:41.675Z"
   },
   {
    "duration": 589,
    "start_time": "2025-01-17T08:54:47.567Z"
   },
   {
    "duration": 141,
    "start_time": "2025-01-17T08:54:55.627Z"
   },
   {
    "duration": 123,
    "start_time": "2025-01-17T09:07:34.989Z"
   },
   {
    "duration": 219,
    "start_time": "2025-01-17T09:07:37.623Z"
   },
   {
    "duration": 100,
    "start_time": "2025-01-17T09:13:30.942Z"
   },
   {
    "duration": 32,
    "start_time": "2025-01-17T09:13:33.920Z"
   },
   {
    "duration": 52,
    "start_time": "2025-01-17T09:13:39.611Z"
   },
   {
    "duration": 1385,
    "start_time": "2025-01-17T09:14:52.911Z"
   },
   {
    "duration": 2459,
    "start_time": "2025-01-17T09:14:54.298Z"
   },
   {
    "duration": 20,
    "start_time": "2025-01-17T09:14:56.758Z"
   },
   {
    "duration": 151,
    "start_time": "2025-01-17T09:14:56.780Z"
   },
   {
    "duration": 32,
    "start_time": "2025-01-17T09:14:56.932Z"
   },
   {
    "duration": 32,
    "start_time": "2025-01-17T09:14:56.966Z"
   },
   {
    "duration": 18,
    "start_time": "2025-01-17T09:14:56.999Z"
   },
   {
    "duration": 15,
    "start_time": "2025-01-17T09:14:57.019Z"
   },
   {
    "duration": 46,
    "start_time": "2025-01-17T09:14:57.053Z"
   },
   {
    "duration": 3,
    "start_time": "2025-01-17T09:14:57.102Z"
   },
   {
    "duration": 73,
    "start_time": "2025-01-17T09:14:57.106Z"
   },
   {
    "duration": 106,
    "start_time": "2025-01-17T09:14:57.180Z"
   },
   {
    "duration": 26,
    "start_time": "2025-01-17T09:14:57.288Z"
   },
   {
    "duration": 39,
    "start_time": "2025-01-17T09:14:57.316Z"
   },
   {
    "duration": 17,
    "start_time": "2025-01-17T09:14:57.356Z"
   },
   {
    "duration": 28,
    "start_time": "2025-01-17T09:14:57.375Z"
   },
   {
    "duration": 56,
    "start_time": "2025-01-17T09:14:57.404Z"
   },
   {
    "duration": 34,
    "start_time": "2025-01-17T09:14:57.461Z"
   },
   {
    "duration": 320,
    "start_time": "2025-01-17T09:14:57.497Z"
   },
   {
    "duration": 258,
    "start_time": "2025-01-17T09:14:57.819Z"
   },
   {
    "duration": 179,
    "start_time": "2025-01-17T09:14:58.078Z"
   },
   {
    "duration": 346,
    "start_time": "2025-01-17T09:14:58.258Z"
   },
   {
    "duration": 360,
    "start_time": "2025-01-17T09:14:58.605Z"
   },
   {
    "duration": 152,
    "start_time": "2025-01-17T09:14:58.966Z"
   },
   {
    "duration": 680,
    "start_time": "2025-01-17T09:14:59.119Z"
   },
   {
    "duration": 71,
    "start_time": "2025-01-17T09:14:59.800Z"
   },
   {
    "duration": 8,
    "start_time": "2025-01-17T09:14:59.873Z"
   },
   {
    "duration": 159,
    "start_time": "2025-01-17T09:14:59.884Z"
   },
   {
    "duration": 112,
    "start_time": "2025-01-17T09:15:00.045Z"
   },
   {
    "duration": 201,
    "start_time": "2025-01-17T09:15:39.916Z"
   },
   {
    "duration": 1145,
    "start_time": "2025-01-17T09:15:55.978Z"
   },
   {
    "duration": 1911,
    "start_time": "2025-01-17T09:15:57.125Z"
   },
   {
    "duration": 25,
    "start_time": "2025-01-17T09:15:59.038Z"
   },
   {
    "duration": 129,
    "start_time": "2025-01-17T09:15:59.065Z"
   },
   {
    "duration": 28,
    "start_time": "2025-01-17T09:15:59.196Z"
   },
   {
    "duration": 47,
    "start_time": "2025-01-17T09:15:59.226Z"
   },
   {
    "duration": 19,
    "start_time": "2025-01-17T09:15:59.274Z"
   },
   {
    "duration": 13,
    "start_time": "2025-01-17T09:15:59.294Z"
   },
   {
    "duration": 71,
    "start_time": "2025-01-17T09:15:59.308Z"
   },
   {
    "duration": 4,
    "start_time": "2025-01-17T09:15:59.381Z"
   },
   {
    "duration": 75,
    "start_time": "2025-01-17T09:15:59.386Z"
   },
   {
    "duration": 109,
    "start_time": "2025-01-17T09:15:59.463Z"
   },
   {
    "duration": 26,
    "start_time": "2025-01-17T09:15:59.574Z"
   },
   {
    "duration": 46,
    "start_time": "2025-01-17T09:15:59.603Z"
   },
   {
    "duration": 17,
    "start_time": "2025-01-17T09:15:59.651Z"
   },
   {
    "duration": 13,
    "start_time": "2025-01-17T09:15:59.670Z"
   },
   {
    "duration": 70,
    "start_time": "2025-01-17T09:15:59.685Z"
   },
   {
    "duration": 7,
    "start_time": "2025-01-17T09:15:59.757Z"
   },
   {
    "duration": 341,
    "start_time": "2025-01-17T09:15:59.766Z"
   },
   {
    "duration": 265,
    "start_time": "2025-01-17T09:16:00.109Z"
   },
   {
    "duration": 182,
    "start_time": "2025-01-17T09:16:00.376Z"
   },
   {
    "duration": 360,
    "start_time": "2025-01-17T09:16:00.560Z"
   },
   {
    "duration": 323,
    "start_time": "2025-01-17T09:16:00.921Z"
   },
   {
    "duration": 146,
    "start_time": "2025-01-17T09:16:01.246Z"
   },
   {
    "duration": 696,
    "start_time": "2025-01-17T09:16:01.393Z"
   },
   {
    "duration": 63,
    "start_time": "2025-01-17T09:16:02.091Z"
   },
   {
    "duration": 49,
    "start_time": "2025-01-17T09:16:02.155Z"
   },
   {
    "duration": 178,
    "start_time": "2025-01-17T09:16:02.206Z"
   },
   {
    "duration": 200,
    "start_time": "2025-01-17T09:16:02.386Z"
   },
   {
    "duration": 1116,
    "start_time": "2025-01-17T09:21:42.452Z"
   },
   {
    "duration": 2989,
    "start_time": "2025-01-17T09:21:43.570Z"
   },
   {
    "duration": 18,
    "start_time": "2025-01-17T09:21:46.561Z"
   },
   {
    "duration": 125,
    "start_time": "2025-01-17T09:21:46.581Z"
   },
   {
    "duration": 32,
    "start_time": "2025-01-17T09:21:46.707Z"
   },
   {
    "duration": 21,
    "start_time": "2025-01-17T09:21:46.754Z"
   },
   {
    "duration": 17,
    "start_time": "2025-01-17T09:21:46.777Z"
   },
   {
    "duration": 13,
    "start_time": "2025-01-17T09:21:46.795Z"
   },
   {
    "duration": 82,
    "start_time": "2025-01-17T09:21:46.809Z"
   },
   {
    "duration": 4,
    "start_time": "2025-01-17T09:21:46.894Z"
   },
   {
    "duration": 65,
    "start_time": "2025-01-17T09:21:46.900Z"
   },
   {
    "duration": 111,
    "start_time": "2025-01-17T09:21:46.966Z"
   },
   {
    "duration": 27,
    "start_time": "2025-01-17T09:21:47.079Z"
   },
   {
    "duration": 22,
    "start_time": "2025-01-17T09:21:47.108Z"
   },
   {
    "duration": 37,
    "start_time": "2025-01-17T09:21:47.131Z"
   },
   {
    "duration": 14,
    "start_time": "2025-01-17T09:21:47.170Z"
   },
   {
    "duration": 70,
    "start_time": "2025-01-17T09:21:47.185Z"
   },
   {
    "duration": 8,
    "start_time": "2025-01-17T09:21:47.256Z"
   },
   {
    "duration": 325,
    "start_time": "2025-01-17T09:21:47.266Z"
   },
   {
    "duration": 250,
    "start_time": "2025-01-17T09:21:47.593Z"
   },
   {
    "duration": 182,
    "start_time": "2025-01-17T09:21:47.845Z"
   },
   {
    "duration": 346,
    "start_time": "2025-01-17T09:21:48.029Z"
   },
   {
    "duration": 353,
    "start_time": "2025-01-17T09:21:48.376Z"
   },
   {
    "duration": 138,
    "start_time": "2025-01-17T09:21:48.731Z"
   },
   {
    "duration": 688,
    "start_time": "2025-01-17T09:21:48.871Z"
   },
   {
    "duration": 60,
    "start_time": "2025-01-17T09:21:49.560Z"
   },
   {
    "duration": 33,
    "start_time": "2025-01-17T09:21:49.622Z"
   },
   {
    "duration": 157,
    "start_time": "2025-01-17T09:21:49.658Z"
   },
   {
    "duration": 1710,
    "start_time": "2025-01-17T09:21:49.818Z"
   },
   {
    "duration": 1305,
    "start_time": "2025-01-17T09:22:13.307Z"
   },
   {
    "duration": 2213,
    "start_time": "2025-01-17T09:22:14.614Z"
   },
   {
    "duration": 30,
    "start_time": "2025-01-17T09:22:16.829Z"
   },
   {
    "duration": 145,
    "start_time": "2025-01-17T09:22:16.862Z"
   },
   {
    "duration": 29,
    "start_time": "2025-01-17T09:22:17.008Z"
   },
   {
    "duration": 23,
    "start_time": "2025-01-17T09:22:17.054Z"
   },
   {
    "duration": 19,
    "start_time": "2025-01-17T09:22:17.079Z"
   },
   {
    "duration": 15,
    "start_time": "2025-01-17T09:22:17.099Z"
   },
   {
    "duration": 73,
    "start_time": "2025-01-17T09:22:17.115Z"
   },
   {
    "duration": 4,
    "start_time": "2025-01-17T09:22:17.191Z"
   },
   {
    "duration": 75,
    "start_time": "2025-01-17T09:22:17.196Z"
   },
   {
    "duration": 117,
    "start_time": "2025-01-17T09:22:17.273Z"
   },
   {
    "duration": 28,
    "start_time": "2025-01-17T09:22:17.392Z"
   },
   {
    "duration": 39,
    "start_time": "2025-01-17T09:22:17.421Z"
   },
   {
    "duration": 92,
    "start_time": "2025-01-17T09:22:17.461Z"
   },
   {
    "duration": 12,
    "start_time": "2025-01-17T09:22:17.555Z"
   },
   {
    "duration": 40,
    "start_time": "2025-01-17T09:22:17.568Z"
   },
   {
    "duration": 26,
    "start_time": "2025-01-17T09:22:17.610Z"
   },
   {
    "duration": 316,
    "start_time": "2025-01-17T09:22:17.638Z"
   },
   {
    "duration": 275,
    "start_time": "2025-01-17T09:22:17.955Z"
   },
   {
    "duration": 180,
    "start_time": "2025-01-17T09:22:18.231Z"
   },
   {
    "duration": 357,
    "start_time": "2025-01-17T09:22:18.412Z"
   },
   {
    "duration": 392,
    "start_time": "2025-01-17T09:22:18.771Z"
   },
   {
    "duration": 146,
    "start_time": "2025-01-17T09:22:19.165Z"
   },
   {
    "duration": 686,
    "start_time": "2025-01-17T09:22:19.312Z"
   },
   {
    "duration": 71,
    "start_time": "2025-01-17T09:22:20.000Z"
   },
   {
    "duration": 9,
    "start_time": "2025-01-17T09:22:20.072Z"
   },
   {
    "duration": 163,
    "start_time": "2025-01-17T09:22:20.083Z"
   },
   {
    "duration": 77,
    "start_time": "2025-01-17T09:22:20.247Z"
   },
   {
    "duration": 230,
    "start_time": "2025-01-17T09:24:20.477Z"
   },
   {
    "duration": 1119,
    "start_time": "2025-01-17T09:24:45.983Z"
   },
   {
    "duration": 1994,
    "start_time": "2025-01-17T09:24:47.104Z"
   },
   {
    "duration": 22,
    "start_time": "2025-01-17T09:24:49.099Z"
   },
   {
    "duration": 133,
    "start_time": "2025-01-17T09:24:49.122Z"
   },
   {
    "duration": 27,
    "start_time": "2025-01-17T09:24:49.257Z"
   },
   {
    "duration": 73,
    "start_time": "2025-01-17T09:24:49.285Z"
   },
   {
    "duration": 18,
    "start_time": "2025-01-17T09:24:49.360Z"
   },
   {
    "duration": 11,
    "start_time": "2025-01-17T09:24:49.379Z"
   },
   {
    "duration": 63,
    "start_time": "2025-01-17T09:24:49.392Z"
   },
   {
    "duration": 3,
    "start_time": "2025-01-17T09:24:49.456Z"
   },
   {
    "duration": 190,
    "start_time": "2025-01-17T09:24:49.460Z"
   },
   {
    "duration": 100,
    "start_time": "2025-01-17T09:24:49.651Z"
   },
   {
    "duration": 29,
    "start_time": "2025-01-17T09:24:49.752Z"
   },
   {
    "duration": 26,
    "start_time": "2025-01-17T09:24:49.785Z"
   },
   {
    "duration": 51,
    "start_time": "2025-01-17T09:24:49.813Z"
   },
   {
    "duration": 14,
    "start_time": "2025-01-17T09:24:49.865Z"
   },
   {
    "duration": 44,
    "start_time": "2025-01-17T09:24:49.881Z"
   },
   {
    "duration": 27,
    "start_time": "2025-01-17T09:24:49.927Z"
   },
   {
    "duration": 307,
    "start_time": "2025-01-17T09:24:49.956Z"
   },
   {
    "duration": 245,
    "start_time": "2025-01-17T09:24:50.265Z"
   },
   {
    "duration": 179,
    "start_time": "2025-01-17T09:24:50.512Z"
   },
   {
    "duration": 362,
    "start_time": "2025-01-17T09:24:50.692Z"
   },
   {
    "duration": 299,
    "start_time": "2025-01-17T09:24:51.055Z"
   },
   {
    "duration": 139,
    "start_time": "2025-01-17T09:24:51.355Z"
   },
   {
    "duration": 692,
    "start_time": "2025-01-17T09:24:51.496Z"
   },
   {
    "duration": 70,
    "start_time": "2025-01-17T09:24:52.190Z"
   },
   {
    "duration": 10,
    "start_time": "2025-01-17T09:24:52.262Z"
   },
   {
    "duration": 172,
    "start_time": "2025-01-17T09:24:52.273Z"
   },
   {
    "duration": 80,
    "start_time": "2025-01-17T09:24:52.447Z"
   },
   {
    "duration": 119,
    "start_time": "2025-01-17T09:27:40.770Z"
   },
   {
    "duration": 1075,
    "start_time": "2025-01-17T09:29:55.001Z"
   },
   {
    "duration": 2143,
    "start_time": "2025-01-17T09:29:56.078Z"
   },
   {
    "duration": 20,
    "start_time": "2025-01-17T09:29:58.223Z"
   },
   {
    "duration": 118,
    "start_time": "2025-01-17T09:29:58.255Z"
   },
   {
    "duration": 27,
    "start_time": "2025-01-17T09:29:58.375Z"
   },
   {
    "duration": 30,
    "start_time": "2025-01-17T09:29:58.403Z"
   },
   {
    "duration": 36,
    "start_time": "2025-01-17T09:29:58.434Z"
   },
   {
    "duration": 12,
    "start_time": "2025-01-17T09:29:58.471Z"
   },
   {
    "duration": 47,
    "start_time": "2025-01-17T09:29:58.484Z"
   },
   {
    "duration": 3,
    "start_time": "2025-01-17T09:29:58.554Z"
   },
   {
    "duration": 54,
    "start_time": "2025-01-17T09:29:58.558Z"
   },
   {
    "duration": 120,
    "start_time": "2025-01-17T09:29:58.614Z"
   },
   {
    "duration": 36,
    "start_time": "2025-01-17T09:29:58.736Z"
   },
   {
    "duration": 21,
    "start_time": "2025-01-17T09:29:58.774Z"
   },
   {
    "duration": 17,
    "start_time": "2025-01-17T09:29:58.796Z"
   },
   {
    "duration": 40,
    "start_time": "2025-01-17T09:29:58.815Z"
   },
   {
    "duration": 41,
    "start_time": "2025-01-17T09:29:58.857Z"
   },
   {
    "duration": 7,
    "start_time": "2025-01-17T09:29:58.900Z"
   },
   {
    "duration": 305,
    "start_time": "2025-01-17T09:29:58.909Z"
   },
   {
    "duration": 242,
    "start_time": "2025-01-17T09:29:59.215Z"
   },
   {
    "duration": 176,
    "start_time": "2025-01-17T09:29:59.459Z"
   },
   {
    "duration": 340,
    "start_time": "2025-01-17T09:29:59.636Z"
   },
   {
    "duration": 331,
    "start_time": "2025-01-17T09:29:59.977Z"
   },
   {
    "duration": 140,
    "start_time": "2025-01-17T09:30:00.309Z"
   },
   {
    "duration": 691,
    "start_time": "2025-01-17T09:30:00.453Z"
   },
   {
    "duration": 65,
    "start_time": "2025-01-17T09:30:01.145Z"
   },
   {
    "duration": 9,
    "start_time": "2025-01-17T09:30:01.212Z"
   },
   {
    "duration": 167,
    "start_time": "2025-01-17T09:30:01.224Z"
   },
   {
    "duration": 148,
    "start_time": "2025-01-17T09:30:01.393Z"
   },
   {
    "duration": 134,
    "start_time": "2025-01-17T09:30:22.281Z"
   },
   {
    "duration": 144,
    "start_time": "2025-01-17T09:31:46.206Z"
   },
   {
    "duration": 134,
    "start_time": "2025-01-17T09:31:51.286Z"
   },
   {
    "duration": 10,
    "start_time": "2025-01-17T09:32:11.079Z"
   },
   {
    "duration": 110,
    "start_time": "2025-01-17T09:33:07.356Z"
   },
   {
    "duration": 1129,
    "start_time": "2025-01-17T09:33:15.220Z"
   },
   {
    "duration": 2117,
    "start_time": "2025-01-17T09:33:16.351Z"
   },
   {
    "duration": 22,
    "start_time": "2025-01-17T09:33:18.470Z"
   },
   {
    "duration": 131,
    "start_time": "2025-01-17T09:33:18.494Z"
   },
   {
    "duration": 37,
    "start_time": "2025-01-17T09:33:18.627Z"
   },
   {
    "duration": 23,
    "start_time": "2025-01-17T09:33:18.666Z"
   },
   {
    "duration": 20,
    "start_time": "2025-01-17T09:33:18.691Z"
   },
   {
    "duration": 44,
    "start_time": "2025-01-17T09:33:18.712Z"
   },
   {
    "duration": 45,
    "start_time": "2025-01-17T09:33:18.758Z"
   },
   {
    "duration": 3,
    "start_time": "2025-01-17T09:33:18.805Z"
   },
   {
    "duration": 80,
    "start_time": "2025-01-17T09:33:18.809Z"
   },
   {
    "duration": 104,
    "start_time": "2025-01-17T09:33:18.890Z"
   },
   {
    "duration": 27,
    "start_time": "2025-01-17T09:33:18.996Z"
   },
   {
    "duration": 40,
    "start_time": "2025-01-17T09:33:19.024Z"
   },
   {
    "duration": 20,
    "start_time": "2025-01-17T09:33:19.066Z"
   },
   {
    "duration": 13,
    "start_time": "2025-01-17T09:33:19.087Z"
   },
   {
    "duration": 61,
    "start_time": "2025-01-17T09:33:19.101Z"
   },
   {
    "duration": 17,
    "start_time": "2025-01-17T09:33:19.164Z"
   },
   {
    "duration": 301,
    "start_time": "2025-01-17T09:33:19.183Z"
   },
   {
    "duration": 243,
    "start_time": "2025-01-17T09:33:19.486Z"
   },
   {
    "duration": 169,
    "start_time": "2025-01-17T09:33:19.731Z"
   },
   {
    "duration": 335,
    "start_time": "2025-01-17T09:33:19.902Z"
   },
   {
    "duration": 324,
    "start_time": "2025-01-17T09:33:20.239Z"
   },
   {
    "duration": 136,
    "start_time": "2025-01-17T09:33:20.565Z"
   },
   {
    "duration": 668,
    "start_time": "2025-01-17T09:33:20.703Z"
   },
   {
    "duration": 61,
    "start_time": "2025-01-17T09:33:21.373Z"
   },
   {
    "duration": 21,
    "start_time": "2025-01-17T09:33:21.436Z"
   },
   {
    "duration": 190,
    "start_time": "2025-01-17T09:33:21.460Z"
   },
   {
    "duration": 142,
    "start_time": "2025-01-17T09:33:21.653Z"
   },
   {
    "duration": 118,
    "start_time": "2025-01-17T09:33:21.797Z"
   },
   {
    "duration": 13,
    "start_time": "2025-01-17T09:35:09.892Z"
   },
   {
    "duration": 14,
    "start_time": "2025-01-17T09:35:13.995Z"
   },
   {
    "duration": 17,
    "start_time": "2025-01-17T09:35:28.422Z"
   },
   {
    "duration": 8,
    "start_time": "2025-01-17T09:35:35.228Z"
   },
   {
    "duration": 13,
    "start_time": "2025-01-17T09:37:30.913Z"
   },
   {
    "duration": 8,
    "start_time": "2025-01-17T09:37:41.495Z"
   },
   {
    "duration": 17,
    "start_time": "2025-01-17T09:39:08.002Z"
   },
   {
    "duration": 7,
    "start_time": "2025-01-17T09:45:57.935Z"
   },
   {
    "duration": 10,
    "start_time": "2025-01-17T09:47:54.786Z"
   },
   {
    "duration": 11,
    "start_time": "2025-01-17T09:48:57.533Z"
   },
   {
    "duration": 11,
    "start_time": "2025-01-17T09:49:08.820Z"
   },
   {
    "duration": 11,
    "start_time": "2025-01-17T09:49:14.329Z"
   },
   {
    "duration": 11,
    "start_time": "2025-01-17T09:49:28.287Z"
   },
   {
    "duration": 10,
    "start_time": "2025-01-17T09:49:36.482Z"
   },
   {
    "duration": 11,
    "start_time": "2025-01-17T09:49:50.302Z"
   },
   {
    "duration": 18,
    "start_time": "2025-01-17T09:50:02.760Z"
   },
   {
    "duration": 10,
    "start_time": "2025-01-17T09:50:16.302Z"
   },
   {
    "duration": 11,
    "start_time": "2025-01-17T09:50:26.690Z"
   },
   {
    "duration": 11,
    "start_time": "2025-01-17T09:50:29.304Z"
   },
   {
    "duration": 12,
    "start_time": "2025-01-17T09:50:44.261Z"
   },
   {
    "duration": 11,
    "start_time": "2025-01-17T09:51:18.504Z"
   },
   {
    "duration": 1184,
    "start_time": "2025-01-17T09:51:24.032Z"
   },
   {
    "duration": 2118,
    "start_time": "2025-01-17T09:51:25.219Z"
   },
   {
    "duration": 25,
    "start_time": "2025-01-17T09:51:27.339Z"
   },
   {
    "duration": 122,
    "start_time": "2025-01-17T09:51:27.366Z"
   },
   {
    "duration": 29,
    "start_time": "2025-01-17T09:51:27.490Z"
   },
   {
    "duration": 43,
    "start_time": "2025-01-17T09:51:27.521Z"
   },
   {
    "duration": 119,
    "start_time": "2025-01-17T09:51:27.566Z"
   },
   {
    "duration": 13,
    "start_time": "2025-01-17T09:51:27.686Z"
   },
   {
    "duration": 54,
    "start_time": "2025-01-17T09:51:27.701Z"
   },
   {
    "duration": 4,
    "start_time": "2025-01-17T09:51:27.757Z"
   },
   {
    "duration": 64,
    "start_time": "2025-01-17T09:51:27.762Z"
   },
   {
    "duration": 109,
    "start_time": "2025-01-17T09:51:27.827Z"
   },
   {
    "duration": 34,
    "start_time": "2025-01-17T09:51:27.937Z"
   },
   {
    "duration": 25,
    "start_time": "2025-01-17T09:51:27.973Z"
   },
   {
    "duration": 21,
    "start_time": "2025-01-17T09:51:27.999Z"
   },
   {
    "duration": 45,
    "start_time": "2025-01-17T09:51:28.022Z"
   },
   {
    "duration": 57,
    "start_time": "2025-01-17T09:51:28.069Z"
   },
   {
    "duration": 8,
    "start_time": "2025-01-17T09:51:28.128Z"
   },
   {
    "duration": 301,
    "start_time": "2025-01-17T09:51:28.138Z"
   },
   {
    "duration": 268,
    "start_time": "2025-01-17T09:51:28.441Z"
   },
   {
    "duration": 180,
    "start_time": "2025-01-17T09:51:28.711Z"
   },
   {
    "duration": 366,
    "start_time": "2025-01-17T09:51:28.892Z"
   },
   {
    "duration": 314,
    "start_time": "2025-01-17T09:51:29.260Z"
   },
   {
    "duration": 139,
    "start_time": "2025-01-17T09:51:29.576Z"
   },
   {
    "duration": 680,
    "start_time": "2025-01-17T09:51:29.717Z"
   },
   {
    "duration": 73,
    "start_time": "2025-01-17T09:51:30.398Z"
   },
   {
    "duration": 9,
    "start_time": "2025-01-17T09:51:30.472Z"
   },
   {
    "duration": 161,
    "start_time": "2025-01-17T09:51:30.484Z"
   },
   {
    "duration": 139,
    "start_time": "2025-01-17T09:51:30.654Z"
   },
   {
    "duration": 11,
    "start_time": "2025-01-17T09:51:30.794Z"
   },
   {
    "duration": 11,
    "start_time": "2025-01-17T09:51:37.561Z"
   },
   {
    "duration": 14,
    "start_time": "2025-01-17T09:51:42.017Z"
   },
   {
    "duration": 11,
    "start_time": "2025-01-17T09:51:46.245Z"
   },
   {
    "duration": 11,
    "start_time": "2025-01-17T09:51:47.661Z"
   },
   {
    "duration": 12,
    "start_time": "2025-01-17T09:51:50.279Z"
   },
   {
    "duration": 11,
    "start_time": "2025-01-17T09:51:56.617Z"
   },
   {
    "duration": 15,
    "start_time": "2025-01-17T10:13:03.904Z"
   },
   {
    "duration": 351,
    "start_time": "2025-01-17T10:13:54.703Z"
   },
   {
    "duration": 5,
    "start_time": "2025-01-17T10:14:21.778Z"
   },
   {
    "duration": 380,
    "start_time": "2025-01-17T10:14:47.086Z"
   },
   {
    "duration": 483,
    "start_time": "2025-01-17T10:14:55.257Z"
   },
   {
    "duration": 538,
    "start_time": "2025-01-17T10:17:00.294Z"
   },
   {
    "duration": 376,
    "start_time": "2025-01-17T10:17:05.107Z"
   },
   {
    "duration": 111,
    "start_time": "2025-01-17T10:17:12.218Z"
   },
   {
    "duration": 374,
    "start_time": "2025-01-17T10:17:15.973Z"
   },
   {
    "duration": 363,
    "start_time": "2025-01-17T10:17:22.776Z"
   },
   {
    "duration": 388,
    "start_time": "2025-01-17T10:18:40.383Z"
   },
   {
    "duration": 399,
    "start_time": "2025-01-17T10:18:48.474Z"
   },
   {
    "duration": 386,
    "start_time": "2025-01-17T10:18:55.189Z"
   },
   {
    "duration": 365,
    "start_time": "2025-01-17T10:18:59.979Z"
   },
   {
    "duration": 289,
    "start_time": "2025-01-17T10:19:07.190Z"
   },
   {
    "duration": 346,
    "start_time": "2025-01-17T10:19:12.877Z"
   },
   {
    "duration": 91,
    "start_time": "2025-01-17T10:21:05.210Z"
   },
   {
    "duration": 87,
    "start_time": "2025-01-17T10:21:07.309Z"
   },
   {
    "duration": 294,
    "start_time": "2025-01-17T10:21:22.016Z"
   },
   {
    "duration": 459,
    "start_time": "2025-01-17T10:22:42.949Z"
   },
   {
    "duration": 360,
    "start_time": "2025-01-17T10:24:56.932Z"
   },
   {
    "duration": 351,
    "start_time": "2025-01-17T10:25:21.161Z"
   },
   {
    "duration": 360,
    "start_time": "2025-01-17T10:25:24.620Z"
   },
   {
    "duration": 359,
    "start_time": "2025-01-17T10:43:05.952Z"
   },
   {
    "duration": 455,
    "start_time": "2025-01-17T10:43:11.356Z"
   },
   {
    "duration": 260,
    "start_time": "2025-01-17T10:49:21.762Z"
   },
   {
    "duration": 12,
    "start_time": "2025-01-17T10:53:59.849Z"
   },
   {
    "duration": 11,
    "start_time": "2025-01-17T10:54:02.880Z"
   },
   {
    "duration": 282,
    "start_time": "2025-01-17T10:54:08.228Z"
   },
   {
    "duration": 353,
    "start_time": "2025-01-17T17:20:08.386Z"
   },
   {
    "duration": 1743,
    "start_time": "2025-01-17T17:21:10.480Z"
   },
   {
    "duration": 20,
    "start_time": "2025-01-17T17:21:28.627Z"
   },
   {
    "duration": 350,
    "start_time": "2025-01-17T17:21:40.659Z"
   },
   {
    "duration": 1207,
    "start_time": "2025-01-17T17:21:51.745Z"
   },
   {
    "duration": 1951,
    "start_time": "2025-01-17T17:21:52.953Z"
   },
   {
    "duration": 20,
    "start_time": "2025-01-17T17:21:54.905Z"
   },
   {
    "duration": 132,
    "start_time": "2025-01-17T17:21:54.927Z"
   },
   {
    "duration": 38,
    "start_time": "2025-01-17T17:21:55.061Z"
   },
   {
    "duration": 22,
    "start_time": "2025-01-17T17:21:55.100Z"
   },
   {
    "duration": 47,
    "start_time": "2025-01-17T17:21:55.123Z"
   },
   {
    "duration": 81,
    "start_time": "2025-01-17T17:21:55.173Z"
   },
   {
    "duration": 43,
    "start_time": "2025-01-17T17:21:55.255Z"
   },
   {
    "duration": 4,
    "start_time": "2025-01-17T17:21:55.300Z"
   },
   {
    "duration": 79,
    "start_time": "2025-01-17T17:21:55.305Z"
   },
   {
    "duration": 115,
    "start_time": "2025-01-17T17:21:55.385Z"
   },
   {
    "duration": 31,
    "start_time": "2025-01-17T17:21:55.506Z"
   },
   {
    "duration": 42,
    "start_time": "2025-01-17T17:21:55.539Z"
   },
   {
    "duration": 25,
    "start_time": "2025-01-17T17:21:55.583Z"
   },
   {
    "duration": 19,
    "start_time": "2025-01-17T17:21:55.610Z"
   },
   {
    "duration": 42,
    "start_time": "2025-01-17T17:21:55.655Z"
   },
   {
    "duration": 7,
    "start_time": "2025-01-17T17:21:55.699Z"
   },
   {
    "duration": 311,
    "start_time": "2025-01-17T17:21:55.707Z"
   },
   {
    "duration": 246,
    "start_time": "2025-01-17T17:21:56.020Z"
   },
   {
    "duration": 185,
    "start_time": "2025-01-17T17:21:56.268Z"
   },
   {
    "duration": 354,
    "start_time": "2025-01-17T17:21:56.455Z"
   },
   {
    "duration": 331,
    "start_time": "2025-01-17T17:21:56.811Z"
   },
   {
    "duration": 148,
    "start_time": "2025-01-17T17:21:57.144Z"
   },
   {
    "duration": 686,
    "start_time": "2025-01-17T17:21:57.294Z"
   },
   {
    "duration": 61,
    "start_time": "2025-01-17T17:21:57.982Z"
   },
   {
    "duration": 9,
    "start_time": "2025-01-17T17:21:58.053Z"
   },
   {
    "duration": 159,
    "start_time": "2025-01-17T17:21:58.065Z"
   },
   {
    "duration": 142,
    "start_time": "2025-01-17T17:21:58.226Z"
   },
   {
    "duration": 10,
    "start_time": "2025-01-17T17:21:58.369Z"
   },
   {
    "duration": 382,
    "start_time": "2025-01-17T17:21:58.381Z"
   },
   {
    "duration": 135,
    "start_time": "2025-01-17T17:21:58.765Z"
   },
   {
    "duration": 361,
    "start_time": "2025-01-17T17:22:41.720Z"
   },
   {
    "duration": 450,
    "start_time": "2025-01-17T17:23:46.948Z"
   },
   {
    "duration": 374,
    "start_time": "2025-01-17T17:24:43.406Z"
   },
   {
    "duration": 382,
    "start_time": "2025-01-17T17:25:00.780Z"
   },
   {
    "duration": 408,
    "start_time": "2025-01-17T17:26:46.381Z"
   },
   {
    "duration": 152,
    "start_time": "2025-01-17T17:29:51.450Z"
   },
   {
    "duration": 133,
    "start_time": "2025-01-17T17:32:37.923Z"
   },
   {
    "duration": 57,
    "start_time": "2025-01-17T17:33:04.039Z"
   },
   {
    "duration": 416,
    "start_time": "2025-01-17T17:33:21.450Z"
   },
   {
    "duration": 563,
    "start_time": "2025-01-17T17:34:05.355Z"
   },
   {
    "duration": 465,
    "start_time": "2025-01-17T17:35:06.631Z"
   },
   {
    "duration": 450,
    "start_time": "2025-01-17T17:35:29.868Z"
   },
   {
    "duration": 500,
    "start_time": "2025-01-17T17:36:46.813Z"
   },
   {
    "duration": 22,
    "start_time": "2025-01-17T17:39:38.889Z"
   },
   {
    "duration": 367,
    "start_time": "2025-01-17T17:39:53.271Z"
   },
   {
    "duration": 98,
    "start_time": "2025-01-17T17:41:29.430Z"
   },
   {
    "duration": 1175,
    "start_time": "2025-01-17T17:41:39.639Z"
   },
   {
    "duration": 1803,
    "start_time": "2025-01-17T17:41:40.816Z"
   },
   {
    "duration": 34,
    "start_time": "2025-01-17T17:41:42.621Z"
   },
   {
    "duration": 147,
    "start_time": "2025-01-17T17:41:42.658Z"
   },
   {
    "duration": 53,
    "start_time": "2025-01-17T17:41:42.807Z"
   },
   {
    "duration": 24,
    "start_time": "2025-01-17T17:41:42.862Z"
   },
   {
    "duration": 74,
    "start_time": "2025-01-17T17:41:42.887Z"
   },
   {
    "duration": 14,
    "start_time": "2025-01-17T17:41:42.962Z"
   },
   {
    "duration": 85,
    "start_time": "2025-01-17T17:41:42.978Z"
   },
   {
    "duration": 4,
    "start_time": "2025-01-17T17:41:43.067Z"
   },
   {
    "duration": 98,
    "start_time": "2025-01-17T17:41:43.073Z"
   },
   {
    "duration": 124,
    "start_time": "2025-01-17T17:41:43.174Z"
   },
   {
    "duration": 33,
    "start_time": "2025-01-17T17:41:43.300Z"
   },
   {
    "duration": 45,
    "start_time": "2025-01-17T17:41:43.335Z"
   },
   {
    "duration": 17,
    "start_time": "2025-01-17T17:41:43.381Z"
   },
   {
    "duration": 14,
    "start_time": "2025-01-17T17:41:43.400Z"
   },
   {
    "duration": 110,
    "start_time": "2025-01-17T17:41:43.416Z"
   },
   {
    "duration": 27,
    "start_time": "2025-01-17T17:41:43.529Z"
   },
   {
    "duration": 324,
    "start_time": "2025-01-17T17:41:43.557Z"
   },
   {
    "duration": 281,
    "start_time": "2025-01-17T17:41:43.882Z"
   },
   {
    "duration": 177,
    "start_time": "2025-01-17T17:41:44.165Z"
   },
   {
    "duration": 401,
    "start_time": "2025-01-17T17:41:44.343Z"
   },
   {
    "duration": 321,
    "start_time": "2025-01-17T17:41:44.745Z"
   },
   {
    "duration": 147,
    "start_time": "2025-01-17T17:41:45.068Z"
   },
   {
    "duration": 755,
    "start_time": "2025-01-17T17:41:45.217Z"
   },
   {
    "duration": 63,
    "start_time": "2025-01-17T17:41:45.974Z"
   },
   {
    "duration": 10,
    "start_time": "2025-01-17T17:41:46.054Z"
   },
   {
    "duration": 165,
    "start_time": "2025-01-17T17:41:46.067Z"
   },
   {
    "duration": 142,
    "start_time": "2025-01-17T17:41:46.233Z"
   },
   {
    "duration": 12,
    "start_time": "2025-01-17T17:41:46.377Z"
   },
   {
    "duration": 389,
    "start_time": "2025-01-17T17:41:46.391Z"
   },
   {
    "duration": 94,
    "start_time": "2025-01-17T17:41:46.781Z"
   },
   {
    "duration": 145,
    "start_time": "2025-01-17T17:42:01.630Z"
   },
   {
    "duration": 123,
    "start_time": "2025-01-17T17:42:06.519Z"
   },
   {
    "duration": 282,
    "start_time": "2025-01-17T17:43:07.739Z"
   },
   {
    "duration": 128,
    "start_time": "2025-01-17T17:49:42.315Z"
   },
   {
    "duration": 480,
    "start_time": "2025-01-17T17:49:56.756Z"
   },
   {
    "duration": 374,
    "start_time": "2025-01-17T17:50:32.939Z"
   },
   {
    "duration": 387,
    "start_time": "2025-01-17T17:51:06.073Z"
   },
   {
    "duration": 362,
    "start_time": "2025-01-17T17:51:12.173Z"
   },
   {
    "duration": 64,
    "start_time": "2025-01-17T17:52:33.765Z"
   },
   {
    "duration": 49,
    "start_time": "2025-01-17T17:52:37.223Z"
   },
   {
    "duration": 363,
    "start_time": "2025-01-17T17:52:49.877Z"
   },
   {
    "duration": 391,
    "start_time": "2025-01-17T17:53:00.603Z"
   },
   {
    "duration": 469,
    "start_time": "2025-01-17T17:53:16.906Z"
   },
   {
    "duration": 369,
    "start_time": "2025-01-17T17:53:25.027Z"
   },
   {
    "duration": 263,
    "start_time": "2025-01-17T17:54:32.526Z"
   },
   {
    "duration": 194,
    "start_time": "2025-01-17T17:55:07.670Z"
   },
   {
    "duration": 1151,
    "start_time": "2025-01-17T17:55:14.447Z"
   },
   {
    "duration": 2019,
    "start_time": "2025-01-17T17:55:15.599Z"
   },
   {
    "duration": 19,
    "start_time": "2025-01-17T17:55:17.620Z"
   },
   {
    "duration": 123,
    "start_time": "2025-01-17T17:55:17.653Z"
   },
   {
    "duration": 33,
    "start_time": "2025-01-17T17:55:17.778Z"
   },
   {
    "duration": 44,
    "start_time": "2025-01-17T17:55:17.813Z"
   },
   {
    "duration": 30,
    "start_time": "2025-01-17T17:55:17.859Z"
   },
   {
    "duration": 13,
    "start_time": "2025-01-17T17:55:17.890Z"
   },
   {
    "duration": 69,
    "start_time": "2025-01-17T17:55:17.905Z"
   },
   {
    "duration": 3,
    "start_time": "2025-01-17T17:55:17.977Z"
   },
   {
    "duration": 53,
    "start_time": "2025-01-17T17:55:17.981Z"
   },
   {
    "duration": 120,
    "start_time": "2025-01-17T17:55:18.035Z"
   },
   {
    "duration": 28,
    "start_time": "2025-01-17T17:55:18.156Z"
   },
   {
    "duration": 23,
    "start_time": "2025-01-17T17:55:18.185Z"
   },
   {
    "duration": 45,
    "start_time": "2025-01-17T17:55:18.209Z"
   },
   {
    "duration": 14,
    "start_time": "2025-01-17T17:55:18.256Z"
   },
   {
    "duration": 43,
    "start_time": "2025-01-17T17:55:18.271Z"
   },
   {
    "duration": 8,
    "start_time": "2025-01-17T17:55:18.316Z"
   },
   {
    "duration": 368,
    "start_time": "2025-01-17T17:55:18.326Z"
   },
   {
    "duration": 246,
    "start_time": "2025-01-17T17:55:18.695Z"
   },
   {
    "duration": 185,
    "start_time": "2025-01-17T17:55:18.943Z"
   },
   {
    "duration": 368,
    "start_time": "2025-01-17T17:55:19.129Z"
   },
   {
    "duration": 356,
    "start_time": "2025-01-17T17:55:19.498Z"
   },
   {
    "duration": 141,
    "start_time": "2025-01-17T17:55:19.856Z"
   },
   {
    "duration": 693,
    "start_time": "2025-01-17T17:55:19.999Z"
   },
   {
    "duration": 66,
    "start_time": "2025-01-17T17:55:20.694Z"
   },
   {
    "duration": 9,
    "start_time": "2025-01-17T17:55:20.762Z"
   },
   {
    "duration": 186,
    "start_time": "2025-01-17T17:55:20.774Z"
   },
   {
    "duration": 199,
    "start_time": "2025-01-17T17:55:20.962Z"
   },
   {
    "duration": 10,
    "start_time": "2025-01-17T17:55:21.162Z"
   },
   {
    "duration": 409,
    "start_time": "2025-01-17T17:55:21.174Z"
   },
   {
    "duration": 319,
    "start_time": "2025-01-17T17:55:21.584Z"
   },
   {
    "duration": 1805,
    "start_time": "2025-01-17T17:57:08.605Z"
   },
   {
    "duration": 509,
    "start_time": "2025-01-17T17:57:20.366Z"
   },
   {
    "duration": 384,
    "start_time": "2025-01-17T17:59:40.731Z"
   },
   {
    "duration": 401,
    "start_time": "2025-01-17T18:00:05.553Z"
   },
   {
    "duration": 1448,
    "start_time": "2025-01-17T18:00:35.748Z"
   },
   {
    "duration": 408,
    "start_time": "2025-01-17T18:00:48.154Z"
   },
   {
    "duration": 400,
    "start_time": "2025-01-17T18:01:04.679Z"
   },
   {
    "duration": 408,
    "start_time": "2025-01-17T18:04:58.146Z"
   },
   {
    "duration": 375,
    "start_time": "2025-01-17T18:07:35.279Z"
   },
   {
    "duration": 1714,
    "start_time": "2025-01-17T18:07:43.075Z"
   },
   {
    "duration": 6,
    "start_time": "2025-01-17T18:08:07.918Z"
   },
   {
    "duration": 44,
    "start_time": "2025-01-17T18:08:11.915Z"
   },
   {
    "duration": 311,
    "start_time": "2025-01-17T18:08:16.969Z"
   },
   {
    "duration": 300,
    "start_time": "2025-01-17T18:08:59.871Z"
   },
   {
    "duration": 383,
    "start_time": "2025-01-17T18:09:20.415Z"
   },
   {
    "duration": 373,
    "start_time": "2025-01-17T18:10:02.587Z"
   },
   {
    "duration": 360,
    "start_time": "2025-01-17T18:10:12.255Z"
   },
   {
    "duration": 457,
    "start_time": "2025-01-17T18:10:19.274Z"
   },
   {
    "duration": 436,
    "start_time": "2025-01-17T18:10:56.750Z"
   },
   {
    "duration": 427,
    "start_time": "2025-01-17T18:11:59.215Z"
   },
   {
    "duration": 339,
    "start_time": "2025-01-17T18:12:15.884Z"
   },
   {
    "duration": 419,
    "start_time": "2025-01-17T18:13:14.286Z"
   },
   {
    "duration": 343,
    "start_time": "2025-01-17T18:13:18.544Z"
   },
   {
    "duration": 543,
    "start_time": "2025-01-17T18:13:36.373Z"
   },
   {
    "duration": 217,
    "start_time": "2025-01-17T18:38:47.679Z"
   },
   {
    "duration": 372,
    "start_time": "2025-01-17T18:39:01.911Z"
   },
   {
    "duration": 232,
    "start_time": "2025-01-17T18:39:05.775Z"
   },
   {
    "duration": 265,
    "start_time": "2025-01-17T18:39:47.471Z"
   },
   {
    "duration": 315,
    "start_time": "2025-01-17T18:39:55.300Z"
   },
   {
    "duration": 254,
    "start_time": "2025-01-17T18:39:57.477Z"
   },
   {
    "duration": 1158,
    "start_time": "2025-01-18T06:43:21.043Z"
   },
   {
    "duration": 2183,
    "start_time": "2025-01-18T06:43:22.203Z"
   },
   {
    "duration": 31,
    "start_time": "2025-01-18T06:43:24.388Z"
   },
   {
    "duration": 129,
    "start_time": "2025-01-18T06:43:24.420Z"
   },
   {
    "duration": 29,
    "start_time": "2025-01-18T06:43:24.550Z"
   },
   {
    "duration": 36,
    "start_time": "2025-01-18T06:43:24.581Z"
   },
   {
    "duration": 22,
    "start_time": "2025-01-18T06:43:24.619Z"
   },
   {
    "duration": 22,
    "start_time": "2025-01-18T06:43:24.642Z"
   },
   {
    "duration": 70,
    "start_time": "2025-01-18T06:43:24.666Z"
   },
   {
    "duration": 4,
    "start_time": "2025-01-18T06:43:24.739Z"
   },
   {
    "duration": 121,
    "start_time": "2025-01-18T06:43:24.744Z"
   },
   {
    "duration": 110,
    "start_time": "2025-01-18T06:43:24.866Z"
   },
   {
    "duration": 51,
    "start_time": "2025-01-18T06:43:24.977Z"
   },
   {
    "duration": 26,
    "start_time": "2025-01-18T06:43:25.030Z"
   },
   {
    "duration": 20,
    "start_time": "2025-01-18T06:43:25.058Z"
   },
   {
    "duration": 48,
    "start_time": "2025-01-18T06:43:25.080Z"
   },
   {
    "duration": 44,
    "start_time": "2025-01-18T06:43:25.130Z"
   },
   {
    "duration": 8,
    "start_time": "2025-01-18T06:43:25.175Z"
   },
   {
    "duration": 342,
    "start_time": "2025-01-18T06:43:25.185Z"
   },
   {
    "duration": 261,
    "start_time": "2025-01-18T06:43:25.530Z"
   },
   {
    "duration": 186,
    "start_time": "2025-01-18T06:43:25.793Z"
   },
   {
    "duration": 393,
    "start_time": "2025-01-18T06:43:25.980Z"
   },
   {
    "duration": 340,
    "start_time": "2025-01-18T06:43:26.375Z"
   },
   {
    "duration": 147,
    "start_time": "2025-01-18T06:43:26.716Z"
   },
   {
    "duration": 731,
    "start_time": "2025-01-18T06:43:26.865Z"
   },
   {
    "duration": 71,
    "start_time": "2025-01-18T06:43:27.598Z"
   },
   {
    "duration": 9,
    "start_time": "2025-01-18T06:43:27.671Z"
   },
   {
    "duration": 158,
    "start_time": "2025-01-18T06:43:27.682Z"
   },
   {
    "duration": 0,
    "start_time": "2025-01-18T06:43:27.841Z"
   },
   {
    "duration": 0,
    "start_time": "2025-01-18T06:43:27.843Z"
   },
   {
    "duration": 1,
    "start_time": "2025-01-18T06:43:27.843Z"
   },
   {
    "duration": 0,
    "start_time": "2025-01-18T06:43:27.845Z"
   },
   {
    "duration": 227,
    "start_time": "2025-01-18T06:44:48.932Z"
   },
   {
    "duration": 18,
    "start_time": "2025-01-18T06:44:49.883Z"
   },
   {
    "duration": 440,
    "start_time": "2025-01-18T06:44:55.275Z"
   },
   {
    "duration": 30,
    "start_time": "2025-01-18T06:45:01.724Z"
   },
   {
    "duration": 56,
    "start_time": "2025-01-18T06:45:15.902Z"
   },
   {
    "duration": 86,
    "start_time": "2025-01-18T06:45:35.860Z"
   },
   {
    "duration": 59,
    "start_time": "2025-01-18T06:45:48.596Z"
   },
   {
    "duration": 55,
    "start_time": "2025-01-18T06:47:51.948Z"
   },
   {
    "duration": 51,
    "start_time": "2025-01-18T06:47:56.038Z"
   },
   {
    "duration": 409,
    "start_time": "2025-01-18T06:48:11.020Z"
   },
   {
    "duration": 486,
    "start_time": "2025-01-18T06:49:23.936Z"
   },
   {
    "duration": 121,
    "start_time": "2025-01-18T06:50:07.364Z"
   },
   {
    "duration": 16,
    "start_time": "2025-01-18T06:50:15.676Z"
   },
   {
    "duration": 13,
    "start_time": "2025-01-18T06:50:42.796Z"
   },
   {
    "duration": 13,
    "start_time": "2025-01-18T06:51:01.693Z"
   },
   {
    "duration": 13,
    "start_time": "2025-01-18T06:51:29.796Z"
   },
   {
    "duration": 435,
    "start_time": "2025-01-18T06:51:55.924Z"
   },
   {
    "duration": 13,
    "start_time": "2025-01-18T06:51:59.948Z"
   },
   {
    "duration": 1190,
    "start_time": "2025-01-18T06:55:11.089Z"
   },
   {
    "duration": 2847,
    "start_time": "2025-01-18T06:55:12.281Z"
   },
   {
    "duration": 22,
    "start_time": "2025-01-18T06:55:15.130Z"
   },
   {
    "duration": 133,
    "start_time": "2025-01-18T06:55:15.154Z"
   },
   {
    "duration": 37,
    "start_time": "2025-01-18T06:55:15.289Z"
   },
   {
    "duration": 35,
    "start_time": "2025-01-18T06:55:15.327Z"
   },
   {
    "duration": 30,
    "start_time": "2025-01-18T06:55:15.364Z"
   },
   {
    "duration": 25,
    "start_time": "2025-01-18T06:55:15.396Z"
   },
   {
    "duration": 46,
    "start_time": "2025-01-18T06:55:15.423Z"
   },
   {
    "duration": 5,
    "start_time": "2025-01-18T06:55:15.472Z"
   },
   {
    "duration": 90,
    "start_time": "2025-01-18T06:55:15.478Z"
   },
   {
    "duration": 108,
    "start_time": "2025-01-18T06:55:15.571Z"
   },
   {
    "duration": 44,
    "start_time": "2025-01-18T06:55:15.682Z"
   },
   {
    "duration": 23,
    "start_time": "2025-01-18T06:55:15.728Z"
   },
   {
    "duration": 77,
    "start_time": "2025-01-18T06:55:15.753Z"
   },
   {
    "duration": 52,
    "start_time": "2025-01-18T06:55:15.832Z"
   },
   {
    "duration": 54,
    "start_time": "2025-01-18T06:55:15.885Z"
   },
   {
    "duration": 63,
    "start_time": "2025-01-18T06:55:15.941Z"
   },
   {
    "duration": 342,
    "start_time": "2025-01-18T06:55:16.006Z"
   },
   {
    "duration": 293,
    "start_time": "2025-01-18T06:55:16.350Z"
   },
   {
    "duration": 191,
    "start_time": "2025-01-18T06:55:16.644Z"
   },
   {
    "duration": 380,
    "start_time": "2025-01-18T06:55:16.837Z"
   },
   {
    "duration": 318,
    "start_time": "2025-01-18T06:55:17.220Z"
   },
   {
    "duration": 158,
    "start_time": "2025-01-18T06:55:17.540Z"
   },
   {
    "duration": 747,
    "start_time": "2025-01-18T06:55:17.700Z"
   },
   {
    "duration": 75,
    "start_time": "2025-01-18T06:55:18.449Z"
   },
   {
    "duration": 10,
    "start_time": "2025-01-18T06:55:18.527Z"
   },
   {
    "duration": 122,
    "start_time": "2025-01-18T06:55:18.540Z"
   },
   {
    "duration": 0,
    "start_time": "2025-01-18T06:55:18.664Z"
   },
   {
    "duration": 0,
    "start_time": "2025-01-18T06:55:18.665Z"
   },
   {
    "duration": 0,
    "start_time": "2025-01-18T06:55:18.666Z"
   },
   {
    "duration": 0,
    "start_time": "2025-01-18T06:55:18.667Z"
   },
   {
    "duration": 209,
    "start_time": "2025-01-18T07:18:33.941Z"
   },
   {
    "duration": 18,
    "start_time": "2025-01-18T07:18:34.284Z"
   },
   {
    "duration": 469,
    "start_time": "2025-01-18T07:18:35.428Z"
   },
   {
    "duration": 27,
    "start_time": "2025-01-18T07:18:47.559Z"
   },
   {
    "duration": 17,
    "start_time": "2025-01-18T07:19:19.376Z"
   },
   {
    "duration": 34,
    "start_time": "2025-01-18T07:19:24.285Z"
   },
   {
    "duration": 1184,
    "start_time": "2025-01-18T07:24:29.462Z"
   },
   {
    "duration": 2103,
    "start_time": "2025-01-18T07:24:30.648Z"
   },
   {
    "duration": 22,
    "start_time": "2025-01-18T07:24:32.753Z"
   },
   {
    "duration": 138,
    "start_time": "2025-01-18T07:24:32.778Z"
   },
   {
    "duration": 31,
    "start_time": "2025-01-18T07:24:32.917Z"
   },
   {
    "duration": 41,
    "start_time": "2025-01-18T07:24:32.950Z"
   },
   {
    "duration": 72,
    "start_time": "2025-01-18T07:24:32.992Z"
   },
   {
    "duration": 18,
    "start_time": "2025-01-18T07:24:33.066Z"
   },
   {
    "duration": 48,
    "start_time": "2025-01-18T07:24:33.086Z"
   },
   {
    "duration": 4,
    "start_time": "2025-01-18T07:24:33.138Z"
   },
   {
    "duration": 78,
    "start_time": "2025-01-18T07:24:33.144Z"
   },
   {
    "duration": 111,
    "start_time": "2025-01-18T07:24:33.224Z"
   },
   {
    "duration": 28,
    "start_time": "2025-01-18T07:24:33.337Z"
   },
   {
    "duration": 24,
    "start_time": "2025-01-18T07:24:33.367Z"
   },
   {
    "duration": 20,
    "start_time": "2025-01-18T07:24:33.415Z"
   },
   {
    "duration": 33,
    "start_time": "2025-01-18T07:24:33.437Z"
   },
   {
    "duration": 52,
    "start_time": "2025-01-18T07:24:33.472Z"
   },
   {
    "duration": 8,
    "start_time": "2025-01-18T07:24:33.526Z"
   },
   {
    "duration": 337,
    "start_time": "2025-01-18T07:24:33.536Z"
   },
   {
    "duration": 272,
    "start_time": "2025-01-18T07:24:33.875Z"
   },
   {
    "duration": 194,
    "start_time": "2025-01-18T07:24:34.148Z"
   },
   {
    "duration": 391,
    "start_time": "2025-01-18T07:24:34.344Z"
   },
   {
    "duration": 390,
    "start_time": "2025-01-18T07:24:34.736Z"
   },
   {
    "duration": 150,
    "start_time": "2025-01-18T07:24:35.128Z"
   },
   {
    "duration": 736,
    "start_time": "2025-01-18T07:24:35.280Z"
   },
   {
    "duration": 63,
    "start_time": "2025-01-18T07:24:36.018Z"
   },
   {
    "duration": 33,
    "start_time": "2025-01-18T07:24:36.083Z"
   },
   {
    "duration": 117,
    "start_time": "2025-01-18T07:24:36.119Z"
   },
   {
    "duration": 0,
    "start_time": "2025-01-18T07:24:36.238Z"
   },
   {
    "duration": 0,
    "start_time": "2025-01-18T07:24:36.240Z"
   },
   {
    "duration": 0,
    "start_time": "2025-01-18T07:24:36.241Z"
   },
   {
    "duration": 0,
    "start_time": "2025-01-18T07:24:36.243Z"
   },
   {
    "duration": 1385,
    "start_time": "2025-01-18T08:54:06.851Z"
   },
   {
    "duration": 2238,
    "start_time": "2025-01-18T08:54:08.238Z"
   },
   {
    "duration": 26,
    "start_time": "2025-01-18T08:54:10.480Z"
   },
   {
    "duration": 149,
    "start_time": "2025-01-18T08:54:10.508Z"
   },
   {
    "duration": 46,
    "start_time": "2025-01-18T08:54:10.662Z"
   },
   {
    "duration": 22,
    "start_time": "2025-01-18T08:54:10.709Z"
   },
   {
    "duration": 41,
    "start_time": "2025-01-18T08:54:10.733Z"
   },
   {
    "duration": 16,
    "start_time": "2025-01-18T08:54:10.776Z"
   },
   {
    "duration": 107,
    "start_time": "2025-01-18T08:54:10.796Z"
   },
   {
    "duration": 3,
    "start_time": "2025-01-18T08:54:10.905Z"
   },
   {
    "duration": 82,
    "start_time": "2025-01-18T08:54:10.910Z"
   },
   {
    "duration": 117,
    "start_time": "2025-01-18T08:54:10.994Z"
   },
   {
    "duration": 44,
    "start_time": "2025-01-18T08:54:11.113Z"
   },
   {
    "duration": 31,
    "start_time": "2025-01-18T08:54:11.159Z"
   },
   {
    "duration": 19,
    "start_time": "2025-01-18T08:54:11.191Z"
   },
   {
    "duration": 50,
    "start_time": "2025-01-18T08:54:11.212Z"
   },
   {
    "duration": 51,
    "start_time": "2025-01-18T08:54:11.264Z"
   },
   {
    "duration": 8,
    "start_time": "2025-01-18T08:54:11.317Z"
   },
   {
    "duration": 343,
    "start_time": "2025-01-18T08:54:11.326Z"
   },
   {
    "duration": 291,
    "start_time": "2025-01-18T08:54:11.672Z"
   },
   {
    "duration": 181,
    "start_time": "2025-01-18T08:54:11.967Z"
   },
   {
    "duration": 375,
    "start_time": "2025-01-18T08:54:12.153Z"
   },
   {
    "duration": 422,
    "start_time": "2025-01-18T08:54:12.530Z"
   },
   {
    "duration": 166,
    "start_time": "2025-01-18T08:54:12.954Z"
   },
   {
    "duration": 757,
    "start_time": "2025-01-18T08:54:13.122Z"
   },
   {
    "duration": 59,
    "start_time": "2025-01-18T08:54:13.881Z"
   },
   {
    "duration": 22,
    "start_time": "2025-01-18T08:54:13.957Z"
   },
   {
    "duration": 130,
    "start_time": "2025-01-18T08:54:13.981Z"
   },
   {
    "duration": 0,
    "start_time": "2025-01-18T08:54:14.113Z"
   },
   {
    "duration": 0,
    "start_time": "2025-01-18T08:54:14.114Z"
   },
   {
    "duration": 0,
    "start_time": "2025-01-18T08:54:14.116Z"
   },
   {
    "duration": 0,
    "start_time": "2025-01-18T08:54:14.117Z"
   },
   {
    "duration": 1191,
    "start_time": "2025-01-18T09:51:56.207Z"
   },
   {
    "duration": 2513,
    "start_time": "2025-01-18T09:51:57.400Z"
   },
   {
    "duration": 44,
    "start_time": "2025-01-18T09:51:59.915Z"
   },
   {
    "duration": 129,
    "start_time": "2025-01-18T09:51:59.961Z"
   },
   {
    "duration": 28,
    "start_time": "2025-01-18T09:52:00.092Z"
   },
   {
    "duration": 53,
    "start_time": "2025-01-18T09:52:00.122Z"
   },
   {
    "duration": 48,
    "start_time": "2025-01-18T09:52:00.179Z"
   },
   {
    "duration": 22,
    "start_time": "2025-01-18T09:52:00.229Z"
   },
   {
    "duration": 74,
    "start_time": "2025-01-18T09:52:00.253Z"
   },
   {
    "duration": 13,
    "start_time": "2025-01-18T09:52:00.330Z"
   },
   {
    "duration": 85,
    "start_time": "2025-01-18T09:52:00.344Z"
   },
   {
    "duration": 143,
    "start_time": "2025-01-18T09:52:00.431Z"
   },
   {
    "duration": 45,
    "start_time": "2025-01-18T09:52:00.578Z"
   },
   {
    "duration": 52,
    "start_time": "2025-01-18T09:52:00.625Z"
   },
   {
    "duration": 34,
    "start_time": "2025-01-18T09:52:00.679Z"
   },
   {
    "duration": 47,
    "start_time": "2025-01-18T09:52:00.715Z"
   },
   {
    "duration": 75,
    "start_time": "2025-01-18T09:52:00.764Z"
   },
   {
    "duration": 14,
    "start_time": "2025-01-18T09:52:00.841Z"
   },
   {
    "duration": 345,
    "start_time": "2025-01-18T09:52:00.857Z"
   },
   {
    "duration": 334,
    "start_time": "2025-01-18T09:52:01.204Z"
   },
   {
    "duration": 204,
    "start_time": "2025-01-18T09:52:01.540Z"
   },
   {
    "duration": 383,
    "start_time": "2025-01-18T09:52:01.746Z"
   },
   {
    "duration": 378,
    "start_time": "2025-01-18T09:52:02.131Z"
   },
   {
    "duration": 168,
    "start_time": "2025-01-18T09:52:02.511Z"
   },
   {
    "duration": 791,
    "start_time": "2025-01-18T09:52:02.682Z"
   },
   {
    "duration": 82,
    "start_time": "2025-01-18T09:52:03.475Z"
   },
   {
    "duration": 16,
    "start_time": "2025-01-18T09:52:03.559Z"
   },
   {
    "duration": 163,
    "start_time": "2025-01-18T09:52:03.578Z"
   },
   {
    "duration": 0,
    "start_time": "2025-01-18T09:52:03.743Z"
   },
   {
    "duration": 0,
    "start_time": "2025-01-18T09:52:03.757Z"
   },
   {
    "duration": 0,
    "start_time": "2025-01-18T09:52:03.758Z"
   },
   {
    "duration": 0,
    "start_time": "2025-01-18T09:52:03.759Z"
   },
   {
    "duration": 317,
    "start_time": "2025-01-18T09:52:45.450Z"
   }
  ],
  "celltoolbar": "Hide code",
  "colab": {
   "provenance": []
  },
  "hide_code_all_hidden": false,
  "kernelspec": {
   "display_name": "Python 3 (ipykernel)",
   "language": "python",
   "name": "python3"
  },
  "language_info": {
   "codemirror_mode": {
    "name": "ipython",
    "version": 3
   },
   "file_extension": ".py",
   "mimetype": "text/x-python",
   "name": "python",
   "nbconvert_exporter": "python",
   "pygments_lexer": "ipython3",
   "version": "3.12.7"
  },
  "toc": {
   "base_numbering": 1,
   "nav_menu": {
    "height": "377px",
    "width": "160px"
   },
   "number_sections": true,
   "sideBar": true,
   "skip_h1_title": true,
   "title_cell": "Table of Contents",
   "title_sidebar": "Contents",
   "toc_cell": false,
   "toc_position": {
    "height": "calc(100% - 180px)",
    "left": "10px",
    "top": "150px",
    "width": "479px"
   },
   "toc_section_display": true,
   "toc_window_display": false
  }
 },
 "nbformat": 4,
 "nbformat_minor": 1
}
